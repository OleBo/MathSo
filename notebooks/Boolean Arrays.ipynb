{
 "cells": [
  {
   "cell_type": "markdown",
   "id": "4e83c483",
   "metadata": {},
   "source": [
    "# Indexing with logical vectors (Boolean Arrays)"
   ]
  },
  {
   "cell_type": "code",
   "execution_count": 1,
   "id": "a8577cdc",
   "metadata": {},
   "outputs": [
    {
     "data": {
      "text/plain": [
       "array([ True, False, False,  True])"
      ]
     },
     "execution_count": 1,
     "metadata": {},
     "output_type": "execute_result"
    }
   ],
   "source": [
    "import numpy as np\n",
    "a = np.array([1, 0, -2, 3])\n",
    "a > 0  # this is a logical vector (Boolean Arrays)"
   ]
  },
  {
   "cell_type": "markdown",
   "id": "ed9c0d7d",
   "metadata": {},
   "source": [
    "**Boolean Arrays as Masks:**  A powerful pattern is to use Boolean arrays as masks, to select particular subsets of the data themselves. Suppose we want an array of all values in the array that are larger than 0:"
   ]
  },
  {
   "cell_type": "code",
   "execution_count": 2,
   "id": "d16a24dd",
   "metadata": {},
   "outputs": [
    {
     "data": {
      "text/plain": [
       "array([1, 3])"
      ]
     },
     "execution_count": 2,
     "metadata": {},
     "output_type": "execute_result"
    }
   ],
   "source": [
    "a[a > 0]  #returns those elements of a where a > 0 is true"
   ]
  },
  {
   "cell_type": "markdown",
   "id": "d63064f5",
   "metadata": {},
   "source": [
    "Returned is a one-dimensional array filled with all the values that meet this condition; in other words, all the values in positions at which the mask array is True.\n",
    "\n",
    "**Exercise:** Shorten a vector by removing the zero elements"
   ]
  },
  {
   "cell_type": "code",
   "execution_count": 3,
   "id": "9e716172",
   "metadata": {},
   "outputs": [
    {
     "data": {
      "text/plain": [
       "array([ 1, -2,  3])"
      ]
     },
     "execution_count": 3,
     "metadata": {},
     "output_type": "execute_result"
    }
   ],
   "source": [
    "a = np.array([1, 0, -2, 3])\n",
    "a = a[a!=0]\n",
    "a"
   ]
  },
  {
   "cell_type": "markdown",
   "id": "e1eb4b97",
   "metadata": {},
   "source": [
    "**Exercise:** Shorten a vector by removing its largest and smallest elements"
   ]
  },
  {
   "cell_type": "code",
   "execution_count": 4,
   "id": "c9d6b7ab",
   "metadata": {},
   "outputs": [
    {
     "data": {
      "text/plain": [
       "array([2, 1, 0])"
      ]
     },
     "execution_count": 4,
     "metadata": {},
     "output_type": "execute_result"
    }
   ],
   "source": [
    "a = np.array([2, 1, -2, 0, -2, 3])\n",
    "a = a[(a < np.max(a)) & (a > np.min(a))]\n",
    "a"
   ]
  },
  {
   "cell_type": "markdown",
   "id": "7956b770",
   "metadata": {},
   "source": [
    "Logical vectors may also be defined directly:\n",
    "\n",
    "A boolean array can be created manually by using dtype=bool when creating the array. Values other than 0, None, False or empty strings are considered True."
   ]
  },
  {
   "cell_type": "code",
   "execution_count": 5,
   "id": "8fbff1ad",
   "metadata": {},
   "outputs": [
    {
     "name": "stdout",
     "output_type": "stream",
     "text": [
      "[False  True  True False]\n"
     ]
    },
    {
     "data": {
      "text/plain": [
       "array([ 0, -2])"
      ]
     },
     "execution_count": 5,
     "metadata": {},
     "output_type": "execute_result"
    }
   ],
   "source": [
    "a = np.array([1, 0, -2, 3])\n",
    "bool_arr = np.array([0, 1, 1, False], dtype=bool)\n",
    "print(bool_arr)\n",
    "a[bool_arr]"
   ]
  },
  {
   "cell_type": "markdown",
   "id": "38cba90c",
   "metadata": {},
   "source": [
    "# Functions of logical vectors\n",
    "The Numpy equivalents of the logical classifiers are\n",
    "$$\n",
    "\\begin{align}\n",
    "np.any(a) & \\Leftrightarrow \\exists k: a_k \\ne 0 \\\\\n",
    "np.all(a) & \\Leftrightarrow \\forall k: a_k \\ne 0\n",
    "\\end{align}\n",
    "$$"
   ]
  },
  {
   "cell_type": "code",
   "execution_count": 6,
   "id": "8bd8d5ab",
   "metadata": {},
   "outputs": [
    {
     "data": {
      "text/plain": [
       "True"
      ]
     },
     "execution_count": 6,
     "metadata": {},
     "output_type": "execute_result"
    }
   ],
   "source": [
    "a = np.array([1, 0, -2, 3])\n",
    "a.any() # or np.any(a)"
   ]
  },
  {
   "cell_type": "code",
   "execution_count": 7,
   "id": "6201beba",
   "metadata": {},
   "outputs": [
    {
     "data": {
      "text/plain": [
       "False"
      ]
     },
     "execution_count": 7,
     "metadata": {},
     "output_type": "execute_result"
    }
   ],
   "source": [
    "a.all() # or np.all(a)"
   ]
  },
  {
   "cell_type": "markdown",
   "id": "57f9d35d",
   "metadata": {},
   "source": [
    "**Exercise:** How can you test if two vectors are the same?\n",
    "\n",
    "You can do an element-wise comparison of the two arrays, followed by the logical classifier all:"
   ]
  },
  {
   "cell_type": "code",
   "execution_count": 8,
   "id": "00ac6524",
   "metadata": {},
   "outputs": [
    {
     "name": "stdout",
     "output_type": "stream",
     "text": [
      "[False  True  True  True]\n"
     ]
    },
    {
     "data": {
      "text/plain": [
       "False"
      ]
     },
     "execution_count": 8,
     "metadata": {},
     "output_type": "execute_result"
    }
   ],
   "source": [
    "a = np.array([1, 0, -2, 3])\n",
    "b = np.array([0, 0, -2, 3])\n",
    "print(a == b)\n",
    "(a == b).all()  # or np.all(a == b)"
   ]
  },
  {
   "cell_type": "markdown",
   "id": "93d00a51",
   "metadata": {},
   "source": [
    "... and how if they are different?"
   ]
  },
  {
   "cell_type": "code",
   "execution_count": 9,
   "id": "336efae6",
   "metadata": {},
   "outputs": [
    {
     "name": "stdout",
     "output_type": "stream",
     "text": [
      "[ True False False False]\n"
     ]
    },
    {
     "data": {
      "text/plain": [
       "True"
      ]
     },
     "execution_count": 9,
     "metadata": {},
     "output_type": "execute_result"
    }
   ],
   "source": [
    "print(a != b)\n",
    "(a != b).any()  # or np.any(a != b)"
   ]
  },
  {
   "cell_type": "markdown",
   "id": "f87525f4",
   "metadata": {},
   "source": [
    "The function where returns all indices of a vector whose elements are nonzero:"
   ]
  },
  {
   "cell_type": "code",
   "execution_count": 10,
   "id": "fe694e81",
   "metadata": {},
   "outputs": [
    {
     "data": {
      "text/plain": [
       "(array([0, 2, 3]),)"
      ]
     },
     "execution_count": 10,
     "metadata": {},
     "output_type": "execute_result"
    }
   ],
   "source": [
    "a = np.array([1, 0, -2, 3])\n",
    "np.where(a)"
   ]
  },
  {
   "cell_type": "code",
   "execution_count": 11,
   "id": "88e100d0",
   "metadata": {},
   "outputs": [
    {
     "data": {
      "text/plain": [
       "(array([0, 2, 3]),)"
      ]
     },
     "execution_count": 11,
     "metadata": {},
     "output_type": "execute_result"
    }
   ],
   "source": [
    "a.nonzero()"
   ]
  },
  {
   "cell_type": "markdown",
   "id": "268e6e67",
   "metadata": {},
   "source": [
    "and now we remove them:"
   ]
  },
  {
   "cell_type": "code",
   "execution_count": 12,
   "id": "bf0cbab1",
   "metadata": {},
   "outputs": [
    {
     "data": {
      "text/plain": [
       "array([ 1, -2,  3])"
      ]
     },
     "execution_count": 12,
     "metadata": {},
     "output_type": "execute_result"
    }
   ],
   "source": [
    "a[np.where(a)[0]]  # same as a = a[a!=0]"
   ]
  },
  {
   "cell_type": "markdown",
   "id": "c1bcf588",
   "metadata": {},
   "source": [
    "The functions isnan and isinf return logical vectors indicating the elements that are  or undefined (NaN):"
   ]
  },
  {
   "cell_type": "code",
   "execution_count": 13,
   "id": "7b26b7d8",
   "metadata": {},
   "outputs": [
    {
     "name": "stdout",
     "output_type": "stream",
     "text": [
      "[ inf  nan -inf  inf]\n"
     ]
    },
    {
     "data": {
      "text/plain": [
       "array([False,  True, False, False])"
      ]
     },
     "execution_count": 13,
     "metadata": {},
     "output_type": "execute_result"
    }
   ],
   "source": [
    "a = np.array([1, 0, -2, 3])\n",
    "\n",
    "import warnings\n",
    "with warnings.catch_warnings():\n",
    "    warnings.simplefilter(\"ignore\")\n",
    "    b = a/0\n",
    "    \n",
    "print(b)\n",
    "np.isnan(b)"
   ]
  },
  {
   "cell_type": "code",
   "execution_count": 14,
   "id": "d8240f22",
   "metadata": {},
   "outputs": [
    {
     "data": {
      "text/plain": [
       "array([ True, False,  True,  True])"
      ]
     },
     "execution_count": 14,
     "metadata": {},
     "output_type": "execute_result"
    }
   ],
   "source": [
    "np.isinf(b)"
   ]
  },
  {
   "cell_type": "markdown",
   "id": "baf474ee",
   "metadata": {},
   "source": [
    "This can be used to remove unwanted NaNs:"
   ]
  },
  {
   "cell_type": "code",
   "execution_count": 15,
   "id": "6101670f",
   "metadata": {},
   "outputs": [
    {
     "data": {
      "text/plain": [
       "array([ inf, -inf,  inf])"
      ]
     },
     "execution_count": 15,
     "metadata": {},
     "output_type": "execute_result"
    }
   ],
   "source": [
    "b[~np.isnan(b)]"
   ]
  },
  {
   "cell_type": "markdown",
   "id": "a3e0222f",
   "metadata": {},
   "source": [
    "# Elements of programming\n",
    "## Conditional statements: if\n",
    "\n",
    "In the If statement the code is executed based on whether it meets the specified condition. It has a code body that only executes if the condition in the if statement is true. The statement can be a single line or a block of code:"
   ]
  },
  {
   "cell_type": "code",
   "execution_count": 16,
   "id": "f04cdadb",
   "metadata": {},
   "outputs": [
    {
     "data": {
      "text/plain": [
       "5"
      ]
     },
     "execution_count": 16,
     "metadata": {},
     "output_type": "execute_result"
    }
   ],
   "source": [
    "a = -5\n",
    "b = 0\n",
    "\n",
    "if a < 0:\n",
    "    b = -a\n",
    "\n",
    "b"
   ]
  },
  {
   "cell_type": "code",
   "execution_count": 17,
   "id": "57fe6124",
   "metadata": {},
   "outputs": [
    {
     "data": {
      "text/plain": [
       "0"
      ]
     },
     "execution_count": 17,
     "metadata": {},
     "output_type": "execute_result"
    }
   ],
   "source": [
    "a = 5\n",
    "b = 0\n",
    "\n",
    "if a < 0:\n",
    "    b = -a\n",
    "\n",
    "b"
   ]
  },
  {
   "cell_type": "markdown",
   "id": "b8dc399a",
   "metadata": {},
   "source": [
    "**If Else** is used when both the true and false parts of a given condition are specified to be executed. When the condition is true, the statement inside the if block is executed; if the condition is false, the statement outside the if block is executed:"
   ]
  },
  {
   "cell_type": "code",
   "execution_count": 18,
   "id": "721531c5",
   "metadata": {},
   "outputs": [
    {
     "data": {
      "text/plain": [
       "5"
      ]
     },
     "execution_count": 18,
     "metadata": {},
     "output_type": "execute_result"
    }
   ],
   "source": [
    "a = 5\n",
    "b = 0\n",
    "\n",
    "if a < 0:\n",
    "    b = -a\n",
    "else:\n",
    "    b = a\n",
    "b"
   ]
  },
  {
   "cell_type": "markdown",
   "id": "eaccb75d",
   "metadata": {},
   "source": [
    "One may add any number of explicit alternatives with conditions using **elseif** and a final alternative using else. Note else must always appear as the last statement and always goes without a condition."
   ]
  },
  {
   "cell_type": "code",
   "execution_count": 19,
   "id": "bfe67e3f",
   "metadata": {},
   "outputs": [
    {
     "data": {
      "text/plain": [
       "nan"
      ]
     },
     "execution_count": 19,
     "metadata": {},
     "output_type": "execute_result"
    }
   ],
   "source": [
    "a = 0\n",
    "b = 0\n",
    "\n",
    "if a < 0:\n",
    "    b = -a\n",
    "elif a==0:\n",
    "    b = float(\"NaN\")\n",
    "else:\n",
    "    b = a\n",
    "b"
   ]
  },
  {
   "cell_type": "markdown",
   "id": "ed1f10c0",
   "metadata": {},
   "source": [
    "**Exercise:** Write a function tiered_interest that accepts an initial balance b and returns the new balance after one year if the annual interest rate p is tiered: \n",
    "$$\n",
    "p = \\begin{cases} \n",
    "      3\\%, & b\\leq 10000 \\\\\n",
    "      2\\%, & 10000 < b\\leq 50000 \\\\\n",
    "      1\\%, & b>50000 \n",
    "   \\end{cases}\n",
    "$$"
   ]
  },
  {
   "cell_type": "code",
   "execution_count": 20,
   "id": "02ea27c5",
   "metadata": {},
   "outputs": [
    {
     "data": {
      "text/plain": [
       "2060.0"
      ]
     },
     "execution_count": 20,
     "metadata": {},
     "output_type": "execute_result"
    },
    {
     "data": {
      "text/plain": [
       "20400.0"
      ]
     },
     "execution_count": 20,
     "metadata": {},
     "output_type": "execute_result"
    },
    {
     "data": {
      "text/plain": [
       "202000.0"
      ]
     },
     "execution_count": 20,
     "metadata": {},
     "output_type": "execute_result"
    }
   ],
   "source": [
    "def tiered_interest(b):\n",
    "    \"\"\"\n",
    "    TIERED_INTEREST computes new balance given initial balance b using tiered interest rat\"\n",
    "    \"\"\"\n",
    "    if b <= 10000:\n",
    "        p = 0.03\n",
    "    elif b <= 50000:\n",
    "        p = 0.02\n",
    "    else:\n",
    "        p = 0.01\n",
    "    return b*(1 + p)\n",
    "tiered_interest(2000)\n",
    "tiered_interest(20000)\n",
    "tiered_interest(200000)"
   ]
  },
  {
   "cell_type": "markdown",
   "id": "1a21b0ed",
   "metadata": {},
   "source": [
    "Does this function still work if $b$ is a vector of balances (e.g. several customers of a bank)? Write a modified function tiered_interest2 for this case."
   ]
  },
  {
   "cell_type": "code",
   "execution_count": 21,
   "id": "eb841756",
   "metadata": {},
   "outputs": [
    {
     "data": {
      "text/plain": [
       "nan"
      ]
     },
     "execution_count": 21,
     "metadata": {},
     "output_type": "execute_result"
    }
   ],
   "source": [
    "def tiered_interest2(b):\n",
    "    \"\"\"\n",
    "    TIERED_INTEREST computes new balance given initial balance b, \n",
    "    which may be a vector, using tiered interest rate\n",
    "    \"\"\"\n",
    "    return b + 0.03*b*(b <= 10000) + 0.02*b*((b > 10000) & (b <= 50000)) + 0.01*b*(b > 50000)\n",
    "tiered_interest2(b)"
   ]
  },
  {
   "cell_type": "markdown",
   "id": "8a2ee2e6",
   "metadata": {},
   "source": [
    "## Several alternatives: switch\n",
    "\n",
    "Let's throw a dice and depending on the result do different things.\n",
    "\n",
    "Before Python 3.10 here a solution with dictionary"
   ]
  },
  {
   "cell_type": "code",
   "execution_count": 22,
   "id": "fcf843fe",
   "metadata": {},
   "outputs": [
    {
     "name": "stdout",
     "output_type": "stream",
     "text": [
      "***\n"
     ]
    }
   ],
   "source": [
    "d = np.random.randint(1, 7)  # draw number\n",
    "\n",
    "# define the function blocks\n",
    "def one():\n",
    "    print('*')\n",
    "\n",
    "def two():\n",
    "    print('**')\n",
    "\n",
    "def three():\n",
    "    print('***')\n",
    "\n",
    "def more():\n",
    "    print('more than 3')\n",
    "\n",
    "# map the inputs to the function blocks\n",
    "options = {1 : one,\n",
    "           2 : two,\n",
    "           3 : three,\n",
    "           4 : more,\n",
    "           5 : more,\n",
    "           6 : more\n",
    "}\n",
    "\n",
    "options[d]()"
   ]
  },
  {
   "cell_type": "markdown",
   "id": "52e23c05",
   "metadata": {},
   "source": [
    "In Python 3.10, they introduced the [pattern matching](https://docs.python.org/3.10/whatsnew/3.10.html#pep-634-structural-pattern-matching):"
   ]
  },
  {
   "cell_type": "raw",
   "id": "5e4c4ef7",
   "metadata": {},
   "source": [
    "d = np.random.randint(1, 7)\n",
    "\n",
    "match d:\n",
    "    case 1:\n",
    "        print('*')\n",
    "    case 2:\n",
    "        print('**')\n",
    "    case 3:\n",
    "        print('***')\n",
    "    case _:\n",
    "        print('more than 3')"
   ]
  },
  {
   "cell_type": "markdown",
   "id": "58ab2fc0",
   "metadata": {},
   "source": [
    "## Recursion\n",
    "\n",
    "A typical example of a recursive definition is the factorial of an integer n:\n",
    "\n",
    "$$\n",
    "n! = \\begin{cases} \n",
    "      1, & n=0 \\\\\n",
    "      n(n-1)!, & n>0\n",
    "   \\end{cases}\n",
    "$$\n",
    "\n",
    "Python functions can call themselves, see the implementation in 'recur_factorial'. Care must be taken to avoid an infinite recursion! This occurs if n is not an integer or negative."
   ]
  },
  {
   "cell_type": "code",
   "execution_count": 23,
   "id": "282dd6cd",
   "metadata": {},
   "outputs": [
    {
     "name": "stdout",
     "output_type": "stream",
     "text": [
      "The factorial of 7 is 5040\n"
     ]
    }
   ],
   "source": [
    "# Factorial of a number using recursion\n",
    "\n",
    "def recur_factorial(n):\n",
    "   if n == 1:\n",
    "       return n\n",
    "   else:\n",
    "       return n*recur_factorial(n-1)\n",
    "\n",
    "num = 7\n",
    "\n",
    "# check if the number is negative\n",
    "if num < 0:\n",
    "   print(\"Sorry, factorial does not exist for negative numbers\")\n",
    "elif num == 0:\n",
    "   print(\"The factorial of 0 is 1\")\n",
    "else:\n",
    "   print(\"The factorial of\", num, \"is\", recur_factorial(num))\n",
    "\n"
   ]
  },
  {
   "cell_type": "markdown",
   "id": "023db488",
   "metadata": {},
   "source": [
    "### Loops: for\n",
    "\n",
    "for loops are used for predetermined repitition and have the general form"
   ]
  },
  {
   "cell_type": "code",
   "execution_count": 24,
   "id": "0240bea7",
   "metadata": {},
   "outputs": [
    {
     "name": "stdout",
     "output_type": "stream",
     "text": [
      "0\n",
      "1\n",
      "2\n",
      "3\n",
      "4\n",
      "5\n"
     ]
    }
   ],
   "source": [
    "for x in range(6):\n",
    "  print(x)"
   ]
  },
  {
   "cell_type": "code",
   "execution_count": 25,
   "id": "af0214a5",
   "metadata": {},
   "outputs": [
    {
     "name": "stdout",
     "output_type": "stream",
     "text": [
      "1\n",
      "3\n",
      "5\n"
     ]
    }
   ],
   "source": [
    "for x in range(1,6,2):\n",
    "  print(x)"
   ]
  },
  {
   "cell_type": "code",
   "execution_count": 26,
   "id": "76238281",
   "metadata": {},
   "outputs": [
    {
     "name": "stdout",
     "output_type": "stream",
     "text": [
      "1.1\n",
      "4.4\n",
      "2\n",
      "7.5\n"
     ]
    }
   ],
   "source": [
    "for x in [1.1, 4.4, 2, 7.5]:\n",
    "  print(x)"
   ]
  },
  {
   "cell_type": "markdown",
   "id": "f947e3a0",
   "metadata": {},
   "source": [
    "Or all in one line:\n",
    "\n",
    "List comprehensions are lists that generate themselves with an internal for loop. They’re a very common feature in Python and they look something like:\n",
    "\n",
    "[thing for thing in list_of_things]"
   ]
  },
  {
   "cell_type": "code",
   "execution_count": 27,
   "id": "2da9f87c",
   "metadata": {},
   "outputs": [
    {
     "name": "stdout",
     "output_type": "stream",
     "text": [
      "1.1\n",
      "4.4\n",
      "2\n",
      "7.5\n"
     ]
    },
    {
     "data": {
      "text/plain": [
       "[None, None, None, None]"
      ]
     },
     "execution_count": 27,
     "metadata": {},
     "output_type": "execute_result"
    }
   ],
   "source": [
    "[print(x) for x in [1.1, 4.4, 2, 7.5]]\n"
   ]
  },
  {
   "cell_type": "code",
   "execution_count": 28,
   "id": "aca18a81",
   "metadata": {},
   "outputs": [
    {
     "data": {
      "text/plain": [
       "[1.2100000000000002, 19.360000000000003, 4, 56.25]"
      ]
     },
     "execution_count": 28,
     "metadata": {},
     "output_type": "execute_result"
    }
   ],
   "source": [
    "[x**2 for x in [1.1, 4.4, 2, 7.5]]"
   ]
  },
  {
   "cell_type": "markdown",
   "id": "12885073",
   "metadata": {},
   "source": [
    "**Exercise:** Write a function fact2 that implements the factorial using a for loop based on the expression \n",
    "\n",
    "$$n!=\\prod_{k=1}^n k$$"
   ]
  },
  {
   "cell_type": "code",
   "execution_count": 29,
   "id": "bef24611",
   "metadata": {},
   "outputs": [
    {
     "data": {
      "text/plain": [
       "5040"
      ]
     },
     "execution_count": 29,
     "metadata": {},
     "output_type": "execute_result"
    }
   ],
   "source": [
    "import math\n",
    "def fact2(n):\n",
    "    \"\"\"\n",
    "    FACT2 computes n! using a for loop\n",
    "    \"\"\"\n",
    "    if math.floor(n) != abs(n):\n",
    "        raise ValueError('Argument must be positive integer!')\n",
    "    \n",
    "    f = 1\n",
    "    for k in range(2,n+1):\n",
    "        f = f*k\n",
    "        \n",
    "    return f\n",
    "\n",
    "fact2(7)"
   ]
  },
  {
   "cell_type": "code",
   "execution_count": null,
   "id": "d37fffec",
   "metadata": {},
   "outputs": [],
   "source": []
  }
 ],
 "metadata": {
  "kernelspec": {
   "display_name": "math-so-rqA8CpC9-py3.9",
   "language": "python",
   "name": "math-so-rqa8cpc9-py3.9"
  },
  "language_info": {
   "codemirror_mode": {
    "name": "ipython",
    "version": 3
   },
   "file_extension": ".py",
   "mimetype": "text/x-python",
   "name": "python",
   "nbconvert_exporter": "python",
   "pygments_lexer": "ipython3",
   "version": "3.9.7"
  }
 },
 "nbformat": 4,
 "nbformat_minor": 5
}
