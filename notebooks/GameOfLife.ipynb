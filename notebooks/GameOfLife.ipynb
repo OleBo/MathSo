{
 "cells": [
  {
   "cell_type": "markdown",
   "metadata": {},
   "source": [
    "# Game of Life\n",
    "\n",
    "The game takes place on a two-dimensional finite or infinite grid whose cells can take two distinct states: “alive” or “dead”.\n",
    "At each stage, the evolution of a cell is entirely determined by its current state and the state of its eight neighbours as follows:\n",
    "1. A dead cell with exactly three living neighbours becomes alive.\n",
    "2. A living cell with two or three living neighbours remains alive.\n",
    "3. In all other cases, the cell becomes (or remains) dead.\n"
   ]
  },
  {
   "cell_type": "code",
   "execution_count": 1,
   "metadata": {},
   "outputs": [],
   "source": [
    "%matplotlib inline\n",
    "import IPython.display\n",
    "from io import BytesIO as bio\n",
    "import PIL.Image\n",
    "import numpy as np\n",
    "from abc import ABC, abstractmethod\n",
    "from copy import copy\n",
    "import matplotlib.pyplot as plt\n",
    "import matplotlib\n",
    "import time\n",
    "#matplotlib.use('GTK3Agg')\n",
    "matplotlib.use('macosx')"
   ]
  },
  {
   "cell_type": "markdown",
   "metadata": {},
   "source": [
    "## Implementation\n",
    "\n",
    "The Game class is made up from a set of rules, an initial state and a maximum size (width and height). The game is started by calling the run_game function and specifying the maximum number of iterations.\n"
   ]
  },
  {
   "cell_type": "code",
   "execution_count": 2,
   "metadata": {},
   "outputs": [],
   "source": [
    "class Game:\n",
    "    def __init__(self, initial_state, rules,max_size):\n",
    "        self.initial_state = initial_state\n",
    "        self.rules = rules\n",
    "        self.max_size = max_size\n",
    "    def run_game(self, it):\n",
    "        state = self.initial_state\n",
    "        previous_state = None\n",
    "        progression = []\n",
    "        i = 0\n",
    "        while (not state.equals(previous_state) and i < it):\n",
    "            i += 1\n",
    "            previous_state = state.copy()\n",
    "            progression.append(previous_state.grid)\n",
    "            state = state.apply_rules(self.rules,self.max_size)\n",
    "        progression.append(state.grid)\n",
    "        return progression"
   ]
  },
  {
   "cell_type": "markdown",
   "metadata": {},
   "source": [
    "There are two possible ways to represent a state:\n",
    "- A dense representation in which all the cells are encoded in a width*height matrix. The dead cells are represented by a zero (or false) and the alive cells are represented by a 1 (or true). The position of a cell on the grid is defined by its position in the matrix.\n",
    "- A sparse representation in which only living cells are encoded. Each living cell is represented by its position (int, int) on the grid. All these living cells are aggregated in a dictionary structure.\n",
    "\n",
    "A sparse representation has the advantage, seeing as it requires less memory (since most cells will be dead) and allows us to iterate through the set of living cells only (since dead cells do not have direct effect on their neighbours).\n",
    "\n",
    "Below, the implementation of the sparse representation. It is made up of a single attribute, the grid, which records the positions of living cells in a set."
   ]
  },
  {
   "cell_type": "code",
   "execution_count": 3,
   "metadata": {},
   "outputs": [],
   "source": [
    "class State(ABC):\n",
    "    @abstractmethod\n",
    "    def copy(self):\n",
    "        pass\n",
    "\n",
    "    @abstractmethod\n",
    "    def apply_rules(self, rules, max_size):\n",
    "        pass\n",
    "\n",
    "    @abstractmethod\n",
    "    def equals(self, other):\n",
    "        pass\n",
    "\n",
    "    @abstractmethod\n",
    "    def get_neighbours(self, elem, max_size):\n",
    "        pass\n",
    "\n",
    "\n",
    "class DenseNumpyState(State):\n",
    "    def __init__(self, grid):\n",
    "        self.grid = grid\n",
    "\n",
    "    def copy(self):\n",
    "        return DenseNumpyState(np.copy(self.grid))\n",
    "\n",
    "    def equals(self, other):\n",
    "        if other is None:\n",
    "            return False\n",
    "        return np.array_equal(self.grid, other.grid)\n",
    "\n",
    "    def apply_rules(self, rules, max_size,):\n",
    "        self.grid = rules.apply_rules(self.grid, max_size, self.get_neighbours)\n",
    "        return self\n",
    "\n",
    "    def get_neighbours(self, elem, max_size):\n",
    "        l = []\n",
    "        if elem[0]-1 >= 0:\n",
    "            l.append((elem[0]-1, elem[1]))\n",
    "        if elem[0]-1 >= 0 and elem[1]-1 >= 0:\n",
    "            l.append((elem[0]-1, elem[1]-1))\n",
    "        if elem[0]-1 >= 0 and elem[1]+1 < max_size:\n",
    "            l.append((elem[0]-1, elem[1]+1))\n",
    "        if elem[1]-1 >= 0:\n",
    "            l.append((elem[0], elem[1]-1))\n",
    "        if elem[1]-1 >= 0 and elem[0]+1 < max_size:\n",
    "            l.append((elem[0]+1, elem[1]-1))\n",
    "        if elem[1]+1 < max_size:\n",
    "            l.append((elem[0], elem[1]+1))\n",
    "        if elem[0]+1 < max_size:\n",
    "            l.append((elem[0]+1, elem[1]))\n",
    "        if elem[1]+1 < max_size and elem[0]+1 < max_size:\n",
    "            l.append((elem[0]+1, elem[1]+1))\n",
    "        return l\n",
    "    \n",
    "class SparseSetState(State):\n",
    "    def __init__(self, grid):\n",
    "        self.grid = grid\n",
    "\n",
    "    def copy(self):\n",
    "        return SparseSetState(copy(self.grid))\n",
    "    \n",
    "    def get_neighbours(self, elem, max_size):\n",
    "        #Returns the neighbours of a live cell if they lie within the bounds of the grid specified by max_size\n",
    "        l = []\n",
    "        if elem[0]-1 >= 0:\n",
    "            l.append((elem[0]-1, elem[1]))\n",
    "        if elem[0]-1 >= 0 and elem[1]-1 >= 0:\n",
    "            l.append((elem[0]-1, elem[1]-1))\n",
    "        if elem[0]-1 >= 0 and elem[1]+1 < max_size:\n",
    "            l.append((elem[0]-1, elem[1]+1))\n",
    "        if elem[1]-1 >= 0:\n",
    "            l.append((elem[0], elem[1]-1))\n",
    "        if elem[1]-1 >= 0 and elem[0]+1 < max_size:\n",
    "            l.append((elem[0]+1, elem[1]-1))\n",
    "        if elem[1]+1 < max_size:\n",
    "            l.append((elem[0], elem[1]+1))\n",
    "        if elem[0]+1 < max_size:\n",
    "            l.append((elem[0]+1, elem[1]))\n",
    "        if elem[1]+1 < max_size and elem[0]+1 < max_size:\n",
    "            l.append((elem[0]+1, elem[1]+1))\n",
    "        return l\n",
    "\n",
    "    def equals(self, other):\n",
    "        if other is None:\n",
    "            return False\n",
    "        return self.grid == other.grid\n",
    "\n",
    "    def apply_rules(self, rules, max_size):\n",
    "        #Calls the actual rules and provides them with the grid and the neighbour function\n",
    "        self.grid = rules.apply_rules(self.grid, max_size,self.get_neighbours)\n",
    "        return self"
   ]
  },
  {
   "cell_type": "markdown",
   "metadata": {},
   "source": [
    "Now, the rules of the game. Applying the rules on the grid of a state returns the grid with the updated dead & alive cells."
   ]
  },
  {
   "cell_type": "code",
   "execution_count": 4,
   "metadata": {},
   "outputs": [],
   "source": [
    "class Rule(ABC):\n",
    "    @abstractmethod\n",
    "    def apply_rules(self, grid, max_size, get_neighbours):\n",
    "        pass\n",
    "\n",
    "class DenseNumpyRules(Rule):\n",
    "    def apply_rules(self, grid, max_size, get_neighbours):\n",
    "        #copied_state = state.copy()\n",
    "        #grid = state.grid\n",
    "\n",
    "        grid_ret = copy(grid)\n",
    "        for i in range(grid.shape[0]):\n",
    "            for j in range(grid.shape[1]):\n",
    "                nb = get_neighbours((i, j), max_size)\n",
    "                counter = 0\n",
    "                for n in nb:\n",
    "                    if grid[n] == True:\n",
    "                        counter += 1\n",
    "                if (counter < 2 or counter > 3):\n",
    "                    grid_ret[i][j] = False\n",
    "                if (counter == 3):\n",
    "                    grid_ret[i][j] = True\n",
    "        return grid_ret\n",
    "\n",
    "\n",
    "class SparseSetRules(Rule):\n",
    "    def apply_rules(self, grid, max_size,get_neighbours):\n",
    "        #grid = state.grid\n",
    "        counter = {}\n",
    "        for elem in grid:\n",
    "            if elem not in counter:\n",
    "                counter[elem]=0\n",
    "            nb = get_neighbours(elem, max_size)\n",
    "            for n in nb:\n",
    "                if n not in counter:\n",
    "                    counter[n] = 1\n",
    "                else:\n",
    "                    counter[n] += 1\n",
    "        for c in counter:\n",
    "            if (counter[c] < 2 or  counter[c] > 3) :\n",
    "                grid.discard(c)\n",
    "            if counter[c] == 3:\n",
    "                grid.add(c)\n",
    "        return grid"
   ]
  },
  {
   "cell_type": "markdown",
   "metadata": {},
   "source": [
    "An example on how to run the game with a configurations."
   ]
  },
  {
   "cell_type": "code",
   "execution_count": 5,
   "metadata": {},
   "outputs": [
    {
     "name": "stdout",
     "output_type": "stream",
     "text": [
      "0.9407830238342285\n"
     ]
    }
   ],
   "source": [
    "MAX_ITER = 1500\n",
    "MAX_SIZE = 80\n",
    "board = {(39, 40),(39, 41),(40, 39),(40, 40),(41, 40)}\n",
    "rules = SparseSetRules()\n",
    "game = Game(SparseSetState(board), rules,MAX_SIZE)\n",
    "t = time.time()\n",
    "rw = game.run_game(MAX_ITER)\n",
    "print(time.time()-t)"
   ]
  },
  {
   "cell_type": "code",
   "execution_count": 6,
   "metadata": {},
   "outputs": [
    {
     "data": {
      "text/plain": [
       "1501"
      ]
     },
     "execution_count": 6,
     "metadata": {},
     "output_type": "execute_result"
    }
   ],
   "source": [
    "#transform dense result to numpy array for representation\n",
    "#res1 = np.array(rw1)\n",
    "len(rw)"
   ]
  },
  {
   "cell_type": "code",
   "execution_count": 7,
   "metadata": {},
   "outputs": [],
   "source": [
    "#transform sparse representation to array for plotting\n",
    "res = np.zeros((len(rw), MAX_SIZE, MAX_SIZE), dtype=bool)\n",
    "for l in range(0,len(rw)):\n",
    "    for key in rw[l]:\n",
    "        res[l,key[0], key[1]] = True"
   ]
  },
  {
   "cell_type": "code",
   "execution_count": 8,
   "metadata": {},
   "outputs": [],
   "source": [
    "#transform array to a gif and save to a file\n",
    "def save_gif(array,file_name):\n",
    "    array = np.uint8(np.clip(array,0,1)*255.0)\n",
    "    frames = []\n",
    "    for frame in range(array.shape[0]):\n",
    "        img = PIL.Image.fromarray(array[frame])\n",
    "        img = img.resize((500, 500))\n",
    "        frames.append(img)\n",
    "    img.save(file_name, save_all=True, duration=33.33, append_images=frames, loop=0,size=(500,500))\n",
    "\n",
    "# save_gif(res,\"small-asdasd.gif\")"
   ]
  },
  {
   "cell_type": "code",
   "execution_count": null,
   "metadata": {},
   "outputs": [],
   "source": []
  }
 ],
 "metadata": {
  "kernelspec": {
   "display_name": "Python 3",
   "language": "python",
   "name": "python3"
  },
  "language_info": {
   "codemirror_mode": {
    "name": "ipython",
    "version": 3
   },
   "file_extension": ".py",
   "mimetype": "text/x-python",
   "name": "python",
   "nbconvert_exporter": "python",
   "pygments_lexer": "ipython3",
   "version": "3.8.3"
  }
 },
 "nbformat": 4,
 "nbformat_minor": 4
}
