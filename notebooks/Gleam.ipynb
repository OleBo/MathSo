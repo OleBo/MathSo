{
 "cells": [
  {
   "cell_type": "markdown",
   "id": "9b056b22",
   "metadata": {},
   "source": [
    "# Gleam\n",
    "\n",
    "[Gleam](https://github.com/dgrtwo/gleam) uses the wtforms package to provide form inputs. You can use any Python graphing package you want with Gleam, such as matplotlib, but we recommend the intuitive ggplot.\n",
    "\n",
    "**[fix:](https://stackoverflow.com/questions/58143253/module-pandas-has-no-attribute-tslib)** \n",
    "\n",
    "date_types = (\n",
    "    pd.tslib.Timestamp,\n",
    "    pd.DatetimeIndex,\n",
    "    pd.Period,\n",
    "    pd.PeriodIndex,\n",
    "    datetime.datetime,\n",
    "    datetime.time\n",
    ")\n",
    "\n",
    "to:\n",
    "\n",
    "date_types = (\n",
    "    pd._tslib.Timestamp,\n",
    "    pd.DatetimeIndex,\n",
    "    pd.Period,\n",
    "    pd.PeriodIndex,\n",
    "    datetime.datetime,\n",
    "    datetime.time\n",
    ")\n"
   ]
  },
  {
   "cell_type": "code",
   "execution_count": 1,
   "id": "e30fe074",
   "metadata": {},
   "outputs": [
    {
     "name": "stdout",
     "output_type": "stream",
     "text": [
      "from __future__ import (absolute_import, division, print_function,\r\n",
      "                        unicode_literals)\r\n",
      "import matplotlib.cbook as cbook\r\n",
      "import numpy as np\r\n",
      "import pandas as pd\r\n",
      "import datetime\r\n",
      "\r\n",
      "\r\n",
      "def format_ticks(ticks):\r\n",
      "    are_ints = True\r\n",
      "    for t in ticks:\r\n",
      "        try:\r\n",
      "            if int(t)!=t:\r\n",
      "                are_ints = False\r\n",
      "        except:\r\n",
      "            return ticks\r\n",
      "\r\n",
      "    if are_ints==True:\r\n",
      "        return [int(t) for t in ticks]\r\n",
      "\r\n",
      "    return ticks\r\n",
      "\r\n",
      "\r\n",
      "def is_sequence_of_strings(obj):\r\n",
      "    \"\"\"\r\n",
      "    Returns true if *obj* is iterable and contains strings\r\n",
      "    \"\"\"\r\n",
      "    # Note: cbook.is_sequence_of_strings has a bug because\r\n",
      "    # a numpy array of strings is recognized as being\r\n",
      "    # string_like and therefore not a sequence of strings\r\n",
      "    if not cbook.iterable(obj):\r\n",
      "        return False\r\n",
      "    if not isinstance(obj, np.ndarray) and cbook.is_string_like(obj):\r\n",
      "        return False\r\n",
      "    for o in obj:\r\n",
      "        if not cbook.is_string_like(o):\r\n",
      "            return False\r\n",
      "    return True\r\n",
      "\r\n",
      "\r\n",
      "def is_sequence_of_booleans(obj):\r\n",
      "    \"\"\"\r\n",
      "    Return True if *obj* is array-like and contains boolean values\r\n",
      "    \"\"\"\r\n",
      "    if not cbook.iterable(obj):\r\n",
      "        return False\r\n",
      "    _it = (isinstance(x, bool) for x in obj)\r\n",
      "    if all(_it):\r\n",
      "        return True\r\n",
      "    return False\r\n",
      "\r\n",
      "\r\n",
      "def is_categorical(obj):\r\n",
      "    \"\"\"\r\n",
      "    Return True if *obj* is array-like and has categorical values\r\n",
      "\r\n",
      "    Categorical values include:\r\n",
      "        - strings\r\n",
      "        - booleans\r\n",
      "    \"\"\"\r\n",
      "    try:\r\n",
      "        float(obj.iloc[0])\r\n",
      "        return False\r\n",
      "    except:\r\n",
      "        return True\r\n",
      "\r\n",
      "    if is_sequence_of_strings(obj):\r\n",
      "        return True\r\n",
      "    if is_sequence_of_booleans(obj):\r\n",
      "        return True\r\n",
      "    return False\r\n",
      "\r\n",
      "def is_iterable(obj):\r\n",
      "    try:\r\n",
      "        iter(obj)\r\n",
      "        return True\r\n",
      "    except:\r\n",
      "        return False\r\n",
      "\r\n",
      "date_types = (\r\n",
      "    pd._tslib.Timestamp,\r\n",
      "    pd.DatetimeIndex,\r\n",
      "    pd.Period,\r\n",
      "    pd.PeriodIndex,\r\n",
      "    datetime.datetime,\r\n",
      "    datetime.time\r\n",
      ")\r\n",
      "\r\n",
      "def is_date(x):\r\n",
      "    return isinstance(x, date_types)\r\n",
      "\r\n",
      "def calc_n_bins(series):\r\n",
      "    \"https://en.wikipedia.org/wiki/Histogram#Number_of_bins_and_width\"\r\n",
      "    q75, q25 = np.percentile(series, [75 , 25])\r\n",
      "    iqr = q75 - q25\r\n",
      "    h = (2 * iqr) / (len(series)**(1/3.))\r\n",
      "    k = (series.max() - series.min()) / h\r\n",
      "    return k\r\n",
      "\r\n",
      "def sorted_unique(series):\r\n",
      "    \"\"\"Return the unique values of *series*, correctly sorted.\"\"\"\r\n",
      "    # This handles Categorical data types, which sorted(series.unique()) fails\r\n",
      "    # on. series.drop_duplicates() is slower than Series(series.unique()).\r\n",
      "    return list(pd.Series(series.unique()).sort_values())\r\n"
     ]
    }
   ],
   "source": [
    "!cat ~/Library/Caches/pypoetry/virtualenvs/math-so-rqA8CpC9-py3.9/lib/python3.9/site-packages/ggplot/utils.py"
   ]
  },
  {
   "cell_type": "markdown",
   "id": "f2689596",
   "metadata": {},
   "source": [
    "from pandas.lib import Timestamp\n",
    "\n",
    "to:\n",
    "\n",
    "from pandas import Timestamp\n",
    "\n",
    "date_types = (\n",
    "    pd.tslib.Timestamp,\n",
    "    pd.DatetimeIndex,\n",
    "    pd.Period,\n",
    "    pd.PeriodIndex,\n",
    "    datetime.datetime,\n",
    "    datetime.time\n",
    ")\n",
    "to:\n",
    "\n",
    "date_types = (\n",
    "    pd.Timestamp,\n",
    "    pd.DatetimeIndex,\n",
    "    pd.Period,\n",
    "    pd.PeriodIndex,\n",
    "    datetime.datetime,\n",
    "    datetime.time\n",
    ")"
   ]
  },
  {
   "cell_type": "code",
   "execution_count": 2,
   "id": "39c83816",
   "metadata": {},
   "outputs": [
    {
     "name": "stdout",
     "output_type": "stream",
     "text": [
      "from __future__ import (absolute_import, division, print_function,\r\n",
      "                        unicode_literals)\r\n",
      "import numpy as np\r\n",
      "from pandas import Timestamp\r\n",
      "import pandas as pd\r\n",
      "import statsmodels.api as sm\r\n",
      "from statsmodels.nonparametric.smoothers_lowess import lowess as smlowess\r\n",
      "from statsmodels.sandbox.regression.predstd import wls_prediction_std\r\n",
      "from statsmodels.stats.outliers_influence import summary_table\r\n",
      "import scipy.stats as stats\r\n",
      "import datetime\r\n",
      "\r\n",
      "date_types = (\r\n",
      "    pd.Timestamp,\r\n",
      "    pd.DatetimeIndex,\r\n",
      "    pd.Period,\r\n",
      "    pd.PeriodIndex,\r\n",
      "    datetime.datetime,\r\n",
      "    datetime.time\r\n",
      ")\r\n",
      "_isdate = lambda x: isinstance(x, date_types)\r\n",
      "SPAN = 2/3.\r\n",
      "ALPHA = 0.05 # significance level for confidence interval\r\n",
      "\r\n",
      "def _snakify(txt):\r\n",
      "    txt = txt.strip().lower()\r\n",
      "    return '_'.join(txt.split())\r\n",
      "\r\n",
      "def _plot_friendly(value):\r\n",
      "    if not isinstance(value, (np.ndarray, pd.Series)):\r\n",
      "        value = pd.Series(value)\r\n",
      "    return value\r\n",
      "\r\n",
      "def lm(x, y, alpha=ALPHA):\r\n",
      "    \"fits an OLS from statsmodels. returns tuple.\"\r\n",
      "    x_is_date = _isdate(x.iloc[0])\r\n",
      "    if x_is_date:\r\n",
      "        x = np.array([i.toordinal() for i in x])\r\n",
      "    X = sm.add_constant(x)\r\n",
      "    fit = sm.OLS(y, X).fit()\r\n",
      "    prstd, iv_l, iv_u = wls_prediction_std(fit)\r\n",
      "    _, summary_values, summary_names = summary_table(fit, alpha=alpha)\r\n",
      "    df = pd.DataFrame(summary_values, columns=map(_snakify, summary_names))\r\n",
      "    # TODO: indexing w/ data frame is messing everything up\r\n",
      "    fittedvalues        = df['predicted_value'].values\r\n",
      "    predict_mean_ci_low = df['mean_ci_95%_low'].values\r\n",
      "    predict_mean_ci_upp = df['mean_ci_95%_upp'].values\r\n",
      "    predict_ci_low      = df['predict_ci_95%_low'].values\r\n",
      "    predict_ci_upp      = df['predict_ci_95%_upp'].values\r\n",
      "\r\n",
      "    if x_is_date:\r\n",
      "        x = [Timestamp.fromordinal(int(i)) for i in x]\r\n",
      "    return (x, fittedvalues, predict_mean_ci_low, predict_mean_ci_upp)\r\n",
      "\r\n",
      "def lowess(x, y, span=SPAN):\r\n",
      "    \"returns y-values estimated using the lowess function in statsmodels.\"\r\n",
      "    \"\"\"\r\n",
      "    for more see\r\n",
      "        statsmodels.nonparametric.smoothers_lowess.lowess\r\n",
      "    \"\"\"\r\n",
      "    x, y = map(_plot_friendly, [x,y])\r\n",
      "    x_is_date = _isdate(x.iloc[0])\r\n",
      "    if x_is_date:\r\n",
      "        x = np.array([i.toordinal() for i in x])\r\n",
      "    result = smlowess(np.array(y), np.array(x), frac=span)\r\n",
      "    x = pd.Series(result[::,0])\r\n",
      "    y = pd.Series(result[::,1])\r\n",
      "    lower, upper = stats.t.interval(span, len(x), loc=0, scale=2)\r\n",
      "    std = np.std(y)\r\n",
      "    y1 = pd.Series(lower * std +  y)\r\n",
      "    y2 = pd.Series(upper * std +  y)\r\n",
      "\r\n",
      "    if x_is_date:\r\n",
      "        x = [Timestamp.fromordinal(int(i)) for i in x]\r\n",
      "\r\n",
      "    return (x, y, y1, y2)\r\n",
      "\r\n",
      "def mavg(x,y, window):\r\n",
      "    \"compute moving average\"\r\n",
      "    x, y = map(_plot_friendly, [x,y])\r\n",
      "    x_is_date = _isdate(x.iloc[0])\r\n",
      "    if x_is_date:\r\n",
      "        x = np.array([i.toordinal() for i in x])\r\n",
      "    std_err = pd.rolling_std(y, window)\r\n",
      "    y = pd.rolling_mean(y, window)\r\n",
      "    y1 = y - std_err\r\n",
      "    y2 = y + std_err\r\n",
      "\r\n",
      "    if x_is_date:\r\n",
      "        x = [Timestamp.fromordinal(int(i)) for i in x]\r\n",
      "    return (x, y, y1, y2)\r\n"
     ]
    }
   ],
   "source": [
    "!cat ~/Library/Caches/pypoetry/virtualenvs/math-so-rqA8CpC9-py3.9/lib/python3.9/site-packages/ggplot/stats/smoothers.py"
   ]
  },
  {
   "cell_type": "code",
   "execution_count": 3,
   "id": "f271ff38",
   "metadata": {},
   "outputs": [],
   "source": [
    "from wtforms import fields\n",
    "from ggplot import *"
   ]
  },
  {
   "cell_type": "markdown",
   "id": "af44f75f",
   "metadata": {},
   "source": [
    "Then import what you'll need from the gleam package:"
   ]
  },
  {
   "cell_type": "code",
   "execution_count": 4,
   "id": "ee6672c9",
   "metadata": {},
   "outputs": [
    {
     "ename": "ModuleNotFoundError",
     "evalue": "No module named 'urlparse'",
     "output_type": "error",
     "traceback": [
      "\u001b[0;31m---------------------------------------------------------------------------\u001b[0m",
      "\u001b[0;31mModuleNotFoundError\u001b[0m                       Traceback (most recent call last)",
      "\u001b[0;32m/var/folders/q3/x4m21yzx5zg2bqzxxrmym06m0000gn/T/ipykernel_8259/5954969.py\u001b[0m in \u001b[0;36m<module>\u001b[0;34m\u001b[0m\n\u001b[0;32m----> 1\u001b[0;31m \u001b[0;32mfrom\u001b[0m \u001b[0mgleam\u001b[0m \u001b[0;32mimport\u001b[0m \u001b[0mPage\u001b[0m\u001b[0;34m,\u001b[0m \u001b[0mpanels\u001b[0m\u001b[0;34m\u001b[0m\u001b[0;34m\u001b[0m\u001b[0m\n\u001b[0m",
      "\u001b[0;32m~/Library/Caches/pypoetry/virtualenvs/math-so-rqA8CpC9-py3.9/lib/python3.9/site-packages/gleam/__init__.py\u001b[0m in \u001b[0;36m<module>\u001b[0;34m\u001b[0m\n\u001b[1;32m      5\u001b[0m \u001b[0;32mimport\u001b[0m \u001b[0mos\u001b[0m\u001b[0;34m\u001b[0m\u001b[0;34m\u001b[0m\u001b[0m\n\u001b[1;32m      6\u001b[0m \u001b[0;32mimport\u001b[0m \u001b[0mjson\u001b[0m\u001b[0;34m\u001b[0m\u001b[0;34m\u001b[0m\u001b[0m\n\u001b[0;32m----> 7\u001b[0;31m \u001b[0;32mimport\u001b[0m \u001b[0murlparse\u001b[0m\u001b[0;34m\u001b[0m\u001b[0;34m\u001b[0m\u001b[0m\n\u001b[0m\u001b[1;32m      8\u001b[0m \u001b[0;32mfrom\u001b[0m \u001b[0mcollections\u001b[0m \u001b[0;32mimport\u001b[0m \u001b[0mnamedtuple\u001b[0m\u001b[0;34m\u001b[0m\u001b[0;34m\u001b[0m\u001b[0m\n\u001b[1;32m      9\u001b[0m \u001b[0;34m\u001b[0m\u001b[0m\n",
      "\u001b[0;31mModuleNotFoundError\u001b[0m: No module named 'urlparse'"
     ]
    }
   ],
   "source": [
    "from gleam import Page, panels"
   ]
  },
  {
   "cell_type": "markdown",
   "id": "c59c4575",
   "metadata": {},
   "source": [
    "An Inputs panel lets you specify the inputs that the user can control. Here, we add a string input for the title, a multiple choice select field for the Y-axis variable, and a checkbox for the smoother:"
   ]
  },
  {
   "cell_type": "code",
   "execution_count": 5,
   "id": "05067663",
   "metadata": {},
   "outputs": [
    {
     "ename": "NameError",
     "evalue": "name 'panels' is not defined",
     "output_type": "error",
     "traceback": [
      "\u001b[0;31m---------------------------------------------------------------------------\u001b[0m",
      "\u001b[0;31mNameError\u001b[0m                                 Traceback (most recent call last)",
      "\u001b[0;32m/var/folders/q3/x4m21yzx5zg2bqzxxrmym06m0000gn/T/ipykernel_8259/2100078673.py\u001b[0m in \u001b[0;36m<module>\u001b[0;34m\u001b[0m\n\u001b[0;32m----> 1\u001b[0;31m \u001b[0;32mclass\u001b[0m \u001b[0mScatterInput\u001b[0m\u001b[0;34m(\u001b[0m\u001b[0mpanels\u001b[0m\u001b[0;34m.\u001b[0m\u001b[0mInputs\u001b[0m\u001b[0;34m)\u001b[0m\u001b[0;34m:\u001b[0m\u001b[0;34m\u001b[0m\u001b[0;34m\u001b[0m\u001b[0m\n\u001b[0m\u001b[1;32m      2\u001b[0m     \u001b[0mtitle\u001b[0m \u001b[0;34m=\u001b[0m \u001b[0mfields\u001b[0m\u001b[0;34m.\u001b[0m\u001b[0mStringField\u001b[0m\u001b[0;34m(\u001b[0m\u001b[0mlabel\u001b[0m\u001b[0;34m=\u001b[0m\u001b[0;34m\"Title of plot:\"\u001b[0m\u001b[0;34m)\u001b[0m\u001b[0;34m\u001b[0m\u001b[0;34m\u001b[0m\u001b[0m\n\u001b[1;32m      3\u001b[0m     yvar = fields.SelectField(label=\"Y axis\",\n\u001b[1;32m      4\u001b[0m                               choices=[(\"beef\", \"Beef\"),\n\u001b[1;32m      5\u001b[0m                                        (\"pork\", \"Pork\")])\n",
      "\u001b[0;31mNameError\u001b[0m: name 'panels' is not defined"
     ]
    }
   ],
   "source": [
    "class ScatterInput(panels.Inputs):\n",
    "    title = fields.StringField(label=\"Title of plot:\")\n",
    "    yvar = fields.SelectField(label=\"Y axis\",\n",
    "                              choices=[(\"beef\", \"Beef\"),\n",
    "                                       (\"pork\", \"Pork\")])\n",
    "    smoother = fields.BooleanField(label=\"Smoothing Curve\")"
   ]
  },
  {
   "cell_type": "markdown",
   "id": "3148415d",
   "metadata": {},
   "source": [
    "The output is where your actual plotting goes. It comes in the form of a plot method, which takes an argument inputs containing the inputs from above. Here we use ggplot to make the plot, taking the arguments into consideration. (You could use any Python graphing packages in this function- the sky's the limit, as long as it creates a plot)."
   ]
  },
  {
   "cell_type": "code",
   "execution_count": 6,
   "id": "4b7ed99d",
   "metadata": {},
   "outputs": [
    {
     "ename": "NameError",
     "evalue": "name 'panels' is not defined",
     "output_type": "error",
     "traceback": [
      "\u001b[0;31m---------------------------------------------------------------------------\u001b[0m",
      "\u001b[0;31mNameError\u001b[0m                                 Traceback (most recent call last)",
      "\u001b[0;32m/var/folders/q3/x4m21yzx5zg2bqzxxrmym06m0000gn/T/ipykernel_8259/2414673446.py\u001b[0m in \u001b[0;36m<module>\u001b[0;34m\u001b[0m\n\u001b[0;32m----> 1\u001b[0;31m \u001b[0;32mclass\u001b[0m \u001b[0mScatterPlot\u001b[0m\u001b[0;34m(\u001b[0m\u001b[0mpanels\u001b[0m\u001b[0;34m.\u001b[0m\u001b[0mPlot\u001b[0m\u001b[0;34m)\u001b[0m\u001b[0;34m:\u001b[0m\u001b[0;34m\u001b[0m\u001b[0;34m\u001b[0m\u001b[0m\n\u001b[0m\u001b[1;32m      2\u001b[0m     \u001b[0mname\u001b[0m \u001b[0;34m=\u001b[0m \u001b[0;34m\"Scatter\"\u001b[0m\u001b[0;34m\u001b[0m\u001b[0;34m\u001b[0m\u001b[0m\n\u001b[1;32m      3\u001b[0m \u001b[0;34m\u001b[0m\u001b[0m\n\u001b[1;32m      4\u001b[0m     \u001b[0;32mdef\u001b[0m \u001b[0mplot\u001b[0m\u001b[0;34m(\u001b[0m\u001b[0mself\u001b[0m\u001b[0;34m,\u001b[0m \u001b[0minputs\u001b[0m\u001b[0;34m)\u001b[0m\u001b[0;34m:\u001b[0m\u001b[0;34m\u001b[0m\u001b[0;34m\u001b[0m\u001b[0m\n\u001b[1;32m      5\u001b[0m         \u001b[0mp\u001b[0m \u001b[0;34m=\u001b[0m \u001b[0mggplot\u001b[0m\u001b[0;34m(\u001b[0m\u001b[0mmeat\u001b[0m\u001b[0;34m,\u001b[0m \u001b[0maes\u001b[0m\u001b[0;34m(\u001b[0m\u001b[0mx\u001b[0m\u001b[0;34m=\u001b[0m\u001b[0;34m'date'\u001b[0m\u001b[0;34m,\u001b[0m \u001b[0my\u001b[0m\u001b[0;34m=\u001b[0m\u001b[0minputs\u001b[0m\u001b[0;34m.\u001b[0m\u001b[0myvar\u001b[0m\u001b[0;34m)\u001b[0m\u001b[0;34m)\u001b[0m\u001b[0;34m\u001b[0m\u001b[0;34m\u001b[0m\u001b[0m\n",
      "\u001b[0;31mNameError\u001b[0m: name 'panels' is not defined"
     ]
    }
   ],
   "source": [
    "class ScatterPlot(panels.Plot):\n",
    "    name = \"Scatter\"\n",
    "\n",
    "    def plot(self, inputs):\n",
    "        p = ggplot(meat, aes(x='date', y=inputs.yvar))\n",
    "        if inputs.smoother:\n",
    "            p = p + stat_smooth(color=\"blue\")\n",
    "        p = p + geom_point() + ggtitle(inputs.title)\n",
    "        return p"
   ]
  },
  {
   "cell_type": "markdown",
   "id": "ca897f35",
   "metadata": {},
   "source": [
    "Constructing an HTML page to allow this control is as simple as combining the input and the output:"
   ]
  },
  {
   "cell_type": "code",
   "execution_count": 7,
   "id": "c24eca1f",
   "metadata": {},
   "outputs": [
    {
     "ename": "NameError",
     "evalue": "name 'Page' is not defined",
     "output_type": "error",
     "traceback": [
      "\u001b[0;31m---------------------------------------------------------------------------\u001b[0m",
      "\u001b[0;31mNameError\u001b[0m                                 Traceback (most recent call last)",
      "\u001b[0;32m/var/folders/q3/x4m21yzx5zg2bqzxxrmym06m0000gn/T/ipykernel_8259/2533469921.py\u001b[0m in \u001b[0;36m<module>\u001b[0;34m\u001b[0m\n\u001b[0;32m----> 1\u001b[0;31m \u001b[0;32mclass\u001b[0m \u001b[0mScatterPage\u001b[0m\u001b[0;34m(\u001b[0m\u001b[0mPage\u001b[0m\u001b[0;34m)\u001b[0m\u001b[0;34m:\u001b[0m\u001b[0;34m\u001b[0m\u001b[0;34m\u001b[0m\u001b[0m\n\u001b[0m\u001b[1;32m      2\u001b[0m     \u001b[0minput\u001b[0m \u001b[0;34m=\u001b[0m \u001b[0mScatterInput\u001b[0m\u001b[0;34m(\u001b[0m\u001b[0;34m)\u001b[0m\u001b[0;34m\u001b[0m\u001b[0;34m\u001b[0m\u001b[0m\n\u001b[1;32m      3\u001b[0m     \u001b[0moutput\u001b[0m \u001b[0;34m=\u001b[0m \u001b[0mScatterPlot\u001b[0m\u001b[0;34m(\u001b[0m\u001b[0;34m)\u001b[0m\u001b[0;34m\u001b[0m\u001b[0;34m\u001b[0m\u001b[0m\n",
      "\u001b[0;31mNameError\u001b[0m: name 'Page' is not defined"
     ]
    }
   ],
   "source": [
    "class ScatterPage(Page):\n",
    "    input = ScatterInput()\n",
    "    output = ScatterPlot()"
   ]
  },
  {
   "cell_type": "markdown",
   "id": "6a47dc07",
   "metadata": {},
   "source": [
    "You can then run the app with:"
   ]
  },
  {
   "cell_type": "code",
   "execution_count": null,
   "id": "2b50cc89",
   "metadata": {},
   "outputs": [],
   "source": [
    "ScatterPage.run()"
   ]
  }
 ],
 "metadata": {
  "kernelspec": {
   "display_name": "Python 3.9.7 (math-so)",
   "language": "python",
   "name": "math-so"
  },
  "language_info": {
   "codemirror_mode": {
    "name": "ipython",
    "version": 3
   },
   "file_extension": ".py",
   "mimetype": "text/x-python",
   "name": "python",
   "nbconvert_exporter": "python",
   "pygments_lexer": "ipython3",
   "version": "3.9.7"
  },
  "latex_envs": {
   "LaTeX_envs_menu_present": true,
   "autoclose": false,
   "autocomplete": true,
   "bibliofile": "biblio.bib",
   "cite_by": "apalike",
   "current_citInitial": 1,
   "eqLabelWithNumbers": true,
   "eqNumInitial": 1,
   "hotkeys": {
    "equation": "Ctrl-E",
    "itemize": "Ctrl-I"
   },
   "labels_anchors": false,
   "latex_user_defs": false,
   "report_style_numbering": true,
   "user_envs_cfg": false
  }
 },
 "nbformat": 4,
 "nbformat_minor": 5
}
