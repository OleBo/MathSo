{
 "cells": [
  {
   "cell_type": "markdown",
   "id": "8ce9a2a4",
   "metadata": {},
   "source": [
    "# Loops (cont.)\n",
    "## for loops vs. array sums\n",
    "If possible, loops should be vectorised, i.e. replaced by array sums. This is usually faster, e.g. consider the series $s_N=\\sum_{n=1}^N \\frac{1}{n^2}$:"
   ]
  },
  {
   "cell_type": "code",
   "execution_count": 1,
   "id": "b3002721",
   "metadata": {},
   "outputs": [
    {
     "data": {
      "text/plain": [
       "1.6449240668982423"
      ]
     },
     "execution_count": 1,
     "metadata": {},
     "output_type": "execute_result"
    }
   ],
   "source": [
    "import numpy as np\n",
    "\n",
    "N = 1e5\n",
    "s=0\n",
    "for n in np.arange(1,N+1):\n",
    "    s=s+1/n**2\n",
    "s"
   ]
  },
  {
   "cell_type": "code",
   "execution_count": 2,
   "id": "41683191",
   "metadata": {},
   "outputs": [
    {
     "data": {
      "text/plain": [
       "1.644924066898227"
      ]
     },
     "execution_count": 2,
     "metadata": {},
     "output_type": "execute_result"
    }
   ],
   "source": [
    "n=np.arange(1,N+1)\n",
    "s=(1/n**2).sum()\n",
    "s"
   ]
  },
  {
   "cell_type": "code",
   "execution_count": 3,
   "id": "f70b1a46",
   "metadata": {},
   "outputs": [
    {
     "name": "stdout",
     "output_type": "stream",
     "text": [
      "4.187500198\n",
      "0.014056794000000039\n"
     ]
    }
   ],
   "source": [
    "import timeit\n",
    "print(timeit.timeit(stmt='for n in np.arange(1,N+1): s=s+1/n**2',setup='import numpy as np; N = 1e5; s=0',number=100))\n",
    "print(timeit.timeit(stmt='(1/n**2).sum()',setup='import numpy as np; N = 1e5; n=np.arange(1,N+1)',number=100))"
   ]
  },
  {
   "cell_type": "markdown",
   "id": "fe440606",
   "metadata": {},
   "source": [
    "Compare with $\\lim_{N\\to\\infty} s_N = \\lim_{N\\to\\infty}\\sum_{n=1}^N \\frac{1}{n^2}= \\frac{\\pi^2}{6}$ ([Basel Problem](https://en.wikipedia.org/wiki/Basel_problem))"
   ]
  },
  {
   "cell_type": "code",
   "execution_count": 4,
   "id": "c16740ae",
   "metadata": {},
   "outputs": [
    {
     "data": {
      "text/plain": [
       "-9.999949999395241e-06"
      ]
     },
     "execution_count": 4,
     "metadata": {},
     "output_type": "execute_result"
    }
   ],
   "source": [
    "s - np.pi**2/6"
   ]
  },
  {
   "cell_type": "markdown",
   "id": "340a9393",
   "metadata": {},
   "source": [
    "**Exercise:** Approximate the alternating series $1-\\frac{1}{3}+\\frac{1}{5}-\\frac{1}{7}+\\dots$ using a) a for loop and b) an array sum.\n"
   ]
  },
  {
   "cell_type": "code",
   "execution_count": 5,
   "id": "90d61fce",
   "metadata": {},
   "outputs": [
    {
     "data": {
      "text/plain": [
       "0.7853931633974454"
      ]
     },
     "execution_count": 5,
     "metadata": {},
     "output_type": "execute_result"
    }
   ],
   "source": [
    "N = 1e5\n",
    "s = 0\n",
    "for n  in np.arange(1,N/2+1):\n",
    "    s = s + (-1)**(n-1)/(2*n-1)\n",
    "s"
   ]
  },
  {
   "cell_type": "markdown",
   "id": "97787882",
   "metadata": {},
   "source": [
    "Computing $(-1)^n$ takes a lot of time. A faster version is:"
   ]
  },
  {
   "cell_type": "code",
   "execution_count": 6,
   "id": "ad6707a6",
   "metadata": {},
   "outputs": [
    {
     "data": {
      "text/plain": [
       "0.7853931633974454"
      ]
     },
     "execution_count": 6,
     "metadata": {},
     "output_type": "execute_result"
    }
   ],
   "source": [
    "s = 0\n",
    "v = 1\n",
    "for n in np.arange(1,N+1,2):\n",
    "    s = s + v/n\n",
    "    v = -v\n",
    "s"
   ]
  },
  {
   "cell_type": "markdown",
   "id": "86dbf65f",
   "metadata": {},
   "source": [
    "Array sum"
   ]
  },
  {
   "cell_type": "code",
   "execution_count": 7,
   "id": "d6ef5adc",
   "metadata": {},
   "outputs": [
    {
     "data": {
      "text/plain": [
       "0.7853931633974485"
      ]
     },
     "execution_count": 7,
     "metadata": {},
     "output_type": "execute_result"
    }
   ],
   "source": [
    "n=np.arange(1,N/2+1)\n",
    "s = ((-1)**(n-1)/(2*n - 1)).sum()\n",
    "s"
   ]
  },
  {
   "cell_type": "markdown",
   "id": "01648f9a",
   "metadata": {},
   "source": [
    "The fastest version is obtained by splitting the series (note this is only correct for the partial sums as the series is not absolutely convergent):"
   ]
  },
  {
   "cell_type": "code",
   "execution_count": 8,
   "id": "c9e028e9",
   "metadata": {},
   "outputs": [
    {
     "data": {
      "text/plain": [
       "0.7853931633974491"
      ]
     },
     "execution_count": 8,
     "metadata": {},
     "output_type": "execute_result"
    }
   ],
   "source": [
    "n=np.arange(1,N-1,4)\n",
    "s = (1/n - 1/(n+2)).sum()\n",
    "s"
   ]
  },
  {
   "cell_type": "code",
   "execution_count": 9,
   "id": "5b6361ef",
   "metadata": {},
   "outputs": [
    {
     "name": "stdout",
     "output_type": "stream",
     "text": [
      "3.7423709470000004\n",
      "1.166174591999999\n",
      "0.057035606999999544\n",
      "0.008393642000001478\n"
     ]
    }
   ],
   "source": [
    "print(timeit.timeit(stmt='for n  in np.arange(1,N/2+1): s = s + (-1)**(n-1)/(2*n-1)',setup='import numpy as np; N = 1e5; s=0',number=100))\n",
    "print(timeit.timeit(stmt='for n in np.arange(1,N+1,2): (s,v)=(s + v/n,-v)',setup='import numpy as np; N = 1e5; s = 0; v = 1',number=100))\n",
    "print(timeit.timeit(stmt='((-1)**(n-1)/(2*n - 1)).sum()',setup='import numpy as np; N = 1e5; n=np.arange(1,N/2+1)',number=100))\n",
    "print(timeit.timeit(stmt='(1/n - 1/(n+2)).sum()',setup='import numpy as np; N = 1e5; n=np.arange(1,N-1,4)',number=100))"
   ]
  },
  {
   "cell_type": "markdown",
   "id": "c74b0f2a",
   "metadata": {},
   "source": [
    "## while loops"
   ]
  },
  {
   "cell_type": "code",
   "execution_count": 10,
   "id": "51face47",
   "metadata": {},
   "outputs": [
    {
     "name": "stdout",
     "output_type": "stream",
     "text": [
      "1\n",
      "2\n",
      "3\n",
      "4\n",
      "5\n"
     ]
    }
   ],
   "source": [
    "k = 1\n",
    "while k <= 5:\n",
    "    print(k);\n",
    "    k = k + 1  # do not forget (otherwise infinite loop)!"
   ]
  },
  {
   "cell_type": "markdown",
   "id": "ce2a5eff",
   "metadata": {},
   "source": [
    "**Exercise:** Rewrite the function fact2 from the last session using a while loop ->fact3"
   ]
  },
  {
   "cell_type": "code",
   "execution_count": 11,
   "id": "e086354f",
   "metadata": {},
   "outputs": [
    {
     "data": {
      "text/plain": [
       "5040"
      ]
     },
     "execution_count": 11,
     "metadata": {},
     "output_type": "execute_result"
    }
   ],
   "source": [
    "import math\n",
    "def fact3(n):\n",
    "    \"\"\"\n",
    "    FACT3 implements the factorial of n using a while loop\n",
    "    \"\"\"\n",
    "    if math.floor(n) != abs(n):\n",
    "        raise ValueError('Argument muss eine natuerliche Zahl sein!')\n",
    "    f = 1\n",
    "    k = 1\n",
    "    while k <= n:\n",
    "        f = f*k\n",
    "        k = k+1\n",
    "    return f\n",
    "fact3(7)"
   ]
  },
  {
   "cell_type": "markdown",
   "id": "94464096",
   "metadata": {},
   "source": [
    "while loops are particularly suitable for random events, e.g. throw a dice and guess the result:"
   ]
  },
  {
   "cell_type": "raw",
   "id": "c10d15da",
   "metadata": {},
   "source": [
    "d = np.random.randint(1, 7)  # draw number\n",
    "g = int(input('Guess what the dice shows: '))\n",
    "while g != d:\n",
    "    g = int(input('Wrong, try again: '))"
   ]
  },
  {
   "cell_type": "markdown",
   "id": "134d6141",
   "metadata": {},
   "source": [
    "The statement break leaves the loop, continue returns to the beginning of the loop:"
   ]
  },
  {
   "cell_type": "raw",
   "id": "e9c2f4ee",
   "metadata": {},
   "source": [
    "d = np.random.randint(1, 7)  # draw number\n",
    "g = int(input('Guess what the dice shows: '))\n",
    "while g != d:\n",
    "    g = int(input('Wrong, try again: '))\n",
    "    if g == 0:\n",
    "        break    # leaves the loop\n",
    "    if (g==np.arange(1,7)).any():\n",
    "        continue   # returns to the beginning of the loop\n",
    "    print(\"Invalid input, only integers between 1 and 6 are allowed\")\n",
    "if g == d:\n",
    "    print(\"Correct!\")\n",
    "else:\n",
    "    print(\"Getting bored?!\")"
   ]
  },
  {
   "cell_type": "markdown",
   "id": "69b05bdc",
   "metadata": {},
   "source": [
    "**Exercise:** A student takes out a loan of 10 000 € to purchase a used car. The interest rate is 2% per month if the remaining balance is greater than 5000 € and 1% otherwise. Each month (except for the last) she pays back 300 € after the interest has been added. Write a script that displays the remaining balance at the end of each month. After how many months is the loan repaid completely? What is the last pay back? -> loan"
   ]
  },
  {
   "cell_type": "code",
   "execution_count": 12,
   "id": "042eaf42",
   "metadata": {},
   "outputs": [
    {
     "name": "stdout",
     "output_type": "stream",
     "text": [
      "['End of month', 'Balance']\n",
      "[1, 9900.0]\n",
      "[2, 9798.0]\n",
      "[3, 9693.960000000001]\n",
      "[4, 9587.8392]\n",
      "[5, 9479.595984000001]\n",
      "[6, 9369.187903680002]\n",
      "[7, 9256.571661753602]\n",
      "[8, 9141.703094988674]\n",
      "[9, 9024.537156888447]\n",
      "[10, 8905.027900026216]\n",
      "[11, 8783.12845802674]\n",
      "[12, 8658.791027187275]\n",
      "[13, 8531.96684773102]\n",
      "[14, 8402.606184685641]\n",
      "[15, 8270.658308379354]\n",
      "[16, 8136.071474546941]\n",
      "[17, 7998.79290403788]\n",
      "[18, 7858.768762118638]\n",
      "[19, 7715.944137361011]\n",
      "[20, 7570.263020108231]\n",
      "[21, 7421.668280510396]\n",
      "[22, 7270.101646120604]\n",
      "[23, 7115.503679043016]\n",
      "[24, 6957.813752623876]\n",
      "[25, 6796.970027676353]\n",
      "[26, 6632.90942822988]\n",
      "[27, 6465.5676167944775]\n",
      "[28, 6294.878969130367]\n",
      "[29, 6120.776548512975]\n",
      "[30, 5943.192079483234]\n",
      "[31, 5762.055921072899]\n",
      "[32, 5577.297039494357]\n",
      "[33, 5388.842980284244]\n",
      "[34, 5196.619839889929]\n",
      "[35, 5000.552236687728]\n",
      "[36, 4800.563281421482]\n",
      "[37, 4548.568914235697]\n",
      "[38, 4294.054603378054]\n",
      "[39, 4036.995149411834]\n",
      "[40, 3777.3651009059527]\n",
      "[41, 3515.138751915012]\n",
      "[42, 3250.2901394341625]\n",
      "[43, 2982.793040828504]\n",
      "[44, 2712.6209712367895]\n",
      "[45, 2439.7471809491576]\n",
      "[46, 2164.144652758649]\n",
      "[47, 1885.7860992862356]\n",
      "[48, 1604.643960279098]\n",
      "[49, 1320.690399881889]\n",
      "[50, 1033.897303880708]\n",
      "[51, 744.2362769195151]\n",
      "[52, 451.6786396887103]\n",
      "[53, 156.19542608559738]\n",
      "The last payment at the end of month\n",
      "54\n",
      "is\n",
      "157.75738034645335\n"
     ]
    }
   ],
   "source": [
    "balance = 10000\n",
    "month = 0\n",
    "\n",
    "print(['End of month','Balance'])\n",
    "while balance > 0:\n",
    "    month = month + 1\n",
    "    if balance > 5000:\n",
    "        balance = balance*1.02  \n",
    "    else:\n",
    "        balance = balance*1.01\n",
    "    if balance >= 300:\n",
    "        balance = balance - 300\n",
    "        print([month, balance])\n",
    "    else:\n",
    "        print('The last payment at the end of month');\n",
    "        print(month)\n",
    "        print('is')\n",
    "        print(balance)\n",
    "        balance = 0"
   ]
  },
  {
   "cell_type": "markdown",
   "id": "03335daf",
   "metadata": {},
   "source": [
    "# Input and output\n",
    "## String formatting\n",
    "\n",
    "So far we have used print for text output. An array passed to print may either contain only numbers or only strings:"
   ]
  },
  {
   "cell_type": "code",
   "execution_count": 13,
   "id": "66c95633",
   "metadata": {},
   "outputs": [
    {
     "name": "stdout",
     "output_type": "stream",
     "text": [
      "3.141592653589793\n"
     ]
    }
   ],
   "source": [
    "print(math.pi)"
   ]
  },
  {
   "cell_type": "code",
   "execution_count": 15,
   "id": "06d90c36",
   "metadata": {},
   "outputs": [
    {
     "name": "stdout",
     "output_type": "stream",
     "text": [
      "[3.141592653589793, 2.718281828459045]\n"
     ]
    }
   ],
   "source": [
    "print([math.pi, math.exp(1)])"
   ]
  },
  {
   "cell_type": "code",
   "execution_count": 20,
   "id": "ab62eca7",
   "metadata": {},
   "outputs": [
    {
     "name": "stdout",
     "output_type": "stream",
     "text": [
      "The area of the unit circle is 3.141592653589793 and Eulers number is 2.718281828459045\n"
     ]
    }
   ],
   "source": [
    "print('The area of the unit circle is ' + str(math.pi) + ' and Euler''s number is ' + str(math.exp(1)))"
   ]
  },
  {
   "cell_type": "markdown",
   "id": "4aa27e8d",
   "metadata": {},
   "source": [
    "### str.format()\n",
    "Strings can be formatted in a more flexible way using format. Formatting is handled by calling .format() on a string object. You can use format() to do simple positional formatting:"
   ]
  },
  {
   "cell_type": "code",
   "execution_count": 21,
   "id": "2d3379e9",
   "metadata": {},
   "outputs": [
    {
     "name": "stdout",
     "output_type": "stream",
     "text": [
      "The area of the unit circle is 3.141592653589793 and Euler's number is 2.718281828459045.\n",
      "\n"
     ]
    }
   ],
   "source": [
    "print('The area of the unit circle is {} and Euler\\'s number is {}.\\n'.format(math.pi, math.exp(1)))"
   ]
  },
  {
   "cell_type": "markdown",
   "id": "1822e1dd",
   "metadata": {},
   "source": [
    "This is quite a powerful feature as it allows for re-arranging the order of display without changing the arguments passed to format():"
   ]
  },
  {
   "cell_type": "code",
   "execution_count": 23,
   "id": "04e15c0c",
   "metadata": {},
   "outputs": [
    {
     "name": "stdout",
     "output_type": "stream",
     "text": [
      "The area of the unit circle is 3.141592653589793 and Euler's number is 2.718281828459045.\n",
      "\n",
      "The area of the unit circle is 2.718281828459045 and Euler's number is 3.141592653589793.\n",
      "\n"
     ]
    }
   ],
   "source": [
    "print('The area of the unit circle is {pi} and Euler\\'s number is {exp}.\\n'.format(pi=math.pi, exp=math.exp(1)))\n",
    "print('The area of the unit circle is {exp} and Euler\\'s number is {pi}.\\n'.format(pi=math.pi, exp=math.exp(1)))"
   ]
  },
  {
   "cell_type": "markdown",
   "id": "2f5427b3",
   "metadata": {},
   "source": [
    "You get the hex output of an Integer by adding a :x suffix. It pays off to read up on this [string formatting mini-language](https://docs.python.org/3/library/string.html#string-formatting) in the Python documentation."
   ]
  },
  {
   "cell_type": "code",
   "execution_count": 27,
   "id": "d72cd405",
   "metadata": {},
   "outputs": [
    {
     "name": "stdout",
     "output_type": "stream",
     "text": [
      "The factorial of 5 is 120 and and in hexadecimal it is 0x78.\n",
      "\n"
     ]
    }
   ],
   "source": [
    "print('The factorial of 5 is {fac} and and in hexadecimal it is 0x{fac:x}.\\n'.format(fac=math.factorial(5)))"
   ]
  },
  {
   "cell_type": "markdown",
   "id": "c874dc83",
   "metadata": {},
   "source": [
    "### String Interpolation / f-Strings\n",
    "Python 3.6 added a new [string formatting approach called formatted string literals](https://dbader.org/blog/cool-new-features-in-python-3-6) or “[f-strings](https://realpython.com/python-f-strings/)”. This new way of formatting strings lets you use embedded Python expressions inside string constants. Here’s a simple example to give you a feel for the feature:"
   ]
  },
  {
   "cell_type": "code",
   "execution_count": 28,
   "id": "442f4018",
   "metadata": {},
   "outputs": [
    {
     "data": {
      "text/plain": [
       "'Hello, Bob!'"
      ]
     },
     "execution_count": 28,
     "metadata": {},
     "output_type": "execute_result"
    }
   ],
   "source": [
    "name = 'Bob'\n",
    "f'Hello, {name}!'"
   ]
  },
  {
   "cell_type": "markdown",
   "id": "880017e8",
   "metadata": {},
   "source": [
    "As you can see, this prefixes the string constant with the letter “f“—hence the name “f-strings.” This new formatting syntax is powerful. Because you can embed arbitrary Python expressions, you can even do inline arithmetic with it. Check out this example:"
   ]
  },
  {
   "cell_type": "code",
   "execution_count": 29,
   "id": "60c4c052",
   "metadata": {},
   "outputs": [
    {
     "data": {
      "text/plain": [
       "'Five plus ten is 15 and not 30.'"
      ]
     },
     "execution_count": 29,
     "metadata": {},
     "output_type": "execute_result"
    }
   ],
   "source": [
    "a = 5\n",
    "b = 10\n",
    "f'Five plus ten is {a + b} and not {2 * (a + b)}.'"
   ]
  },
  {
   "cell_type": "markdown",
   "id": "3920362f",
   "metadata": {},
   "source": [
    "## Output redirection\n",
    "How to redirect the standard output to a file in Python?\n",
    "\n",
    "By default, the standard output is printed to a console. However, you can redirect that output to a file using any of the following methods:\n",
    "- Shell redirection\n",
    "- Using sys.stdout\n",
    "- Using contextlib.redirect_stdout() function\n",
    "- Custom Logging Class"
   ]
  },
  {
   "cell_type": "markdown",
   "id": "924a71de",
   "metadata": {},
   "source": [
    "### Shell redirection\n",
    "The most common approach to redirect standard output to a file is using shell redirection. The advantage of this approach is that it does not require any code changes. Here’s how you can redirect the stdout and stderr output to a file using the > operator:"
   ]
  },
  {
   "cell_type": "raw",
   "id": "592f58f2",
   "metadata": {},
   "source": [
    "$ python main.py > file"
   ]
  },
  {
   "cell_type": "markdown",
   "id": "f31c206e",
   "metadata": {},
   "source": [
    "### Using sys.stdout\n",
    "Another simple solution to redirect the standard output to a file is to set sys.stdout to the file object, as shown below:"
   ]
  },
  {
   "cell_type": "code",
   "execution_count": 37,
   "id": "5ab1190b",
   "metadata": {},
   "outputs": [],
   "source": [
    "import sys\n",
    " \n",
    "path = 'file.txt'\n",
    "sys.stdout = open(path, 'w')\n",
    "print('Hello, World (sys.stdout)')"
   ]
  },
  {
   "cell_type": "markdown",
   "id": "7426be3f",
   "metadata": {},
   "source": [
    "### Using contextlib.redirect_stdout() function\n",
    "Another option is using contextlib.redirect_stdout() function in Python 3.4 which sets up a context manager for redirecting sys.stdout to another file. Here’s a working example:"
   ]
  },
  {
   "cell_type": "code",
   "execution_count": 38,
   "id": "db3a5139",
   "metadata": {},
   "outputs": [],
   "source": [
    "import contextlib\n",
    " \n",
    "path = 'file.txt'\n",
    "with open(path, 'w') as f:\n",
    "    with contextlib.redirect_stdout(f):\n",
    "        print('Hello, World (contextlib.redirect_stdout)')"
   ]
  },
  {
   "cell_type": "markdown",
   "id": "8f4ad84e",
   "metadata": {},
   "source": [
    "### Custom Logging Class\n",
    "Finally, you can write your custom logging class to suit your needs. To illustrate, the following class prints the standard output to both console and file:"
   ]
  },
  {
   "cell_type": "code",
   "execution_count": 39,
   "id": "6f596cc0",
   "metadata": {},
   "outputs": [],
   "source": [
    "import sys\n",
    " \n",
    "class Logger:\n",
    " \n",
    "    def __init__(self, filename):\n",
    "        self.console = sys.stdout\n",
    "        self.file = open(filename, 'w')\n",
    " \n",
    "    def write(self, message):\n",
    "        self.console.write(message)\n",
    "        self.file.write(message)\n",
    " \n",
    "    def flush(self):\n",
    "        self.console.flush()\n",
    "        self.file.flush()\n",
    " \n",
    "path = 'file.txt'\n",
    "sys.stdout = Logger(path)\n",
    "print('Hello, World (Logger)')"
   ]
  },
  {
   "cell_type": "code",
   "execution_count": 40,
   "id": "10551dc0",
   "metadata": {},
   "outputs": [],
   "source": [
    "!cat notebooks/file.txt"
   ]
  },
  {
   "cell_type": "code",
   "execution_count": null,
   "id": "4b97c453",
   "metadata": {},
   "outputs": [],
   "source": []
  }
 ],
 "metadata": {
  "kernelspec": {
   "display_name": "math-so-rqA8CpC9-py3.9",
   "language": "python",
   "name": "math-so-rqa8cpc9-py3.9"
  },
  "language_info": {
   "codemirror_mode": {
    "name": "ipython",
    "version": 3
   },
   "file_extension": ".py",
   "mimetype": "text/x-python",
   "name": "python",
   "nbconvert_exporter": "python",
   "pygments_lexer": "ipython3",
   "version": "3.9.7"
  }
 },
 "nbformat": 4,
 "nbformat_minor": 5
}
