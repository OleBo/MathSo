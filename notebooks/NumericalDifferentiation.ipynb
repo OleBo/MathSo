{
 "cells": [
  {
   "cell_type": "code",
   "execution_count": 1,
   "metadata": {},
   "outputs": [],
   "source": [
    "from math_so.model import lotka_volterra\n",
    "import numpy as np\n",
    "from scipy.integrate import solve_ivp\n",
    "import matplotlib.pyplot as plt"
   ]
  },
  {
   "cell_type": "markdown",
   "metadata": {},
   "source": [
    "# Numerical Differentiation\n",
    "\n",
    "Using a Taylor expansion of the (sufficiently often differentiable) function $f$ about $x$,\n",
    "\n",
    "1. $f(x+h) = f(x) + h f'(x) + \\frac{h^2}{2!} f''(x) + \\frac{h^3}{3!} f'''(x) + \\ldots, $\n",
    "2. $f(x-h) = f(x) - h f'(x) + \\frac{h^2}{2!} f''(x) - \\frac{h^3}{3!} f'''(x) + \\ldots, $\n",
    "3. $f(x+2h) = f(x) + 2h f'(x) + 4\\frac{h^2}{2!} f''(x) + 8\\frac{h^3}{3!} f'''(x) + \\ldots, $\n",
    "4. $f(x-2h) = f(x) - 2h f'(x) + 4\\frac{h^2}{2!} f''(x) - 8\\frac{h^3}{3!} f'''(x) + \\ldots, $\n",
    "\n",
    "we can derive the following finite difference approximations to the derivative of $f$ at $x$.\n",
    "\n",
    "## First-order finite difference \n",
    "From (1) we obtain:\n",
    "$$\\begin{align*}f'_\\text{forward}(x) &=\\displaystyle \\frac{f(x+h) - f(x)}{h} \n",
    "\\color{red}{-\\frac{h}{2!}f''(x)-\\frac{h^2}{3!}f'''(x)+\\dots}\\\\\n",
    "                      &=\\displaystyle \\frac{f(x+h) - f(x)}{h}  \\color{red}{+\\mathcal{O}(h)}\n",
    "\\end{align*}$$\n",
    "\n",
    "From (2) we obtain:\n",
    "$$\\begin{align*}f'_\\text{backward}(x) &=\\displaystyle \\frac{f(x) - f(x-h)}{h} \n",
    "\\color{red}{+\\frac{h}{2!}f''(x)-\\frac{h^2}{3!}f'''(x)+\\dots}\\\\\n",
    "                      &=\\displaystyle \\frac{f(x) - f(x-h)}{h}  \\color{red}{+\\mathcal{O}(h)}\n",
    "\\end{align*}$$\n",
    "\n",
    "From (1) and (2) we obtain:\n",
    "$$\\begin{align*}f'_\\text{central}(x) &=\\displaystyle \\frac{f(x+h) - f(x-h)}{2h} \n",
    "\\color{red}{-\\frac{h^2}{3!}f'''(x)+\\dots}\\\\\n",
    "                      &=\\displaystyle \\frac{f(x+h) - f(x-h)}{2h}  \\color{red}{+\\mathcal{O}(h^2)}\n",
    "\\end{align*}$$\n",
    "\n",
    "The error for the forward and backward difference method os of order $h$, for the central methos the error is of order $h^2$. (From the highest oder term in the dropped part of the taylor series. [[1](https://www.youtube.com/watch?v=ZJkGI5DZQv8&list=PLYdroRCLMg5OvLx1EtY1ByvveJeTEXQd_&index=18)][[2](https://www.youtube.com/watch?v=C2Wk-wiXLvE&list=PLYdroRCLMg5OvLx1EtY1ByvveJeTEXQd_&index=20)])"
   ]
  },
  {
   "cell_type": "markdown",
   "metadata": {},
   "source": [
    "Here's an example of a function whose derivatives we know analytically:"
   ]
  },
  {
   "cell_type": "code",
   "execution_count": 2,
   "metadata": {},
   "outputs": [],
   "source": [
    "f = lambda x: np.log(x)\n",
    "x0 = 3\n",
    "df_ex = 1/x0      #f'(x0)\n",
    "d2f_ex = -1/x0**2 #f''(x0) "
   ]
  },
  {
   "cell_type": "code",
   "execution_count": 3,
   "metadata": {},
   "outputs": [],
   "source": [
    "def fd_forward1(f, x, h):\n",
    "    \"\"\"fd_forward1 calculates the derivative of f at x \n",
    "    with First-order forward finite difference.\n",
    "    \"\"\"\n",
    "    return (f(x + h) - f(x))/h\n",
    "def fd_backward1(f, x, h):\n",
    "    \"\"\"fd_backward1 calculates the derivative of f at x \n",
    "    with First-order backward finite difference.\n",
    "    \"\"\"\n",
    "    return (f(x)-f(x - h))/h\n",
    "def fd_central1(f, x, h):\n",
    "    \"\"\"fd_central1 calculates the derivative of f at x \n",
    "    with First-order central finite difference.\n",
    "    \"\"\"\n",
    "    return (f(x + h) - f(x-h))/(2*h)"
   ]
  },
  {
   "cell_type": "markdown",
   "metadata": {},
   "source": [
    "**Forward/Backward**: Let's check if the error really decreases by a factor of 2 as we halve $h$, until ultimately roundoff errors spoil the convergence:"
   ]
  },
  {
   "cell_type": "code",
   "execution_count": 4,
   "metadata": {
    "scrolled": true
   },
   "outputs": [
    {
     "name": "stdout",
     "output_type": "stream",
     "text": [
      "h = 5.00E-02, err = 2.75E-03, fac = 1.98\n",
      "h = 2.50E-02, err = 1.38E-03, fac = 1.99\n",
      "h = 1.25E-02, err = 6.93E-04, fac = 1.99\n",
      "h = 6.25E-03, err = 3.47E-04, fac = 2.00\n",
      "h = 3.13E-03, err = 1.73E-04, fac = 2.00\n",
      "h = 1.56E-03, err = 8.68E-05, fac = 2.00\n",
      "h = 7.81E-04, err = 4.34E-05, fac = 2.00\n",
      "h = 3.91E-04, err = 2.17E-05, fac = 2.00\n",
      "h = 1.95E-04, err = 1.09E-05, fac = 2.00\n",
      "h = 9.77E-05, err = 5.43E-06, fac = 2.00\n",
      "h = 4.88E-05, err = 2.71E-06, fac = 2.00\n",
      "h = 2.44E-05, err = 1.36E-06, fac = 2.00\n",
      "h = 1.22E-05, err = 6.78E-07, fac = 2.00\n",
      "h = 6.10E-06, err = 3.39E-07, fac = 2.00\n",
      "h = 3.05E-06, err = 1.70E-07, fac = 2.00\n",
      "h = 1.53E-06, err = 8.48E-08, fac = 2.00\n",
      "h = 7.63E-07, err = 4.26E-08, fac = 1.99\n",
      "h = 3.81E-07, err = 2.16E-08, fac = 1.97\n",
      "h = 1.91E-07, err = 1.06E-08, fac = 2.05\n",
      "h = 9.54E-08, err = 5.90E-09, fac = 1.79\n",
      "h = 4.77E-08, err = 5.90E-09, fac = 1.00\n",
      "h = 2.38E-08, err = 1.06E-08, fac = 0.56\n",
      "h = 1.19E-08, err = 1.24E-09, fac = 8.50\n"
     ]
    }
   ],
   "source": [
    "h = .1\n",
    "for m in np.arange(0,24):\n",
    "    df = fd_forward1(f, x0, h)\n",
    "    err = np.abs(df - df_ex)\n",
    "    if m > 0:\n",
    "        print('h = {:.2E}, err = {:.2E}, fac = {:.2f}'.format(h, err, err_old/err))\n",
    "    err_old = err\n",
    "    h = h/2"
   ]
  },
  {
   "cell_type": "code",
   "execution_count": 5,
   "metadata": {},
   "outputs": [
    {
     "name": "stdout",
     "output_type": "stream",
     "text": [
      "h = 5.00E-02, err = 2.81E-03, fac = 2.02\n",
      "h = 2.50E-02, err = 1.40E-03, fac = 2.01\n",
      "h = 1.25E-02, err = 6.96E-04, fac = 2.01\n",
      "h = 6.25E-03, err = 3.48E-04, fac = 2.00\n",
      "h = 3.13E-03, err = 1.74E-04, fac = 2.00\n",
      "h = 1.56E-03, err = 8.68E-05, fac = 2.00\n",
      "h = 7.81E-04, err = 4.34E-05, fac = 2.00\n",
      "h = 3.91E-04, err = 2.17E-05, fac = 2.00\n",
      "h = 1.95E-04, err = 1.09E-05, fac = 2.00\n",
      "h = 9.77E-05, err = 5.43E-06, fac = 2.00\n",
      "h = 4.88E-05, err = 2.71E-06, fac = 2.00\n",
      "h = 2.44E-05, err = 1.36E-06, fac = 2.00\n",
      "h = 1.22E-05, err = 6.78E-07, fac = 2.00\n",
      "h = 6.10E-06, err = 3.39E-07, fac = 2.00\n",
      "h = 3.05E-06, err = 1.70E-07, fac = 2.00\n",
      "h = 1.53E-06, err = 8.49E-08, fac = 2.00\n",
      "h = 7.63E-07, err = 4.24E-08, fac = 2.00\n",
      "h = 3.81E-07, err = 2.15E-08, fac = 1.98\n",
      "h = 1.91E-07, err = 1.16E-08, fac = 1.86\n",
      "h = 9.54E-08, err = 5.74E-09, fac = 2.01\n",
      "h = 4.77E-08, err = 3.41E-09, fac = 1.68\n",
      "h = 2.38E-08, err = 8.07E-09, fac = 0.42\n",
      "h = 1.19E-08, err = 1.74E-08, fac = 0.46\n"
     ]
    }
   ],
   "source": [
    "h = .1\n",
    "for m in np.arange(0,24):\n",
    "    df = fd_backward1(f, x0, h)\n",
    "    err = np.abs(df - df_ex)\n",
    "    if m > 0:\n",
    "        print('h = {:.2E}, err = {:.2E}, fac = {:.2f}'.format(h, err, err_old/err))\n",
    "    err_old = err\n",
    "    h = h/2"
   ]
  },
  {
   "cell_type": "markdown",
   "metadata": {},
   "source": [
    "**Central**: Let's check if the error really decreases by a factor of 4 as we halve $h$, until ultimately roundoff errors spoil the convergence:"
   ]
  },
  {
   "cell_type": "code",
   "execution_count": 6,
   "metadata": {},
   "outputs": [
    {
     "name": "stdout",
     "output_type": "stream",
     "text": [
      "h = 5.00E-02, err = 3.09E-05, fac = 4.00\n",
      "h = 2.50E-02, err = 7.72E-06, fac = 4.00\n",
      "h = 1.25E-02, err = 1.93E-06, fac = 4.00\n",
      "h = 6.25E-03, err = 4.82E-07, fac = 4.00\n",
      "h = 3.13E-03, err = 1.21E-07, fac = 4.00\n",
      "h = 1.56E-03, err = 3.01E-08, fac = 4.00\n",
      "h = 7.81E-04, err = 7.54E-09, fac = 4.00\n",
      "h = 3.91E-04, err = 1.88E-09, fac = 4.00\n",
      "h = 1.95E-04, err = 4.70E-10, fac = 4.00\n",
      "h = 9.77E-05, err = 1.17E-10, fac = 4.03\n",
      "h = 4.88E-05, err = 2.93E-11, fac = 3.99\n",
      "h = 2.44E-05, err = 8.79E-12, fac = 3.33\n",
      "h = 1.22E-05, err = 4.85E-12, fac = 1.81\n",
      "h = 6.10E-06, err = 4.85E-12, fac = 1.00\n",
      "h = 3.05E-06, err = 3.15E-11, fac = 0.15\n",
      "h = 1.53E-06, err = 6.79E-11, fac = 0.46\n",
      "h = 7.63E-07, err = 7.76E-11, fac = 0.88\n",
      "h = 3.81E-07, err = 7.76E-11, fac = 1.00\n",
      "h = 1.91E-07, err = 5.04E-10, fac = 0.15\n",
      "h = 9.54E-08, err = 7.76E-11, fac = 6.50\n",
      "h = 4.77E-08, err = 1.24E-09, fac = 0.06\n",
      "h = 2.38E-08, err = 1.24E-09, fac = 1.00\n",
      "h = 1.19E-08, err = 8.07E-09, fac = 0.15\n"
     ]
    }
   ],
   "source": [
    "h = .1\n",
    "for m in np.arange(0,24):\n",
    "    df = fd_central1(f, x0, h)\n",
    "    err = np.abs(df - df_ex)\n",
    "    if m > 0:\n",
    "        print('h = {:.2E}, err = {:.2E}, fac = {:.2f}'.format(h, err, err_old/err))\n",
    "    err_old = err\n",
    "    h = h/2"
   ]
  },
  {
   "cell_type": "code",
   "execution_count": null,
   "metadata": {},
   "outputs": [],
   "source": []
  },
  {
   "cell_type": "code",
   "execution_count": 7,
   "metadata": {},
   "outputs": [
    {
     "data": {
      "image/png": "[encoded data removed]",
      "text/plain": [
       "<Figure size 576x360 with 1 Axes>"
      ]
     },
     "metadata": {
      "needs_background": "light"
     },
     "output_type": "display_data"
    }
   ],
   "source": [
    "fig, ax = plt.subplots(figsize=(8, 5))\n",
    "f = lambda x: np.log(x)\n",
    "x0 = 0.2\n",
    "df = lambda x: 1/x\n",
    "h = .1\n",
    "a,b = x0-h,x0+h\n",
    "\n",
    "x = np.linspace(a-.03,b+.03,200)\n",
    "y = f(x) \n",
    "y0 = f(x0)\n",
    "yt = df(x0) * (x - x0) + y0 \n",
    "ytf = fd_forward1(f, x0, h) * (x - x0) + y0 \n",
    "ytb = fd_backward1(f, x0, h) * (x - x0) + y0 \n",
    "ytc = fd_central1(f, x0, h) * (x - x0) + y0 \n",
    "\n",
    "ax.plot(x,y,'r--',label=r'$f$')\n",
    "ax.plot(x,yt,'k--',label=r\"$f'$ (exact)\")\n",
    "ax.plot(x,ytf,'b-',label=r\"$\\hat{f}'$ (forward)\")\n",
    "ax.plot(x,ytb,'g-',label=r\"$\\hat{f}'$ (backward)\")\n",
    "ax.plot(x,ytc,'m-',label=r\"$\\hat{f}'$ (central)\")\n",
    "\n",
    "ax.annotate(r'$\\frac{f(x_i+h) - f(x_i)}{h}$', xy=(x0, y0), xytext=(x0+h, y0), xycoords='data', textcoords='data',\n",
    "            arrowprops={'arrowstyle': '<->','color':'b'},color='b')\n",
    "ax.annotate('', xy=(x0+h, f(x0+h)), xytext=(x0+h, y0), xycoords='data', textcoords='data',\n",
    "            arrowprops={'arrowstyle': '<->','color':'b'},color='b')\n",
    "\n",
    "ax.annotate(r'$\\frac{f(x_i)-f(x_i-h)}{h}$', xy=(x0-h, f(x0-h)), xytext=(x0, f(x0-h)), xycoords='data', textcoords='data',\n",
    "            arrowprops={'arrowstyle': '<->','color':'g'},color='g')\n",
    "ax.annotate('', xy=(x0, y0), xytext=(x0, f(x0-h)), xycoords='data', textcoords='data',\n",
    "            arrowprops={'arrowstyle': '<->','color':'g'},color='g')\n",
    "\n",
    "ax.annotate(r'$\\frac{f(x_i+h)-f(x_i-h)}{2h}$', xy=(x0+h, f(x0+h)), xytext=(x0-h, f(x0+h)), xycoords='data', textcoords='data',\n",
    "            arrowprops={'arrowstyle': '<->','color':'m'},color='m',horizontalalignment='right')\n",
    "ax.annotate('', xy=(x0-h, f(x0-h)), xytext=(x0-h, f(x0+h)), xycoords='data', textcoords='data',\n",
    "            arrowprops={'arrowstyle': '<->','color':'m'},color='m')\n",
    "\n",
    "ax.spines['right'].set_visible(False)\n",
    "ax.spines['top'].set_visible(False)\n",
    "\n",
    "plt.xticks([x0-h, x0, x0+h], [r'$x_i-h$', r'$x_i$', r'$x_i+h$'])\n",
    "plt.yticks([f(x0-h), f(x0), f(x0+h)], [r'$f(x_i-h)$', r'$f(x_i)$', r'$f(x_i+h)$'])\n",
    "plt.title('geometric interpretation (1st order derivative)')\n",
    "plt.legend(loc='lower right')\n",
    "plt.show()    "
   ]
  },
  {
   "cell_type": "markdown",
   "metadata": {},
   "source": [
    "## Second-order finite difference \n",
    "From (1)+(2) we obtain:\n",
    "$$\\begin{align*}f''_\\text{central}(x) &=\\displaystyle \\frac{f(x+h) - 2f(x)+f(x-h)}{h^2} \n",
    "\\color{red}{+\\frac{h^2}{12}f^{(4)}(x)+\\dots}\\\\\n",
    "                      &=\\displaystyle \\frac{f(x+h) - 2f(x) + f(x-h)}{h^2}  \\color{red}{+\\mathcal{O}(h^2)}\n",
    "\\end{align*}$$\n",
    "\n",
    "Ref: Chapra, Canale: Numerical Methods for Engineers"
   ]
  },
  {
   "cell_type": "markdown",
   "metadata": {},
   "source": [
    "Here's an example of a function whose derivatives we know analytically:"
   ]
  },
  {
   "cell_type": "code",
   "execution_count": 8,
   "metadata": {},
   "outputs": [],
   "source": [
    "f = lambda x: np.log(x)\n",
    "x0 = 3\n",
    "df_ex = 1/x0      #f'(x0)\n",
    "d2f_ex = -1/x0**2 #f''(x0) "
   ]
  },
  {
   "cell_type": "code",
   "execution_count": 9,
   "metadata": {},
   "outputs": [],
   "source": [
    "def f2d_central2(f, x, h):\n",
    "    \"\"\"fd_central2 calculates the derivative of f at x \n",
    "    with Second-order central finite difference.\n",
    "    \"\"\"\n",
    "    return (f(x + h) - 2*f(x) + f(x-h))/(h**2)"
   ]
  },
  {
   "cell_type": "markdown",
   "metadata": {},
   "source": [
    "**Central**: Let's check if the error really decreases by a factor of 4 as we halve $h$, until ultimately roundoff errors spoil the convergence:"
   ]
  },
  {
   "cell_type": "code",
   "execution_count": 10,
   "metadata": {},
   "outputs": [
    {
     "name": "stdout",
     "output_type": "stream",
     "text": [
      "h = 5.00E-02, err = 1.54E-05, fac = 4.00\n",
      "h = 2.50E-02, err = 3.86E-06, fac = 4.00\n",
      "h = 1.25E-02, err = 9.65E-07, fac = 4.00\n",
      "h = 6.25E-03, err = 2.41E-07, fac = 4.00\n",
      "h = 3.13E-03, err = 6.03E-08, fac = 4.00\n",
      "h = 1.56E-03, err = 1.52E-08, fac = 3.98\n",
      "h = 7.81E-04, err = 3.78E-09, fac = 4.01\n",
      "h = 3.91E-04, err = 1.24E-09, fac = 3.06\n",
      "h = 1.95E-04, err = 2.69E-09, fac = 0.46\n"
     ]
    }
   ],
   "source": [
    "h = .1\n",
    "for m in np.arange(0,10):\n",
    "    d2f = f2d_central2(f, x0, h)\n",
    "    err = np.abs(d2f - d2f_ex)\n",
    "    if m > 0:\n",
    "        print('h = {:.2E}, err = {:.2E}, fac = {:.2f}'.format(h, err, err_old/err))\n",
    "    err_old = err\n",
    "    h = h/2"
   ]
  },
  {
   "cell_type": "markdown",
   "metadata": {},
   "source": [
    "# Numerical solution of ordinary differential equations\n",
    "\n",
    "An ordinary differential equation (ODE)  is an equation of the form\n",
    "\n",
    "$$\\frac{dx}{dt}=f(y,t)$$\n",
    "\n",
    "for an unknown function $y:\\mathbf{R}\\to \\mathbf{R}^d$, $t\\mapsto y(t)$, and a right-hand side $f:\\mathbf{R} \\times \\mathbf{R}^d \\to \\mathbf{R}^d$. The initial value problem is completed by specifying an initial condition\n",
    "\n",
    "$$y(t_0)=y_0$$\n",
    "\n",
    "Under certain conditions on $f$, a unique solution exists at least in a neighbourhood of $t_0$."
   ]
  },
  {
   "cell_type": "markdown",
   "metadata": {},
   "source": [
    "A simple example is the growth of a bacteria colony, whose growth rate is proportional to the size of the population:\n",
    "\n",
    "$$\\frac{dy}{dt}=rt, y(0)=y_0$$\n",
    "\n",
    "with a constant $r\\in\\mathbf{R}$, The exact solution is $y(t) = y_0 \\, e^{rt}$."
   ]
  },
  {
   "cell_type": "code",
   "execution_count": 11,
   "metadata": {},
   "outputs": [],
   "source": [
    "r=0.8\n",
    "f=lambda t,y:r*y\n",
    "y0=1000\n",
    "a=0; b=2\n",
    "t_ex = np.linspace(a-.03,b+.03,200)\n",
    "y_ex = lambda t: y0*np.exp(r*t)"
   ]
  },
  {
   "cell_type": "markdown",
   "metadata": {},
   "source": [
    "The simplest numerical method is **Euler's method**, which is based on the Taylor expansion at first order:\n",
    "\n",
    "$$y(t+h) = y(t) + h y'(t)+ O(h^2) = y(t) + h \\, f(t,h) + O(h^2),$$\n",
    "\n",
    "where for the second equality we have used the ODE to replace the derivative. This step is repeated $n$ times, with $h=(b-a)/n$, starting at $t=a$ and ending up at $t=b$. An implementation can be found in `euler`."
   ]
  },
  {
   "cell_type": "code",
   "execution_count": 12,
   "metadata": {},
   "outputs": [],
   "source": [
    "def euler(f,a,b,y0,n):\n",
    "    \"\"\"\n",
    "    EULER solves the ordinary differential equation with right-hand side f and\n",
    "    initial value y(a) = y0 on the interval [a, b] with n steps of Euler's method\n",
    "    \"\"\"\n",
    "    h = (b - a)/n\n",
    "    t,y = a,y0\n",
    "    t_,y_=[],[]\n",
    "    while t <= b:\n",
    "        t_.append(t)\n",
    "        y_.append(y)\n",
    "        t += h\n",
    "        y += h * f(t,y)\n",
    "    return(np.array(t_),np.array(y_))"
   ]
  },
  {
   "cell_type": "code",
   "execution_count": 13,
   "metadata": {},
   "outputs": [],
   "source": [
    "n = 20\n",
    "[t_euler, y_euler] = euler(f, a, b, y0, n)"
   ]
  },
  {
   "cell_type": "markdown",
   "metadata": {},
   "source": [
    "From the above equation, the local truncation error of a single Euler step is of the order $O(h^2)$. However after the step is repeated $n=(b-a)/h$ times, the global truncation error at $t=b$ is only $O(h)$. So when the number of subintervals is doubled, the error decreases by a factor of 2."
   ]
  },
  {
   "cell_type": "code",
   "execution_count": 14,
   "metadata": {},
   "outputs": [
    {
     "name": "stdout",
     "output_type": "stream",
     "text": [
      "n = 40, err = 336.67, fac = 1.89\n",
      "n = 80, err = 173.19, fac = 1.94\n",
      "n = 160, err = 87.86, fac = 1.97\n",
      "n = 320, err = 44.25, fac = 1.99\n",
      "n = 640, err = 22.21, fac = 1.99\n",
      "n = 1280, err = 11.12, fac = 2.00\n",
      "n = 2560, err = 5.57, fac = 2.00\n",
      "n = 5120, err = 2.78, fac = 2.00\n",
      "n = 10240, err = 1.39, fac = 2.00\n"
     ]
    }
   ],
   "source": [
    "n = 20\n",
    "for m in np.arange(0,10):\n",
    "    tm, ym = euler(f, a, b, y0, n)\n",
    "    err = abs(ym[n-1] - y_ex(b))\n",
    "    if m > 0:\n",
    "        print('n = {:}, err = {:.2f}, fac = {:.2f}'.format(n, err, err_old/err))\n",
    "    err_old = err\n",
    "    n = n*2"
   ]
  },
  {
   "cell_type": "markdown",
   "metadata": {},
   "source": [
    "There are more accurate schemes, e.g. the popular 4th-order Runge-Kutta method `rk4`:"
   ]
  },
  {
   "cell_type": "code",
   "execution_count": 15,
   "metadata": {},
   "outputs": [],
   "source": [
    "def rk4(f,a,b,y0,n):\n",
    "    \"\"\"\n",
    "    RK4 solves the ordinary differential equation with right-hand side f and\n",
    "    initial value y(a) = y0 on the interval [a, b] with n steps of 4th-order \n",
    "    Runge-Kutta method\n",
    "    \"\"\"\n",
    "    dy=lambda t, y, dt: (\n",
    "            lambda dy1: (\n",
    "            lambda dy2: (\n",
    "            lambda dy3: (\n",
    "            lambda dy4: (dy1 + 2*dy2 + 2*dy3 + dy4)/6\n",
    "            )( dt * f( t + dt  , y + dy3   ) )\n",
    "            )( dt * f( t + dt/2, y + dy2/2 ) )\n",
    "            )( dt * f( t + dt/2, y + dy1/2 ) )\n",
    "            )( dt * f( t       , y         ) )\n",
    "    h = (b - a)/n\n",
    "    t,y = a,y0\n",
    "    t_,y_=[],[]\n",
    "    while t <= b:\n",
    "        t_.append(t)\n",
    "        y_.append(y)\n",
    "        t += h\n",
    "        y += dy(t,y,h)\n",
    "    return(np.array(t_),np.array(y_))\n",
    "\n",
    "n = 20\n",
    "[t_rk4, y_rk4] = rk4(f, a, b, y0, n)"
   ]
  },
  {
   "cell_type": "markdown",
   "metadata": {},
   "source": [
    "`scipy` provides `solve_ivp` as interface to various solvers for initial value problems of systems of ODEs. \n",
    "- Explicit Runge-Kutta methods ('RK23', 'RK45', 'DOP853') should be used for non-stiff problems\n",
    "- Implicit methods ('Radau', 'BDF') for stiff problems\n",
    "- Among Runge-Kutta methods, 'DOP853' is recommended for solving with high precision (low values of `rtol` and `atol`)"
   ]
  },
  {
   "cell_type": "code",
   "execution_count": 16,
   "metadata": {},
   "outputs": [],
   "source": [
    "RK23  =solve_ivp(f,(a, b),[y0],method='RK23')\n",
    "RK45  =solve_ivp(f,(a, b),[y0],method='RK45')\n",
    "DOP853=solve_ivp(f,(a, b),[y0],method='DOP853')\n",
    "Radau =solve_ivp(f,(a, b),[y0],method='Radau')\n",
    "BDF   =solve_ivp(f,(a, b),[y0],method='BDF')"
   ]
  },
  {
   "cell_type": "markdown",
   "metadata": {},
   "source": [
    "Observe how the step size is adaptive (non-uniform) in this case."
   ]
  },
  {
   "cell_type": "code",
   "execution_count": 17,
   "metadata": {
    "scrolled": true
   },
   "outputs": [
    {
     "data": {
      "image/png": "[encoded data removed]",
      "text/plain": [
       "<Figure size 576x360 with 1 Axes>"
      ]
     },
     "metadata": {
      "needs_background": "light"
     },
     "output_type": "display_data"
    }
   ],
   "source": [
    "fig, ax = plt.subplots(figsize=(8, 5))\n",
    "ax.plot(t_ex   ,y_ex(t_ex) , label=r'exact')\n",
    "ax.plot(t_euler, y_euler, label=r'euler');\n",
    "ax.plot(t_rk4  , y_rk4  , label=r'rk4');\n",
    "ax.plot(RK23.t,   RK23.y[0,:],   'o', label=r'RK23');\n",
    "ax.plot(RK45.t,   RK45.y[0,:],   'o', label=r'RK45');\n",
    "ax.plot(DOP853.t, DOP853.y[0,:], 'o', label=r'DOP853');\n",
    "ax.plot(Radau.t,  Radau.y[0,:],  'o', label=r'Radau');\n",
    "ax.plot(BDF.t,    BDF.y[0,:],    'o', label=r'BDF');\n",
    "plt.title('Numerical solution of ordinary differential equations')\n",
    "plt.legend(loc='lower right')\n",
    "plt.show()"
   ]
  },
  {
   "cell_type": "code",
   "execution_count": 18,
   "metadata": {},
   "outputs": [
    {
     "data": {
      "text/plain": [
       "array([0. , 0.1, 0.2, 0.3, 0.4, 0.5, 0.6, 0.7, 0.8, 0.9, 1. , 1.1, 1.2,\n",
       "       1.3, 1.4, 1.5, 1.6, 1.7, 1.8, 1.9])"
      ]
     },
     "execution_count": 18,
     "metadata": {},
     "output_type": "execute_result"
    }
   ],
   "source": [
    "t_rk4"
   ]
  },
  {
   "cell_type": "markdown",
   "metadata": {},
   "source": [
    "## Systems of ODEs, additional parameters\n",
    "\n",
    "So far we have taken the dimension to be $d=1$. An example of a system with $d=2$ unknown functions is the [Lotka-Volterra (predator-prey) model](https://en.wikipedia.org/wiki/Lotka–Volterra_equations):\n",
    "\n",
    "$$\n",
    "\\begin{align}\n",
    "\\frac{dy_1}{dt} &= \\alpha y_1 - \\beta y_1 y_2,\\\\  \n",
    "\\frac{dy_2}{dt} &= \\gamma y_1 y_2 - \\delta y_2  \n",
    "\\end{align}\n",
    "$$\n",
    "\n",
    "Here $y_1$ is the population of prey, $y_2$ the population of predators, and $\\alpha,\\beta,\\gamma,\\delta>0$ are constants. Each has a certain birthrate and a deathrate. The birthrate of the prey is proportional to its current population and the birthrate of the predator is proportional to both its population and the prey population. The deathrate of the prey is proportional to both its population and the predator population and the deathrate of the predator is proportional to its population.\n",
    "\n",
    "The equations are non-linear since they include $xy$, this implies that finding an analytical solution will be much harder but for the numerical integration the problem isn't any more difficult."
   ]
  },
  {
   "cell_type": "code",
   "execution_count": 19,
   "metadata": {
    "scrolled": true
   },
   "outputs": [
    {
     "data": {
      "image/png": "[encoded data removed]",
      "text/plain": [
       "<Figure size 720x360 with 2 Axes>"
      ]
     },
     "metadata": {
      "needs_background": "light"
     },
     "output_type": "display_data"
    }
   ],
   "source": [
    "f = lambda t, y: [p*y[0] - q*y[0]*y[1], r*y[0]*y[1] - s*y[1]]\n",
    "p = 0.4; q = 0.04; r = 0.02; s = 2\n",
    "a = 0; b = 15\n",
    "y0 = [105, 8]\n",
    "lotka_volterra.main(p, q, r, s, y0[0], y0[1], [a, b])"
   ]
  },
  {
   "cell_type": "markdown",
   "metadata": {},
   "source": [
    "The Population dynamics is shown in the left plot. The population of predators trailing that of prey by 90° in the cycle.\n",
    "\n",
    "The right plot shows the solutions parametrically as orbits in phase space, without representing time, but with one axis representing the number of prey and the other axis representing the number of predators for all times. "
   ]
  },
  {
   "cell_type": "markdown",
   "metadata": {},
   "source": [
    "**Population equilibrium** occurs in the model when neither of the population levels is changing, i.e. when both of the derivatives are equal to 0:\n",
    "\n",
    "$$\n",
    "\\begin{align}\n",
    "0 &= \\alpha y_1 - \\beta y_1 y_2,\\\\  \n",
    "0 &= \\gamma y_1 y_2 - \\delta y_2  \n",
    "\\end{align}\n",
    "$$\n",
    "\n",
    "The above system of equations yields two solutions:\n",
    "$$y_1=0,y_2=0$$\n",
    "$$y_1=\\frac{\\delta}{\\gamma},y_2=\\frac{\\alpha}{\\beta}$$\n",
    "\n",
    "The first solution effectively represents the extinction of both species. If both populations are at 0, then they will continue to be so indefinitely. The second solution represents a **fixed point** at which both populations sustain their current, non-zero numbers, and, in the simplified model, do so indefinitely."
   ]
  },
  {
   "cell_type": "code",
   "execution_count": 20,
   "metadata": {},
   "outputs": [
    {
     "name": "stdout",
     "output_type": "stream",
     "text": [
      "y_1 = 100.0\n",
      "y_2 = 10.0\n"
     ]
    },
    {
     "data": {
      "image/png": "[encoded data removed]",
      "text/plain": [
       "<Figure size 720x360 with 2 Axes>"
      ]
     },
     "metadata": {
      "needs_background": "light"
     },
     "output_type": "display_data"
    }
   ],
   "source": [
    "print(r'y_1 = {}'.format(s/r))\n",
    "print(r'y_2 = {}'.format(p/q))\n",
    "lotka_volterra.main(p, q, r, s, s/r, p/q, [a, b])"
   ]
  },
  {
   "cell_type": "markdown",
   "metadata": {},
   "source": [
    "The **stability of the fixed point** at the origin can be determined by performing a [linearization](https://www.youtube.com/watch?v=k_IkbxwSK7g) using partial derivatives. The linearization of the  Lotka-Volterra system about an equilibrium point $(y_1^*, y_2^*)$ has the form\n",
    "\n",
    "$$\n",
    "\\begin{bmatrix}\n",
    " \\frac{du}{dt}\\\\\n",
    " \\frac{dv}{dt}\n",
    "\\end{bmatrix}\n",
    "= \\mathbf{J}\n",
    "\\begin{bmatrix}\n",
    " u\\\\\n",
    " v\n",
    "\\end{bmatrix}\n",
    "$$\n",
    "\n",
    "\n",
    "where $u = y_1 − y_1^*$, $v = y_2 − y_2^*$ and $\\mathbf{J}$ is the Jacobian ([Community matrix](https://en.wikipedia.org/wiki/Community_matrix)).\n",
    "\n",
    "The [Jacobian matrix](https://en.wikipedia.org/wiki/Jacobian_matrix) of the predator–prey model is\n",
    "\n",
    "$$\\mathbf{J}(y_1,y_2)=\n",
    "\\begin{bmatrix}\n",
    "\\alpha - \\beta y_2 & -\\beta y_1\\\\\n",
    "\\gamma y_2         & \\gamma y_1 - \\delta\n",
    "\\end{bmatrix}\n",
    "$$\n",
    "\n",
    "The eigenvalues of the Jacobian determine the stability of the equilibrium point. By the [stable manifold theorem](https://en.wikipedia.org/wiki/Stable_manifold_theorem), if one or both eigenvalues of $\\mathbf{J}$  have positive real part then the equilibrium is unstable, but if all eigenvalues have negative real part then it is stable.\n",
    "\n",
    "For the **first fixed point** (extinction) of $(0, 0)$, the Jacobian matrix $\\mathbf{J}$ becomes\n",
    "\n",
    "$$\\mathbf{J}(0,0)=\n",
    "\\begin{bmatrix}\n",
    "\\alpha & 0\\\\\n",
    "0      & - \\delta\n",
    "\\end{bmatrix}\n",
    "$$\n",
    "\n",
    "The eigenvalues of this matrix are\n",
    "\n",
    "$$\\lambda_1=\\alpha,\\lambda_2=-\\gamma$$\n",
    "\n",
    "In the model $\\alpha$ and $\\gamma$ are always greater than zero, and as such the sign of the eigenvalues above will always differ. Hence the fixed point at the origin is a saddle point.\n",
    "\n",
    "The stability of this fixed point is of significance. If it were stable, non-zero populations might be attracted towards it, and as such the dynamics of the system might lead towards the extinction of both species for many cases of initial population levels. However, as the fixed point at the origin is a saddle point, and hence unstable, it follows that the extinction of both species is difficult in the model. (In fact, this could only occur if the prey were artificially completely eradicated, causing the predators to die of starvation. If the predators were eradicated, the prey population would grow without bound in this simple model.) The populations of prey and predator can get infinitesimally close to zero and still recover.\n",
    "\n",
    "For the **second fixed point** of $\\left(\\frac{\\delta}{\\gamma},\\frac{\\alpha}{\\beta}\\right)$, the Jacobian matrix $\\mathbf{J}$ becomes\n",
    "\n",
    "$$\\mathbf{J}\\left(\\frac{\\delta}{\\gamma},\\frac{\\alpha}{\\beta}\\right)=\n",
    "\\begin{bmatrix}\n",
    "0 & -\\frac{\\beta\\delta}{\\gamma}\\\\\n",
    "\\frac{\\alpha\\gamma}{\\beta} & 0\n",
    "\\end{bmatrix}\n",
    "$$\n",
    "\n",
    "The eigenvalues of this matrix are\n",
    "\n",
    "$$\\lambda_1=i\\sqrt{\\alpha\\delta},\\lambda_2=-i\\sqrt{\\alpha\\delta}$$\n",
    "\n",
    "As the eigenvalues are both purely imaginary and conjugate to each others, this fixed point is elliptic, so the solutions are periodic, oscillating on a small ellipse around the fixed point, with a frequency $\\omega=\\sqrt{\\lambda_1\\lambda_2}=\\sqrt{\\alpha\\delta}$ and period $T=\\frac{2\\pi}{\\sqrt{\\lambda_1\\lambda_2}}$.\n",
    "\n",
    "As illustrated in the circulating oscillations in the figure above, the level curves are closed orbits surrounding the fixed point."
   ]
  },
  {
   "cell_type": "code",
   "execution_count": 21,
   "metadata": {},
   "outputs": [
    {
     "name": "stdout",
     "output_type": "stream",
     "text": [
      "T = 7.024814731040727\n"
     ]
    }
   ],
   "source": [
    "print('T = {}'.format(2*np.pi/np.sqrt(p*s)))"
   ]
  },
  {
   "cell_type": "markdown",
   "metadata": {},
   "source": [
    "Here the interactive version of this model:"
   ]
  },
  {
   "cell_type": "code",
   "execution_count": 22,
   "metadata": {},
   "outputs": [
    {
     "data": {
      "application/vnd.jupyter.widget-view+json": {
       "model_id": "efb93106680b4fea80c256835670f06f",
       "version_major": 2,
       "version_minor": 0
      },
      "text/plain": [
       "interactive(children=(FloatSlider(value=0.4, description='Birth Rate of Prey', layout=Layout(width='99%'), max…"
      ]
     },
     "metadata": {},
     "output_type": "display_data"
    }
   ],
   "source": [
    "lotka_volterra.interactive()"
   ]
  },
  {
   "cell_type": "markdown",
   "metadata": {},
   "source": [
    "**Note**: In real-life situations, prey fluctuations of the discrete numbers of individuals, as well as the family structure and life-cycle of prey, might cause the prey to actually go extinct, and, by consequence, the predators as well."
   ]
  },
  {
   "cell_type": "markdown",
   "metadata": {},
   "source": [
    "## Higher-order ODEs\n",
    "\n",
    "Higher-order ODEs can be rewritten as systems of first-order ODEs. For example, the second-order initial value problem\n",
    "\n",
    "$$\\frac{d^2 y}{dt^2} = -k^2 y, \\quad y(0) = y_0, \\quad y'(0) = y_0'$$\n",
    "\n",
    "is equivalent to the following first-order system obtained by introducing the auxiliary variables $y_1 := y$ and y_2 := y':\n",
    "\n",
    "$$\\frac{dy_1}{dt} = y_2, \\quad \\frac{dy_2}{dt} = -k^2 y_1, \\quad y_1(0) = y_0, \\quad y_2(0) = y_0'.$$"
   ]
  },
  {
   "cell_type": "code",
   "execution_count": 23,
   "metadata": {},
   "outputs": [
    {
     "data": {
      "image/png": "[encoded data removed]",
      "text/plain": [
       "<Figure size 576x360 with 1 Axes>"
      ]
     },
     "metadata": {
      "needs_background": "light"
     },
     "output_type": "display_data"
    }
   ],
   "source": [
    "k = np.pi\n",
    "f = lambda t, y: [y[1], -k**2*y[0]]\n",
    "a = 0; b = 2\n",
    "y0 = [1, 0]\n",
    "DOP853 = solve_ivp(f, [a,b],y0, method='DOP853')\n",
    "y_ex = lambda t: np.cos(k*t)\n",
    "t_ex = np.linspace(a,b,200)\n",
    "\n",
    "fig, ax = plt.subplots(figsize=(8, 5))\n",
    "ax.plot(t_ex   ,y_ex(t_ex) , label=r'exact')\n",
    "ax.plot(DOP853.t, DOP853.y[0,:], 'o', label=r'DOP853');\n",
    "plt.title('Numerical solution of ordinary differential equations')\n",
    "plt.legend(loc='lower right')\n",
    "plt.show()"
   ]
  },
  {
   "cell_type": "markdown",
   "metadata": {},
   "source": [
    "# Simulation of random processes\n",
    "\n",
    "Recall that `np.random.rand` generates uniformly distributed random numbers between 0 and 1, whereas `np.random.randn` generates normally distributed random numbers with $\\mu=0$ and $\\sigma=1$. \n",
    "\n",
    "Tossing a coin can be simulated by dividing the interval  into two equal parts:"
   ]
  },
  {
   "cell_type": "code",
   "execution_count": 24,
   "metadata": {},
   "outputs": [
    {
     "name": "stdout",
     "output_type": "stream",
     "text": [
      "tail\n"
     ]
    }
   ],
   "source": [
    "r = np.random.rand()\n",
    "if r > 0.5:\n",
    "    print('head')\n",
    "else:\n",
    "    print('tail')"
   ]
  },
  {
   "cell_type": "markdown",
   "metadata": {},
   "source": [
    "A nice application of the Monte Carlo method is to estimate $\\pi$. Take a square of side length 2 and inscribe a circle of radius 1. Generate uniformly distributed pairs (i.e. points in $\\mathbf{R}^2$) of random numbers in $[0,2]^2$. Then the ratio of points falling into the circle to the total number of points should be the ratio of the areas of the circle and the square, namely $\\pi/4$. We construct a logical vector to detect and count the points inside the circle."
   ]
  },
  {
   "cell_type": "code",
   "execution_count": 25,
   "metadata": {},
   "outputs": [
    {
     "data": {
      "text/plain": [
       "3.139724"
      ]
     },
     "execution_count": 25,
     "metadata": {},
     "output_type": "execute_result"
    }
   ],
   "source": [
    "n = 1000000\n",
    "x = 2*np.random.rand(2, n)\n",
    "incircle = (x[0,:] - 1)**2 + (x[1,:] - 1)**2 < 1\n",
    "pi_estimated = 4*sum(incircle)/n\n",
    "pi_estimated"
   ]
  }
 ],
 "metadata": {
  "kernelspec": {
   "display_name": "Python 3",
   "language": "python",
   "name": "python3"
  },
  "language_info": {
   "codemirror_mode": {
    "name": "ipython",
    "version": 3
   },
   "file_extension": ".py",
   "mimetype": "text/x-python",
   "name": "python",
   "nbconvert_exporter": "python",
   "pygments_lexer": "ipython3",
   "version": "3.8.3"
  }
 },
 "nbformat": 4,
 "nbformat_minor": 4
}
