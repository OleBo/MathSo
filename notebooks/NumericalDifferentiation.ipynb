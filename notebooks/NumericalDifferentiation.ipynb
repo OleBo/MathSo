{
 "cells": [
  {
   "cell_type": "code",
   "execution_count": 1,
   "metadata": {},
   "outputs": [],
   "source": [
    "import numpy as np\n",
    "import matplotlib.pyplot as plt"
   ]
  },
  {
   "cell_type": "markdown",
   "metadata": {},
   "source": [
    "# Numerical Differentiation\n",
    "\n",
    "Using a Taylor expansion of the (sufficiently often differentiable) function $f$ about $x$,\n",
    "\n",
    "1. $f(x+h) = f(x) + h f'(x) + \\frac{h^2}{2!} f''(x) + \\frac{h^3}{3!} f'''(x) + \\ldots, $\n",
    "2. $f(x-h) = f(x) - h f'(x) + \\frac{h^2}{2!} f''(x) - \\frac{h^3}{3!} f'''(x) + \\ldots, $\n",
    "3. $f(x+2h) = f(x) + 2h f'(x) + 4\\frac{h^2}{2!} f''(x) + 8\\frac{h^3}{3!} f'''(x) + \\ldots, $\n",
    "4. $f(x-2h) = f(x) - 2h f'(x) + 4\\frac{h^2}{2!} f''(x) - 8\\frac{h^3}{3!} f'''(x) + \\ldots, $\n",
    "\n",
    "we can derive the following finite difference approximations to the derivative of $f$ at $x$.\n",
    "\n",
    "## First-order finite difference \n",
    "From (1) we obtain:\n",
    "$$\\begin{align*}f'_\\text{forward}(x) &=\\displaystyle \\frac{f(x+h) - f(x)}{h} \n",
    "\\color{red}{-\\frac{h}{2!}f''(x)-\\frac{h^2}{3!}f'''(x)+\\dots}\\\\\n",
    "                      &=\\displaystyle \\frac{f(x+h) - f(x)}{h}  \\color{red}{+\\mathcal{O}(h)}\n",
    "\\end{align*}$$\n",
    "\n",
    "From (2) we obtain:\n",
    "$$\\begin{align*}f'_\\text{backward}(x) &=\\displaystyle \\frac{f(x) - f(x-h)}{h} \n",
    "\\color{red}{+\\frac{h}{2!}f''(x)-\\frac{h^2}{3!}f'''(x)+\\dots}\\\\\n",
    "                      &=\\displaystyle \\frac{f(x) - f(x-h)}{h}  \\color{red}{+\\mathcal{O}(h)}\n",
    "\\end{align*}$$\n",
    "\n",
    "From (1) and (2) we obtain:\n",
    "$$\\begin{align*}f'_\\text{central}(x) &=\\displaystyle \\frac{f(x+h) - f(x-h)}{2h} \n",
    "\\color{red}{-\\frac{h^2}{3!}f'''(x)+\\dots}\\\\\n",
    "                      &=\\displaystyle \\frac{f(x+h) - f(x-h)}{2h}  \\color{red}{+\\mathcal{O}(h^2)}\n",
    "\\end{align*}$$\n",
    "\n",
    "The error for the forward and backward difference method os of order $h$, for the central methos the error is of order $h^2$. (From the highest oder term in the dropped part of the taylor series. [[1](https://www.youtube.com/watch?v=ZJkGI5DZQv8&list=PLYdroRCLMg5OvLx1EtY1ByvveJeTEXQd_&index=18)][[2](https://www.youtube.com/watch?v=C2Wk-wiXLvE&list=PLYdroRCLMg5OvLx1EtY1ByvveJeTEXQd_&index=20)])"
   ]
  },
  {
   "cell_type": "markdown",
   "metadata": {},
   "source": [
    "Here's an example of a function whose derivatives we know analytically:"
   ]
  },
  {
   "cell_type": "code",
   "execution_count": 2,
   "metadata": {},
   "outputs": [],
   "source": [
    "f = lambda x: np.log(x)\n",
    "x0 = 3\n",
    "df_ex = 1/x0      #f'(x0)\n",
    "d2f_ex = -1/x0**2 #f''(x0) "
   ]
  },
  {
   "cell_type": "code",
   "execution_count": 3,
   "metadata": {},
   "outputs": [],
   "source": [
    "def fd_forward1(f, x, h):\n",
    "    \"\"\"fd_forward1 calculates the derivative of f at x \n",
    "    with First-order forward finite difference.\n",
    "    \"\"\"\n",
    "    return (f(x + h) - f(x))/h\n",
    "def fd_backward1(f, x, h):\n",
    "    \"\"\"fd_backward1 calculates the derivative of f at x \n",
    "    with First-order backward finite difference.\n",
    "    \"\"\"\n",
    "    return (f(x)-f(x - h))/h\n",
    "def fd_central1(f, x, h):\n",
    "    \"\"\"fd_central1 calculates the derivative of f at x \n",
    "    with First-order central finite difference.\n",
    "    \"\"\"\n",
    "    return (f(x + h) - f(x-h))/(2*h)"
   ]
  },
  {
   "cell_type": "markdown",
   "metadata": {},
   "source": [
    "**Forward/Backward**: Let's check if the error really decreases by a factor of 2 as we halve $h$, until ultimately roundoff errors spoil the convergence:"
   ]
  },
  {
   "cell_type": "code",
   "execution_count": 4,
   "metadata": {
    "scrolled": true
   },
   "outputs": [
    {
     "name": "stdout",
     "output_type": "stream",
     "text": [
      "h = 5.00E-02, err = 2.75E-03, fac = 1.98\n",
      "h = 2.50E-02, err = 1.38E-03, fac = 1.99\n",
      "h = 1.25E-02, err = 6.93E-04, fac = 1.99\n",
      "h = 6.25E-03, err = 3.47E-04, fac = 2.00\n",
      "h = 3.13E-03, err = 1.73E-04, fac = 2.00\n",
      "h = 1.56E-03, err = 8.68E-05, fac = 2.00\n",
      "h = 7.81E-04, err = 4.34E-05, fac = 2.00\n",
      "h = 3.91E-04, err = 2.17E-05, fac = 2.00\n",
      "h = 1.95E-04, err = 1.09E-05, fac = 2.00\n",
      "h = 9.77E-05, err = 5.43E-06, fac = 2.00\n",
      "h = 4.88E-05, err = 2.71E-06, fac = 2.00\n",
      "h = 2.44E-05, err = 1.36E-06, fac = 2.00\n",
      "h = 1.22E-05, err = 6.78E-07, fac = 2.00\n",
      "h = 6.10E-06, err = 3.39E-07, fac = 2.00\n",
      "h = 3.05E-06, err = 1.70E-07, fac = 2.00\n",
      "h = 1.53E-06, err = 8.48E-08, fac = 2.00\n",
      "h = 7.63E-07, err = 4.26E-08, fac = 1.99\n",
      "h = 3.81E-07, err = 2.16E-08, fac = 1.97\n",
      "h = 1.91E-07, err = 1.06E-08, fac = 2.05\n",
      "h = 9.54E-08, err = 5.90E-09, fac = 1.79\n",
      "h = 4.77E-08, err = 5.90E-09, fac = 1.00\n",
      "h = 2.38E-08, err = 1.06E-08, fac = 0.56\n",
      "h = 1.19E-08, err = 1.24E-09, fac = 8.50\n"
     ]
    }
   ],
   "source": [
    "h = .1\n",
    "for m in np.arange(0,24):\n",
    "    df = fd_forward1(f, x0, h)\n",
    "    err = np.abs(df - df_ex)\n",
    "    if m > 0:\n",
    "        print('h = {:.2E}, err = {:.2E}, fac = {:.2f}'.format(h, err, err_old/err))\n",
    "    err_old = err\n",
    "    h = h/2"
   ]
  },
  {
   "cell_type": "code",
   "execution_count": 5,
   "metadata": {},
   "outputs": [
    {
     "name": "stdout",
     "output_type": "stream",
     "text": [
      "h = 5.00E-02, err = 2.81E-03, fac = 2.02\n",
      "h = 2.50E-02, err = 1.40E-03, fac = 2.01\n",
      "h = 1.25E-02, err = 6.96E-04, fac = 2.01\n",
      "h = 6.25E-03, err = 3.48E-04, fac = 2.00\n",
      "h = 3.13E-03, err = 1.74E-04, fac = 2.00\n",
      "h = 1.56E-03, err = 8.68E-05, fac = 2.00\n",
      "h = 7.81E-04, err = 4.34E-05, fac = 2.00\n",
      "h = 3.91E-04, err = 2.17E-05, fac = 2.00\n",
      "h = 1.95E-04, err = 1.09E-05, fac = 2.00\n",
      "h = 9.77E-05, err = 5.43E-06, fac = 2.00\n",
      "h = 4.88E-05, err = 2.71E-06, fac = 2.00\n",
      "h = 2.44E-05, err = 1.36E-06, fac = 2.00\n",
      "h = 1.22E-05, err = 6.78E-07, fac = 2.00\n",
      "h = 6.10E-06, err = 3.39E-07, fac = 2.00\n",
      "h = 3.05E-06, err = 1.70E-07, fac = 2.00\n",
      "h = 1.53E-06, err = 8.49E-08, fac = 2.00\n",
      "h = 7.63E-07, err = 4.24E-08, fac = 2.00\n",
      "h = 3.81E-07, err = 2.15E-08, fac = 1.98\n",
      "h = 1.91E-07, err = 1.16E-08, fac = 1.86\n",
      "h = 9.54E-08, err = 5.74E-09, fac = 2.01\n",
      "h = 4.77E-08, err = 3.41E-09, fac = 1.68\n",
      "h = 2.38E-08, err = 8.07E-09, fac = 0.42\n",
      "h = 1.19E-08, err = 1.74E-08, fac = 0.46\n"
     ]
    }
   ],
   "source": [
    "h = .1\n",
    "for m in np.arange(0,24):\n",
    "    df = fd_backward1(f, x0, h)\n",
    "    err = np.abs(df - df_ex)\n",
    "    if m > 0:\n",
    "        print('h = {:.2E}, err = {:.2E}, fac = {:.2f}'.format(h, err, err_old/err))\n",
    "    err_old = err\n",
    "    h = h/2"
   ]
  },
  {
   "cell_type": "markdown",
   "metadata": {},
   "source": [
    "**Central**: Let's check if the error really decreases by a factor of 4 as we halve $h$, until ultimately roundoff errors spoil the convergence:"
   ]
  },
  {
   "cell_type": "code",
   "execution_count": 6,
   "metadata": {},
   "outputs": [
    {
     "name": "stdout",
     "output_type": "stream",
     "text": [
      "h = 5.00E-02, err = 3.09E-05, fac = 4.00\n",
      "h = 2.50E-02, err = 7.72E-06, fac = 4.00\n",
      "h = 1.25E-02, err = 1.93E-06, fac = 4.00\n",
      "h = 6.25E-03, err = 4.82E-07, fac = 4.00\n",
      "h = 3.13E-03, err = 1.21E-07, fac = 4.00\n",
      "h = 1.56E-03, err = 3.01E-08, fac = 4.00\n",
      "h = 7.81E-04, err = 7.54E-09, fac = 4.00\n",
      "h = 3.91E-04, err = 1.88E-09, fac = 4.00\n",
      "h = 1.95E-04, err = 4.70E-10, fac = 4.00\n",
      "h = 9.77E-05, err = 1.17E-10, fac = 4.03\n",
      "h = 4.88E-05, err = 2.93E-11, fac = 3.99\n",
      "h = 2.44E-05, err = 8.79E-12, fac = 3.33\n",
      "h = 1.22E-05, err = 4.85E-12, fac = 1.81\n",
      "h = 6.10E-06, err = 4.85E-12, fac = 1.00\n",
      "h = 3.05E-06, err = 3.15E-11, fac = 0.15\n",
      "h = 1.53E-06, err = 6.79E-11, fac = 0.46\n",
      "h = 7.63E-07, err = 7.76E-11, fac = 0.88\n",
      "h = 3.81E-07, err = 7.76E-11, fac = 1.00\n",
      "h = 1.91E-07, err = 5.04E-10, fac = 0.15\n",
      "h = 9.54E-08, err = 7.76E-11, fac = 6.50\n",
      "h = 4.77E-08, err = 1.24E-09, fac = 0.06\n",
      "h = 2.38E-08, err = 1.24E-09, fac = 1.00\n",
      "h = 1.19E-08, err = 8.07E-09, fac = 0.15\n"
     ]
    }
   ],
   "source": [
    "h = .1\n",
    "for m in np.arange(0,24):\n",
    "    df = fd_central1(f, x0, h)\n",
    "    err = np.abs(df - df_ex)\n",
    "    if m > 0:\n",
    "        print('h = {:.2E}, err = {:.2E}, fac = {:.2f}'.format(h, err, err_old/err))\n",
    "    err_old = err\n",
    "    h = h/2"
   ]
  },
  {
   "cell_type": "code",
   "execution_count": null,
   "metadata": {},
   "outputs": [],
   "source": []
  },
  {
   "cell_type": "code",
   "execution_count": 7,
   "metadata": {},
   "outputs": [
    {
     "data": {
      "image/png": "[encoded data removed]",
      "text/plain": [
       "<Figure size 576x360 with 1 Axes>"
      ]
     },
     "metadata": {
      "needs_background": "light"
     },
     "output_type": "display_data"
    }
   ],
   "source": [
    "fig, ax = plt.subplots(figsize=(8, 5))\n",
    "f = lambda x: np.log(x)\n",
    "x0 = 0.2\n",
    "df = lambda x: 1/x\n",
    "h = .1\n",
    "a,b = x0-h,x0+h\n",
    "\n",
    "x = np.linspace(a-.03,b+.03,200)\n",
    "y = f(x) \n",
    "y0 = f(x0)\n",
    "yt = df(x0) * (x - x0) + y0 \n",
    "ytf = fd_forward1(f, x0, h) * (x - x0) + y0 \n",
    "ytb = fd_backward1(f, x0, h) * (x - x0) + y0 \n",
    "ytc = fd_central1(f, x0, h) * (x - x0) + y0 \n",
    "\n",
    "ax.plot(x,y,'r--',label=r'$f$')\n",
    "ax.plot(x,yt,'k--',label=r\"$f'$ (exact)\")\n",
    "ax.plot(x,ytf,'b-',label=r\"$\\hat{f}'$ (forward)\")\n",
    "ax.plot(x,ytb,'g-',label=r\"$\\hat{f}'$ (backward)\")\n",
    "ax.plot(x,ytc,'m-',label=r\"$\\hat{f}'$ (central)\")\n",
    "\n",
    "ax.annotate(r'$\\frac{f(x_i+h) - f(x_i)}{h}$', xy=(x0, y0), xytext=(x0+h, y0), xycoords='data', textcoords='data',\n",
    "            arrowprops={'arrowstyle': '<->','color':'b'},color='b')\n",
    "ax.annotate('', xy=(x0+h, f(x0+h)), xytext=(x0+h, y0), xycoords='data', textcoords='data',\n",
    "            arrowprops={'arrowstyle': '<->','color':'b'},color='b')\n",
    "\n",
    "ax.annotate(r'$\\frac{f(x_i)-f(x_i-h)}{h}$', xy=(x0-h, f(x0-h)), xytext=(x0, f(x0-h)), xycoords='data', textcoords='data',\n",
    "            arrowprops={'arrowstyle': '<->','color':'g'},color='g')\n",
    "ax.annotate('', xy=(x0, y0), xytext=(x0, f(x0-h)), xycoords='data', textcoords='data',\n",
    "            arrowprops={'arrowstyle': '<->','color':'g'},color='g')\n",
    "\n",
    "ax.annotate(r'$\\frac{f(x_i+h)-f(x_i-h)}{2h}$', xy=(x0+h, f(x0+h)), xytext=(x0-h, f(x0+h)), xycoords='data', textcoords='data',\n",
    "            arrowprops={'arrowstyle': '<->','color':'m'},color='m',horizontalalignment='right')\n",
    "ax.annotate('', xy=(x0-h, f(x0-h)), xytext=(x0-h, f(x0+h)), xycoords='data', textcoords='data',\n",
    "            arrowprops={'arrowstyle': '<->','color':'m'},color='m')\n",
    "\n",
    "ax.spines['right'].set_visible(False)\n",
    "ax.spines['top'].set_visible(False)\n",
    "\n",
    "plt.xticks([x0-h, x0, x0+h], [r'$x_i-h$', r'$x_i$', r'$x_i+h$'])\n",
    "plt.yticks([f(x0-h), f(x0), f(x0+h)], [r'$f(x_i-h)$', r'$f(x_i)$', r'$f(x_i+h)$'])\n",
    "plt.title('geometric interpretation (1st order derivative)')\n",
    "plt.legend(loc='lower right')\n",
    "plt.show()    "
   ]
  },
  {
   "cell_type": "markdown",
   "metadata": {},
   "source": [
    "## Second-order finite difference \n",
    "From (1)+(2) we obtain:\n",
    "$$\\begin{align*}f''_\\text{central}(x) &=\\displaystyle \\frac{f(x+h) - 2f(x)+f(x-h)}{h^2} \n",
    "\\color{red}{+\\frac{h^2}{12}f^{(4)}(x)+\\dots}\\\\\n",
    "                      &=\\displaystyle \\frac{f(x+h) - 2f(x) + f(x-h)}{h^2}  \\color{red}{+\\mathcal{O}(h^2)}\n",
    "\\end{align*}$$\n",
    "\n",
    "Ref: Chapra, Canale: Numerical Methods for Engineers"
   ]
  },
  {
   "cell_type": "markdown",
   "metadata": {},
   "source": [
    "Here's an example of a function whose derivatives we know analytically:"
   ]
  },
  {
   "cell_type": "code",
   "execution_count": 11,
   "metadata": {},
   "outputs": [],
   "source": [
    "f = lambda x: np.log(x)\n",
    "x0 = 3\n",
    "df_ex = 1/x0      #f'(x0)\n",
    "d2f_ex = -1/x0**2 #f''(x0) "
   ]
  },
  {
   "cell_type": "code",
   "execution_count": 12,
   "metadata": {},
   "outputs": [],
   "source": [
    "def f2d_central2(f, x, h):\n",
    "    \"\"\"fd_central2 calculates the derivative of f at x \n",
    "    with Second-order central finite difference.\n",
    "    \"\"\"\n",
    "    return (f(x + h) - 2*f(x) + f(x-h))/(h**2)"
   ]
  },
  {
   "cell_type": "markdown",
   "metadata": {},
   "source": [
    "**Central**: Let's check if the error really decreases by a factor of 4 as we halve $h$, until ultimately roundoff errors spoil the convergence:"
   ]
  },
  {
   "cell_type": "code",
   "execution_count": 13,
   "metadata": {},
   "outputs": [
    {
     "name": "stdout",
     "output_type": "stream",
     "text": [
      "h = 5.00E-02, err = 1.54E-05, fac = 4.00\n",
      "h = 2.50E-02, err = 3.86E-06, fac = 4.00\n",
      "h = 1.25E-02, err = 9.65E-07, fac = 4.00\n",
      "h = 6.25E-03, err = 2.41E-07, fac = 4.00\n",
      "h = 3.13E-03, err = 6.03E-08, fac = 4.00\n",
      "h = 1.56E-03, err = 1.52E-08, fac = 3.98\n",
      "h = 7.81E-04, err = 3.78E-09, fac = 4.01\n",
      "h = 3.91E-04, err = 1.24E-09, fac = 3.06\n",
      "h = 1.95E-04, err = 2.69E-09, fac = 0.46\n"
     ]
    }
   ],
   "source": [
    "h = .1\n",
    "for m in np.arange(0,10):\n",
    "    d2f = f2d_central2(f, x0, h)\n",
    "    err = np.abs(d2f - d2f_ex)\n",
    "    if m > 0:\n",
    "        print('h = {:.2E}, err = {:.2E}, fac = {:.2f}'.format(h, err, err_old/err))\n",
    "    err_old = err\n",
    "    h = h/2"
   ]
  },
  {
   "cell_type": "markdown",
   "metadata": {},
   "source": [
    "# Numerical solution of ordinary differential equations\n",
    "\n",
    "An ordinary differential equation (ODE)  is an equation of the form\n",
    "\n",
    "$$\\frac{dx}{dt}=f(y,t)$$\n",
    "\n",
    "for an unknown function $y:\\mathbf{R}\\to \\mathbf{R}^d$, $t\\mapsto y(t)$, and a right-hand side $f:\\mathbf{R} \\times \\mathbf{R}^d \\to \\mathbf{R}^d$. The initial value problem is completed by specifying an initial condition\n",
    "\n",
    "$$y(t_0)=y_0$$\n",
    "\n",
    "Under certain conditions on $f$, a unique solution exists at least in a neighbourhood of $t_0$."
   ]
  },
  {
   "cell_type": "markdown",
   "metadata": {},
   "source": [
    "A simple example is the growth of a bacteria colony, whose growth rate is proportional to the size of the population:\n",
    "\n",
    "$$\\frac{dy}{dt}=rt, y(0)=y_0$$\n",
    "\n",
    "with a constant $r\\in\\mathbf{R}$, The exact solution is $y(t) = y_0 \\, e^{rt}$."
   ]
  },
  {
   "cell_type": "code",
   "execution_count": 55,
   "metadata": {},
   "outputs": [],
   "source": [
    "r=0.8\n",
    "f=lambda t,y:r*y\n",
    "y0=1000\n",
    "a=0; b=2\n",
    "y_ex = lambda t: y0*np.exp(r*t)"
   ]
  },
  {
   "cell_type": "markdown",
   "metadata": {},
   "source": [
    "The simplest numerical method is **Euler's method**, which is based on the Taylor expansion at first order:\n",
    "\n",
    "$$y(t+h) = y(t) + h y'(t)+ O(h^2) = y(t) + h \\, f(t,h) + O(h^2),$$\n",
    "\n",
    "where for the second equality we have used the ODE to replace the derivative. This step is repeated $n$ times, with $h=(b-a)/n$, starting at $t=a$ and ending up at $t=b$. An implementation can be found in `euler`."
   ]
  },
  {
   "cell_type": "code",
   "execution_count": 52,
   "metadata": {},
   "outputs": [],
   "source": [
    "def euler(f,a,b,y0,n):\n",
    "    \"\"\"\n",
    "    EULER solves the ordinary differential equation with right-hand side f and\n",
    "    initial value y(a) = y0 on the interval [a, b] with n steps of Euler's method\n",
    "    \"\"\"\n",
    "    h = (b - a)/n\n",
    "    t,y = a,y0\n",
    "    t_,y_=[],[]\n",
    "    while t <= b:\n",
    "        t_.append(t)\n",
    "        y_.append(y)\n",
    "        t += h\n",
    "        y += h * f(t,y)\n",
    "    return(np.array(t_),np.array(y_))"
   ]
  },
  {
   "cell_type": "code",
   "execution_count": 53,
   "metadata": {},
   "outputs": [],
   "source": [
    "n = 20\n",
    "[t, y_euler] = euler(f, a, b, y0, n);"
   ]
  },
  {
   "cell_type": "code",
   "execution_count": 56,
   "metadata": {
    "scrolled": true
   },
   "outputs": [
    {
     "data": {
      "image/png": "[encoded data removed]",
      "text/plain": [
       "<Figure size 576x360 with 1 Axes>"
      ]
     },
     "metadata": {
      "needs_background": "light"
     },
     "output_type": "display_data"
    }
   ],
   "source": [
    "fig, ax = plt.subplots(figsize=(8, 5))\n",
    "ax.plot(t,y_ex(t),label=r'exact')\n",
    "ax.plot(t, y_euler, label=r'euler');\n",
    "plt.title('Numerical solution of ordinary differential equations')\n",
    "plt.legend(loc='lower right')\n",
    "plt.show()"
   ]
  },
  {
   "cell_type": "markdown",
   "metadata": {},
   "source": [
    "From the above equation, the local truncation error of a single Euler step is of the order $O(h^2)$. However after the step is repeated $n=(b-a)/h$ times, the global truncation error at $t=b$ is only $O(h)$. So when the number of subintervals is doubled, the error decreases by a factor of 2."
   ]
  },
  {
   "cell_type": "code",
   "execution_count": 64,
   "metadata": {},
   "outputs": [
    {
     "name": "stdout",
     "output_type": "stream",
     "text": [
      "n = 40, err = 336.67, fac = 1.89\n",
      "n = 80, err = 173.19, fac = 1.94\n",
      "n = 160, err = 87.86, fac = 1.97\n",
      "n = 320, err = 44.25, fac = 1.99\n",
      "n = 640, err = 22.21, fac = 1.99\n",
      "n = 1280, err = 11.12, fac = 2.00\n",
      "n = 2560, err = 5.57, fac = 2.00\n",
      "n = 5120, err = 2.78, fac = 2.00\n",
      "n = 10240, err = 1.39, fac = 2.00\n"
     ]
    }
   ],
   "source": [
    "n = 20\n",
    "for m in np.arange(0,10):\n",
    "    tm, ym = euler(f, a, b, y0, n)\n",
    "    err = abs(ym[n-1] - y_ex(b))\n",
    "    if m > 0:\n",
    "        print('n = {:}, err = {:.2f}, fac = {:.2f}'.format(n, err, err_old/err))\n",
    "    err_old = err\n",
    "    n = n*2"
   ]
  },
  {
   "cell_type": "markdown",
   "metadata": {},
   "source": [
    "There are more accurate schemes, e.g. the popular 4th-order Runge-Kutta method `rk4`:"
   ]
  },
  {
   "cell_type": "code",
   "execution_count": 67,
   "metadata": {},
   "outputs": [
    {
     "name": "stdout",
     "output_type": "stream",
     "text": [
      "y(0.0)\t= 1.000000 \t error:    0\n",
      "y(1.0)\t= 1.562500 \t error: 1.45722e-07\n",
      "y(2.0)\t= 3.999999 \t error: 9.19479e-07\n",
      "y(3.0)\t= 10.562497 \t error: 2.90956e-06\n",
      "y(4.0)\t= 24.999994 \t error: 6.23491e-06\n",
      "y(5.0)\t= 52.562489 \t error: 1.08197e-05\n",
      "y(6.0)\t= 99.999983 \t error: 1.65946e-05\n",
      "y(7.0)\t= 175.562476 \t error: 2.35177e-05\n",
      "y(8.0)\t= 288.999968 \t error: 3.15652e-05\n",
      "y(9.0)\t= 451.562459 \t error: 4.07232e-05\n",
      "y(10.0)\t= 675.999949 \t error: 5.09833e-05\n"
     ]
    }
   ],
   "source": [
    "def RK4(f):\n",
    "    return lambda t, y, dt: (\n",
    "            lambda dy1: (\n",
    "            lambda dy2: (\n",
    "            lambda dy3: (\n",
    "            lambda dy4: (dy1 + 2*dy2 + 2*dy3 + dy4)/6\n",
    "            )( dt * f( t + dt  , y + dy3   ) )\n",
    "            )( dt * f( t + dt/2, y + dy2/2 ) )\n",
    "            )( dt * f( t + dt/2, y + dy1/2 ) )\n",
    "            )( dt * f( t       , y         ) )\n",
    " \n",
    "def theory(t): return (t**2 + 4)**2 /16\n",
    " \n",
    "from math import sqrt\n",
    "dy = RK4(lambda t, y: t*sqrt(y))\n",
    " \n",
    "t, y, dt = 0., 1., .1\n",
    "while t <= 10:\n",
    "    if abs(round(t) - t) < 1e-5:\n",
    "        print(\"y(%2.1f)\\t= %4.6f \\t error: %4.6g\" % ( t, y, abs(y - theory(t))))\n",
    "    t, y = t + dt, y + dy( t, y, dt )"
   ]
  },
  {
   "cell_type": "code",
   "execution_count": null,
   "metadata": {},
   "outputs": [],
   "source": []
  }
 ],
 "metadata": {
  "kernelspec": {
   "display_name": "Python 3",
   "language": "python",
   "name": "python3"
  },
  "language_info": {
   "codemirror_mode": {
    "name": "ipython",
    "version": 3
   },
   "file_extension": ".py",
   "mimetype": "text/x-python",
   "name": "python",
   "nbconvert_exporter": "python",
   "pygments_lexer": "ipython3",
   "version": "3.8.3"
  }
 },
 "nbformat": 4,
 "nbformat_minor": 4
}
