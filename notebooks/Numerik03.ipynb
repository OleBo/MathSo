{
 "cells": [
  {
   "cell_type": "markdown",
   "metadata": {},
   "source": [
    "# 3. Lineare Gleichungssysteme"
   ]
  },
  {
   "cell_type": "code",
   "execution_count": 1,
   "metadata": {},
   "outputs": [],
   "source": [
    "import numpy as np"
   ]
  },
  {
   "cell_type": "markdown",
   "metadata": {},
   "source": [
    "Um Rundungsfehler deutlicher zu sehen, schreiben wir eine Hilfsfunktion, die auf $p$ signifikante Dezimalstellen rundet:"
   ]
  },
  {
   "cell_type": "code",
   "execution_count": 2,
   "metadata": {},
   "outputs": [],
   "source": [
    "def signif(x, p):\n",
    "    \"\"\"Rundet x auf p signifikante Dezimalstellen.\"\"\"\n",
    "    x = np.asarray(x)\n",
    "    x_positive = np.where(np.isfinite(x) & (x != 0), np.abs(x), 10**(p-1))\n",
    "    mags = 10 ** (p - 1 - np.floor(np.log10(x_positive)))\n",
    "    return np.round(x * mags) / mags"
   ]
  },
  {
   "cell_type": "code",
   "execution_count": 3,
   "metadata": {
    "tags": []
   },
   "outputs": [
    {
     "name": "stdout",
     "output_type": "stream",
     "text": [
      "0.00123\n",
      "-1230.0\n",
      "0.0\n"
     ]
    }
   ],
   "source": [
    "#Beispiel\n",
    "print(signif(0.0012345, 3))\n",
    "print(signif(-1234.5, 3))\n",
    "print(signif(0, 3))"
   ]
  },
  {
   "cell_type": "markdown",
   "metadata": {},
   "source": [
    "## 3.1 Der Gauß-Algorithmus"
   ]
  },
  {
   "cell_type": "code",
   "execution_count": 4,
   "metadata": {},
   "outputs": [],
   "source": [
    "def backsubst(U, y, p):\n",
    "    \"\"\"Rücksubstitution: Berechnet aus der rechten oberen Dreiecksmatrix U und rechten Seite y die Lösung x und rundet dabei auf p signifikante Dezimalstellen.\"\"\"\n",
    "    n = len(y)  #Indizes 0,1,...,n-1\n",
    "    if not np.shape(U) == (n,n):\n",
    "        raise Exception(\"Dimensionen von U und y passen nicht\")\n",
    "    x = np.zeros(n)\n",
    "    for i in range(n-1, -1, -1):\n",
    "        x[i] = y[i]\n",
    "        for k in range(i+1, n):\n",
    "            x[i] = signif(x[i] - signif(U[i,k]*x[k], p), p)\n",
    "        x[i] = signif(x[i]/U[i,i], p)\n",
    "    return np.array([x]).T  #Spaltenvektor"
   ]
  },
  {
   "cell_type": "code",
   "execution_count": 5,
   "metadata": {},
   "outputs": [],
   "source": [
    "def forwsubst(L, b, p):\n",
    "    \"\"\"Vorwärtssubstitution: Berechnet aus der linken unteren Dreiecksmatrix L mit Einsen auf der Diagonale und der rechten Seite b die Zwischenlösung y.\"\"\"\n",
    "    n = len(b)  #Indizes 0,1,...,n-1\n",
    "    if not np.shape(L) == (n,n):\n",
    "        raise Exception(\"Dimensionen von L und b passen nicht\")\n",
    "    y = np.zeros(n)\n",
    "    for i in range(1, n):\n",
    "        y[i] = b[i]\n",
    "        for j in range(0, i):\n",
    "            y[i] = signif(y[i] - signif(L[i,j]*y[j], p), p)\n",
    "        y[i] = signif(y[i]/L[i,i], p)\n",
    "    return np.array([y]).T  #Spaltenvektor"
   ]
  },
  {
   "cell_type": "markdown",
   "metadata": {},
   "source": [
    "### Beispiel zum Gauß'schen Eliminationsverfahren"
   ]
  },
  {
   "cell_type": "code",
   "execution_count": 6,
   "metadata": {
    "tags": []
   },
   "outputs": [
    {
     "name": "stdout",
     "output_type": "stream",
     "text": [
      "Erweiterte Koeffizientenmatrix Ab = \n",
      " [[ 2.100e+00  2.512e+03 -2.516e+03  6.500e+00]\n",
      " [-1.300e+00  8.800e+00 -7.600e+00 -5.300e+00]\n",
      " [ 9.000e-01 -6.200e+00  4.600e+00  2.900e+00]] \n",
      "\n",
      "\n",
      "A*x_exakt - b = \n",
      " [[ 0.0000000e+00]\n",
      " [ 8.8817842e-16]\n",
      " [-4.4408921e-16]] \n",
      "\n"
     ]
    }
   ],
   "source": [
    "A = np.array([[2.1, 2512, -2516], [-1.3, 8.8, -7.6], [0.9, -6.2, 4.6]])\n",
    "b = np.array([[6.5], [-5.3], [2.9]])\n",
    "Ab = np.concatenate((A, b), axis=1)\n",
    "print(\"Erweiterte Koeffizientenmatrix Ab = \\n {} \\n\".format(np.matrix(Ab)))\n",
    "print()\n",
    "\n",
    "x_exakt = np.array([[5], [1], [1]])\n",
    "print(\"A*x_exakt - b = \\n {} \\n\".format(np.matmul(A, x_exakt) - b))"
   ]
  },
  {
   "cell_type": "markdown",
   "metadata": {},
   "source": [
    "Wir probieren verschiedene Pivotstrategien aus und runden dabei auf $p$ Dezimalstellen."
   ]
  },
  {
   "cell_type": "code",
   "execution_count": 7,
   "metadata": {},
   "outputs": [],
   "source": [
    "p = 5"
   ]
  },
  {
   "cell_type": "markdown",
   "metadata": {},
   "source": [
    "### Spaltenmaximumstrategie\n",
    "In diesem Fall identisch mit der Diagonalstrategie."
   ]
  },
  {
   "cell_type": "code",
   "execution_count": 8,
   "metadata": {
    "tags": []
   },
   "outputs": [
    {
     "name": "stdout",
     "output_type": "stream",
     "text": [
      "Ab1 = \n",
      " [[ 2.1000e+00  2.5120e+03 -2.5160e+03  6.5000e+00]\n",
      " [ 0.0000e+00  1.5639e+03 -1.5651e+03 -1.2762e+00]\n",
      " [ 0.0000e+00 -1.0828e+03  1.0829e+03  1.1430e-01]] \n",
      "\n"
     ]
    }
   ],
   "source": [
    "#Erster Eliminationsschritt\n",
    "Ab1 = np.zeros((3,4))\n",
    "Ab1[0,:] = Ab[0,:]\n",
    "l10 = signif(Ab[1,0]/Ab[0,0], p)\n",
    "l20 = signif(Ab[2,0]/Ab[0,0], p)\n",
    "Ab1[1,1:] = signif(Ab[1,1:] - signif(l10*Ab[0,1:], p), p)\n",
    "Ab1[2,1:] = signif(Ab[2,1:] - signif(l20*Ab[0,1:], p), p)\n",
    "print(\"Ab1 = \\n {} \\n\".format(np.matrix(Ab1)))"
   ]
  },
  {
   "cell_type": "code",
   "execution_count": 9,
   "metadata": {
    "tags": []
   },
   "outputs": [
    {
     "name": "stdout",
     "output_type": "stream",
     "text": [
      "Ab2 = \n",
      " [[ 2.1000e+00  2.5120e+03 -2.5160e+03  6.5000e+00]\n",
      " [ 0.0000e+00  1.5639e+03 -1.5651e+03 -1.2762e+00]\n",
      " [ 0.0000e+00  0.0000e+00 -7.0000e-01 -7.6930e-01]] \n",
      "\n"
     ]
    }
   ],
   "source": [
    "#Zweiter Eliminationsschritt\n",
    "Ab2 = np.zeros((3,4))\n",
    "Ab2[[0,1],:] = Ab1[[0,1],:]\n",
    "l21 = signif(Ab1[2,1]/Ab1[1,1], p)\n",
    "Ab2[2,2:] = signif(Ab1[2,2:] - signif(l21*Ab1[1,2:], p), p)\n",
    "print(\"Ab2 = \\n {} \\n\".format(np.matrix(Ab2)))"
   ]
  },
  {
   "cell_type": "code",
   "execution_count": 10,
   "metadata": {
    "tags": []
   },
   "outputs": [
    {
     "name": "stdout",
     "output_type": "stream",
     "text": [
      "x = \n",
      " [[5.1905]\n",
      " [1.099 ]\n",
      " [1.099 ]] \n",
      "\n"
     ]
    }
   ],
   "source": [
    "#Wir speichern die LU-Zerlegung für später\n",
    "U = Ab2[0:3,0:3]\n",
    "L = np.array([[1, 0, 0], [l10, 1, 0], [l20, l21, 1]])\n",
    "\n",
    "#Rücksubstitution\n",
    "x_spmax = backsubst(Ab2[:,0:3], Ab2[:,3], p)\n",
    "print(\"x = \\n {} \\n\".format(x_spmax))"
   ]
  },
  {
   "cell_type": "markdown",
   "metadata": {},
   "source": [
    "### Relative Spaltenmaximumstrategie"
   ]
  },
  {
   "cell_type": "code",
   "execution_count": 12,
   "metadata": {
    "tags": []
   },
   "outputs": [
    {
     "name": "stdout",
     "output_type": "stream",
     "text": [
      "[0.00041748672988608577, 0.07344632768361581, 0.07692307692307693]\n"
     ]
    }
   ],
   "source": [
    "#Bestimme Quotienten aus Elementen der Spalte 0 und Betragssumme der jeweiligen Zeile\n",
    "q = [abs(Ab[i,0])/np.sum(abs(Ab[i,0:3])) for i in range(0,3)]\n",
    "print(q)"
   ]
  },
  {
   "cell_type": "code",
   "execution_count": 13,
   "metadata": {
    "tags": []
   },
   "outputs": [
    {
     "name": "stdout",
     "output_type": "stream",
     "text": [
      "Ab1 = \n",
      " [[ 9.000e-01 -6.200e+00  4.600e+00  2.900e+00]\n",
      " [-1.300e+00  8.800e+00 -7.600e+00 -5.300e+00]\n",
      " [ 2.100e+00  2.512e+03 -2.516e+03  6.500e+00]] \n",
      "\n"
     ]
    }
   ],
   "source": [
    "#Vertausche Zeilen \n",
    "Ab1 = Ab[[2,1,0],:]\n",
    "print(\"Ab1 = \\n {} \\n\".format(Ab1))"
   ]
  },
  {
   "cell_type": "code",
   "execution_count": 14,
   "metadata": {
    "tags": []
   },
   "outputs": [
    {
     "name": "stdout",
     "output_type": "stream",
     "text": [
      "Ab2 = \n",
      " [[ 9.0000e-01 -6.2000e+00  4.6000e+00  2.9000e+00]\n",
      " [ 0.0000e+00 -1.5528e-01 -9.5576e-01 -1.1112e+00]\n",
      " [ 0.0000e+00  2.5265e+03 -2.5267e+03 -2.6657e-01]] \n",
      "\n"
     ]
    }
   ],
   "source": [
    "#Erster Eliminationsschritt\n",
    "Ab2 = np.zeros((3,4))\n",
    "Ab2[0,:] = Ab1[0,:]\n",
    "l10 = signif(Ab1[1,0]/Ab1[0,0], p)\n",
    "l20 = signif(Ab1[2,0]/Ab1[0,0], p)\n",
    "Ab2[1,1:] = signif(Ab1[1,1:] - l10*Ab1[0,1:], p)\n",
    "Ab2[2,1:] = signif(Ab1[2,1:] - l20*Ab1[0,1:], p)\n",
    "print(\"Ab2 = \\n {} \\n\".format(np.matrix(Ab2)))"
   ]
  },
  {
   "cell_type": "code",
   "execution_count": 15,
   "metadata": {
    "tags": []
   },
   "outputs": [
    {
     "name": "stdout",
     "output_type": "stream",
     "text": [
      "[0.13976094470046083, 0.49998021055964537]\n"
     ]
    }
   ],
   "source": [
    "#Bestimme Quotienten aus Elementen der Spalte 1 und Betragssumme der jeweiligen Zeile\n",
    "q = [abs(Ab2[i,1])/np.sum(abs(Ab2[i,1:3])) for i in range(1,3)] \n",
    "print(q)"
   ]
  },
  {
   "cell_type": "code",
   "execution_count": 16,
   "metadata": {
    "tags": []
   },
   "outputs": [
    {
     "name": "stdout",
     "output_type": "stream",
     "text": [
      "Ab3 = \n",
      " [[ 9.0000e-01 -6.2000e+00  4.6000e+00  2.9000e+00]\n",
      " [ 0.0000e+00  2.5265e+03 -2.5267e+03 -2.6657e-01]\n",
      " [ 0.0000e+00 -1.5528e-01 -9.5576e-01 -1.1112e+00]] \n",
      "\n"
     ]
    }
   ],
   "source": [
    "#Vertausche Zeilen \n",
    "Ab3 = Ab2[[0,2,1], :]\n",
    "print(\"Ab3 = \\n {} \\n\".format(Ab3))"
   ]
  },
  {
   "cell_type": "code",
   "execution_count": 17,
   "metadata": {
    "tags": []
   },
   "outputs": [
    {
     "name": "stdout",
     "output_type": "stream",
     "text": [
      "Ab4 = \n",
      " [[ 9.0000e-01 -6.2000e+00  4.6000e+00  2.9000e+00]\n",
      " [ 0.0000e+00  2.5265e+03 -2.5267e+03 -2.6657e-01]\n",
      " [ 0.0000e+00  0.0000e+00 -1.1111e+00 -1.1112e+00]] \n",
      "\n"
     ]
    }
   ],
   "source": [
    "#Zweiter Eliminationsschritt\n",
    "Ab4 = np.zeros((3,4))\n",
    "Ab4[[0,1],:] = Ab3[[0,1],:]\n",
    "l21 = signif(Ab3[2,1]/Ab3[1,1], p)\n",
    "Ab4[2,2:] = signif(Ab3[2,2:] - signif(l21*Ab3[1,2:], p), p)\n",
    "print(\"Ab4 = \\n {} \\n\".format(np.matrix(Ab4)))"
   ]
  },
  {
   "cell_type": "code",
   "execution_count": 18,
   "metadata": {
    "tags": []
   },
   "outputs": [
    {
     "name": "stdout",
     "output_type": "stream",
     "text": [
      "x = \n",
      " [[5.0001]\n",
      " [1.0001]\n",
      " [1.0001]] \n",
      "\n"
     ]
    }
   ],
   "source": [
    "#Rücksubstitution\n",
    "x_relspmax = backsubst(Ab4[:,0:3], Ab4[:,3], p)\n",
    "print(\"x = \\n {} \\n\".format(x_relspmax))"
   ]
  },
  {
   "cell_type": "markdown",
   "metadata": {},
   "source": [
    "Deutlich genaueres Ergebnis als mit Spaltenmaximumstrategie!"
   ]
  },
  {
   "cell_type": "markdown",
   "metadata": {},
   "source": [
    "### Nachiteration\n",
    "Wir nehmen nochmal das Ergebnis der Spaltenmaximumstrategie und berechnen zunächst den Residuenvektor:"
   ]
  },
  {
   "cell_type": "code",
   "execution_count": 19,
   "metadata": {
    "tags": []
   },
   "outputs": [
    {
     "name": "stdout",
     "output_type": "stream",
     "text": [
      "x_spmax = \n",
      " [[5.1905]\n",
      " [1.099 ]\n",
      " [1.099 ]] \n",
      "\n",
      "r = A*x_spmax - b = \n",
      " [[ 0.00405]\n",
      " [-0.12885]\n",
      " [ 0.01305]] \n",
      "\n"
     ]
    }
   ],
   "source": [
    "print(\"x_spmax = \\n {} \\n\". format(x_spmax))\n",
    "r = np.matmul(A, x_spmax) - b\n",
    "print(\"r = A*x_spmax - b = \\n {} \\n\".format(r))"
   ]
  },
  {
   "cell_type": "code",
   "execution_count": 20,
   "metadata": {
    "tags": []
   },
   "outputs": [
    {
     "name": "stdout",
     "output_type": "stream",
     "text": [
      "x = \n",
      " [[4.98574]\n",
      " [0.9902 ]\n",
      " [0.9902 ]] \n",
      "\n"
     ]
    }
   ],
   "source": [
    "#Löse Az = -r\n",
    "y = forwsubst(L, -r, p)\n",
    "z = backsubst(U, y, p)\n",
    "x = x_spmax + z\n",
    "print(\"x = \\n {} \\n\".format(x))"
   ]
  },
  {
   "cell_type": "markdown",
   "metadata": {},
   "source": [
    "Verbessertes Ergebnis!"
   ]
  },
  {
   "cell_type": "markdown",
   "metadata": {},
   "source": [
    "### LU-Zerlegung mit scipy.linalg.lu"
   ]
  },
  {
   "cell_type": "code",
   "execution_count": 21,
   "metadata": {
    "tags": []
   },
   "outputs": [
    {
     "name": "stdout",
     "output_type": "stream",
     "text": [
      "P mit scipy: \n",
      " [[1. 0. 0.]\n",
      " [0. 1. 0.]\n",
      " [0. 0. 1.]] \n",
      "\n",
      "L mit scipy: \n",
      " [[ 1.          0.          0.        ]\n",
      " [-0.61904762  1.          0.        ]\n",
      " [ 0.42857143 -0.69237656  1.        ]] \n",
      "\n",
      "L gerundet mit Spaltenmaximumstrategie: \n",
      " [[ 1.       0.       0.     ]\n",
      " [-0.61905  1.       0.     ]\n",
      " [ 0.42857 -0.69237  1.     ]] \n",
      "\n",
      "U mit scipy: \n",
      " [[ 2.10000000e+00  2.51200000e+03 -2.51600000e+03]\n",
      " [ 0.00000000e+00  1.56384762e+03 -1.56512381e+03]\n",
      " [ 0.00000000e+00  0.00000000e+00 -7.69318652e-01]] \n",
      "\n",
      "U gerundet mit Spaltenmaximumstrategie: \n",
      " [[ 2.1000e+00  2.5120e+03 -2.5160e+03]\n",
      " [ 0.0000e+00  1.5639e+03 -1.5651e+03]\n",
      " [ 0.0000e+00  0.0000e+00 -7.0000e-01]] \n",
      "\n"
     ]
    }
   ],
   "source": [
    "from scipy.linalg import lu\n",
    "Ps, Ls, Us = lu(A)\n",
    "print(\"P mit scipy: \\n {} \\n\".format(Ps))\n",
    "print(\"L mit scipy: \\n {} \\n\".format(Ls))\n",
    "print(\"L gerundet mit Spaltenmaximumstrategie: \\n {} \\n\".format(L))\n",
    "print(\"U mit scipy: \\n {} \\n\".format(Us))\n",
    "print(\"U gerundet mit Spaltenmaximumstrategie: \\n {} \\n\".format(U))"
   ]
  }
 ],
 "metadata": {
  "kernelspec": {
   "display_name": "Python 3",
   "language": "python",
   "name": "python3"
  },
  "language_info": {
   "codemirror_mode": {
    "name": "ipython",
    "version": 3
   },
   "file_extension": ".py",
   "mimetype": "text/x-python",
   "name": "python",
   "nbconvert_exporter": "python",
   "pygments_lexer": "ipython3",
   "version": "3.8.3"
  }
 },
 "nbformat": 4,
 "nbformat_minor": 4
}
