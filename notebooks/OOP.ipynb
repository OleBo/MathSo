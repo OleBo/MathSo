{
 "cells": [
  {
   "cell_type": "code",
   "execution_count": 1,
   "id": "c9a3a8eb",
   "metadata": {},
   "outputs": [
    {
     "data": {
      "text/plain": [
       "'3.9.7 (default, Nov 23 2021, 03:46:27) \\n[Clang 13.0.0 (clang-1300.0.29.3)]'"
      ]
     },
     "execution_count": 1,
     "metadata": {},
     "output_type": "execute_result"
    }
   ],
   "source": [
    "import sys\n",
    "sys.version"
   ]
  },
  {
   "cell_type": "markdown",
   "id": "3436a398",
   "metadata": {},
   "source": [
    "# Python Object Oriented Programming Paradigm (OOP)\n",
    "\n",
    "Python is an object oriented programming language, but it does not support strong encapsulation. \n",
    "\n",
    "Introductory topics in OOP:\n",
    "- defining classes\n",
    "- creating objects\n",
    "- instance variables\n",
    "- inheritance \n",
    "- special methods like __str__\n",
    "\n",
    "Advanced topics:\n",
    "- use of decorators\n",
    "- writing a custom 'new' method\n",
    "- metaclasses\n",
    "- multiple inheritance"
   ]
  },
  {
   "cell_type": "markdown",
   "id": "9b808bf1",
   "metadata": {},
   "source": [
    "## Inheritance\n",
    "\n",
    "Inheritance is used to reuse code from an existing class.\n",
    "It allows a class to reuse the logic of an existing class. Suppose you have the following Person class:"
   ]
  },
  {
   "cell_type": "code",
   "execution_count": 2,
   "id": "b14a77a9",
   "metadata": {},
   "outputs": [],
   "source": [
    "class Person:\n",
    "    def __init__(self, name):\n",
    "        self.name = name\n",
    "\n",
    "    def greet(self):\n",
    "        return f\"Hi, it's {self.name}\""
   ]
  },
  {
   "cell_type": "markdown",
   "id": "677cdfc8",
   "metadata": {},
   "source": [
    "The Person class has the name attribute and the greet() method.\n",
    "\n",
    "Now, you want to define the Employee that is similar to the Person class:"
   ]
  },
  {
   "cell_type": "code",
   "execution_count": 3,
   "id": "1bede1fa",
   "metadata": {},
   "outputs": [],
   "source": [
    "class Employee:\n",
    "    def __init__(self, name, job_title):\n",
    "        self.name = name\n",
    "        self.job_title = job_title\n",
    "\n",
    "    def greet(self):\n",
    "        return f\"Hi, it's {self.name}\""
   ]
  },
  {
   "cell_type": "markdown",
   "id": "504df4da",
   "metadata": {},
   "source": [
    "The Employee class has two attributes name and job_title. It also has the greet() method that is exactly the same as the greet() method of the Person class.\n",
    "\n",
    "To reuse the greet() method from the Person class in the Employee class, you can create a relationship between the Person and Employee classes. To do it, you use inheritance so that the Employee class inherits from the Person class.\n",
    "\n",
    "The following redefines the Employee class that inherits from the Person class:"
   ]
  },
  {
   "cell_type": "code",
   "execution_count": 4,
   "id": "739cf3c1",
   "metadata": {},
   "outputs": [],
   "source": [
    "class Employee(Person):\n",
    "    def __init__(self, name, job_title):\n",
    "        self.name = name\n",
    "        self.job_title = job_title"
   ]
  },
  {
   "cell_type": "markdown",
   "id": "01a1bad1",
   "metadata": {},
   "source": [
    "By doing this, the Employee class behaves the same as the Person class without redefining the greet() method.\n",
    "\n",
    "This is a single inheritance because the Employee inherits from a single class (Person). Note that Python also supports multiple inheritances where a class inherits from multiple classes.\n",
    "\n",
    "Since the Employee inherits attributes and methods of the Person class, you can use the instance of the Employee class as if it were an instance of the Person class.\n",
    "\n",
    "For example, the following creates a new instance of the Employee class and call the greet() method:"
   ]
  },
  {
   "cell_type": "code",
   "execution_count": 5,
   "id": "13684b86",
   "metadata": {},
   "outputs": [
    {
     "data": {
      "text/plain": [
       "\"Hi, it's John\""
      ]
     },
     "execution_count": 5,
     "metadata": {},
     "output_type": "execute_result"
    }
   ],
   "source": [
    "employee = Employee('John', 'Python Developer')\n",
    "employee.greet()"
   ]
  },
  {
   "cell_type": "markdown",
   "id": "15c6e613",
   "metadata": {},
   "source": [
    "The Person class is the parent class, the base class, or the super class of the Employee class. And the Employee class is a child class, a derived class, or a subclass of the Person class.\n",
    "\n",
    "The Employee class derives from, extends, or subclasses the Person class.\n",
    "\n",
    "The relationship between the Employee class and Person class is IS-A relationship. In other words, an employee is a person.\n",
    "\n",
    "The following shows the type of instances of the Person and Employee classes:"
   ]
  },
  {
   "cell_type": "code",
   "execution_count": 6,
   "id": "140733f8",
   "metadata": {},
   "outputs": [
    {
     "name": "stdout",
     "output_type": "stream",
     "text": [
      "<class '__main__.Person'>\n",
      "<class '__main__.Employee'>\n"
     ]
    }
   ],
   "source": [
    "person = Person('Jane')\n",
    "print(type(person))\n",
    "\n",
    "employee = Employee('John', 'Python Developer')\n",
    "print(type(employee))"
   ]
  },
  {
   "cell_type": "markdown",
   "id": "d9efb614",
   "metadata": {},
   "source": [
    "To check if an object is an instance of a class, you use the isinstance() method. For example:"
   ]
  },
  {
   "cell_type": "code",
   "execution_count": 7,
   "id": "ab5e48ac",
   "metadata": {},
   "outputs": [
    {
     "name": "stdout",
     "output_type": "stream",
     "text": [
      "True\n",
      "True\n",
      "True\n",
      "False\n"
     ]
    }
   ],
   "source": [
    "person = Person('Jane')\n",
    "print(isinstance(person, Person))  # True\n",
    "\n",
    "employee = Employee('John', 'Python Developer')\n",
    "print(isinstance(employee, Person))  # True\n",
    "print(isinstance(employee, Employee))  # True\n",
    "print(isinstance(person, Employee))  # False"
   ]
  },
  {
   "cell_type": "markdown",
   "id": "0ed90960",
   "metadata": {},
   "source": [
    "To check if a class is a subclass of another class, you use the issubclass() function. For example:"
   ]
  },
  {
   "cell_type": "code",
   "execution_count": 8,
   "id": "cecd56dd",
   "metadata": {},
   "outputs": [
    {
     "name": "stdout",
     "output_type": "stream",
     "text": [
      "True\n"
     ]
    }
   ],
   "source": [
    "print(issubclass(Employee, Person)) # True"
   ]
  },
  {
   "cell_type": "markdown",
   "id": "ba8c6384",
   "metadata": {},
   "source": [
    "Note that when you define a class that doesn’t inherit from any class, it’ll implicitly inherit from the built-in object class.\n",
    "\n",
    "For example, the Person class inherits from the object class implicitly. Therefore, it is a subclass of the object class:"
   ]
  },
  {
   "cell_type": "code",
   "execution_count": 9,
   "id": "9d375f2b",
   "metadata": {},
   "outputs": [
    {
     "name": "stdout",
     "output_type": "stream",
     "text": [
      "True\n"
     ]
    }
   ],
   "source": [
    "print(issubclass(Person, object)) # True"
   ]
  },
  {
   "cell_type": "markdown",
   "id": "b2b6ecaa",
   "metadata": {},
   "source": [
    "### Abstract Classes and Methods\n",
    "\n",
    "Abstraction focuses on hiding the internal implementations of a process or method from the user. In this way, the user knows what he is doing but not how the work is being done.\n",
    "\n",
    "A powerful way to manage abstraction is through the use of hierarchical classification. This allows us to layer the semantics of complex systems, breaking them into more manageable pieces. \n",
    "\n",
    "To declare an Abstract class, we firstly need to import the abc module. Let us look at an example."
   ]
  },
  {
   "cell_type": "code",
   "execution_count": 10,
   "id": "c7abd61e",
   "metadata": {},
   "outputs": [],
   "source": [
    "from abc import ABC\n",
    "class abs_class(ABC):\n",
    "    #abstract methods\n",
    "    pass"
   ]
  },
  {
   "cell_type": "markdown",
   "id": "962b37b8",
   "metadata": {},
   "source": [
    "Here, abs_class is the abstract class inside which abstract methods or any other sort of methods can be defined.\n",
    "\n",
    "As a property, abstract classes can have any number of abstract methods coexisting with any number of other methods. For example we can see below."
   ]
  },
  {
   "cell_type": "code",
   "execution_count": 11,
   "id": "28970465",
   "metadata": {},
   "outputs": [],
   "source": [
    "from abc import ABC, abstractmethod\n",
    "class abs_class(ABC):\n",
    "    #normal method\n",
    "    def method(self):\n",
    "        #method definition\n",
    "        pass\n",
    "    @abstractmethod\n",
    "    def Abs_method(self):\n",
    "        #Abs_method definition\n",
    "        pass"
   ]
  },
  {
   "cell_type": "markdown",
   "id": "d39d133a",
   "metadata": {},
   "source": [
    "Here, method() is normal method whereas Abs_method() is an abstract method implementing @abstractmethod from the abc module.\n",
    "\n",
    "**example:** Absclass is the abstract class that inherits from the ABC class from the abc module. It contains an abstract method task() and a print() method which are visible by the user. Two other classes inheriting from this abstract class are test_class and example_class. Both of them have their own task() method (extension of the abstract method).\n",
    "\n",
    "After the user creates objects from both the test_class and example_class classes and invoke the task() method for both of them, the hidden definitions for task() methods inside both the classes come into play. These definitions are hidden from the user. The abstract method task() from the abstract class Absclass is actually never invoked.\n",
    "\n",
    "But when the print() method is called for both the test_obj and example_obj, the Absclass’s print() method is invoked since it is not an abstract method."
   ]
  },
  {
   "cell_type": "code",
   "execution_count": 12,
   "id": "148e4518",
   "metadata": {},
   "outputs": [
    {
     "name": "stdout",
     "output_type": "stream",
     "text": [
      "We are inside test_class task\n",
      "Passed value:  100\n",
      "We are inside example_class task\n",
      "Passed value:  200\n",
      "test_obj is instance of Absclass?  True\n",
      "example_obj is instance of Absclass?  True\n"
     ]
    }
   ],
   "source": [
    "from abc import ABC, abstractmethod\n",
    "class Absclass(ABC):\n",
    "    def print(self,x):\n",
    "        print(\"Passed value: \", x)\n",
    "    @abstractmethod\n",
    "    def task(self):\n",
    "        print(\"We are inside Absclass task\")\n",
    " \n",
    "class test_class(Absclass):\n",
    "    def task(self):\n",
    "        print(\"We are inside test_class task\")\n",
    " \n",
    "class example_class(Absclass):\n",
    "    def task(self):\n",
    "        print(\"We are inside example_class task\")\n",
    " \n",
    "#object of test_class created\n",
    "test_obj = test_class()\n",
    "test_obj.task()\n",
    "test_obj.print(100)\n",
    " \n",
    "#object of example_class created\n",
    "example_obj = example_class()\n",
    "example_obj.task()\n",
    "example_obj.print(200)\n",
    " \n",
    "print(\"test_obj is instance of Absclass? \", isinstance(test_obj, Absclass))\n",
    "print(\"example_obj is instance of Absclass? \", isinstance(example_obj, Absclass))"
   ]
  },
  {
   "cell_type": "code",
   "execution_count": null,
   "id": "e4b0603a",
   "metadata": {},
   "outputs": [],
   "source": []
  },
  {
   "cell_type": "code",
   "execution_count": null,
   "id": "9f7c13dd",
   "metadata": {},
   "outputs": [],
   "source": []
  },
  {
   "cell_type": "markdown",
   "id": "6d7a687a",
   "metadata": {},
   "source": [
    "## Decorators\n",
    "\n",
    "Decorators are functions or classes that provide enhanced functionality to the original function or class without the programmer having to modify theit structure. "
   ]
  },
  {
   "cell_type": "markdown",
   "id": "1ee684f2",
   "metadata": {},
   "source": [
    "**example:** A Student class with variables name, age, score. We will add a simple __init__ method to instanciate an object when these attributes are provided."
   ]
  },
  {
   "cell_type": "code",
   "execution_count": 13,
   "id": "6c9f5869",
   "metadata": {},
   "outputs": [],
   "source": [
    "class Student:\n",
    "    def __init__(self, name, score, total):\n",
    "        self.name = name\n",
    "        self.score = score\n",
    "        self.total = total"
   ]
  },
  {
   "cell_type": "markdown",
   "id": "78ee27c8",
   "metadata": {},
   "source": [
    "Suppose we want to and a method that takes a srudent's score and total marks and then returns the percentage:"
   ]
  },
  {
   "cell_type": "code",
   "execution_count": 14,
   "id": "4c65eae8",
   "metadata": {},
   "outputs": [],
   "source": [
    "def get_percent(score, total):\n",
    "\treturn score / total * 100"
   ]
  },
  {
   "cell_type": "code",
   "execution_count": 15,
   "id": "a2e69004",
   "metadata": {},
   "outputs": [
    {
     "data": {
      "text/plain": [
       "25.0"
      ]
     },
     "execution_count": 15,
     "metadata": {},
     "output_type": "execute_result"
    }
   ],
   "source": [
    "get_percent(25, 100)"
   ]
  },
  {
   "cell_type": "markdown",
   "id": "26889740",
   "metadata": {},
   "source": [
    "let's define a decorator grade_decorator. It takes a function as input and outputs another function (wrapper).\n",
    "\n",
    "The wrapper function:\n",
    "- takes our two arguments score and total\n",
    "- calls the function object passed to the grade_decorator\n",
    "- then calculates the grade that is corresponding to the percent scored.\n",
    "- Finally, it returns the calculated percentage along with the grade."
   ]
  },
  {
   "cell_type": "code",
   "execution_count": 16,
   "id": "93343dd3",
   "metadata": {},
   "outputs": [],
   "source": [
    "def grade_decorator(f):\n",
    "\tdef wrapper(score, total):\n",
    "\t\tpercent = f(score, total)\n",
    "\n",
    "\t\tgrades = {\n",
    "\t\t\t5: 'A',\n",
    "\t\t\t4: 'A',\n",
    "\t\t\t3: 'B',\n",
    "\t\t\t2: 'C',\n",
    "\t\t\t1: 'D'\n",
    "\t\t}\n",
    "\n",
    "\t\treturn percent, grades[percent // 20]\n",
    "\treturn wrapper"
   ]
  },
  {
   "cell_type": "markdown",
   "id": "384d2630",
   "metadata": {},
   "source": [
    "To improve the get_percent function, use the @ symbol with the decorator name above our function:"
   ]
  },
  {
   "cell_type": "code",
   "execution_count": 17,
   "id": "3334529b",
   "metadata": {},
   "outputs": [],
   "source": [
    "@grade_decorator\n",
    "def get_percent(score, total):\n",
    "    return score / total * 100"
   ]
  },
  {
   "cell_type": "code",
   "execution_count": 18,
   "id": "7e58cb9c",
   "metadata": {},
   "outputs": [
    {
     "data": {
      "text/plain": [
       "(25.0, 'D')"
      ]
     },
     "execution_count": 18,
     "metadata": {},
     "output_type": "execute_result"
    }
   ],
   "source": [
    "get_percent(25, 100)"
   ]
  },
  {
   "cell_type": "markdown",
   "id": "609c10ae",
   "metadata": {},
   "source": [
    "The function get_percent is replaced by wrapper when we apply the decorator. "
   ]
  },
  {
   "cell_type": "markdown",
   "id": "57ec4b0f",
   "metadata": {},
   "source": [
    "We'll place get_percent method inside the Student class, and place our decorator outside the class. Since get_percent is an instance method, we add a self argument to it. "
   ]
  },
  {
   "cell_type": "code",
   "execution_count": 19,
   "id": "febcdef5",
   "metadata": {},
   "outputs": [],
   "source": [
    "def grade_decorator(f):\n",
    "\tdef wrapper(score, total):\n",
    "\t\tpercent = f(score, total)\n",
    "\n",
    "\t\tgrades = {\n",
    "\t\t\t5: 'A',\n",
    "\t\t\t4: 'A',\n",
    "\t\t\t3: 'B',\n",
    "\t\t\t2: 'C',\n",
    "\t\t\t1: 'D'\n",
    "\t\t}\n",
    "\n",
    "\t\treturn percent, grades[percent // 20]\n",
    "\treturn wrapper\n",
    "\n",
    "class Student:\n",
    "\tdef __init__(self, name, score, total):\n",
    "\t\tself.name = name\n",
    "\t\tself.__score = score\n",
    "\t\tself.total = total\n",
    "    \n",
    "\t@grade_decorator\n",
    "\tdef get_percent(self, score, total):\n",
    "\t\treturn score / total * 100"
   ]
  },
  {
   "cell_type": "markdown",
   "id": "46056fcc",
   "metadata": {},
   "source": [
    "There are several decorators used in calsses:\n",
    "- instance method\n",
    "- class method\n",
    "- static method\n",
    "\n",
    "**Instance methods** are those that are called by an object, and hence are passed imformation about that object. This is done through the self argument. When that method is called, the object's information is passed implicitly through self. "
   ]
  },
  {
   "cell_type": "code",
   "execution_count": 20,
   "id": "da08f87d",
   "metadata": {},
   "outputs": [],
   "source": [
    "def get_record(self):\n",
    "\tpercent, grade = Student.get_percent(self.score, self.total)\n",
    "\treturn f\"Name: {self.name} | Percentage scored: {percent} % | Grade: {grade}\""
   ]
  },
  {
   "cell_type": "markdown",
   "id": "cd0c0deb",
   "metadata": {},
   "source": [
    "A **class method** is called on a class, and hence, it requires a class to be passed to it. This is done with the cls argument by convention. And we also add a @classmethod decorator to it. "
   ]
  },
  {
   "cell_type": "raw",
   "id": "422773ec",
   "metadata": {},
   "source": [
    "class A:\n",
    "    def instance_method(self):\n",
    "        return self\n",
    "    @classmethod\n",
    "    def class_method(cls):\n",
    "        return cls\n",
    "A.class_method()"
   ]
  },
  {
   "cell_type": "markdown",
   "id": "6d0ec5f8",
   "metadata": {},
   "source": [
    "A common use case of class methods are **factory pattern**. Here objects are returned based on certain parameters. \n",
    "\n",
    "**example:** Let's define a few ways to create instances of our Student class:\n",
    "- by seperate arguments: e.g. (<name>,20,85)\n",
    "- by comma-separated string: e.g. \"<name>,20,85\"\n",
    "- by a tuple: e,g, (<name>,20,85)"
   ]
  },
  {
   "cell_type": "code",
   "execution_count": 21,
   "id": "646dee47",
   "metadata": {},
   "outputs": [],
   "source": [
    "@classmethod\n",
    "def from_str(cls, str_arg):\n",
    "    name, score, total = str_arg.split(',')\n",
    "    return cls(name, score, total)\n",
    "\n",
    "@classmethod\n",
    "def from_tuple(cls, tup_arg):\n",
    "    name, score, total = tup_arg\n",
    "    return cls(name, score, total)\n",
    "\n",
    "def __str__(self):\n",
    "    return (\"Name: \" + str(self.name) + \" Score: \" + str(self.__score) + \" Total: \" + str(self.total))\n"
   ]
  },
  {
   "cell_type": "markdown",
   "id": "00f34a42",
   "metadata": {},
   "source": [
    "We also define __str__ method to be able to print the Student object to see if it has been instanciated properly."
   ]
  },
  {
   "cell_type": "code",
   "execution_count": 22,
   "id": "1ecb0268",
   "metadata": {},
   "outputs": [],
   "source": [
    "def grade_decorator(f):\n",
    "\tdef wrapper(score, total):\n",
    "\t\tpercent = f(score, total)\n",
    "\n",
    "\t\tgrades = {\n",
    "\t\t\t5: 'A',\n",
    "\t\t\t4: 'A',\n",
    "\t\t\t3: 'B',\n",
    "\t\t\t2: 'C',\n",
    "\t\t\t1: 'D'\n",
    "\t\t}\n",
    "\n",
    "\t\treturn percent, grades[percent // 20]\n",
    "\treturn wrapper\n",
    "\n",
    "\n",
    "class Student:\n",
    "\tdef __init__(self, name, score, total):\n",
    "\t\tself.name = name\n",
    "\t\tself.score = score\n",
    "\t\tself.total = total\n",
    "\n",
    "\t@grade_decorator\n",
    "\tdef get_percent(score, total):\n",
    "\t\treturn score / total * 100\n",
    "\n",
    "\t@classmethod\n",
    "\tdef from_str(cls, str_arg):\n",
    "\t\tname, score, total = str_arg.split(',')\n",
    "\t\treturn cls(name, int(score), int(total))\n",
    "\n",
    "\t@classmethod\n",
    "\tdef from_tuple(cls, tup_arg):\n",
    "\t\tname, score, total = tup_arg\n",
    "\t\treturn cls(name, score, total)\n",
    "\n",
    "\tdef get_record(self):\n",
    "\t\tpercent, grade = Student.get_percent(self.score, self.total)\n",
    "\n",
    "\t\treturn f\"Name: {self.name} | Percentage scored: {percent} % | Grade: {grade}\"\n",
    "\n",
    "\tdef __str__(self):\n",
    "\t\treturn (\"Name: \" + str(self.name) + \" Score: \" + str(self.score) + \" Total : \" + str(self.total))\n"
   ]
  },
  {
   "cell_type": "markdown",
   "id": "c54a9766",
   "metadata": {},
   "source": [
    "Now, let's create three Student objects, each from a different kind of data:"
   ]
  },
  {
   "cell_type": "code",
   "execution_count": 23,
   "id": "17e1cfa9",
   "metadata": {},
   "outputs": [
    {
     "name": "stdout",
     "output_type": "stream",
     "text": [
      "Name: John Score: 20 Total : 100\n",
      "Name: Jack Score: 60 Total : 100\n",
      "Name: Jill Score: 125 Total : 200\n"
     ]
    }
   ],
   "source": [
    "# by two separate arguments\n",
    "student = Student(\"John\", 20, 100)\n",
    "print(student)\n",
    "\n",
    "# by a comma separated string\n",
    "student_str = Student.from_str(\"Jack, 60, 100\")\n",
    "print(student_str)\n",
    "\n",
    "# by a tuple\n",
    "student_tup = Student.from_tuple((\"Jill\", 125, 200))\n",
    "print(student_tup)"
   ]
  },
  {
   "cell_type": "markdown",
   "id": "dd4fbb39",
   "metadata": {},
   "source": [
    "... and let's test the decorated get_percent method:"
   ]
  },
  {
   "cell_type": "code",
   "execution_count": 24,
   "id": "626a83f6",
   "metadata": {},
   "outputs": [
    {
     "name": "stdout",
     "output_type": "stream",
     "text": [
      "Name: John | Percentage scored: 20.0 % | Grade: D\n",
      "Name: Jack | Percentage scored: 60.0 % | Grade: B\n",
      "Name: Jill | Percentage scored: 62.5 % | Grade: B\n"
     ]
    }
   ],
   "source": [
    "print(student.get_record())\n",
    "print(student_str.get_record())\n",
    "print(student_tup.get_record())"
   ]
  },
  {
   "cell_type": "markdown",
   "id": "35926c37",
   "metadata": {},
   "source": [
    "A **static method** doesn't care about an instance. It doesn't require a class being passed to it implicitely. It is placed insede a class and can be called using both class and object. We use the @staticmethod decorator for these kind of methods."
   ]
  },
  {
   "cell_type": "markdown",
   "id": "c12e0e0a",
   "metadata": {},
   "source": [
    "class A:\n",
    "    def instance_method(self):\n",
    "        return self\n",
    "    @classmethod\n",
    "    def class_method(cls):\n",
    "        return cls\n",
    "    @staticmethod\n",
    "    def static_method():\n",
    "        return\n",
    "a = A()\n",
    "a.static_method()\n",
    "A.static_method()"
   ]
  },
  {
   "cell_type": "markdown",
   "id": "c6dfb3a8",
   "metadata": {},
   "source": [
    "Static methods are used instead of regular functions when it makes more sense to place the function inside the class, e.g. for utility methods that deal solely with a class or its objects. Those methods woun't be used by anyone else. \n",
    "\n",
    "**example:** We can make the get_persent method static, since it serves a general purpose and needs not be bound to our objects. To do this we can simply ass @staticmethod above the get_percent method.  "
   ]
  },
  {
   "cell_type": "code",
   "execution_count": 25,
   "id": "8408cf7d",
   "metadata": {},
   "outputs": [],
   "source": [
    "@staticmethod\n",
    "@grade_decorator\n",
    "def get_percent(score, total):\n",
    "\treturn score / total * 100"
   ]
  },
  {
   "cell_type": "markdown",
   "id": "f8375df9",
   "metadata": {},
   "source": [
    "The **property** decorator provides methods for accessing (getter), modifying (setter) and deleting (deleter) the attributes of an object.  "
   ]
  },
  {
   "cell_type": "markdown",
   "id": "9105f590",
   "metadata": {},
   "source": [
    "The **getter** and **setter** methods are used to access and modify a private instance. In python there is no private keyword to define such a thing. We prepend a variable by a dunder(`__`) to show that it is private and shouldn't be accessed or modified directly.\n",
    "\n",
    "Adding `__` before a variable name modifies that variable's name from varname to `_Classname__varname`, so direct access and modification will not work. Still you could directly replace varname with the modifyed form to get direct modification to work. \n",
    "\n",
    "Here is where @property decorator comes in. You can define getter, setter and deleter methods using this feature. "
   ]
  },
  {
   "cell_type": "code",
   "execution_count": 26,
   "id": "c986b360",
   "metadata": {},
   "outputs": [],
   "source": [
    "@property\n",
    "def score(self):\n",
    "  print(\"Getting score...\")\n",
    "  return self.__score\n",
    "\n",
    "@score.setter\n",
    "def score(self, new_val):\n",
    "  print(\"Setting new value...\")\n",
    "  self.__score = new_val"
   ]
  },
  {
   "cell_type": "markdown",
   "id": "84ceab7d",
   "metadata": {},
   "source": [
    "Our class now looks like this:\n"
   ]
  },
  {
   "cell_type": "code",
   "execution_count": 27,
   "id": "f637ee7d",
   "metadata": {},
   "outputs": [],
   "source": [
    "class Student:\n",
    "\tdef __init__(self, name, score, total):\n",
    "\t\tself.name = name\n",
    "\t\tself.__score = score\n",
    "\t\tself.total = total\n",
    "\n",
    "\t@property\n",
    "\tdef score(self):\n",
    "\t\tprint(\"Getting score...\")\n",
    "\t\treturn self.__score\n",
    "\n",
    "\t@score.setter\n",
    "\tdef score(self, new_val):\n",
    "\t\tprint(\"Setting new value...\")\n",
    "\t\tself.__score = new_val\n",
    "\n",
    "\t@staticmethod\n",
    "\t@grade_decorator\n",
    "\tdef get_percent(score, total):\n",
    "\t\treturn score / total * 100\n",
    "\n",
    "\t@classmethod\n",
    "\tdef from_str(cls, str_arg):\n",
    "\t\tname, score, total = str_arg.split(',')\n",
    "\t\treturn cls(name, int(score), int(total))\n",
    "\n",
    "\t@classmethod\n",
    "\tdef from_tuple(cls, tup_arg):\n",
    "\t\tname, score, total = tup_arg\n",
    "\t\treturn cls(name, score, total)\n",
    "\n",
    "\tdef get_record(self):\n",
    "\t\tpercent, grade = Student.get_percent(self.score, self.total)\n",
    "\n",
    "\t\treturn f\"Name: {self.name} | Percentage scored: {percent} % | Grade: {grade}\"\n",
    "\n",
    "\tdef __str__(self):\n",
    "\t\treturn (\"Name: \" + str(self.name) + \" Score: \" + str(self.__score) + \" Total : \" + str(self.total))\n"
   ]
  },
  {
   "cell_type": "code",
   "execution_count": 28,
   "id": "d1ca350d",
   "metadata": {},
   "outputs": [
    {
     "name": "stdout",
     "output_type": "stream",
     "text": [
      "Name: John Score: 20 Total : 100\n"
     ]
    }
   ],
   "source": [
    "student = Student(\"John\", 20, 100)\n",
    "print(student)"
   ]
  },
  {
   "cell_type": "code",
   "execution_count": 29,
   "id": "4ae84759",
   "metadata": {},
   "outputs": [
    {
     "name": "stdout",
     "output_type": "stream",
     "text": [
      "Setting new value...\n",
      "Name: John Score: 10 Total : 100\n"
     ]
    }
   ],
   "source": [
    "student.score = 10\n",
    "print(student)"
   ]
  },
  {
   "cell_type": "markdown",
   "id": "5dbaa525",
   "metadata": {},
   "source": [
    "To make the attribute score read-only, just remove the setter method.\n",
    "\n",
    "The **deleter** method lets you delete a protected or private attribute using the del function"
   ]
  },
  {
   "cell_type": "code",
   "execution_count": 30,
   "id": "5afa7556",
   "metadata": {},
   "outputs": [],
   "source": [
    "@score.deleter\n",
    "def score(self, new_val):\n",
    "  print(\"Deleting score...\")\n",
    "  del self.__score"
   ]
  },
  {
   "cell_type": "markdown",
   "id": "f91a62a8",
   "metadata": {},
   "source": [
    "The property decorator is very useful when defining methods for data validation. Another use case is when you want to display the data in a specific way.\n",
    "\n",
    "**example:** If you wanted to display the students name as \"Student Name: <name>\", we could refurn the first string from a property getter on the name attribute:"
   ]
  },
  {
   "cell_type": "code",
   "execution_count": 31,
   "id": "af7a12f2",
   "metadata": {},
   "outputs": [],
   "source": [
    "@property\n",
    "def name(self):\n",
    "    print(\"Getting name...\")\n",
    "    return \"Student Name: \" + self.name"
   ]
  },
  {
   "cell_type": "markdown",
   "id": "d318e78b",
   "metadata": {},
   "source": [
    "The property decorator can also be used for logging of changes. \n",
    "\n",
    "**example:** In the setter method you could ass code to log the updates of a variable"
   ]
  },
  {
   "cell_type": "raw",
   "id": "ebf02827",
   "metadata": {},
   "source": [
    "import logging\n",
    "\n",
    "class Student:\n",
    "    def __init__():\n",
    "        ..\n",
    "        \n",
    "    @score.setter\n",
    "    def score(self, new_val):\n",
    "        print(\"Setting new value...\")\n",
    "        self.__score = new_val\n",
    "    \n",
    "    ..."
   ]
  },
  {
   "cell_type": "markdown",
   "id": "4b59b091",
   "metadata": {},
   "source": [
    "Finally, our class looks like this:\n"
   ]
  },
  {
   "cell_type": "code",
   "execution_count": 32,
   "id": "d14bd988",
   "metadata": {},
   "outputs": [],
   "source": [
    "def grade_decorator(f):\n",
    "\tdef wrapper(score, total):\n",
    "\t\tpercent = f(score, total)\n",
    "\n",
    "\t\tgrades = {\n",
    "\t\t\t5: 'A',\n",
    "\t\t\t4: 'A',\n",
    "\t\t\t3: 'B',\n",
    "\t\t\t2: 'C',\n",
    "\t\t\t1: 'D'\n",
    "\t\t}\n",
    "\n",
    "\t\treturn percent, grades[percent // 20]\n",
    "\treturn wrapper\n",
    "\n",
    "\n",
    "class Student:\n",
    "\tdef __init__(self, name, score, total):\n",
    "\t\tself.name = name\n",
    "\t\tself.__score = score    # score is made private\n",
    "\t\tself.total = total\n",
    "\n",
    "    # our property methods for score    \n",
    "\t@property\n",
    "\tdef score(self):\n",
    "\t\tprint(\"Getting score...\")\n",
    "\t\treturn self.__score\n",
    "\n",
    "\t@score.setter\n",
    "\tdef score(self, new_val):\n",
    "\t\tprint(\"Setting new value...\")\n",
    "\t\tself.__score = new_val\n",
    "\n",
    "\t@score.deleter\n",
    "\tdef score(self, new_val):\n",
    "\t\tprint(\"Deleting score...\")\n",
    "\t\tdel self.__score\n",
    "\n",
    "    # our staticmethod get_percent. grade_decorator has been applied \n",
    "\t@staticmethod\n",
    "\t@grade_decorator\n",
    "\tdef get_percent(score, total):\n",
    "\t\treturn score / total * 100\n",
    "\n",
    "    # our classmethods, to allow different ways to create objects\n",
    "\t@classmethod\n",
    "\tdef from_str(cls, str_arg):\n",
    "\t\tname, score, total = str_arg.split(',')\n",
    "\t\treturn cls(name, int(score), int(total))\n",
    "\n",
    "\t@classmethod\n",
    "\tdef from_tuple(cls, tup_arg):\n",
    "\t\tname, score, total = tup_arg\n",
    "\t\treturn cls(name, score, total)\n",
    "\n",
    "\tdef get_record(self):\n",
    "\t\tpercent, grade = Student.get_percent(self.score, self.total)\n",
    "\n",
    "\t\treturn f\"Name: {self.name} | Percentage scored: {percent} % | Grade: {grade}\"\n",
    "\n",
    "\tdef __str__(self):\n",
    "\t\treturn (\"Name: \" + str(self.name) + \" Score: \" + str(self.__score) + \" Total : \" + str(self.total))\n"
   ]
  },
  {
   "cell_type": "markdown",
   "id": "3b7f5532",
   "metadata": {},
   "source": [
    "**Note:** The decorator can also be defined [inside a class](https://medium.com/@vadimpushtaev/decorator-inside-python-class-1e74d23107f6)."
   ]
  },
  {
   "cell_type": "code",
   "execution_count": null,
   "id": "97b16d42",
   "metadata": {},
   "outputs": [],
   "source": []
  }
 ],
 "metadata": {
  "kernelspec": {
   "display_name": "Python 3 (ipykernel)",
   "language": "python",
   "name": "python3"
  },
  "language_info": {
   "codemirror_mode": {
    "name": "ipython",
    "version": 3
   },
   "file_extension": ".py",
   "mimetype": "text/x-python",
   "name": "python",
   "nbconvert_exporter": "python",
   "pygments_lexer": "ipython3",
   "version": "3.9.7"
  },
  "latex_envs": {
   "LaTeX_envs_menu_present": true,
   "autoclose": false,
   "autocomplete": true,
   "bibliofile": "biblio.bib",
   "cite_by": "apalike",
   "current_citInitial": 1,
   "eqLabelWithNumbers": true,
   "eqNumInitial": 1,
   "hotkeys": {
    "equation": "Ctrl-E",
    "itemize": "Ctrl-I"
   },
   "labels_anchors": false,
   "latex_user_defs": false,
   "report_style_numbering": true,
   "user_envs_cfg": false
  }
 },
 "nbformat": 4,
 "nbformat_minor": 5
}
