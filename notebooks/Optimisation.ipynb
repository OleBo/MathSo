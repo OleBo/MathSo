{
 "cells": [
  {
   "cell_type": "markdown",
   "metadata": {},
   "source": [
    "[![Open In Binder](https://static.mybinder.org/badge_logo.svg)](https://mybinder.org/v2/gh/OleBo/MathSo/main?filepath=/notebooks/Optimization.ipynb)"
   ]
  },
  {
   "cell_type": "markdown",
   "metadata": {},
   "source": [
    "[![Open In Colab](https://colab.research.google.com/assets/colab-badge.svg)](https://colab.research.google.com/github/OleBo/MathSo/blob/main/notebooks/optimization.ipynb)\n",
    "\n",
    "\n",
    "[browse](http://colab.research.google.com/github/OleBo/MathSo/)"
   ]
  },
  {
   "cell_type": "code",
   "execution_count": 1,
   "metadata": {},
   "outputs": [],
   "source": [
    "from mpl_toolkits.mplot3d import Axes3D\n",
    "import matplotlib.pyplot as plt\n",
    "from matplotlib import cm\n",
    "from matplotlib.lines import Line2D\n",
    "import numpy as np\n",
    "from scipy.optimize import fmin"
   ]
  },
  {
   "cell_type": "markdown",
   "metadata": {},
   "source": [
    "# Optimisation\n",
    "https://docs.scipy.org/doc/scipy/reference/tutorial/optimize.html#constrained-minimization-of-multivariate-scalar-functions-minimize\n",
    "\n",
    "## One-dimensional optimisation\n",
    "\n",
    "A necessary and sufficient condition for a local minimum of a twice differentiable function $f:\\mathbf{R}\\to \\mathbf{R}$ in $x_0$ is\n",
    "\n",
    "$$f'(x_0) = 0, \\qquad f''(x_0) > 0$$\n",
    "\n",
    "Derivatives are often hard to compute; therefore a numerical method that does not require the derivative is preferable. An example is bisection in the golden ratio ([homework problem 10](https://github.com/OleBo/MathSo/blob/main/notebooks/SolutionHW10.ipynb)).\n",
    "\n",
    "Here we want to optimize a univariate function:\n",
    "\n",
    "$$f(x)=4x^2e^{-2x}$$\n",
    "\n",
    "We first define the function:"
   ]
  },
  {
   "cell_type": "code",
   "execution_count": 2,
   "metadata": {},
   "outputs": [],
   "source": [
    "def f1simple(x):\n",
    "    # gamma(2,3) density\n",
    "    if (x < 0):\n",
    "        return (0)\n",
    "    if (x == 0):\n",
    "        return (np.nan)\n",
    "    y = np.exp(-2*x)\n",
    "    return (4 * x**2 * y)"
   ]
  },
  {
   "cell_type": "markdown",
   "metadata": {},
   "source": [
    "Next we define the same function but return $f(x)$, $f'(x)$, and $f''(x)$.\n",
    "\n",
    "$$f'(x)=4(2xe^{-2x}+(-2)x^2e^{-2x})=8x(1-x)e^{-2x}$$\n",
    "$$f''(x)=8e^{-2x}(1-4x+2x^2)$$"
   ]
  },
  {
   "cell_type": "code",
   "execution_count": 3,
   "metadata": {},
   "outputs": [],
   "source": [
    "def f1(x):\n",
    "    # gamma(2,3) density\n",
    "    if (x < 0):\n",
    "        return np.array([0, 0, 0])\n",
    "    if (x == 0):\n",
    "        return np.array([0, 0, np.nan])\n",
    "    y = np.exp(-2.0*x)\n",
    "    return np.array([4.0 * x**2.0 * y, \\\n",
    "      8.0 * x*(1.0-x)*y, \\\n",
    "      8.0*(1 - 4*x + 2 * x**2)*y])"
   ]
  },
  {
   "cell_type": "markdown",
   "metadata": {},
   "source": [
    "Plotting the function is always a good idea!"
   ]
  },
  {
   "cell_type": "code",
   "execution_count": 4,
   "metadata": {},
   "outputs": [
    {
     "data": {
      "image/png": "[encoded data removed]",
      "text/plain": [
       "<Figure size 432x288 with 1 Axes>"
      ]
     },
     "metadata": {
      "needs_background": "light"
     },
     "output_type": "display_data"
    }
   ],
   "source": [
    "xmin = 0.0\n",
    "xmax = 6.0\n",
    "xv = np.linspace(xmin, xmax, 200)\n",
    "fx = np.zeros(len(xv),float) # define column vector\n",
    "for i in range(len(xv)):\n",
    "    fx[i] = f1(xv[i])[0]\n",
    "fig, ax = plt.subplots()\n",
    "ax.plot(xv, fx)\n",
    "plt.show()"
   ]
  },
  {
   "cell_type": "markdown",
   "metadata": {},
   "source": [
    "### Newton’s Method\n",
    "\n",
    "In order to implement the Newton method we basically look for the root of a first derivative so that $f'(x)=0$."
   ]
  },
  {
   "cell_type": "code",
   "execution_count": 5,
   "metadata": {
    "scrolled": true
   },
   "outputs": [
    {
     "data": {
      "image/png": "[encoded data removed]",
      "text/plain": [
       "<Figure size 432x288 with 1 Axes>"
      ]
     },
     "metadata": {
      "needs_background": "light"
     },
     "output_type": "display_data"
    }
   ],
   "source": [
    "myOpt = 1.0\n",
    "fmaxval = f1simple(myOpt)\n",
    "\n",
    "xmin = 0.0\n",
    "xmax = 6.0\n",
    "xv = np.linspace(xmin, xmax, 200)\n",
    "fx = np.zeros(len(xv),float) # define column vector\n",
    "for i in range(len(xv)):\n",
    "    fx[i] = f1(xv[i])[0]\n",
    "\n",
    "fig, ax = plt.subplots()\n",
    "ax.plot(xv, fx)\n",
    "ax.plot(xv, fmaxval*np.ones(len(xv)))\n",
    "ax.axvline(x = myOpt, ymin=0.0, color='r', linestyle='--')\n",
    "plt.show()"
   ]
  },
  {
   "cell_type": "markdown",
   "metadata": {},
   "source": [
    "We then use an adjustment of the Newthon-Raphson Root Finding Algorithm to find this point. \n",
    "\n",
    "Newthon-Raphson Root Finding Algorithm:\n",
    "\n",
    "$$x_{n+1}=x_n-\\frac{f(x_n)}{f'(x_n)}$$\n",
    "\n",
    "We have to adjust this of course because the function we search the root for is already the first derivative of a function, so that we have:\n",
    "\n",
    "$$x_{n+1}=x_n-\\frac{f'(x_n)}{f''(x_n)}$$"
   ]
  },
  {
   "cell_type": "code",
   "execution_count": 6,
   "metadata": {},
   "outputs": [],
   "source": [
    "def newton(f3, x0, tol = 1e-9, nmax = 100):\n",
    "    # Newton's method for optimization, starting at x0\n",
    "    # f3 is a function that given x returns the vector\n",
    "    # (f(x), f'(x), f''(x)), for some f\n",
    "    x = x0\n",
    "    f3x = f3(x)\n",
    "    n = 0\n",
    "    while ((abs(f3x[1]) > tol) and (n < nmax)):\n",
    "        x = x - f3x[1]/f3x[2]\n",
    "        f3x = f3(x)\n",
    "        n = n + 1\n",
    "        # print(f\"n={n}, x={x}, f(x)={f3(x)[0]}\")\n",
    "    if (n == nmax):\n",
    "        print(\"newton failed to converge\")\n",
    "    else:\n",
    "        return(x)"
   ]
  },
  {
   "cell_type": "markdown",
   "metadata": {},
   "source": [
    "We use these algorithms to find the maximum point of our function `f1`. Note that if we use the Newton algorithm we will need the first and second derivatives of the functions. This is why we use function f1 that returns f, f' and f'' via an array/vector as return value."
   ]
  },
  {
   "cell_type": "code",
   "execution_count": 7,
   "metadata": {},
   "outputs": [
    {
     "name": "stdout",
     "output_type": "stream",
     "text": [
      " -----------------------------------\n",
      " Newton results \n",
      " -----------------------------------\n",
      "-1.25\n",
      "1.0\n",
      "0.9999999999980214\n",
      "14.42367881581733\n"
     ]
    }
   ],
   "source": [
    "print(\" -----------------------------------\")\n",
    "print(\" Newton results \")\n",
    "print(\" -----------------------------------\")\n",
    "print(newton(f1, 0.25))\n",
    "print(newton(f1, 0.5))\n",
    "print(newton(f1, 0.75))\n",
    "print(newton(f1, 1.75))"
   ]
  },
  {
   "cell_type": "markdown",
   "metadata": {},
   "source": [
    "Derivatives are oft hard to compute; therefore a numerical method that does not require the derivative is preferable. An example is bisection in the golden ratio (homework problem 10).\n",
    "\n",
    "\n",
    "### Bisection in the golden-section\n",
    "\n",
    "The golden-section method works in one dimension only, but does not need the derivatives of the function. However, the function still needs to be continuous. In order to determine whether there is a local maximum we need three points. Then we can use the following:\n",
    "\n",
    "If $x_l<x_m<x_r$ and \n",
    "1. $f(x_l)\\le f(x_m)$ and \n",
    "2. $f(x_r)\\le f(x_m)$ then there must be a local maximum in the interval between $[x_l,x_r]$\n",
    "\n",
    "This method is very similar to the bisection method (root bracketing).\n",
    "\n",
    "The method starts with three starting values and operates by successively narrowing the range of values on the specified interval, which makes it relatively slow, but very robust. The technique derives its name from the fact that the algorithm maintains the function values for four points whose three interval widths are in the ratio\n",
    "\n",
    "$$2-\\varphi :2 \\times \\varphi -3 : 2 - \\varphi$$\n",
    "\n",
    "where $\\varphi$ (phi) is the [golden ratio](https://en.wikipedia.org/wiki/Golden_ratio).\n",
    "\n",
    "In mathematics, two quantities $a$ and $b$ are in the golden ratio if their ratio is the same as the ratio of their sum to the larger of the two quantities. Assume $a>b$ then the ratio:\n",
    "\n",
    "$$\\frac{a}{b}=\\frac{a+b}{a}=\\varphi$$\n",
    "\n",
    "Note: $a+b$ is to $a$ as $a$ is to $b$.\n",
    "![Line segments in the golden ratio](https://upload.wikimedia.org/wikipedia/commons/a/a6/Golden_ratio_line.png \"Line segments in the golden ratio\")\n",
    "\n",
    "The golden ratio is the solution of the quadratic equation:\n",
    "\n",
    "$$\\varphi^2 - \\varphi - 1 = 0$$\n",
    "\n",
    "so that \n",
    "\n",
    "$$\\varphi = \\frac{1\\pm\\sqrt{5}}{2}=[1.6180339887, -0.6180339887]$$\n",
    "\n",
    "#### Algorithm\n",
    "\n",
    "1. if $x_r-x_l\\le \\epsilon$ then stop\n",
    "2. if $x_r-x_m>x_m-x_l$ then do (a) otherwise do (b)\n",
    "\n",
    "    a. Let $y=x_m+(x_r-x_m)/(1+\\varphi)$; if $f(y)\\ge f(x_m)$ then put $x_l=x_m$ and $x_m = y$; otherwise put $x_r=y$\n",
    "    \n",
    "    b. Let $y=x_m+(x_m-x_l)/(1+\\varphi)$; if $f(y)\\ge f(x_m)$ then put $x_r=x_m$ and $x_m = y$; otherwise put $x_l=y$\n",
    "    \n",
    "3. go back to step 1.\n"
   ]
  },
  {
   "cell_type": "code",
   "execution_count": 8,
   "metadata": {},
   "outputs": [],
   "source": [
    "def gsection(ftn, xl, xm, xr, tol = 1e-9):\n",
    "    # applies the golden-section algorithm to maximise ftn\n",
    "    # we assume that ftn is a function of a single variable\n",
    "    # and that x.l < x.m < x.r and ftn(x.l), ftn(x.r) <= ftn(x.m)\n",
    "    #\n",
    "    # the algorithm iteratively refines x.l, x.r, and x.m and\n",
    "    # terminates when x.r - x.l <= tol, then returns x.m\n",
    "    # golden ratio plus one\n",
    "    gr1 = 1 + (1 + np.sqrt(5))/2\n",
    "    #\n",
    "    # successively refine x.l, x.r, and x.m\n",
    "    fl = ftn(xl)\n",
    "    fr = ftn(xr)\n",
    "    fm = ftn(xm)\n",
    "    while ((xr - xl) > tol):\n",
    "        if ((xr - xm) > (xm - xl)):\n",
    "            y = xm + (xr - xm)/gr1\n",
    "            fy = ftn(y)\n",
    "            if (fy >= fm):\n",
    "                xl = xm\n",
    "                fl = fm\n",
    "                xm = y\n",
    "                fm = fy\n",
    "            else:\n",
    "                xr = y\n",
    "                fr = fy\n",
    "        else:\n",
    "            y = xm - (xm - xl)/gr1\n",
    "            fy = ftn(y)\n",
    "            if (fy >= fm):\n",
    "                xr = xm\n",
    "                fr = fm\n",
    "                xm = y\n",
    "                fm = fy\n",
    "            else:\n",
    "                xl = y\n",
    "                fl = fy\n",
    "    return(xm)"
   ]
  },
  {
   "cell_type": "markdown",
   "metadata": {},
   "source": [
    "We next use this algorithms to find the maximum point of our function `f1simple`. The Golden section algorithm does not require the derivates of the function, so we just call the `f1simple` function that only returns the functional value."
   ]
  },
  {
   "cell_type": "code",
   "execution_count": 9,
   "metadata": {},
   "outputs": [
    {
     "name": "stdout",
     "output_type": "stream",
     "text": [
      " -----------------------------------\n",
      " Golden section results \n",
      " -----------------------------------\n",
      "1.0000000117853984\n",
      "1.0000000107340477\n",
      "0.9999999921384167\n",
      "1.0000000052246139\n"
     ]
    }
   ],
   "source": [
    "print(\" -----------------------------------\")\n",
    "print(\" Golden section results \")\n",
    "print(\" -----------------------------------\")\n",
    "myOpt = gsection(f1simple, 0.1, 0.25, 1.3)\n",
    "print(gsection(f1simple, 0.1, 0.25, 1.3))\n",
    "print(gsection(f1simple, 0.25, 0.5, 1.7))\n",
    "print(gsection(f1simple, 0.6, 0.75, 1.8))\n",
    "print(gsection(f1simple, 0.0, 2.75, 5.0))"
   ]
  },
  {
   "cell_type": "markdown",
   "metadata": {},
   "source": [
    "We can also use a built in function minimizer. The built in function `fmin` is in the `scipy.optimize` library. We need to import it first. So if we want to maximize our function we have to define it as a negated function, that is:\n",
    "\n",
    "$$g(x)=-f(x)$$\n",
    "\n",
    "then\n",
    "\n",
    "$$\\min g(x)$$\n",
    "\n",
    "is the same as \n",
    "\n",
    "$$\\max f(x)$$\n",
    "\n",
    "Since we want to find the maximum of the function, we need to “trick” the minimization algorithm. We therefore need to redefine the function as"
   ]
  },
  {
   "cell_type": "code",
   "execution_count": 10,
   "metadata": {},
   "outputs": [],
   "source": [
    "def f1simpleNeg(x):\n",
    "    # gamma(2,3) density\n",
    "    if (x < 0):\n",
    "        return (0)\n",
    "    if (x == 0):\n",
    "        return (np.nan)\n",
    "    y = np.exp(-2*x)\n",
    "    return (-(4 * x**2 * y))"
   ]
  },
  {
   "cell_type": "markdown",
   "metadata": {},
   "source": [
    "Here we simply return negative values of this function. If we now minimize this function, we actually maximize the original function\n",
    "\n",
    "$$f(x)=4x^2e^{-2x}$$"
   ]
  },
  {
   "cell_type": "code",
   "execution_count": 11,
   "metadata": {},
   "outputs": [
    {
     "name": "stdout",
     "output_type": "stream",
     "text": [
      " -----------------------------------\n",
      " fmin results \n",
      " -----------------------------------\n",
      "Optimization terminated successfully.\n",
      "         Current function value: -0.541341\n",
      "         Iterations: 18\n",
      "         Function evaluations: 36\n",
      "[1.]\n",
      "Optimization terminated successfully.\n",
      "         Current function value: -0.541341\n",
      "         Iterations: 16\n",
      "         Function evaluations: 32\n",
      "[1.]\n",
      "Optimization terminated successfully.\n",
      "         Current function value: -0.541341\n",
      "         Iterations: 14\n",
      "         Function evaluations: 28\n",
      "[0.99997559]\n",
      "Optimization terminated successfully.\n",
      "         Current function value: -0.541341\n",
      "         Iterations: 16\n",
      "         Function evaluations: 32\n",
      "[1.00001221]\n"
     ]
    }
   ],
   "source": [
    "print(\" -----------------------------------\")\n",
    "print(\" fmin results \")\n",
    "print(\" -----------------------------------\")\n",
    "print(fmin(f1simpleNeg, 0.25))\n",
    "print(fmin(f1simpleNeg, 0.5))\n",
    "print(fmin(f1simpleNeg, 0.75))\n",
    "print(fmin(f1simpleNeg, 1.75))"
   ]
  },
  {
   "cell_type": "markdown",
   "metadata": {},
   "source": [
    "## Multivariate Optimization\n",
    "\n",
    "# Function\n",
    "\n",
    "Here we want to optimize the following function `f3`"
   ]
  },
  {
   "cell_type": "code",
   "execution_count": 12,
   "metadata": {},
   "outputs": [],
   "source": [
    "def f3simple(x):\n",
    "    a = x[0]**2/2.0 - x[1]**2/4.0\n",
    "    b = 2*x[0] - np.exp(x[1])\n",
    "    f = np.sin(a)*np.cos(b)\n",
    "    return(f)"
   ]
  },
  {
   "cell_type": "markdown",
   "metadata": {},
   "source": [
    "Its negative version:"
   ]
  },
  {
   "cell_type": "code",
   "execution_count": 13,
   "metadata": {},
   "outputs": [],
   "source": [
    "def f3simpleNeg(x):\n",
    "    a = x[0]**2/2.0 - x[1]**2/4.0\n",
    "    b = 2*x[0] - np.exp(x[1])\n",
    "    f = -np.sin(a)*np.cos(b)\n",
    "    return(f)"
   ]
  },
  {
   "cell_type": "markdown",
   "metadata": {},
   "source": [
    "And the version that returns $f(x)$, $f'(x)$ (i.e., the gradient), and $f''(x)$ (i.e., the Hessian matrix):"
   ]
  },
  {
   "cell_type": "code",
   "execution_count": 14,
   "metadata": {},
   "outputs": [],
   "source": [
    "def f3(x):\n",
    "    a = x[0]**2/2.0 - x[1]**2/4.0\n",
    "    b = 2*x[0] - np.exp(x[1])\n",
    "    f = np.sin(a)*np.cos(b)\n",
    "    f1 = np.cos(a)*np.cos(b)*x[0] - np.sin(a)*np.sin(b)*2\n",
    "    f2 = -np.cos(a)*np.cos(b)*x[1]/2 + np.sin(a)*np.sin(b)*np.exp(x[1])\n",
    "    f11 = -np.sin(a)*np.cos(b)*(4 + x[0]**2) + np.cos(a)*np.cos(b) \\\n",
    "        - np.cos(a)*np.sin(b)*4*x[0]\n",
    "    f12 = np.sin(a)*np.cos(b)*(x[0]*x[1]/2.0 + 2*np.exp(x[1])) \\\n",
    "        + np.cos(a)*np.sin(b)*(x[0]*np.exp(x[1]) + x[1])\n",
    "    f22 = -np.sin(a)*np.cos(b)*(x[1]**2/4.0 + np.exp(2*x[1])) \\\n",
    "        - np.cos(a)*np.cos(b)/2.0 - np.cos(a)*np.sin(b)*x[1]*np.exp(x[1]) \\\n",
    "        + np.sin(a)*np.sin(b)*np.exp(x[1])\n",
    "    # Function f3 returns: f(x), f'(x), and f''(x)\n",
    "    return (f, np.array([f1, f2]), np.array([[f11, f12], [f12, f22]]))"
   ]
  },
  {
   "cell_type": "markdown",
   "metadata": {},
   "source": [
    "We next plot the function:"
   ]
  },
  {
   "cell_type": "code",
   "execution_count": 15,
   "metadata": {},
   "outputs": [
    {
     "data": {
      "image/png": "[encoded data removed]",
      "text/plain": [
       "<Figure size 432x288 with 1 Axes>"
      ]
     },
     "metadata": {
      "needs_background": "light"
     },
     "output_type": "display_data"
    }
   ],
   "source": [
    "fig = plt.figure()\n",
    "ax = fig.add_subplot(111, projection='3d')\n",
    "\n",
    "X = np.arange(-3, 3, .1)\n",
    "Y = np.arange(-3, 3, .1)\n",
    "X, Y = np.meshgrid(X, Y)\n",
    "\n",
    "Z = np.zeros((len(X),len(Y)),float)\n",
    "for i in range(len(X)):\n",
    "    for j in range(len(Y)):\n",
    "        Z[i][j] = f3simple([X[i][j],Y[i][j]])\n",
    "\n",
    "surf = ax.plot_surface(X, Y, Z, rstride=1, cstride=1, \\\n",
    "    cmap=plt.cm.jet, linewidth=0, antialiased=False)\n",
    "plt.show()"
   ]
  },
  {
   "cell_type": "markdown",
   "metadata": {},
   "source": [
    "### Multivariate Newton Method"
   ]
  },
  {
   "cell_type": "code",
   "execution_count": 16,
   "metadata": {},
   "outputs": [],
   "source": [
    "def newtonMult(f3, x0, tol = 1e-9, nmax = 100):\n",
    "    # Newton's method for optimisation, starting at x0\n",
    "    # f3 is a function that given x returns the list\n",
    "    # {f(x), grad f(x), Hessian f(x)}, for some f\n",
    "    x = x0\n",
    "    f3x = f3(x)\n",
    "    n = 0\n",
    "    while ((max(abs(f3x[1])) > tol) and (n < nmax)):\n",
    "        x = x - np.linalg.solve(f3x[2], f3x[1])\n",
    "        f3x = f3(x)\n",
    "        n = n + 1\n",
    "    if (n == nmax):\n",
    "        print(\"newton failed to converge\")\n",
    "    else:\n",
    "        return(x)"
   ]
  },
  {
   "cell_type": "markdown",
   "metadata": {},
   "source": [
    "Compare the Newton method with the built in `fmin` method in `scipy.optimize`. We use various starting values to see whether we can find more than one optimum."
   ]
  },
  {
   "cell_type": "code",
   "execution_count": 17,
   "metadata": {},
   "outputs": [
    {
     "name": "stdout",
     "output_type": "stream",
     "text": [
      "Newton: f3  [1.4, 0.4] --> [ 0.04074437 -2.50729047]\n",
      "Optimization terminated successfully.\n",
      "         Current function value: -1.000000\n",
      "         Iterations: 47\n",
      "         Function evaluations: 89\n",
      "fmin: f3 [1.4, 0.4] --> [2.0307334  1.40155445]\n",
      " ----------------------------------------- \n",
      "Newton: f3  [1.4, 0.5] --> [0.11797341 3.34466147]\n",
      "Optimization terminated successfully.\n",
      "         Current function value: -1.000000\n",
      "         Iterations: 50\n",
      "         Function evaluations: 93\n",
      "fmin: f3 [1.4, 0.5] --> [2.03072555 1.40154756]\n",
      " ----------------------------------------- \n",
      "Newton: f3  [1.4, 0.6] --> [-1.5531627  6.0200129]\n",
      "Optimization terminated successfully.\n",
      "         Current function value: -1.000000\n",
      "         Iterations: 43\n",
      "         Function evaluations: 82\n",
      "fmin: f3 [1.4, 0.6] --> [2.03068816 1.40151998]\n",
      " ----------------------------------------- \n",
      "Newton: f3  [1.5, 0.4] --> [2.83714224 5.35398196]\n",
      "Optimization terminated successfully.\n",
      "         Current function value: -1.000000\n",
      "         Iterations: 48\n",
      "         Function evaluations: 90\n",
      "fmin: f3 [1.5, 0.4] --> [2.03067611 1.40149298]\n",
      " ----------------------------------------- \n",
      "Newton: f3  [1.5, 0.5] --> [ 0.04074437 -2.50729047]\n",
      "Optimization terminated successfully.\n",
      "         Current function value: -1.000000\n",
      "         Iterations: 42\n",
      "         Function evaluations: 82\n",
      "fmin: f3 [1.5, 0.5] --> [2.03071509 1.40155165]\n",
      " ----------------------------------------- \n",
      "Newton: f3  [1.5, 0.6] --> [9.89908350e-10 1.36639196e-09]\n",
      "Optimization terminated successfully.\n",
      "         Current function value: -1.000000\n",
      "         Iterations: 43\n",
      "         Function evaluations: 82\n",
      "fmin: f3 [1.5, 0.6] --> [2.0307244  1.40153761]\n",
      " ----------------------------------------- \n",
      "Newton: f3  [1.6, 0.4] --> [-0.55841026 -0.78971136]\n",
      "Optimization terminated successfully.\n",
      "         Current function value: -1.000000\n",
      "         Iterations: 47\n",
      "         Function evaluations: 88\n",
      "fmin: f3 [1.6, 0.4] --> [2.0307159  1.40150964]\n",
      " ----------------------------------------- \n",
      "Newton: f3  [1.6, 0.5] --> [-0.29022131 -0.23047994]\n",
      "Optimization terminated successfully.\n",
      "         Current function value: -1.000000\n",
      "         Iterations: 44\n",
      "         Function evaluations: 80\n",
      "fmin: f3 [1.6, 0.5] --> [2.03074135 1.40151521]\n",
      " ----------------------------------------- \n",
      "Newton: f3  [1.6, 0.6] --> [-1.55294692 -3.33263763]\n",
      "Optimization terminated successfully.\n",
      "         Current function value: -1.000000\n",
      "         Iterations: 42\n",
      "         Function evaluations: 80\n",
      "fmin: f3 [1.6, 0.6] --> [2.03069759 1.40155333]\n",
      " ----------------------------------------- \n"
     ]
    }
   ],
   "source": [
    "for x0 in np.arange(1.4, 1.6, 0.1):\n",
    "    for y0 in np.arange(0.4, 0.7, 0.1):\n",
    "        # This algorithm requires f(x), f'(x), and f''(x)\n",
    "        print(\"Newton: f3  \" + str([x0,y0]) + ' --> ' + str(newtonMult(f3, \\\n",
    "            np. array([x0,y0]))))\n",
    "\n",
    "        print(\"fmin: f3 \" + str([x0,y0]) + ' --> ' \\\n",
    "            + str(fmin(f3simpleNeg, np.array([x0,y0]))))\n",
    "\n",
    "        print(\" ----------------------------------------- \")"
   ]
  },
  {
   "cell_type": "markdown",
   "metadata": {},
   "source": [
    "## Homework 10"
   ]
  },
  {
   "cell_type": "code",
   "execution_count": 18,
   "metadata": {},
   "outputs": [
    {
     "data": {
      "image/png": "[encoded data removed]",
      "text/plain": [
       "<Figure size 288x72 with 1 Axes>"
      ]
     },
     "metadata": {},
     "output_type": "display_data"
    }
   ],
   "source": [
    "xl = 0;\n",
    "xr = 1;\n",
    "l = (-1 + np.sqrt(5))/2;\n",
    "x1 = l*xl + (1-l)*xr;\n",
    "x2 = (1-l)*xl + l*xr;\n",
    "\n",
    "a = [xl,x1,x2,xr]\n",
    "\n",
    "fig1 = plt.figure(facecolor='white',figsize=(4,1))\n",
    "ax1 = plt.axes(frameon=False)\n",
    "ax1.get_xaxis().tick_bottom()\n",
    "ax1.axes.get_yaxis().set_visible(False)\n",
    "ax1.eventplot(a, orientation='horizontal', colors='b')\n",
    "ax1.annotate('$x_l$', (xl,1))\n",
    "ax1.annotate('$x_r$', (xr,1))\n",
    "ax1.annotate('$x_1$', (x1,1))\n",
    "ax1.annotate('$x_2$', (x2,1))\n",
    "xmin, xmax = ax1.get_xaxis().get_view_interval()\n",
    "ymin, ymax = ax1.get_yaxis().get_view_interval()\n",
    "ax1.add_artist(Line2D((xmin, xmax), (ymin, ymin), color='black', linewidth=2))\n",
    "plt.show()"
   ]
  },
  {
   "cell_type": "code",
   "execution_count": 19,
   "metadata": {},
   "outputs": [],
   "source": [
    "def goldsectmin(f, xl, xr, tol = 1e-9, nmax = 100):\n",
    "    # GOLDSECTMIN finds a minimum of the function f \n",
    "    # in the interval [xl, xr] using the golden section method\n",
    "    \n",
    "    l = (-1 + np.sqrt(5))/2;\n",
    "    x1 = l*xl + (1-l)*xr;\n",
    "    x2 = (1-l)*xl + l*xr;\n",
    "    f1 = f(x1);\n",
    "    f2 = f(x2);\n",
    "    n = 0;\n",
    "    while ((abs(xr - xl) > tol) and (n < nmax)):\n",
    "        if (f1 > f2):\n",
    "            xl = x1;\n",
    "            x1 = x2;\n",
    "            f1 = f2;\n",
    "            x2 = (1-l)*xl + l*xr;\n",
    "            f2 = f(x2);\n",
    "        else:\n",
    "            xr = x2;\n",
    "            x2 = x1;\n",
    "            f2 = f1;\n",
    "            x1 = l*xl + (1-l)*xr;\n",
    "            f1 = f(x1);\n",
    "    if (n == nmax):\n",
    "        print(\"GOLDSECTMIN failed to converge\")\n",
    "    else:\n",
    "        return(x1)"
   ]
  },
  {
   "cell_type": "markdown",
   "metadata": {},
   "source": [
    "Angenommen, jeder Mensch hat eine feste Zahl von Herzschlaegen in seinem Leben zur Verfuegung. Sei $x$ der Anteil der Zeit, die der Mensch mit sportlichen Aktivitaeten verbringt. Beim Sport schlage das Herz mit 120 Schlaegen pro Minute, im Ruhezustand mit $g(x)$ Schlaegen pro Minute, wobei fuer untrainierte Personen $g(0)=80$, und $g(x)$ faellt fuer groessere $x$ schnell auf 50 ab, z.B."
   ]
  },
  {
   "cell_type": "code",
   "execution_count": 20,
   "metadata": {},
   "outputs": [],
   "source": [
    "g = lambda x : 50 + 30*np.exp(-100*x)"
   ]
  },
  {
   "cell_type": "markdown",
   "metadata": {},
   "source": [
    "Die durchschnittliche Zahl der Herzschlaege pro Minute wird geplottet. Finde die optimale Dauer der sportlichen Betaetigung pro Tag, d.h. finde das Minimum von $f(x)$."
   ]
  },
  {
   "cell_type": "code",
   "execution_count": 21,
   "metadata": {},
   "outputs": [
    {
     "name": "stdout",
     "output_type": "stream",
     "text": [
      "Das entspricht 53.71458937808303 Minuten Sport pro Tag.\n"
     ]
    },
    {
     "data": {
      "image/png": "[encoded data removed]",
      "text/plain": [
       "<Figure size 432x288 with 1 Axes>"
      ]
     },
     "metadata": {
      "needs_background": "light"
     },
     "output_type": "display_data"
    }
   ],
   "source": [
    "f = lambda x : 120*x + np.multiply(g(x),(1 - x))\n",
    "\n",
    "xmin = 0.0\n",
    "xmax = 0.2\n",
    "xv = np.linspace(xmin, xmax, 200)\n",
    "\n",
    "fig, ax = plt.subplots()\n",
    "ax.plot(xv, f(xv))\n",
    "\n",
    "ax.set(xlabel='Zeitlicher Anteil der sportlichen Aktivität x', ylabel='Herzschläge pro Minute f(x)',\n",
    "       title='durchschnittliche Zahl der Herzschlaege pro Minute')\n",
    "ax.grid()\n",
    "\n",
    "# Bisektion mit goldenem Schnitt -> goldsectmin.m\n",
    "x = goldsectmin(f, xl, xr, 1e-6);\n",
    "print('Das entspricht {} Minuten Sport pro Tag.'.format(x*24*60));\n",
    "ax.plot(x, f(x), 'ro');\n",
    "\n",
    "plt.show()"
   ]
  },
  {
   "cell_type": "markdown",
   "metadata": {},
   "source": [
    "## Multi-dimensional optimisation without constraints\n",
    "\n",
    "*Dimensionality of the problem:* The scale of an optimization problem is pretty much set by the dimensionality of the problem, i.e. the number of scalar variables on which the search is performed.\n",
    "\n",
    "$$z=f(x_1,x_2,\\dots x_n)$$\n",
    "\n",
    "We want to find a (local) minimum $x_0$ of a function $f:\\mathbf{R}^n \\to \\mathbf{R}^n$. If $f$ is twice differentiable then a necessary and sufficient condition is\n",
    "\n",
    "$$\\nabla f(x_0) = 0, \\qquad x^T H(x_0) x >0\\;\\forall\\; x\\in\\mathbf{R}^n\\setminus\\{ 0\\}$$\n",
    "\n",
    "where $H$ is the Hessian of $f$. Again, computing the gradient and solving the corresponding nonlinear system of equations can be difficult. Fortunately there are methods that do not require the gradient.\n",
    "\n",
    "As an example, consider:"
   ]
  },
  {
   "cell_type": "code",
   "execution_count": 22,
   "metadata": {},
   "outputs": [
    {
     "data": {
      "image/png": "[encoded data removed]",
      "text/plain": [
       "<Figure size 432x288 with 1 Axes>"
      ]
     },
     "metadata": {
      "needs_background": "light"
     },
     "output_type": "display_data"
    }
   ],
   "source": [
    "fig = plt.figure()\n",
    "ax = fig.add_subplot(111, projection='3d')\n",
    "\n",
    "f = lambda x,y : np.multiply(x,\n",
    "                             np.exp(- np.square(x) - np.square(y))\n",
    "                            ) + (np.square(x) + np.square(y))/20\n",
    "\n",
    "# Make data.\n",
    "X = np.linspace(-2, 2, 50)\n",
    "Y = np.linspace(-2, 2, 50)\n",
    "X, Y = np.meshgrid(X, Y)\n",
    "Z = f(X,Y)\n",
    "\n",
    "# Plot the surface.\n",
    "surf = ax.plot_surface(X, Y, Z, cmap=cm.coolwarm,\n",
    "                       linewidth=0, antialiased=False)\n",
    "\n",
    "# Customize the axis.\n",
    "ax.set_xlabel('X')\n",
    "ax.set_ylabel('Y')\n",
    "ax.set_zlabel('Z')\n",
    "\n",
    "plt.show()\n"
   ]
  },
  {
   "cell_type": "markdown",
   "metadata": {},
   "source": [
    "We first rewrite this as a function of a two-dimensional vector:"
   ]
  },
  {
   "cell_type": "code",
   "execution_count": 23,
   "metadata": {},
   "outputs": [],
   "source": [
    "F = lambda x : f(x[0], x[1])"
   ]
  },
  {
   "cell_type": "markdown",
   "metadata": {},
   "source": [
    "We choose an initial guess $x_0$ and set some options that we pass to the Python function `minimize` (unconstrained minimisation), which is part of SciPy.\n",
    "\n",
    "Some of the `scipy.optimize` routines allow for a callback function. Below is an example using the \"nelder-mead\" routine where I use a callback function to display the current value of the arguments and the value of the objective function at each iteration.\n",
    "\n",
    "In the example below, the minimize routine is used with the Nelder-Mead simplex algorithm (selected through the method parameter):"
   ]
  },
  {
   "cell_type": "code",
   "execution_count": 24,
   "metadata": {},
   "outputs": [
    {
     "name": "stdout",
     "output_type": "stream",
     "text": [
      "Iter    X1          X2         F(X)     \n",
      "   1   -0.525000    0.000000   -0.384745\n",
      "   2   -0.575000   -0.000375   -0.396592\n",
      "   3   -0.600000   -0.000063   -0.400606\n",
      "   4   -0.650000   -0.000438   -0.404889\n",
      "   5   -0.675000   -0.000125   -0.405204\n",
      "   6   -0.675000   -0.000125   -0.405204\n",
      "   7   -0.675000   -0.000125   -0.405204\n",
      "   8   -0.663281   -0.000334   -0.405205\n",
      "   9   -0.664648   -0.000176   -0.405218\n",
      "  10   -0.669482   -0.000190   -0.405237\n",
      "  11   -0.669482   -0.000190   -0.405237\n",
      "  12   -0.669482   -0.000190   -0.405237\n",
      "  13   -0.669482   -0.000190   -0.405237\n",
      "  14   -0.669482   -0.000190   -0.405237\n",
      "  15   -0.669025   -0.000145   -0.405237\n",
      "  16   -0.669025   -0.000145   -0.405237\n",
      "  17   -0.669025   -0.000145   -0.405237\n",
      "  18   -0.669025   -0.000145   -0.405237\n",
      "  19   -0.669025   -0.000145   -0.405237\n",
      "  20   -0.669025   -0.000145   -0.405237\n",
      "  21   -0.669036   -0.000041   -0.405237\n",
      "  22   -0.669036   -0.000041   -0.405237\n",
      "  23   -0.669099   -0.000006   -0.405237\n",
      "  24   -0.669058    0.000019   -0.405237\n",
      "  25   -0.669057   -0.000017   -0.405237\n",
      "  26   -0.669078   -0.000002   -0.405237\n",
      "  27   -0.669078   -0.000002   -0.405237\n",
      "  28   -0.669078   -0.000002   -0.405237\n",
      "  29   -0.669070    0.000004   -0.405237\n",
      "  30   -0.669070    0.000004   -0.405237\n",
      "  31   -0.669075   -0.000002   -0.405237\n",
      "  32   -0.669072   -0.000004   -0.405237\n",
      "  33   -0.669072    0.000001   -0.405237\n",
      "  34   -0.669072    0.000001   -0.405237\n",
      "  35   -0.669072    0.000001   -0.405237\n",
      "  36   -0.669072    0.000001   -0.405237\n",
      "  37   -0.669072    0.000001   -0.405237\n",
      "  38   -0.669071    0.000000   -0.405237\n",
      "  39   -0.669072   -0.000000   -0.405237\n",
      "  40   -0.669072   -0.000000   -0.405237\n",
      "  41   -0.669072    0.000000   -0.405237\n",
      "  42   -0.669072    0.000000   -0.405237\n",
      "  43   -0.669072   -0.000000   -0.405237\n",
      "  44   -0.669072   -0.000000   -0.405237\n",
      "  45   -0.669072   -0.000000   -0.405237\n",
      "  46   -0.669072    0.000000   -0.405237\n",
      "  47   -0.669072    0.000000   -0.405237\n",
      "  48   -0.669072   -0.000000   -0.405237\n",
      "  49   -0.669072   -0.000000   -0.405237\n",
      "  50   -0.669072   -0.000000   -0.405237\n",
      "  51   -0.669072   -0.000000   -0.405237\n",
      "  52   -0.669072   -0.000000   -0.405237\n",
      "  53   -0.669072    0.000000   -0.405237\n",
      "  54   -0.669072    0.000000   -0.405237\n",
      "Optimization terminated successfully.\n",
      "         Current function value: -0.405237\n",
      "         Iterations: 55\n",
      "         Function evaluations: 105\n"
     ]
    },
    {
     "data": {
      "text/plain": [
       "array([-6.69071823e-01,  4.53270844e-09])"
      ]
     },
     "execution_count": 24,
     "metadata": {},
     "output_type": "execute_result"
    }
   ],
   "source": [
    "from scipy.optimize import minimize\n",
    "\n",
    "Nfeval = 1\n",
    "\n",
    "def callbackF(Xi):\n",
    "    global Nfeval\n",
    "    print('{0:4d}   {1: 3.6f}   {2: 3.6f}   {3: 3.6f}'.format(Nfeval, Xi[0], Xi[1], F(Xi)))\n",
    "    Nfeval += 1\n",
    "\n",
    "print('{0:4s}   {1:9s}   {2:9s}   {3:9s}'.format('Iter', ' X1', ' X2', 'F(X)'))  \n",
    "x0 = np.array([-.5, 0]);\n",
    "res = minimize(F, \n",
    "               x0, \n",
    "               callback=callbackF,\n",
    "               method='nelder-mead',\n",
    "               options={'xatol': 1e-8, 'disp': True})\n",
    "res.x"
   ]
  },
  {
   "cell_type": "markdown",
   "metadata": {},
   "source": [
    "The simplex algorithm is probably the simplest way to minimize a fairly well-behaved function. It requires only function evaluations and is a good choice for simple minimization problems. However, because it does not use any gradient evaluations, it may take longer to find the minimum."
   ]
  },
  {
   "cell_type": "code",
   "execution_count": 25,
   "metadata": {},
   "outputs": [
    {
     "data": {
      "image/png": "[encoded data removed]",
      "text/plain": [
       "<Figure size 432x288 with 1 Axes>"
      ]
     },
     "metadata": {
      "needs_background": "light"
     },
     "output_type": "display_data"
    }
   ],
   "source": [
    "fig = plt.figure()\n",
    "ax = fig.add_subplot(111, projection='3d')\n",
    "\n",
    "# Make data.\n",
    "X = np.linspace(-2, 2, 50)\n",
    "Y = np.linspace(-2, 2, 50)\n",
    "X, Y = np.meshgrid(X, Y)\n",
    "Z = f(X,Y)\n",
    "\n",
    "# Plot the surface.\n",
    "surf = ax.plot_surface(X, Y, Z, cmap=cm.coolwarm,\n",
    "                       linewidth=0, antialiased=False)\n",
    "\n",
    "opt = ax.plot3D(res.x[0],res.x[1],F(res.x),'ro')\n",
    "\n",
    "# Customize the axis.\n",
    "ax.set_xlabel('X')\n",
    "ax.set_ylabel('Y')\n",
    "ax.set_zlabel('Z')\n",
    "\n",
    "plt.show()"
   ]
  },
  {
   "cell_type": "markdown",
   "metadata": {},
   "source": [
    "## Multi-dimensional optimisation with constraints\n",
    "\n",
    "Let's first look at a linear example.\n",
    "\n",
    "A company has two operation sites $O_1$ and $O_2$ and has to transport material to two construction sites $C_1$ and $C_2$.\n",
    "\n",
    "- There are 8 lorries at $O_1$ and 6 lorries at $O_2$.\n",
    "- Construction site $C_1$ requires 4 loads a day, $C_2$ requires 7 loads.\n",
    "- The distances are $O_1-C_1=8$km, $O_1-C_2=9$km, $O_2-C_1=3$km, $O_2-C_2=5$km.\n",
    "\n",
    "The task is to minimise the total distance travelled per day by all the lorries.\n",
    "\n",
    "Let $x_1$ be the number of lorries driving each day from $O_1$ to $C_1$, $x_2:O_1-C_2$, $x_3:O_2-C_1$, $x_4:O_2-C_2$. Then the function to be minimised is\n",
    "\n",
    "$$f:\\mathbf{R}^4\\to \\mathbf{R}, \\quad f(x) = 8 x_1 + 9 x_2 + 3 x_3 + 5 x_4$$\n",
    "\n",
    "and the constraints are\n",
    "\n",
    "$$x_1 + x_2 \\leq 8,\\\\\n",
    "x_3 + x_4 \\leq 6,\\\\\n",
    "x_1 + x_3 = 4,\\\\\n",
    "x_2 + x_4 = 7,\\\\\n",
    "x_1,x_2,x_3,x_4 \\geq 0.$$\n",
    "\n",
    "We see that the constraints come in three types:\n",
    "\n",
    "- inequalities\n",
    "- equalities\n",
    "- lower (or upper) bounds on the unknowns\n",
    "\n",
    "This problem can actually be solved analytically without too much effort. First we eliminate $x_3$ and $x_4$:\n",
    "\n",
    "$$x_3 = 4 - x_1, \\quad x_4 = 7 - x_2$$\n",
    "\n",
    "The modified target function is\n",
    "\n",
    "$$\\tilde f (x_1, x_2) = 5 x_1 + 4 x_2 + 47$$\n",
    "\n",
    "and the constraints read\n",
    "\n",
    "$$x_1 + x_2 \\leq 8, \\quad x_1 + x_2 \\geq 5, \\quad x_1 \\leq 4, \\quad x_2 \\leq 7, \\quad x_1 \\geq 0, \\quad x_2 \\geq 0.$$\n",
    "\n",
    "The allowed region in the  plane looks like this:"
   ]
  },
  {
   "cell_type": "code",
   "execution_count": 26,
   "metadata": {},
   "outputs": [
    {
     "data": {
      "image/png": "[encoded data removed]",
      "text/plain": [
       "<Figure size 432x288 with 1 Axes>"
      ]
     },
     "metadata": {
      "needs_background": "light"
     },
     "output_type": "display_data"
    }
   ],
   "source": [
    "plt.figure()\n",
    "\n",
    "xmin = -0.5\n",
    "xmax = 5.0\n",
    "ymin = -0.5\n",
    "ymax = 8.0\n",
    "\n",
    "\n",
    "\n",
    "plt.plot([0, 5], [8, 3], 'b-.')  #x1 + x2 <= 8\n",
    "plt.plot([0, 5], [5, 0], 'g-.')  #x1 + x2 >= 5\n",
    "plt.plot([4, 4], [ymin, ymax], 'r-.')  #x1 <= 4\n",
    "plt.plot([xmin, xmax], [7, 7], 'm-.')  #x2 <= 7\n",
    "plt.plot([0, 0], [ymin, ymax], 'c-.')  #x1 => 0\n",
    "plt.plot([xmin, xmax], [0, 0], 'd-.')  #x2 => 0\n",
    "\n",
    "plt.plot(0,5,'ro')   #min\n",
    "\n",
    "\n",
    "xlist = np.linspace(xmin, xmax, 5)\n",
    "ylist = np.linspace(ymin, ymax, 8)\n",
    "X, Y = np.meshgrid(xlist, ylist)\n",
    "\n",
    "# Now we add the contour lines of the target function\n",
    "ftilde = lambda x1,x2 : 5*x1 + 4*x2 + 47\n",
    "Z = ftilde(X, Y)\n",
    "#print(Z)\n",
    "\n",
    "cp = plt.contour(X, Y, Z, colors='black', linestyles='dashed')\n",
    "plt.clabel(cp, inline=True, fontsize=10)\n",
    "plt.title('Contour Plot on $x_1,x_2$ plain for $x_3=4-x_1$ and $x_4=7-x_2$')\n",
    "plt.xlabel('$x_1$')\n",
    "plt.ylabel('$x_2$')\n",
    "plt.show()"
   ]
  },
  {
   "cell_type": "markdown",
   "metadata": {},
   "source": [
    "From this plot it is obvious that the point with the lowest value of $\\tilde f$ is $x_1 = 0, \\; x_2=5$, which implies $x_3 = 4, \\; x_4 = 2$.\n",
    "\n",
    "Now we will solve this problem using Python. The objective function is"
   ]
  },
  {
   "cell_type": "code",
   "execution_count": 27,
   "metadata": {},
   "outputs": [],
   "source": [
    "f = lambda x : 8*x[0] + 9*x[1] + 3*x[2] + 5*x[3]"
   ]
  },
  {
   "cell_type": "markdown",
   "metadata": {},
   "source": [
    "### Defining linear Constraints\n",
    "\n",
    "The linear constraint $x_1 + x_2 \\leq 8$, $x_3 + x_4 \\leq 6$, $x_1 + x_3 = 4$, $x_2 + x_4 = 7$ has the general inequality form\n",
    "\n",
    "$$l_b\\le Ax\\le u_b$$\n",
    "\n",
    "where the vectors for lower bound $l_b$, upper bound $u_b$, and the independent variables $x$ is passed as ndarray of shape\n",
    "(n,) and the matrix $A$ has shape (m, n).\n",
    "\n",
    "It is possible to use equal bounds to represent an equality constraint or infinite bounds to represent a one-sided constraint.\n",
    "\n",
    "and can be written in the linear constraint standard format:"
   ]
  },
  {
   "cell_type": "code",
   "execution_count": 28,
   "metadata": {},
   "outputs": [],
   "source": [
    "from scipy.optimize import LinearConstraint\n",
    "A = [[1, 1, 0, 0], [0, 0, 1, 1], [1, 0, 1, 0], [0, 1, 0, 1]]\n",
    "lb = [-np.inf, -np.inf, 4, 7]\n",
    "ub = [8, 6, 4, 7]\n",
    "linear_constraint = LinearConstraint(A,lb,ub)"
   ]
  },
  {
   "cell_type": "markdown",
   "metadata": {},
   "source": [
    "The bound constraints of the independent variables $x_1,x_2,x_3,x_4 \\geq 0$ are defined using a Bounds object."
   ]
  },
  {
   "cell_type": "code",
   "execution_count": 29,
   "metadata": {},
   "outputs": [],
   "source": [
    "from scipy.optimize import Bounds\n",
    "lb = [0, 0, 0, 0]\n",
    "ub = [np.inf, np.inf, np.inf, np.inf]\n",
    "bounds = Bounds(lb, ub)"
   ]
  },
  {
   "cell_type": "markdown",
   "metadata": {},
   "source": [
    "Finally, we specify an initial vector:"
   ]
  },
  {
   "cell_type": "code",
   "execution_count": 30,
   "metadata": {},
   "outputs": [],
   "source": [
    "x0 = [1, 1, 1, 1]"
   ]
  },
  {
   "cell_type": "markdown",
   "metadata": {},
   "source": [
    "The method 'trust-constr' requires the constraints to be defined as a sequence of objects `LinearConstraint` and `NonlinearConstraint`. The implementation is based on [EQSQP] for equality-constraint problems and on [TRIP] for problems with inequality constraints. Both are trust-region type algorithms suitable for large-scale problems."
   ]
  },
  {
   "cell_type": "code",
   "execution_count": 31,
   "metadata": {},
   "outputs": [
    {
     "name": "stdout",
     "output_type": "stream",
     "text": [
      "Iter    X1          X2          X3          X4         f(X)     \n",
      "   1    1.000000    1.000000    1.000000    1.000000    25.000000\n",
      "   2    0.862118    1.153777    1.409007    1.597916    29.497543\n",
      "   3    0.276923    1.274560    2.850189    3.580524    40.139611\n",
      "   4   -0.002468    4.886790    3.971294    2.035743    66.053964\n",
      "   5   -0.002468    4.886790    3.971294    2.035743    66.053964\n",
      "   6    0.003035    5.000708    3.996965    1.999292    67.018006\n",
      "   7    0.003035    5.000708    3.996965    1.999292    67.018006\n",
      "   8    0.003232    4.997751    3.996768    2.002249    67.007161\n",
      "   9    0.003232    4.997751    3.996768    2.002249    67.007161\n",
      "  10    0.001089    4.999055    3.998911    2.000945    67.001664\n",
      "  11    0.001089    4.999055    3.998911    2.000945    67.001664\n",
      "  12    0.000081    5.000004    3.999919    1.999996    67.000418\n",
      "  13    0.000160    4.999880    3.999840    2.000120    67.000320\n",
      "`gtol` termination condition is satisfied.\n",
      "Number of iterations: 13, function evaluations: 45, CG iterations: 9, optimality: 5.77e-15, constraint violation: 0.00e+00, execution time: 0.049 s.\n",
      "[1.60001267e-04 4.99988000e+00 3.99984000e+00 2.00012000e+00]\n"
     ]
    }
   ],
   "source": [
    "Nfeval = 1\n",
    "\n",
    "def callbackF(Xi,_):\n",
    "    global Nfeval\n",
    "    print('{0:4d}   {1: 3.6f}   {2: 3.6f}   {3: 3.6f}   {4: 3.6f}   {5: 3.6f}'.format(Nfeval, Xi[0], Xi[1], Xi[2], Xi[3], f(Xi)))\n",
    "    Nfeval += 1\n",
    "\n",
    "print('{0:4s}   {1:9s}   {2:9s}   {3:9s}   {4:9s}   {5:9s}'.format('Iter', ' X1', ' X2', ' X3', ' X4', 'f(X)'))  \n",
    "\n",
    "res = minimize(f, x0, method='trust-constr',\n",
    "               callback=callbackF,\n",
    "               constraints=linear_constraint,\n",
    "               options={'verbose': 1}, \n",
    "               bounds=bounds)\n",
    "print(res.x)"
   ]
  },
  {
   "cell_type": "markdown",
   "metadata": {},
   "source": [
    "## Multi-dimensional optimisation with nonlinear constraints\n",
    "\n",
    "We want to minimise the function"
   ]
  },
  {
   "cell_type": "code",
   "execution_count": 32,
   "metadata": {},
   "outputs": [],
   "source": [
    "f = lambda x,y : np.multiply(x,\n",
    "                             np.exp(- np.square(x) - np.square(y))\n",
    "                            ) + (np.square(x) + np.square(y))/20\n",
    "F = lambda x : f(x[0], x[1])"
   ]
  },
  {
   "cell_type": "markdown",
   "metadata": {},
   "source": [
    "### Defining Nonlinear Constraints \n",
    "\n",
    "Lets assume we have the constraints $x_0^2 + x_1 \\le 1$ and $x_0^2 - x_1 \\le 1$. We can write this in vector form.\n",
    "\n",
    "The nonlinear constraint:\n",
    "\n",
    "$$c(x) = \\left[ \\begin{matrix} x_0^2 + x_1 \\\\ x_0^2 - x_1 \\end{matrix} \\right] \\le \\left[ \\begin{matrix} 1 \\\\ 1 \\end{matrix} \\right]$$\n",
    "\n",
    "with Jacobian matrix:\n",
    "\n",
    "$$J(x) = \\left[ \\begin{matrix} 2x_0 & 1 \\\\ 2x_0 & -1 \\end{matrix} \\right]$$\n",
    "\n",
    "and linear combination of the Hessians:\n",
    "\n",
    "$$H(x,v)=\\sum_{i=0}^{1}v_i \\nabla^2 c_i(x)=v_0 \\left[ \\begin{matrix} 2 & 0 \\\\ 2 & 0 \\end{matrix} \\right] + v_1 \\left[ \\begin{matrix} 2 & 0 \\\\ 2 & 0 \\end{matrix} \\right]$$\n",
    "\n",
    "The nonlinear constraint can be defined using a NonlinearConstraint object:"
   ]
  },
  {
   "cell_type": "code",
   "execution_count": 33,
   "metadata": {},
   "outputs": [],
   "source": [
    "from scipy.optimize import NonlinearConstraint\n",
    "def cons_f(x):return [x[0]**2 + x[1], x[0]**2 - x[1]]\n",
    "def cons_J(x):return [[2*x[0], 1], [2*x[0], -1]]\n",
    "def cons_H(x, v):return v[0]*np.array([[2, 0], [0, 0]]) + v[1]*np.array([[2, 0], [0, 0]])\n",
    "nonlinear_constraint = NonlinearConstraint(cons_f, -np.inf, 1, jac=cons_J, hess=cons_H)"
   ]
  },
  {
   "cell_type": "markdown",
   "metadata": {},
   "source": [
    "Alternatively, it is also possible to define the Hessian $H(x,v)$\n",
    " as a sparse matrix:"
   ]
  },
  {
   "cell_type": "code",
   "execution_count": 34,
   "metadata": {},
   "outputs": [],
   "source": [
    "from scipy.sparse import csc_matrix\n",
    "def cons_H_sparse(x, v):return v[0]*csc_matrix([[2, 0], [0, 0]]) + v[1]*csc_matrix([[2, 0], [0, 0]])\n",
    "nonlinear_constraint = NonlinearConstraint(cons_f, -np.inf, 1,\n",
    "                                           jac=cons_J, hess=cons_H_sparse)"
   ]
  },
  {
   "cell_type": "markdown",
   "metadata": {},
   "source": [
    "or as a LinearOperator object."
   ]
  },
  {
   "cell_type": "code",
   "execution_count": 35,
   "metadata": {},
   "outputs": [],
   "source": [
    "from scipy.sparse.linalg import LinearOperator\n",
    "def cons_H_linear_operator(x, v):\n",
    "    def matvec(p):\n",
    "        return np.array([p[0]*2*(v[0]+v[1]), 0])\n",
    "    return LinearOperator((2, 2), matvec=matvec)\n",
    "nonlinear_constraint = NonlinearConstraint(cons_f, -np.inf, 1,\n",
    "                                           jac=cons_J, \n",
    "                                           hess=cons_H_linear_operator)"
   ]
  },
  {
   "cell_type": "markdown",
   "metadata": {},
   "source": [
    "When the evaluation of the Hessian $H(x,v)$ is difficult to implement or computationally infeasible, one may use HessianUpdateStrategy. Currently available strategies are BFGS and SR1."
   ]
  },
  {
   "cell_type": "code",
   "execution_count": 36,
   "metadata": {},
   "outputs": [],
   "source": [
    "from scipy.optimize import BFGS\n",
    "nonlinear_constraint = NonlinearConstraint(cons_f, -np.inf, 1, jac=cons_J, hess=BFGS())"
   ]
  },
  {
   "cell_type": "markdown",
   "metadata": {},
   "source": [
    "Alternatively, the Hessian may be approximated using finite differences."
   ]
  },
  {
   "cell_type": "code",
   "execution_count": 37,
   "metadata": {},
   "outputs": [],
   "source": [
    "nonlinear_constraint = NonlinearConstraint(cons_f, -np.inf, 1, jac=cons_J, hess='2-point')"
   ]
  },
  {
   "cell_type": "markdown",
   "metadata": {},
   "source": [
    "The Jacobian of the constraints can be approximated by finite differences as well. In this case, however, the Hessian cannot be computed with finite differences and needs to be provided by the user or defined using HessianUpdateStrategy."
   ]
  },
  {
   "cell_type": "code",
   "execution_count": 38,
   "metadata": {},
   "outputs": [],
   "source": [
    "nonlinear_constraint = NonlinearConstraint(cons_f, -np.inf, 1, jac='2-point', hess=BFGS())"
   ]
  },
  {
   "cell_type": "code",
   "execution_count": 39,
   "metadata": {},
   "outputs": [
    {
     "name": "stdout",
     "output_type": "stream",
     "text": [
      "Iter    X1          X2         F(X)     \n",
      "   1   -4.000000    1.000000    0.850000\n",
      "   2   -3.155085    0.966497    0.544375\n",
      "   3   -0.986731    1.102524   -0.001060\n",
      "   4   -0.986731    1.102524   -0.001060\n",
      "   5   -0.119987    0.179396   -0.112198\n",
      "   6   -0.119987    0.179396   -0.112198\n",
      "   7   -0.777828    0.135573   -0.385840\n",
      "   8   -0.777828    0.135573   -0.385840\n",
      "   9    0.025541   -0.225361    0.026833\n",
      "  10    0.025541   -0.225361    0.026833\n",
      "  11   -0.394578   -0.154849   -0.320704\n",
      "  12   -0.569546   -0.033751   -0.395022\n",
      "  13   -0.569546   -0.033751   -0.395022\n",
      "  14   -0.620048   -0.007858   -0.402888\n",
      "  15   -0.620048   -0.007858   -0.402888\n",
      "  16   -0.654999   -0.001697   -0.405046\n",
      "  17   -0.654999   -0.001697   -0.405046\n",
      "  18   -0.666334   -0.000262   -0.405230\n",
      "  19   -0.666334   -0.000262   -0.405230\n",
      "  20   -0.668631   -0.000037   -0.405237\n",
      "  21   -0.668631   -0.000037   -0.405237\n",
      "  22   -0.668990   -0.000005   -0.405237\n",
      "  23   -0.668990   -0.000005   -0.405237\n",
      "  24   -0.669056   -0.000001   -0.405237\n",
      "  25   -0.669056   -0.000001   -0.405237\n",
      "  26   -0.669069   -0.000000   -0.405237\n",
      "  27   -0.669069   -0.000000   -0.405237\n",
      "  28   -0.669071   -0.000000   -0.405237\n",
      "`gtol` termination condition is satisfied.\n",
      "Number of iterations: 28, function evaluations: 60, CG iterations: 23, optimality: 2.47e-09, constraint violation: 0.00e+00, execution time: 0.06 s.\n"
     ]
    },
    {
     "data": {
      "image/png": "[encoded data removed]",
      "text/plain": [
       "<Figure size 432x288 with 1 Axes>"
      ]
     },
     "metadata": {
      "needs_background": "light"
     },
     "output_type": "display_data"
    }
   ],
   "source": [
    "Nfeval = 1\n",
    "trace = np.array([])\n",
    "\n",
    "def callbackF(Xi,_):\n",
    "    global Nfeval\n",
    "    global trace\n",
    "    trace=np.append(trace,Xi)\n",
    "    print('{0:4d}   {1: 3.6f}   {2: 3.6f}   {3: 3.6f}'.format(Nfeval, Xi[0], Xi[1], F(Xi)))\n",
    "    Nfeval += 1\n",
    "\n",
    "print('{0:4s}   {1:9s}   {2:9s}   {3:9s}'.format('Iter', ' X1', ' X2', 'F(X)'))  \n",
    "x0 = np.array([-4, 1]);\n",
    "res = minimize(F, \n",
    "               x0, \n",
    "               callback=callbackF,\n",
    "               constraints=nonlinear_constraint,\n",
    "               method='trust-constr',\n",
    "               options={'verbose': 1}\n",
    "              )\n",
    "res.x\n",
    "\n",
    "plt.figure()\n",
    "\n",
    "xmin = -6.0\n",
    "xmax = 1.0\n",
    "ymin = -1.0\n",
    "ymax = 5.0\n",
    "\n",
    "line = trace.reshape((int(trace.size/2),2))\n",
    "plt.plot(line[:,0],line[:,1],'r-')\n",
    "plt.plot(res.x[0],res.x[1],'ro')   #min\n",
    "\n",
    "xlist = np.linspace(xmin, xmax, 50)\n",
    "ylist = np.linspace(ymin, ymax, 50)\n",
    "X, Y = np.meshgrid(xlist, ylist)\n",
    "\n",
    "cpg1 = plt.contour(X, Y, cons_f([X,Y])[0], 1,colors='green')\n",
    "plt.clabel(cpg1, inline=True, fmt='cons_f1(x)=%r',fontsize=10)\n",
    "\n",
    "cpg2 = plt.contour(X, Y, cons_f([X,Y])[1], 1,colors='blue')\n",
    "plt.clabel(cpg2, inline=True, fmt='cons_f2(x)=%r',fontsize=10)\n",
    "\n",
    "cpf = plt.contour(X, Y, f(X, Y), colors='black', linestyles='dashed')\n",
    "plt.clabel(cpf, inline=True, fontsize=10)\n",
    "plt.title('Contour Plot on $x_1,x_2$ plain for $f$ and $cons_f=1$')\n",
    "plt.xlabel('$x_1$')\n",
    "plt.ylabel('$x_2$')\n",
    "plt.show()"
   ]
  },
  {
   "cell_type": "markdown",
   "metadata": {},
   "source": [
    "Lets considder the nonliner constraint $g(x,y)\\leq 0$ with $G(x)=\\frac{x_1x_2}{2}+(x_1-2)^2+\\frac{(x_2-2)^2}{2}-2$"
   ]
  },
  {
   "cell_type": "code",
   "execution_count": 40,
   "metadata": {},
   "outputs": [],
   "source": [
    "g = lambda x,y : np.multiply(x,y)/2 + np.square(x+2) + np.square(y-2)/2 - 2\n",
    "G = lambda x : g(x[0], x[1])\n",
    "nonlinear_constraint = NonlinearConstraint(G, -np.inf, 0, jac='2-point', hess=BFGS())\n",
    "# nonlinear_constraint = NonlinearConstraint(G, -np.inf, 0, jac=cons_J, hess='2-point')"
   ]
  },
  {
   "cell_type": "markdown",
   "metadata": {},
   "source": [
    "We specify an initial vector and solve the optimization problem."
   ]
  },
  {
   "cell_type": "code",
   "execution_count": 41,
   "metadata": {},
   "outputs": [
    {
     "name": "stdout",
     "output_type": "stream",
     "text": [
      "Iter    X1          X2         F(X)     \n",
      "   1   -2.000000    1.000000    0.236524\n",
      "   2   -1.871324    0.995449    0.203699\n",
      "   3   -1.350529    1.034619    0.069988\n",
      "   4   -1.117027    0.809509   -0.071410\n",
      "   5   -1.117027    0.809509   -0.071410\n",
      "   6   -1.037453    0.493526   -0.211180\n",
      "   7   -1.028618    0.523244   -0.204954\n",
      "   8   -0.991809    0.504714   -0.225546\n",
      "   9   -0.991809    0.504714   -0.225546\n",
      "  10   -0.983618    0.468088   -0.240923\n",
      "  11   -0.976806    0.476008   -0.240895\n",
      "  12   -0.976806    0.476008   -0.240895\n",
      "  13   -0.973667    0.469965   -0.244083\n",
      "  14   -0.973667    0.469965   -0.244083\n",
      "  15   -0.972929    0.468843   -0.244733\n",
      "  16   -0.972929    0.468843   -0.244733\n",
      "  17   -0.972780    0.468624   -0.244861\n",
      "  18   -0.972780    0.468624   -0.244861\n",
      "  19   -0.972750    0.468580   -0.244887\n",
      "`gtol` termination condition is satisfied.\n",
      "Number of iterations: 19, function evaluations: 42, CG iterations: 19, optimality: 4.39e-09, constraint violation: 0.00e+00, execution time: 0.056 s.\n"
     ]
    },
    {
     "data": {
      "image/png": "[encoded data removed]",
      "text/plain": [
       "<Figure size 432x288 with 1 Axes>"
      ]
     },
     "metadata": {
      "needs_background": "light"
     },
     "output_type": "display_data"
    }
   ],
   "source": [
    "Nfeval = 1\n",
    "trace = np.array([])\n",
    "\n",
    "def callbackF(Xi,_):\n",
    "    global Nfeval\n",
    "    global trace\n",
    "    trace=np.append(trace,Xi)\n",
    "    print('{0:4d}   {1: 3.6f}   {2: 3.6f}   {3: 3.6f}'.format(Nfeval, Xi[0], Xi[1], F(Xi)))\n",
    "    Nfeval += 1\n",
    "\n",
    "print('{0:4s}   {1:9s}   {2:9s}   {3:9s}'.format('Iter', ' X1', ' X2', 'F(X)'))  \n",
    "x0 = np.array([-2, 1]);\n",
    "res = minimize(F, \n",
    "               x0, \n",
    "               callback=callbackF,\n",
    "               constraints=nonlinear_constraint,\n",
    "               method='trust-constr',\n",
    "               options={'verbose': 1}\n",
    "              )\n",
    "res.x\n",
    "\n",
    "plt.figure()\n",
    "\n",
    "xmin = -6.0\n",
    "xmax = 1.0\n",
    "ymin = -1.0\n",
    "ymax = 8.0\n",
    "\n",
    "line = trace.reshape((int(trace.size/2),2))\n",
    "plt.plot(line[:,0],line[:,1],'r-')\n",
    "plt.plot(res.x[0],res.x[1],'ro')   #min\n",
    "\n",
    "xlist = np.linspace(xmin, xmax, 50)\n",
    "ylist = np.linspace(ymin, ymax, 50)\n",
    "X, Y = np.meshgrid(xlist, ylist)\n",
    "\n",
    "cpg = plt.contour(X, Y, g(X, Y), 0,colors='green')\n",
    "plt.clabel(cpg, inline=True, fmt='g(x)=%r',fontsize=10)\n",
    "\n",
    "cpf = plt.contour(X, Y, f(X, Y), colors='black', linestyles='dashed')\n",
    "plt.clabel(cpf, inline=True, fontsize=10)\n",
    "plt.title('Contour Plot on $x_1,x_2$ plain for $f$ and $g(x)=0$')\n",
    "plt.xlabel('$x_1$')\n",
    "plt.ylabel('$x_2$')\n",
    "plt.show()"
   ]
  }
 ],
 "metadata": {
  "kernelspec": {
   "display_name": "Python 3 (ipykernel)",
   "language": "python",
   "name": "python3"
  },
  "language_info": {
   "codemirror_mode": {
    "name": "ipython",
    "version": 3
   },
   "file_extension": ".py",
   "mimetype": "text/x-python",
   "name": "python",
   "nbconvert_exporter": "python",
   "pygments_lexer": "ipython3",
   "version": "3.9.7"
  },
  "latex_envs": {
   "LaTeX_envs_menu_present": true,
   "autoclose": false,
   "autocomplete": true,
   "bibliofile": "biblio.bib",
   "cite_by": "apalike",
   "current_citInitial": 1,
   "eqLabelWithNumbers": true,
   "eqNumInitial": 1,
   "hotkeys": {
    "equation": "Ctrl-E",
    "itemize": "Ctrl-I"
   },
   "labels_anchors": false,
   "latex_user_defs": false,
   "report_style_numbering": true,
   "user_envs_cfg": false
  }
 },
 "nbformat": 4,
 "nbformat_minor": 4
}
