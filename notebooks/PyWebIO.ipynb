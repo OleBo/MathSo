{
 "cells": [
  {
   "cell_type": "markdown",
   "id": "bceb9a2b",
   "metadata": {},
   "source": [
    "[![Open In Binder](https://static.mybinder.org/badge_logo.svg)](https://mybinder.org/v2/gh/OleBo/MathSo/main?filepath=/notebooks/PyWebIO.ipynb)"
   ]
  },
  {
   "cell_type": "markdown",
   "id": "c214e6b8",
   "metadata": {},
   "source": [
    "[![Open In Colab](https://colab.research.google.com/assets/colab-badge.svg)](https://colab.research.google.com/github/OleBo/MathSo/blob/main/notebooks/PyWebIO.ipynb)\n",
    "\n",
    "\n",
    "[browse](http://colab.research.google.com/github/OleBo/MathSo/)"
   ]
  },
  {
   "cell_type": "code",
   "execution_count": 1,
   "id": "225321a0",
   "metadata": {},
   "outputs": [],
   "source": [
    "%load_ext autoreload"
   ]
  },
  {
   "cell_type": "markdown",
   "id": "97f7a0a9",
   "metadata": {},
   "source": [
    "# PyWebIO\n",
    "\n",
    "[PyWebIO](https://github.com/pywebio/PyWebIO) allows you to build simple web applications without dealing with html. I encourage you to read PyWebIO's [documentation](https://pywebio.readthedocs.io/en/latest/guide.html).  "
   ]
  },
  {
   "cell_type": "markdown",
   "id": "17d53a88",
   "metadata": {},
   "source": [
    "## Input"
   ]
  },
  {
   "cell_type": "code",
   "execution_count": 2,
   "id": "c648979c",
   "metadata": {},
   "outputs": [],
   "source": [
    "from pywebio.input import *\n",
    "from pywebio.output import *"
   ]
  },
  {
   "cell_type": "code",
   "execution_count": 3,
   "id": "a79b1bea",
   "metadata": {},
   "outputs": [
    {
     "data": {
      "text/plain": [
       "'Olaf'"
      ]
     },
     "execution_count": 3,
     "metadata": {},
     "output_type": "execute_result"
    }
   ],
   "source": [
    "input(\"What's your name?\")"
   ]
  },
  {
   "cell_type": "code",
   "execution_count": 4,
   "id": "eb14c7e0",
   "metadata": {},
   "outputs": [
    {
     "data": {
      "text/plain": [
       "'Orange'"
      ]
     },
     "execution_count": 4,
     "metadata": {},
     "output_type": "execute_result"
    }
   ],
   "source": [
    "select(\"Select food\", ['Orange', 'Apple'])"
   ]
  },
  {
   "cell_type": "code",
   "execution_count": 5,
   "id": "e0b324c7",
   "metadata": {},
   "outputs": [
    {
     "data": {
      "text/plain": [
       "[]"
      ]
     },
     "execution_count": 5,
     "metadata": {},
     "output_type": "execute_result"
    }
   ],
   "source": [
    "checkbox(\"Are your okay?\", options=[\"I'm okay.\"])"
   ]
  },
  {
   "cell_type": "code",
   "execution_count": 6,
   "id": "464706f7",
   "metadata": {},
   "outputs": [
    {
     "data": {
      "text/plain": [
       "'Study'"
      ]
     },
     "execution_count": 6,
     "metadata": {},
     "output_type": "execute_result"
    }
   ],
   "source": [
    "radio(\"What do you like to do?\", options=['Eat', 'Sleep', 'Study'])"
   ]
  },
  {
   "cell_type": "markdown",
   "id": "9eaddc33",
   "metadata": {},
   "source": [
    "## Output"
   ]
  },
  {
   "cell_type": "code",
   "execution_count": 7,
   "id": "1e7b2060",
   "metadata": {},
   "outputs": [
    {
     "name": "stdout",
     "output_type": "stream",
     "text": [
      "from pywebio.output import *\r\n",
      "from pywebio.input import * \r\n",
      "\r\n",
      "def output_funcs():\r\n",
      "    put_markdown('## Hello there')\r\n",
      "    put_text(\"I hope you are having a great day! Here is our menu\")\r\n",
      "    \r\n",
      "    put_table([\r\n",
      "        ['Food', 'Price'],\r\n",
      "        ['Noodle', 10], \r\n",
      "        ['Chicken and rice', 11]\r\n",
      "    ])\r\n",
      "\r\n",
      "    with popup(\"Subscribe to the page\"):\r\n",
      "        put_text(\"Join other foodies!\")\r\n",
      "\r\n",
      "        food = select(\"Choose your favorite food\", ['noodle', 'chicken and rice'])\r\n",
      "        put_text(f\"You chose {food}. Please wait until it is served!\")\r\n",
      "        import time\r\n",
      "        put_processbar('bar')\r\n",
      "        for i in range(1, 11):\r\n",
      "            set_processbar('bar', i / 10)\r\n",
      "            time.sleep(0.1)\r\n",
      "            put_markdown(\"Here is your food! Enjoy!\")\r\n",
      "\r\n",
      "        if food == 'noodle':\r\n",
      "            put_image(open('math_so/apps/pywebio/noodle.jpeg', 'rb').read())\r\n",
      "        else:\r\n",
      "            put_image(open('math_so/apps/pywebio/chicken_and_rice.jpeg', 'rb').read())\r\n",
      "\r\n",
      "        put_file(\"You can download the food here\", b\"Hello\")\r\n",
      "        \r\n",
      "if __name__ == '__main__':\r\n",
      "    start_server(output_funcs, port=8080, debug=True)"
     ]
    }
   ],
   "source": [
    "!cat ../math_so/apps/pywebio/output_funcs.py"
   ]
  },
  {
   "cell_type": "code",
   "execution_count": 8,
   "id": "f5340262",
   "metadata": {},
   "outputs": [
    {
     "ename": "FileNotFoundError",
     "evalue": "[Errno 2] No such file or directory: 'math_so/apps/pywebio/noodle.jpeg'",
     "output_type": "error",
     "traceback": [
      "\u001b[0;31m---------------------------------------------------------------------------\u001b[0m",
      "\u001b[0;31mFileNotFoundError\u001b[0m                         Traceback (most recent call last)",
      "\u001b[0;32m~/.pyenv/versions/3.9.7/lib/python3.9/runpy.py\u001b[0m in \u001b[0;36mrun_module\u001b[0;34m(mod_name, init_globals, run_name, alter_sys)\u001b[0m\n\u001b[1;32m    208\u001b[0m         \u001b[0mrun_name\u001b[0m \u001b[0;34m=\u001b[0m \u001b[0mmod_name\u001b[0m\u001b[0;34m\u001b[0m\u001b[0;34m\u001b[0m\u001b[0m\n\u001b[1;32m    209\u001b[0m     \u001b[0;32mif\u001b[0m \u001b[0malter_sys\u001b[0m\u001b[0;34m:\u001b[0m\u001b[0;34m\u001b[0m\u001b[0;34m\u001b[0m\u001b[0m\n\u001b[0;32m--> 210\u001b[0;31m         \u001b[0;32mreturn\u001b[0m \u001b[0m_run_module_code\u001b[0m\u001b[0;34m(\u001b[0m\u001b[0mcode\u001b[0m\u001b[0;34m,\u001b[0m \u001b[0minit_globals\u001b[0m\u001b[0;34m,\u001b[0m \u001b[0mrun_name\u001b[0m\u001b[0;34m,\u001b[0m \u001b[0mmod_spec\u001b[0m\u001b[0;34m)\u001b[0m\u001b[0;34m\u001b[0m\u001b[0;34m\u001b[0m\u001b[0m\n\u001b[0m\u001b[1;32m    211\u001b[0m     \u001b[0;32melse\u001b[0m\u001b[0;34m:\u001b[0m\u001b[0;34m\u001b[0m\u001b[0;34m\u001b[0m\u001b[0m\n\u001b[1;32m    212\u001b[0m         \u001b[0;31m# Leave the sys module alone\u001b[0m\u001b[0;34m\u001b[0m\u001b[0;34m\u001b[0m\u001b[0m\n",
      "\u001b[0;32m~/.pyenv/versions/3.9.7/lib/python3.9/runpy.py\u001b[0m in \u001b[0;36m_run_module_code\u001b[0;34m(code, init_globals, mod_name, mod_spec, pkg_name, script_name)\u001b[0m\n\u001b[1;32m     95\u001b[0m     \u001b[0;32mwith\u001b[0m \u001b[0m_TempModule\u001b[0m\u001b[0;34m(\u001b[0m\u001b[0mmod_name\u001b[0m\u001b[0;34m)\u001b[0m \u001b[0;32mas\u001b[0m \u001b[0mtemp_module\u001b[0m\u001b[0;34m,\u001b[0m \u001b[0m_ModifiedArgv0\u001b[0m\u001b[0;34m(\u001b[0m\u001b[0mfname\u001b[0m\u001b[0;34m)\u001b[0m\u001b[0;34m:\u001b[0m\u001b[0;34m\u001b[0m\u001b[0;34m\u001b[0m\u001b[0m\n\u001b[1;32m     96\u001b[0m         \u001b[0mmod_globals\u001b[0m \u001b[0;34m=\u001b[0m \u001b[0mtemp_module\u001b[0m\u001b[0;34m.\u001b[0m\u001b[0mmodule\u001b[0m\u001b[0;34m.\u001b[0m\u001b[0m__dict__\u001b[0m\u001b[0;34m\u001b[0m\u001b[0;34m\u001b[0m\u001b[0m\n\u001b[0;32m---> 97\u001b[0;31m         _run_code(code, mod_globals, init_globals,\n\u001b[0m\u001b[1;32m     98\u001b[0m                   mod_name, mod_spec, pkg_name, script_name)\n\u001b[1;32m     99\u001b[0m     \u001b[0;31m# Copy the globals of the temporary module, as they\u001b[0m\u001b[0;34m\u001b[0m\u001b[0;34m\u001b[0m\u001b[0m\n",
      "\u001b[0;32m~/.pyenv/versions/3.9.7/lib/python3.9/runpy.py\u001b[0m in \u001b[0;36m_run_code\u001b[0;34m(code, run_globals, init_globals, mod_name, mod_spec, pkg_name, script_name)\u001b[0m\n\u001b[1;32m     85\u001b[0m                        \u001b[0m__package__\u001b[0m \u001b[0;34m=\u001b[0m \u001b[0mpkg_name\u001b[0m\u001b[0;34m,\u001b[0m\u001b[0;34m\u001b[0m\u001b[0;34m\u001b[0m\u001b[0m\n\u001b[1;32m     86\u001b[0m                        __spec__ = mod_spec)\n\u001b[0;32m---> 87\u001b[0;31m     \u001b[0mexec\u001b[0m\u001b[0;34m(\u001b[0m\u001b[0mcode\u001b[0m\u001b[0;34m,\u001b[0m \u001b[0mrun_globals\u001b[0m\u001b[0;34m)\u001b[0m\u001b[0;34m\u001b[0m\u001b[0;34m\u001b[0m\u001b[0m\n\u001b[0m\u001b[1;32m     88\u001b[0m     \u001b[0;32mreturn\u001b[0m \u001b[0mrun_globals\u001b[0m\u001b[0;34m\u001b[0m\u001b[0;34m\u001b[0m\u001b[0m\n\u001b[1;32m     89\u001b[0m \u001b[0;34m\u001b[0m\u001b[0m\n",
      "\u001b[0;32m~/Projects/MathSo/scripts/output_funcs.py\u001b[0m in \u001b[0;36m<module>\u001b[0;34m\u001b[0m\n\u001b[1;32m     10\u001b[0m \u001b[0;34m\u001b[0m\u001b[0m\n\u001b[1;32m     11\u001b[0m \u001b[0;32mif\u001b[0m \u001b[0m__name__\u001b[0m \u001b[0;34m==\u001b[0m \u001b[0;34m'__main__'\u001b[0m\u001b[0;34m:\u001b[0m\u001b[0;34m\u001b[0m\u001b[0;34m\u001b[0m\u001b[0m\n\u001b[0;32m---> 12\u001b[0;31m     \u001b[0moutput_funcs\u001b[0m\u001b[0;34m.\u001b[0m\u001b[0moutput_funcs\u001b[0m\u001b[0;34m(\u001b[0m\u001b[0;34m)\u001b[0m\u001b[0;34m\u001b[0m\u001b[0;34m\u001b[0m\u001b[0m\n\u001b[0m",
      "\u001b[0;32m~/Projects/MathSo/math_so/apps/pywebio/output_funcs.py\u001b[0m in \u001b[0;36moutput_funcs\u001b[0;34m()\u001b[0m\n\u001b[1;32m     25\u001b[0m \u001b[0;34m\u001b[0m\u001b[0m\n\u001b[1;32m     26\u001b[0m         \u001b[0;32mif\u001b[0m \u001b[0mfood\u001b[0m \u001b[0;34m==\u001b[0m \u001b[0;34m'noodle'\u001b[0m\u001b[0;34m:\u001b[0m\u001b[0;34m\u001b[0m\u001b[0;34m\u001b[0m\u001b[0m\n\u001b[0;32m---> 27\u001b[0;31m             \u001b[0mput_image\u001b[0m\u001b[0;34m(\u001b[0m\u001b[0mopen\u001b[0m\u001b[0;34m(\u001b[0m\u001b[0;34m'math_so/apps/pywebio/noodle.jpeg'\u001b[0m\u001b[0;34m,\u001b[0m \u001b[0;34m'rb'\u001b[0m\u001b[0;34m)\u001b[0m\u001b[0;34m.\u001b[0m\u001b[0mread\u001b[0m\u001b[0;34m(\u001b[0m\u001b[0;34m)\u001b[0m\u001b[0;34m)\u001b[0m\u001b[0;34m\u001b[0m\u001b[0;34m\u001b[0m\u001b[0m\n\u001b[0m\u001b[1;32m     28\u001b[0m         \u001b[0;32melse\u001b[0m\u001b[0;34m:\u001b[0m\u001b[0;34m\u001b[0m\u001b[0;34m\u001b[0m\u001b[0m\n\u001b[1;32m     29\u001b[0m             \u001b[0mput_image\u001b[0m\u001b[0;34m(\u001b[0m\u001b[0mopen\u001b[0m\u001b[0;34m(\u001b[0m\u001b[0;34m'math_so/apps/pywebio/chicken_and_rice.jpeg'\u001b[0m\u001b[0;34m,\u001b[0m \u001b[0;34m'rb'\u001b[0m\u001b[0;34m)\u001b[0m\u001b[0;34m.\u001b[0m\u001b[0mread\u001b[0m\u001b[0;34m(\u001b[0m\u001b[0;34m)\u001b[0m\u001b[0;34m)\u001b[0m\u001b[0;34m\u001b[0m\u001b[0;34m\u001b[0m\u001b[0m\n",
      "\u001b[0;31mFileNotFoundError\u001b[0m: [Errno 2] No such file or directory: 'math_so/apps/pywebio/noodle.jpeg'"
     ]
    },
    {
     "name": "stderr",
     "output_type": "stream",
     "text": [
      "/Users/bochmann/Library/Caches/pypoetry/virtualenvs/math-so-rqA8CpC9-py3.9/lib/python3.9/site-packages/IPython/core/interactiveshell.py:2886: UserWarning: Unknown failure executing module: <scripts.output_funcs>\n",
      "  warn('Unknown failure executing module: <%s>' % mod_name)\n"
     ]
    }
   ],
   "source": [
    "%autoreload\n",
    "%run -m scripts.output_funcs"
   ]
  },
  {
   "cell_type": "markdown",
   "id": "43c22311",
   "metadata": {},
   "source": [
    "## App: Body Mass Index"
   ]
  },
  {
   "cell_type": "code",
   "execution_count": 9,
   "id": "61e72e54",
   "metadata": {},
   "outputs": [
    {
     "name": "stdout",
     "output_type": "stream",
     "text": [
      "from pywebio import start_server\r\n",
      "from pywebio.input import *\r\n",
      "from pywebio.output import *\r\n",
      "from pywebio.session import info as session_info\r\n",
      "\r\n",
      "\r\n",
      "def main():\r\n",
      "    \"\"\"BMI Calculation\r\n",
      "\r\n",
      "    Simple application for calculating Body Mass Index.\r\n",
      "    \"\"\"\r\n",
      "\r\n",
      "    put_markdown(\"\"\"# Body Mass Index\r\n",
      "    \r\n",
      "    [Body mass index](https://en.wikipedia.org/wiki/Body_mass_index) (BMI) is a measure of body fat based on height and weight that applies to adult men and women. \r\n",
      "    \r\n",
      "    BMI Categories:\r\n",
      "    \r\n",
      "    | Category             | BMI           |\r\n",
      "    | -------------------- | ------------- |\r\n",
      "    | Severely underweight | BMI<14.9      |\r\n",
      "    | Underweight          | 14.9≤BMI<18.4 |\r\n",
      "    | Normal               | 18.4≤BMI<22.9 |\r\n",
      "    | Overweight           | 22.9≤BMI<27.5 |\r\n",
      "    | Moderately obese     | 27.5≤BMI<40   |\r\n",
      "    | Severely obese       | BMI≥40        |\r\n",
      "    \r\n",
      "    ## BMI calculation\r\n",
      "    The source code of this application is [here](https://github.com/OleBo/MathSo/tree/main/math_so/apps/pywebio/bmi.py)\r\n",
      "    \"\"\")\r\n",
      "\r\n",
      "    info = input_group('BMI calculation', [\r\n",
      "        input(\"Your Height(cm)\", name=\"height\", type=FLOAT),\r\n",
      "        input(\"Your Weight(kg)\", name=\"weight\", type=FLOAT),\r\n",
      "    ])\r\n",
      "\r\n",
      "    BMI = info['weight'] / (info['height'] / 100) ** 2\r\n",
      "\r\n",
      "    top_status = [(14.9, 'Severely underweight'), \r\n",
      "                  (18.4, 'Underweight'),\r\n",
      "                  (22.9, 'Normal'), \r\n",
      "                  (27.5, 'Overweight'),\r\n",
      "                  (40.0, 'Moderately obese'), \r\n",
      "                  (float('inf'), 'Severely obese')]\r\n",
      "\r\n",
      "    for top, status in top_status:\r\n",
      "        if BMI <= top:\r\n",
      "            put_markdown('Your BMI: `%.1f`, Category: `%s`' % (BMI, status))\r\n",
      "            break\r\n",
      "\r\n",
      "\r\n",
      "if __name__ == '__main__':\r\n",
      "    start_server(main, debug=True, port=8080)"
     ]
    }
   ],
   "source": [
    "!cat ../math_so/apps/pywebio/bmi.py"
   ]
  },
  {
   "cell_type": "code",
   "execution_count": 10,
   "id": "2eda9dd9",
   "metadata": {},
   "outputs": [],
   "source": [
    "%autoreload\n",
    "%run -m scripts.bmi"
   ]
  },
  {
   "cell_type": "markdown",
   "id": "d00edab8",
   "metadata": {},
   "source": [
    "## App: Bokeh"
   ]
  },
  {
   "cell_type": "code",
   "execution_count": 11,
   "id": "4fdb3aa8",
   "metadata": {},
   "outputs": [
    {
     "name": "stdout",
     "output_type": "stream",
     "text": [
      "from bokeh.io import output_notebook\r\n",
      "from bokeh.io import show\r\n",
      "from bokeh.layouts import column\r\n",
      "from bokeh.models import ColumnDataSource, Slider\r\n",
      "from bokeh.plotting import figure\r\n",
      "from bokeh.sampledata.sea_surface_temperature import sea_surface_temperature\r\n",
      "\r\n",
      "from pywebio import start_server\r\n",
      "from pywebio.output import *\r\n",
      "from pywebio.session import info as session_info\r\n",
      "\r\n",
      "\r\n",
      "def bkapp(doc):\r\n",
      "    df = sea_surface_temperature.copy()\r\n",
      "    source = ColumnDataSource(data=df)\r\n",
      "\r\n",
      "    plot = figure(x_axis_type='datetime', y_range=(0, 25),\r\n",
      "                  y_axis_label='Temperature (Celsius)',\r\n",
      "                  title=\"Sea Surface Temperature at 43.18, -70.43\")\r\n",
      "    plot.line('time', 'temperature', source=source)\r\n",
      "\r\n",
      "    def callback(attr, old, new):\r\n",
      "        if new == 0:\r\n",
      "            data = df\r\n",
      "        else:\r\n",
      "            data = df.rolling('{0}D'.format(new)).mean()\r\n",
      "        source.data = ColumnDataSource.from_df(data)\r\n",
      "\r\n",
      "    slider = Slider(start=0, end=30, value=0, step=1, title=\"Smoothing by N Days\")\r\n",
      "    slider.on_change('value', callback)\r\n",
      "\r\n",
      "    doc.add_root(column([slider, plot], sizing_mode='stretch_width'))\r\n",
      "\r\n",
      "\r\n",
      "def bk_app():\r\n",
      "    output_notebook(verbose=False, notebook_type='pywebio')\r\n",
      "\r\n",
      "    put_markdown(\"\"\"# Bokeh Applications in PyWebIO\r\n",
      "    [Bokeh Applications](https://docs.bokeh.org/en/latest/docs/user_guide/server.html) can be built by starting the Bokeh server. The purpose of the Bokeh server is to make it easy for Python users to create interactive web applications that can connect front-end UI events to real, running Python code.\r\n",
      "    In PyWebIO, you can also use bokeh.io.show() to display a Bokeh App.\r\n",
      "    You can use `bokeh.io.output_notebook(notebook_type='pywebio')` in the PyWebIO session to setup Bokeh environment. Then you can use `bokeh.io.show()` to output a boken application.\r\n",
      "    This is a demo of Bokeh App: \r\n",
      "    \"\"\")\r\n",
      "\r\n",
      "    show(bkapp)\r\n",
      "\r\n",
      "\r\n",
      "if __name__ == '__main__':\r\n",
      "    start_server(bk_app, port=8080, debug=True)"
     ]
    }
   ],
   "source": [
    "!cat ../math_so/apps/pywebio/bokeh_app.py"
   ]
  },
  {
   "cell_type": "code",
   "execution_count": 12,
   "id": "3ba62a97",
   "metadata": {},
   "outputs": [],
   "source": [
    "%autoreload\n",
    "%run -m scripts.bokeh_app"
   ]
  },
  {
   "cell_type": "code",
   "execution_count": null,
   "id": "1951beb7",
   "metadata": {},
   "outputs": [],
   "source": []
  }
 ],
 "metadata": {
  "kernelspec": {
   "display_name": "Python 3.9.7 (math-so)",
   "language": "python",
   "name": "math-so"
  },
  "language_info": {
   "codemirror_mode": {
    "name": "ipython",
    "version": 3
   },
   "file_extension": ".py",
   "mimetype": "text/x-python",
   "name": "python",
   "nbconvert_exporter": "python",
   "pygments_lexer": "ipython3",
   "version": "3.9.7"
  },
  "latex_envs": {
   "LaTeX_envs_menu_present": true,
   "autoclose": false,
   "autocomplete": true,
   "bibliofile": "biblio.bib",
   "cite_by": "apalike",
   "current_citInitial": 1,
   "eqLabelWithNumbers": true,
   "eqNumInitial": 1,
   "hotkeys": {
    "equation": "Ctrl-E",
    "itemize": "Ctrl-I"
   },
   "labels_anchors": false,
   "latex_user_defs": false,
   "report_style_numbering": true,
   "user_envs_cfg": false
  }
 },
 "nbformat": 4,
 "nbformat_minor": 5
}
