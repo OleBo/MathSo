{
 "cells": [
  {
   "cell_type": "markdown",
   "id": "de639532",
   "metadata": {},
   "source": [
    "[![Open In Binder](https://static.mybinder.org/badge_logo.svg)](https://mybinder.org/v2/gh/OleBo/MathSo/main?filepath=/notebooks/PyWebIO.ipynb)"
   ]
  },
  {
   "cell_type": "markdown",
   "id": "af1eb915",
   "metadata": {},
   "source": [
    "[![Open In Colab](https://colab.research.google.com/assets/colab-badge.svg)](https://colab.research.google.com/github/OleBo/MathSo/blob/main/notebooks/PyWebIO.ipynb)\n",
    "\n",
    "\n",
    "[browse](http://colab.research.google.com/github/OleBo/MathSo/)"
   ]
  },
  {
   "cell_type": "code",
   "execution_count": 1,
   "id": "8a3c7ad3",
   "metadata": {},
   "outputs": [],
   "source": [
    "%load_ext autoreload"
   ]
  },
  {
   "cell_type": "markdown",
   "id": "35812035",
   "metadata": {},
   "source": [
    "# PyWebIO\n",
    "\n",
    "[PyWebIO](https://github.com/pywebio/PyWebIO) allows you to build simple web applications without dealing with html. I encourage you to read PyWebIO's [documentation](https://pywebio.readthedocs.io/en/latest/guide.html). There is also a good [tutorial on medium](https://towardsdatascience.com/pywebio-write-interactive-web-app-in-script-way-using-python-14f50155af4e). "
   ]
  },
  {
   "cell_type": "markdown",
   "id": "a25c72bc",
   "metadata": {},
   "source": [
    "## Input"
   ]
  },
  {
   "cell_type": "code",
   "execution_count": 2,
   "id": "be50a6e8",
   "metadata": {},
   "outputs": [],
   "source": [
    "from pywebio.input import *\n",
    "from pywebio.output import *"
   ]
  },
  {
   "cell_type": "code",
   "execution_count": 3,
   "id": "9da9eaad",
   "metadata": {},
   "outputs": [
    {
     "data": {
      "text/plain": [
       "'Olaf'"
      ]
     },
     "execution_count": 3,
     "metadata": {},
     "output_type": "execute_result"
    }
   ],
   "source": [
    "input(\"What's your name?\")"
   ]
  },
  {
   "cell_type": "code",
   "execution_count": 4,
   "id": "edc49677",
   "metadata": {},
   "outputs": [
    {
     "data": {
      "text/plain": [
       "'Orange'"
      ]
     },
     "execution_count": 4,
     "metadata": {},
     "output_type": "execute_result"
    }
   ],
   "source": [
    "select(\"Select food\", ['Orange', 'Apple'])"
   ]
  },
  {
   "cell_type": "code",
   "execution_count": 5,
   "id": "a12088ac",
   "metadata": {},
   "outputs": [
    {
     "data": {
      "text/plain": [
       "[\"I'm okay.\"]"
      ]
     },
     "execution_count": 5,
     "metadata": {},
     "output_type": "execute_result"
    }
   ],
   "source": [
    "checkbox(\"Are your okay?\", options=[\"I'm okay.\"])"
   ]
  },
  {
   "cell_type": "code",
   "execution_count": 6,
   "id": "c1414541",
   "metadata": {},
   "outputs": [
    {
     "data": {
      "text/plain": [
       "'Study'"
      ]
     },
     "execution_count": 6,
     "metadata": {},
     "output_type": "execute_result"
    }
   ],
   "source": [
    "radio(\"What do you like to do?\", options=['Eat', 'Sleep', 'Study'])"
   ]
  },
  {
   "cell_type": "markdown",
   "id": "026baf18",
   "metadata": {},
   "source": [
    "## Output\n",
    "\n",
    "Using [output functions](https://pywebio.readthedocs.io/en/dev/output.html), you can output a variety of content, such as text, tables, images and so on. If you use PyWebIO in interactive execution environment of Python shell, IPython or jupyter notebook, you need call `show()` method explicitly to show output:"
   ]
  },
  {
   "cell_type": "code",
   "execution_count": 7,
   "id": "72e435e6",
   "metadata": {},
   "outputs": [],
   "source": [
    "from pywebio.output import *\n",
    "from pywebio.input import * \n",
    "import time"
   ]
  },
  {
   "cell_type": "code",
   "execution_count": 8,
   "id": "426ba7c5",
   "metadata": {
    "scrolled": true
   },
   "outputs": [],
   "source": [
    "put_markdown('## Hello there').show()"
   ]
  },
  {
   "cell_type": "code",
   "execution_count": 9,
   "id": "0d30be31",
   "metadata": {},
   "outputs": [],
   "source": [
    "put_text(\"I hope you are having a great day! Here is our menu\").show()"
   ]
  },
  {
   "cell_type": "code",
   "execution_count": 10,
   "id": "246ee6ca",
   "metadata": {},
   "outputs": [],
   "source": [
    "put_table([\n",
    "    ['Food', 'Price'],\n",
    "    ['Noodle', 10], \n",
    "    ['Chicken and rice', 11]\n",
    "    ]).show()"
   ]
  },
  {
   "cell_type": "code",
   "execution_count": 11,
   "id": "357d1d58",
   "metadata": {},
   "outputs": [],
   "source": [
    "with popup(\"Subscribe to the page\"):\n",
    "    put_text(\"Join other foodies!\").show()"
   ]
  },
  {
   "cell_type": "code",
   "execution_count": 12,
   "id": "bf7e713d",
   "metadata": {},
   "outputs": [],
   "source": [
    "food = select(\"Choose your favorite food\", ['noodle', 'chicken and rice'])"
   ]
  },
  {
   "cell_type": "code",
   "execution_count": 13,
   "id": "ca11e5b0",
   "metadata": {},
   "outputs": [],
   "source": [
    "put_text(f\"You chose {food}. Please wait until it is served!\").show()"
   ]
  },
  {
   "cell_type": "code",
   "execution_count": 14,
   "id": "edabcf06",
   "metadata": {},
   "outputs": [],
   "source": [
    "put_processbar('bar')\n",
    "for i in range(1, 11):\n",
    "    set_processbar('bar', i / 10)\n",
    "    time.sleep(0.1)\n",
    "put_markdown(\"Here is your food! Enjoy!\").show()\n",
    "\n",
    "#if food == 'noodle':\n",
    "#    put_image(open('noodle.jpeg', 'rb').read())\n",
    "#else:\n",
    "#    put_image(open('chicken_and_rice.jpeg', 'rb').read())"
   ]
  },
  {
   "cell_type": "code",
   "execution_count": 15,
   "id": "e86d302f",
   "metadata": {},
   "outputs": [],
   "source": [
    "put_file(\"You can download the food here\", b\"Hello\").show()"
   ]
  },
  {
   "cell_type": "markdown",
   "id": "54e3efc9",
   "metadata": {},
   "source": [
    "### Combined Output\n",
    "\n",
    "The output functions whose name starts with `put_` can be combined with some output functions as part of the final output:"
   ]
  },
  {
   "cell_type": "code",
   "execution_count": 16,
   "id": "dc843f06",
   "metadata": {},
   "outputs": [],
   "source": [
    "put_table([\n",
    "    ['Type', 'Content'],\n",
    "    ['html', put_html('X<sup>2</sup>')],\n",
    "    ['text', '<hr/>'],  # equal to ['text', put_text('<hr/>')]\n",
    "    ['buttons', put_buttons(['A', 'B'], onclick=...)],  \n",
    "    ['markdown', put_markdown('`Awesome PyWebIO!`')],\n",
    "    ['file', put_file('hello.text', b'hello world')],\n",
    "    ['table', put_table([['A', 'B'], ['C', 'D']])]\n",
    "]).show()"
   ]
  },
  {
   "cell_type": "markdown",
   "id": "7a84af51",
   "metadata": {},
   "source": [
    "### Context Manager\n",
    "\n",
    "Some output functions that accept `put_xxx()` calls as content can be used as context manager:"
   ]
  },
  {
   "cell_type": "code",
   "execution_count": 17,
   "id": "604de731",
   "metadata": {},
   "outputs": [],
   "source": [
    "with put_collapse('This is title'):\n",
    "    for i in range(4):\n",
    "        put_text(i)\n",
    "\n",
    "    put_table([\n",
    "        ['Commodity', 'Price'],\n",
    "        ['Apple', '5.5'],\n",
    "        ['Banana', '7'],\n",
    "    ]).show()"
   ]
  },
  {
   "cell_type": "markdown",
   "id": "d7ae71c8",
   "metadata": {},
   "source": [
    "## Click Callback\n",
    "\n",
    "As we can see from the above, the interaction of PyWebIO has two parts: input and output. The input function of PyWebIO is blocking, a form will be displayed on the user’s web browser when calling input function, the input function will not return until the user submits the form. The output function is used to output content to the browser in real time. The input and output behavior of PyWebIO is consistent with the console program. That’s why we say PyWebIO turning the browser into a “rich text terminal”. So you can write PyWebIO applications in script programming way.\n",
    "\n",
    "In addition, PyWebIO also supports event callbacks: PyWebIO allows you to output some buttons and bind callbacks to them. The provided callback function will be executed when the button is clicked.\n",
    "\n",
    "This is an example:"
   ]
  },
  {
   "cell_type": "code",
   "execution_count": 18,
   "id": "f37b873f",
   "metadata": {},
   "outputs": [],
   "source": [
    "from functools import partial\n",
    "\n",
    "def edit_row(choice, row):\n",
    "    put_text(\"You click %s button ar row %s\" % (choice, row))\n",
    "\n",
    "put_table([\n",
    "    ['Idx', 'Actions'],\n",
    "    [1, put_buttons(['edit', 'delete'], onclick=partial(edit_row, row=1))],\n",
    "    [2, put_buttons(['edit', 'delete'], onclick=partial(edit_row, row=2))],\n",
    "    [3, put_buttons(['edit', 'delete'], onclick=partial(edit_row, row=3))],\n",
    "]).show()"
   ]
  },
  {
   "cell_type": "markdown",
   "id": "4300cf52",
   "metadata": {},
   "source": [
    "Of course, PyWebIO also supports outputting individual button:"
   ]
  },
  {
   "cell_type": "code",
   "execution_count": 19,
   "id": "46a4378f",
   "metadata": {},
   "outputs": [],
   "source": [
    "def btn_click(btn_val):\n",
    "    put_text(\"You click %s button\" % btn_val).show()\n",
    "\n",
    "put_buttons(['A', 'B', 'C'], onclick=btn_click).show()  # a group of buttons\n",
    "\n",
    "put_button(\"Click me\", onclick=lambda: toast(\"Clicked\")).show()  # single button"
   ]
  },
  {
   "cell_type": "markdown",
   "id": "4ca267a7",
   "metadata": {},
   "source": [
    "## Run application\n",
    "\n",
    "In PyWebIO, there are two modes to run PyWebIO applications: \n",
    "- running as a script and using `pywebio.start_server()` or\n",
    "- running as a web service using `pywebio.platform.path_deploy()`.\n",
    "\n",
    "### App: Body Mass Index"
   ]
  },
  {
   "cell_type": "code",
   "execution_count": 20,
   "id": "a2a78b74",
   "metadata": {},
   "outputs": [
    {
     "name": "stdout",
     "output_type": "stream",
     "text": [
      "from pywebio import start_server\r\n",
      "from pywebio.input import *\r\n",
      "from pywebio.output import *\r\n",
      "from pywebio.session import info as session_info\r\n",
      "\r\n",
      "\r\n",
      "def main():\r\n",
      "    \"\"\"BMI Calculation\r\n",
      "\r\n",
      "    Simple application for calculating Body Mass Index.\r\n",
      "    \"\"\"\r\n",
      "\r\n",
      "    put_markdown(\"\"\"# Body Mass Index\r\n",
      "    \r\n",
      "    [Body mass index](https://en.wikipedia.org/wiki/Body_mass_index) (BMI) is a measure of body fat based on height and weight that applies to adult men and women. \r\n",
      "    \r\n",
      "    BMI Categories:\r\n",
      "    \r\n",
      "    | Category             | BMI           |\r\n",
      "    | -------------------- | ------------- |\r\n",
      "    | Severely underweight | BMI<14.9      |\r\n",
      "    | Underweight          | 14.9≤BMI<18.4 |\r\n",
      "    | Normal               | 18.4≤BMI<22.9 |\r\n",
      "    | Overweight           | 22.9≤BMI<27.5 |\r\n",
      "    | Moderately obese     | 27.5≤BMI<40   |\r\n",
      "    | Severely obese       | BMI≥40        |\r\n",
      "    \r\n",
      "    ## BMI calculation\r\n",
      "    The source code of this application is [here](https://github.com/OleBo/MathSo/tree/main/math_so/apps/pywebio/bmi.py)\r\n",
      "    \"\"\")\r\n",
      "\r\n",
      "    info = input_group('BMI calculation', [\r\n",
      "        input(\"Your Height(cm)\", name=\"height\", type=FLOAT),\r\n",
      "        input(\"Your Weight(kg)\", name=\"weight\", type=FLOAT),\r\n",
      "    ])\r\n",
      "\r\n",
      "    BMI = info['weight'] / (info['height'] / 100) ** 2\r\n",
      "\r\n",
      "    top_status = [(14.9, 'Severely underweight'), \r\n",
      "                  (18.4, 'Underweight'),\r\n",
      "                  (22.9, 'Normal'), \r\n",
      "                  (27.5, 'Overweight'),\r\n",
      "                  (40.0, 'Moderately obese'), \r\n",
      "                  (float('inf'), 'Severely obese')]\r\n",
      "\r\n",
      "    for top, status in top_status:\r\n",
      "        if BMI <= top:\r\n",
      "            put_markdown('Your BMI: `%.1f`, Category: `%s`' % (BMI, status))\r\n",
      "            break\r\n",
      "\r\n",
      "\r\n",
      "if __name__ == '__main__':\r\n",
      "    start_server(main, debug=True, port=8080)"
     ]
    }
   ],
   "source": [
    "!cat ../math_so/apps/pywebio/bmi.py"
   ]
  },
  {
   "cell_type": "markdown",
   "id": "80cb6799",
   "metadata": {},
   "source": [
    "`start_server()` is the most common way to start a web server to serve given PyWebIO applications:"
   ]
  },
  {
   "cell_type": "code",
   "execution_count": 22,
   "id": "169fb3d7",
   "metadata": {},
   "outputs": [],
   "source": [
    "%autoreload\n",
    "%run -m scripts.bmi"
   ]
  },
  {
   "cell_type": "markdown",
   "id": "f22bdd52",
   "metadata": {},
   "source": [
    "Now head over to http://localhost:8080/, and you should see the BMI app.\n",
    "\n",
    "By using `debug=True` to enable debug mode, the server will automatically reload if code changes.\n",
    "\n",
    "The `start_server()` provide a remote access support, when enabled (by passing `remote_access=True` to `start_server()`), you will get a public, shareable address for the current application, others can access your application in their browser via this address. Because the processing happens on your device (as long as your device stays on!), you don’t have to worry about any dependencies. Using remote access makes it easy to temporarily share the application with others."
   ]
  },
  {
   "cell_type": "markdown",
   "id": "805bbd34",
   "metadata": {},
   "source": [
    "Another way to deploy PyWebIO application as web service is using `path_deploy()`. `path_deploy()` is used to deploy the PyWebIO applications from a directory. Just define PyWebIO applications in python files under this directory, and you can access them via the path in the URL. Refer to [platform module](https://pywebio.readthedocs.io/en/dev/platform.html#dir-deploy) for more information.\n",
    "\n"
   ]
  },
  {
   "cell_type": "markdown",
   "id": "cb09b854",
   "metadata": {},
   "source": [
    "### App: Bokeh"
   ]
  },
  {
   "cell_type": "code",
   "execution_count": 23,
   "id": "522b4e59",
   "metadata": {},
   "outputs": [
    {
     "name": "stdout",
     "output_type": "stream",
     "text": [
      "from bokeh.io import output_notebook\r\n",
      "from bokeh.io import show\r\n",
      "from bokeh.layouts import column\r\n",
      "from bokeh.models import ColumnDataSource, Slider\r\n",
      "from bokeh.plotting import figure\r\n",
      "from bokeh.sampledata.sea_surface_temperature import sea_surface_temperature\r\n",
      "\r\n",
      "from pywebio import start_server\r\n",
      "from pywebio.output import *\r\n",
      "from pywebio.session import info as session_info\r\n",
      "\r\n",
      "\r\n",
      "def bkapp(doc):\r\n",
      "    df = sea_surface_temperature.copy()\r\n",
      "    source = ColumnDataSource(data=df)\r\n",
      "\r\n",
      "    plot = figure(x_axis_type='datetime', y_range=(0, 25),\r\n",
      "                  y_axis_label='Temperature (Celsius)',\r\n",
      "                  title=\"Sea Surface Temperature at 43.18, -70.43\")\r\n",
      "    plot.line('time', 'temperature', source=source)\r\n",
      "\r\n",
      "    def callback(attr, old, new):\r\n",
      "        if new == 0:\r\n",
      "            data = df\r\n",
      "        else:\r\n",
      "            data = df.rolling('{0}D'.format(new)).mean()\r\n",
      "        source.data = ColumnDataSource.from_df(data)\r\n",
      "\r\n",
      "    slider = Slider(start=0, end=30, value=0, step=1, title=\"Smoothing by N Days\")\r\n",
      "    slider.on_change('value', callback)\r\n",
      "\r\n",
      "    doc.add_root(column([slider, plot], sizing_mode='stretch_width'))\r\n",
      "\r\n",
      "\r\n",
      "def bk_app():\r\n",
      "    output_notebook(verbose=False, notebook_type='pywebio')\r\n",
      "\r\n",
      "    put_markdown(\"\"\"# Bokeh Applications in PyWebIO\r\n",
      "    [Bokeh Applications](https://docs.bokeh.org/en/latest/docs/user_guide/server.html) can be built by starting the Bokeh server. The purpose of the Bokeh server is to make it easy for Python users to create interactive web applications that can connect front-end UI events to real, running Python code.\r\n",
      "    In PyWebIO, you can also use bokeh.io.show() to display a Bokeh App.\r\n",
      "    You can use `bokeh.io.output_notebook(notebook_type='pywebio')` in the PyWebIO session to setup Bokeh environment. Then you can use `bokeh.io.show()` to output a boken application.\r\n",
      "    This is a demo of Bokeh App: \r\n",
      "    \"\"\")\r\n",
      "\r\n",
      "    show(bkapp)\r\n",
      "\r\n",
      "\r\n",
      "if __name__ == '__main__':\r\n",
      "    start_server(bk_app, port=8080, debug=True)"
     ]
    }
   ],
   "source": [
    "!cat ../math_so/apps/pywebio/bokeh_app.py"
   ]
  },
  {
   "cell_type": "code",
   "execution_count": 25,
   "id": "23fc1738",
   "metadata": {},
   "outputs": [],
   "source": [
    "%autoreload\n",
    "%run -m scripts.bokeh_app"
   ]
  },
  {
   "cell_type": "markdown",
   "id": "bb188ee5",
   "metadata": {},
   "source": [
    "Now head over to http://localhost:8080/, and you should see the Bokeh app."
   ]
  },
  {
   "cell_type": "code",
   "execution_count": null,
   "id": "1c954fce",
   "metadata": {},
   "outputs": [],
   "source": []
  }
 ],
 "metadata": {
  "kernelspec": {
   "display_name": "Python 3.9.7 (math-so)",
   "language": "python",
   "name": "math-so"
  },
  "language_info": {
   "codemirror_mode": {
    "name": "ipython",
    "version": 3
   },
   "file_extension": ".py",
   "mimetype": "text/x-python",
   "name": "python",
   "nbconvert_exporter": "python",
   "pygments_lexer": "ipython3",
   "version": "3.9.7"
  },
  "latex_envs": {
   "LaTeX_envs_menu_present": true,
   "autoclose": false,
   "autocomplete": true,
   "bibliofile": "biblio.bib",
   "cite_by": "apalike",
   "current_citInitial": 1,
   "eqLabelWithNumbers": true,
   "eqNumInitial": 1,
   "hotkeys": {
    "equation": "Ctrl-E",
    "itemize": "Ctrl-I"
   },
   "labels_anchors": false,
   "latex_user_defs": false,
   "report_style_numbering": true,
   "user_envs_cfg": false
  }
 },
 "nbformat": 4,
 "nbformat_minor": 5
}
