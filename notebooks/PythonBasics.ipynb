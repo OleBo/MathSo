{
 "cells": [
  {
   "cell_type": "markdown",
   "id": "c609b5c3",
   "metadata": {},
   "source": [
    "# Python basics\n",
    "\n",
    "Install Python on your own computer.\n",
    "\n",
    "Run jupyter notebook. Familiarize yourself with the main elements of the GUI."
   ]
  },
  {
   "cell_type": "markdown",
   "id": "7c1edb56",
   "metadata": {},
   "source": [
    "## Python as a pocket calculator"
   ]
  },
  {
   "cell_type": "code",
   "execution_count": 1,
   "id": "30c8f304",
   "metadata": {},
   "outputs": [
    {
     "data": {
      "text/plain": [
       "5"
      ]
     },
     "execution_count": 1,
     "metadata": {},
     "output_type": "execute_result"
    }
   ],
   "source": [
    "2 + 3"
   ]
  },
  {
   "cell_type": "code",
   "execution_count": 2,
   "id": "c3368fac",
   "metadata": {},
   "outputs": [
    {
     "data": {
      "text/plain": [
       "6"
      ]
     },
     "execution_count": 2,
     "metadata": {},
     "output_type": "execute_result"
    }
   ],
   "source": [
    "2*3"
   ]
  },
  {
   "cell_type": "code",
   "execution_count": 3,
   "id": "b142c7b6",
   "metadata": {},
   "outputs": [
    {
     "data": {
      "text/plain": [
       "0.6666666666666666"
      ]
     },
     "execution_count": 3,
     "metadata": {},
     "output_type": "execute_result"
    }
   ],
   "source": [
    "2/3  # real (not integer) division"
   ]
  },
  {
   "cell_type": "code",
   "execution_count": 4,
   "id": "6cc2991e",
   "metadata": {},
   "outputs": [
    {
     "data": {
      "text/plain": [
       "8"
      ]
     },
     "execution_count": 4,
     "metadata": {},
     "output_type": "execute_result"
    }
   ],
   "source": [
    "2**3"
   ]
  },
  {
   "cell_type": "markdown",
   "id": "6ae2a4d2",
   "metadata": {},
   "source": [
    "Python’s math module, in the standard library, can help you work on math-related problems in code. It contains many useful functions, such as remainder() and factorial(). It also includes the Python square root function, sqrt()."
   ]
  },
  {
   "cell_type": "code",
   "execution_count": 5,
   "id": "94baba28",
   "metadata": {},
   "outputs": [
    {
     "data": {
      "text/plain": [
       "1.4142135623730951"
      ]
     },
     "execution_count": 5,
     "metadata": {},
     "output_type": "execute_result"
    }
   ],
   "source": [
    "import math\n",
    "math.sqrt(2)"
   ]
  },
  {
   "cell_type": "code",
   "execution_count": 6,
   "id": "59c6d5a0",
   "metadata": {},
   "outputs": [
    {
     "data": {
      "text/plain": [
       "3.141592653589793"
      ]
     },
     "execution_count": 6,
     "metadata": {},
     "output_type": "execute_result"
    }
   ],
   "source": [
    "math.pi  # this is a permanent (predefined) variable"
   ]
  },
  {
   "cell_type": "code",
   "execution_count": 7,
   "id": "952d432b",
   "metadata": {},
   "outputs": [
    {
     "data": {
      "text/plain": [
       "1.0"
      ]
     },
     "execution_count": 7,
     "metadata": {},
     "output_type": "execute_result"
    }
   ],
   "source": [
    "math.sin(math.pi/2)"
   ]
  },
  {
   "cell_type": "markdown",
   "id": "8d6a8f03",
   "metadata": {},
   "source": [
    "To obtain help on a certain function, you can use"
   ]
  },
  {
   "cell_type": "code",
   "execution_count": 8,
   "id": "2439327a",
   "metadata": {},
   "outputs": [],
   "source": [
    "?math.sin"
   ]
  },
  {
   "cell_type": "code",
   "execution_count": 9,
   "id": "675cb099",
   "metadata": {},
   "outputs": [],
   "source": [
    " math.sin?"
   ]
  },
  {
   "cell_type": "markdown",
   "id": "cbdb53d8",
   "metadata": {},
   "source": [
    "## Operator precedence\n",
    "\n",
    "From Python documentation on [operator precedence](http://docs.python.org/reference/expressions.html)\n",
    "\n",
    "1. Parentheses (grouping)\n",
    "2. Exponentiation $**$\n",
    "3. Multiplication, division, remainder $*, /, \\%$\n",
    "4. Addition, subtraction\n",
    "\n",
    "Note that expressions are always evaluated from left to right!\n",
    "\n",
    "Examples: Try to guess the results first without using Python:"
   ]
  },
  {
   "cell_type": "code",
   "execution_count": 10,
   "id": "fa8b6249",
   "metadata": {},
   "outputs": [
    {
     "data": {
      "text/plain": [
       "7"
      ]
     },
     "execution_count": 10,
     "metadata": {},
     "output_type": "execute_result"
    }
   ],
   "source": [
    "1 + 2 * 3"
   ]
  },
  {
   "cell_type": "code",
   "execution_count": 11,
   "id": "a4f8d885",
   "metadata": {},
   "outputs": [
    {
     "data": {
      "text/plain": [
       "4.0"
      ]
     },
     "execution_count": 11,
     "metadata": {},
     "output_type": "execute_result"
    }
   ],
   "source": [
    "4 / 2 * 2"
   ]
  },
  {
   "cell_type": "code",
   "execution_count": 12,
   "id": "c5052cbd",
   "metadata": {},
   "outputs": [
    {
     "data": {
      "text/plain": [
       "16"
      ]
     },
     "execution_count": 12,
     "metadata": {},
     "output_type": "execute_result"
    }
   ],
   "source": [
    "2 * 2 ** 3"
   ]
  },
  {
   "cell_type": "code",
   "execution_count": 13,
   "id": "812ccaee",
   "metadata": {},
   "outputs": [
    {
     "data": {
      "text/plain": [
       "64"
      ]
     },
     "execution_count": 13,
     "metadata": {},
     "output_type": "execute_result"
    }
   ],
   "source": [
    "(2 ** 2) ** 3"
   ]
  },
  {
   "cell_type": "code",
   "execution_count": 14,
   "id": "a235d890",
   "metadata": {},
   "outputs": [
    {
     "data": {
      "text/plain": [
       "2.6666666666666665"
      ]
     },
     "execution_count": 14,
     "metadata": {},
     "output_type": "execute_result"
    }
   ],
   "source": [
    "2 ** (1 + 2) / 3"
   ]
  },
  {
   "cell_type": "markdown",
   "id": "2ea14530",
   "metadata": {},
   "source": [
    "Now the other way around - type the following mathematical expressions in Python:\n",
    "\n",
    "$$\\frac{1}{2*3}$$"
   ]
  },
  {
   "cell_type": "code",
   "execution_count": null,
   "id": "ea9ab21b",
   "metadata": {},
   "outputs": [],
   "source": []
  },
  {
   "cell_type": "markdown",
   "id": "2aa03624",
   "metadata": {},
   "source": [
    "$$\\left(2^{2}\\right)^{3}$$"
   ]
  },
  {
   "cell_type": "code",
   "execution_count": null,
   "id": "61db9644",
   "metadata": {},
   "outputs": [],
   "source": []
  },
  {
   "cell_type": "markdown",
   "id": "a4c746b7",
   "metadata": {},
   "source": [
    "$${2^{2}}^{2}$$"
   ]
  },
  {
   "cell_type": "code",
   "execution_count": null,
   "id": "d3abf104",
   "metadata": {},
   "outputs": [],
   "source": []
  },
  {
   "cell_type": "markdown",
   "id": "7b084b38",
   "metadata": {},
   "source": [
    "## Representation of numbers in Python\n",
    "\n",
    "Python includes three numeric types to represent numbers: integers, float, and complex number."
   ]
  },
  {
   "cell_type": "markdown",
   "id": "4ec64b99",
   "metadata": {},
   "source": [
    "### Int\n",
    "\n",
    "In Python, integers are zero, positive or negative whole numbers without a fractional part and having unlimited precision, e.g. 0, 100, -10. The followings are valid integer literals in Python."
   ]
  },
  {
   "cell_type": "code",
   "execution_count": 15,
   "id": "85798a88",
   "metadata": {},
   "outputs": [
    {
     "data": {
      "text/plain": [
       "0"
      ]
     },
     "execution_count": 15,
     "metadata": {},
     "output_type": "execute_result"
    }
   ],
   "source": [
    "0"
   ]
  },
  {
   "cell_type": "code",
   "execution_count": 16,
   "id": "ce8c6b5b",
   "metadata": {},
   "outputs": [
    {
     "data": {
      "text/plain": [
       "100"
      ]
     },
     "execution_count": 16,
     "metadata": {},
     "output_type": "execute_result"
    }
   ],
   "source": [
    "100"
   ]
  },
  {
   "cell_type": "code",
   "execution_count": 17,
   "id": "313bb744",
   "metadata": {},
   "outputs": [
    {
     "data": {
      "text/plain": [
       "-10"
      ]
     },
     "execution_count": 17,
     "metadata": {},
     "output_type": "execute_result"
    }
   ],
   "source": [
    "-10"
   ]
  },
  {
   "cell_type": "code",
   "execution_count": 18,
   "id": "e4827b0d",
   "metadata": {},
   "outputs": [
    {
     "data": {
      "text/plain": [
       "1234567890"
      ]
     },
     "execution_count": 18,
     "metadata": {},
     "output_type": "execute_result"
    }
   ],
   "source": [
    "1234567890"
   ]
  },
  {
   "cell_type": "code",
   "execution_count": 19,
   "id": "bf2b8355",
   "metadata": {},
   "outputs": [
    {
     "data": {
      "text/plain": [
       "5000000000000000000000000000000000000000000000000000000"
      ]
     },
     "execution_count": 19,
     "metadata": {},
     "output_type": "execute_result"
    }
   ],
   "source": [
    "y=5000000000000000000000000000000000000000000000000000000\n",
    "y"
   ]
  },
  {
   "cell_type": "markdown",
   "id": "bcefc6f7",
   "metadata": {},
   "source": [
    "Integers can be binary, octal, and hexadecimal values."
   ]
  },
  {
   "cell_type": "code",
   "execution_count": 20,
   "id": "8b2068e1",
   "metadata": {},
   "outputs": [
    {
     "data": {
      "text/plain": [
       "216"
      ]
     },
     "execution_count": 20,
     "metadata": {},
     "output_type": "execute_result"
    }
   ],
   "source": [
    "0b11011000 # binary"
   ]
  },
  {
   "cell_type": "code",
   "execution_count": 21,
   "id": "acd9164f",
   "metadata": {},
   "outputs": [
    {
     "data": {
      "text/plain": [
       "10"
      ]
     },
     "execution_count": 21,
     "metadata": {},
     "output_type": "execute_result"
    }
   ],
   "source": [
    "0o12 # octal"
   ]
  },
  {
   "cell_type": "code",
   "execution_count": 22,
   "id": "2fe7a761",
   "metadata": {},
   "outputs": [
    {
     "data": {
      "text/plain": [
       "18"
      ]
     },
     "execution_count": 22,
     "metadata": {},
     "output_type": "execute_result"
    }
   ],
   "source": [
    "0x12 # hexadecimal"
   ]
  },
  {
   "cell_type": "markdown",
   "id": "d1815df0",
   "metadata": {},
   "source": [
    "All integers literals or variables are objects of the int class. Use the type() method to get the class name, as shown below."
   ]
  },
  {
   "cell_type": "code",
   "execution_count": 23,
   "id": "04e0d75e",
   "metadata": {},
   "outputs": [
    {
     "data": {
      "text/plain": [
       "int"
      ]
     },
     "execution_count": 23,
     "metadata": {},
     "output_type": "execute_result"
    }
   ],
   "source": [
    "type(100)"
   ]
  },
  {
   "cell_type": "code",
   "execution_count": 24,
   "id": "449d3bf4",
   "metadata": {},
   "outputs": [
    {
     "data": {
      "text/plain": [
       "int"
      ]
     },
     "execution_count": 24,
     "metadata": {},
     "output_type": "execute_result"
    }
   ],
   "source": [
    "x=1234567890\n",
    "type(x)"
   ]
  },
  {
   "cell_type": "code",
   "execution_count": 25,
   "id": "bf82526f",
   "metadata": {},
   "outputs": [
    {
     "data": {
      "text/plain": [
       "int"
      ]
     },
     "execution_count": 25,
     "metadata": {},
     "output_type": "execute_result"
    }
   ],
   "source": [
    "type(y)"
   ]
  },
  {
   "cell_type": "markdown",
   "id": "7e75700c",
   "metadata": {},
   "source": [
    "Leading zeros in non-zero integers are not allowed e.g. 000123 is invalid number, 0000 is 0."
   ]
  },
  {
   "cell_type": "code",
   "execution_count": 26,
   "id": "37c6d14e",
   "metadata": {},
   "outputs": [],
   "source": [
    "# x=01234567890"
   ]
  },
  {
   "cell_type": "markdown",
   "id": "67276c99",
   "metadata": {},
   "source": [
    "Python does not allow comma as number delimiter. Use underscore _ as a delimiter instead."
   ]
  },
  {
   "cell_type": "code",
   "execution_count": 27,
   "id": "0c6eb094",
   "metadata": {},
   "outputs": [
    {
     "data": {
      "text/plain": [
       "1234567890"
      ]
     },
     "execution_count": 27,
     "metadata": {},
     "output_type": "execute_result"
    }
   ],
   "source": [
    "x=1_234_567_890\n",
    "x"
   ]
  },
  {
   "cell_type": "markdown",
   "id": "2bde8bbe",
   "metadata": {},
   "source": [
    "Note that integers must be without a fractional part (decimal point). It it includes a fractional then it becomes a float."
   ]
  },
  {
   "cell_type": "code",
   "execution_count": 28,
   "id": "4da2fcda",
   "metadata": {},
   "outputs": [
    {
     "data": {
      "text/plain": [
       "int"
      ]
     },
     "execution_count": 28,
     "metadata": {},
     "output_type": "execute_result"
    }
   ],
   "source": [
    "x=5\n",
    "type(x)"
   ]
  },
  {
   "cell_type": "code",
   "execution_count": 29,
   "id": "92d98926",
   "metadata": {},
   "outputs": [
    {
     "data": {
      "text/plain": [
       "float"
      ]
     },
     "execution_count": 29,
     "metadata": {},
     "output_type": "execute_result"
    }
   ],
   "source": [
    "x=5.0\n",
    "type(x)"
   ]
  },
  {
   "cell_type": "markdown",
   "id": "1828ed4e",
   "metadata": {},
   "source": [
    "#### Binary\n",
    "\n",
    "A Number having 0b with eight digits in the combination of 0 and 1 represent the binary numbers in Python. For example, 0b11011000 is a binary number equivalent to integer 216."
   ]
  },
  {
   "cell_type": "code",
   "execution_count": 30,
   "id": "fd83b1cf",
   "metadata": {},
   "outputs": [
    {
     "data": {
      "text/plain": [
       "216"
      ]
     },
     "execution_count": 30,
     "metadata": {},
     "output_type": "execute_result"
    }
   ],
   "source": [
    "x=0b11011000\n",
    "x"
   ]
  },
  {
   "cell_type": "code",
   "execution_count": 31,
   "id": "d2dfb3b2",
   "metadata": {},
   "outputs": [
    {
     "data": {
      "text/plain": [
       "216"
      ]
     },
     "execution_count": 31,
     "metadata": {},
     "output_type": "execute_result"
    }
   ],
   "source": [
    "x=0b_1101_1000\n",
    "x"
   ]
  },
  {
   "cell_type": "code",
   "execution_count": 32,
   "id": "85023a29",
   "metadata": {},
   "outputs": [
    {
     "data": {
      "text/plain": [
       "int"
      ]
     },
     "execution_count": 32,
     "metadata": {},
     "output_type": "execute_result"
    }
   ],
   "source": [
    "type(x)"
   ]
  },
  {
   "cell_type": "markdown",
   "id": "a92f370b",
   "metadata": {},
   "source": [
    "#### Octal\n",
    "\n",
    "A number having 0o or 0O as prefix represents an octal number. For example, 0O12 is equivalent to integer 10."
   ]
  },
  {
   "cell_type": "code",
   "execution_count": 33,
   "id": "94b1bacc",
   "metadata": {},
   "outputs": [
    {
     "data": {
      "text/plain": [
       "10"
      ]
     },
     "execution_count": 33,
     "metadata": {},
     "output_type": "execute_result"
    }
   ],
   "source": [
    "x=0o12\n",
    "x"
   ]
  },
  {
   "cell_type": "code",
   "execution_count": 34,
   "id": "dd9b666a",
   "metadata": {},
   "outputs": [
    {
     "data": {
      "text/plain": [
       "int"
      ]
     },
     "execution_count": 34,
     "metadata": {},
     "output_type": "execute_result"
    }
   ],
   "source": [
    "type(x)"
   ]
  },
  {
   "cell_type": "markdown",
   "id": "92f14e11",
   "metadata": {},
   "source": [
    "### Hexadecimal\n",
    "\n",
    "A number with 0x or 0X as prefix represents hexadecimal number. For example, 0x12 is equivalent to integer 18."
   ]
  },
  {
   "cell_type": "code",
   "execution_count": 35,
   "id": "16411bf8",
   "metadata": {},
   "outputs": [
    {
     "data": {
      "text/plain": [
       "18"
      ]
     },
     "execution_count": 35,
     "metadata": {},
     "output_type": "execute_result"
    }
   ],
   "source": [
    "x=0x12\n",
    "x"
   ]
  },
  {
   "cell_type": "code",
   "execution_count": 36,
   "id": "c6f7f886",
   "metadata": {},
   "outputs": [
    {
     "data": {
      "text/plain": [
       "int"
      ]
     },
     "execution_count": 36,
     "metadata": {},
     "output_type": "execute_result"
    }
   ],
   "source": [
    "type(x)"
   ]
  },
  {
   "cell_type": "markdown",
   "id": "8148ae6b",
   "metadata": {},
   "source": [
    "### Float\n",
    "\n",
    "In Python,  floating point numbers (float) are positive and negative real numbers with a fractional part denoted by the decimal symbol . or the scientific notation E or e, e.g. 1234.56, 3.142, -1.55, 0.23."
   ]
  },
  {
   "cell_type": "code",
   "execution_count": 37,
   "id": "fd0c569c",
   "metadata": {},
   "outputs": [
    {
     "data": {
      "text/plain": [
       "1.2"
      ]
     },
     "execution_count": 37,
     "metadata": {},
     "output_type": "execute_result"
    }
   ],
   "source": [
    "f=1.2\n",
    "f"
   ]
  },
  {
   "cell_type": "code",
   "execution_count": 38,
   "id": "733078aa",
   "metadata": {},
   "outputs": [
    {
     "data": {
      "text/plain": [
       "float"
      ]
     },
     "execution_count": 38,
     "metadata": {},
     "output_type": "execute_result"
    }
   ],
   "source": [
    "type(f)"
   ]
  },
  {
   "cell_type": "markdown",
   "id": "deb2ce95",
   "metadata": {},
   "source": [
    "Floats can be separated by the underscore _, e.g. 123_42.222_013 is a valid float."
   ]
  },
  {
   "cell_type": "code",
   "execution_count": 39,
   "id": "4ca0d26a",
   "metadata": {},
   "outputs": [
    {
     "data": {
      "text/plain": [
       "12342.222013"
      ]
     },
     "execution_count": 39,
     "metadata": {},
     "output_type": "execute_result"
    }
   ],
   "source": [
    "f=123_42.222_013\n",
    "f"
   ]
  },
  {
   "cell_type": "markdown",
   "id": "9ef28a18",
   "metadata": {},
   "source": [
    "The maximum size depends on your system. The float beyond its maximum size referred as \"inf\", \"Inf\", \"INFINITY\", or \"infinity\". Float 2e400 will be considered as infinity for most systems."
   ]
  },
  {
   "cell_type": "code",
   "execution_count": 40,
   "id": "1ddeba63",
   "metadata": {},
   "outputs": [
    {
     "data": {
      "text/plain": [
       "inf"
      ]
     },
     "execution_count": 40,
     "metadata": {},
     "output_type": "execute_result"
    }
   ],
   "source": [
    "f=2e400\n",
    "f"
   ]
  },
  {
   "cell_type": "markdown",
   "id": "23a7f0f4",
   "metadata": {},
   "source": [
    "Scientific notation is used as a short representation to express floats having many digits. For example: 345.56789 is represented as 3.4556789e2 or 3.4556789E2"
   ]
  },
  {
   "cell_type": "code",
   "execution_count": 41,
   "id": "0f292068",
   "metadata": {},
   "outputs": [
    {
     "data": {
      "text/plain": [
       "1000.0"
      ]
     },
     "execution_count": 41,
     "metadata": {},
     "output_type": "execute_result"
    }
   ],
   "source": [
    "f=1e3\n",
    "f"
   ]
  },
  {
   "cell_type": "code",
   "execution_count": 42,
   "id": "d08ac26e",
   "metadata": {},
   "outputs": [
    {
     "data": {
      "text/plain": [
       "100000.0"
      ]
     },
     "execution_count": 42,
     "metadata": {},
     "output_type": "execute_result"
    }
   ],
   "source": [
    "f=1e5\n",
    "f"
   ]
  },
  {
   "cell_type": "code",
   "execution_count": 43,
   "id": "d25f1a00",
   "metadata": {},
   "outputs": [
    {
     "data": {
      "text/plain": [
       "345.56789"
      ]
     },
     "execution_count": 43,
     "metadata": {},
     "output_type": "execute_result"
    }
   ],
   "source": [
    "f=3.4556789e2\n",
    "f"
   ]
  },
  {
   "cell_type": "markdown",
   "id": "a4b749ec",
   "metadata": {},
   "source": [
    "Use the float() function to convert string, int to float."
   ]
  },
  {
   "cell_type": "code",
   "execution_count": 44,
   "id": "d30873f7",
   "metadata": {},
   "outputs": [
    {
     "data": {
      "text/plain": [
       "5.5"
      ]
     },
     "execution_count": 44,
     "metadata": {},
     "output_type": "execute_result"
    }
   ],
   "source": [
    "float('5.5')"
   ]
  },
  {
   "cell_type": "code",
   "execution_count": 45,
   "id": "a7661b1b",
   "metadata": {},
   "outputs": [
    {
     "data": {
      "text/plain": [
       "5.0"
      ]
     },
     "execution_count": 45,
     "metadata": {},
     "output_type": "execute_result"
    }
   ],
   "source": [
    "float('5')"
   ]
  },
  {
   "cell_type": "code",
   "execution_count": 46,
   "id": "54a93da9",
   "metadata": {},
   "outputs": [
    {
     "data": {
      "text/plain": [
       "-5.0"
      ]
     },
     "execution_count": 46,
     "metadata": {},
     "output_type": "execute_result"
    }
   ],
   "source": [
    "float('     -5')"
   ]
  },
  {
   "cell_type": "code",
   "execution_count": 47,
   "id": "f13c8d58",
   "metadata": {},
   "outputs": [
    {
     "data": {
      "text/plain": [
       "1000.0"
      ]
     },
     "execution_count": 47,
     "metadata": {},
     "output_type": "execute_result"
    }
   ],
   "source": [
    "float('1e3')"
   ]
  },
  {
   "cell_type": "code",
   "execution_count": 48,
   "id": "b8011c77",
   "metadata": {},
   "outputs": [
    {
     "data": {
      "text/plain": [
       "-inf"
      ]
     },
     "execution_count": 48,
     "metadata": {},
     "output_type": "execute_result"
    }
   ],
   "source": [
    "float('-Infinity')"
   ]
  },
  {
   "cell_type": "code",
   "execution_count": 49,
   "id": "ef5ee543",
   "metadata": {},
   "outputs": [
    {
     "data": {
      "text/plain": [
       "inf"
      ]
     },
     "execution_count": 49,
     "metadata": {},
     "output_type": "execute_result"
    }
   ],
   "source": [
    "float('inf')"
   ]
  },
  {
   "cell_type": "markdown",
   "id": "d594fd3e",
   "metadata": {},
   "source": [
    "### Complex Numbers\n",
    "\n",
    "A complex number is a number with real and imaginary components. For example, 5 + 6j is a complex number where 5 is the real component and 6 multiplied by j is an imaginary component"
   ]
  },
  {
   "cell_type": "code",
   "execution_count": 50,
   "id": "2a127324",
   "metadata": {},
   "outputs": [
    {
     "data": {
      "text/plain": [
       "(5+2j)"
      ]
     },
     "execution_count": 50,
     "metadata": {},
     "output_type": "execute_result"
    }
   ],
   "source": [
    "a=5+2j\n",
    "a"
   ]
  },
  {
   "cell_type": "code",
   "execution_count": 51,
   "id": "2ba26c71",
   "metadata": {},
   "outputs": [
    {
     "data": {
      "text/plain": [
       "complex"
      ]
     },
     "execution_count": 51,
     "metadata": {},
     "output_type": "execute_result"
    }
   ],
   "source": [
    "type(a)"
   ]
  },
  {
   "cell_type": "markdown",
   "id": "e8643666",
   "metadata": {},
   "source": [
    "You must use j or J as imaginary component. Using other character will throw syntax error."
   ]
  },
  {
   "cell_type": "code",
   "execution_count": 53,
   "id": "a743086b",
   "metadata": {},
   "outputs": [],
   "source": [
    "# a=5+2k"
   ]
  },
  {
   "cell_type": "markdown",
   "id": "aee38949",
   "metadata": {},
   "source": [
    "## Scripts\n",
    "\n",
    "Exercise: Write a script that asks the user to enter a balance b and an interest rate p (in per cent), computes the interest, adds it to the balance and outputs the new balance. E.g. to read in a variable a from the user"
   ]
  },
  {
   "cell_type": "code",
   "execution_count": null,
   "id": "827ecbbb",
   "metadata": {},
   "outputs": [],
   "source": [
    "a = input('Enter a: ')"
   ]
  },
  {
   "cell_type": "markdown",
   "id": "8530cdb9",
   "metadata": {},
   "source": [
    "To output a variable, simply write"
   ]
  },
  {
   "cell_type": "code",
   "execution_count": null,
   "id": "e60df48d",
   "metadata": {},
   "outputs": [],
   "source": [
    "a"
   ]
  },
  {
   "cell_type": "code",
   "execution_count": null,
   "id": "b27da8a2",
   "metadata": {},
   "outputs": [],
   "source": [
    "a = float(input('Enter a: '))\n",
    "a"
   ]
  },
  {
   "cell_type": "code",
   "execution_count": null,
   "id": "a7d9314e",
   "metadata": {},
   "outputs": [],
   "source": [
    "a = int(input('Enter a: '))\n",
    "a"
   ]
  },
  {
   "cell_type": "code",
   "execution_count": null,
   "id": "087322e3",
   "metadata": {},
   "outputs": [],
   "source": [
    "print(a)"
   ]
  },
  {
   "cell_type": "markdown",
   "id": "8cdbcb30",
   "metadata": {},
   "source": [
    "To assemble prints use the [format function](https://www.kite.com/python/answers/how-to-format-currency-in-python)."
   ]
  },
  {
   "cell_type": "code",
   "execution_count": null,
   "id": "5a6d58e6",
   "metadata": {},
   "outputs": [],
   "source": [
    "print('New balance: {:,.2f}'.format(a))"
   ]
  },
  {
   "cell_type": "markdown",
   "id": "a5eb28c5",
   "metadata": {},
   "source": [
    "Save your script in interest.py (note the file extension .py for scripts in Python).\n",
    "\n",
    "To run your script:"
   ]
  },
  {
   "cell_type": "code",
   "execution_count": 127,
   "id": "85d655ca",
   "metadata": {},
   "outputs": [
    {
     "name": "stdout",
     "output_type": "stream",
     "text": [
      "b = float(input('Initial balance: '))\r\n",
      "p = float(input('Interest rate in per cent: '))\r\n",
      "i = p / 100 * b\r\n",
      "# interest\r\n",
      "b = b + i\r\n",
      "# new balance\r\n",
      "print('New balance: ${:,.2f}'.format(b))\r\n",
      "# format currency\r\n",
      "# https://www.kite.com/python/answers/how-to-format-currency-in-python\r\n"
     ]
    }
   ],
   "source": [
    "!cat scripts/interest.py"
   ]
  },
  {
   "cell_type": "code",
   "execution_count": null,
   "id": "d9c21db7",
   "metadata": {},
   "outputs": [],
   "source": [
    "#!python scripts/interest.py"
   ]
  },
  {
   "cell_type": "markdown",
   "id": "7bdadcb6",
   "metadata": {},
   "source": [
    "## Functions\n",
    "\n",
    "Unlike scripts, functions accept input arguments.\n",
    "\n",
    "Exercise: Write a function interest1 that accepts as input arguments a balance b, an annual interest rate p in per cent and a number of years n. The function should return the new balance after this period of time. "
   ]
  },
  {
   "cell_type": "code",
   "execution_count": 56,
   "id": "c58fd7b9",
   "metadata": {},
   "outputs": [
    {
     "name": "stdout",
     "output_type": "stream",
     "text": [
      "1,218.99\n"
     ]
    }
   ],
   "source": [
    "def interest1(b, p, n):\n",
    "    \"\"\"\n",
    "    INTEREST1(b, p, n) computes the new balance after n years for an initial\n",
    "    balance b and an annual interest rate p in per cent\n",
    "    \"\"\"\n",
    "    return b*(1 + p/100)**n\n",
    "print('{:,.2f}'.format(interest1(1000, 2, 10)))"
   ]
  },
  {
   "cell_type": "markdown",
   "id": "4e42c5e1",
   "metadata": {},
   "source": [
    "Functions can be imported from files:"
   ]
  },
  {
   "cell_type": "code",
   "execution_count": 68,
   "id": "2f142dff",
   "metadata": {},
   "outputs": [
    {
     "name": "stdout",
     "output_type": "stream",
     "text": [
      "import math\r\n",
      "def interest1(b, p, n):\r\n",
      "    \"\"\"\r\n",
      "    INTEREST1(b, p, n) computes the new balance after n years for an initial\r\n",
      "    balance b and an annual interest rate p in per cent\r\n",
      "    \"\"\"\r\n",
      "    return b*(1 + p/100)**n\r\n",
      "\r\n",
      "def gauss3(x, mu, sigma):\r\n",
      "    \"\"\"\r\n",
      "    GAUSS3 Evaluates Gaussian normal distribution with mean mu and standard\r\n",
      "    deviation sigma at x\r\n",
      "    \"\"\"\r\n",
      "    return math.exp(-1/2*((x - mu)/sigma)**2)/(sigma*math.sqrt(2*math.pi))\r\n",
      "\r\n",
      "def gauss4(x, mu, sigma):\r\n",
      "    \"\"\"\r\n",
      "    GAUSS4 Evaluates Gaussian normal distribution with mean mu and standard\r\n",
      "    deviation sigma at x, where x may be a scalar or an array\r\n",
      "    \"\"\"    \r\n",
      "    return math.exp(-1/2*((x - mu)/sigma)**2)/(sigma*math.sqrt(2*math.pi))"
     ]
    }
   ],
   "source": [
    "!cat scripts/functions.py"
   ]
  },
  {
   "cell_type": "code",
   "execution_count": 128,
   "id": "ebb03553",
   "metadata": {},
   "outputs": [
    {
     "name": "stdout",
     "output_type": "stream",
     "text": [
      "$1,218.99\n"
     ]
    }
   ],
   "source": [
    "import sys  \n",
    "sys.path.insert(0, 'scripts')\n",
    "from functions import interest1\n",
    "print('${:,.2f}'.format(interest1(1000, 2, 10)))"
   ]
  },
  {
   "cell_type": "markdown",
   "id": "db98c4a4",
   "metadata": {},
   "source": [
    "A [lambda function](https://www.w3schools.com/python/python_lambda.asp) is a small anonymous function.\n",
    "\n",
    "A lambda function can take any number of arguments, but can only have one expression.\n",
    "\n",
    "```python\n",
    "lambda arguments : expression\n",
    "```"
   ]
  },
  {
   "cell_type": "code",
   "execution_count": 129,
   "id": "1adb4146",
   "metadata": {},
   "outputs": [
    {
     "data": {
      "text/plain": [
       "13"
      ]
     },
     "execution_count": 129,
     "metadata": {},
     "output_type": "execute_result"
    }
   ],
   "source": [
    "x = lambda a : a + 10\n",
    "x(3)"
   ]
  },
  {
   "cell_type": "code",
   "execution_count": 64,
   "id": "422e7ca5",
   "metadata": {},
   "outputs": [
    {
     "data": {
      "text/plain": [
       "0.24197072451914337"
      ]
     },
     "execution_count": 64,
     "metadata": {},
     "output_type": "execute_result"
    }
   ],
   "source": [
    "gauss = lambda x : math.exp(-1/2*x**2)/math.sqrt(2*math.pi)\n",
    "gauss(1)"
   ]
  },
  {
   "cell_type": "markdown",
   "id": "272ab1d9",
   "metadata": {},
   "source": [
    "This works with several arguments, too:"
   ]
  },
  {
   "cell_type": "code",
   "execution_count": 65,
   "id": "26ecbfc0",
   "metadata": {},
   "outputs": [
    {
     "data": {
      "text/plain": [
       "0.17603266338214976"
      ]
     },
     "execution_count": 65,
     "metadata": {},
     "output_type": "execute_result"
    }
   ],
   "source": [
    "gauss2 = lambda x, mu, sigma : math.exp(-1/2*((x - mu)/sigma)**2)/(sigma*math.sqrt(2*math.pi))\n",
    "gauss2(3, 2, 2)"
   ]
  },
  {
   "cell_type": "markdown",
   "id": "6f5b7ac7",
   "metadata": {},
   "source": [
    "**Exercise:** Write the same function as gauss3 in the function file -> functions.py"
   ]
  },
  {
   "cell_type": "code",
   "execution_count": 70,
   "id": "6169d8cb",
   "metadata": {},
   "outputs": [
    {
     "data": {
      "text/plain": [
       "0.17603266338214976"
      ]
     },
     "execution_count": 70,
     "metadata": {},
     "output_type": "execute_result"
    }
   ],
   "source": [
    "from functions import gauss3\n",
    "gauss3(3, 2, 2)"
   ]
  },
  {
   "cell_type": "markdown",
   "id": "fde693fe",
   "metadata": {},
   "source": [
    "## Vectors / arrays / Lists\n",
    "\n",
    "A **list** in Python is a collection of items which can contain elements of multiple data types, which may be either numeric, character logical values, etc. It is an ordered collection supporting negative indexing. A list can be created using [] containing data values.\n",
    "Contents of lists can be easily merged and copied using python’s inbuilt functions."
   ]
  },
  {
   "cell_type": "code",
   "execution_count": 72,
   "id": "1a2ade55",
   "metadata": {},
   "outputs": [
    {
     "data": {
      "text/plain": [
       "[1, 'Yash', ['a', 'e']]"
      ]
     },
     "execution_count": 72,
     "metadata": {},
     "output_type": "execute_result"
    }
   ],
   "source": [
    "sample_list = [1,\"Yash\",['a','e']]\n",
    "sample_list"
   ]
  },
  {
   "cell_type": "markdown",
   "id": "807a7f02",
   "metadata": {},
   "source": [
    "The first element is an integer, the second a string and the third is an list of characters.\n",
    "\n",
    "An **array** is a vector containing homogeneous elements i.e. belonging to the same data type. Elements are allocated with contiguous memory locations allowing easy modification, that is, addition, deletion, accessing of elements. In Python, we have to use the array module to declare arrays. If the elements of an array belong to different data types, an exception “Incompatible data types” is thrown.\n",
    "\n",
    "To use arrays in Python, you need to import either an array module or a NumPy package.\n",
    "\n",
    "The Python array module requires all array elements to be of the same type. Moreover, to create an array, you'll need to specify a value type. In the code below, the \"i\" signifies that all elements in sample_array_1 are integers:"
   ]
  },
  {
   "cell_type": "code",
   "execution_count": 75,
   "id": "379c2731",
   "metadata": {},
   "outputs": [
    {
     "name": "stdout",
     "output_type": "stream",
     "text": [
      "1\n",
      "2\n",
      "3\n"
     ]
    }
   ],
   "source": [
    "import array as arr\n",
    "  \n",
    "sample_array_1 = arr.array('i', [1, 2, 3])  \n",
    "  \n",
    "# accessing elements of array\n",
    "for i in sample_array_1:\n",
    "     print(i)"
   ]
  },
  {
   "cell_type": "markdown",
   "id": "b43e3a78",
   "metadata": {},
   "source": [
    "On the other hand, NumPy arrays support different data types. To create a NumPy array, you only need to specify the items (enclosed in square brackets, of course):"
   ]
  },
  {
   "cell_type": "code",
   "execution_count": 76,
   "id": "59fec0b9",
   "metadata": {},
   "outputs": [
    {
     "name": "stdout",
     "output_type": "stream",
     "text": [
      "['numbers' '3' '6' '9' '12']\n",
      "<class 'numpy.ndarray'>\n"
     ]
    }
   ],
   "source": [
    "import numpy as np\n",
    "\n",
    "sample_array_2 = np.array([\"numbers\", 3, 6, 9, 12])\n",
    "print (sample_array_2)\n",
    "print(type(sample_array_2))"
   ]
  },
  {
   "cell_type": "markdown",
   "id": "a581efef",
   "metadata": {},
   "source": [
    "As you can see, sample_array_2 contains one item of the string type (i.e., \"numbers\") and four integers.\n",
    "\n",
    "Use NumPy to create a one-dimensional array:"
   ]
  },
  {
   "cell_type": "code",
   "execution_count": null,
   "id": "8af51508",
   "metadata": {},
   "outputs": [],
   "source": [
    "# Create a vector as a row\n",
    "vector_row = np.array([1, 2, 3])\n",
    "\n",
    "# Create a vector as a column\n",
    "vector_column = np.array([[1],\n",
    "                          [2],\n",
    "                          [3]])"
   ]
  },
  {
   "cell_type": "markdown",
   "id": "21bbde50",
   "metadata": {},
   "source": [
    "NumPy’s main data structure is the multidimensional array. To create a vector, we simply create a one-dimensional array. Just like vectors, these arrays can be represented horizontally (i.e., rows) or vertically (i.e., columns).\n",
    "\n",
    "You need to create a **matrix**? Use NumPy to create a two-dimensional array:"
   ]
  },
  {
   "cell_type": "code",
   "execution_count": 78,
   "id": "c6200f8e",
   "metadata": {},
   "outputs": [
    {
     "data": {
      "text/plain": [
       "array([[1, 2],\n",
       "       [1, 2],\n",
       "       [1, 2]])"
      ]
     },
     "execution_count": 78,
     "metadata": {},
     "output_type": "execute_result"
    }
   ],
   "source": [
    "# Create a matrix\n",
    "matrix = np.array([[1, 2],\n",
    "                   [1, 2],\n",
    "                   [1, 2]])\n",
    "matrix"
   ]
  },
  {
   "cell_type": "markdown",
   "id": "2e7164c9",
   "metadata": {},
   "source": [
    "To create a matrix we can use a NumPy two-dimensional array. In our solution, the matrix contains three rows and two columns (a column of 1s and a column of 2s).\n",
    "\n",
    "NumPy actually has a dedicated matrix data structure:"
   ]
  },
  {
   "cell_type": "code",
   "execution_count": 79,
   "id": "245d3b81",
   "metadata": {},
   "outputs": [
    {
     "data": {
      "text/plain": [
       "matrix([[1, 2],\n",
       "        [1, 2],\n",
       "        [1, 2]])"
      ]
     },
     "execution_count": 79,
     "metadata": {},
     "output_type": "execute_result"
    }
   ],
   "source": [
    "matrix_object = np.mat([[1, 2],\n",
    "                        [1, 2],\n",
    "                        [1, 2]])\n",
    "matrix_object"
   ]
  },
  {
   "cell_type": "markdown",
   "id": "1b1dd789",
   "metadata": {},
   "source": [
    "However, the matrix data structure is not recommended for two reasons. First, arrays are the de facto standard data structure of NumPy. Second, the vast majority of NumPy operations return arrays, not matrix objects.\n",
    "\n",
    "Arrays can be inserted into each other:"
   ]
  },
  {
   "cell_type": "code",
   "execution_count": 84,
   "id": "1474db40",
   "metadata": {},
   "outputs": [
    {
     "ename": "TypeError",
     "evalue": "_insert_dispatcher() missing 1 required positional argument: 'values'",
     "output_type": "error",
     "traceback": [
      "\u001b[0;31m---------------------------------------------------------------------------\u001b[0m",
      "\u001b[0;31mTypeError\u001b[0m                                 Traceback (most recent call last)",
      "\u001b[0;32m/var/folders/pm/rzz1mdws3zl2q1vvnk17zcyh0000gn/T/ipykernel_61938/3101944466.py\u001b[0m in \u001b[0;36m<module>\u001b[0;34m\u001b[0m\n\u001b[1;32m      1\u001b[0m \u001b[0ma\u001b[0m \u001b[0;34m=\u001b[0m \u001b[0mnp\u001b[0m\u001b[0;34m.\u001b[0m\u001b[0marray\u001b[0m\u001b[0;34m(\u001b[0m\u001b[0;34m[\u001b[0m\u001b[0;36m1\u001b[0m\u001b[0;34m,\u001b[0m \u001b[0;36m2\u001b[0m\u001b[0;34m,\u001b[0m \u001b[0;36m3\u001b[0m\u001b[0;34m]\u001b[0m\u001b[0;34m)\u001b[0m\u001b[0;34m\u001b[0m\u001b[0;34m\u001b[0m\u001b[0m\n\u001b[1;32m      2\u001b[0m \u001b[0mb\u001b[0m \u001b[0;34m=\u001b[0m \u001b[0mnp\u001b[0m\u001b[0;34m.\u001b[0m\u001b[0marray\u001b[0m\u001b[0;34m(\u001b[0m\u001b[0;34m[\u001b[0m\u001b[0;36m4\u001b[0m\u001b[0;34m,\u001b[0m \u001b[0;36m5\u001b[0m\u001b[0;34m]\u001b[0m\u001b[0;34m)\u001b[0m\u001b[0;34m\u001b[0m\u001b[0;34m\u001b[0m\u001b[0m\n\u001b[0;32m----> 3\u001b[0;31m \u001b[0mc\u001b[0m \u001b[0;34m=\u001b[0m \u001b[0mnp\u001b[0m\u001b[0;34m.\u001b[0m\u001b[0minsert\u001b[0m\u001b[0;34m(\u001b[0m\u001b[0ma\u001b[0m\u001b[0;34m,\u001b[0m \u001b[0mb\u001b[0m\u001b[0;34m,\u001b[0m \u001b[0maxis\u001b[0m\u001b[0;34m=\u001b[0m\u001b[0;36m0\u001b[0m\u001b[0;34m)\u001b[0m\u001b[0;34m\u001b[0m\u001b[0;34m\u001b[0m\u001b[0m\n\u001b[0m\u001b[1;32m      4\u001b[0m \u001b[0mc\u001b[0m\u001b[0;34m\u001b[0m\u001b[0;34m\u001b[0m\u001b[0m\n",
      "\u001b[0;32m<__array_function__ internals>\u001b[0m in \u001b[0;36minsert\u001b[0;34m(*args, **kwargs)\u001b[0m\n",
      "\u001b[0;31mTypeError\u001b[0m: _insert_dispatcher() missing 1 required positional argument: 'values'"
     ]
    }
   ],
   "source": [
    "a = np.array([1, 2, 3])\n",
    "b = np.array([4, 5])\n",
    "c = np.insert(a, b, axis=0)\n",
    "c"
   ]
  },
  {
   "cell_type": "markdown",
   "id": "8ced55ec",
   "metadata": {},
   "source": [
    "Another way of defining vectors is to use range. Mind the order of arguments in the three-input version, though. And note that Python's range, unlike Matlab's :, doesn't include the upper limit. Also, depending on what you want to do later you may want to convert the result to a list\n",
    "\n",
    "```python\n",
    "range([start], stop[, step])\n",
    "```"
   ]
  },
  {
   "cell_type": "code",
   "execution_count": 85,
   "id": "92e78afb",
   "metadata": {},
   "outputs": [
    {
     "data": {
      "text/plain": [
       "range(0, 5)"
      ]
     },
     "execution_count": 85,
     "metadata": {},
     "output_type": "execute_result"
    }
   ],
   "source": [
    "range(0,5)"
   ]
  },
  {
   "cell_type": "markdown",
   "id": "a01e577b",
   "metadata": {},
   "source": [
    "If you use vectorised computation, you should probably use numpy.arange"
   ]
  },
  {
   "cell_type": "code",
   "execution_count": 130,
   "id": "b31bf02d",
   "metadata": {},
   "outputs": [],
   "source": [
    "np.arange?"
   ]
  },
  {
   "cell_type": "code",
   "execution_count": 90,
   "id": "d0b050a0",
   "metadata": {},
   "outputs": [
    {
     "data": {
      "text/plain": [
       "array([ 1,  2,  3,  4,  5,  6,  7,  8,  9, 10])"
      ]
     },
     "execution_count": 90,
     "metadata": {},
     "output_type": "execute_result"
    }
   ],
   "source": [
    "np.arange(1, 11)"
   ]
  },
  {
   "cell_type": "markdown",
   "id": "0bd7a6bc",
   "metadata": {},
   "source": [
    "**Exercise:** Write the following vectors using the arange:\n",
    "- v1 = [-1, 3, 7, 11, 15]\n",
    "- v2 = [10, 8, 6, 4]"
   ]
  },
  {
   "cell_type": "code",
   "execution_count": 94,
   "id": "40a91475",
   "metadata": {},
   "outputs": [
    {
     "data": {
      "text/plain": [
       "array([-1,  3,  7, 11, 15])"
      ]
     },
     "execution_count": 94,
     "metadata": {},
     "output_type": "execute_result"
    }
   ],
   "source": [
    "v1 = np.arange(-1,16,4)\n",
    "v1"
   ]
  },
  {
   "cell_type": "code",
   "execution_count": 132,
   "id": "79e241c5",
   "metadata": {},
   "outputs": [
    {
     "data": {
      "text/plain": [
       "array([10,  8,  6,  4])"
      ]
     },
     "execution_count": 132,
     "metadata": {},
     "output_type": "execute_result"
    }
   ],
   "source": [
    "v2 = np.arange(10, 3, -2)\n",
    "v2"
   ]
  },
  {
   "cell_type": "markdown",
   "id": "19c4390a",
   "metadata": {},
   "source": [
    "A vector with a given number of equidistant elements can be created using:"
   ]
  },
  {
   "cell_type": "code",
   "execution_count": 133,
   "id": "70bcbc65",
   "metadata": {},
   "outputs": [],
   "source": [
    "np.linspace?"
   ]
  },
  {
   "cell_type": "code",
   "execution_count": 98,
   "id": "56c78bdd",
   "metadata": {},
   "outputs": [
    {
     "data": {
      "text/plain": [
       "array([2.  , 2.25, 2.5 , 2.75, 3.  ])"
      ]
     },
     "execution_count": 98,
     "metadata": {},
     "output_type": "execute_result"
    }
   ],
   "source": [
    "np.linspace(2.0, 3.0, num=5)"
   ]
  },
  {
   "cell_type": "markdown",
   "id": "5df1e387",
   "metadata": {},
   "source": [
    "linspace is useful in order to plot functions"
   ]
  },
  {
   "cell_type": "code",
   "execution_count": 135,
   "id": "bf1f0847",
   "metadata": {},
   "outputs": [
    {
     "data": {
      "text/plain": [
       "[<matplotlib.lines.Line2D at 0x12acfd790>]"
      ]
     },
     "execution_count": 135,
     "metadata": {},
     "output_type": "execute_result"
    },
    {
     "data": {
      "image/png": "[encoded data removed]",
      "text/plain": [
       "<Figure size 432x288 with 1 Axes>"
      ]
     },
     "metadata": {
      "needs_background": "light"
     },
     "output_type": "display_data"
    }
   ],
   "source": [
    "import matplotlib.pyplot as plt\n",
    "x = np.linspace(0, 2*np.pi, 100)\n",
    "y = np.sin(x) # vector containing the sine of x, element by element\n",
    "plt.plot(x, y)\n",
    "plt.show()"
   ]
  },
  {
   "cell_type": "markdown",
   "id": "b37cb5ec",
   "metadata": {},
   "source": [
    "## Indexing\n",
    "\n",
    "Individual elements of a vector are referred to by putting the index in brackets:"
   ]
  },
  {
   "cell_type": "code",
   "execution_count": 103,
   "id": "23032bb3",
   "metadata": {},
   "outputs": [
    {
     "data": {
      "text/plain": [
       "array([ 0,  1,  2,  3,  4,  5,  6,  7,  8,  9, 10])"
      ]
     },
     "execution_count": 103,
     "metadata": {},
     "output_type": "execute_result"
    }
   ],
   "source": [
    "x = np.arange(0,11)\n",
    "x"
   ]
  },
  {
   "cell_type": "code",
   "execution_count": 105,
   "id": "c10fb071",
   "metadata": {},
   "outputs": [
    {
     "data": {
      "text/plain": [
       "3"
      ]
     },
     "execution_count": 105,
     "metadata": {},
     "output_type": "execute_result"
    }
   ],
   "source": [
    "x[3]  # returns the element with index 3 (counting from 0)"
   ]
  },
  {
   "cell_type": "markdown",
   "id": "5940140e",
   "metadata": {},
   "source": [
    "The basic slice syntax is i:j:k where i is the starting index, j is the stopping index, and k is the step"
   ]
  },
  {
   "cell_type": "code",
   "execution_count": 106,
   "id": "af36eebf",
   "metadata": {},
   "outputs": [
    {
     "data": {
      "text/plain": [
       "array([1, 3, 5])"
      ]
     },
     "execution_count": 106,
     "metadata": {},
     "output_type": "execute_result"
    }
   ],
   "source": [
    "x[1:7:2]"
   ]
  },
  {
   "cell_type": "markdown",
   "id": "4e123e9d",
   "metadata": {},
   "source": [
    "Negative i and j are interpreted as n + i and n + j where n is the number of elements in the corresponding dimension. Negative k makes stepping go towards smaller indices."
   ]
  },
  {
   "cell_type": "code",
   "execution_count": 108,
   "id": "9e51859a",
   "metadata": {},
   "outputs": [
    {
     "data": {
      "text/plain": [
       "array([ 9, 10])"
      ]
     },
     "execution_count": 108,
     "metadata": {},
     "output_type": "execute_result"
    }
   ],
   "source": [
    "x[-2:11]"
   ]
  },
  {
   "cell_type": "code",
   "execution_count": 109,
   "id": "524d1fed",
   "metadata": {},
   "outputs": [
    {
     "data": {
      "text/plain": [
       "array([8, 7, 6, 5, 4])"
      ]
     },
     "execution_count": 109,
     "metadata": {},
     "output_type": "execute_result"
    }
   ],
   "source": [
    "x[-3:3:-1]"
   ]
  },
  {
   "cell_type": "markdown",
   "id": "8ae9f719",
   "metadata": {},
   "source": [
    "Assume n is the number of elements in the dimension being sliced. Then, if i is not given it defaults to 0 for k > 0 and n - 1 for k < 0 . If j is not given it defaults to n for k > 0 and -n-1 for k < 0 . If k is not given it defaults to 1. Note that :: is the same as : and means select all indices along this axis."
   ]
  },
  {
   "cell_type": "code",
   "execution_count": 110,
   "id": "a16c4c68",
   "metadata": {},
   "outputs": [
    {
     "data": {
      "text/plain": [
       "array([ 5,  6,  7,  8,  9, 10])"
      ]
     },
     "execution_count": 110,
     "metadata": {},
     "output_type": "execute_result"
    }
   ],
   "source": [
    "x[5:]"
   ]
  },
  {
   "cell_type": "markdown",
   "id": "2c6790a7",
   "metadata": {},
   "source": [
    "## Array operators\n",
    "\n",
    "In order to multiply, divide or exponentiate two vectors elementwise, the operators * / ** must be used:"
   ]
  },
  {
   "cell_type": "code",
   "execution_count": 112,
   "id": "dc9e2993",
   "metadata": {},
   "outputs": [],
   "source": [
    "a = np.array([2, 4])\n",
    "b = np.array([1, 2])"
   ]
  },
  {
   "cell_type": "code",
   "execution_count": 113,
   "id": "70902b7e",
   "metadata": {},
   "outputs": [
    {
     "data": {
      "text/plain": [
       "array([2, 8])"
      ]
     },
     "execution_count": 113,
     "metadata": {},
     "output_type": "execute_result"
    }
   ],
   "source": [
    "a * b"
   ]
  },
  {
   "cell_type": "code",
   "execution_count": 114,
   "id": "5ee6ba59",
   "metadata": {},
   "outputs": [
    {
     "data": {
      "text/plain": [
       "array([2., 2.])"
      ]
     },
     "execution_count": 114,
     "metadata": {},
     "output_type": "execute_result"
    }
   ],
   "source": [
    "a / b "
   ]
  },
  {
   "cell_type": "code",
   "execution_count": 115,
   "id": "00385ffc",
   "metadata": {},
   "outputs": [
    {
     "data": {
      "text/plain": [
       "array([ 2, 16])"
      ]
     },
     "execution_count": 115,
     "metadata": {},
     "output_type": "execute_result"
    }
   ],
   "source": [
    "a ** b "
   ]
  },
  {
   "cell_type": "code",
   "execution_count": null,
   "id": "f631fb31",
   "metadata": {},
   "outputs": [],
   "source": []
  },
  {
   "cell_type": "code",
   "execution_count": null,
   "id": "9c19a85c",
   "metadata": {},
   "outputs": [],
   "source": []
  },
  {
   "cell_type": "markdown",
   "id": "a518c12f",
   "metadata": {},
   "source": [
    "Note that * denotes the elementwise product in Python, not the matrix product!\n",
    "\n",
    "Adding and Subtracting as well as multiplication by a scalar goes as follows:"
   ]
  },
  {
   "cell_type": "code",
   "execution_count": 116,
   "id": "8139e699",
   "metadata": {},
   "outputs": [
    {
     "data": {
      "text/plain": [
       "array([-1,  3])"
      ]
     },
     "execution_count": 116,
     "metadata": {},
     "output_type": "execute_result"
    }
   ],
   "source": [
    "np.array([1, 2]) - np.array([2, -1])"
   ]
  },
  {
   "cell_type": "code",
   "execution_count": 118,
   "id": "2de08231",
   "metadata": {},
   "outputs": [
    {
     "data": {
      "text/plain": [
       "array([2, 3])"
      ]
     },
     "execution_count": 118,
     "metadata": {},
     "output_type": "execute_result"
    }
   ],
   "source": [
    "np.array([1, 2]) + 1"
   ]
  },
  {
   "cell_type": "code",
   "execution_count": 119,
   "id": "8ad91d2a",
   "metadata": {},
   "outputs": [
    {
     "data": {
      "text/plain": [
       "array([2, 4])"
      ]
     },
     "execution_count": 119,
     "metadata": {},
     "output_type": "execute_result"
    }
   ],
   "source": [
    "2*np.array([1, 2])"
   ]
  },
  {
   "cell_type": "markdown",
   "id": "b2c20156",
   "metadata": {},
   "source": [
    "Further useful array functions are:"
   ]
  },
  {
   "cell_type": "code",
   "execution_count": 121,
   "id": "47811b86",
   "metadata": {},
   "outputs": [
    {
     "data": {
      "text/plain": [
       "3"
      ]
     },
     "execution_count": 121,
     "metadata": {},
     "output_type": "execute_result"
    }
   ],
   "source": [
    "np.array([1, 2]).sum()  # sum of elements"
   ]
  },
  {
   "cell_type": "code",
   "execution_count": 125,
   "id": "9efd39e1",
   "metadata": {},
   "outputs": [
    {
     "data": {
      "text/plain": [
       "2"
      ]
     },
     "execution_count": 125,
     "metadata": {},
     "output_type": "execute_result"
    }
   ],
   "source": [
    "np.array([1, 2]).size   # number of elements"
   ]
  },
  {
   "cell_type": "code",
   "execution_count": 126,
   "id": "1f3d55d8",
   "metadata": {},
   "outputs": [
    {
     "data": {
      "text/plain": [
       "1.5"
      ]
     },
     "execution_count": 126,
     "metadata": {},
     "output_type": "execute_result"
    }
   ],
   "source": [
    "np.array([1, 2]).mean() # mean"
   ]
  },
  {
   "cell_type": "code",
   "execution_count": null,
   "id": "163e8d40",
   "metadata": {},
   "outputs": [],
   "source": [
    "np.array([1, 2])"
   ]
  }
 ],
 "metadata": {
  "kernelspec": {
   "display_name": "Python 3 (ipykernel)",
   "language": "python",
   "name": "python3"
  },
  "language_info": {
   "codemirror_mode": {
    "name": "ipython",
    "version": 3
   },
   "file_extension": ".py",
   "mimetype": "text/x-python",
   "name": "python",
   "nbconvert_exporter": "python",
   "pygments_lexer": "ipython3",
   "version": "3.9.7"
  }
 },
 "nbformat": 4,
 "nbformat_minor": 5
}
