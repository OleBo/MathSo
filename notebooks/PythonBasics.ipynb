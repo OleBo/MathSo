{
 "cells": [
  {
   "cell_type": "markdown",
   "id": "c609b5c3",
   "metadata": {},
   "source": [
    "# Python basics\n",
    "\n",
    "Install Python on your own computer.\n",
    "\n",
    "Run jupyter notebook. Familiarize yourself with the main elements of the GUI."
   ]
  },
  {
   "cell_type": "markdown",
   "id": "7c1edb56",
   "metadata": {},
   "source": [
    "## Python as a pocket calculator"
   ]
  },
  {
   "cell_type": "code",
   "execution_count": 1,
   "id": "30c8f304",
   "metadata": {},
   "outputs": [
    {
     "data": {
      "text/plain": [
       "5"
      ]
     },
     "execution_count": 1,
     "metadata": {},
     "output_type": "execute_result"
    }
   ],
   "source": [
    "2 + 3"
   ]
  },
  {
   "cell_type": "code",
   "execution_count": 2,
   "id": "c3368fac",
   "metadata": {},
   "outputs": [
    {
     "data": {
      "text/plain": [
       "6"
      ]
     },
     "execution_count": 2,
     "metadata": {},
     "output_type": "execute_result"
    }
   ],
   "source": [
    "2*3"
   ]
  },
  {
   "cell_type": "code",
   "execution_count": 3,
   "id": "b142c7b6",
   "metadata": {},
   "outputs": [
    {
     "data": {
      "text/plain": [
       "0.6666666666666666"
      ]
     },
     "execution_count": 3,
     "metadata": {},
     "output_type": "execute_result"
    }
   ],
   "source": [
    "2/3  # real (not integer) division"
   ]
  },
  {
   "cell_type": "code",
   "execution_count": 4,
   "id": "6cc2991e",
   "metadata": {},
   "outputs": [
    {
     "data": {
      "text/plain": [
       "8"
      ]
     },
     "execution_count": 4,
     "metadata": {},
     "output_type": "execute_result"
    }
   ],
   "source": [
    "2**3"
   ]
  },
  {
   "cell_type": "markdown",
   "id": "6ae2a4d2",
   "metadata": {},
   "source": [
    "Python’s math module, in the standard library, can help you work on math-related problems in code. It contains many useful functions, such as remainder() and factorial(). It also includes the Python square root function, sqrt()."
   ]
  },
  {
   "cell_type": "code",
   "execution_count": 5,
   "id": "94baba28",
   "metadata": {},
   "outputs": [
    {
     "data": {
      "text/plain": [
       "1.4142135623730951"
      ]
     },
     "execution_count": 5,
     "metadata": {},
     "output_type": "execute_result"
    }
   ],
   "source": [
    "import math\n",
    "math.sqrt(2)"
   ]
  },
  {
   "cell_type": "code",
   "execution_count": 6,
   "id": "59c6d5a0",
   "metadata": {},
   "outputs": [
    {
     "data": {
      "text/plain": [
       "3.141592653589793"
      ]
     },
     "execution_count": 6,
     "metadata": {},
     "output_type": "execute_result"
    }
   ],
   "source": [
    "math.pi  # this is a permanent (predefined) variable"
   ]
  },
  {
   "cell_type": "code",
   "execution_count": 7,
   "id": "952d432b",
   "metadata": {},
   "outputs": [
    {
     "data": {
      "text/plain": [
       "1.0"
      ]
     },
     "execution_count": 7,
     "metadata": {},
     "output_type": "execute_result"
    }
   ],
   "source": [
    "math.sin(math.pi/2)"
   ]
  },
  {
   "cell_type": "markdown",
   "id": "8d6a8f03",
   "metadata": {},
   "source": [
    "To obtain help on a certain function, you can use"
   ]
  },
  {
   "cell_type": "markdown",
   "id": "cbdb53d8",
   "metadata": {},
   "source": [
    "## Operator precedence\n",
    "\n",
    "From Python documentation on [operator precedence](http://docs.python.org/reference/expressions.html)\n",
    "\n",
    "1. Parentheses (grouping)\n",
    "2. Exponentiation $**$\n",
    "3. Multiplication, division, remainder $*, /, \\%$\n",
    "4. Addition, subtraction\n",
    "\n",
    "Note that expressions are always evaluated from left to right!\n",
    "\n",
    "Examples: Try to guess the results first without using Python:"
   ]
  },
  {
   "cell_type": "code",
   "execution_count": 8,
   "id": "fa8b6249",
   "metadata": {},
   "outputs": [
    {
     "data": {
      "text/plain": [
       "7"
      ]
     },
     "execution_count": 8,
     "metadata": {},
     "output_type": "execute_result"
    }
   ],
   "source": [
    "1 + 2 * 3"
   ]
  },
  {
   "cell_type": "code",
   "execution_count": 9,
   "id": "a4f8d885",
   "metadata": {},
   "outputs": [
    {
     "data": {
      "text/plain": [
       "4.0"
      ]
     },
     "execution_count": 9,
     "metadata": {},
     "output_type": "execute_result"
    }
   ],
   "source": [
    "4 / 2 * 2"
   ]
  },
  {
   "cell_type": "code",
   "execution_count": 10,
   "id": "c5052cbd",
   "metadata": {},
   "outputs": [
    {
     "data": {
      "text/plain": [
       "16"
      ]
     },
     "execution_count": 10,
     "metadata": {},
     "output_type": "execute_result"
    }
   ],
   "source": [
    "2 * 2 ** 3"
   ]
  },
  {
   "cell_type": "code",
   "execution_count": 11,
   "id": "812ccaee",
   "metadata": {},
   "outputs": [
    {
     "data": {
      "text/plain": [
       "64"
      ]
     },
     "execution_count": 11,
     "metadata": {},
     "output_type": "execute_result"
    }
   ],
   "source": [
    "(2 ** 2) ** 3"
   ]
  },
  {
   "cell_type": "code",
   "execution_count": 12,
   "id": "a235d890",
   "metadata": {},
   "outputs": [
    {
     "data": {
      "text/plain": [
       "2.6666666666666665"
      ]
     },
     "execution_count": 12,
     "metadata": {},
     "output_type": "execute_result"
    }
   ],
   "source": [
    "2 ** (1 + 2) / 3"
   ]
  },
  {
   "cell_type": "markdown",
   "id": "2ea14530",
   "metadata": {},
   "source": [
    "Now the other way around - type the following mathematical expressions in Python:\n",
    "\n",
    "$$\\frac{1}{2*3}$$"
   ]
  },
  {
   "cell_type": "code",
   "execution_count": null,
   "id": "ea9ab21b",
   "metadata": {},
   "outputs": [],
   "source": []
  },
  {
   "cell_type": "markdown",
   "id": "2aa03624",
   "metadata": {},
   "source": [
    "$$\\left(2^{2}\\right)^{3}$$"
   ]
  },
  {
   "cell_type": "code",
   "execution_count": null,
   "id": "61db9644",
   "metadata": {},
   "outputs": [],
   "source": []
  },
  {
   "cell_type": "markdown",
   "id": "a4c746b7",
   "metadata": {},
   "source": [
    "$${2^{2}}^{2}$$"
   ]
  },
  {
   "cell_type": "code",
   "execution_count": null,
   "id": "d3abf104",
   "metadata": {},
   "outputs": [],
   "source": []
  },
  {
   "cell_type": "markdown",
   "id": "7b084b38",
   "metadata": {},
   "source": [
    "## Representation of numbers in Python\n",
    "\n",
    "Python includes three numeric types to represent numbers: integers, float, and complex number."
   ]
  },
  {
   "cell_type": "markdown",
   "id": "4ec64b99",
   "metadata": {},
   "source": [
    "### Int\n",
    "\n",
    "In Python, integers are zero, positive or negative whole numbers without a fractional part and having unlimited precision, e.g. 0, 100, -10. The followings are valid integer literals in Python."
   ]
  },
  {
   "cell_type": "code",
   "execution_count": 13,
   "id": "85798a88",
   "metadata": {},
   "outputs": [
    {
     "data": {
      "text/plain": [
       "0"
      ]
     },
     "execution_count": 13,
     "metadata": {},
     "output_type": "execute_result"
    }
   ],
   "source": [
    "0"
   ]
  },
  {
   "cell_type": "code",
   "execution_count": 14,
   "id": "ce8c6b5b",
   "metadata": {},
   "outputs": [
    {
     "data": {
      "text/plain": [
       "100"
      ]
     },
     "execution_count": 14,
     "metadata": {},
     "output_type": "execute_result"
    }
   ],
   "source": [
    "100"
   ]
  },
  {
   "cell_type": "code",
   "execution_count": 15,
   "id": "313bb744",
   "metadata": {},
   "outputs": [
    {
     "data": {
      "text/plain": [
       "-10"
      ]
     },
     "execution_count": 15,
     "metadata": {},
     "output_type": "execute_result"
    }
   ],
   "source": [
    "-10"
   ]
  },
  {
   "cell_type": "code",
   "execution_count": 16,
   "id": "e4827b0d",
   "metadata": {},
   "outputs": [
    {
     "data": {
      "text/plain": [
       "1234567890"
      ]
     },
     "execution_count": 16,
     "metadata": {},
     "output_type": "execute_result"
    }
   ],
   "source": [
    "1234567890"
   ]
  },
  {
   "cell_type": "code",
   "execution_count": 17,
   "id": "bf2b8355",
   "metadata": {},
   "outputs": [
    {
     "data": {
      "text/plain": [
       "5000000000000000000000000000000000000000000000000000000"
      ]
     },
     "execution_count": 17,
     "metadata": {},
     "output_type": "execute_result"
    }
   ],
   "source": [
    "y=5000000000000000000000000000000000000000000000000000000\n",
    "y"
   ]
  },
  {
   "cell_type": "markdown",
   "id": "bcefc6f7",
   "metadata": {},
   "source": [
    "Integers can be binary, octal, and hexadecimal values."
   ]
  },
  {
   "cell_type": "code",
   "execution_count": 18,
   "id": "8b2068e1",
   "metadata": {},
   "outputs": [
    {
     "data": {
      "text/plain": [
       "216"
      ]
     },
     "execution_count": 18,
     "metadata": {},
     "output_type": "execute_result"
    }
   ],
   "source": [
    "0b11011000 # binary"
   ]
  },
  {
   "cell_type": "code",
   "execution_count": 19,
   "id": "acd9164f",
   "metadata": {},
   "outputs": [
    {
     "data": {
      "text/plain": [
       "10"
      ]
     },
     "execution_count": 19,
     "metadata": {},
     "output_type": "execute_result"
    }
   ],
   "source": [
    "0o12 # octal"
   ]
  },
  {
   "cell_type": "code",
   "execution_count": 20,
   "id": "2fe7a761",
   "metadata": {},
   "outputs": [
    {
     "data": {
      "text/plain": [
       "18"
      ]
     },
     "execution_count": 20,
     "metadata": {},
     "output_type": "execute_result"
    }
   ],
   "source": [
    "0x12 # hexadecimal"
   ]
  },
  {
   "cell_type": "markdown",
   "id": "d1815df0",
   "metadata": {},
   "source": [
    "All integers literals or variables are objects of the int class. Use the type() method to get the class name, as shown below."
   ]
  },
  {
   "cell_type": "code",
   "execution_count": 21,
   "id": "04e0d75e",
   "metadata": {},
   "outputs": [
    {
     "data": {
      "text/plain": [
       "int"
      ]
     },
     "execution_count": 21,
     "metadata": {},
     "output_type": "execute_result"
    }
   ],
   "source": [
    "type(100)"
   ]
  },
  {
   "cell_type": "code",
   "execution_count": 22,
   "id": "449d3bf4",
   "metadata": {},
   "outputs": [
    {
     "data": {
      "text/plain": [
       "int"
      ]
     },
     "execution_count": 22,
     "metadata": {},
     "output_type": "execute_result"
    }
   ],
   "source": [
    "x=1234567890\n",
    "type(x)"
   ]
  },
  {
   "cell_type": "code",
   "execution_count": 23,
   "id": "bf82526f",
   "metadata": {},
   "outputs": [
    {
     "data": {
      "text/plain": [
       "int"
      ]
     },
     "execution_count": 23,
     "metadata": {},
     "output_type": "execute_result"
    }
   ],
   "source": [
    "type(y)"
   ]
  },
  {
   "cell_type": "markdown",
   "id": "7e75700c",
   "metadata": {},
   "source": [
    "Leading zeros in non-zero integers are not allowed e.g. 000123 is invalid number, 0000 is 0."
   ]
  },
  {
   "cell_type": "code",
   "execution_count": 24,
   "id": "37c6d14e",
   "metadata": {},
   "outputs": [],
   "source": [
    "# x=01234567890"
   ]
  },
  {
   "cell_type": "markdown",
   "id": "67276c99",
   "metadata": {},
   "source": [
    "Python does not allow comma as number delimiter. Use underscore _ as a delimiter instead."
   ]
  },
  {
   "cell_type": "code",
   "execution_count": 25,
   "id": "0c6eb094",
   "metadata": {},
   "outputs": [
    {
     "data": {
      "text/plain": [
       "1234567890"
      ]
     },
     "execution_count": 25,
     "metadata": {},
     "output_type": "execute_result"
    }
   ],
   "source": [
    "x=1_234_567_890\n",
    "x"
   ]
  },
  {
   "cell_type": "markdown",
   "id": "2bde8bbe",
   "metadata": {},
   "source": [
    "Note that integers must be without a fractional part (decimal point). It it includes a fractional then it becomes a float."
   ]
  },
  {
   "cell_type": "code",
   "execution_count": 26,
   "id": "4da2fcda",
   "metadata": {},
   "outputs": [
    {
     "data": {
      "text/plain": [
       "int"
      ]
     },
     "execution_count": 26,
     "metadata": {},
     "output_type": "execute_result"
    }
   ],
   "source": [
    "x=5\n",
    "type(x)"
   ]
  },
  {
   "cell_type": "code",
   "execution_count": 27,
   "id": "92d98926",
   "metadata": {},
   "outputs": [
    {
     "data": {
      "text/plain": [
       "float"
      ]
     },
     "execution_count": 27,
     "metadata": {},
     "output_type": "execute_result"
    }
   ],
   "source": [
    "x=5.0\n",
    "type(x)"
   ]
  },
  {
   "cell_type": "markdown",
   "id": "1828ed4e",
   "metadata": {},
   "source": [
    "#### Binary\n",
    "\n",
    "A Number having 0b with eight digits in the combination of 0 and 1 represent the binary numbers in Python. For example, 0b11011000 is a binary number equivalent to integer 216."
   ]
  },
  {
   "cell_type": "code",
   "execution_count": 28,
   "id": "fd83b1cf",
   "metadata": {},
   "outputs": [
    {
     "data": {
      "text/plain": [
       "216"
      ]
     },
     "execution_count": 28,
     "metadata": {},
     "output_type": "execute_result"
    }
   ],
   "source": [
    "x=0b11011000\n",
    "x"
   ]
  },
  {
   "cell_type": "code",
   "execution_count": 29,
   "id": "d2dfb3b2",
   "metadata": {},
   "outputs": [
    {
     "data": {
      "text/plain": [
       "216"
      ]
     },
     "execution_count": 29,
     "metadata": {},
     "output_type": "execute_result"
    }
   ],
   "source": [
    "x=0b_1101_1000\n",
    "x"
   ]
  },
  {
   "cell_type": "code",
   "execution_count": 30,
   "id": "85023a29",
   "metadata": {},
   "outputs": [
    {
     "data": {
      "text/plain": [
       "int"
      ]
     },
     "execution_count": 30,
     "metadata": {},
     "output_type": "execute_result"
    }
   ],
   "source": [
    "type(x)"
   ]
  },
  {
   "cell_type": "markdown",
   "id": "a92f370b",
   "metadata": {},
   "source": [
    "#### Octal\n",
    "\n",
    "A number having 0o or 0O as prefix represents an octal number. For example, 0O12 is equivalent to integer 10."
   ]
  },
  {
   "cell_type": "code",
   "execution_count": 31,
   "id": "94b1bacc",
   "metadata": {},
   "outputs": [
    {
     "data": {
      "text/plain": [
       "10"
      ]
     },
     "execution_count": 31,
     "metadata": {},
     "output_type": "execute_result"
    }
   ],
   "source": [
    "x=0o12\n",
    "x"
   ]
  },
  {
   "cell_type": "code",
   "execution_count": 32,
   "id": "dd9b666a",
   "metadata": {},
   "outputs": [
    {
     "data": {
      "text/plain": [
       "int"
      ]
     },
     "execution_count": 32,
     "metadata": {},
     "output_type": "execute_result"
    }
   ],
   "source": [
    "type(x)"
   ]
  },
  {
   "cell_type": "markdown",
   "id": "92f14e11",
   "metadata": {},
   "source": [
    "### Hexadecimal\n",
    "\n",
    "A number with 0x or 0X as prefix represents hexadecimal number. For example, 0x12 is equivalent to integer 18."
   ]
  },
  {
   "cell_type": "code",
   "execution_count": 33,
   "id": "16411bf8",
   "metadata": {},
   "outputs": [
    {
     "data": {
      "text/plain": [
       "18"
      ]
     },
     "execution_count": 33,
     "metadata": {},
     "output_type": "execute_result"
    }
   ],
   "source": [
    "x=0x12\n",
    "x"
   ]
  },
  {
   "cell_type": "code",
   "execution_count": 34,
   "id": "c6f7f886",
   "metadata": {},
   "outputs": [
    {
     "data": {
      "text/plain": [
       "int"
      ]
     },
     "execution_count": 34,
     "metadata": {},
     "output_type": "execute_result"
    }
   ],
   "source": [
    "type(x)"
   ]
  },
  {
   "cell_type": "markdown",
   "id": "8148ae6b",
   "metadata": {},
   "source": [
    "### Float\n",
    "\n",
    "In Python,  floating point numbers (float) are positive and negative real numbers with a fractional part denoted by the decimal symbol . or the scientific notation E or e, e.g. 1234.56, 3.142, -1.55, 0.23."
   ]
  },
  {
   "cell_type": "code",
   "execution_count": 35,
   "id": "fd0c569c",
   "metadata": {},
   "outputs": [
    {
     "data": {
      "text/plain": [
       "1.2"
      ]
     },
     "execution_count": 35,
     "metadata": {},
     "output_type": "execute_result"
    }
   ],
   "source": [
    "f=1.2\n",
    "f"
   ]
  },
  {
   "cell_type": "code",
   "execution_count": 36,
   "id": "733078aa",
   "metadata": {},
   "outputs": [
    {
     "data": {
      "text/plain": [
       "float"
      ]
     },
     "execution_count": 36,
     "metadata": {},
     "output_type": "execute_result"
    }
   ],
   "source": [
    "type(f)"
   ]
  },
  {
   "cell_type": "markdown",
   "id": "deb2ce95",
   "metadata": {},
   "source": [
    "Floats can be separated by the underscore _, e.g. 123_42.222_013 is a valid float."
   ]
  },
  {
   "cell_type": "code",
   "execution_count": 37,
   "id": "4ca0d26a",
   "metadata": {},
   "outputs": [
    {
     "data": {
      "text/plain": [
       "12342.222013"
      ]
     },
     "execution_count": 37,
     "metadata": {},
     "output_type": "execute_result"
    }
   ],
   "source": [
    "f=123_42.222_013\n",
    "f"
   ]
  },
  {
   "cell_type": "markdown",
   "id": "9ef28a18",
   "metadata": {},
   "source": [
    "The maximum size depends on your system. The float beyond its maximum size referred as \"inf\", \"Inf\", \"INFINITY\", or \"infinity\". Float 2e400 will be considered as infinity for most systems."
   ]
  },
  {
   "cell_type": "code",
   "execution_count": 38,
   "id": "1ddeba63",
   "metadata": {},
   "outputs": [
    {
     "data": {
      "text/plain": [
       "inf"
      ]
     },
     "execution_count": 38,
     "metadata": {},
     "output_type": "execute_result"
    }
   ],
   "source": [
    "f=2e400\n",
    "f"
   ]
  },
  {
   "cell_type": "markdown",
   "id": "23a7f0f4",
   "metadata": {},
   "source": [
    "Scientific notation is used as a short representation to express floats having many digits. For example: 345.56789 is represented as 3.4556789e2 or 3.4556789E2"
   ]
  },
  {
   "cell_type": "code",
   "execution_count": 39,
   "id": "0f292068",
   "metadata": {},
   "outputs": [
    {
     "data": {
      "text/plain": [
       "1000.0"
      ]
     },
     "execution_count": 39,
     "metadata": {},
     "output_type": "execute_result"
    }
   ],
   "source": [
    "f=1e3\n",
    "f"
   ]
  },
  {
   "cell_type": "code",
   "execution_count": 40,
   "id": "d08ac26e",
   "metadata": {},
   "outputs": [
    {
     "data": {
      "text/plain": [
       "100000.0"
      ]
     },
     "execution_count": 40,
     "metadata": {},
     "output_type": "execute_result"
    }
   ],
   "source": [
    "f=1e5\n",
    "f"
   ]
  },
  {
   "cell_type": "code",
   "execution_count": 41,
   "id": "d25f1a00",
   "metadata": {},
   "outputs": [
    {
     "data": {
      "text/plain": [
       "345.56789"
      ]
     },
     "execution_count": 41,
     "metadata": {},
     "output_type": "execute_result"
    }
   ],
   "source": [
    "f=3.4556789e2\n",
    "f"
   ]
  },
  {
   "cell_type": "markdown",
   "id": "a4b749ec",
   "metadata": {},
   "source": [
    "Use the float() function to convert string, int to float."
   ]
  },
  {
   "cell_type": "code",
   "execution_count": 42,
   "id": "d30873f7",
   "metadata": {},
   "outputs": [
    {
     "data": {
      "text/plain": [
       "5.5"
      ]
     },
     "execution_count": 42,
     "metadata": {},
     "output_type": "execute_result"
    }
   ],
   "source": [
    "float('5.5')"
   ]
  },
  {
   "cell_type": "code",
   "execution_count": 43,
   "id": "a7661b1b",
   "metadata": {},
   "outputs": [
    {
     "data": {
      "text/plain": [
       "5.0"
      ]
     },
     "execution_count": 43,
     "metadata": {},
     "output_type": "execute_result"
    }
   ],
   "source": [
    "float('5')"
   ]
  },
  {
   "cell_type": "code",
   "execution_count": 44,
   "id": "54a93da9",
   "metadata": {},
   "outputs": [
    {
     "data": {
      "text/plain": [
       "-5.0"
      ]
     },
     "execution_count": 44,
     "metadata": {},
     "output_type": "execute_result"
    }
   ],
   "source": [
    "float('     -5')"
   ]
  },
  {
   "cell_type": "code",
   "execution_count": 45,
   "id": "f13c8d58",
   "metadata": {},
   "outputs": [
    {
     "data": {
      "text/plain": [
       "1000.0"
      ]
     },
     "execution_count": 45,
     "metadata": {},
     "output_type": "execute_result"
    }
   ],
   "source": [
    "float('1e3')"
   ]
  },
  {
   "cell_type": "code",
   "execution_count": 46,
   "id": "b8011c77",
   "metadata": {},
   "outputs": [
    {
     "data": {
      "text/plain": [
       "-inf"
      ]
     },
     "execution_count": 46,
     "metadata": {},
     "output_type": "execute_result"
    }
   ],
   "source": [
    "float('-Infinity')"
   ]
  },
  {
   "cell_type": "code",
   "execution_count": 47,
   "id": "ef5ee543",
   "metadata": {},
   "outputs": [
    {
     "data": {
      "text/plain": [
       "inf"
      ]
     },
     "execution_count": 47,
     "metadata": {},
     "output_type": "execute_result"
    }
   ],
   "source": [
    "float('inf')"
   ]
  },
  {
   "cell_type": "markdown",
   "id": "d594fd3e",
   "metadata": {},
   "source": [
    "### Complex Numbers\n",
    "\n",
    "A complex number is a number with real and imaginary components. For example, 5 + 6j is a complex number where 5 is the real component and 6 multiplied by j is an imaginary component"
   ]
  },
  {
   "cell_type": "code",
   "execution_count": 48,
   "id": "2a127324",
   "metadata": {},
   "outputs": [
    {
     "data": {
      "text/plain": [
       "(5+2j)"
      ]
     },
     "execution_count": 48,
     "metadata": {},
     "output_type": "execute_result"
    }
   ],
   "source": [
    "a=5+2j\n",
    "a"
   ]
  },
  {
   "cell_type": "code",
   "execution_count": 49,
   "id": "2ba26c71",
   "metadata": {},
   "outputs": [
    {
     "data": {
      "text/plain": [
       "complex"
      ]
     },
     "execution_count": 49,
     "metadata": {},
     "output_type": "execute_result"
    }
   ],
   "source": [
    "type(a)"
   ]
  },
  {
   "cell_type": "markdown",
   "id": "e8643666",
   "metadata": {},
   "source": [
    "You must use j or J as imaginary component. Using other character will throw syntax error."
   ]
  },
  {
   "cell_type": "code",
   "execution_count": 50,
   "id": "a743086b",
   "metadata": {},
   "outputs": [],
   "source": [
    "# a=5+2k"
   ]
  },
  {
   "cell_type": "markdown",
   "id": "93a9e2ab",
   "metadata": {},
   "source": [
    "## Scripts\n",
    "\n",
    "Exercise: Write a script that asks the user to enter a balance b and an interest rate p (in per cent), computes the interest, adds it to the balance and outputs the new balance. E.g. to read in a variable a from the user"
   ]
  },
  {
   "cell_type": "code",
   "execution_count": 51,
   "id": "40a9e2cd",
   "metadata": {},
   "outputs": [],
   "source": [
    "#a = input('Enter a: ')"
   ]
  },
  {
   "cell_type": "markdown",
   "id": "8c73a39a",
   "metadata": {},
   "source": [
    "To output a variable, simply write"
   ]
  },
  {
   "cell_type": "code",
   "execution_count": 52,
   "id": "da6935a2",
   "metadata": {},
   "outputs": [
    {
     "data": {
      "text/plain": [
       "1"
      ]
     },
     "execution_count": 52,
     "metadata": {},
     "output_type": "execute_result"
    }
   ],
   "source": [
    "a=1\n",
    "a"
   ]
  },
  {
   "cell_type": "code",
   "execution_count": 53,
   "id": "7b3a94c2",
   "metadata": {},
   "outputs": [
    {
     "data": {
      "text/plain": [
       "1"
      ]
     },
     "execution_count": 53,
     "metadata": {},
     "output_type": "execute_result"
    }
   ],
   "source": [
    "#a = float(input('Enter a: '))\n",
    "a"
   ]
  },
  {
   "cell_type": "code",
   "execution_count": 54,
   "id": "d2b0058c",
   "metadata": {},
   "outputs": [
    {
     "data": {
      "text/plain": [
       "1"
      ]
     },
     "execution_count": 54,
     "metadata": {},
     "output_type": "execute_result"
    }
   ],
   "source": [
    "#a = int(input('Enter a: '))\n",
    "a"
   ]
  },
  {
   "cell_type": "code",
   "execution_count": 55,
   "id": "80ce45a1",
   "metadata": {},
   "outputs": [
    {
     "name": "stdout",
     "output_type": "stream",
     "text": [
      "1\n"
     ]
    }
   ],
   "source": [
    "print(a)"
   ]
  },
  {
   "cell_type": "markdown",
   "id": "605e9f11",
   "metadata": {},
   "source": [
    "To assemble prints use the [format function](https://www.kite.com/python/answers/how-to-format-currency-in-python)."
   ]
  },
  {
   "cell_type": "code",
   "execution_count": 56,
   "id": "2ad5004f",
   "metadata": {},
   "outputs": [
    {
     "name": "stdout",
     "output_type": "stream",
     "text": [
      "New balance: 1.00\n"
     ]
    }
   ],
   "source": [
    "print('New balance: {:,.2f}'.format(a))"
   ]
  },
  {
   "cell_type": "markdown",
   "id": "f9637927",
   "metadata": {},
   "source": [
    "Save your script in interest.py (note the file extension .py for scripts in Python).\n",
    "\n",
    "To run your script:"
   ]
  },
  {
   "cell_type": "code",
   "execution_count": 57,
   "id": "ed814ec8",
   "metadata": {},
   "outputs": [
    {
     "name": "stdout",
     "output_type": "stream",
     "text": [
      "b = float(input('Initial balance: '))\r\n",
      "p = float(input('Interest rate in per cent: '))\r\n",
      "i = p / 100 * b\r\n",
      "# interest\r\n",
      "b = b + i\r\n",
      "# new balance\r\n",
      "print('New balance: ${:,.2f}'.format(b))\r\n",
      "# format currency\r\n",
      "# https://www.kite.com/python/answers/how-to-format-currency-in-python\r\n"
     ]
    }
   ],
   "source": [
    "!cat scripts/interest.py"
   ]
  },
  {
   "cell_type": "code",
   "execution_count": 58,
   "id": "e0a06974",
   "metadata": {},
   "outputs": [],
   "source": [
    "#!python scripts/interest.py"
   ]
  },
  {
   "cell_type": "markdown",
   "id": "a4ae1e8c",
   "metadata": {},
   "source": [
    "## Functions\n",
    "\n",
    "Unlike scripts, functions accept input arguments.\n",
    "\n",
    "Exercise: Write a function interest1 that accepts as input arguments a balance b, an annual interest rate p in per cent and a number of years n. The function should return the new balance after this period of time. "
   ]
  },
  {
   "cell_type": "code",
   "execution_count": 59,
   "id": "3d8332b9",
   "metadata": {},
   "outputs": [
    {
     "name": "stdout",
     "output_type": "stream",
     "text": [
      "1,218.99\n"
     ]
    }
   ],
   "source": [
    "def interest1(b, p, n):\n",
    "    \"\"\"\n",
    "    INTEREST1(b, p, n) computes the new balance after n years for an initial\n",
    "    balance b and an annual interest rate p in per cent\n",
    "    \"\"\"\n",
    "    return b*(1 + p/100)**n\n",
    "print('{:,.2f}'.format(interest1(1000, 2, 10)))"
   ]
  },
  {
   "cell_type": "markdown",
   "id": "a37451d1",
   "metadata": {},
   "source": [
    "Functions can be imported from files:"
   ]
  },
  {
   "cell_type": "code",
   "execution_count": 60,
   "id": "84eebbce",
   "metadata": {},
   "outputs": [
    {
     "name": "stdout",
     "output_type": "stream",
     "text": [
      "\"\"\"\r\n",
      "functions\r\n",
      "\"\"\"\r\n",
      "\r\n",
      "import math\r\n",
      "import numpy as np\r\n",
      "\r\n",
      "\r\n",
      "def interest1(_b, _p, _n):\r\n",
      "    \"\"\"\r\n",
      "    INTEREST1(_b, _p, _n) computes the new balance after n years for an initial\r\n",
      "    balance b and an annual interest rate p in per cent\r\n",
      "    \"\"\"\r\n",
      "    return _b * (1 + _p / 100)**_n\r\n",
      "\r\n",
      "\r\n",
      "def gauss3(_x, _mu, sigma):\r\n",
      "    \"\"\"\r\n",
      "    GAUSS3 Evaluates Gaussian normal distribution with mean mu and standard\r\n",
      "    deviation sigma at x\r\n",
      "    \"\"\"\r\n",
      "    return math.exp(-1 / 2 *\r\n",
      "                    ((_x - _mu) / sigma)**2) / (sigma * math.sqrt(2 * math.pi))\r\n",
      "\r\n",
      "\r\n",
      "def gauss4(x_arr, _mu, sigma):\r\n",
      "    \"\"\"\r\n",
      "    GAUSS4 Evaluates Gaussian normal distribution with mean mu and standard\r\n",
      "    deviation sigma at x, where x may be an array\r\n",
      "    \"\"\"\r\n",
      "    _fd = []\r\n",
      "    for _x in x_arr:\r\n",
      "        _a = 1 / 2 * ((_x - _mu) / sigma)**2\r\n",
      "        _e = math.exp(-_a)\r\n",
      "        _fd.append((1 / (sigma * math.sqrt(2 * math.pi))) * _e)\r\n",
      "    return np.array(_fd)\r\n",
      "\r\n",
      "\r\n",
      "def gauss5(_x, _mu, sigma):\r\n",
      "    \"\"\"\r\n",
      "    GAUSS5 Evaluates Gaussian normal distribution with mean mu and standard\r\n",
      "    deviation sigma at x, where x may be an array\r\n",
      "    \"\"\"\r\n",
      "    return math.exp(-1 / 2 * (np.linalg.matrix_power(\r\n",
      "        (_x - _mu) / sigma), 2)) / (sigma * math.sqrt(2 * math.pi))\r\n",
      "\r\n",
      "\r\n",
      "def angle(_a, _b):\r\n",
      "    \"\"\"\r\n",
      "    ANGLE computes the angle between two vectors a and b in R^2\r\n",
      "    \"\"\"\r\n",
      "    adotb = np.sum(_a * _b)  # or np.dot(a,b)\r\n",
      "    norma = np.sqrt(np.sum(_a * _a))\r\n",
      "    # or np.linalg.norm(a)\r\n",
      "    normb = np.sqrt(np.sum(_b * _b))\r\n",
      "    # or np.linalg.norm(b)\r\n",
      "    return np.arccos(adotb / (norma * normb))\r\n"
     ]
    }
   ],
   "source": [
    "!cat scripts/functions.py"
   ]
  },
  {
   "cell_type": "code",
   "execution_count": 61,
   "id": "fbcf1633",
   "metadata": {},
   "outputs": [
    {
     "name": "stdout",
     "output_type": "stream",
     "text": [
      "$1,218.99\n"
     ]
    }
   ],
   "source": [
    "import sys  \n",
    "sys.path.insert(0, 'scripts')\n",
    "from functions import interest1\n",
    "print('${:,.2f}'.format(interest1(1000, 2, 10)))"
   ]
  },
  {
   "cell_type": "markdown",
   "id": "9d3d8065",
   "metadata": {},
   "source": [
    "A [lambda function](https://www.w3schools.com/python/python_lambda.asp) is a small anonymous function.\n",
    "\n",
    "A lambda function can take any number of arguments, but can only have one expression.\n",
    "\n",
    "```python\n",
    "lambda arguments : expression\n",
    "```"
   ]
  },
  {
   "cell_type": "code",
   "execution_count": 62,
   "id": "f1caf6f4",
   "metadata": {},
   "outputs": [
    {
     "data": {
      "text/plain": [
       "13"
      ]
     },
     "execution_count": 62,
     "metadata": {},
     "output_type": "execute_result"
    }
   ],
   "source": [
    "x = lambda a : a + 10\n",
    "x(3)"
   ]
  },
  {
   "cell_type": "code",
   "execution_count": 63,
   "id": "50cea984",
   "metadata": {},
   "outputs": [
    {
     "data": {
      "text/plain": [
       "0.24197072451914337"
      ]
     },
     "execution_count": 63,
     "metadata": {},
     "output_type": "execute_result"
    }
   ],
   "source": [
    "gauss = lambda x : math.exp(-1/2*x**2)/math.sqrt(2*math.pi)\n",
    "gauss(1)"
   ]
  },
  {
   "cell_type": "markdown",
   "id": "76c0a40c",
   "metadata": {},
   "source": [
    "This works with several arguments, too:"
   ]
  },
  {
   "cell_type": "code",
   "execution_count": 64,
   "id": "e28dc84e",
   "metadata": {},
   "outputs": [
    {
     "data": {
      "text/plain": [
       "0.17603266338214976"
      ]
     },
     "execution_count": 64,
     "metadata": {},
     "output_type": "execute_result"
    }
   ],
   "source": [
    "gauss2 = lambda x, mu, sigma : math.exp(-1/2*((x - mu)/sigma)**2)/(sigma*math.sqrt(2*math.pi))\n",
    "gauss2(3, 2, 2)"
   ]
  },
  {
   "cell_type": "markdown",
   "id": "fb308594",
   "metadata": {},
   "source": [
    "**Exercise:** Write the same function as gauss3 in the function file -> functions.py"
   ]
  },
  {
   "cell_type": "code",
   "execution_count": 65,
   "id": "5da23ea9",
   "metadata": {},
   "outputs": [
    {
     "data": {
      "text/plain": [
       "0.17603266338214976"
      ]
     },
     "execution_count": 65,
     "metadata": {},
     "output_type": "execute_result"
    }
   ],
   "source": [
    "from functions import gauss3\n",
    "gauss3(3, 2, 2)"
   ]
  },
  {
   "cell_type": "markdown",
   "id": "0e37583b",
   "metadata": {},
   "source": [
    "## Vectors / arrays / Lists\n",
    "\n",
    "A **list** in Python is a collection of items which can contain elements of multiple data types, which may be either numeric, character logical values, etc. It is an ordered collection supporting negative indexing. A list can be created using [] containing data values.\n",
    "Contents of lists can be easily merged and copied using python’s inbuilt functions."
   ]
  },
  {
   "cell_type": "code",
   "execution_count": 66,
   "id": "a51de044",
   "metadata": {},
   "outputs": [
    {
     "data": {
      "text/plain": [
       "[1, 'Yash', ['a', 'e']]"
      ]
     },
     "execution_count": 66,
     "metadata": {},
     "output_type": "execute_result"
    }
   ],
   "source": [
    "sample_list = [1,\"Yash\",['a','e']]\n",
    "sample_list"
   ]
  },
  {
   "cell_type": "markdown",
   "id": "eb46ceaf",
   "metadata": {},
   "source": [
    "The first element is an integer, the second a string and the third is an list of characters.\n",
    "\n",
    "An **array** is a vector containing homogeneous elements i.e. belonging to the same data type. Elements are allocated with contiguous memory locations allowing easy modification, that is, addition, deletion, accessing of elements. In Python, we have to use the array module to declare arrays. If the elements of an array belong to different data types, an exception “Incompatible data types” is thrown.\n",
    "\n",
    "To use arrays in Python, you need to import either an array module or a NumPy package.\n",
    "\n",
    "The Python array module requires all array elements to be of the same type. Moreover, to create an array, you'll need to specify a value type. In the code below, the \"i\" signifies that all elements in sample_array_1 are integers:"
   ]
  },
  {
   "cell_type": "code",
   "execution_count": 67,
   "id": "6f959602",
   "metadata": {},
   "outputs": [
    {
     "name": "stdout",
     "output_type": "stream",
     "text": [
      "1\n",
      "2\n",
      "3\n"
     ]
    }
   ],
   "source": [
    "import array as arr\n",
    "  \n",
    "sample_array_1 = arr.array('i', [1, 2, 3])  \n",
    "  \n",
    "# accessing elements of array\n",
    "for i in sample_array_1:\n",
    "     print(i)"
   ]
  },
  {
   "cell_type": "markdown",
   "id": "7aaccf1f",
   "metadata": {},
   "source": [
    "On the other hand, NumPy arrays support different data types. To create a NumPy array, you only need to specify the items (enclosed in square brackets, of course):"
   ]
  },
  {
   "cell_type": "code",
   "execution_count": 68,
   "id": "5d6f2f08",
   "metadata": {},
   "outputs": [
    {
     "name": "stdout",
     "output_type": "stream",
     "text": [
      "['numbers' '3' '6' '9' '12']\n",
      "<class 'numpy.ndarray'>\n"
     ]
    }
   ],
   "source": [
    "import numpy as np\n",
    "\n",
    "sample_array_2 = np.array([\"numbers\", 3, 6, 9, 12])\n",
    "print (sample_array_2)\n",
    "print(type(sample_array_2))"
   ]
  },
  {
   "cell_type": "markdown",
   "id": "f5d2fc18",
   "metadata": {},
   "source": [
    "As you can see, sample_array_2 contains one item of the string type (i.e., \"numbers\") and four integers.\n",
    "\n",
    "Use NumPy to create a one-dimensional array:"
   ]
  },
  {
   "cell_type": "code",
   "execution_count": 69,
   "id": "0d842bad",
   "metadata": {},
   "outputs": [],
   "source": [
    "# Create a vector as a row\n",
    "vector_row = np.array([1, 2, 3])\n",
    "\n",
    "# Create a vector as a column\n",
    "vector_column = np.array([[1],\n",
    "                          [2],\n",
    "                          [3]])"
   ]
  },
  {
   "cell_type": "markdown",
   "id": "7d3dee81",
   "metadata": {},
   "source": [
    "NumPy’s main data structure is the multidimensional array. To create a vector, we simply create a one-dimensional array. Just like vectors, these arrays can be represented horizontally (i.e., rows) or vertically (i.e., columns).\n",
    "\n",
    "You need to create a **matrix**? Use NumPy to create a two-dimensional array:"
   ]
  },
  {
   "cell_type": "code",
   "execution_count": 70,
   "id": "ead95280",
   "metadata": {},
   "outputs": [
    {
     "data": {
      "text/plain": [
       "array([[1, 2],\n",
       "       [1, 2],\n",
       "       [1, 2]])"
      ]
     },
     "execution_count": 70,
     "metadata": {},
     "output_type": "execute_result"
    }
   ],
   "source": [
    "# Create a matrix\n",
    "matrix = np.array([[1, 2],\n",
    "                   [1, 2],\n",
    "                   [1, 2]])\n",
    "matrix"
   ]
  },
  {
   "cell_type": "markdown",
   "id": "6bf3ce63",
   "metadata": {},
   "source": [
    "To create a matrix we can use a NumPy two-dimensional array. In our solution, the matrix contains three rows and two columns (a column of 1s and a column of 2s).\n",
    "\n",
    "NumPy actually has a dedicated matrix data structure:"
   ]
  },
  {
   "cell_type": "code",
   "execution_count": 71,
   "id": "fe94bc32",
   "metadata": {},
   "outputs": [
    {
     "data": {
      "text/plain": [
       "matrix([[1, 2],\n",
       "        [1, 2],\n",
       "        [1, 2]])"
      ]
     },
     "execution_count": 71,
     "metadata": {},
     "output_type": "execute_result"
    }
   ],
   "source": [
    "matrix_object = np.mat([[1, 2],\n",
    "                        [1, 2],\n",
    "                        [1, 2]])\n",
    "matrix_object"
   ]
  },
  {
   "cell_type": "markdown",
   "id": "645c54b9",
   "metadata": {},
   "source": [
    "However, the matrix data structure is not recommended for two reasons. First, arrays are the de facto standard data structure of NumPy. Second, the vast majority of NumPy operations return arrays, not matrix objects.\n",
    "\n",
    "Arrays can be inserted into each other:"
   ]
  },
  {
   "cell_type": "code",
   "execution_count": 72,
   "id": "5a12c197",
   "metadata": {},
   "outputs": [
    {
     "data": {
      "text/plain": [
       "array([1, 2, 3, 4, 5])"
      ]
     },
     "execution_count": 72,
     "metadata": {},
     "output_type": "execute_result"
    }
   ],
   "source": [
    "a = [1, 2, 3]\n",
    "b = [4, 5]\n",
    "c = np.array(a + b)\n",
    "c"
   ]
  },
  {
   "cell_type": "markdown",
   "id": "e15bdf3c",
   "metadata": {},
   "source": [
    "Another way of defining vectors is to use range. Mind the order of arguments in the three-input version, though. And note that Python's range, unlike Matlab's :, doesn't include the upper limit. Also, depending on what you want to do later you may want to convert the result to a list\n",
    "\n",
    "```python\n",
    "range([start], stop[, step])\n",
    "```"
   ]
  },
  {
   "cell_type": "code",
   "execution_count": 73,
   "id": "d155ff66",
   "metadata": {},
   "outputs": [
    {
     "data": {
      "text/plain": [
       "range(0, 5)"
      ]
     },
     "execution_count": 73,
     "metadata": {},
     "output_type": "execute_result"
    }
   ],
   "source": [
    "range(0,5)"
   ]
  },
  {
   "cell_type": "markdown",
   "id": "4987c3bd",
   "metadata": {},
   "source": [
    "If you use vectorised computation, you should probably use numpy.arange"
   ]
  },
  {
   "cell_type": "code",
   "execution_count": 74,
   "id": "54274ebe",
   "metadata": {},
   "outputs": [
    {
     "data": {
      "text/plain": [
       "array([ 1,  2,  3,  4,  5,  6,  7,  8,  9, 10])"
      ]
     },
     "execution_count": 74,
     "metadata": {},
     "output_type": "execute_result"
    }
   ],
   "source": [
    "np.arange(1, 11)"
   ]
  },
  {
   "cell_type": "markdown",
   "id": "c9e15812",
   "metadata": {},
   "source": [
    "**Exercise:** Write the following vectors using the arange:\n",
    "- v1 = [-1, 3, 7, 11, 15]\n",
    "- v2 = [10, 8, 6, 4]"
   ]
  },
  {
   "cell_type": "code",
   "execution_count": 75,
   "id": "1a023cea",
   "metadata": {},
   "outputs": [
    {
     "data": {
      "text/plain": [
       "array([-1,  3,  7, 11, 15])"
      ]
     },
     "execution_count": 75,
     "metadata": {},
     "output_type": "execute_result"
    }
   ],
   "source": [
    "v1 = np.arange(-1,16,4)\n",
    "v1"
   ]
  },
  {
   "cell_type": "code",
   "execution_count": 76,
   "id": "fd72e5cb",
   "metadata": {},
   "outputs": [
    {
     "data": {
      "text/plain": [
       "array([10,  8,  6,  4])"
      ]
     },
     "execution_count": 76,
     "metadata": {},
     "output_type": "execute_result"
    }
   ],
   "source": [
    "v2 = np.arange(10, 3, -2)\n",
    "v2"
   ]
  },
  {
   "cell_type": "markdown",
   "id": "3034d894",
   "metadata": {},
   "source": [
    "A vector with a given number of equidistant elements can be created using:"
   ]
  },
  {
   "cell_type": "code",
   "execution_count": 77,
   "id": "2a94a539",
   "metadata": {},
   "outputs": [
    {
     "data": {
      "text/plain": [
       "array([2.  , 2.25, 2.5 , 2.75, 3.  ])"
      ]
     },
     "execution_count": 77,
     "metadata": {},
     "output_type": "execute_result"
    }
   ],
   "source": [
    "np.linspace(2.0, 3.0, num=5)"
   ]
  },
  {
   "cell_type": "markdown",
   "id": "1b939589",
   "metadata": {},
   "source": [
    "linspace is useful in order to plot functions"
   ]
  },
  {
   "cell_type": "code",
   "execution_count": 78,
   "id": "7f8f4890",
   "metadata": {},
   "outputs": [
    {
     "data": {
      "text/plain": [
       "[<matplotlib.lines.Line2D at 0x121f63a00>]"
      ]
     },
     "execution_count": 78,
     "metadata": {},
     "output_type": "execute_result"
    },
    {
     "data": {
      "image/png": "[encoded data removed]",
      "text/plain": [
       "<Figure size 432x288 with 1 Axes>"
      ]
     },
     "metadata": {
      "needs_background": "light"
     },
     "output_type": "display_data"
    }
   ],
   "source": [
    "import matplotlib.pyplot as plt\n",
    "x = np.linspace(0, 2*np.pi, 100)\n",
    "y = np.sin(x) # vector containing the sine of x, element by element\n",
    "plt.plot(x, y)\n",
    "plt.show()"
   ]
  },
  {
   "cell_type": "markdown",
   "id": "7ac09cdf",
   "metadata": {},
   "source": [
    "## Indexing\n",
    "\n",
    "Individual elements of a vector are referred to by putting the index in brackets:"
   ]
  },
  {
   "cell_type": "code",
   "execution_count": 79,
   "id": "062a4936",
   "metadata": {},
   "outputs": [
    {
     "data": {
      "text/plain": [
       "array([ 0,  1,  2,  3,  4,  5,  6,  7,  8,  9, 10])"
      ]
     },
     "execution_count": 79,
     "metadata": {},
     "output_type": "execute_result"
    }
   ],
   "source": [
    "x = np.arange(0,11)\n",
    "x"
   ]
  },
  {
   "cell_type": "code",
   "execution_count": 80,
   "id": "ccb4f37a",
   "metadata": {},
   "outputs": [
    {
     "data": {
      "text/plain": [
       "3"
      ]
     },
     "execution_count": 80,
     "metadata": {},
     "output_type": "execute_result"
    }
   ],
   "source": [
    "x[3]  # returns the element with index 3 (counting from 0)"
   ]
  },
  {
   "cell_type": "markdown",
   "id": "6f62e540",
   "metadata": {},
   "source": [
    "The basic slice syntax is i:j:k where i is the starting index, j is the stopping index, and k is the step"
   ]
  },
  {
   "cell_type": "code",
   "execution_count": 81,
   "id": "3a89b122",
   "metadata": {},
   "outputs": [
    {
     "data": {
      "text/plain": [
       "array([1, 3, 5])"
      ]
     },
     "execution_count": 81,
     "metadata": {},
     "output_type": "execute_result"
    }
   ],
   "source": [
    "x[1:7:2]"
   ]
  },
  {
   "cell_type": "markdown",
   "id": "c021eb49",
   "metadata": {},
   "source": [
    "Negative i and j are interpreted as n + i and n + j where n is the number of elements in the corresponding dimension. Negative k makes stepping go towards smaller indices."
   ]
  },
  {
   "cell_type": "code",
   "execution_count": 82,
   "id": "665a771c",
   "metadata": {},
   "outputs": [
    {
     "data": {
      "text/plain": [
       "array([ 9, 10])"
      ]
     },
     "execution_count": 82,
     "metadata": {},
     "output_type": "execute_result"
    }
   ],
   "source": [
    "x[-2:11]"
   ]
  },
  {
   "cell_type": "code",
   "execution_count": 83,
   "id": "9d2f2dcb",
   "metadata": {},
   "outputs": [
    {
     "data": {
      "text/plain": [
       "array([8, 7, 6, 5, 4])"
      ]
     },
     "execution_count": 83,
     "metadata": {},
     "output_type": "execute_result"
    }
   ],
   "source": [
    "x[-3:3:-1]"
   ]
  },
  {
   "cell_type": "markdown",
   "id": "8097a72f",
   "metadata": {},
   "source": [
    "Assume n is the number of elements in the dimension being sliced. Then, if i is not given it defaults to 0 for k > 0 and n - 1 for k < 0 . If j is not given it defaults to n for k > 0 and -n-1 for k < 0 . If k is not given it defaults to 1. Note that :: is the same as : and means select all indices along this axis."
   ]
  },
  {
   "cell_type": "code",
   "execution_count": 84,
   "id": "e5c9948d",
   "metadata": {},
   "outputs": [
    {
     "data": {
      "text/plain": [
       "array([ 5,  6,  7,  8,  9, 10])"
      ]
     },
     "execution_count": 84,
     "metadata": {},
     "output_type": "execute_result"
    }
   ],
   "source": [
    "x[5:]"
   ]
  },
  {
   "cell_type": "markdown",
   "id": "82364b76",
   "metadata": {},
   "source": [
    "## Array operators\n",
    "\n",
    "In order to multiply, divide or exponentiate two vectors elementwise, the operators * / ** must be used:"
   ]
  },
  {
   "cell_type": "code",
   "execution_count": 85,
   "id": "a3e860dc",
   "metadata": {},
   "outputs": [],
   "source": [
    "a = np.array([2, 4])\n",
    "b = np.array([1, 2])"
   ]
  },
  {
   "cell_type": "code",
   "execution_count": 86,
   "id": "4194da19",
   "metadata": {},
   "outputs": [
    {
     "data": {
      "text/plain": [
       "array([2, 8])"
      ]
     },
     "execution_count": 86,
     "metadata": {},
     "output_type": "execute_result"
    }
   ],
   "source": [
    "a * b"
   ]
  },
  {
   "cell_type": "code",
   "execution_count": 87,
   "id": "56c4595e",
   "metadata": {},
   "outputs": [
    {
     "data": {
      "text/plain": [
       "array([2., 2.])"
      ]
     },
     "execution_count": 87,
     "metadata": {},
     "output_type": "execute_result"
    }
   ],
   "source": [
    "a / b "
   ]
  },
  {
   "cell_type": "code",
   "execution_count": 88,
   "id": "314bd648",
   "metadata": {},
   "outputs": [
    {
     "data": {
      "text/plain": [
       "array([ 2, 16])"
      ]
     },
     "execution_count": 88,
     "metadata": {},
     "output_type": "execute_result"
    }
   ],
   "source": [
    "a ** b "
   ]
  },
  {
   "cell_type": "markdown",
   "id": "b7944f3b",
   "metadata": {},
   "source": [
    "Note that * denotes the elementwise product in Python, not the matrix product!\n",
    "\n",
    "Adding and Subtracting as well as multiplication by a scalar goes as follows:"
   ]
  },
  {
   "cell_type": "code",
   "execution_count": 89,
   "id": "fba3aedf",
   "metadata": {},
   "outputs": [
    {
     "data": {
      "text/plain": [
       "array([-1,  3])"
      ]
     },
     "execution_count": 89,
     "metadata": {},
     "output_type": "execute_result"
    }
   ],
   "source": [
    "np.array([1, 2]) - np.array([2, -1])"
   ]
  },
  {
   "cell_type": "code",
   "execution_count": 90,
   "id": "4e2c7b84",
   "metadata": {},
   "outputs": [
    {
     "data": {
      "text/plain": [
       "array([2, 3])"
      ]
     },
     "execution_count": 90,
     "metadata": {},
     "output_type": "execute_result"
    }
   ],
   "source": [
    "np.array([1, 2]) + 1"
   ]
  },
  {
   "cell_type": "code",
   "execution_count": 91,
   "id": "dc1b782a",
   "metadata": {},
   "outputs": [
    {
     "data": {
      "text/plain": [
       "array([2, 4])"
      ]
     },
     "execution_count": 91,
     "metadata": {},
     "output_type": "execute_result"
    }
   ],
   "source": [
    "2*np.array([1, 2])"
   ]
  },
  {
   "cell_type": "markdown",
   "id": "992a076e",
   "metadata": {},
   "source": [
    "Further useful array functions are:"
   ]
  },
  {
   "cell_type": "code",
   "execution_count": 92,
   "id": "25096a1b",
   "metadata": {},
   "outputs": [
    {
     "data": {
      "text/plain": [
       "3"
      ]
     },
     "execution_count": 92,
     "metadata": {},
     "output_type": "execute_result"
    }
   ],
   "source": [
    "np.array([1, 2]).sum()  # sum of elements"
   ]
  },
  {
   "cell_type": "code",
   "execution_count": 93,
   "id": "97273d00",
   "metadata": {},
   "outputs": [
    {
     "data": {
      "text/plain": [
       "2"
      ]
     },
     "execution_count": 93,
     "metadata": {},
     "output_type": "execute_result"
    }
   ],
   "source": [
    "np.array([1, 2]).size   # number of elements"
   ]
  },
  {
   "cell_type": "code",
   "execution_count": 94,
   "id": "ce7e9687",
   "metadata": {},
   "outputs": [
    {
     "data": {
      "text/plain": [
       "1.5"
      ]
     },
     "execution_count": 94,
     "metadata": {},
     "output_type": "execute_result"
    }
   ],
   "source": [
    "np.array([1, 2]).mean() # mean"
   ]
  },
  {
   "cell_type": "markdown",
   "id": "007fe684",
   "metadata": {},
   "source": [
    "**Exercise:** Write a function angle that computes the angle (in degrees) between two vectors *a* and *b* -> functions.py\n",
    "\n",
    "Its derived form the definition of the [dot product](https://en.wikipedia.org/wiki/Dot_product):\n",
    "$$\\angle\\left(\\vec{a}, \\vec{b}\\right)=\\arccos\\left(\\frac{\\left(\\vec{a}\\cdot\\vec{b}\\right)}{||\\vec{a}||*||\\vec{b}||}\\right)$$"
   ]
  },
  {
   "cell_type": "code",
   "execution_count": 95,
   "id": "0ac96cb4",
   "metadata": {},
   "outputs": [
    {
     "data": {
      "text/plain": [
       "2.1073424255447017e-08"
      ]
     },
     "execution_count": 95,
     "metadata": {},
     "output_type": "execute_result"
    }
   ],
   "source": [
    "from functions import angle\n",
    "angle(a,b)"
   ]
  },
  {
   "cell_type": "markdown",
   "id": "39b55d4f",
   "metadata": {},
   "source": [
    "Arrays can be passed to functions, e.g. imagine a bank with several customers and compute their interest using your function interest1."
   ]
  },
  {
   "cell_type": "code",
   "execution_count": 96,
   "id": "1b6975bb",
   "metadata": {},
   "outputs": [
    {
     "data": {
      "text/plain": [
       "array([1002.00180096, 2004.00360192, 3006.00540288, 4008.00720384])"
      ]
     },
     "execution_count": 96,
     "metadata": {},
     "output_type": "execute_result"
    }
   ],
   "source": [
    "B = np.array([1000, 2000, 3000, 4000])\n",
    "interest1(B, 0.02, 10)"
   ]
  },
  {
   "cell_type": "markdown",
   "id": "f0c71d8f",
   "metadata": {},
   "source": [
    "Suppose you want to plot the normal distribution using our function gauss3:"
   ]
  },
  {
   "cell_type": "code",
   "execution_count": 97,
   "id": "4037f201",
   "metadata": {},
   "outputs": [],
   "source": [
    "x = np.linspace(-4, 4, 100) \n",
    "# y = gauss3(x, 0, 1)\n",
    "#!cat scripts/functions.py"
   ]
  },
  {
   "cell_type": "markdown",
   "id": "617550a9",
   "metadata": {},
   "source": [
    "This won't work because the exponentiation needs to be an array operator! The corrected/\"vectorized\" function can be found in gauss4:"
   ]
  },
  {
   "cell_type": "code",
   "execution_count": 98,
   "id": "6b322ab7",
   "metadata": {},
   "outputs": [
    {
     "data": {
      "text/plain": [
       "[<matplotlib.lines.Line2D at 0x122067f10>]"
      ]
     },
     "execution_count": 98,
     "metadata": {},
     "output_type": "execute_result"
    },
    {
     "data": {
      "image/png": "[encoded data removed]",
      "text/plain": [
       "<Figure size 432x288 with 1 Axes>"
      ]
     },
     "metadata": {
      "needs_background": "light"
     },
     "output_type": "display_data"
    }
   ],
   "source": [
    "from functions import gauss4\n",
    "y = gauss4(x, 0, 1)\n",
    "plt.plot(x, y)\n",
    "plt.show()"
   ]
  },
  {
   "cell_type": "markdown",
   "id": "c4f66d84",
   "metadata": {},
   "source": [
    "## Creating matrices\n",
    "\n",
    "You can pass Python lists of lists to create a 2-D array (or “matrix”) to represent them in NumPy."
   ]
  },
  {
   "cell_type": "code",
   "execution_count": 99,
   "id": "bba59738",
   "metadata": {},
   "outputs": [
    {
     "data": {
      "text/plain": [
       "array([[1, 2, 3],\n",
       "       [4, 5, 6]])"
      ]
     },
     "execution_count": 99,
     "metadata": {},
     "output_type": "execute_result"
    }
   ],
   "source": [
    "A = np.array([[1, 2, 3], [4, 5, 6]])\n",
    "A"
   ]
  },
  {
   "cell_type": "markdown",
   "id": "331e112e",
   "metadata": {},
   "source": [
    "Indices are passed in square brackets, first the row index, than the column index:"
   ]
  },
  {
   "cell_type": "code",
   "execution_count": 100,
   "id": "0ddda025",
   "metadata": {},
   "outputs": [
    {
     "data": {
      "text/plain": [
       "6"
      ]
     },
     "execution_count": 100,
     "metadata": {},
     "output_type": "execute_result"
    }
   ],
   "source": [
    "A[1,2]"
   ]
  },
  {
   "cell_type": "markdown",
   "id": "c511fa79",
   "metadata": {},
   "source": [
    "A colon stands for the entire index range, e.g."
   ]
  },
  {
   "cell_type": "code",
   "execution_count": 101,
   "id": "9e544e50",
   "metadata": {},
   "outputs": [
    {
     "data": {
      "text/plain": [
       "array([1, 4])"
      ]
     },
     "execution_count": 101,
     "metadata": {},
     "output_type": "execute_result"
    }
   ],
   "source": [
    "A[:,0]"
   ]
  },
  {
   "cell_type": "markdown",
   "id": "e263349a",
   "metadata": {},
   "source": [
    "**Exercise:** Swap the first and second rows of A"
   ]
  },
  {
   "cell_type": "code",
   "execution_count": 102,
   "id": "8580cc1c",
   "metadata": {},
   "outputs": [
    {
     "data": {
      "text/plain": [
       "array([[4, 5, 6],\n",
       "       [1, 2, 3]])"
      ]
     },
     "execution_count": 102,
     "metadata": {},
     "output_type": "execute_result"
    }
   ],
   "source": [
    "A[[0,1],:] = A[[1,0],:]\n",
    "A"
   ]
  },
  {
   "cell_type": "markdown",
   "id": "979fc6ef",
   "metadata": {},
   "source": [
    "The transpose of a matrix is obtained by:"
   ]
  },
  {
   "cell_type": "code",
   "execution_count": 103,
   "id": "9c97e9e3",
   "metadata": {},
   "outputs": [
    {
     "data": {
      "text/plain": [
       "array([[1, 4],\n",
       "       [2, 5],\n",
       "       [3, 6]])"
      ]
     },
     "execution_count": 103,
     "metadata": {},
     "output_type": "execute_result"
    }
   ],
   "source": [
    "A = np.array([[1, 2, 3], [4, 5, 6]])\n",
    "A.T   # or transpose()"
   ]
  },
  {
   "cell_type": "markdown",
   "id": "b3b1fefe",
   "metadata": {},
   "source": [
    "This can be used to generate column vectors:"
   ]
  },
  {
   "cell_type": "code",
   "execution_count": 104,
   "id": "e6b3bd33",
   "metadata": {},
   "outputs": [
    {
     "data": {
      "text/plain": [
       "array([1, 3, 5])"
      ]
     },
     "execution_count": 104,
     "metadata": {},
     "output_type": "execute_result"
    }
   ],
   "source": [
    "x = np.array([1, 3, 5])\n",
    "x.T"
   ]
  },
  {
   "cell_type": "markdown",
   "id": "63422020",
   "metadata": {},
   "source": [
    "Invoking x.T is not transposing the array, or transposing a 1D array is still a 1D array! \n",
    "\n",
    "If you want to turn your 1D vector into a 2D array and then transpose it, just slice it with np.newaxis (or None, they're the same, newaxis is just more readable)."
   ]
  },
  {
   "cell_type": "code",
   "execution_count": 105,
   "id": "2d91641c",
   "metadata": {},
   "outputs": [
    {
     "data": {
      "text/plain": [
       "array([[1, 3, 5]])"
      ]
     },
     "execution_count": 105,
     "metadata": {},
     "output_type": "execute_result"
    }
   ],
   "source": [
    "x = x[np.newaxis]\n",
    "x"
   ]
  },
  {
   "cell_type": "code",
   "execution_count": 106,
   "id": "8869fe22",
   "metadata": {},
   "outputs": [
    {
     "data": {
      "text/plain": [
       "array([[1],\n",
       "       [3],\n",
       "       [5]])"
      ]
     },
     "execution_count": 106,
     "metadata": {},
     "output_type": "execute_result"
    }
   ],
   "source": [
    "x.T"
   ]
  },
  {
   "cell_type": "markdown",
   "id": "bee21e35",
   "metadata": {},
   "source": [
    "You don't ever need to worry about this. Numpy will automatically broadcast a 1D array when doing various calculations. There's usually no need to distinguish between a row vector and a column vector in 1d. (Neither of which is a vector. They're both live in 2D!)"
   ]
  },
  {
   "cell_type": "markdown",
   "id": "921715f1",
   "metadata": {},
   "source": [
    "A matrix (2d array) may be built by stacking 1d arrays, e.g."
   ]
  },
  {
   "cell_type": "code",
   "execution_count": 107,
   "id": "4fbc69cb",
   "metadata": {},
   "outputs": [
    {
     "data": {
      "text/plain": [
       "array([[1, 2, 3],\n",
       "       [4, 5, 6]])"
      ]
     },
     "execution_count": 107,
     "metadata": {},
     "output_type": "execute_result"
    }
   ],
   "source": [
    "a = np.array([1, 2, 3])\n",
    "b = np.array([4, 5, 6])\n",
    "np.stack([a, b], axis=0)"
   ]
  },
  {
   "cell_type": "code",
   "execution_count": 108,
   "id": "c6605d77",
   "metadata": {},
   "outputs": [
    {
     "data": {
      "text/plain": [
       "array([[1, 4],\n",
       "       [2, 5],\n",
       "       [3, 6]])"
      ]
     },
     "execution_count": 108,
     "metadata": {},
     "output_type": "execute_result"
    }
   ],
   "source": [
    "np.stack([a, b], axis=1)"
   ]
  },
  {
   "cell_type": "markdown",
   "id": "bc094e61",
   "metadata": {},
   "source": [
    "For the matrix product, use the dot() function of NumPy. It takes only 2 arguments and returns the product of two matrices."
   ]
  },
  {
   "cell_type": "code",
   "execution_count": 109,
   "id": "2732ce8e",
   "metadata": {},
   "outputs": [
    {
     "data": {
      "text/plain": [
       "array([2, 1])"
      ]
     },
     "execution_count": 109,
     "metadata": {},
     "output_type": "execute_result"
    }
   ],
   "source": [
    "A = np.array([[0, 1], [1, 0]])\n",
    "b = np.array([1, 2])\n",
    "np.dot(A,b)"
   ]
  },
  {
   "cell_type": "markdown",
   "id": "61b3d40d",
   "metadata": {},
   "source": [
    "You see, no transposition needed! If you insist on getting a 2d array, just give two matrices (2d arrays) to the funktion."
   ]
  },
  {
   "cell_type": "code",
   "execution_count": 110,
   "id": "d10cdfba",
   "metadata": {},
   "outputs": [
    {
     "data": {
      "text/plain": [
       "array([[2],\n",
       "       [1]])"
      ]
     },
     "execution_count": 110,
     "metadata": {},
     "output_type": "execute_result"
    }
   ],
   "source": [
    "np.dot(A,b[np.newaxis].T)"
   ]
  },
  {
   "cell_type": "markdown",
   "id": "27526b7c",
   "metadata": {},
   "source": [
    "Similarly to 1d arrays, operators are elementwise operators for 2d arrays. Note the difference to matrix power:"
   ]
  },
  {
   "cell_type": "code",
   "execution_count": 111,
   "id": "1ac8620c",
   "metadata": {},
   "outputs": [
    {
     "data": {
      "text/plain": [
       "array([[0, 1],\n",
       "       [1, 0]])"
      ]
     },
     "execution_count": 111,
     "metadata": {},
     "output_type": "execute_result"
    }
   ],
   "source": [
    "A = np.array([[0, 1], [1, 0]])\n",
    "A"
   ]
  },
  {
   "cell_type": "code",
   "execution_count": 112,
   "id": "26edd0a9",
   "metadata": {},
   "outputs": [
    {
     "data": {
      "text/plain": [
       "array([[0, 1],\n",
       "       [1, 0]])"
      ]
     },
     "execution_count": 112,
     "metadata": {},
     "output_type": "execute_result"
    }
   ],
   "source": [
    "A**2"
   ]
  },
  {
   "cell_type": "code",
   "execution_count": 113,
   "id": "8e87238d",
   "metadata": {},
   "outputs": [
    {
     "data": {
      "text/plain": [
       "array([[1, 0],\n",
       "       [0, 1]])"
      ]
     },
     "execution_count": 113,
     "metadata": {},
     "output_type": "execute_result"
    }
   ],
   "source": [
    "np.dot(A,A)"
   ]
  },
  {
   "cell_type": "code",
   "execution_count": 114,
   "id": "254cac37",
   "metadata": {},
   "outputs": [
    {
     "data": {
      "text/plain": [
       "array([[1, 0],\n",
       "       [0, 1]])"
      ]
     },
     "execution_count": 114,
     "metadata": {},
     "output_type": "execute_result"
    }
   ],
   "source": [
    "np.linalg.matrix_power(A,2)"
   ]
  },
  {
   "cell_type": "markdown",
   "id": "b56bc056",
   "metadata": {},
   "source": [
    "Once you know this, you can make the Gauss4 function much more compact!"
   ]
  },
  {
   "cell_type": "code",
   "execution_count": 115,
   "id": "4f8640d7",
   "metadata": {},
   "outputs": [],
   "source": [
    "np.matmul?"
   ]
  },
  {
   "cell_type": "code",
   "execution_count": null,
   "id": "0c004634",
   "metadata": {},
   "outputs": [],
   "source": []
  }
 ],
 "metadata": {
  "kernelspec": {
   "display_name": "Python 3 (ipykernel)",
   "language": "python",
   "name": "python3"
  },
  "language_info": {
   "codemirror_mode": {
    "name": "ipython",
    "version": 3
   },
   "file_extension": ".py",
   "mimetype": "text/x-python",
   "name": "python",
   "nbconvert_exporter": "python",
   "pygments_lexer": "ipython3",
   "version": "3.9.7"
  },
  "latex_envs": {
   "LaTeX_envs_menu_present": true,
   "autoclose": false,
   "autocomplete": true,
   "bibliofile": "biblio.bib",
   "cite_by": "apalike",
   "current_citInitial": 1,
   "eqLabelWithNumbers": true,
   "eqNumInitial": 1,
   "hotkeys": {
    "equation": "Ctrl-E",
    "itemize": "Ctrl-I"
   },
   "labels_anchors": false,
   "latex_user_defs": false,
   "report_style_numbering": true,
   "user_envs_cfg": false
  }
 },
 "nbformat": 4,
 "nbformat_minor": 5
}
