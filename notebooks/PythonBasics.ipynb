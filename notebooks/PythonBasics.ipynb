{
 "cells": [
  {
   "cell_type": "markdown",
   "id": "c609b5c3",
   "metadata": {},
   "source": [
    "# Python basics\n",
    "\n",
    "Install Python on your own computer.\n",
    "\n",
    "Run jupyter notebook. Familiarize yourself with the main elements of the GUI."
   ]
  },
  {
   "cell_type": "markdown",
   "id": "7c1edb56",
   "metadata": {},
   "source": [
    "## Python as a pocket calculator"
   ]
  },
  {
   "cell_type": "code",
   "execution_count": 1,
   "id": "30c8f304",
   "metadata": {},
   "outputs": [
    {
     "data": {
      "text/plain": [
       "5"
      ]
     },
     "execution_count": 1,
     "metadata": {},
     "output_type": "execute_result"
    }
   ],
   "source": [
    "2 + 3"
   ]
  },
  {
   "cell_type": "code",
   "execution_count": 2,
   "id": "c3368fac",
   "metadata": {},
   "outputs": [
    {
     "data": {
      "text/plain": [
       "6"
      ]
     },
     "execution_count": 2,
     "metadata": {},
     "output_type": "execute_result"
    }
   ],
   "source": [
    "2*3"
   ]
  },
  {
   "cell_type": "code",
   "execution_count": 3,
   "id": "b142c7b6",
   "metadata": {},
   "outputs": [
    {
     "data": {
      "text/plain": [
       "0.6666666666666666"
      ]
     },
     "execution_count": 3,
     "metadata": {},
     "output_type": "execute_result"
    }
   ],
   "source": [
    "2/3  # real (not integer) division"
   ]
  },
  {
   "cell_type": "code",
   "execution_count": 4,
   "id": "6cc2991e",
   "metadata": {},
   "outputs": [
    {
     "data": {
      "text/plain": [
       "8"
      ]
     },
     "execution_count": 4,
     "metadata": {},
     "output_type": "execute_result"
    }
   ],
   "source": [
    "2**3"
   ]
  },
  {
   "cell_type": "markdown",
   "id": "6ae2a4d2",
   "metadata": {},
   "source": [
    "Python’s math module, in the standard library, can help you work on math-related problems in code. It contains many useful functions, such as remainder() and factorial(). It also includes the Python square root function, sqrt()."
   ]
  },
  {
   "cell_type": "code",
   "execution_count": 7,
   "id": "94baba28",
   "metadata": {},
   "outputs": [
    {
     "data": {
      "text/plain": [
       "1.4142135623730951"
      ]
     },
     "execution_count": 7,
     "metadata": {},
     "output_type": "execute_result"
    }
   ],
   "source": [
    "import math\n",
    "math.sqrt(2)"
   ]
  },
  {
   "cell_type": "code",
   "execution_count": 8,
   "id": "59c6d5a0",
   "metadata": {},
   "outputs": [
    {
     "data": {
      "text/plain": [
       "3.141592653589793"
      ]
     },
     "execution_count": 8,
     "metadata": {},
     "output_type": "execute_result"
    }
   ],
   "source": [
    "math.pi  # this is a permanent (predefined) variable"
   ]
  },
  {
   "cell_type": "code",
   "execution_count": 9,
   "id": "952d432b",
   "metadata": {},
   "outputs": [
    {
     "data": {
      "text/plain": [
       "1.0"
      ]
     },
     "execution_count": 9,
     "metadata": {},
     "output_type": "execute_result"
    }
   ],
   "source": [
    "math.sin(math.pi/2)"
   ]
  },
  {
   "cell_type": "markdown",
   "id": "8d6a8f03",
   "metadata": {},
   "source": [
    "To obtain help on a certain function, you can use"
   ]
  },
  {
   "cell_type": "code",
   "execution_count": 12,
   "id": "2439327a",
   "metadata": {},
   "outputs": [],
   "source": [
    "?math.sin"
   ]
  },
  {
   "cell_type": "code",
   "execution_count": 15,
   "id": "675cb099",
   "metadata": {},
   "outputs": [],
   "source": [
    " math.sin?"
   ]
  },
  {
   "cell_type": "markdown",
   "id": "cbdb53d8",
   "metadata": {},
   "source": [
    "## Operator precedence\n",
    "\n",
    "From Python documentation on [operator precedence](http://docs.python.org/reference/expressions.html)\n",
    "\n",
    "1. Parentheses (grouping)\n",
    "2. Exponentiation $**$\n",
    "3. Multiplication, division, remainder $*, /, \\%$\n",
    "4. Addition, subtraction\n",
    "\n",
    "Note that expressions are always evaluated from left to right!\n",
    "\n",
    "Examples: Try to guess the results first without using Python:"
   ]
  },
  {
   "cell_type": "code",
   "execution_count": 17,
   "id": "fa8b6249",
   "metadata": {},
   "outputs": [
    {
     "data": {
      "text/plain": [
       "7"
      ]
     },
     "execution_count": 17,
     "metadata": {},
     "output_type": "execute_result"
    }
   ],
   "source": [
    "1 + 2 * 3"
   ]
  },
  {
   "cell_type": "code",
   "execution_count": 18,
   "id": "a4f8d885",
   "metadata": {},
   "outputs": [
    {
     "data": {
      "text/plain": [
       "4.0"
      ]
     },
     "execution_count": 18,
     "metadata": {},
     "output_type": "execute_result"
    }
   ],
   "source": [
    "4 / 2 * 2"
   ]
  },
  {
   "cell_type": "code",
   "execution_count": 19,
   "id": "c5052cbd",
   "metadata": {},
   "outputs": [
    {
     "data": {
      "text/plain": [
       "16"
      ]
     },
     "execution_count": 19,
     "metadata": {},
     "output_type": "execute_result"
    }
   ],
   "source": [
    "2 * 2 ** 3"
   ]
  },
  {
   "cell_type": "code",
   "execution_count": 25,
   "id": "812ccaee",
   "metadata": {},
   "outputs": [
    {
     "data": {
      "text/plain": [
       "64"
      ]
     },
     "execution_count": 25,
     "metadata": {},
     "output_type": "execute_result"
    }
   ],
   "source": [
    "(2 ** 2) ** 3"
   ]
  },
  {
   "cell_type": "code",
   "execution_count": 22,
   "id": "a235d890",
   "metadata": {},
   "outputs": [
    {
     "data": {
      "text/plain": [
       "2.6666666666666665"
      ]
     },
     "execution_count": 22,
     "metadata": {},
     "output_type": "execute_result"
    }
   ],
   "source": [
    "2 ** (1 + 2) / 3"
   ]
  },
  {
   "cell_type": "markdown",
   "id": "2ea14530",
   "metadata": {},
   "source": [
    "Now the other way around - type the following mathematical expressions in Python:\n",
    "\n",
    "$$\\frac{1}{2*3}$$"
   ]
  },
  {
   "cell_type": "code",
   "execution_count": null,
   "id": "ea9ab21b",
   "metadata": {},
   "outputs": [],
   "source": []
  },
  {
   "cell_type": "markdown",
   "id": "2aa03624",
   "metadata": {},
   "source": [
    "$$\\left(2^{2}\\right)^{3}$$"
   ]
  },
  {
   "cell_type": "code",
   "execution_count": null,
   "id": "61db9644",
   "metadata": {},
   "outputs": [],
   "source": []
  },
  {
   "cell_type": "markdown",
   "id": "a4c746b7",
   "metadata": {},
   "source": [
    "$${2^{2}}^{2}$$"
   ]
  },
  {
   "cell_type": "code",
   "execution_count": null,
   "id": "d3abf104",
   "metadata": {},
   "outputs": [],
   "source": []
  },
  {
   "cell_type": "markdown",
   "id": "7b084b38",
   "metadata": {},
   "source": [
    "## Representation of numbers in Python\n",
    "\n",
    "Python includes three numeric types to represent numbers: integers, float, and complex number."
   ]
  },
  {
   "cell_type": "markdown",
   "id": "4ec64b99",
   "metadata": {},
   "source": [
    "### Int\n",
    "\n",
    "In Python, integers are zero, positive or negative whole numbers without a fractional part and having unlimited precision, e.g. 0, 100, -10. The followings are valid integer literals in Python."
   ]
  },
  {
   "cell_type": "code",
   "execution_count": 27,
   "id": "85798a88",
   "metadata": {},
   "outputs": [
    {
     "data": {
      "text/plain": [
       "0"
      ]
     },
     "execution_count": 27,
     "metadata": {},
     "output_type": "execute_result"
    }
   ],
   "source": [
    "0"
   ]
  },
  {
   "cell_type": "code",
   "execution_count": 28,
   "id": "ce8c6b5b",
   "metadata": {},
   "outputs": [
    {
     "data": {
      "text/plain": [
       "100"
      ]
     },
     "execution_count": 28,
     "metadata": {},
     "output_type": "execute_result"
    }
   ],
   "source": [
    "100"
   ]
  },
  {
   "cell_type": "code",
   "execution_count": 29,
   "id": "313bb744",
   "metadata": {},
   "outputs": [
    {
     "data": {
      "text/plain": [
       "-10"
      ]
     },
     "execution_count": 29,
     "metadata": {},
     "output_type": "execute_result"
    }
   ],
   "source": [
    "-10"
   ]
  },
  {
   "cell_type": "code",
   "execution_count": 30,
   "id": "e4827b0d",
   "metadata": {},
   "outputs": [
    {
     "data": {
      "text/plain": [
       "1234567890"
      ]
     },
     "execution_count": 30,
     "metadata": {},
     "output_type": "execute_result"
    }
   ],
   "source": [
    "1234567890"
   ]
  },
  {
   "cell_type": "code",
   "execution_count": 32,
   "id": "bf2b8355",
   "metadata": {},
   "outputs": [
    {
     "data": {
      "text/plain": [
       "5000000000000000000000000000000000000000000000000000000"
      ]
     },
     "execution_count": 32,
     "metadata": {},
     "output_type": "execute_result"
    }
   ],
   "source": [
    "y=5000000000000000000000000000000000000000000000000000000\n",
    "y"
   ]
  },
  {
   "cell_type": "markdown",
   "id": "bcefc6f7",
   "metadata": {},
   "source": [
    "Integers can be binary, octal, and hexadecimal values."
   ]
  },
  {
   "cell_type": "code",
   "execution_count": 33,
   "id": "8b2068e1",
   "metadata": {},
   "outputs": [
    {
     "data": {
      "text/plain": [
       "216"
      ]
     },
     "execution_count": 33,
     "metadata": {},
     "output_type": "execute_result"
    }
   ],
   "source": [
    "0b11011000 # binary"
   ]
  },
  {
   "cell_type": "code",
   "execution_count": 34,
   "id": "acd9164f",
   "metadata": {},
   "outputs": [
    {
     "data": {
      "text/plain": [
       "10"
      ]
     },
     "execution_count": 34,
     "metadata": {},
     "output_type": "execute_result"
    }
   ],
   "source": [
    "0o12 # octal"
   ]
  },
  {
   "cell_type": "code",
   "execution_count": 35,
   "id": "2fe7a761",
   "metadata": {},
   "outputs": [
    {
     "data": {
      "text/plain": [
       "18"
      ]
     },
     "execution_count": 35,
     "metadata": {},
     "output_type": "execute_result"
    }
   ],
   "source": [
    "0x12 # hexadecimal"
   ]
  },
  {
   "cell_type": "markdown",
   "id": "d1815df0",
   "metadata": {},
   "source": [
    "All integers literals or variables are objects of the int class. Use the type() method to get the class name, as shown below."
   ]
  },
  {
   "cell_type": "code",
   "execution_count": 36,
   "id": "04e0d75e",
   "metadata": {},
   "outputs": [
    {
     "data": {
      "text/plain": [
       "int"
      ]
     },
     "execution_count": 36,
     "metadata": {},
     "output_type": "execute_result"
    }
   ],
   "source": [
    "type(100)"
   ]
  },
  {
   "cell_type": "code",
   "execution_count": 37,
   "id": "449d3bf4",
   "metadata": {},
   "outputs": [
    {
     "data": {
      "text/plain": [
       "int"
      ]
     },
     "execution_count": 37,
     "metadata": {},
     "output_type": "execute_result"
    }
   ],
   "source": [
    "x=1234567890\n",
    "type(x)"
   ]
  },
  {
   "cell_type": "code",
   "execution_count": 38,
   "id": "bf82526f",
   "metadata": {},
   "outputs": [
    {
     "data": {
      "text/plain": [
       "int"
      ]
     },
     "execution_count": 38,
     "metadata": {},
     "output_type": "execute_result"
    }
   ],
   "source": [
    "type(y)"
   ]
  },
  {
   "cell_type": "markdown",
   "id": "7e75700c",
   "metadata": {},
   "source": [
    "Leading zeros in non-zero integers are not allowed e.g. 000123 is invalid number, 0000 is 0."
   ]
  },
  {
   "cell_type": "code",
   "execution_count": 39,
   "id": "37c6d14e",
   "metadata": {},
   "outputs": [
    {
     "ename": "SyntaxError",
     "evalue": "leading zeros in decimal integer literals are not permitted; use an 0o prefix for octal integers (3636360402.py, line 1)",
     "output_type": "error",
     "traceback": [
      "\u001b[0;36m  File \u001b[0;32m\"/var/folders/pm/rzz1mdws3zl2q1vvnk17zcyh0000gn/T/ipykernel_69844/3636360402.py\"\u001b[0;36m, line \u001b[0;32m1\u001b[0m\n\u001b[0;31m    x=01234567890\u001b[0m\n\u001b[0m                ^\u001b[0m\n\u001b[0;31mSyntaxError\u001b[0m\u001b[0;31m:\u001b[0m leading zeros in decimal integer literals are not permitted; use an 0o prefix for octal integers\n"
     ]
    }
   ],
   "source": [
    "x=01234567890"
   ]
  },
  {
   "cell_type": "markdown",
   "id": "67276c99",
   "metadata": {},
   "source": [
    "Python does not allow comma as number delimiter. Use underscore _ as a delimiter instead."
   ]
  },
  {
   "cell_type": "code",
   "execution_count": 40,
   "id": "0c6eb094",
   "metadata": {},
   "outputs": [
    {
     "data": {
      "text/plain": [
       "1234567890"
      ]
     },
     "execution_count": 40,
     "metadata": {},
     "output_type": "execute_result"
    }
   ],
   "source": [
    "x=1_234_567_890\n",
    "x"
   ]
  },
  {
   "cell_type": "markdown",
   "id": "2bde8bbe",
   "metadata": {},
   "source": [
    "Note that integers must be without a fractional part (decimal point). It it includes a fractional then it becomes a float."
   ]
  },
  {
   "cell_type": "code",
   "execution_count": 41,
   "id": "4da2fcda",
   "metadata": {},
   "outputs": [
    {
     "data": {
      "text/plain": [
       "int"
      ]
     },
     "execution_count": 41,
     "metadata": {},
     "output_type": "execute_result"
    }
   ],
   "source": [
    "x=5\n",
    "type(x)"
   ]
  },
  {
   "cell_type": "code",
   "execution_count": 42,
   "id": "92d98926",
   "metadata": {},
   "outputs": [
    {
     "data": {
      "text/plain": [
       "float"
      ]
     },
     "execution_count": 42,
     "metadata": {},
     "output_type": "execute_result"
    }
   ],
   "source": [
    "x=5.0\n",
    "type(x)"
   ]
  },
  {
   "cell_type": "markdown",
   "id": "1828ed4e",
   "metadata": {},
   "source": [
    "#### Binary\n",
    "\n",
    "A Number having 0b with eight digits in the combination of 0 and 1 represent the binary numbers in Python. For example, 0b11011000 is a binary number equivalent to integer 216."
   ]
  },
  {
   "cell_type": "code",
   "execution_count": 43,
   "id": "fd83b1cf",
   "metadata": {},
   "outputs": [
    {
     "data": {
      "text/plain": [
       "216"
      ]
     },
     "execution_count": 43,
     "metadata": {},
     "output_type": "execute_result"
    }
   ],
   "source": [
    "x=0b11011000\n",
    "x"
   ]
  },
  {
   "cell_type": "code",
   "execution_count": 44,
   "id": "d2dfb3b2",
   "metadata": {},
   "outputs": [
    {
     "data": {
      "text/plain": [
       "216"
      ]
     },
     "execution_count": 44,
     "metadata": {},
     "output_type": "execute_result"
    }
   ],
   "source": [
    "x=0b_1101_1000\n",
    "x"
   ]
  },
  {
   "cell_type": "code",
   "execution_count": 45,
   "id": "85023a29",
   "metadata": {},
   "outputs": [
    {
     "data": {
      "text/plain": [
       "int"
      ]
     },
     "execution_count": 45,
     "metadata": {},
     "output_type": "execute_result"
    }
   ],
   "source": [
    "type(x)"
   ]
  },
  {
   "cell_type": "markdown",
   "id": "a92f370b",
   "metadata": {},
   "source": [
    "#### Octal\n",
    "\n",
    "A number having 0o or 0O as prefix represents an octal number. For example, 0O12 is equivalent to integer 10."
   ]
  },
  {
   "cell_type": "code",
   "execution_count": 46,
   "id": "94b1bacc",
   "metadata": {},
   "outputs": [
    {
     "data": {
      "text/plain": [
       "10"
      ]
     },
     "execution_count": 46,
     "metadata": {},
     "output_type": "execute_result"
    }
   ],
   "source": [
    "x=0o12\n",
    "x"
   ]
  },
  {
   "cell_type": "code",
   "execution_count": 47,
   "id": "dd9b666a",
   "metadata": {},
   "outputs": [
    {
     "data": {
      "text/plain": [
       "int"
      ]
     },
     "execution_count": 47,
     "metadata": {},
     "output_type": "execute_result"
    }
   ],
   "source": [
    "type(x)"
   ]
  },
  {
   "cell_type": "markdown",
   "id": "92f14e11",
   "metadata": {},
   "source": [
    "### Hexadecimal\n",
    "\n",
    "A number with 0x or 0X as prefix represents hexadecimal number. For example, 0x12 is equivalent to integer 18."
   ]
  },
  {
   "cell_type": "code",
   "execution_count": 48,
   "id": "16411bf8",
   "metadata": {},
   "outputs": [
    {
     "data": {
      "text/plain": [
       "18"
      ]
     },
     "execution_count": 48,
     "metadata": {},
     "output_type": "execute_result"
    }
   ],
   "source": [
    "x=0x12\n",
    "x"
   ]
  },
  {
   "cell_type": "code",
   "execution_count": 49,
   "id": "c6f7f886",
   "metadata": {},
   "outputs": [
    {
     "data": {
      "text/plain": [
       "int"
      ]
     },
     "execution_count": 49,
     "metadata": {},
     "output_type": "execute_result"
    }
   ],
   "source": [
    "type(x)"
   ]
  },
  {
   "cell_type": "markdown",
   "id": "8148ae6b",
   "metadata": {},
   "source": [
    "### Float\n",
    "\n",
    "In Python,  floating point numbers (float) are positive and negative real numbers with a fractional part denoted by the decimal symbol . or the scientific notation E or e, e.g. 1234.56, 3.142, -1.55, 0.23."
   ]
  },
  {
   "cell_type": "code",
   "execution_count": 51,
   "id": "fd0c569c",
   "metadata": {},
   "outputs": [
    {
     "data": {
      "text/plain": [
       "1.2"
      ]
     },
     "execution_count": 51,
     "metadata": {},
     "output_type": "execute_result"
    }
   ],
   "source": [
    "f=1.2\n",
    "f"
   ]
  },
  {
   "cell_type": "code",
   "execution_count": 52,
   "id": "733078aa",
   "metadata": {},
   "outputs": [
    {
     "data": {
      "text/plain": [
       "float"
      ]
     },
     "execution_count": 52,
     "metadata": {},
     "output_type": "execute_result"
    }
   ],
   "source": [
    "type(f)"
   ]
  },
  {
   "cell_type": "markdown",
   "id": "deb2ce95",
   "metadata": {},
   "source": [
    "Floats can be separated by the underscore _, e.g. 123_42.222_013 is a valid float."
   ]
  },
  {
   "cell_type": "code",
   "execution_count": 53,
   "id": "4ca0d26a",
   "metadata": {},
   "outputs": [
    {
     "data": {
      "text/plain": [
       "12342.222013"
      ]
     },
     "execution_count": 53,
     "metadata": {},
     "output_type": "execute_result"
    }
   ],
   "source": [
    "f=123_42.222_013\n",
    "f"
   ]
  },
  {
   "cell_type": "markdown",
   "id": "9ef28a18",
   "metadata": {},
   "source": [
    "The maximum size depends on your system. The float beyond its maximum size referred as \"inf\", \"Inf\", \"INFINITY\", or \"infinity\". Float 2e400 will be considered as infinity for most systems."
   ]
  },
  {
   "cell_type": "code",
   "execution_count": 54,
   "id": "1ddeba63",
   "metadata": {},
   "outputs": [
    {
     "data": {
      "text/plain": [
       "inf"
      ]
     },
     "execution_count": 54,
     "metadata": {},
     "output_type": "execute_result"
    }
   ],
   "source": [
    "f=2e400\n",
    "f"
   ]
  },
  {
   "cell_type": "markdown",
   "id": "23a7f0f4",
   "metadata": {},
   "source": [
    "Scientific notation is used as a short representation to express floats having many digits. For example: 345.56789 is represented as 3.4556789e2 or 3.4556789E2"
   ]
  },
  {
   "cell_type": "code",
   "execution_count": 55,
   "id": "0f292068",
   "metadata": {},
   "outputs": [
    {
     "data": {
      "text/plain": [
       "1000.0"
      ]
     },
     "execution_count": 55,
     "metadata": {},
     "output_type": "execute_result"
    }
   ],
   "source": [
    "f=1e3\n",
    "f"
   ]
  },
  {
   "cell_type": "code",
   "execution_count": 56,
   "id": "d08ac26e",
   "metadata": {},
   "outputs": [
    {
     "data": {
      "text/plain": [
       "100000.0"
      ]
     },
     "execution_count": 56,
     "metadata": {},
     "output_type": "execute_result"
    }
   ],
   "source": [
    "f=1e5\n",
    "f"
   ]
  },
  {
   "cell_type": "code",
   "execution_count": 57,
   "id": "d25f1a00",
   "metadata": {},
   "outputs": [
    {
     "data": {
      "text/plain": [
       "345.56789"
      ]
     },
     "execution_count": 57,
     "metadata": {},
     "output_type": "execute_result"
    }
   ],
   "source": [
    "f=3.4556789e2\n",
    "f"
   ]
  },
  {
   "cell_type": "markdown",
   "id": "a4b749ec",
   "metadata": {},
   "source": [
    "Use the float() function to convert string, int to float."
   ]
  },
  {
   "cell_type": "code",
   "execution_count": 58,
   "id": "d30873f7",
   "metadata": {},
   "outputs": [
    {
     "data": {
      "text/plain": [
       "5.5"
      ]
     },
     "execution_count": 58,
     "metadata": {},
     "output_type": "execute_result"
    }
   ],
   "source": [
    "float('5.5')"
   ]
  },
  {
   "cell_type": "code",
   "execution_count": 59,
   "id": "a7661b1b",
   "metadata": {},
   "outputs": [
    {
     "data": {
      "text/plain": [
       "5.0"
      ]
     },
     "execution_count": 59,
     "metadata": {},
     "output_type": "execute_result"
    }
   ],
   "source": [
    "float('5')"
   ]
  },
  {
   "cell_type": "code",
   "execution_count": 60,
   "id": "54a93da9",
   "metadata": {},
   "outputs": [
    {
     "data": {
      "text/plain": [
       "-5.0"
      ]
     },
     "execution_count": 60,
     "metadata": {},
     "output_type": "execute_result"
    }
   ],
   "source": [
    "float('     -5')"
   ]
  },
  {
   "cell_type": "code",
   "execution_count": 61,
   "id": "f13c8d58",
   "metadata": {},
   "outputs": [
    {
     "data": {
      "text/plain": [
       "1000.0"
      ]
     },
     "execution_count": 61,
     "metadata": {},
     "output_type": "execute_result"
    }
   ],
   "source": [
    "float('1e3')"
   ]
  },
  {
   "cell_type": "code",
   "execution_count": 62,
   "id": "b8011c77",
   "metadata": {},
   "outputs": [
    {
     "data": {
      "text/plain": [
       "-inf"
      ]
     },
     "execution_count": 62,
     "metadata": {},
     "output_type": "execute_result"
    }
   ],
   "source": [
    "float('-Infinity')"
   ]
  },
  {
   "cell_type": "code",
   "execution_count": 63,
   "id": "ef5ee543",
   "metadata": {},
   "outputs": [
    {
     "data": {
      "text/plain": [
       "inf"
      ]
     },
     "execution_count": 63,
     "metadata": {},
     "output_type": "execute_result"
    }
   ],
   "source": [
    "float('inf')"
   ]
  },
  {
   "cell_type": "markdown",
   "id": "d594fd3e",
   "metadata": {},
   "source": [
    "### Complex Numbers\n",
    "\n",
    "A complex number is a number with real and imaginary components. For example, 5 + 6j is a complex number where 5 is the real component and 6 multiplied by j is an imaginary component"
   ]
  },
  {
   "cell_type": "code",
   "execution_count": 64,
   "id": "2a127324",
   "metadata": {},
   "outputs": [
    {
     "data": {
      "text/plain": [
       "(5+2j)"
      ]
     },
     "execution_count": 64,
     "metadata": {},
     "output_type": "execute_result"
    }
   ],
   "source": [
    "a=5+2j\n",
    "a"
   ]
  },
  {
   "cell_type": "code",
   "execution_count": 65,
   "id": "2ba26c71",
   "metadata": {},
   "outputs": [
    {
     "data": {
      "text/plain": [
       "complex"
      ]
     },
     "execution_count": 65,
     "metadata": {},
     "output_type": "execute_result"
    }
   ],
   "source": [
    "type(a)"
   ]
  },
  {
   "cell_type": "markdown",
   "id": "e8643666",
   "metadata": {},
   "source": [
    "You must use j or J as imaginary component. Using other character will throw syntax error."
   ]
  },
  {
   "cell_type": "code",
   "execution_count": 66,
   "id": "a743086b",
   "metadata": {},
   "outputs": [
    {
     "ename": "SyntaxError",
     "evalue": "invalid syntax (336981122.py, line 1)",
     "output_type": "error",
     "traceback": [
      "\u001b[0;36m  File \u001b[0;32m\"/var/folders/pm/rzz1mdws3zl2q1vvnk17zcyh0000gn/T/ipykernel_69844/336981122.py\"\u001b[0;36m, line \u001b[0;32m1\u001b[0m\n\u001b[0;31m    a=5+2k\u001b[0m\n\u001b[0m         ^\u001b[0m\n\u001b[0;31mSyntaxError\u001b[0m\u001b[0;31m:\u001b[0m invalid syntax\n"
     ]
    }
   ],
   "source": [
    "a=5+2k"
   ]
  },
  {
   "cell_type": "code",
   "execution_count": null,
   "id": "8372b162",
   "metadata": {},
   "outputs": [],
   "source": []
  }
 ],
 "metadata": {
  "kernelspec": {
   "display_name": "Python 3 (ipykernel)",
   "language": "python",
   "name": "python3"
  },
  "language_info": {
   "codemirror_mode": {
    "name": "ipython",
    "version": 3
   },
   "file_extension": ".py",
   "mimetype": "text/x-python",
   "name": "python",
   "nbconvert_exporter": "python",
   "pygments_lexer": "ipython3",
   "version": "3.9.7"
  }
 },
 "nbformat": 4,
 "nbformat_minor": 5
}
