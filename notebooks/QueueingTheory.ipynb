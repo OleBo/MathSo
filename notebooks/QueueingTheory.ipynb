{
 "cells": [
  {
   "cell_type": "markdown",
   "id": "5be5e3cc",
   "metadata": {},
   "source": [
    "# Queueing theory\n",
    "[Queueing theory](https://en.wikipedia.org/wiki/Queueing_theory) is the mathematical study of waiting lines."
   ]
  },
  {
   "cell_type": "markdown",
   "id": "67e71153",
   "metadata": {},
   "source": [
    "## M/M/1 queue\n",
    "The [M/M/1 queue](https://en.wikipedia.org/wiki/M/M/1_queue) is a simple model where a single server serves jobs that arrive according to a Poisson process (where inter-arrival durations are exponentially distributed) and have exponentially distributed service times (the M denotes a Markov process).\n",
    "\n",
    "M/M/1 has the following characteristics:\n",
    "- λ: the arrival rate\n",
    "- μ: the reciprocal of the mean service time\n",
    "- n: the parameter characterizing the number of customers in the system\n",
    "- Pn: the probability of there being n customers in the system in steady state.\n",
    "\n",
    "#### balance equations\n",
    "$$\\mu P_1 = \\lambda P_0$$\n",
    "$$\\lambda P_0 + \\mu P_2 = (\\lambda + \\mu)P_1$$\n",
    "$$\\lambda P_{n-1} + \\mu P_{n+1} = (\\lambda + \\mu)P_n$$\n",
    "\n",
    "imply \n",
    "\n",
    "$$P_n = \\frac{\\lambda}{\\mu}P_{n-1}, n=1,2,\\dots$$\n",
    "\n",
    "The fact that $P_{0}+P_{1}+\\cdots =1$ leads to the [geometric distribution](https://en.wikipedia.org/wiki/Geometric_distribution) formula\n",
    "\n",
    "$$P_n=(1-\\rho)\\rho^2$$\n",
    "\n",
    "where $\\rho=\\frac{\\lambda}{\\mu}<1$"
   ]
  },
  {
   "cell_type": "markdown",
   "id": "09f34cc3",
   "metadata": {},
   "source": [
    "### Exersise:\n",
    "\n",
    " People wait in front of a ticket counter.\n",
    "    The time until the next customer arrives\n",
    "    shall be an exponential probability distribution with expected value\n",
    "    $\\lambda$,\n",
    "    \\[f_\\lambda(x) = \\frac{1}{\\lambda} \\exp \\left(- \\frac{x}{\\lambda} \\right) \\]\n",
    "(research the Python function `np.random.exponential`) and is independent of the history and all other parameters.\n",
    "    The time that the person at the counter needs to process a ticket request should also be exponentially distributed, with the expected value $\\mu$.\n",
    "    Once the ticket has been issued, the customer leaves the waiting area.\n",
    "\n",
    "Simulate the number of people waiting as a function of time,\n",
    "    by viewing the system as a chain of random events.\n",
    "    The time and type (arrival or departure of customers) of the next\n",
    "    You determine the event with the help of random numbers.\n",
    "    Experiment with different values of $\\lambda$ and $\\mu$.\n",
    "\n",
    "The operator wants to make the waiting time easier for customers by setting up chairs.\n",
    "    He would like to know how many are needed.\n",
    "    To do this, determine the mean number of people waiting in line over a long simulation period.\n",
    "    Repeat for different values of $ \\lambda$ and $\\mu$.   "
   ]
  },
  {
   "cell_type": "code",
   "execution_count": 1,
   "id": "f2e91a6f",
   "metadata": {},
   "outputs": [],
   "source": [
    "import numpy as np\n",
    "import csv"
   ]
  },
  {
   "cell_type": "code",
   "execution_count": 2,
   "id": "003e9666",
   "metadata": {},
   "outputs": [],
   "source": [
    "#Class Kunde definieren\n",
    "class Kunde:\n",
    "    def __init__(self,t_ankunft,t_bedienstart,t_bedienduration):\n",
    "        self.t_ankunft = t_ankunft\n",
    "        self.t_bedienstart = t_bedienstart\n",
    "        self.t_bedienduration = t_bedienduration\n",
    "        self.t_bedienende = self.t_bedienstart + self.t_bedienduration\n",
    "        self.wait = self.t_bedienstart - self.t_ankunft"
   ]
  },
  {
   "cell_type": "code",
   "execution_count": 3,
   "id": "9b81a669",
   "metadata": {},
   "outputs": [],
   "source": [
    "#Lambda und Mu generieren\n",
    "def generate_interarrival(lambd):\n",
    "    return np.random.exponential(1/lambd)\n",
    "def generate_service(mu):\n",
    "    return np.random.exponential(1/mu)\n"
   ]
  },
  {
   "cell_type": "code",
   "execution_count": 4,
   "id": "84a3b330",
   "metadata": {},
   "outputs": [],
   "source": [
    "#Leere Vektor um Kundeninfo zu speichern\n",
    "Kunden = []"
   ]
  },
  {
   "cell_type": "code",
   "execution_count": 5,
   "id": "850a9d18",
   "metadata": {},
   "outputs": [],
   "source": [
    "def Warteschlangesim(lambd=int,mu=int,simulation_time=int):\n",
    "\n",
    "    global t_ankunft\n",
    "\n",
    "    #Initialisieren Zeit\n",
    "    t=0\n",
    "\n",
    "    #while-Schleife für Simulation:\n",
    "    while t < simulation_time:\n",
    "\n",
    "        #Ankunftzeit und Bedienzeit berechnen für neue Kunde\n",
    "        if len(Kunden)==0:\n",
    "            t_ankunft = generate_interarrival(lambd)\n",
    "            t_bedienstart = t_ankunft\n",
    "        else:\n",
    "            t_ankunft += generate_interarrival(lambd)\n",
    "            t_bedienstart = max(t_ankunft,Kunden[-1].t_bedienende)\n",
    "        t_bedienduration = generate_service(mu)\n",
    "\n",
    "        #Neue Kunde erstellen\n",
    "        Kunden.append(Kunde(t_ankunft,t_bedienstart,t_bedienduration))\n",
    "\n",
    "        #Zeitschrittweite bis nächste Bedienende\n",
    "        t = t_ankunft\n",
    "\n",
    "\n",
    "    # Statistik berechnen\n",
    "    Waits = [a.wait for a in Kunden]          #Wartezeit\n",
    "    Mean_Wait = sum(Waits)/len(Waits)         #mittlere Wartezeit\n",
    "\n",
    "    Total_Times = [a.wait+a.t_bedienduration for a in Kunden]         #Verweilzeit\n",
    "    Mean_Time = sum(Total_Times)/len(Total_Times)                     #mittlere Verweilzeit\n",
    "\n",
    "    Service_Times = [a.t_bedienduration for a in Kunden]              #Bediendauern\n",
    "    Mean_Service_Time = sum(Service_Times)/len(Service_Times)         #mittlere Bediendauern\n",
    "\n",
    "    Auslastung = sum(Service_Times)/t\n",
    "\n",
    "    Mean_PeopleinQueue = Auslastung**2 / (1 - Auslastung)           #mittlere Anzahl Personen in Warteraum\n",
    "\n",
    "    # output auf Console zeigen\n",
    "    print(\"Ergebnis:\")\n",
    "    print(\"Anzahl der Kunden: \", len(Kunden))\n",
    "    print(\"Mittlere Bediendauern: \", Mean_Service_Time)\n",
    "    print(\"Mittlere Wartezeit: \", Mean_Wait)\n",
    "    print(\"Mittlere Verweilzeit: \", Mean_Time)\n",
    "    print(\"Auslastung: \", Auslastung)\n",
    "    print(\"benötigte Plätze: \", Mean_PeopleinQueue)"
   ]
  },
  {
   "cell_type": "code",
   "execution_count": 6,
   "id": "6f5f0e47",
   "metadata": {},
   "outputs": [
    {
     "name": "stdout",
     "output_type": "stream",
     "text": [
      "Ergebnis:\n",
      "Anzahl der Kunden:  299\n",
      "Mittlere Bediendauern:  0.2553474910396014\n",
      "Mittlere Wartezeit:  0.47178823929540825\n",
      "Mittlere Verweilzeit:  0.7271357303350099\n",
      "Auslastung:  0.7627171411468172\n",
      "benötigte Plätze:  2.4516622912029233\n",
      "None\n",
      "Ergebnis:\n",
      "Anzahl der Kunden:  300\n",
      "Mittlere Bediendauern:  0.2563480683944794\n",
      "Mittlere Wartezeit:  0.47874399999516165\n",
      "Mittlere Verweilzeit:  0.7350920683896413\n",
      "Auslastung:  0.7676593484138132\n",
      "benötigte Plätze:  2.536365768039172\n",
      "None\n",
      "Ergebnis:\n",
      "Anzahl der Kunden:  301\n",
      "Mittlere Bediendauern:  0.25562846653364285\n",
      "Mittlere Wartezeit:  0.48742826740768214\n",
      "Mittlere Verweilzeit:  0.7430567339413252\n",
      "Auslastung:  0.7678926254918363\n",
      "benötigte Plätze:  2.540458206182528\n",
      "None\n"
     ]
    }
   ],
   "source": [
    "np.random.seed(0)                       #damit das Ergebnis gleichbleibend ist\n",
    "print(Warteschlangesim(3,4,100))\n",
    "print(Warteschlangesim(6,7,100))\n",
    "print(Warteschlangesim(9,10,100))\n"
   ]
  },
  {
   "cell_type": "code",
   "execution_count": null,
   "id": "f3011612",
   "metadata": {},
   "outputs": [],
   "source": []
  },
  {
   "cell_type": "markdown",
   "id": "a67bb43e",
   "metadata": {},
   "source": [
    "## M/G/1 queue\n",
    "The [M/G/1 queue](https://en.wikipedia.org/wiki/M/G/1_queue), the G stands for \"general\" and indicates an arbitrary probability distribution for service times."
   ]
  },
  {
   "cell_type": "code",
   "execution_count": null,
   "id": "70b1a126",
   "metadata": {},
   "outputs": [],
   "source": []
  }
 ],
 "metadata": {
  "kernelspec": {
   "display_name": "Python 3.9.7 (math-so)",
   "language": "python",
   "name": "math-so"
  },
  "language_info": {
   "codemirror_mode": {
    "name": "ipython",
    "version": 3
   },
   "file_extension": ".py",
   "mimetype": "text/x-python",
   "name": "python",
   "nbconvert_exporter": "python",
   "pygments_lexer": "ipython3",
   "version": "3.9.7"
  },
  "latex_envs": {
   "LaTeX_envs_menu_present": true,
   "autoclose": false,
   "autocomplete": true,
   "bibliofile": "biblio.bib",
   "cite_by": "apalike",
   "current_citInitial": 1,
   "eqLabelWithNumbers": true,
   "eqNumInitial": 1,
   "hotkeys": {
    "equation": "Ctrl-E",
    "itemize": "Ctrl-I"
   },
   "labels_anchors": false,
   "latex_user_defs": false,
   "report_style_numbering": true,
   "user_envs_cfg": false
  }
 },
 "nbformat": 4,
 "nbformat_minor": 5
}
