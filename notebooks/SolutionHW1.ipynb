{
 "cells": [
  {
   "cell_type": "markdown",
   "id": "fd540691",
   "metadata": {},
   "source": [
    "# Homework 1\n",
    "\n",
    "Give the appropriate Python code and the numerical result for each of the following expressions:\n",
    "\n",
    "$2^{3^2}$"
   ]
  },
  {
   "cell_type": "code",
   "execution_count": 1,
   "id": "edbb0465",
   "metadata": {},
   "outputs": [
    {
     "data": {
      "text/plain": [
       "512"
      ]
     },
     "execution_count": 1,
     "metadata": {},
     "output_type": "execute_result"
    }
   ],
   "source": [
    "2**3**2 "
   ]
  },
  {
   "cell_type": "markdown",
   "id": "a414856d",
   "metadata": {},
   "source": [
    "$\\frac{3}{\\sqrt{2\\pi}}$"
   ]
  },
  {
   "cell_type": "code",
   "execution_count": 2,
   "id": "33e2146e",
   "metadata": {},
   "outputs": [
    {
     "data": {
      "text/plain": [
       "1.1968268412042982"
      ]
     },
     "execution_count": 2,
     "metadata": {},
     "output_type": "execute_result"
    }
   ],
   "source": [
    "import math\n",
    "3/math.sqrt(2*math.pi)"
   ]
  },
  {
   "cell_type": "markdown",
   "id": "0d0b5210",
   "metadata": {},
   "source": [
    "$1-\\frac{1}{1-2*10^{-8}}$\n",
    "\n",
    "(use the floating point representation / verwenden Sie die Gleitkommadarstellung)"
   ]
  },
  {
   "cell_type": "code",
   "execution_count": 3,
   "id": "b5cde7ef",
   "metadata": {},
   "outputs": [
    {
     "data": {
      "text/plain": [
       "-2.000000032253979e-08"
      ]
     },
     "execution_count": 3,
     "metadata": {},
     "output_type": "execute_result"
    }
   ],
   "source": [
    "1 - 1/(1 - 2e-8)"
   ]
  },
  {
   "cell_type": "markdown",
   "id": "7b9b7cfb",
   "metadata": {},
   "source": [
    "$\\sqrt[3]{4}$"
   ]
  },
  {
   "cell_type": "code",
   "execution_count": 4,
   "id": "bd3747ea",
   "metadata": {},
   "outputs": [
    {
     "data": {
      "text/plain": [
       "1.5874010519681994"
      ]
     },
     "execution_count": 4,
     "metadata": {},
     "output_type": "execute_result"
    }
   ],
   "source": [
    "4**(1/3)"
   ]
  },
  {
   "cell_type": "code",
   "execution_count": 5,
   "id": "61dc89ea",
   "metadata": {},
   "outputs": [
    {
     "data": {
      "text/plain": [
       "1.5874010519681994"
      ]
     },
     "execution_count": 5,
     "metadata": {},
     "output_type": "execute_result"
    }
   ],
   "source": [
    "math.exp(math.log(4)/3)"
   ]
  },
  {
   "cell_type": "markdown",
   "id": "9efab16d",
   "metadata": {},
   "source": [
    "the inverse hyperbolic tangent of / den inversen Tangens Hyperbolicus von 0.5 (use Python Help to find the name of the function / benutzen Sie die Python-Hilfe, um den Namen der Funktion zu suchen)"
   ]
  },
  {
   "cell_type": "code",
   "execution_count": 6,
   "id": "6a946a38",
   "metadata": {},
   "outputs": [
    {
     "data": {
      "text/plain": [
       "0.5493061443340549"
      ]
     },
     "execution_count": 6,
     "metadata": {},
     "output_type": "execute_result"
    }
   ],
   "source": [
    "math.atanh(.5)"
   ]
  },
  {
   "cell_type": "code",
   "execution_count": null,
   "id": "e3200078",
   "metadata": {},
   "outputs": [],
   "source": []
  }
 ],
 "metadata": {
  "kernelspec": {
   "display_name": "math-so-rqA8CpC9-py3.9",
   "language": "python",
   "name": "math-so-rqa8cpc9-py3.9"
  },
  "language_info": {
   "codemirror_mode": {
    "name": "ipython",
    "version": 3
   },
   "file_extension": ".py",
   "mimetype": "text/x-python",
   "name": "python",
   "nbconvert_exporter": "python",
   "pygments_lexer": "ipython3",
   "version": "3.9.7"
  }
 },
 "nbformat": 4,
 "nbformat_minor": 5
}
