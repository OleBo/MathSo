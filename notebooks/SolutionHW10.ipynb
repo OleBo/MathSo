{
 "cells": [
  {
   "cell_type": "markdown",
   "id": "ddbe581a",
   "metadata": {},
   "source": [
    "[![Open In Binder](https://static.mybinder.org/badge_logo.svg)](https://mybinder.org/v2/gh/OleBo/MathSo/main?filepath=/notebooks/SolutionHW10.ipynb)"
   ]
  },
  {
   "cell_type": "markdown",
   "id": "a0510d5b",
   "metadata": {},
   "source": [
    "[![Open In Colab](https://colab.research.google.com/assets/colab-badge.svg)](https://colab.research.google.com/github/OleBo/MathSo/blob/main/notebooks/SolutionHW10.ipynb)\n",
    "\n",
    "\n",
    "[browse](http://colab.research.google.com/github/OleBo/MathSo/)"
   ]
  },
  {
   "cell_type": "code",
   "execution_count": 1,
   "id": "deb451da",
   "metadata": {},
   "outputs": [],
   "source": [
    "import math\n",
    "import matplotlib.pyplot as plt\n",
    "import numpy as np"
   ]
  },
  {
   "cell_type": "markdown",
   "id": "cdcd6880",
   "metadata": {},
   "source": [
    "# Solution HW 10"
   ]
  },
  {
   "cell_type": "code",
   "execution_count": 2,
   "id": "c35fef3f",
   "metadata": {},
   "outputs": [],
   "source": [
    "def goldsectmin(f, a, b, tol):\n",
    "    \"\"\"\n",
    "    GOLDSECTMIN finds a minimum of the function f in the interval [a,b]\n",
    "    using the golden section method\n",
    "    \"\"\"\n",
    "    l = (-1 + math.sqrt(5))/2 # ratio of the golden section\n",
    "    x1 = l*a + (1-l)*b        # 1st intermediate point\n",
    "    x2 = (1-l)*a + l*b        # 2nd intermediate point\n",
    "    f1 = f(x1)\n",
    "    f2 = f(x2)\n",
    "\n",
    "    while abs(b - a) > tol:\n",
    "        if f1 > f2:\n",
    "            a = x1\n",
    "            x1 = x2\n",
    "            f1 = f2\n",
    "            x2 = (1-l)*a + l*b\n",
    "            f2 = f(x2)\n",
    "        else:\n",
    "            b = x2\n",
    "            x2 = x1\n",
    "            f2 = f1\n",
    "            x1 = l*a + (1-l)*b\n",
    "            f1 = f(x1)\n",
    "    return x1"
   ]
  },
  {
   "cell_type": "markdown",
   "id": "e55757f0",
   "metadata": {},
   "source": [
    "## optimization problem:\n",
    "Suppose everyone has a fixed number of heartbeats available in their life. Let $x$ be the proportion of the time that the person spends in sporting activities. During sport, the heart beats at 120 beats per minute, when resting $g(x)$ beats per minute, whereby $g(0) = 80$ for untrained people, and $g(x)$ quickly falls for larger $x$ to $50$, e.g."
   ]
  },
  {
   "cell_type": "code",
   "execution_count": 3,
   "id": "e231003e",
   "metadata": {},
   "outputs": [],
   "source": [
    "g = lambda x: 50 + 30*np.exp(-100*x)"
   ]
  },
  {
   "cell_type": "markdown",
   "id": "93dadf84",
   "metadata": {},
   "source": [
    "The average number $f(x)$ of heartbeats per minute is thus"
   ]
  },
  {
   "cell_type": "code",
   "execution_count": 4,
   "id": "e208be82",
   "metadata": {},
   "outputs": [],
   "source": [
    "f = lambda x: 120* x + g(x) * (1 - x)"
   ]
  },
  {
   "cell_type": "markdown",
   "id": "abe069ee",
   "metadata": {},
   "source": [
    "How many minutes of exercise per day should you do to keep your average heart rate as low as possible? So find the minimum of $f(x)$ using the above algorithm."
   ]
  },
  {
   "cell_type": "code",
   "execution_count": 5,
   "id": "ab05eebd",
   "metadata": {},
   "outputs": [
    {
     "name": "stdout",
     "output_type": "stream",
     "text": [
      "The optimal exersise time is 53.71458937808303 minutes per day.\n"
     ]
    },
    {
     "data": {
      "text/plain": [
       "0.03730179817922433"
      ]
     },
     "execution_count": 5,
     "metadata": {},
     "output_type": "execute_result"
    }
   ],
   "source": [
    "x_min = goldsectmin(f, 0, 1, 1e-6)\n",
    "print(f\"The optimal exersise time is {x_min*24*60} minutes per day.\")\n",
    "x_min"
   ]
  },
  {
   "cell_type": "code",
   "execution_count": 6,
   "id": "bf73431a",
   "metadata": {},
   "outputs": [
    {
     "data": {
      "image/png": "[encoded data removed]",
      "text/plain": [
       "<Figure size 432x288 with 1 Axes>"
      ]
     },
     "metadata": {
      "needs_background": "light"
     },
     "output_type": "display_data"
    }
   ],
   "source": [
    "x = np.linspace(0, .2, 200)\n",
    "fig, ax = plt.subplots()\n",
    "ax.plot(x, f(x))\n",
    "ax.scatter(x_min, f(x_min))\n",
    "ax.set(xlabel='proportion of the time in sporting activities $x$', ylabel='heart beats per minute $f(x)$')\n",
    "ax.set_title('optimal exersise');"
   ]
  },
  {
   "cell_type": "code",
   "execution_count": null,
   "id": "a4d28d1b",
   "metadata": {},
   "outputs": [],
   "source": []
  }
 ],
 "metadata": {
  "kernelspec": {
   "display_name": "Python 3.9.7 (math-so)",
   "language": "python",
   "name": "math-so"
  },
  "language_info": {
   "codemirror_mode": {
    "name": "ipython",
    "version": 3
   },
   "file_extension": ".py",
   "mimetype": "text/x-python",
   "name": "python",
   "nbconvert_exporter": "python",
   "pygments_lexer": "ipython3",
   "version": "3.9.7"
  },
  "latex_envs": {
   "LaTeX_envs_menu_present": true,
   "autoclose": false,
   "autocomplete": true,
   "bibliofile": "biblio.bib",
   "cite_by": "apalike",
   "current_citInitial": 1,
   "eqLabelWithNumbers": true,
   "eqNumInitial": 1,
   "hotkeys": {
    "equation": "Ctrl-E",
    "itemize": "Ctrl-I"
   },
   "labels_anchors": false,
   "latex_user_defs": false,
   "report_style_numbering": true,
   "user_envs_cfg": false
  }
 },
 "nbformat": 4,
 "nbformat_minor": 5
}
