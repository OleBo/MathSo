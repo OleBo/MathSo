{
 "cells": [
  {
   "cell_type": "markdown",
   "id": "ddbe581a",
   "metadata": {},
   "source": [
    "[![Open In Binder](https://static.mybinder.org/badge_logo.svg)](https://mybinder.org/v2/gh/OleBo/MathSo/main?filepath=/notebooks/SolutionHW11.ipynb)"
   ]
  },
  {
   "cell_type": "markdown",
   "id": "a0510d5b",
   "metadata": {},
   "source": [
    "[![Open In Colab](https://colab.research.google.com/assets/colab-badge.svg)](https://colab.research.google.com/github/OleBo/MathSo/blob/main/notebooks/SolutionHW11.ipynb)\n",
    "\n",
    "\n",
    "[browse](http://colab.research.google.com/github/OleBo/MathSo/)"
   ]
  },
  {
   "cell_type": "code",
   "execution_count": 1,
   "id": "deb451da",
   "metadata": {},
   "outputs": [],
   "source": [
    "import numpy as np\n",
    "import matplotlib.pyplot as plt\n",
    "from qpsolvers import solve_qp, available_solvers\n",
    "from scipy.optimize import Bounds\n",
    "from scipy.optimize import LinearConstraint\n",
    "from scipy.optimize import minimize"
   ]
  },
  {
   "cell_type": "markdown",
   "id": "cdcd6880",
   "metadata": {},
   "source": [
    "#  Homework assignment 11\n",
    "An investor would likes to invest a certain amount of three assets in its \n",
    "portfolio. The return of which is given by the three random variables $R_1,\n",
    "R_2, R_3$. The expected values are\n",
    "\n",
    "\\[ \\mu_1 = 0.01, \\; \\mu_2 = 0.022, \\; \\mu_3 = 0.027\\]"
   ]
  },
  {
   "cell_type": "code",
   "execution_count": 2,
   "id": "2119fde3",
   "metadata": {},
   "outputs": [
    {
     "data": {
      "text/plain": [
       "array([0.01 , 0.022, 0.027])"
      ]
     },
     "execution_count": 2,
     "metadata": {},
     "output_type": "execute_result"
    }
   ],
   "source": [
    "mu=np.array([0.01, 0.022, 0.027])\n",
    "mu"
   ]
  },
  {
   "cell_type": "markdown",
   "id": "f7f2dec4",
   "metadata": {},
   "source": [
    "and be the covariance matrix\n",
    "\\[ \\sigma_{ij} = \\left( \\begin{array}{ccc} 0.001 & 0.0002 & 0.0005 \\\\\n",
    "0.0002 & 0.005 & 0.0008 \\\\ 0.0005 & 0.0008 & 0.02 \\end{array} \\right). \\]"
   ]
  },
  {
   "cell_type": "code",
   "execution_count": 3,
   "id": "c35fef3f",
   "metadata": {},
   "outputs": [
    {
     "data": {
      "text/plain": [
       "array([[0.001 , 0.0002, 0.0005],\n",
       "       [0.0002, 0.005 , 0.0008],\n",
       "       [0.0005, 0.0008, 0.02  ]])"
      ]
     },
     "execution_count": 3,
     "metadata": {},
     "output_type": "execute_result"
    }
   ],
   "source": [
    "sigma = np.array([[0.001, 0.0002, 0.0005], [0.0002, 0.005, 0.0008], [0.0005, 0.0008, 0.02]])\n",
    "sigma"
   ]
  },
  {
   "cell_type": "markdown",
   "id": "6e06ae42",
   "metadata": {},
   "source": [
    "Let $p_i$ be the portion of the sum invested in $R_i$ such that $p_1 + p_2 +\n",
    "p_3 = 1$. The investor\n",
    "wants to minimize the risk of the entire portfolio, i.e.\n",
    "\n",
    "\\[ \\mathrm{Var}\\left(\\sum_{i=1}^{3} p_i R_i\\right) =\n",
    "\\sqrt{\\sum_{i,j=1}^{3} p_i p_j \\sigma_{ij}}, \\]\n",
    "\n",
    "**Then the function to be minimised (objective function) is:**\n",
    "$$f:\\mathbf{R}^3\\to \\mathbf{R}, \\quad f(p) = \\sqrt{p_1 p_1 \\sigma_{1,1}+\\dots+p_3 p_3 \\sigma_{3,3}}$$"
   ]
  },
  {
   "cell_type": "code",
   "execution_count": 4,
   "id": "a847b6ce",
   "metadata": {},
   "outputs": [],
   "source": [
    "f = lambda p: np.sqrt(np.dot(np.dot(p,sigma),p))"
   ]
  },
  {
   "cell_type": "markdown",
   "id": "294ef401",
   "metadata": {},
   "source": [
    "being the expected rate of return\n",
    "\\[ \\sum_{i=1}^3 p_i \\mu_i \\]\n",
    "but should be at least 2\\%."
   ]
  },
  {
   "cell_type": "markdown",
   "id": "a366d2bd",
   "metadata": {},
   "source": [
    "This is known as the [efficient frontier](https://www.investopedia.com/terms/e/efficientfrontier.asp):\n",
    "\n",
    "\"The efficient frontier is the set of optimal portfolios that offer the highest expected return for a defined level of risk or the lowest risk for a given level of expected return. Portfolios that lie below the efficient frontier are sub-optimal because they do not provide enough return for the level of risk.\""
   ]
  },
  {
   "cell_type": "markdown",
   "id": "1dc1155b",
   "metadata": {},
   "source": [
    "## Constraint Optimization Problem\n",
    "**Then the constraints are:**\n",
    "\n",
    "$$\\mu_1p_1 + \\mu_2p_2 + \\mu_3p_3 \\geq 0.02$$\n",
    "$$p_i>=0$$\n",
    "$$p_1+p_2+p_3=1$$\n",
    "\n",
    "Here we have inequalities, equalities and lower bounds on the unknowns.\n",
    "\n",
    "The linear constraints $\\mu_1p_1 + \\mu_2p_2 + \\mu_3p_3 \\geq 0.02$, $p_1+p_2+p_3=1$ have the general inequality form\n",
    "\n",
    "$$l_b\\le Ap\\le u_b$$\n",
    "\n",
    "where the vectors for lower bound $l_b$, upper bound $u_b$, and the independent variables $p$ is passed as ndarray of shape (n,) and the matrix $A$ has shape (m, n), where n is the number of constraints and m is the number of independent variables.\n",
    "\n",
    "It is possible to use equal bounds to represent an equality constraint or infinite bounds to represent a one-sided constraint.\n",
    "\n",
    "This can be written in the linear constraint standard format:"
   ]
  },
  {
   "cell_type": "code",
   "execution_count": 5,
   "id": "c86cd300",
   "metadata": {},
   "outputs": [],
   "source": [
    "A = np.array([mu, [1, 1, 1]])\n",
    "lb = np.array([0.02, 1])\n",
    "ub = np.array([np.inf, 1])\n",
    "linear_constraint = LinearConstraint(A,lb,ub)"
   ]
  },
  {
   "cell_type": "markdown",
   "id": "11b08599",
   "metadata": {},
   "source": [
    "The bound constraints of the independent variables $p_1,p_2,p_3 \\geq 0$ are defined using a Bounds object."
   ]
  },
  {
   "cell_type": "code",
   "execution_count": 6,
   "id": "c685d7c4",
   "metadata": {},
   "outputs": [],
   "source": [
    "lb = [0, 0, 0]\n",
    "ub = [np.inf, np.inf, np.inf]\n",
    "bounds = Bounds(lb, ub)"
   ]
  },
  {
   "cell_type": "markdown",
   "id": "c87ac214",
   "metadata": {},
   "source": [
    "Finally, we specify an initial vector:"
   ]
  },
  {
   "cell_type": "code",
   "execution_count": 7,
   "id": "9a7b147a",
   "metadata": {},
   "outputs": [],
   "source": [
    "p0 = np.array([1, 1, 1])/3"
   ]
  },
  {
   "cell_type": "markdown",
   "id": "d718b548",
   "metadata": {},
   "source": [
    "The method 'trust-constr' requires the constraints to be defined as a sequence of objects `LinearConstraint` and `NonlinearConstraint`. The implementation is based on [EQSQP] for equality-constraint problems and on [TRIP] for problems with inequality constraints. Both are trust-region type algorithms suitable for large-scale problems."
   ]
  },
  {
   "cell_type": "code",
   "execution_count": 8,
   "id": "a49efee6",
   "metadata": {},
   "outputs": [
    {
     "name": "stdout",
     "output_type": "stream",
     "text": [
      "Iter    p_1         p_2         p_3         f(p)    \n",
      "   1    0.333333    0.333333    0.333333    0.056765\n",
      "   2    0.367168    0.349787    0.283045    0.051600\n",
      "   3    0.491822    0.433834    0.250979    0.053158\n",
      "   4    0.409141    0.360958    0.265874    0.050537\n",
      "   5    0.390917    0.365720    0.279292    0.052072\n",
      "   6    0.390917    0.365720    0.279292    0.052072\n",
      "   7    0.554469    0.301041    0.154415    0.038265\n",
      "   8    0.493321    0.331717    0.184021    0.041530\n",
      "   9    0.493321    0.331717    0.184021    0.041530\n",
      "  10    0.680612    0.226848    0.095412    0.032618\n",
      "  11    0.623777    0.269390    0.110008    0.034311\n",
      "  12    0.462998    0.387173    0.150643    0.040651\n",
      "  13    0.462998    0.387173    0.150643    0.040651\n",
      "  14    0.241627    0.563663    0.194720    0.051792\n",
      "  15    0.241627    0.563663    0.194720    0.051792\n",
      "  16    0.237023    0.574399    0.188578    0.051861\n",
      "  17    0.239456    0.578281    0.182262    0.051589\n",
      "  18    0.239456    0.578281    0.182262    0.051589\n",
      "  19    0.241192    0.578437    0.180371    0.051459\n",
      "  20    0.241192    0.578437    0.180371    0.051459\n",
      "  21    0.241563    0.578387    0.180051    0.051433\n",
      "  22    0.241563    0.578387    0.180051    0.051433\n",
      "  23    0.241636    0.578378    0.179986    0.051428\n",
      "`gtol` termination condition is satisfied.\n",
      "Number of iterations: 23, function evaluations: 64, CG iterations: 22, optimality: 2.00e-09, constraint violation: 6.66e-16, execution time: 0.055 s.\n"
     ]
    },
    {
     "data": {
      "text/plain": [
       "array([0.24163581, 0.57837831, 0.17998588])"
      ]
     },
     "execution_count": 8,
     "metadata": {},
     "output_type": "execute_result"
    }
   ],
   "source": [
    "Nfeval = 1\n",
    "\n",
    "def callbackF(pi,_):\n",
    "    global Nfeval\n",
    "    print('{0:4d}   {1: 3.6f}   {2: 3.6f}   {3: 3.6f}   {4: 3.6f}'.format(Nfeval, pi[0], pi[1], pi[2], f(pi)))\n",
    "    Nfeval += 1\n",
    "\n",
    "print('{0:4s}   {1:9s}   {2:9s}   {3:9s}   {4:9s}'.format('Iter', ' p_1', ' p_2', ' p_3', ' f(p)'))  \n",
    "\n",
    "res = minimize(f, p0, method='trust-constr',\n",
    "               callback=callbackF,\n",
    "               constraints=linear_constraint,\n",
    "               options={'verbose': 1}, \n",
    "               bounds=bounds)\n",
    "res.x"
   ]
  },
  {
   "cell_type": "markdown",
   "id": "90f7a670",
   "metadata": {},
   "source": [
    "## Quadratic Programming Problem\n",
    "\n",
    "The efficient frontier is a convex quadratic optimization problem with linear constraints. Such problems are special cases of ***Quadratic Programming*** problems.\n",
    "\n",
    "\n",
    "Quadratic programming (QP) problems are of the form:\n",
    "\n",
    "  $$\\begin{split}\\begin{array}{ll}\n",
    "        \\mbox{minimize} &\n",
    "            \\frac{1}{2} x^T P x + q^T x \\\\\n",
    "        \\mbox{subject to}\n",
    "            & G x \\leq h                \\\\\n",
    "            & A x = b                    \\\\\n",
    "            & lb \\leq x \\leq ub\n",
    "    \\end{array}\\end{split}$$\n",
    "\n",
    "where $P$ is an $n\\times n$ matrix, $x$ and $q$ are $n\\times 1$ vectors ($n$ is the number of parameters). As for the inequality and equality constraints $G$ and $A$ are $m\\times n$ matrices. The vectors $h$ and $b$ are of dimension $m$ ($m$ is the number of respective constraints).\n",
    "\n",
    "Consider first the problem to find the global minimum variance portfolio (3). The objective function can be recovered from (10) by setting $x=p$, $P=2\\times\\sigma$ and $q=[0,\\dots,0]$.\n",
    "\n",
    "We are using one of the available QP solvers."
   ]
  },
  {
   "cell_type": "code",
   "execution_count": 9,
   "id": "65ad930c",
   "metadata": {},
   "outputs": [
    {
     "data": {
      "text/plain": [
       "['quadprog']"
      ]
     },
     "execution_count": 9,
     "metadata": {},
     "output_type": "execute_result"
    }
   ],
   "source": [
    "available_solvers"
   ]
  },
  {
   "cell_type": "code",
   "execution_count": 10,
   "id": "9be811fc",
   "metadata": {},
   "outputs": [
    {
     "name": "stdout",
     "output_type": "stream",
     "text": [
      "QP solution: x = [0.2416535  0.57837811 0.17996839]\n"
     ]
    },
    {
     "data": {
      "text/plain": [
       "0.05142679775622339"
      ]
     },
     "execution_count": 10,
     "metadata": {},
     "output_type": "execute_result"
    }
   ],
   "source": [
    "# efficient fonier\n",
    "P = sigma\n",
    "q = np.array([.0,.0,.0]).reshape((3,))\n",
    "G = -mu.reshape((3,))\n",
    "h = -np.array([0.02]).reshape((1,))\n",
    "A = np.array([1., 1., 1.]).reshape((3,))\n",
    "b = np.array([1.]).reshape((1,))\n",
    "lb = np.array([0, 0, 0]).reshape((3,))\n",
    "ub = np.array([np.inf, np.inf, np.inf])\n",
    "\n",
    "x = solve_qp(P, q, G, h, A, b, lb, ub)\n",
    "print(\"QP solution: x = {}\".format(x))\n",
    "f(x)"
   ]
  },
  {
   "cell_type": "markdown",
   "id": "b28fd24d",
   "metadata": {},
   "source": [
    "## Risk-return characteristics \n",
    "\n",
    "The impact of the no short sales restrictions on the risk-return characteristics of feasible portfolios is nicely illustrated by constructing random long-only portfolios of these three assets:"
   ]
  },
  {
   "cell_type": "code",
   "execution_count": 11,
   "id": "c920faaa",
   "metadata": {},
   "outputs": [
    {
     "data": {
      "text/plain": [
       "193"
      ]
     },
     "execution_count": 11,
     "metadata": {},
     "output_type": "execute_result"
    }
   ],
   "source": [
    "np.random.seed(123)\n",
    "x1 = np.random.uniform(0,1,400)\n",
    "x2 = np.random.uniform(0,1,400)\n",
    "x3 = 1-x1-x2\n",
    "long_only = np.where(x3>0)[0]\n",
    "x1 = x1[long_only]\n",
    "x2 = x2[long_only]\n",
    "x3 = x3[long_only]\n",
    "len(long_only)"
   ]
  },
  {
   "cell_type": "markdown",
   "id": "f087ce3d",
   "metadata": {},
   "source": [
    "Here we first create 400 random weights for the first two assets that lie between zero and one, respectively. Then, we determine the weight on the third asset and throw out portfolios for which the weight on the third asset is negative. The remaining 193 portfolios are then long-only portfolios. "
   ]
  },
  {
   "cell_type": "code",
   "execution_count": 12,
   "id": "d0808e89",
   "metadata": {},
   "outputs": [
    {
     "data": {
      "image/png": "[encoded data removed]",
      "text/plain": [
       "<Figure size 432x288 with 1 Axes>"
      ]
     },
     "metadata": {
      "needs_background": "light"
     },
     "output_type": "display_data"
    }
   ],
   "source": [
    "fig, ax = plt.subplots()\n",
    "ax.set_title('Risk-return characteristics')\n",
    "ax.set(xlabel='$\\sigma_p$', ylabel='$\\mu_p$')\n",
    "ax.scatter(np.array([f(x) for x in zip(x1,x2,x3)]),np.dot(mu,[x1,x2,x3]),c='gray' ,alpha=.1, label='random portfolio')\n",
    "ax.scatter(np.sqrt(np.diag(sigma)),mu,label='assets')\n",
    "ax.scatter(f(x),np.dot(mu,x),label='optimal portfolio')\n",
    "ax.legend()\n",
    "plt.show()"
   ]
  }
 ],
 "metadata": {
  "kernelspec": {
   "display_name": "Python 3.9.7 (math-so)",
   "language": "python",
   "name": "math-so"
  },
  "language_info": {
   "codemirror_mode": {
    "name": "ipython",
    "version": 3
   },
   "file_extension": ".py",
   "mimetype": "text/x-python",
   "name": "python",
   "nbconvert_exporter": "python",
   "pygments_lexer": "ipython3",
   "version": "3.9.7"
  },
  "latex_envs": {
   "LaTeX_envs_menu_present": true,
   "autoclose": false,
   "autocomplete": true,
   "bibliofile": "biblio.bib",
   "cite_by": "apalike",
   "current_citInitial": 1,
   "eqLabelWithNumbers": true,
   "eqNumInitial": 1,
   "hotkeys": {
    "equation": "Ctrl-E",
    "itemize": "Ctrl-I"
   },
   "labels_anchors": false,
   "latex_user_defs": false,
   "report_style_numbering": true,
   "user_envs_cfg": false
  }
 },
 "nbformat": 4,
 "nbformat_minor": 5
}
