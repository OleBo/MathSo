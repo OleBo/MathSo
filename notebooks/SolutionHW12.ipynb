{
 "cells": [
  {
   "cell_type": "markdown",
   "id": "35319d88",
   "metadata": {},
   "source": [
    "[![Open In Binder](https://static.mybinder.org/badge_logo.svg)](https://mybinder.org/v2/gh/OleBo/MathSo/main?filepath=/notebooks/SolutionHW12.ipynb)"
   ]
  },
  {
   "cell_type": "markdown",
   "id": "51ab86c7",
   "metadata": {},
   "source": [
    "[![Open In Colab](https://colab.research.google.com/assets/colab-badge.svg)](https://colab.research.google.com/github/OleBo/MathSo/blob/main/notebooks/SolutionHW12.ipynb)\n",
    "\n",
    "\n",
    "[browse](http://colab.research.google.com/github/OleBo/MathSo/)"
   ]
  },
  {
   "cell_type": "code",
   "execution_count": 1,
   "id": "ee028869",
   "metadata": {},
   "outputs": [],
   "source": [
    "import numpy as np"
   ]
  },
  {
   "cell_type": "markdown",
   "id": "812ae534",
   "metadata": {},
   "source": [
    "# Homework assignment 12\n",
    "\n",
    "Write a Python function that implements the midpoint rule (middle Riemann sum) for numerical integration.\n",
    "Arguments should be: the function $f$ to be integrated, the limits of the\n",
    "interval $a$ and $b$, and the number of sub-intervals $n$.\n",
    "Take the integral as an example\n",
    "\n",
    "\\[ \\int_0^1 \\frac{x e^x}{(x+1)^2} dx. \\]\n",
    "\n",
    "First determine the exact value.\n",
    "Then calculate the numerical approximation with the midpoint rule for\n",
    "successively doubled $n$.\n",
    "Determine the convergence factor in each case.\n",
    "What value should this theoretically have?\n",
    "What is the smallest possible error, and for which $n$ is it reached before rounding errors dominate?"
   ]
  },
  {
   "cell_type": "markdown",
   "id": "559b0994",
   "metadata": {},
   "source": [
    "**exact solution:**\n",
    "\\[ \n",
    "\\begin{split}\n",
    "\\int_0^1 \\frac{x e^x}{(x+1)^2} dx & = fg - \\int_0^1 gdf\\\\\n",
    "\\left(-\\frac{e^x x}{x+1}\\right)\\Big|_0^1+\\int_0^1 e^x & = -\\frac{e}{2}+\\int_0^1 e^x\\\\ \n",
    "-\\frac{e}{2}+e^x \\Big|_0^1     & = \\frac{1}{2}(e-2) \\approx 0.35914 \\\\ \n",
    "\\end{split}\n",
    "\\]\n",
    "\n",
    "For the integrand $\\frac{x e^x}{(x+1)^2}$, integrate by parts:\n",
    "\\[\\int fdg = fg - \\int gdf \\]\n",
    "where: \n",
    "$f = e^x x$, $dg = \\frac{1}{(x+1)^2}dx$, $df=e^x(x+1)dx$, $g=-\\frac{1}{x+1}$"
   ]
  },
  {
   "cell_type": "code",
   "execution_count": 2,
   "id": "1ad22897",
   "metadata": {},
   "outputs": [],
   "source": [
    "def mittelpunkt(f, a, b, n):\n",
    "    \"\"\"\n",
    "    MITTELPUNKT berechnet das numerische Integral von f im Interval\n",
    "    [a, b] nach der Mittelpunktsregel mit n Intervallen\n",
    "    \"\"\"\n",
    "    h = (b-a)/n\n",
    "    x = a + h/2 + np.arange(n)*h\n",
    "    return h*sum(f(x))\n"
   ]
  },
  {
   "cell_type": "code",
   "execution_count": 3,
   "id": "cd37cb56",
   "metadata": {},
   "outputs": [
    {
     "name": "stdout",
     "output_type": "stream",
     "text": [
      "n = 4, err = 0.00079684422697468, fac = 3.5209026314616194\n",
      "n = 8, err = 0.00020617571780601196, fac = 3.8648791208498197\n",
      "n = 16, err = 5.199945329781297e-05, fac = 3.964959335729852\n",
      "n = 32, err = 1.3028676097703862e-05, fac = 3.9911540441915823\n",
      "n = 64, err = 3.2589752916867276e-06, fac = 3.997783024295557\n",
      "n = 128, err = 8.148568007571022e-07, fac = 3.999445410112229\n",
      "n = 256, err = 2.037212626371243e-07, fac = 3.999861331158911\n",
      "n = 512, err = 5.0930757167222396e-08, fac = 3.9999653248476266\n",
      "n = 1024, err = 1.2732716714314307e-08, fac = 3.9999913851821813\n",
      "n = 2048, err = 3.1831809965687796e-09, fac = 3.9999977155050814\n",
      "n = 4096, err = 7.957952630199827e-10, fac = 3.999999930244431\n",
      "n = 8192, err = 1.9895035618944235e-10, fac = 3.9999690287672527\n",
      "n = 16384, err = 4.973615963521638e-11, fac = 4.000114959591146\n",
      "n = 32768, err = 1.2432943563567278e-11, fac = 4.000352722661761\n",
      "n = 65536, err = 3.1088465135553633e-12, fac = 3.9992143418327264\n",
      "n = 131072, err = 7.724376693829527e-13, fac = 4.024721523535753\n",
      "n = 262144, err = 1.9945156637390937e-13, fac = 3.8728082382410243\n",
      "n = 524288, err = 4.340972026284362e-14, fac = 4.59462915601023\n",
      "n = 1048576, err = 6.106226635438361e-15, fac = 7.109090909090909\n",
      "n = 2097152, err = 9.270362255620057e-15, fac = 0.6586826347305389\n",
      "n = 4194304, err = 1.4099832412739488e-14, fac = 0.65748031496063\n",
      "n = 8388608, err = 2.4480417692984702e-14, fac = 0.5759637188208617\n",
      "n = 16777216, err = 8.382183835919932e-15, fac = 2.9205298013245033\n",
      "n = 33554432, err = 1.4432899320127035e-15, fac = 5.8076923076923075\n",
      "Closed form solution: 0.35914091422952255\n"
     ]
    }
   ],
   "source": [
    "f = lambda x: x*np.exp(x)/((x+1)**2)\n",
    "F = lambda x: np.exp(x)/(x+1)  \n",
    "a, b = 0, 1\n",
    "I_ex = F(b) - F(a)\n",
    "\n",
    "n = 2\n",
    "for m in range(25):\n",
    "    I = mittelpunkt(f, a, b, n);\n",
    "    err = abs(I - I_ex);\n",
    "    if m > 0:\n",
    "        print(f'n = {n}, err = {err}, fac = {err_old/err}')\n",
    "    err_old = err\n",
    "    n = n*2\n",
    "print(f\"Closed form solution: {I_ex}\")"
   ]
  },
  {
   "cell_type": "code",
   "execution_count": null,
   "id": "60c4d5f5",
   "metadata": {},
   "outputs": [],
   "source": []
  }
 ],
 "metadata": {
  "kernelspec": {
   "display_name": "Python 3.9.7 (math-so)",
   "language": "python",
   "name": "math-so"
  },
  "language_info": {
   "codemirror_mode": {
    "name": "ipython",
    "version": 3
   },
   "file_extension": ".py",
   "mimetype": "text/x-python",
   "name": "python",
   "nbconvert_exporter": "python",
   "pygments_lexer": "ipython3",
   "version": "3.9.7"
  },
  "latex_envs": {
   "LaTeX_envs_menu_present": true,
   "autoclose": false,
   "autocomplete": true,
   "bibliofile": "biblio.bib",
   "cite_by": "apalike",
   "current_citInitial": 1,
   "eqLabelWithNumbers": true,
   "eqNumInitial": 1,
   "hotkeys": {
    "equation": "Ctrl-E",
    "itemize": "Ctrl-I"
   },
   "labels_anchors": false,
   "latex_user_defs": false,
   "report_style_numbering": true,
   "user_envs_cfg": false
  }
 },
 "nbformat": 4,
 "nbformat_minor": 5
}
