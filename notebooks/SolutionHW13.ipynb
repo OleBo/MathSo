{
 "cells": [
  {
   "cell_type": "markdown",
   "id": "35319d88",
   "metadata": {},
   "source": [
    "[![Open In Binder](https://static.mybinder.org/badge_logo.svg)](https://mybinder.org/v2/gh/OleBo/MathSo/main?filepath=/notebooks/SolutionHW13.ipynb)"
   ]
  },
  {
   "cell_type": "markdown",
   "id": "51ab86c7",
   "metadata": {},
   "source": [
    "[![Open In Colab](https://colab.research.google.com/assets/colab-badge.svg)](https://colab.research.google.com/github/OleBo/MathSo/blob/main/notebooks/SolutionHW13.ipynb)\n",
    "\n",
    "\n",
    "[browse](http://colab.research.google.com/github/OleBo/MathSo/)"
   ]
  },
  {
   "cell_type": "code",
   "execution_count": 1,
   "id": "ee028869",
   "metadata": {},
   "outputs": [],
   "source": [
    "import matplotlib.pyplot as plt\n",
    "import numpy as np"
   ]
  },
  {
   "cell_type": "markdown",
   "id": "812ae534",
   "metadata": {},
   "source": [
    "# Homework assignment 13\n",
    "\n",
    "Simulate the growth of a bacterial colony.\n",
    "During a fixed time interval a bacterium divides into two individuals with the\n",
    "probability $p$, and with the probability $1 - p$ it dies.\n",
    "This is repeated independently in each generation.\n",
    "Start with a single bacterium and simulate as many generations as makes sense.\n",
    "\n",
    "Repeat this simulation $n$ times (e.g. $n = 100$) and estimate the probability\n",
    "$p_E$ with which the bacteria will die out.\n",
    "Choose a few different values for $p$ and\n",
    "compare $p_E$ as a function of $p$ with the theoretical result\n",
    "\n",
    "\\[ p_E = \\min \\left( 1, \\; \\frac{1-p}{p} \\right) . \\]"
   ]
  },
  {
   "cell_type": "code",
   "execution_count": 2,
   "id": "113553fd",
   "metadata": {},
   "outputs": [],
   "source": [
    "def bacsim(p, N = 100, gmax = 100, nmax = 1e6):\n",
    "    \"\"\"\n",
    "    BACSIM simuliert das Wachstum einer Bakterienkolonie mit \n",
    "    Teilungsrate p und gibt die gefundene Ausloeschungswahrscheinlichkeit \n",
    "    pE zurueck.\n",
    "    Parameter:\n",
    "    - Teilungsrate p\n",
    "    - Zahl der Simulationen N\n",
    "    - maximale Zahl der Generationen gmax\n",
    "    - maximale Zahl der Bakterien nmax\n",
    "    \"\"\"\n",
    "    ex = 0 #Zaehler fuer die Simulationen, in denen Ausloeschung auftritt\n",
    "    for _ in range(N):\n",
    "        n = 1 # Zahl der Bakterien\n",
    "        g = 1 # Generation\n",
    "        while (g < gmax) & (n < nmax) & (n > 0):\n",
    "            r = np.random.rand(n)\n",
    "            n = 2*np.sum(r <= p)\n",
    "            g += 1\n",
    "        if n == 0:\n",
    "            ex += 1\n",
    "    return ex/N"
   ]
  },
  {
   "cell_type": "code",
   "execution_count": 3,
   "id": "b29c210b",
   "metadata": {},
   "outputs": [],
   "source": [
    "p_sim = np.linspace(0,1,11)\n",
    "p_E_sim = np.array([bacsim(p) for p in p_sim])"
   ]
  },
  {
   "cell_type": "code",
   "execution_count": 4,
   "id": "60c4d5f5",
   "metadata": {},
   "outputs": [],
   "source": [
    "p_E = lambda p: np.minimum(1, (1-p)/p)"
   ]
  },
  {
   "cell_type": "code",
   "execution_count": 5,
   "id": "b1f4b1a4",
   "metadata": {},
   "outputs": [
    {
     "data": {
      "image/png": "[encoded data removed]",
      "text/plain": [
       "<Figure size 432x288 with 1 Axes>"
      ]
     },
     "metadata": {
      "needs_background": "light"
     },
     "output_type": "display_data"
    }
   ],
   "source": [
    "p = np.linspace(0,1,200)\n",
    "p = np.delete(p, [0])\n",
    "fig, ax = plt.subplots()\n",
    "ax.plot(p, p_E(p),label=\"theoretical result\")\n",
    "ax.scatter(p_sim, p_E_sim,label=\"simulation result\")\n",
    "ax.set_title('bacterial colony')\n",
    "ax.set(xlabel='probability of splitting $p$', ylabel='probability of final extinction $p_E$')\n",
    "ax.legend();"
   ]
  },
  {
   "cell_type": "markdown",
   "id": "1ddf92c1",
   "metadata": {},
   "source": [
    "See also [Extinction criterion for Galton–Watson process](https://en.m.wikipedia.org/wiki/Galton–Watson_process)."
   ]
  },
  {
   "cell_type": "code",
   "execution_count": null,
   "id": "f67b73ea",
   "metadata": {},
   "outputs": [],
   "source": []
  }
 ],
 "metadata": {
  "kernelspec": {
   "display_name": "Python 3.9.7 (math-so)",
   "language": "python",
   "name": "math-so"
  },
  "language_info": {
   "codemirror_mode": {
    "name": "ipython",
    "version": 3
   },
   "file_extension": ".py",
   "mimetype": "text/x-python",
   "name": "python",
   "nbconvert_exporter": "python",
   "pygments_lexer": "ipython3",
   "version": "3.9.7"
  },
  "latex_envs": {
   "LaTeX_envs_menu_present": true,
   "autoclose": false,
   "autocomplete": true,
   "bibliofile": "biblio.bib",
   "cite_by": "apalike",
   "current_citInitial": 1,
   "eqLabelWithNumbers": true,
   "eqNumInitial": 1,
   "hotkeys": {
    "equation": "Ctrl-E",
    "itemize": "Ctrl-I"
   },
   "labels_anchors": false,
   "latex_user_defs": false,
   "report_style_numbering": true,
   "user_envs_cfg": false
  }
 },
 "nbformat": 4,
 "nbformat_minor": 5
}
