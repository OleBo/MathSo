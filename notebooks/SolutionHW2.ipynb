{
 "cells": [
  {
   "cell_type": "markdown",
   "id": "775264f7",
   "metadata": {},
   "source": [
    "# Homework 2\n",
    "Write a function that rotates a vector in $R^2$ by a given angle. The arguments of the function should be the vector and the angle in degrees, and the function should return the rotated vector. Use the matrix product."
   ]
  },
  {
   "cell_type": "markdown",
   "id": "74a8c806",
   "metadata": {},
   "source": [
    "## Rotation Matrix"
   ]
  },
  {
   "cell_type": "markdown",
   "id": "1987bae0",
   "metadata": {},
   "source": [
    "The new coordinates $(x′, y′)$ of a point $(x, y)$ after rotation are\n",
    "\n",
    "$$\\begin{aligned}x'&=x\\cos \\theta -y\\sin \\theta \\,\\\\y'&=x\\sin \\theta +y\\cos \\theta \\,\\end{aligned}.$$\n",
    "\n",
    "Those, the two dimensional rotation matrix which rotates points in the $xy$ plane anti-clockwise through an angle $\\theta$ about the origin is\n",
    "\n",
    "$$R=\\left[ {\\begin{array}{cc}\n",
    "   \\cos {\\theta} & -\\sin {\\theta} \\\\\n",
    "   \\sin {\\theta} & \\cos {\\theta} \\\\\n",
    "  \\end{array} } \\right].$$\n",
    "  \n",
    "To create a rotation matrix as a NumPy array for $\\theta=30$, it is simplest to initialize it with as follows:"
   ]
  },
  {
   "cell_type": "code",
   "execution_count": 1,
   "id": "b4137c72",
   "metadata": {},
   "outputs": [
    {
     "data": {
      "text/plain": [
       "array([[ 0.8660254, -0.5      ],\n",
       "       [ 0.5      ,  0.8660254]])"
      ]
     },
     "execution_count": 1,
     "metadata": {},
     "output_type": "execute_result"
    }
   ],
   "source": [
    "theta = np.radians(30)\n",
    "c, s = np.cos(theta), np.sin(theta)\n",
    "R = np.array(((c, -s), (s, c)))\n",
    "R"
   ]
  },
  {
   "cell_type": "markdown",
   "id": "c2cb5bef",
   "metadata": {},
   "source": [
    "Derivation: https://scipython.com/book/chapter-6-numpy/examples/creating-a-rotation-matrix-in-numpy/"
   ]
  },
  {
   "cell_type": "markdown",
   "id": "998f1217",
   "metadata": {},
   "source": [
    "## Vector"
   ]
  },
  {
   "cell_type": "code",
   "execution_count": 2,
   "id": "c9a8000d",
   "metadata": {},
   "outputs": [
    {
     "data": {
      "text/plain": [
       "array([0, 1])"
      ]
     },
     "execution_count": 2,
     "metadata": {},
     "output_type": "execute_result"
    }
   ],
   "source": [
    "v = np.array((0,1))\n",
    "v"
   ]
  },
  {
   "cell_type": "markdown",
   "id": "86fb364a",
   "metadata": {},
   "source": [
    "### apply the rotation matrix $R$ to $v$"
   ]
  },
  {
   "cell_type": "code",
   "execution_count": 3,
   "id": "2e2a57ee",
   "metadata": {},
   "outputs": [
    {
     "data": {
      "text/plain": [
       "array([-0.5      ,  0.8660254])"
      ]
     },
     "execution_count": 3,
     "metadata": {},
     "output_type": "execute_result"
    }
   ],
   "source": [
    "R.dot(v)"
   ]
  },
  {
   "cell_type": "markdown",
   "id": "53aff888",
   "metadata": {},
   "source": [
    "### Now as function"
   ]
  },
  {
   "cell_type": "code",
   "execution_count": 4,
   "id": "ed8e04fa",
   "metadata": {},
   "outputs": [
    {
     "data": {
      "text/plain": [
       "array([-0.70710678,  0.70710678])"
      ]
     },
     "execution_count": 4,
     "metadata": {},
     "output_type": "execute_result"
    }
   ],
   "source": [
    "def rotate(v,theta_deg):\n",
    "    \"\"\"\n",
    "    ROTATE rotates the two-dimensional vector v by the angle theta in\n",
    "    degrees and returns the result.\n",
    "    \"\"\"\n",
    "    theta = np.radians(theta_deg)\n",
    "    c, s = np.cos(theta), np.sin(theta)\n",
    "    R = np.array(((c, -s), (s, c)))\n",
    "    return R.dot(v)\n",
    "\n",
    "rotate(np.array((0,1)),45)   "
   ]
  },
  {
   "cell_type": "code",
   "execution_count": null,
   "id": "13a477f5",
   "metadata": {},
   "outputs": [],
   "source": []
  }
 ],
 "metadata": {
  "kernelspec": {
   "display_name": "math-so-rqA8CpC9-py3.9",
   "language": "python",
   "name": "math-so-rqa8cpc9-py3.9"
  },
  "language_info": {
   "codemirror_mode": {
    "name": "ipython",
    "version": 3
   },
   "file_extension": ".py",
   "mimetype": "text/x-python",
   "name": "python",
   "nbconvert_exporter": "python",
   "pygments_lexer": "ipython3",
   "version": "3.9.7"
  }
 },
 "nbformat": 4,
 "nbformat_minor": 5
}
