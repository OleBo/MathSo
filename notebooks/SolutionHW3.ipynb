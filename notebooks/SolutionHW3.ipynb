{
 "cells": [
  {
   "cell_type": "markdown",
   "id": "723dfea1",
   "metadata": {},
   "source": [
    "# Homework 3\n",
    "The linear system of equations is given\n",
    "\\begin{eqnarray*}\n",
    "    x - 2y + 3 z &=& 1\\\\\n",
    "    2x + 3y + z &=& -3\\\\\n",
    "    -3x + y - 2z &=& 4\n",
    "\\end{eqnarray*}\n",
    "Build the expanded coefficient matrix and apply the\n",
    "Gaussian elimination method by using Python\n",
    "line transformations on the matrix.\n",
    "Get the solution of the linear system of equations.\n",
    "\n",
    "Compare with the solution you will get if you solve the\n",
    "linear system of equations with Python using the np.linalg.solve function."
   ]
  },
  {
   "cell_type": "code",
   "execution_count": 1,
   "id": "a7c6b261",
   "metadata": {},
   "outputs": [],
   "source": [
    "import numpy as np\n",
    "\n",
    "A = np.array([[1, -2, 3], [2, 3, 1], [-3, 1, -2]])\n",
    "b = np.array([1, -3, 4])"
   ]
  },
  {
   "cell_type": "markdown",
   "id": "6cbc0610",
   "metadata": {},
   "source": [
    "## direct solution"
   ]
  },
  {
   "cell_type": "code",
   "execution_count": 2,
   "id": "eca3361d",
   "metadata": {},
   "outputs": [
    {
     "data": {
      "text/plain": [
       "array([-2.00000000e+00, -6.05576195e-17,  1.00000000e+00])"
      ]
     },
     "execution_count": 2,
     "metadata": {},
     "output_type": "execute_result"
    }
   ],
   "source": [
    "x = np.linalg.solve(A,b)\n",
    "x"
   ]
  },
  {
   "cell_type": "markdown",
   "id": "b9ed3c58",
   "metadata": {},
   "source": [
    "## Gaussian elimination\n",
    "### extended coefficient matrix\n",
    "\n",
    "np.r_[ ... ] and np.c_[ ... ] are useful alternatives to vstack and hstack, with square brackets [] instead of round ()."
   ]
  },
  {
   "cell_type": "code",
   "execution_count": 3,
   "id": "0f7085d5",
   "metadata": {},
   "outputs": [
    {
     "data": {
      "text/plain": [
       "array([[ 1, -2,  3,  1],\n",
       "       [ 2,  3,  1, -3],\n",
       "       [-3,  1, -2,  4]])"
      ]
     },
     "execution_count": 3,
     "metadata": {},
     "output_type": "execute_result"
    }
   ],
   "source": [
    "Ab = np.c_[ A, b ] \n",
    "Ab"
   ]
  },
  {
   "cell_type": "markdown",
   "id": "48268158",
   "metadata": {},
   "source": [
    "### row canonical form\n",
    "transform to row canonical form (Zeilenstufenform)"
   ]
  },
  {
   "cell_type": "code",
   "execution_count": 4,
   "id": "98fdf4c9",
   "metadata": {},
   "outputs": [
    {
     "data": {
      "text/plain": [
       "array([[ 1, -2,  3,  1],\n",
       "       [ 0,  7, -5, -5],\n",
       "       [ 0,  0,  3,  3]])"
      ]
     },
     "execution_count": 4,
     "metadata": {},
     "output_type": "execute_result"
    }
   ],
   "source": [
    "Ab[1,:] = Ab[1,:] - Ab[1,0]/Ab[0,0]*Ab[0,:]\n",
    "Ab[2,:] = Ab[2,:] - Ab[2,0]/Ab[0,0]*Ab[0,:]\n",
    "Ab[2,:] = Ab[2,:] - Ab[2,1]/Ab[1,1]*Ab[1,:]\n",
    "Ab"
   ]
  },
  {
   "cell_type": "code",
   "execution_count": 5,
   "id": "d28f3464",
   "metadata": {},
   "outputs": [
    {
     "name": "stdout",
     "output_type": "stream",
     "text": [
      "The Row echelon form of matrix M and the pivot columns : (Matrix([\n",
      "[1, 0, 0, -2],\n",
      "[0, 1, 0,  0],\n",
      "[0, 0, 1,  1]]), (0, 1, 2))\n"
     ]
    }
   ],
   "source": [
    "from sympy import Matrix\n",
    "m = Matrix(Ab)\n",
    "M_rref = m.rref()\n",
    "print(\"The Row echelon form of matrix M and the pivot columns : {}\".format(M_rref))"
   ]
  },
  {
   "cell_type": "markdown",
   "id": "f7be760a",
   "metadata": {},
   "source": [
    "### back substitution"
   ]
  },
  {
   "cell_type": "code",
   "execution_count": 6,
   "id": "e6f71992",
   "metadata": {},
   "outputs": [
    {
     "data": {
      "text/plain": [
       "array([-2.,  0.,  1.])"
      ]
     },
     "execution_count": 6,
     "metadata": {},
     "output_type": "execute_result"
    }
   ],
   "source": [
    "x[2] = Ab[2,3]/Ab[2,2]\n",
    "x[1] = (Ab[1,3] - x[2]*Ab[1,2])/Ab[1,1];\n",
    "x[0] = (Ab[0,3] - x[1]*Ab[0,1] - x[2]*Ab[0,2])/Ab[0,0]\n",
    "x"
   ]
  },
  {
   "cell_type": "code",
   "execution_count": null,
   "id": "fb9e2ede",
   "metadata": {},
   "outputs": [],
   "source": []
  }
 ],
 "metadata": {
  "kernelspec": {
   "display_name": "Python 3 (ipykernel)",
   "language": "python",
   "name": "python3"
  },
  "language_info": {
   "codemirror_mode": {
    "name": "ipython",
    "version": 3
   },
   "file_extension": ".py",
   "mimetype": "text/x-python",
   "name": "python",
   "nbconvert_exporter": "python",
   "pygments_lexer": "ipython3",
   "version": "3.9.7"
  }
 },
 "nbformat": 4,
 "nbformat_minor": 5
}
