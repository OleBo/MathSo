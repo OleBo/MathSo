{
 "cells": [
  {
   "cell_type": "markdown",
   "id": "16b709bf",
   "metadata": {},
   "source": [
    "Write a function 'quadsolve' that gives all real solutions to the equation \n",
    "\n",
    "$$ax^2 +bx+c=0$$\n",
    "\n",
    "The arguments of the function should be the real coefficients a, b, c and the function should return a vector consisting of the real solutions. Use if / else to distinguish between cases."
   ]
  },
  {
   "cell_type": "markdown",
   "id": "c3d6bac1",
   "metadata": {},
   "source": [
    "A quadr. equation can have none, one or two solutions. Here we use the [abc equation](https://en.wikipedia.org/wiki/Quadratic_equation#Quadratic_formula_and_its_derivation):\n",
    "    \n",
    "$$x_{1,2}=\\frac{-b\\pm\\sqrt{b^2-4ac}}{2a}$$"
   ]
  },
  {
   "cell_type": "markdown",
   "id": "0ae15f99",
   "metadata": {},
   "source": [
    "Hinsichtlich der Frage, ob keine, eine oder zwei Lösungen vorliegen, gilt übrigens folgendes:\n",
    "\n",
    "- Diskriminante < 0: keine Lösung\n",
    "- Diskriminante = 0: eine Lösung\n",
    "- Diskriminante > 0: keine Lösung"
   ]
  },
  {
   "cell_type": "code",
   "execution_count": 8,
   "id": "0a600bda",
   "metadata": {},
   "outputs": [],
   "source": [
    "import math\n",
    "def quadsolve(a, b, c):\n",
    "    '''\n",
    "    QUADSOLVE finds all real solution of the equation a*x^2 + b*x + c = 0\n",
    "    '''\n",
    "    if a == 0:\n",
    "        if b == 0:\n",
    "            solns = []\n",
    "        else:  # linear eq.\n",
    "            solns = -c/b\n",
    "    else:\n",
    "        d = b**2 - 4*a*c  # Diskriminante\n",
    "        if d > 0:\n",
    "            solns = np.array([-b + math.sqrt(d), -b - math.sqrt(d)])/(2*a)\n",
    "        elif d == 0:\n",
    "            solns = -b/(2*a)\n",
    "        else:\n",
    "            solns = [];\n",
    "    return solns"
   ]
  },
  {
   "cell_type": "markdown",
   "id": "143768c5",
   "metadata": {},
   "source": [
    "For $a=2$. $b=-8$ and $c=6$ we obtain two solutions:"
   ]
  },
  {
   "cell_type": "code",
   "execution_count": 10,
   "id": "f0cd1a28",
   "metadata": {},
   "outputs": [
    {
     "data": {
      "text/plain": [
       "array([3., 1.])"
      ]
     },
     "execution_count": 10,
     "metadata": {},
     "output_type": "execute_result"
    }
   ],
   "source": [
    "quadsolve(2, -8, 6)"
   ]
  },
  {
   "cell_type": "markdown",
   "id": "9768e654",
   "metadata": {},
   "source": [
    "For $a=2$. $b=-8$ and $c=8$ we obtain one solution:"
   ]
  },
  {
   "cell_type": "code",
   "execution_count": 12,
   "id": "69cbe008",
   "metadata": {},
   "outputs": [
    {
     "data": {
      "text/plain": [
       "2.0"
      ]
     },
     "execution_count": 12,
     "metadata": {},
     "output_type": "execute_result"
    }
   ],
   "source": [
    "quadsolve(2, -8, 8)"
   ]
  },
  {
   "cell_type": "markdown",
   "id": "20cb4f72",
   "metadata": {},
   "source": [
    "###### For $a=2$. $b=-6$ and $c=11$ we obtain no solution:"
   ]
  },
  {
   "cell_type": "code",
   "execution_count": 11,
   "id": "c411674f",
   "metadata": {},
   "outputs": [
    {
     "data": {
      "text/plain": [
       "[]"
      ]
     },
     "execution_count": 11,
     "metadata": {},
     "output_type": "execute_result"
    }
   ],
   "source": [
    "quadsolve(2, -6, 11)"
   ]
  },
  {
   "cell_type": "code",
   "execution_count": null,
   "id": "9259e2a8",
   "metadata": {},
   "outputs": [],
   "source": []
  }
 ],
 "metadata": {
  "kernelspec": {
   "display_name": "Python 3 (ipykernel)",
   "language": "python",
   "name": "python3"
  },
  "language_info": {
   "codemirror_mode": {
    "name": "ipython",
    "version": 3
   },
   "file_extension": ".py",
   "mimetype": "text/x-python",
   "name": "python",
   "nbconvert_exporter": "python",
   "pygments_lexer": "ipython3",
   "version": "3.9.7"
  }
 },
 "nbformat": 4,
 "nbformat_minor": 5
}
