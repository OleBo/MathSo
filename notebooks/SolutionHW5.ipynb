{
 "cells": [
  {
   "cell_type": "markdown",
   "id": "e930b303",
   "metadata": {},
   "source": [
    "Write a Python function that determines whether a natural number is prime. The function should return true or false. Use a while loop."
   ]
  },
  {
   "cell_type": "markdown",
   "id": "5f34df3c",
   "metadata": {},
   "source": [
    "Since all primes > 3 are of the form $6n ± 1$, once we eliminate that $n$ is:\n",
    "\n",
    "- not 2 or 3 (which are prime) and\n",
    "- not even (with n%2) and\n",
    "- not divisible by 3 (with n%3) then we can test every 6th n ± 1.\n",
    "\n",
    "What role does the squar-rooting the \"n\" play here?\n",
    "\n",
    "p isn't prime <=> p = a*b with a,b > 1, and at least one of the factors must be <= sqrt(n) = n**0.5 (since b = n/a, so if a is larger, b is smaller). So it's enough to search for a factor up to square root of n."
   ]
  },
  {
   "cell_type": "code",
   "execution_count": 2,
   "id": "78c538e9",
   "metadata": {},
   "outputs": [],
   "source": [
    "def prime(n):\n",
    "    \"\"\" PRIME returns true if and only if the integer n is prime\n",
    "        Primality test using 6k+-1 optimization.\n",
    "    \"\"\"\n",
    "    if n <= 3:\n",
    "        return n > 1\n",
    "    if n % 2 == 0 or n % 3 == 0:\n",
    "        return False\n",
    "    i = 5\n",
    "    while i ** 2 <= n:\n",
    "        if n % i == 0 or n % (i + 2) == 0:\n",
    "            return False\n",
    "        i += 6\n",
    "    return True\n"
   ]
  },
  {
   "cell_type": "markdown",
   "id": "8238a816",
   "metadata": {},
   "source": [
    "**note:** [primality testing](https://en.wikipedia.org/wiki/Primality_test) is an interesting problem in computer science.\n"
   ]
  },
  {
   "cell_type": "code",
   "execution_count": 3,
   "id": "879169c1",
   "metadata": {},
   "outputs": [
    {
     "data": {
      "text/plain": [
       "True"
      ]
     },
     "execution_count": 3,
     "metadata": {},
     "output_type": "execute_result"
    }
   ],
   "source": [
    "prime(5003)"
   ]
  },
  {
   "cell_type": "code",
   "execution_count": null,
   "id": "8def9849",
   "metadata": {},
   "outputs": [],
   "source": []
  }
 ],
 "metadata": {
  "kernelspec": {
   "display_name": "Python 3 (ipykernel)",
   "language": "python",
   "name": "python3"
  },
  "language_info": {
   "codemirror_mode": {
    "name": "ipython",
    "version": 3
   },
   "file_extension": ".py",
   "mimetype": "text/x-python",
   "name": "python",
   "nbconvert_exporter": "python",
   "pygments_lexer": "ipython3",
   "version": "3.9.7"
  }
 },
 "nbformat": 4,
 "nbformat_minor": 5
}
