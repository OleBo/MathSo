{
 "cells": [
  {
   "cell_type": "markdown",
   "id": "52cbb979",
   "metadata": {},
   "source": [
    "[![Open In Binder](https://static.mybinder.org/badge_logo.svg)](https://mybinder.org/v2/gh/OleBo/MathSo/main?filepath=/notebooks/SolutionHW9.ipynb)"
   ]
  },
  {
   "cell_type": "markdown",
   "id": "0cda1558",
   "metadata": {},
   "source": [
    "[![Open In Colab](https://colab.research.google.com/assets/colab-badge.svg)](https://colab.research.google.com/github/OleBo/MathSo/blob/main/notebooks/SolutionHW9.ipynb)\n",
    "\n",
    "\n",
    "[browse](http://colab.research.google.com/github/OleBo/MathSo/)"
   ]
  },
  {
   "cell_type": "markdown",
   "id": "989b16f1",
   "metadata": {},
   "source": [
    "# Solution HW 9\n",
    "\n",
    "Another method for determining the roots of a real function $f$ is the fixed point iteration. This is based on rewriting the equation to be solved as a fixed point equation and iterating it:\n",
    "\n",
    "\\[ f(x) = 0 \\Leftrightarrow x = F(x) \\; \\Rightarrow \\;\n",
    "x_{k+1} = F(x_k), \\, k = 0,1,\\ldots \\]\n",
    "\n",
    "Consider as an example\n",
    "\\[ f(x) = x e^x - 1. \\]\n",
    "\n",
    "Possibilities for $F$ are (make sure that all lead to an equivalent fixed point\n",
    "equation):\n",
    "\n",
    "\\[ \\text{a)} \\; F(x) = e^{-x}, \\quad \\text{b)} \\; F(x) = x + 1 - x\n",
    "e^x, \\quad \\text{c)} \\; F(x) = x + x e^x - 1. \\]\n",
    "\n",
    "Implement a Python function `fpiterate` that takes as arguments a function handle\n",
    "$F$ and the starting value $x_0$. Test it for the three possibilities above.\n",
    "For each of the cases, describe the qualitative behavior of the fixed point\n",
    "iteration (starting value $x_0 = 0.5$).  Give an approximated limit, in case it exists.\n",
    "\n",
    "Find a condition on $F$ that guarantees the convergence of the procedure (heuristically, without strict proof).\n"
   ]
  },
  {
   "cell_type": "code",
   "execution_count": 1,
   "id": "42371700",
   "metadata": {},
   "outputs": [],
   "source": [
    "import math"
   ]
  },
  {
   "cell_type": "code",
   "execution_count": 2,
   "id": "94d64044",
   "metadata": {},
   "outputs": [],
   "source": [
    "def fpiterate(F, x, kmax=20):\n",
    "    \"\"\"\n",
    "    iterates the fixed-point equation $x = F(x)$ \n",
    "    with initial value $x_0$ kmax times and returns the last value\n",
    "    \"\"\"\n",
    "    for k in range(kmax):\n",
    "        x = F(x)\n",
    "        print(f'k = {k}, x = {x}')\n",
    "    return x\n",
    "    "
   ]
  },
  {
   "cell_type": "markdown",
   "id": "1b3d4824",
   "metadata": {},
   "source": [
    "**Homework problem 9:** Finding a root of a function using fixed-point iteration "
   ]
  },
  {
   "cell_type": "code",
   "execution_count": 3,
   "id": "88caab35",
   "metadata": {},
   "outputs": [],
   "source": [
    "f = lambda x: x*math.exp(x) - 1\n",
    "F1 = lambda x: math.exp(-x)\n",
    "F2 = lambda x: x + 1 - x*math.exp(x)\n",
    "F3 = lambda x: x + x*math.exp(x) - 1"
   ]
  },
  {
   "cell_type": "code",
   "execution_count": 4,
   "id": "c1b8d63c",
   "metadata": {},
   "outputs": [
    {
     "name": "stdout",
     "output_type": "stream",
     "text": [
      "k = 0, x = 0.6065306597126334\n",
      "k = 1, x = 0.545239211892605\n",
      "k = 2, x = 0.5797030948780683\n",
      "k = 3, x = 0.5600646279389019\n",
      "k = 4, x = 0.5711721489772151\n",
      "k = 5, x = 0.5648629469803235\n",
      "k = 6, x = 0.5684380475700662\n",
      "k = 7, x = 0.5664094527469208\n",
      "k = 8, x = 0.5675596342622424\n",
      "k = 9, x = 0.5669072129354714\n",
      "k = 10, x = 0.5672771959707785\n",
      "k = 11, x = 0.5670673518537281\n",
      "k = 12, x = 0.5671863600876381\n",
      "k = 13, x = 0.5671188642569858\n",
      "k = 14, x = 0.5671571437076446\n",
      "k = 15, x = 0.5671354336592732\n",
      "k = 16, x = 0.5671477463306249\n",
      "k = 17, x = 0.5671407632698067\n",
      "k = 18, x = 0.5671447236620769\n",
      "k = 19, x = 0.5671424775509449\n"
     ]
    },
    {
     "data": {
      "text/plain": [
       "0.5671424775509449"
      ]
     },
     "execution_count": 4,
     "metadata": {},
     "output_type": "execute_result"
    }
   ],
   "source": [
    "x0 = fpiterate(F1, 0.5) # converges to x0 = 0.5671\n",
    "x0"
   ]
  },
  {
   "cell_type": "code",
   "execution_count": 5,
   "id": "3acc76bc",
   "metadata": {},
   "outputs": [
    {
     "name": "stdout",
     "output_type": "stream",
     "text": [
      "k = 0, x = 0.6756393646499359\n",
      "k = 1, x = 0.3478126785112021\n",
      "k = 2, x = 0.8553214091741074\n",
      "k = 3, x = -0.15650595538316914\n",
      "k = 4, x = 0.9773264227477186\n",
      "k = 5, x = -0.6197642518955804\n",
      "k = 6, x = 0.7137130874161464\n",
      "k = 7, x = 0.256626649129847\n",
      "k = 8, x = 0.9249206769105486\n",
      "k = 9, x = -0.40742240554225306\n",
      "k = 10, x = 0.8636614202075393\n",
      "k = 11, x = -0.1847958494743267\n",
      "k = 12, x = 0.9688201302439478\n",
      "k = 13, x = -0.5838599569295302\n",
      "k = 14, x = 0.7417828828779736\n",
      "k = 15, x = 0.1842794222830968\n",
      "k = 16, x = 0.9627107382490965\n",
      "k = 17, x = -0.558422379328027\n",
      "k = 18, x = 0.7610571653689006\n",
      "k = 19, x = 0.13198543801170048\n"
     ]
    }
   ],
   "source": [
    "fpiterate(F2, 0.5);      # diverges (chaotic behaviour)"
   ]
  },
  {
   "cell_type": "code",
   "execution_count": 6,
   "id": "f5fa5f0f",
   "metadata": {},
   "outputs": [
    {
     "name": "stdout",
     "output_type": "stream",
     "text": [
      "k = 0, x = 0.3243606353500641\n",
      "k = 1, x = -0.22700124005143907\n",
      "k = 2, x = -1.4079030215264101\n",
      "k = 3, x = -2.752354638386582\n",
      "k = 4, x = -3.927892967410494\n",
      "k = 5, x = -5.005213957014623\n",
      "k = 6, x = -6.038763440987973\n",
      "k = 7, x = -7.053162906672724\n",
      "k = 8, x = -8.059261563335859\n",
      "k = 9, x = -9.061809580949749\n",
      "k = 10, x = -10.062860867322403\n",
      "k = 11, x = -11.063289886317401\n",
      "k = 12, x = -12.063463330022698\n",
      "k = 13, x = -13.063532892726094\n",
      "k = 14, x = -14.063560602972883\n",
      "k = 15, x = -15.063571577063025\n",
      "k = 16, x = -16.063575901224883\n",
      "k = 17, x = -17.063577597592044\n",
      "k = 18, x = -18.063578260498883\n",
      "k = 19, x = -19.06357851866035\n"
     ]
    }
   ],
   "source": [
    "fpiterate(F3, 0.5);     # converges to -Inf     "
   ]
  },
  {
   "cell_type": "markdown",
   "id": "96daff5d",
   "metadata": {},
   "source": [
    "Convergence criterion: $|F'(x_0)| < 1$"
   ]
  },
  {
   "cell_type": "code",
   "execution_count": 7,
   "id": "b70de3f6",
   "metadata": {},
   "outputs": [],
   "source": [
    "dF1 = lambda x: -math.exp(-x)\n",
    "dF2 = lambda x: 1 - math.exp(x)*(1 + x)\n",
    "dF3 = lambda x: 1 + math.exp(x)*(1 + x)"
   ]
  },
  {
   "cell_type": "code",
   "execution_count": 8,
   "id": "7fcaf6eb",
   "metadata": {},
   "outputs": [
    {
     "data": {
      "text/plain": [
       "True"
      ]
     },
     "execution_count": 8,
     "metadata": {},
     "output_type": "execute_result"
    }
   ],
   "source": [
    "abs(dF1(x0))<1  # satisfied"
   ]
  },
  {
   "cell_type": "code",
   "execution_count": 9,
   "id": "3a088165",
   "metadata": {},
   "outputs": [
    {
     "data": {
      "text/plain": [
       "False"
      ]
     },
     "execution_count": 9,
     "metadata": {},
     "output_type": "execute_result"
    }
   ],
   "source": [
    "abs(dF2(x0))<1  # not satisfied"
   ]
  },
  {
   "cell_type": "code",
   "execution_count": 10,
   "id": "37c36145",
   "metadata": {},
   "outputs": [
    {
     "data": {
      "text/plain": [
       "False"
      ]
     },
     "execution_count": 10,
     "metadata": {},
     "output_type": "execute_result"
    }
   ],
   "source": [
    "abs(dF3(x0))<1  # not satisfix0=0.5ed"
   ]
  },
  {
   "cell_type": "code",
   "execution_count": null,
   "id": "fb67da1b",
   "metadata": {},
   "outputs": [],
   "source": []
  }
 ],
 "metadata": {
  "kernelspec": {
   "display_name": "Python 3.9.7 (math-so)",
   "language": "python",
   "name": "math-so"
  },
  "language_info": {
   "codemirror_mode": {
    "name": "ipython",
    "version": 3
   },
   "file_extension": ".py",
   "mimetype": "text/x-python",
   "name": "python",
   "nbconvert_exporter": "python",
   "pygments_lexer": "ipython3",
   "version": "3.9.7"
  },
  "latex_envs": {
   "LaTeX_envs_menu_present": true,
   "autoclose": false,
   "autocomplete": true,
   "bibliofile": "biblio.bib",
   "cite_by": "apalike",
   "current_citInitial": 1,
   "eqLabelWithNumbers": true,
   "eqNumInitial": 1,
   "hotkeys": {
    "equation": "Ctrl-E",
    "itemize": "Ctrl-I"
   },
   "labels_anchors": false,
   "latex_user_defs": false,
   "report_style_numbering": true,
   "user_envs_cfg": false
  }
 },
 "nbformat": 4,
 "nbformat_minor": 5
}
