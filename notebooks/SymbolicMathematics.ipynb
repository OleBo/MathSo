{
 "cells": [
  {
   "cell_type": "markdown",
   "metadata": {},
   "source": [
    "# Computer Algebra System (CAS)\n",
    "\n",
    "SymPy is a Python library for symbolic mathematics. \n",
    "- [tutorial](https://docs.sympy.org/latest/tutorial/index.html)\n",
    "- [documentation](https://docs.sympy.org/latest/tutorial/index.html)"
   ]
  },
  {
   "cell_type": "markdown",
   "metadata": {},
   "source": [
    "Symbolic calculations begin by defining symbolic variables:"
   ]
  },
  {
   "cell_type": "code",
   "execution_count": 1,
   "metadata": {},
   "outputs": [],
   "source": [
    "from sympy import *\n",
    "x,y=symbols('x y')"
   ]
  },
  {
   "cell_type": "markdown",
   "metadata": {},
   "source": [
    "Evaluate expressions containing symbolic variables:"
   ]
  },
  {
   "cell_type": "code",
   "execution_count": 2,
   "metadata": {
    "scrolled": true
   },
   "outputs": [
    {
     "data": {
      "text/latex": [
       "$\\displaystyle x + y$"
      ],
      "text/plain": [
       "x + y"
      ]
     },
     "execution_count": 2,
     "metadata": {},
     "output_type": "execute_result"
    }
   ],
   "source": [
    "x+y"
   ]
  },
  {
   "cell_type": "code",
   "execution_count": 3,
   "metadata": {},
   "outputs": [
    {
     "data": {
      "text/latex": [
       "$\\displaystyle \\left(x + y\\right)^{2}$"
      ],
      "text/plain": [
       "(x + y)**2"
      ]
     },
     "execution_count": 3,
     "metadata": {},
     "output_type": "execute_result"
    }
   ],
   "source": [
    "(x+y)**2"
   ]
  },
  {
   "cell_type": "code",
   "execution_count": 4,
   "metadata": {},
   "outputs": [
    {
     "data": {
      "text/latex": [
       "$\\displaystyle x^{2} + 2 x y + y^{2}$"
      ],
      "text/plain": [
       "x**2 + 2*x*y + y**2"
      ]
     },
     "execution_count": 4,
     "metadata": {},
     "output_type": "execute_result"
    }
   ],
   "source": [
    "expand((x + y)**2)"
   ]
  },
  {
   "cell_type": "markdown",
   "metadata": {},
   "source": [
    "Substitute variables in expressions: Substitution replaces all instances of something in an expression with something else. It is done using the `subs` method."
   ]
  },
  {
   "cell_type": "code",
   "execution_count": 5,
   "metadata": {},
   "outputs": [],
   "source": [
    "z = x**2 + y**2"
   ]
  },
  {
   "cell_type": "code",
   "execution_count": 6,
   "metadata": {},
   "outputs": [
    {
     "data": {
      "text/latex": [
       "$\\displaystyle x^{2} + y^{2}$"
      ],
      "text/plain": [
       "x**2 + y**2"
      ]
     },
     "execution_count": 6,
     "metadata": {},
     "output_type": "execute_result"
    }
   ],
   "source": [
    "z"
   ]
  },
  {
   "cell_type": "markdown",
   "metadata": {},
   "source": [
    "replace y with a + b in the expression for z"
   ]
  },
  {
   "cell_type": "code",
   "execution_count": 7,
   "metadata": {},
   "outputs": [
    {
     "data": {
      "text/latex": [
       "$\\displaystyle x^{2} + \\left(a + b\\right)^{2}$"
      ],
      "text/plain": [
       "x**2 + (a + b)**2"
      ]
     },
     "execution_count": 7,
     "metadata": {},
     "output_type": "execute_result"
    }
   ],
   "source": [
    "a,b=symbols('a b')\n",
    "z.subs(y,a+b)"
   ]
  },
  {
   "cell_type": "markdown",
   "metadata": {},
   "source": [
    "replace x with a + b in the expression for z"
   ]
  },
  {
   "cell_type": "code",
   "execution_count": 8,
   "metadata": {},
   "outputs": [
    {
     "data": {
      "text/latex": [
       "$\\displaystyle y^{2} + \\left(a + b\\right)^{2}$"
      ],
      "text/plain": [
       "y**2 + (a + b)**2"
      ]
     },
     "execution_count": 8,
     "metadata": {},
     "output_type": "execute_result"
    }
   ],
   "source": [
    "z.subs(x,a+b)"
   ]
  },
  {
   "cell_type": "markdown",
   "metadata": {},
   "source": [
    "Define and evaluate symbolic functions"
   ]
  },
  {
   "cell_type": "code",
   "execution_count": 9,
   "metadata": {},
   "outputs": [
    {
     "data": {
      "text/latex": [
       "$\\displaystyle f{\\left(x \\right)} + 1$"
      ],
      "text/plain": [
       "f(x) + 1"
      ]
     },
     "execution_count": 9,
     "metadata": {},
     "output_type": "execute_result"
    }
   ],
   "source": [
    "f = Function('f')\n",
    "f(x)+1"
   ]
  },
  {
   "cell_type": "code",
   "execution_count": 10,
   "metadata": {},
   "outputs": [
    {
     "data": {
      "text/latex": [
       "$\\displaystyle f{\\left(x,y \\right)} + 1$"
      ],
      "text/plain": [
       "f(x, y) + 1"
      ]
     },
     "execution_count": 10,
     "metadata": {},
     "output_type": "execute_result"
    }
   ],
   "source": [
    "f = Function('f')(x,y)\n",
    "f+1"
   ]
  },
  {
   "cell_type": "markdown",
   "metadata": {},
   "source": [
    "To treat numbers symbolically rather than numerically, sym must be inserted:"
   ]
  },
  {
   "cell_type": "code",
   "execution_count": 11,
   "metadata": {},
   "outputs": [
    {
     "data": {
      "text/latex": [
       "$\\displaystyle 1.22464679914735 \\cdot 10^{-16}$"
      ],
      "text/plain": [
       "1.22464679914735e-16"
      ]
     },
     "execution_count": 11,
     "metadata": {},
     "output_type": "execute_result"
    }
   ],
   "source": [
    "import numpy as np\n",
    "sin(np.pi)"
   ]
  },
  {
   "cell_type": "code",
   "execution_count": 12,
   "metadata": {},
   "outputs": [
    {
     "data": {
      "text/latex": [
       "$\\displaystyle 0$"
      ],
      "text/plain": [
       "0"
      ]
     },
     "execution_count": 12,
     "metadata": {},
     "output_type": "execute_result"
    }
   ],
   "source": [
    "sin(pi)"
   ]
  },
  {
   "cell_type": "markdown",
   "metadata": {},
   "source": [
    "Sometimes simplify needs to be called to simplify an expression:"
   ]
  },
  {
   "cell_type": "code",
   "execution_count": 13,
   "metadata": {},
   "outputs": [
    {
     "data": {
      "text/latex": [
       "$\\displaystyle \\frac{\\sqrt{5}}{2} + \\frac{1}{2}$"
      ],
      "text/plain": [
       "sqrt(5)/2 + 1/2"
      ]
     },
     "execution_count": 13,
     "metadata": {},
     "output_type": "execute_result"
    }
   ],
   "source": [
    "g = (1 + sqrt(Symbol('5')))/2  #golden ratio\n",
    "g"
   ]
  },
  {
   "cell_type": "code",
   "execution_count": 14,
   "metadata": {},
   "outputs": [
    {
     "data": {
      "text/latex": [
       "$\\displaystyle - \\frac{\\sqrt{5}}{2} + \\left(\\frac{\\sqrt{5}}{2} + \\frac{1}{2}\\right)^{2} - \\frac{3}{2}$"
      ],
      "text/plain": [
       "-sqrt(5)/2 + (sqrt(5)/2 + 1/2)**2 - 3/2"
      ]
     },
     "execution_count": 14,
     "metadata": {},
     "output_type": "execute_result"
    }
   ],
   "source": [
    "g**2-g-1 #should vanish"
   ]
  },
  {
   "cell_type": "code",
   "execution_count": 15,
   "metadata": {},
   "outputs": [
    {
     "data": {
      "text/latex": [
       "$\\displaystyle \\frac{5}{4} - \\frac{5}{4}$"
      ],
      "text/plain": [
       "5/4 - 5/4"
      ]
     },
     "execution_count": 15,
     "metadata": {},
     "output_type": "execute_result"
    }
   ],
   "source": [
    "simplify(g**2-g-1)"
   ]
  },
  {
   "cell_type": "markdown",
   "metadata": {},
   "source": [
    "Conversion between symbolic and numeric quantities:"
   ]
  },
  {
   "cell_type": "code",
   "execution_count": 16,
   "metadata": {},
   "outputs": [
    {
     "data": {
      "text/latex": [
       "$\\displaystyle \\frac{1}{4}$"
      ],
      "text/plain": [
       "1/4"
      ]
     },
     "execution_count": 16,
     "metadata": {},
     "output_type": "execute_result"
    }
   ],
   "source": [
    "nsimplify(0.25) #symbolic"
   ]
  },
  {
   "cell_type": "code",
   "execution_count": 17,
   "metadata": {},
   "outputs": [
    {
     "data": {
      "text/plain": [
       "0.3333333333333333"
      ]
     },
     "execution_count": 17,
     "metadata": {},
     "output_type": "execute_result"
    }
   ],
   "source": [
    "1/3  #numeric"
   ]
  },
  {
   "cell_type": "code",
   "execution_count": 18,
   "metadata": {},
   "outputs": [
    {
     "data": {
      "text/latex": [
       "$\\displaystyle \\frac{1}{3}$"
      ],
      "text/plain": [
       "1/3"
      ]
     },
     "execution_count": 18,
     "metadata": {},
     "output_type": "execute_result"
    }
   ],
   "source": [
    "S(1)/3         #symbolic"
   ]
  },
  {
   "cell_type": "code",
   "execution_count": 19,
   "metadata": {},
   "outputs": [
    {
     "data": {
      "text/latex": [
       "$\\displaystyle \\frac{1}{3}$"
      ],
      "text/plain": [
       "1/3"
      ]
     },
     "execution_count": 19,
     "metadata": {},
     "output_type": "execute_result"
    }
   ],
   "source": [
    "Rational(1,3)  #symbolic"
   ]
  },
  {
   "cell_type": "code",
   "execution_count": 20,
   "metadata": {},
   "outputs": [
    {
     "data": {
      "text/latex": [
       "$\\displaystyle 0.333333333333333$"
      ],
      "text/plain": [
       "0.333333333333333"
      ]
     },
     "execution_count": 20,
     "metadata": {},
     "output_type": "execute_result"
    }
   ],
   "source": [
    "Rational(1,3).evalf()"
   ]
  },
  {
   "cell_type": "markdown",
   "metadata": {},
   "source": [
    "**Matrices**: A matrix can contain any symbolic expression."
   ]
  },
  {
   "cell_type": "code",
   "execution_count": 21,
   "metadata": {},
   "outputs": [
    {
     "data": {
      "text/latex": [
       "$\\displaystyle \\left[\\begin{matrix}1 & 2\\\\3 & 4\\end{matrix}\\right]$"
      ],
      "text/plain": [
       "Matrix([\n",
       "[1, 2],\n",
       "[3, 4]])"
      ]
     },
     "execution_count": 21,
     "metadata": {},
     "output_type": "execute_result"
    }
   ],
   "source": [
    "Matrix([[1,2],[3,4]])"
   ]
  },
  {
   "cell_type": "code",
   "execution_count": 22,
   "metadata": {},
   "outputs": [
    {
     "data": {
      "text/latex": [
       "$\\displaystyle \\left[\\begin{matrix}1\\\\2\\\\3\\end{matrix}\\right]$"
      ],
      "text/plain": [
       "Matrix([\n",
       "[1],\n",
       "[2],\n",
       "[3]])"
      ]
     },
     "execution_count": 22,
     "metadata": {},
     "output_type": "execute_result"
    }
   ],
   "source": [
    "Matrix([1,2,3])"
   ]
  },
  {
   "cell_type": "code",
   "execution_count": 23,
   "metadata": {},
   "outputs": [
    {
     "data": {
      "text/latex": [
       "$\\displaystyle \\left[\\begin{matrix}1 & 2 & 3\\end{matrix}\\right]$"
      ],
      "text/plain": [
       "Matrix([[1, 2, 3]])"
      ]
     },
     "execution_count": 23,
     "metadata": {},
     "output_type": "execute_result"
    }
   ],
   "source": [
    "Matrix([1,2,3]).T"
   ]
  },
  {
   "cell_type": "code",
   "execution_count": 24,
   "metadata": {},
   "outputs": [
    {
     "data": {
      "text/latex": [
       "$\\displaystyle \\left[\\begin{matrix}1 & 2 & 3\\end{matrix}\\right]$"
      ],
      "text/plain": [
       "Matrix([[1, 2, 3]])"
      ]
     },
     "execution_count": 24,
     "metadata": {},
     "output_type": "execute_result"
    }
   ],
   "source": [
    "Matrix([[1,2,3]])"
   ]
  },
  {
   "cell_type": "code",
   "execution_count": 25,
   "metadata": {},
   "outputs": [
    {
     "data": {
      "text/latex": [
       "$\\displaystyle \\left[\\begin{matrix}a\\\\b\\\\c\\end{matrix}\\right]$"
      ],
      "text/plain": [
       "Matrix([\n",
       "[a],\n",
       "[b],\n",
       "[c]])"
      ]
     },
     "execution_count": 25,
     "metadata": {},
     "output_type": "execute_result"
    }
   ],
   "source": [
    "a,b,c=symbols('a b c')\n",
    "Matrix([a,b,c])"
   ]
  },
  {
   "cell_type": "code",
   "execution_count": 26,
   "metadata": {},
   "outputs": [
    {
     "data": {
      "text/latex": [
       "$\\displaystyle \\left[\\begin{matrix}a + 2 b\\\\3 a + 4 b\\end{matrix}\\right]$"
      ],
      "text/plain": [
       "Matrix([\n",
       "[  a + 2*b],\n",
       "[3*a + 4*b]])"
      ]
     },
     "execution_count": 26,
     "metadata": {},
     "output_type": "execute_result"
    }
   ],
   "source": [
    "Matrix([[1,2],[3,4]])@Matrix([a,b]) # Python 3.5+"
   ]
  },
  {
   "cell_type": "code",
   "execution_count": 27,
   "metadata": {},
   "outputs": [
    {
     "data": {
      "text/latex": [
       "$\\displaystyle \\left[\\begin{matrix}a + 2 b\\\\3 a + 4 b\\end{matrix}\\right]$"
      ],
      "text/plain": [
       "Matrix([\n",
       "[  a + 2*b],\n",
       "[3*a + 4*b]])"
      ]
     },
     "execution_count": 27,
     "metadata": {},
     "output_type": "execute_result"
    }
   ],
   "source": [
    "Matrix([[1,2],[3,4]])*Matrix([a,b])"
   ]
  },
  {
   "cell_type": "markdown",
   "metadata": {},
   "source": [
    "calculating the jacobian"
   ]
  },
  {
   "cell_type": "code",
   "execution_count": 28,
   "metadata": {},
   "outputs": [
    {
     "data": {
      "text/latex": [
       "$\\displaystyle \\left[\\begin{matrix}\\frac{d}{d x_{1}} \\operatorname{f_{1}}{\\left(x_{1} \\right)} & \\frac{d}{d x_{2}} \\operatorname{f_{1}}{\\left(x_{2} \\right)} & \\frac{d}{d x_{3}} \\operatorname{f_{1}}{\\left(x_{3} \\right)}\\\\\\frac{d}{d x_{1}} \\operatorname{f_{2}}{\\left(x_{1} \\right)} & \\frac{d}{d x_{2}} \\operatorname{f_{2}}{\\left(x_{2} \\right)} & \\frac{d}{d x_{3}} \\operatorname{f_{2}}{\\left(x_{3} \\right)}\\\\\\frac{d}{d x_{1}} \\operatorname{f_{3}}{\\left(x_{1} \\right)} & \\frac{d}{d x_{2}} \\operatorname{f_{3}}{\\left(x_{2} \\right)} & \\frac{d}{d x_{3}} \\operatorname{f_{3}}{\\left(x_{3} \\right)}\\end{matrix}\\right]$"
      ],
      "text/plain": [
       "Matrix([\n",
       "[Derivative(f1(x1), x1), Derivative(f1(x2), x2), Derivative(f1(x3), x3)],\n",
       "[Derivative(f2(x1), x1), Derivative(f2(x2), x2), Derivative(f2(x3), x3)],\n",
       "[Derivative(f3(x1), x1), Derivative(f3(x2), x2), Derivative(f3(x3), x3)]])"
      ]
     },
     "execution_count": 28,
     "metadata": {},
     "output_type": "execute_result"
    }
   ],
   "source": [
    "x1,x2,x3 = symbols('x1 x2 x3')\n",
    "f1,f2,f3 = symbols('f1 f2 f3', cls=Function)\n",
    "M = Matrix([f1(x1)+f1(x2)+f1(x3),f2(x1)+f2(x2)+f2(x3),f3(x1)+f3(x2)+f3(x3)])\n",
    "M.jacobian([x1,x2,x3])"
   ]
  },
  {
   "cell_type": "markdown",
   "metadata": {},
   "source": [
    "**Matrix Symbols**: operation on matrices of symbolic dimension $n\\times m$"
   ]
  },
  {
   "cell_type": "code",
   "execution_count": 29,
   "metadata": {},
   "outputs": [
    {
     "data": {
      "text/latex": [
       "$\\displaystyle M b$"
      ],
      "text/plain": [
       "M*b"
      ]
     },
     "execution_count": 29,
     "metadata": {},
     "output_type": "execute_result"
    }
   ],
   "source": [
    "n, m = symbols('n m', integer=True)\n",
    "M = MatrixSymbol('M', n, m)\n",
    "b = MatrixSymbol('b', m, 1)\n",
    "M@b"
   ]
  },
  {
   "cell_type": "code",
   "execution_count": 30,
   "metadata": {},
   "outputs": [
    {
     "data": {
      "text/plain": [
       "(n, 1)"
      ]
     },
     "execution_count": 30,
     "metadata": {},
     "output_type": "execute_result"
    }
   ],
   "source": [
    "(M@b).shape"
   ]
  },
  {
   "cell_type": "code",
   "execution_count": 31,
   "metadata": {},
   "outputs": [
    {
     "data": {
      "text/latex": [
       "$\\displaystyle \\left(M b\\right)^{T}$"
      ],
      "text/plain": [
       "(M*b).T"
      ]
     },
     "execution_count": 31,
     "metadata": {},
     "output_type": "execute_result"
    }
   ],
   "source": [
    "Transpose(M@b)"
   ]
  },
  {
   "cell_type": "code",
   "execution_count": 32,
   "metadata": {},
   "outputs": [
    {
     "data": {
      "text/latex": [
       "$\\displaystyle b^{T} M^{T}$"
      ],
      "text/plain": [
       "b.T*M.T"
      ]
     },
     "execution_count": 32,
     "metadata": {},
     "output_type": "execute_result"
    }
   ],
   "source": [
    "Transpose(M@b).doit()"
   ]
  },
  {
   "cell_type": "markdown",
   "metadata": {},
   "source": []
  },
  {
   "cell_type": "markdown",
   "metadata": {},
   "source": [
    "## Algebraic equations\n",
    "\n",
    "solves the equation for y"
   ]
  },
  {
   "cell_type": "code",
   "execution_count": 33,
   "metadata": {},
   "outputs": [],
   "source": [
    "x = Symbol('x')\n",
    "y = Symbol('y')"
   ]
  },
  {
   "cell_type": "code",
   "execution_count": null,
   "metadata": {},
   "outputs": [],
   "source": []
  },
  {
   "cell_type": "code",
   "execution_count": 34,
   "metadata": {},
   "outputs": [
    {
     "data": {
      "text/latex": [
       "$\\displaystyle 0.333333333333333$"
      ],
      "text/plain": [
       "0.333333333333333"
      ]
     },
     "execution_count": 34,
     "metadata": {},
     "output_type": "execute_result"
    }
   ],
   "source": [
    "simplify(1/3)"
   ]
  },
  {
   "cell_type": "code",
   "execution_count": 35,
   "metadata": {},
   "outputs": [
    {
     "data": {
      "text/plain": [
       "[-sqrt(y), sqrt(y)]"
      ]
     },
     "execution_count": 35,
     "metadata": {},
     "output_type": "execute_result"
    }
   ],
   "source": [
    "solve(x**2-y, x)"
   ]
  },
  {
   "cell_type": "markdown",
   "metadata": {},
   "source": [
    "### Linear systems\n",
    "\n",
    "Example: $x +2y = u$, $4x + 5y = v$"
   ]
  },
  {
   "cell_type": "code",
   "execution_count": 36,
   "metadata": {},
   "outputs": [
    {
     "data": {
      "text/plain": [
       "{x: -5*u/3 + 2*v/3, y: 4*u/3 - v/3}"
      ]
     },
     "execution_count": 36,
     "metadata": {},
     "output_type": "execute_result"
    }
   ],
   "source": [
    "x, y, u, v = symbols('x y u v')\n",
    "system = Matrix(( (1, 2, u), (4, 5, v)))\n",
    "solve_linear_system(system, x, y)"
   ]
  },
  {
   "cell_type": "code",
   "execution_count": 37,
   "metadata": {},
   "outputs": [
    {
     "data": {
      "text/plain": [
       "{x: -5*u/3 + 2*v/3, y: 4*u/3 - v/3}"
      ]
     },
     "execution_count": 37,
     "metadata": {},
     "output_type": "execute_result"
    }
   ],
   "source": [
    "x, y, u, v = symbols('x y u v')\n",
    "solve((x+2*y-u,4*x+5*y-v), x, y)"
   ]
  },
  {
   "cell_type": "code",
   "execution_count": 38,
   "metadata": {},
   "outputs": [
    {
     "data": {
      "text/plain": [
       "{x_1: -5*u/3 + 2*v/3, x_2: 4*u/3 - v/3}"
      ]
     },
     "execution_count": 38,
     "metadata": {},
     "output_type": "execute_result"
    }
   ],
   "source": [
    "x_1, x_2, u, v = symbols('x_1 x_2 u v')\n",
    "A = Matrix(((1, 2), (4, 5)))\n",
    "b = Matrix(((u), (v)))\n",
    "x = Matrix(((x_1), (x_2)))\n",
    "solve(A*x-b, x_1, x_2)"
   ]
  },
  {
   "cell_type": "markdown",
   "metadata": {},
   "source": [
    "### Nonlinear systems\n",
    "\n",
    "Example: $x^2 + 3y = 0$, $y^2+2x=0$"
   ]
  },
  {
   "cell_type": "code",
   "execution_count": 39,
   "metadata": {},
   "outputs": [
    {
     "data": {
      "text/plain": [
       "[{x: 0, y: 0},\n",
       " {x: -(12**(1/3)/2 + 2**(2/3)*3**(5/6)*I/2)**2/2,\n",
       "  y: 12**(1/3)/2 + 2**(2/3)*3**(5/6)*I/2},\n",
       " {x: -(-3*2**(2/3)*3**(1/3)/4 - 12**(1/3)/4)**2/2,\n",
       "  y: -3*2**(2/3)*3**(1/3)/4 - 12**(1/3)/4},\n",
       " {x: -(-12**(1/3)/4 + 3*2**(2/3)*3**(1/3)/4 - 2**(2/3)*3**(5/6)*I/2)**2/2,\n",
       "  y: -12**(1/3)/4 + 3*2**(2/3)*3**(1/3)/4 - 2**(2/3)*3**(5/6)*I/2}]"
      ]
     },
     "execution_count": 39,
     "metadata": {},
     "output_type": "execute_result"
    }
   ],
   "source": [
    "x, y = symbols('x y')\n",
    "solve([x**2 + 3*y, y**2 + 2*x])"
   ]
  },
  {
   "cell_type": "markdown",
   "metadata": {},
   "source": [
    "### Exercise: \n",
    "\n",
    "Find all matrices of the form\n",
    "\n",
    "$$\n",
    "\\left( \\begin{array}{ccc} a&b&c\\\\c&a&b\\\\b&c&a \\end{array} \\right)\n",
    "$$\n",
    "\n",
    "with $a,b,c\\in\\mathbf{R}$ whose square is the unit matrix."
   ]
  },
  {
   "cell_type": "code",
   "execution_count": 40,
   "metadata": {},
   "outputs": [
    {
     "data": {
      "text/plain": [
       "[{a: -1, b: 0, c: 0},\n",
       " {a: -1/3, b: 2/3, c: 2/3},\n",
       " {a: -1/3, b: -1/3 - sqrt(3)*I/3, c: -1/3 + sqrt(3)*I/3},\n",
       " {a: -1/3, b: -1/3 + sqrt(3)*I/3, c: -1/3 - sqrt(3)*I/3},\n",
       " {a: 1/3, b: -2/3, c: -2/3},\n",
       " {a: 1/3, b: 1/3 - sqrt(3)*I/3, c: 1/3 + sqrt(3)*I/3},\n",
       " {a: 1/3, b: 1/3 + sqrt(3)*I/3, c: 1/3 - sqrt(3)*I/3},\n",
       " {a: 1, b: 0, c: 0}]"
      ]
     },
     "execution_count": 40,
     "metadata": {},
     "output_type": "execute_result"
    }
   ],
   "source": [
    "a, b, c = symbols('a b c')\n",
    "M = Matrix(((a, b, c), (c, a, b), (b, c, a)))\n",
    "solve(M**2-eye(3,3))"
   ]
  },
  {
   "cell_type": "markdown",
   "metadata": {},
   "source": [
    "### Assumptions on symbolic variables"
   ]
  },
  {
   "cell_type": "code",
   "execution_count": 41,
   "metadata": {},
   "outputs": [
    {
     "data": {
      "text/plain": [
       "[-1, 1/2 - sqrt(3)*I/2, 1/2 + sqrt(3)*I/2]"
      ]
     },
     "execution_count": 41,
     "metadata": {},
     "output_type": "execute_result"
    }
   ],
   "source": [
    "x = symbols('x')\n",
    "solve(x**3 + 1)"
   ]
  },
  {
   "cell_type": "code",
   "execution_count": 42,
   "metadata": {},
   "outputs": [
    {
     "data": {
      "text/plain": [
       "[-1]"
      ]
     },
     "execution_count": 42,
     "metadata": {},
     "output_type": "execute_result"
    }
   ],
   "source": [
    "x = symbols('x', real=True)\n",
    "solve(x**3 + 1)"
   ]
  },
  {
   "cell_type": "code",
   "execution_count": 43,
   "metadata": {},
   "outputs": [
    {
     "data": {
      "text/plain": [
       "[]"
      ]
     },
     "execution_count": 43,
     "metadata": {},
     "output_type": "execute_result"
    }
   ],
   "source": [
    "x = symbols('x', positive=True)\n",
    "solve(x**3 + 1)"
   ]
  },
  {
   "cell_type": "code",
   "execution_count": 44,
   "metadata": {},
   "outputs": [
    {
     "data": {
      "text/plain": [
       "True"
      ]
     },
     "execution_count": 44,
     "metadata": {},
     "output_type": "execute_result"
    }
   ],
   "source": [
    "x.is_real"
   ]
  },
  {
   "cell_type": "code",
   "execution_count": 45,
   "metadata": {},
   "outputs": [
    {
     "data": {
      "text/plain": [
       "True"
      ]
     },
     "execution_count": 45,
     "metadata": {},
     "output_type": "execute_result"
    }
   ],
   "source": [
    "x.is_positive"
   ]
  },
  {
   "cell_type": "markdown",
   "metadata": {},
   "source": [
    "reset assumptions"
   ]
  },
  {
   "cell_type": "code",
   "execution_count": 46,
   "metadata": {},
   "outputs": [
    {
     "data": {
      "text/plain": [
       "[-1, 1/2 - sqrt(3)*I/2, 1/2 + sqrt(3)*I/2]"
      ]
     },
     "execution_count": 46,
     "metadata": {},
     "output_type": "execute_result"
    }
   ],
   "source": [
    "x = symbols('x')\n",
    "solve(x**3 + 1)"
   ]
  },
  {
   "cell_type": "markdown",
   "metadata": {},
   "source": [
    "## Symbolic differentiation and integration\n",
    "\n",
    "Differentiate a symbolic function:"
   ]
  },
  {
   "cell_type": "code",
   "execution_count": 47,
   "metadata": {},
   "outputs": [
    {
     "data": {
      "text/latex": [
       "$\\displaystyle \\frac{d^{2}}{d x^{2}} f{\\left(x \\right)}$"
      ],
      "text/plain": [
       "Derivative(f(x), (x, 2))"
      ]
     },
     "execution_count": 47,
     "metadata": {},
     "output_type": "execute_result"
    }
   ],
   "source": [
    "f = Function('f')\n",
    "Derivative(f(x),x,x)"
   ]
  },
  {
   "cell_type": "code",
   "execution_count": 48,
   "metadata": {},
   "outputs": [
    {
     "data": {
      "text/latex": [
       "$\\displaystyle 2 x y$"
      ],
      "text/plain": [
       "2*x*y"
      ]
     },
     "execution_count": 48,
     "metadata": {},
     "output_type": "execute_result"
    }
   ],
   "source": [
    "diff(x**2*y,x)"
   ]
  },
  {
   "cell_type": "code",
   "execution_count": 49,
   "metadata": {},
   "outputs": [
    {
     "data": {
      "text/latex": [
       "$\\displaystyle x^{2}$"
      ],
      "text/plain": [
       "x**2"
      ]
     },
     "execution_count": 49,
     "metadata": {},
     "output_type": "execute_result"
    }
   ],
   "source": [
    "diff(x**2*y,y)"
   ]
  },
  {
   "cell_type": "markdown",
   "metadata": {},
   "source": [
    "Second order derivative"
   ]
  },
  {
   "cell_type": "code",
   "execution_count": 50,
   "metadata": {},
   "outputs": [
    {
     "data": {
      "text/latex": [
       "$\\displaystyle 2 y$"
      ],
      "text/plain": [
       "2*y"
      ]
     },
     "execution_count": 50,
     "metadata": {},
     "output_type": "execute_result"
    }
   ],
   "source": [
    "diff(x**2*y,x,x)"
   ]
  },
  {
   "cell_type": "code",
   "execution_count": 51,
   "metadata": {},
   "outputs": [
    {
     "data": {
      "text/latex": [
       "$\\displaystyle 2 y$"
      ],
      "text/plain": [
       "2*y"
      ]
     },
     "execution_count": 51,
     "metadata": {},
     "output_type": "execute_result"
    }
   ],
   "source": [
    "diff(x**2*y,x,2)"
   ]
  },
  {
   "cell_type": "markdown",
   "metadata": {},
   "source": [
    "### Exercise: \n",
    "\n",
    "Determine\n",
    "\n",
    "$$\n",
    "\\lim_{x\\to 0} \\frac{2\\tan(x) - \\tan(2x)}{x(1 - \\cos(3x))}\n",
    "$$\n",
    "\n",
    "Here we use derivatives to determine limits. This is in particular useful, if we obtain limits that end up in inteterminate or undefined forms such as $\\infty / \\infty$, $-\\infty / \\infty$, or $0/0$. The latter is the case here.\n",
    "\n",
    "#### L'Hopital's Rule:\n",
    "\n",
    "If $\\lim_{x\\to 0} f(x)=0$ and $\\lim_{x\\to 0} g(x)=0$ and $\\lim_{x\\to 0} \\frac{f'(x)}{g'(x)}=L$ then we can say that the limit $\\lim_{x\\to 0} \\frac{f(x)}{g(x)}=L$."
   ]
  },
  {
   "cell_type": "code",
   "execution_count": 52,
   "metadata": {},
   "outputs": [
    {
     "data": {
      "text/latex": [
       "$\\displaystyle \\frac{2 \\tan{\\left(x \\right)} - \\tan{\\left(2 x \\right)}}{x \\left(1 - \\cos{\\left(3 x \\right)}\\right)}$"
      ],
      "text/plain": [
       "(2*tan(x) - tan(2*x))/(x*(1 - cos(3*x)))"
      ]
     },
     "execution_count": 52,
     "metadata": {},
     "output_type": "execute_result"
    }
   ],
   "source": [
    "x = symbols('x')\n",
    "f=(2*tan(x) - tan(2*x))/(x*(1 - cos(3*x)))\n",
    "f"
   ]
  },
  {
   "cell_type": "code",
   "execution_count": 53,
   "metadata": {},
   "outputs": [
    {
     "data": {
      "text/latex": [
       "$\\displaystyle 0$"
      ],
      "text/plain": [
       "0"
      ]
     },
     "execution_count": 53,
     "metadata": {},
     "output_type": "execute_result"
    }
   ],
   "source": [
    "z = 2*tan(x) - tan(2*x)  #numerator\n",
    "z.subs(x, 0)"
   ]
  },
  {
   "cell_type": "code",
   "execution_count": 54,
   "metadata": {},
   "outputs": [
    {
     "data": {
      "text/latex": [
       "$\\displaystyle 0$"
      ],
      "text/plain": [
       "0"
      ]
     },
     "execution_count": 54,
     "metadata": {},
     "output_type": "execute_result"
    }
   ],
   "source": [
    "z1 = diff(z)\n",
    "z1.subs(x,0)"
   ]
  },
  {
   "cell_type": "code",
   "execution_count": 55,
   "metadata": {},
   "outputs": [
    {
     "data": {
      "text/latex": [
       "$\\displaystyle 0$"
      ],
      "text/plain": [
       "0"
      ]
     },
     "execution_count": 55,
     "metadata": {},
     "output_type": "execute_result"
    }
   ],
   "source": [
    "z2 = diff(z1)\n",
    "z2.subs(x,0)"
   ]
  },
  {
   "cell_type": "code",
   "execution_count": 56,
   "metadata": {},
   "outputs": [
    {
     "data": {
      "text/latex": [
       "$\\displaystyle -12$"
      ],
      "text/plain": [
       "-12"
      ]
     },
     "execution_count": 56,
     "metadata": {},
     "output_type": "execute_result"
    }
   ],
   "source": [
    "z3 = diff(z2)\n",
    "z3.subs(x,0)"
   ]
  },
  {
   "cell_type": "code",
   "execution_count": 57,
   "metadata": {},
   "outputs": [
    {
     "data": {
      "text/latex": [
       "$\\displaystyle 0$"
      ],
      "text/plain": [
       "0"
      ]
     },
     "execution_count": 57,
     "metadata": {},
     "output_type": "execute_result"
    }
   ],
   "source": [
    "n = x*(1 - cos(3*x))  #denominator\n",
    "n.subs(x, 0)"
   ]
  },
  {
   "cell_type": "code",
   "execution_count": 58,
   "metadata": {},
   "outputs": [
    {
     "data": {
      "text/latex": [
       "$\\displaystyle 0$"
      ],
      "text/plain": [
       "0"
      ]
     },
     "execution_count": 58,
     "metadata": {},
     "output_type": "execute_result"
    }
   ],
   "source": [
    "n1 = diff(n)\n",
    "n1.subs(x, 0)"
   ]
  },
  {
   "cell_type": "code",
   "execution_count": 59,
   "metadata": {},
   "outputs": [
    {
     "data": {
      "text/latex": [
       "$\\displaystyle 0$"
      ],
      "text/plain": [
       "0"
      ]
     },
     "execution_count": 59,
     "metadata": {},
     "output_type": "execute_result"
    }
   ],
   "source": [
    "n2 = diff(n1)\n",
    "n2.subs(x, 0)"
   ]
  },
  {
   "cell_type": "code",
   "execution_count": 60,
   "metadata": {},
   "outputs": [
    {
     "data": {
      "text/latex": [
       "$\\displaystyle 27$"
      ],
      "text/plain": [
       "27"
      ]
     },
     "execution_count": 60,
     "metadata": {},
     "output_type": "execute_result"
    }
   ],
   "source": [
    "n3 = diff(n2)\n",
    "n3.subs(x, 0)"
   ]
  },
  {
   "cell_type": "markdown",
   "metadata": {},
   "source": [
    "Applying [L'Hopital's rule](https://www.khanacademy.org/math/ap-calculus-ab/ab-diff-contextual-applications-new/ab-4-7/v/introduction-to-l-hopital-s-rule) three times yields the desired limit:"
   ]
  },
  {
   "cell_type": "code",
   "execution_count": 61,
   "metadata": {},
   "outputs": [
    {
     "data": {
      "text/latex": [
       "$\\displaystyle \\text{NaN}$"
      ],
      "text/plain": [
       "nan"
      ]
     },
     "execution_count": 61,
     "metadata": {},
     "output_type": "execute_result"
    }
   ],
   "source": [
    "(z1/n1).subs(x, 0)"
   ]
  },
  {
   "cell_type": "code",
   "execution_count": 62,
   "metadata": {},
   "outputs": [
    {
     "data": {
      "text/latex": [
       "$\\displaystyle \\text{NaN}$"
      ],
      "text/plain": [
       "nan"
      ]
     },
     "execution_count": 62,
     "metadata": {},
     "output_type": "execute_result"
    }
   ],
   "source": [
    "(z2/n2).subs(x, 0)"
   ]
  },
  {
   "cell_type": "code",
   "execution_count": 63,
   "metadata": {},
   "outputs": [
    {
     "data": {
      "text/latex": [
       "$\\displaystyle - \\frac{4}{9}$"
      ],
      "text/plain": [
       "-4/9"
      ]
     },
     "execution_count": 63,
     "metadata": {},
     "output_type": "execute_result"
    }
   ],
   "source": [
    "(z3/n3).subs(x, 0)"
   ]
  },
  {
   "cell_type": "markdown",
   "metadata": {},
   "source": [
    "## Taylor expansion\n",
    "\n",
    "A [Taylor series](https://mathworld.wolfram.com/TaylorSeries.html) is a series expansion of a function about a point. A one-dimensional Taylor series is an expansion of a real function $f(x)$ about a point $x=a$ is given by\n",
    "\n",
    "$$f(x)=f(a)+f'(a)(x-a)+\\frac{f''(a)}{2!}(x-a)^2+\\frac{f'''(a)}{3!}(x-a)^3+\\dots+\\frac{f^{(n)}(a)}{n!}(x-a)^n+\\dots$$\n",
    "\n",
    "The Taylor series of an unknown function $f(x)$ about a point $a$ up to order $n$ may be found using `series`."
   ]
  },
  {
   "cell_type": "code",
   "execution_count": 64,
   "metadata": {},
   "outputs": [
    {
     "data": {
      "text/latex": [
       "$\\displaystyle f{\\left(h \\right)} + \\left(- h + x\\right) \\left. \\frac{d}{d \\xi_{1}} f{\\left(\\xi_{1} \\right)} \\right|_{\\substack{ \\xi_{1}=h }} + \\frac{\\left(- h + x\\right)^{2} \\left. \\frac{d^{2}}{d \\xi_{1}^{2}} f{\\left(\\xi_{1} \\right)} \\right|_{\\substack{ \\xi_{1}=h }}}{2} + O\\left(\\left(- h + x\\right)^{3}; x\\rightarrow h\\right)$"
      ],
      "text/plain": [
       "f(h) + (-h + x)*Subs(Derivative(f(_xi_1), _xi_1), _xi_1, h) + (-h + x)**2*Subs(Derivative(f(_xi_1), (_xi_1, 2)), _xi_1, h)/2 + O((-h + x)**3, (x, h))"
      ]
     },
     "execution_count": 64,
     "metadata": {},
     "output_type": "execute_result"
    }
   ],
   "source": [
    "x, h = symbols(\"x,h\")\n",
    "f = Function(\"f\")\n",
    "f(x).series(x, x0=h, n=3)"
   ]
  },
  {
   "cell_type": "markdown",
   "metadata": {},
   "source": [
    "The Taylor series of the function $\\sin(x)$ about a point $x_0=0$ up to order $n=6$:"
   ]
  },
  {
   "cell_type": "code",
   "execution_count": 65,
   "metadata": {},
   "outputs": [
    {
     "data": {
      "text/latex": [
       "$\\displaystyle x - \\frac{x^{3}}{6} + \\frac{x^{5}}{120} + O\\left(x^{6}\\right)$"
      ],
      "text/plain": [
       "x - x**3/6 + x**5/120 + O(x**6)"
      ]
     },
     "execution_count": 65,
     "metadata": {},
     "output_type": "execute_result"
    }
   ],
   "source": [
    "x = symbols(\"x\")\n",
    "sin(x).series(x, x0=0, n=6)"
   ]
  },
  {
   "cell_type": "markdown",
   "metadata": {},
   "source": [
    "The Taylor series of the function $\\sin(x)$ about a point $x_0=0$ up to order $n=10$:"
   ]
  },
  {
   "cell_type": "code",
   "execution_count": 66,
   "metadata": {},
   "outputs": [
    {
     "data": {
      "text/latex": [
       "$\\displaystyle x - \\frac{x^{3}}{6} + \\frac{x^{5}}{120} - \\frac{x^{7}}{5040} + \\frac{x^{9}}{362880} + O\\left(x^{10}\\right)$"
      ],
      "text/plain": [
       "x - x**3/6 + x**5/120 - x**7/5040 + x**9/362880 + O(x**10)"
      ]
     },
     "execution_count": 66,
     "metadata": {},
     "output_type": "execute_result"
    }
   ],
   "source": [
    "x = symbols(\"x\")\n",
    "sin(x).series(x, x0=0, n=10)"
   ]
  },
  {
   "cell_type": "markdown",
   "metadata": {},
   "source": [
    "The Taylor series of the function $\\log(x)$ about a point $x_0=1$ up to order $n=6$:"
   ]
  },
  {
   "cell_type": "code",
   "execution_count": 67,
   "metadata": {},
   "outputs": [
    {
     "data": {
      "text/latex": [
       "$\\displaystyle -1 - \\frac{\\left(x - 1\\right)^{2}}{2} + \\frac{\\left(x - 1\\right)^{3}}{3} - \\frac{\\left(x - 1\\right)^{4}}{4} + \\frac{\\left(x - 1\\right)^{5}}{5} + x + O\\left(\\left(x - 1\\right)^{6}; x\\rightarrow 1\\right)$"
      ],
      "text/plain": [
       "-1 - (x - 1)**2/2 + (x - 1)**3/3 - (x - 1)**4/4 + (x - 1)**5/5 + x + O((x - 1)**6, (x, 1))"
      ]
     },
     "execution_count": 67,
     "metadata": {},
     "output_type": "execute_result"
    }
   ],
   "source": [
    "x = symbols(\"x\")\n",
    "log(x).series(x, x0=1, n=6)"
   ]
  },
  {
   "cell_type": "markdown",
   "metadata": {},
   "source": [
    "If you want a finite (forward) [difference approximation](https://docs.sympy.org/latest/special_topics/finite_diff_derivatives.html) to derivatives, you can for example write"
   ]
  },
  {
   "cell_type": "code",
   "execution_count": 68,
   "metadata": {},
   "outputs": [
    {
     "data": {
      "text/latex": [
       "$\\displaystyle f{\\left(2 h + x \\right)}$"
      ],
      "text/plain": [
       "f(2*h + x)"
      ]
     },
     "execution_count": 68,
     "metadata": {},
     "output_type": "execute_result"
    }
   ],
   "source": [
    "FW = f(x+h).series(x+h, x0=h, n=3)   #TODO\n",
    "FW.subs(x+h,0)"
   ]
  },
  {
   "cell_type": "markdown",
   "metadata": {},
   "source": [
    "## Integration\n",
    "\n",
    "SymPy implements methods to calculate definite and indefinite [integrals](https://docs.sympy.org/latest/modules/integrals/integrals.html) of expressions.\n",
    "- `integrate(f,x)` returns the indefinite integral\n",
    "- `integrate(f,(x,a))` returns the indefinite integral, with result given with $a$ replacing $x$\n",
    "- `integrate(f,(x,a,b))` returns the definite integral"
   ]
  },
  {
   "cell_type": "code",
   "execution_count": 69,
   "metadata": {},
   "outputs": [
    {
     "data": {
      "text/latex": [
       "$\\displaystyle \\int f{\\left(x \\right)}\\, dx$"
      ],
      "text/plain": [
       "Integral(f(x), x)"
      ]
     },
     "execution_count": 69,
     "metadata": {},
     "output_type": "execute_result"
    }
   ],
   "source": [
    "x = symbols(\"x\")\n",
    "f = Function(\"f\")\n",
    "f(x).integrate(x)"
   ]
  },
  {
   "cell_type": "code",
   "execution_count": 70,
   "metadata": {},
   "outputs": [
    {
     "data": {
      "text/latex": [
       "$\\displaystyle \\int\\limits^{a} f{\\left(x \\right)}\\, dx$"
      ],
      "text/plain": [
       "Integral(f(x), (x, a))"
      ]
     },
     "execution_count": 70,
     "metadata": {},
     "output_type": "execute_result"
    }
   ],
   "source": [
    "x, a = symbols(\"x,a\")\n",
    "f = Function(\"f\")\n",
    "f(x).integrate((x,a))"
   ]
  },
  {
   "cell_type": "code",
   "execution_count": 71,
   "metadata": {},
   "outputs": [
    {
     "data": {
      "text/latex": [
       "$\\displaystyle \\int\\limits_{a}^{b} f{\\left(x \\right)}\\, dx$"
      ],
      "text/plain": [
       "Integral(f(x), (x, a, b))"
      ]
     },
     "execution_count": 71,
     "metadata": {},
     "output_type": "execute_result"
    }
   ],
   "source": [
    "x, a, b = symbols(\"x,a,b\")\n",
    "f = Function(\"f\")\n",
    "f(x).integrate((x,a,b))"
   ]
  },
  {
   "cell_type": "markdown",
   "metadata": {},
   "source": [
    "We start with a quadratic polynomical and take a derivative:"
   ]
  },
  {
   "cell_type": "code",
   "execution_count": 72,
   "metadata": {},
   "outputs": [
    {
     "data": {
      "text/latex": [
       "$\\displaystyle 2 a x + b$"
      ],
      "text/plain": [
       "2*a*x + b"
      ]
     },
     "execution_count": 72,
     "metadata": {},
     "output_type": "execute_result"
    }
   ],
   "source": [
    "x, a, b, c = symbols(\"x,a,b,c\")\n",
    "p = a*x**2 + b*x + c\n",
    "dpdx = diff(p,x)\n",
    "dpdx"
   ]
  },
  {
   "cell_type": "markdown",
   "metadata": {},
   "source": [
    "Now we integrate to try and retrieve the function we started with:"
   ]
  },
  {
   "cell_type": "code",
   "execution_count": 73,
   "metadata": {},
   "outputs": [
    {
     "data": {
      "text/latex": [
       "$\\displaystyle a x^{2} + b x$"
      ],
      "text/plain": [
       "a*x**2 + b*x"
      ]
     },
     "execution_count": 73,
     "metadata": {},
     "output_type": "execute_result"
    }
   ],
   "source": [
    "p1 = integrate(dpdx,x)\n",
    "p1"
   ]
  },
  {
   "cell_type": "markdown",
   "metadata": {},
   "source": [
    "**Note**: the integration constant is zero by default and thus needs to be added in by hand"
   ]
  },
  {
   "cell_type": "code",
   "execution_count": 74,
   "metadata": {},
   "outputs": [
    {
     "data": {
      "text/latex": [
       "$\\displaystyle a x^{2} + b x + c$"
      ],
      "text/plain": [
       "a*x**2 + b*x + c"
      ]
     },
     "execution_count": 74,
     "metadata": {},
     "output_type": "execute_result"
    }
   ],
   "source": [
    "p1 = p1 + c\n",
    "p1"
   ]
  },
  {
   "cell_type": "markdown",
   "metadata": {},
   "source": [
    "#### Indefinite, definite and improper integrals\n",
    "\n",
    "$$f(x)=\\int \\frac{1}{x^2}$$"
   ]
  },
  {
   "cell_type": "code",
   "execution_count": 75,
   "metadata": {},
   "outputs": [
    {
     "data": {
      "text/latex": [
       "$\\displaystyle - \\frac{1}{x}$"
      ],
      "text/plain": [
       "-1/x"
      ]
     },
     "execution_count": 75,
     "metadata": {},
     "output_type": "execute_result"
    }
   ],
   "source": [
    "integrate(1/x**2,x)"
   ]
  },
  {
   "cell_type": "code",
   "execution_count": 76,
   "metadata": {},
   "outputs": [
    {
     "data": {
      "image/png": "[encoded data removed]",
      "text/plain": [
       "<Figure size 432x288 with 1 Axes>"
      ]
     },
     "metadata": {
      "needs_background": "light"
     },
     "output_type": "display_data"
    },
    {
     "data": {
      "text/plain": [
       "<sympy.plotting.plot.Plot at 0x126cda640>"
      ]
     },
     "execution_count": 76,
     "metadata": {},
     "output_type": "execute_result"
    }
   ],
   "source": [
    "plot(1/x**2, (x, 1, 2))"
   ]
  },
  {
   "cell_type": "code",
   "execution_count": 77,
   "metadata": {},
   "outputs": [
    {
     "data": {
      "text/latex": [
       "$\\displaystyle \\frac{1}{2}$"
      ],
      "text/plain": [
       "1/2"
      ]
     },
     "execution_count": 77,
     "metadata": {},
     "output_type": "execute_result"
    }
   ],
   "source": [
    "integrate(1/x**2,(x,1,2))"
   ]
  },
  {
   "cell_type": "code",
   "execution_count": 78,
   "metadata": {},
   "outputs": [
    {
     "data": {
      "text/latex": [
       "$\\displaystyle 1$"
      ],
      "text/plain": [
       "1"
      ]
     },
     "execution_count": 78,
     "metadata": {},
     "output_type": "execute_result"
    }
   ],
   "source": [
    "integrate(1/x**2,(x, 1, oo))"
   ]
  },
  {
   "cell_type": "markdown",
   "metadata": {},
   "source": [
    "$$\\int_0^\\inf \\frac{1}{1 + x^4}$$"
   ]
  },
  {
   "cell_type": "code",
   "execution_count": 79,
   "metadata": {},
   "outputs": [
    {
     "data": {
      "image/png": "[encoded data removed]",
      "text/plain": [
       "<Figure size 432x288 with 1 Axes>"
      ]
     },
     "metadata": {
      "needs_background": "light"
     },
     "output_type": "display_data"
    },
    {
     "data": {
      "text/plain": [
       "<sympy.plotting.plot.Plot at 0x127d49640>"
      ]
     },
     "execution_count": 79,
     "metadata": {},
     "output_type": "execute_result"
    }
   ],
   "source": [
    "plot(1/(1 + x**4), (x, 0, 10))"
   ]
  },
  {
   "cell_type": "code",
   "execution_count": 80,
   "metadata": {},
   "outputs": [
    {
     "data": {
      "text/latex": [
       "$\\displaystyle \\frac{\\sqrt{2} \\pi}{4}$"
      ],
      "text/plain": [
       "sqrt(2)*pi/4"
      ]
     },
     "execution_count": 80,
     "metadata": {},
     "output_type": "execute_result"
    }
   ],
   "source": [
    "integrate(1/(1 + x**4), (x, 0, oo))"
   ]
  },
  {
   "cell_type": "markdown",
   "metadata": {},
   "source": [
    "Of course not all integrals can be computed symbolically:"
   ]
  },
  {
   "cell_type": "code",
   "execution_count": 81,
   "metadata": {},
   "outputs": [
    {
     "data": {
      "text/latex": [
       "$\\displaystyle \\int \\sin{\\left(\\sinh{\\left(x \\right)} \\right)}\\, dx$"
      ],
      "text/plain": [
       "Integral(sin(sinh(x)), x)"
      ]
     },
     "execution_count": 81,
     "metadata": {},
     "output_type": "execute_result"
    }
   ],
   "source": [
    "integrate(sin(sinh(x)), x)"
   ]
  },
  {
   "cell_type": "markdown",
   "metadata": {},
   "source": [
    "### Compute with Distributions\n",
    "#### Heaviside Distribution\n",
    "\n",
    "Heaviside function $\\theta(x)$ has the following properties:\n",
    "1. $\\frac{d}{dx}\\theta(x) = \\delta(x)$\n",
    "2. $\\theta(x) = \\begin{cases} 1 & x \\geq 0\\\\ 0 & x < 0 \\end{cases}$\n",
    "3. $\\frac{d}{dx}\\max(x,0)=\\theta(x)$"
   ]
  },
  {
   "cell_type": "code",
   "execution_count": 82,
   "metadata": {},
   "outputs": [
    {
     "data": {
      "text/latex": [
       "$\\displaystyle 1$"
      ],
      "text/plain": [
       "1"
      ]
     },
     "execution_count": 82,
     "metadata": {},
     "output_type": "execute_result"
    }
   ],
   "source": [
    "Heaviside(9)"
   ]
  },
  {
   "cell_type": "code",
   "execution_count": 83,
   "metadata": {},
   "outputs": [
    {
     "data": {
      "text/latex": [
       "$\\displaystyle 0$"
      ],
      "text/plain": [
       "0"
      ]
     },
     "execution_count": 83,
     "metadata": {},
     "output_type": "execute_result"
    }
   ],
   "source": [
    "Heaviside(-9)"
   ]
  },
  {
   "cell_type": "markdown",
   "metadata": {},
   "source": [
    "There is some controversy about the behavior at $x=0$, Mathematica defines $\\theta(0)=1$, but Maple uses $\\theta(0)=\\text{undefined}$. Different application areas may have specific conventions. For example, in control theory, it is common practice to assume $\\theta(0)=0$ to match the Laplace transform of a DiracDelta distribution."
   ]
  },
  {
   "cell_type": "code",
   "execution_count": 84,
   "metadata": {},
   "outputs": [
    {
     "data": {
      "text/latex": [
       "$\\displaystyle \\theta\\left(0\\right)$"
      ],
      "text/plain": [
       "Heaviside(0)"
      ]
     },
     "execution_count": 84,
     "metadata": {},
     "output_type": "execute_result"
    }
   ],
   "source": [
    "Heaviside(0,)"
   ]
  },
  {
   "cell_type": "markdown",
   "metadata": {},
   "source": [
    "To specify the value of Heaviside at $x=0$, a second argument can be given. Omit this 2nd argument or pass None to recover the default behavior."
   ]
  },
  {
   "cell_type": "code",
   "execution_count": 85,
   "metadata": {},
   "outputs": [
    {
     "data": {
      "text/latex": [
       "$\\displaystyle \\frac{1}{2}$"
      ],
      "text/plain": [
       "1/2"
      ]
     },
     "execution_count": 85,
     "metadata": {},
     "output_type": "execute_result"
    }
   ],
   "source": [
    "Heaviside(0, S.Half)"
   ]
  },
  {
   "cell_type": "code",
   "execution_count": 86,
   "metadata": {},
   "outputs": [
    {
     "data": {
      "image/png": "[encoded data removed]",
      "text/plain": [
       "<Figure size 432x288 with 1 Axes>"
      ]
     },
     "metadata": {
      "needs_background": "light"
     },
     "output_type": "display_data"
    },
    {
     "data": {
      "text/plain": [
       "<sympy.plotting.plot.Plot at 0x127e17880>"
      ]
     },
     "execution_count": 86,
     "metadata": {},
     "output_type": "execute_result"
    }
   ],
   "source": [
    "x = symbols(\"x \")\n",
    "y = Heaviside(x)\n",
    "plot(y, (x, -1, 1))"
   ]
  },
  {
   "cell_type": "markdown",
   "metadata": {},
   "source": [
    "#### Dirac Distribution\n",
    "\n",
    "DiracDelta function $\\delta(x)$ has the following properties:\n",
    "\n",
    "1. $\\frac{d}{dx}\\theta(x)=\\delta(x)$\n",
    "2. $\\int_{a-\\epsilon}^{a+\\epsilon}\\delta(x-a)f(x)=f(a)$\n",
    "3. $\\dots$"
   ]
  },
  {
   "cell_type": "code",
   "execution_count": 87,
   "metadata": {},
   "outputs": [
    {
     "data": {
      "text/latex": [
       "$\\displaystyle \\delta\\left(x\\right)$"
      ],
      "text/plain": [
       "DiracDelta(x)"
      ]
     },
     "execution_count": 87,
     "metadata": {},
     "output_type": "execute_result"
    }
   ],
   "source": [
    "dydx = diff(y)\n",
    "dydx"
   ]
  },
  {
   "cell_type": "code",
   "execution_count": 88,
   "metadata": {},
   "outputs": [
    {
     "data": {
      "text/latex": [
       "$\\displaystyle 1$"
      ],
      "text/plain": [
       "1"
      ]
     },
     "execution_count": 88,
     "metadata": {},
     "output_type": "execute_result"
    }
   ],
   "source": [
    "integrate(dydx,(x,-.1,.1))"
   ]
  },
  {
   "cell_type": "code",
   "execution_count": 89,
   "metadata": {},
   "outputs": [
    {
     "data": {
      "text/latex": [
       "$\\displaystyle 0$"
      ],
      "text/plain": [
       "0"
      ]
     },
     "execution_count": 89,
     "metadata": {},
     "output_type": "execute_result"
    }
   ],
   "source": [
    "integrate(dydx,(x,.1,.2))"
   ]
  },
  {
   "cell_type": "code",
   "execution_count": 90,
   "metadata": {},
   "outputs": [
    {
     "data": {
      "image/png": "[encoded data removed]",
      "text/plain": [
       "<Figure size 432x288 with 1 Axes>"
      ]
     },
     "metadata": {
      "needs_background": "light"
     },
     "output_type": "display_data"
    },
    {
     "data": {
      "text/plain": [
       "<sympy.plotting.plot.Plot at 0x127e35ca0>"
      ]
     },
     "execution_count": 90,
     "metadata": {},
     "output_type": "execute_result"
    }
   ],
   "source": [
    "x = symbols(\"x \")\n",
    "y = DiracDelta(x)\n",
    "plot(y, (x, -1, 1))"
   ]
  },
  {
   "cell_type": "code",
   "execution_count": 91,
   "metadata": {},
   "outputs": [
    {
     "data": {
      "text/latex": [
       "$\\displaystyle \\delta\\left(0\\right)$"
      ],
      "text/plain": [
       "DiracDelta(0)"
      ]
     },
     "execution_count": 91,
     "metadata": {},
     "output_type": "execute_result"
    }
   ],
   "source": [
    "DiracDelta(0)"
   ]
  },
  {
   "cell_type": "markdown",
   "metadata": {},
   "source": [
    "## Ordinary differential equations (ODEs)\n",
    "\n",
    "Example: $y''+4y=e^x$"
   ]
  },
  {
   "cell_type": "code",
   "execution_count": 92,
   "metadata": {},
   "outputs": [
    {
     "data": {
      "text/latex": [
       "$\\displaystyle f{\\left(x \\right)} = C_{1} \\sin{\\left(2 x \\right)} + C_{2} \\cos{\\left(2 x \\right)} + \\frac{e^{x}}{5}$"
      ],
      "text/plain": [
       "Eq(f(x), C1*sin(2*x) + C2*cos(2*x) + exp(x)/5)"
      ]
     },
     "execution_count": 92,
     "metadata": {},
     "output_type": "execute_result"
    }
   ],
   "source": [
    "x = symbols(\"x \")\n",
    "f = Function('f')\n",
    "dsolve(Derivative(f(x), x, x) + 4*f(x) - exp(x), f(x))"
   ]
  },
  {
   "cell_type": "markdown",
   "metadata": {},
   "source": [
    "We can also add initial conditions, e.g. $y(0)=1$, $y'(0)=0$:"
   ]
  },
  {
   "cell_type": "code",
   "execution_count": 93,
   "metadata": {},
   "outputs": [
    {
     "data": {
      "text/latex": [
       "$\\displaystyle f{\\left(x \\right)} = \\frac{e^{x}}{5} - \\frac{\\sin{\\left(2 x \\right)}}{10} + \\frac{4 \\cos{\\left(2 x \\right)}}{5}$"
      ],
      "text/plain": [
       "Eq(f(x), exp(x)/5 - sin(2*x)/10 + 4*cos(2*x)/5)"
      ]
     },
     "execution_count": 93,
     "metadata": {},
     "output_type": "execute_result"
    }
   ],
   "source": [
    "dsolve(Derivative(f(x), x, x) + 4*f(x) - exp(x), f(x), ics={f(0): 1, f(x).diff(x).subs(x, 0): 0})"
   ]
  },
  {
   "cell_type": "markdown",
   "metadata": {},
   "source": [
    "**Exercise**: Solve the ODE of [Bernoulli type](https://en.wikipedia.org/wiki/Bernoulli_differential_equation) $y^3 - x^2 + x y^2 y' = 0$ with initial condition $y(1)=1$."
   ]
  },
  {
   "cell_type": "code",
   "execution_count": 94,
   "metadata": {},
   "outputs": [
    {
     "data": {
      "text/latex": [
       "$\\displaystyle f{\\left(x \\right)} = 1 + \\left(x - 1\\right)^{2} - \\frac{5 \\left(x - 1\\right)^{3}}{3} + \\frac{23 \\left(x - 1\\right)^{4}}{12} - \\frac{26 \\left(x - 1\\right)^{5}}{15} + O\\left(x^{6}\\right)$"
      ],
      "text/plain": [
       "Eq(f(x), 1 + (x - 1)**2 - 5*(x - 1)**3/3 + 23*(x - 1)**4/12 - 26*(x - 1)**5/15 + O(x**6))"
      ]
     },
     "execution_count": 94,
     "metadata": {},
     "output_type": "execute_result"
    }
   ],
   "source": [
    "x = Symbol('x')\n",
    "f = Function('f')\n",
    "dsolve(f(x)**4-x**2+x*f(x)**2*Derivative(f(x), x), f(x), ics={f(1): 1})"
   ]
  },
  {
   "cell_type": "markdown",
   "metadata": {},
   "source": [
    "### Systems of ODEs\n",
    "\n",
    "Example: $f'=3f + 4g$, $g'=-4f+3g$"
   ]
  },
  {
   "cell_type": "code",
   "execution_count": 95,
   "metadata": {},
   "outputs": [
    {
     "data": {
      "text/plain": [
       "[Eq(f(x), C1*exp(3*x)*sin(4*x) + C2*exp(3*x)*cos(4*x)),\n",
       " Eq(g(x), C1*exp(3*x)*cos(4*x) - C2*exp(3*x)*sin(4*x))]"
      ]
     },
     "execution_count": 95,
     "metadata": {},
     "output_type": "execute_result"
    }
   ],
   "source": [
    "x = Symbol('x')\n",
    "f = Function('f')\n",
    "g = Function('g')\n",
    "eq = (Eq(Derivative(f(x),x),3*f(x)+4*g(x)),Eq(Derivative(g(x),x),-4*f(x)+3*g(x)))\n",
    "dsolve(eq)"
   ]
  },
  {
   "cell_type": "markdown",
   "metadata": {},
   "source": [
    "Again we can add initial conditions, e.g. $f(0)=0$, $g(0)=1$:"
   ]
  },
  {
   "cell_type": "code",
   "execution_count": 96,
   "metadata": {},
   "outputs": [],
   "source": [
    "S = dsolve(eq, ics={f(0): 0, g(0): 1})"
   ]
  },
  {
   "cell_type": "code",
   "execution_count": 97,
   "metadata": {},
   "outputs": [
    {
     "data": {
      "text/latex": [
       "$\\displaystyle e^{3 x} \\sin{\\left(4 x \\right)}$"
      ],
      "text/plain": [
       "exp(3*x)*sin(4*x)"
      ]
     },
     "execution_count": 97,
     "metadata": {},
     "output_type": "execute_result"
    }
   ],
   "source": [
    "S[0].rhs"
   ]
  },
  {
   "cell_type": "code",
   "execution_count": 98,
   "metadata": {},
   "outputs": [
    {
     "data": {
      "text/latex": [
       "$\\displaystyle e^{3 x} \\cos{\\left(4 x \\right)}$"
      ],
      "text/plain": [
       "exp(3*x)*cos(4*x)"
      ]
     },
     "execution_count": 98,
     "metadata": {},
     "output_type": "execute_result"
    }
   ],
   "source": [
    "S[1].rhs"
   ]
  },
  {
   "cell_type": "markdown",
   "metadata": {},
   "source": [
    "## Code generation\n",
    "\n",
    "SymPy allows one to [generate directly compilable and executable code](https://docs.sympy.org/latest/modules/codegen.html) in a variety of different programming languages from SymPy expressions. In addition, there are functions that generate Python importable objects that can evaluate SymPy expressions very efficiently.\n",
    "\n",
    "- [tutorial: https://www.sympy.org/scipy-2017-codegen-tutorial/](https://www.sympy.org/scipy-2017-codegen-tutorial/)"
   ]
  },
  {
   "cell_type": "markdown",
   "metadata": {},
   "source": [
    "### Code Printer\n",
    "\n",
    "Code printer convert SymPy expressions into the target language. A list of supported languages is [here](https://docs.sympy.org/latest/modules/printing.html). "
   ]
  },
  {
   "cell_type": "code",
   "execution_count": 99,
   "metadata": {},
   "outputs": [
    {
     "name": "stdout",
     "output_type": "stream",
     "text": [
      " 3⋅x         \n",
      "ℯ   ⋅cos(4⋅x)\n"
     ]
    }
   ],
   "source": [
    "pretty_print(S[1].rhs)"
   ]
  },
  {
   "cell_type": "code",
   "execution_count": 100,
   "metadata": {},
   "outputs": [
    {
     "name": "stdout",
     "output_type": "stream",
     "text": [
      " 3⋅x         \n",
      "ℯ   ⋅cos(4⋅x)\n"
     ]
    }
   ],
   "source": [
    "pprint(S[1].rhs)"
   ]
  },
  {
   "cell_type": "code",
   "execution_count": 101,
   "metadata": {},
   "outputs": [
    {
     "name": "stdout",
     "output_type": "stream",
     "text": [
      "f{\\left(x \\right)} = e^{3 x} \\sin{\\left(4 x \\right)}\n"
     ]
    }
   ],
   "source": [
    "print_latex(S[0])"
   ]
  },
  {
   "cell_type": "code",
   "execution_count": 102,
   "metadata": {},
   "outputs": [
    {
     "data": {
      "text/plain": [
       "'f{\\\\left(x \\\\right)} = e^{3 x} \\\\sin{\\\\left(4 x \\\\right)}'"
      ]
     },
     "execution_count": 102,
     "metadata": {},
     "output_type": "execute_result"
    }
   ],
   "source": [
    "latex(S[0])"
   ]
  },
  {
   "cell_type": "code",
   "execution_count": 103,
   "metadata": {},
   "outputs": [
    {
     "name": "stdout",
     "output_type": "stream",
     "text": [
      "exp(3*x)*cos(4*x)\n"
     ]
    }
   ],
   "source": [
    "print_ccode(S[1].rhs)"
   ]
  },
  {
   "cell_type": "code",
   "execution_count": 104,
   "metadata": {},
   "outputs": [
    {
     "data": {
      "text/plain": [
       "'exp(3*x)*cos(4*x)'"
      ]
     },
     "execution_count": 104,
     "metadata": {},
     "output_type": "execute_result"
    }
   ],
   "source": [
    "ccode(S[1].rhs)"
   ]
  },
  {
   "cell_type": "code",
   "execution_count": 105,
   "metadata": {},
   "outputs": [
    {
     "data": {
      "text/plain": [
       "'Exp[3*x]*Cos[4*x]'"
      ]
     },
     "execution_count": 105,
     "metadata": {},
     "output_type": "execute_result"
    }
   ],
   "source": [
    "mathematica_code(S[1].rhs)"
   ]
  },
  {
   "cell_type": "code",
   "execution_count": 106,
   "metadata": {},
   "outputs": [
    {
     "data": {
      "text/plain": [
       "'Math.exp(3*x)*Math.cos(4*x)'"
      ]
     },
     "execution_count": 106,
     "metadata": {},
     "output_type": "execute_result"
    }
   ],
   "source": [
    "jscode(S[1].rhs)"
   ]
  },
  {
   "cell_type": "code",
   "execution_count": 107,
   "metadata": {},
   "outputs": [
    {
     "data": {
      "text/plain": [
       "'      exp(3.0d0*x)*cos(4.0d0*x)'"
      ]
     },
     "execution_count": 107,
     "metadata": {},
     "output_type": "execute_result"
    }
   ],
   "source": [
    "fcode(S[1].rhs)"
   ]
  },
  {
   "cell_type": "code",
   "execution_count": 108,
   "metadata": {},
   "outputs": [
    {
     "data": {
      "text/plain": [
       "'exp(3*x).*cos(4*x)'"
      ]
     },
     "execution_count": 108,
     "metadata": {},
     "output_type": "execute_result"
    }
   ],
   "source": [
    "julia_code(S[1].rhs)"
   ]
  },
  {
   "cell_type": "code",
   "execution_count": 109,
   "metadata": {},
   "outputs": [
    {
     "data": {
      "text/plain": [
       "'exp(3*x).*cos(4*x)'"
      ]
     },
     "execution_count": 109,
     "metadata": {},
     "output_type": "execute_result"
    }
   ],
   "source": [
    "octave_code(S[1].rhs)"
   ]
  },
  {
   "cell_type": "code",
   "execution_count": 110,
   "metadata": {},
   "outputs": [
    {
     "data": {
      "text/plain": [
       "'(3*x).exp()*(4*x).cos()'"
      ]
     },
     "execution_count": 110,
     "metadata": {},
     "output_type": "execute_result"
    }
   ],
   "source": [
    "rust_code(S[1].rhs)"
   ]
  },
  {
   "cell_type": "code",
   "execution_count": 111,
   "metadata": {},
   "outputs": [
    {
     "data": {
      "text/plain": [
       "'math.exp(3*x)*math.cos(4*x)'"
      ]
     },
     "execution_count": 111,
     "metadata": {},
     "output_type": "execute_result"
    }
   ],
   "source": [
    "pycode(S[1].rhs)"
   ]
  },
  {
   "cell_type": "code",
   "execution_count": 112,
   "metadata": {},
   "outputs": [
    {
     "name": "stdout",
     "output_type": "stream",
     "text": [
      "x = Symbol('x')\n",
      "e = exp(3*x)*cos(4*x)\n"
     ]
    }
   ],
   "source": [
    "print_python(S[1].rhs)"
   ]
  },
  {
   "cell_type": "markdown",
   "metadata": {},
   "source": [
    "**Exercise**: Plotting SymPy functions with JavaScript\n",
    "\n",
    "In this call we load the [Chart.js library](https://www.chartjs.org):"
   ]
  },
  {
   "cell_type": "markdown",
   "metadata": {},
   "source": [
    "%%javascript\n",
    "require.config({\n",
    "    paths: {\n",
    "        'chartjs': '//cdnjs.cloudflare.com/ajax/libs/Chart.js/2.6.0/Chart'\n",
    "    }\n",
    "});"
   ]
  },
  {
   "cell_type": "markdown",
   "metadata": {},
   "source": [
    "Here is some JavaScript to do the plotting. The code will take two mathematical expressions in JavaScript and plot the functions:"
   ]
  },
  {
   "cell_type": "code",
   "execution_count": 113,
   "metadata": {},
   "outputs": [],
   "source": [
    "js_template = \"\"\"\\\n",
    "require(['chartjs'], function(chartjs){{\n",
    "function f(x) {{\n",
    "    return {top_function}\n",
    "}};\n",
    "function g(x) {{\n",
    "    return {bottom_function}\n",
    "}};\n",
    "function linspace(a,b,n) {{\n",
    "    // From: https://gist.github.com/joates/6584908\n",
    "    if(typeof n === \"undefined\") n = Math.max(Math.round(b-a)+1,1);\n",
    "    if(n<2) {{ return n===1?[a]:[]; }}\n",
    "    var i,ret = Array(n);\n",
    "    n--;\n",
    "    for(i=n;i>=0;i--) {{ ret[i] = (i*b+(n-i)*a)/n; }}\n",
    "    return ret;\n",
    "}}\n",
    "var ctx = document.getElementById(\"{chart_id}\");\n",
    "var data = {{\n",
    "    labels: linspace(-7.5, 7.5, 500),\n",
    "    datasets: [{{\n",
    "        label: \"top\",\n",
    "        function: f,\n",
    "        borderColor: \"rgba(75, 192, 192, 1)\",\n",
    "        data: [],\n",
    "        fill: false,\n",
    "        lineTension: 0,\n",
    "    }},\n",
    "    {{\n",
    "        label: \"bottom\",\n",
    "        function: g,\n",
    "        borderColor: \"rgba(153, 102, 255, 1)\",\n",
    "        data: [],\n",
    "        fill: false,\n",
    "        lineTension: 0,\n",
    "    }}]\n",
    "}};\n",
    "chartjs.Chart.pluginService.register({{\n",
    "    beforeInit: function(chart) {{\n",
    "        var data = chart.config.data;\n",
    "        for (var i = 0; i < data.datasets.length; i++) {{\n",
    "            for (var j = 0; j < data.labels.length; j++) {{\n",
    "                var fct = data.datasets[i].function,\n",
    "                    x = data.labels[j],\n",
    "                    y = fct(x);\n",
    "                data.datasets[i].data.push(y);\n",
    "            }}\n",
    "        }}\n",
    "    }}\n",
    "}});\n",
    "var myBarChart = new chartjs.Chart(ctx, {{\n",
    "    type: 'line',\n",
    "    data: data,\n",
    "    options: {{\n",
    "        scales: {{\n",
    "            yAxes: [{{\n",
    "                ticks: {{\n",
    "                    beginAtZero:true\n",
    "                }}\n",
    "            }}]\n",
    "        }}\n",
    "    }}\n",
    "}});\n",
    "}});\n",
    "element.append(\"<canvas id='{chart_id}' width='400'></canvas>\");\\\n",
    "\"\"\""
   ]
  },
  {
   "cell_type": "code",
   "execution_count": 114,
   "metadata": {},
   "outputs": [
    {
     "name": "stdout",
     "output_type": "stream",
     "text": [
      "require(['chartjs'], function(chartjs){\n",
      "function f(x) {\n",
      "    return *** TODO ***\n",
      "};\n",
      "function g(x) {\n",
      "    return *** TODO ***\n",
      "};\n",
      "function linspace(a,b,n) {\n",
      "    // From: https://gist.github.com/joates/6584908\n",
      "    if(typeof n === \"undefined\") n = Math.max(Math.round(b-a)+1,1);\n",
      "    if(n<2) { return n===1?[a]:[]; }\n",
      "    var i,ret = Array(n);\n",
      "    n--;\n",
      "    for(i=n;i>=0;i--) { ret[i] = (i*b+(n-i)*a)/n; }\n",
      "    return ret;\n",
      "}\n",
      "var ctx = document.getElementById(\"*** TODO ***\");\n",
      "var data = {\n",
      "    labels: linspace(-7.5, 7.5, 500),\n",
      "    datasets: [{\n",
      "        label: \"top\",\n",
      "        function: f,\n",
      "        borderColor: \"rgba(75, 192, 192, 1)\",\n",
      "        data: [],\n",
      "        fill: false,\n",
      "        lineTension: 0,\n",
      "    },\n",
      "    {\n",
      "        label: \"bottom\",\n",
      "        function: g,\n",
      "        borderColor: \"rgba(153, 102, 255, 1)\",\n",
      "        data: [],\n",
      "        fill: false,\n",
      "        lineTension: 0,\n",
      "    }]\n",
      "};\n",
      "chartjs.Chart.pluginService.register({\n",
      "    beforeInit: function(chart) {\n",
      "        var data = chart.config.data;\n",
      "        for (var i = 0; i < data.datasets.length; i++) {\n",
      "            for (var j = 0; j < data.labels.length; j++) {\n",
      "                var fct = data.datasets[i].function,\n",
      "                    x = data.labels[j],\n",
      "                    y = fct(x);\n",
      "                data.datasets[i].data.push(y);\n",
      "            }\n",
      "        }\n",
      "    }\n",
      "});\n",
      "var myBarChart = new chartjs.Chart(ctx, {\n",
      "    type: 'line',\n",
      "    data: data,\n",
      "    options: {\n",
      "        scales: {\n",
      "            yAxes: [{\n",
      "                ticks: {\n",
      "                    beginAtZero:true\n",
      "                }\n",
      "            }]\n",
      "        }\n",
      "    }\n",
      "});\n",
      "});\n",
      "element.append(\"<canvas id='*** TODO ***' width='400'></canvas>\");\n"
     ]
    }
   ],
   "source": [
    "print(js_template.format(top_function='*** TODO ***', \n",
    "                         bottom_function='*** TODO ***', \n",
    "                         chart_id='*** TODO ***'))"
   ]
  },
  {
   "cell_type": "markdown",
   "metadata": {},
   "source": [
    "SymPy functions now can be plotted by filling in the two missing expressions and the id in the above boilerplate code. Then call the JavaScript display function on that code: "
   ]
  },
  {
   "cell_type": "code",
   "execution_count": 115,
   "metadata": {},
   "outputs": [],
   "source": [
    "from IPython.display import Javascript"
   ]
  },
  {
   "cell_type": "code",
   "execution_count": 116,
   "metadata": {},
   "outputs": [
    {
     "data": {
      "application/javascript": [
       "require(['chartjs'], function(chartjs){\n",
       "function f(x) {\n",
       "    return Math.sin(x)\n",
       "};\n",
       "function g(x) {\n",
       "    return Math.cos(x)\n",
       "};\n",
       "function linspace(a,b,n) {\n",
       "    // From: https://gist.github.com/joates/6584908\n",
       "    if(typeof n === \"undefined\") n = Math.max(Math.round(b-a)+1,1);\n",
       "    if(n<2) { return n===1?[a]:[]; }\n",
       "    var i,ret = Array(n);\n",
       "    n--;\n",
       "    for(i=n;i>=0;i--) { ret[i] = (i*b+(n-i)*a)/n; }\n",
       "    return ret;\n",
       "}\n",
       "var ctx = document.getElementById(\"sincos\");\n",
       "var data = {\n",
       "    labels: linspace(-7.5, 7.5, 500),\n",
       "    datasets: [{\n",
       "        label: \"top\",\n",
       "        function: f,\n",
       "        borderColor: \"rgba(75, 192, 192, 1)\",\n",
       "        data: [],\n",
       "        fill: false,\n",
       "        lineTension: 0,\n",
       "    },\n",
       "    {\n",
       "        label: \"bottom\",\n",
       "        function: g,\n",
       "        borderColor: \"rgba(153, 102, 255, 1)\",\n",
       "        data: [],\n",
       "        fill: false,\n",
       "        lineTension: 0,\n",
       "    }]\n",
       "};\n",
       "chartjs.Chart.pluginService.register({\n",
       "    beforeInit: function(chart) {\n",
       "        var data = chart.config.data;\n",
       "        for (var i = 0; i < data.datasets.length; i++) {\n",
       "            for (var j = 0; j < data.labels.length; j++) {\n",
       "                var fct = data.datasets[i].function,\n",
       "                    x = data.labels[j],\n",
       "                    y = fct(x);\n",
       "                data.datasets[i].data.push(y);\n",
       "            }\n",
       "        }\n",
       "    }\n",
       "});\n",
       "var myBarChart = new chartjs.Chart(ctx, {\n",
       "    type: 'line',\n",
       "    data: data,\n",
       "    options: {\n",
       "        scales: {\n",
       "            yAxes: [{\n",
       "                ticks: {\n",
       "                    beginAtZero:true\n",
       "                }\n",
       "            }]\n",
       "        }\n",
       "    }\n",
       "});\n",
       "});\n",
       "element.append(\"<canvas id='sincos' width='400'></canvas>\");"
      ],
      "text/plain": [
       "<IPython.core.display.Javascript object>"
      ]
     },
     "execution_count": 116,
     "metadata": {},
     "output_type": "execute_result"
    }
   ],
   "source": [
    "x=symbols('x')\n",
    "f1=sin(x)\n",
    "f2=cos(x)\n",
    "Javascript(js_template.format(top_function=jscode(f1), \n",
    "                              bottom_function=jscode(f2), \n",
    "                              chart_id='sincos'))"
   ]
  },
  {
   "cell_type": "markdown",
   "metadata": {},
   "source": [
    "### Lamdify SymPy expressions\n",
    "\n",
    "Here we convert SymPy expression evaluation to Python Lambda functions. SymPy evaluation is arbitrary precision and therefore very slow. In many cases it may be usefull to first create a Lambda function and then evaluate the function numerically.\n",
    "\n",
    "Lets create a SymPy expression an record the time for the symbolic evaluation:"
   ]
  },
  {
   "cell_type": "code",
   "execution_count": 117,
   "metadata": {},
   "outputs": [
    {
     "data": {
      "text/latex": [
       "$\\displaystyle 3 x^{2} + \\log{\\left(x^{2} + y^{2} + 1 \\right)}$"
      ],
      "text/plain": [
       "3*x**2 + log(x**2 + y**2 + 1)"
      ]
     },
     "execution_count": 117,
     "metadata": {},
     "output_type": "execute_result"
    }
   ],
   "source": [
    "y, y = symbols('x y')\n",
    "expr = 3*x**2 + log(x**2 + y**2 + 1)\n",
    "expr"
   ]
  },
  {
   "cell_type": "code",
   "execution_count": 118,
   "metadata": {},
   "outputs": [
    {
     "data": {
      "text/latex": [
       "$\\displaystyle 874.627544390489$"
      ],
      "text/plain": [
       "874.627544390489"
      ]
     },
     "execution_count": 118,
     "metadata": {},
     "output_type": "execute_result"
    }
   ],
   "source": [
    "expr.subs({x: 17, y: 42}).evalf()"
   ]
  },
  {
   "cell_type": "code",
   "execution_count": 119,
   "metadata": {},
   "outputs": [
    {
     "name": "stdout",
     "output_type": "stream",
     "text": [
      "296 µs ± 17.4 µs per loop (mean ± std. dev. of 7 runs, 1000 loops each)\n"
     ]
    }
   ],
   "source": [
    "%timeit expr.subs({x: 17, y: 42}).evalf()"
   ]
  },
  {
   "cell_type": "markdown",
   "metadata": {},
   "source": [
    "Now we create a python lambda function and compare the time for numeric evaluation."
   ]
  },
  {
   "cell_type": "code",
   "execution_count": 120,
   "metadata": {},
   "outputs": [
    {
     "data": {
      "text/plain": [
       "874.6275443904885"
      ]
     },
     "execution_count": 120,
     "metadata": {},
     "output_type": "execute_result"
    }
   ],
   "source": [
    "import math\n",
    "f = lambda x, y: 3*x**2 + math.log(x**2 + y**2 + 1)\n",
    "f(17,42)"
   ]
  },
  {
   "cell_type": "code",
   "execution_count": 121,
   "metadata": {},
   "outputs": [
    {
     "name": "stdout",
     "output_type": "stream",
     "text": [
      "2.07 µs ± 158 ns per loop (mean ± std. dev. of 7 runs, 100000 loops each)\n"
     ]
    }
   ],
   "source": [
    "%timeit f(17,42)"
   ]
  },
  {
   "cell_type": "markdown",
   "metadata": {},
   "source": [
    "Unsuprisingly, the numeric evaluation is much faster. However, the advantave is deminished by the time we spend coding the python lambda function. Here comes in `lambdify`, that generates python code and execute `eval` on it.  "
   ]
  },
  {
   "cell_type": "code",
   "execution_count": 122,
   "metadata": {},
   "outputs": [
    {
     "name": "stdout",
     "output_type": "stream",
     "text": [
      "3.1 ms ± 364 µs per loop (mean ± std. dev. of 7 runs, 100 loops each)\n"
     ]
    }
   ],
   "source": [
    "%timeit lambdify([x,y], expr, modules=['math'])(17,42)"
   ]
  },
  {
   "cell_type": "code",
   "execution_count": 123,
   "metadata": {},
   "outputs": [
    {
     "data": {
      "text/plain": [
       "874.6275443904885"
      ]
     },
     "execution_count": 123,
     "metadata": {},
     "output_type": "execute_result"
    }
   ],
   "source": [
    "g=lambdify([x,y], expr, modules=['math'])\n",
    "g(17,42)"
   ]
  },
  {
   "cell_type": "code",
   "execution_count": 124,
   "metadata": {},
   "outputs": [
    {
     "name": "stdout",
     "output_type": "stream",
     "text": [
      "2.59 µs ± 317 ns per loop (mean ± std. dev. of 7 runs, 100000 loops each)\n"
     ]
    }
   ],
   "source": [
    "%timeit g(17,42)"
   ]
  },
  {
   "cell_type": "markdown",
   "metadata": {},
   "source": [
    "The code generation uses numpy by default (without `modules` parameter). "
   ]
  },
  {
   "cell_type": "code",
   "execution_count": 125,
   "metadata": {},
   "outputs": [
    {
     "data": {
      "text/plain": [
       "array([874.62754439, 900.31920442, 926.38590757, 952.82765322,\n",
       "       979.64444076])"
      ]
     },
     "execution_count": 125,
     "metadata": {},
     "output_type": "execute_result"
    }
   ],
   "source": [
    "g=lambdify([x,y], expr)\n",
    "g(np.linspace(17,18,5),42)"
   ]
  },
  {
   "cell_type": "markdown",
   "metadata": {},
   "source": [
    "We can get a specific function signature from `lambdify`. In the following example, the function expects a tripple as third argument."
   ]
  },
  {
   "cell_type": "code",
   "execution_count": 126,
   "metadata": {},
   "outputs": [
    {
     "data": {
      "text/latex": [
       "$\\displaystyle x y \\left(z_{0} + z_{1} + z_{2}\\right)$"
      ],
      "text/plain": [
       "x*y*(z0 + z1 + z2)"
      ]
     },
     "execution_count": 126,
     "metadata": {},
     "output_type": "execute_result"
    }
   ],
   "source": [
    "z = z1, z2, z3 = symbols('z:3')\n",
    "expr = x*y*(z1+z2+z3)\n",
    "expr"
   ]
  },
  {
   "cell_type": "code",
   "execution_count": 127,
   "metadata": {},
   "outputs": [
    {
     "data": {
      "text/plain": [
       "24"
      ]
     },
     "execution_count": 127,
     "metadata": {},
     "output_type": "execute_result"
    }
   ],
   "source": [
    "lambdify([x,y,z],expr)(1,2,[3,4,5])"
   ]
  },
  {
   "cell_type": "markdown",
   "metadata": {},
   "source": [
    "**Exercise**: Plot $z(x,y)=\\frac{df(x,y)}{dxdy}$ from $f(x,y)=3 x^{2} + \\log{\\left(x^{2} + y^{2} + 1 \\right)}$ "
   ]
  },
  {
   "cell_type": "code",
   "execution_count": 128,
   "metadata": {},
   "outputs": [
    {
     "data": {
      "text/latex": [
       "$\\displaystyle 3 x^{2} + \\log{\\left(x^{2} + y^{2} + 1 \\right)}$"
      ],
      "text/plain": [
       "3*x**2 + log(x**2 + y**2 + 1)"
      ]
     },
     "execution_count": 128,
     "metadata": {},
     "output_type": "execute_result"
    }
   ],
   "source": [
    "y, y = symbols('x y')\n",
    "expr = 3*x**2 + log(x**2 + y**2 + 1)\n",
    "expr"
   ]
  },
  {
   "cell_type": "code",
   "execution_count": 129,
   "metadata": {},
   "outputs": [],
   "source": [
    "d2fdxdy = expr.diff(x,y)\n",
    "xplot = np.outer(np.linspace(-5,5,100),np.ones(100))\n",
    "yplot = xplot.T\n",
    "zplot = lambdify([x, y],d2fdxdy)(xplot,yplot)"
   ]
  },
  {
   "cell_type": "code",
   "execution_count": 130,
   "metadata": {},
   "outputs": [],
   "source": [
    "from mpl_toolkits.mplot3d import Axes3D\n",
    "import matplotlib.pyplot as plt\n",
    "%matplotlib notebook"
   ]
  },
  {
   "cell_type": "code",
   "execution_count": 131,
   "metadata": {},
   "outputs": [
    {
     "data": {
      "application/javascript": [
       "/* Put everything inside the global mpl namespace */\n",
       "/* global mpl */\n",
       "window.mpl = {};\n",
       "\n",
       "mpl.get_websocket_type = function () {\n",
       "    if (typeof WebSocket !== 'undefined') {\n",
       "        return WebSocket;\n",
       "    } else if (typeof MozWebSocket !== 'undefined') {\n",
       "        return MozWebSocket;\n",
       "    } else {\n",
       "        alert(\n",
       "            'Your browser does not have WebSocket support. ' +\n",
       "                'Please try Chrome, Safari or Firefox ≥ 6. ' +\n",
       "                'Firefox 4 and 5 are also supported but you ' +\n",
       "                'have to enable WebSockets in about:config.'\n",
       "        );\n",
       "    }\n",
       "};\n",
       "\n",
       "mpl.figure = function (figure_id, websocket, ondownload, parent_element) {\n",
       "    this.id = figure_id;\n",
       "\n",
       "    this.ws = websocket;\n",
       "\n",
       "    this.supports_binary = this.ws.binaryType !== undefined;\n",
       "\n",
       "    if (!this.supports_binary) {\n",
       "        var warnings = document.getElementById('mpl-warnings');\n",
       "        if (warnings) {\n",
       "            warnings.style.display = 'block';\n",
       "            warnings.textContent =\n",
       "                'This browser does not support binary websocket messages. ' +\n",
       "                'Performance may be slow.';\n",
       "        }\n",
       "    }\n",
       "\n",
       "    this.imageObj = new Image();\n",
       "\n",
       "    this.context = undefined;\n",
       "    this.message = undefined;\n",
       "    this.canvas = undefined;\n",
       "    this.rubberband_canvas = undefined;\n",
       "    this.rubberband_context = undefined;\n",
       "    this.format_dropdown = undefined;\n",
       "\n",
       "    this.image_mode = 'full';\n",
       "\n",
       "    this.root = document.createElement('div');\n",
       "    this.root.setAttribute('style', 'display: inline-block');\n",
       "    this._root_extra_style(this.root);\n",
       "\n",
       "    parent_element.appendChild(this.root);\n",
       "\n",
       "    this._init_header(this);\n",
       "    this._init_canvas(this);\n",
       "    this._init_toolbar(this);\n",
       "\n",
       "    var fig = this;\n",
       "\n",
       "    this.waiting = false;\n",
       "\n",
       "    this.ws.onopen = function () {\n",
       "        fig.send_message('supports_binary', { value: fig.supports_binary });\n",
       "        fig.send_message('send_image_mode', {});\n",
       "        if (fig.ratio !== 1) {\n",
       "            fig.send_message('set_dpi_ratio', { dpi_ratio: fig.ratio });\n",
       "        }\n",
       "        fig.send_message('refresh', {});\n",
       "    };\n",
       "\n",
       "    this.imageObj.onload = function () {\n",
       "        if (fig.image_mode === 'full') {\n",
       "            // Full images could contain transparency (where diff images\n",
       "            // almost always do), so we need to clear the canvas so that\n",
       "            // there is no ghosting.\n",
       "            fig.context.clearRect(0, 0, fig.canvas.width, fig.canvas.height);\n",
       "        }\n",
       "        fig.context.drawImage(fig.imageObj, 0, 0);\n",
       "    };\n",
       "\n",
       "    this.imageObj.onunload = function () {\n",
       "        fig.ws.close();\n",
       "    };\n",
       "\n",
       "    this.ws.onmessage = this._make_on_message_function(this);\n",
       "\n",
       "    this.ondownload = ondownload;\n",
       "};\n",
       "\n",
       "mpl.figure.prototype._init_header = function () {\n",
       "    var titlebar = document.createElement('div');\n",
       "    titlebar.classList =\n",
       "        'ui-dialog-titlebar ui-widget-header ui-corner-all ui-helper-clearfix';\n",
       "    var titletext = document.createElement('div');\n",
       "    titletext.classList = 'ui-dialog-title';\n",
       "    titletext.setAttribute(\n",
       "        'style',\n",
       "        'width: 100%; text-align: center; padding: 3px;'\n",
       "    );\n",
       "    titlebar.appendChild(titletext);\n",
       "    this.root.appendChild(titlebar);\n",
       "    this.header = titletext;\n",
       "};\n",
       "\n",
       "mpl.figure.prototype._canvas_extra_style = function (_canvas_div) {};\n",
       "\n",
       "mpl.figure.prototype._root_extra_style = function (_canvas_div) {};\n",
       "\n",
       "mpl.figure.prototype._init_canvas = function () {\n",
       "    var fig = this;\n",
       "\n",
       "    var canvas_div = (this.canvas_div = document.createElement('div'));\n",
       "    canvas_div.setAttribute(\n",
       "        'style',\n",
       "        'border: 1px solid #ddd;' +\n",
       "            'box-sizing: content-box;' +\n",
       "            'clear: both;' +\n",
       "            'min-height: 1px;' +\n",
       "            'min-width: 1px;' +\n",
       "            'outline: 0;' +\n",
       "            'overflow: hidden;' +\n",
       "            'position: relative;' +\n",
       "            'resize: both;'\n",
       "    );\n",
       "\n",
       "    function on_keyboard_event_closure(name) {\n",
       "        return function (event) {\n",
       "            return fig.key_event(event, name);\n",
       "        };\n",
       "    }\n",
       "\n",
       "    canvas_div.addEventListener(\n",
       "        'keydown',\n",
       "        on_keyboard_event_closure('key_press')\n",
       "    );\n",
       "    canvas_div.addEventListener(\n",
       "        'keyup',\n",
       "        on_keyboard_event_closure('key_release')\n",
       "    );\n",
       "\n",
       "    this._canvas_extra_style(canvas_div);\n",
       "    this.root.appendChild(canvas_div);\n",
       "\n",
       "    var canvas = (this.canvas = document.createElement('canvas'));\n",
       "    canvas.classList.add('mpl-canvas');\n",
       "    canvas.setAttribute('style', 'box-sizing: content-box;');\n",
       "\n",
       "    this.context = canvas.getContext('2d');\n",
       "\n",
       "    var backingStore =\n",
       "        this.context.backingStorePixelRatio ||\n",
       "        this.context.webkitBackingStorePixelRatio ||\n",
       "        this.context.mozBackingStorePixelRatio ||\n",
       "        this.context.msBackingStorePixelRatio ||\n",
       "        this.context.oBackingStorePixelRatio ||\n",
       "        this.context.backingStorePixelRatio ||\n",
       "        1;\n",
       "\n",
       "    this.ratio = (window.devicePixelRatio || 1) / backingStore;\n",
       "    if (this.ratio !== 1) {\n",
       "        fig.send_message('set_dpi_ratio', { dpi_ratio: this.ratio });\n",
       "    }\n",
       "\n",
       "    var rubberband_canvas = (this.rubberband_canvas = document.createElement(\n",
       "        'canvas'\n",
       "    ));\n",
       "    rubberband_canvas.setAttribute(\n",
       "        'style',\n",
       "        'box-sizing: content-box; position: absolute; left: 0; top: 0; z-index: 1;'\n",
       "    );\n",
       "\n",
       "    // Apply a ponyfill if ResizeObserver is not implemented by browser.\n",
       "    if (this.ResizeObserver === undefined) {\n",
       "        if (window.ResizeObserver !== undefined) {\n",
       "            this.ResizeObserver = window.ResizeObserver;\n",
       "        } else {\n",
       "            var obs = _JSXTOOLS_RESIZE_OBSERVER({});\n",
       "            this.ResizeObserver = obs.ResizeObserver;\n",
       "        }\n",
       "    }\n",
       "\n",
       "    this.resizeObserverInstance = new this.ResizeObserver(function (entries) {\n",
       "        var nentries = entries.length;\n",
       "        for (var i = 0; i < nentries; i++) {\n",
       "            var entry = entries[i];\n",
       "            var width, height;\n",
       "            if (entry.contentBoxSize) {\n",
       "                if (entry.contentBoxSize instanceof Array) {\n",
       "                    // Chrome 84 implements new version of spec.\n",
       "                    width = entry.contentBoxSize[0].inlineSize;\n",
       "                    height = entry.contentBoxSize[0].blockSize;\n",
       "                } else {\n",
       "                    // Firefox implements old version of spec.\n",
       "                    width = entry.contentBoxSize.inlineSize;\n",
       "                    height = entry.contentBoxSize.blockSize;\n",
       "                }\n",
       "            } else {\n",
       "                // Chrome <84 implements even older version of spec.\n",
       "                width = entry.contentRect.width;\n",
       "                height = entry.contentRect.height;\n",
       "            }\n",
       "\n",
       "            // Keep the size of the canvas and rubber band canvas in sync with\n",
       "            // the canvas container.\n",
       "            if (entry.devicePixelContentBoxSize) {\n",
       "                // Chrome 84 implements new version of spec.\n",
       "                canvas.setAttribute(\n",
       "                    'width',\n",
       "                    entry.devicePixelContentBoxSize[0].inlineSize\n",
       "                );\n",
       "                canvas.setAttribute(\n",
       "                    'height',\n",
       "                    entry.devicePixelContentBoxSize[0].blockSize\n",
       "                );\n",
       "            } else {\n",
       "                canvas.setAttribute('width', width * fig.ratio);\n",
       "                canvas.setAttribute('height', height * fig.ratio);\n",
       "            }\n",
       "            canvas.setAttribute(\n",
       "                'style',\n",
       "                'width: ' + width + 'px; height: ' + height + 'px;'\n",
       "            );\n",
       "\n",
       "            rubberband_canvas.setAttribute('width', width);\n",
       "            rubberband_canvas.setAttribute('height', height);\n",
       "\n",
       "            // And update the size in Python. We ignore the initial 0/0 size\n",
       "            // that occurs as the element is placed into the DOM, which should\n",
       "            // otherwise not happen due to the minimum size styling.\n",
       "            if (width != 0 && height != 0) {\n",
       "                fig.request_resize(width, height);\n",
       "            }\n",
       "        }\n",
       "    });\n",
       "    this.resizeObserverInstance.observe(canvas_div);\n",
       "\n",
       "    function on_mouse_event_closure(name) {\n",
       "        return function (event) {\n",
       "            return fig.mouse_event(event, name);\n",
       "        };\n",
       "    }\n",
       "\n",
       "    rubberband_canvas.addEventListener(\n",
       "        'mousedown',\n",
       "        on_mouse_event_closure('button_press')\n",
       "    );\n",
       "    rubberband_canvas.addEventListener(\n",
       "        'mouseup',\n",
       "        on_mouse_event_closure('button_release')\n",
       "    );\n",
       "    // Throttle sequential mouse events to 1 every 20ms.\n",
       "    rubberband_canvas.addEventListener(\n",
       "        'mousemove',\n",
       "        on_mouse_event_closure('motion_notify')\n",
       "    );\n",
       "\n",
       "    rubberband_canvas.addEventListener(\n",
       "        'mouseenter',\n",
       "        on_mouse_event_closure('figure_enter')\n",
       "    );\n",
       "    rubberband_canvas.addEventListener(\n",
       "        'mouseleave',\n",
       "        on_mouse_event_closure('figure_leave')\n",
       "    );\n",
       "\n",
       "    canvas_div.addEventListener('wheel', function (event) {\n",
       "        if (event.deltaY < 0) {\n",
       "            event.step = 1;\n",
       "        } else {\n",
       "            event.step = -1;\n",
       "        }\n",
       "        on_mouse_event_closure('scroll')(event);\n",
       "    });\n",
       "\n",
       "    canvas_div.appendChild(canvas);\n",
       "    canvas_div.appendChild(rubberband_canvas);\n",
       "\n",
       "    this.rubberband_context = rubberband_canvas.getContext('2d');\n",
       "    this.rubberband_context.strokeStyle = '#000000';\n",
       "\n",
       "    this._resize_canvas = function (width, height, forward) {\n",
       "        if (forward) {\n",
       "            canvas_div.style.width = width + 'px';\n",
       "            canvas_div.style.height = height + 'px';\n",
       "        }\n",
       "    };\n",
       "\n",
       "    // Disable right mouse context menu.\n",
       "    this.rubberband_canvas.addEventListener('contextmenu', function (_e) {\n",
       "        event.preventDefault();\n",
       "        return false;\n",
       "    });\n",
       "\n",
       "    function set_focus() {\n",
       "        canvas.focus();\n",
       "        canvas_div.focus();\n",
       "    }\n",
       "\n",
       "    window.setTimeout(set_focus, 100);\n",
       "};\n",
       "\n",
       "mpl.figure.prototype._init_toolbar = function () {\n",
       "    var fig = this;\n",
       "\n",
       "    var toolbar = document.createElement('div');\n",
       "    toolbar.classList = 'mpl-toolbar';\n",
       "    this.root.appendChild(toolbar);\n",
       "\n",
       "    function on_click_closure(name) {\n",
       "        return function (_event) {\n",
       "            return fig.toolbar_button_onclick(name);\n",
       "        };\n",
       "    }\n",
       "\n",
       "    function on_mouseover_closure(tooltip) {\n",
       "        return function (event) {\n",
       "            if (!event.currentTarget.disabled) {\n",
       "                return fig.toolbar_button_onmouseover(tooltip);\n",
       "            }\n",
       "        };\n",
       "    }\n",
       "\n",
       "    fig.buttons = {};\n",
       "    var buttonGroup = document.createElement('div');\n",
       "    buttonGroup.classList = 'mpl-button-group';\n",
       "    for (var toolbar_ind in mpl.toolbar_items) {\n",
       "        var name = mpl.toolbar_items[toolbar_ind][0];\n",
       "        var tooltip = mpl.toolbar_items[toolbar_ind][1];\n",
       "        var image = mpl.toolbar_items[toolbar_ind][2];\n",
       "        var method_name = mpl.toolbar_items[toolbar_ind][3];\n",
       "\n",
       "        if (!name) {\n",
       "            /* Instead of a spacer, we start a new button group. */\n",
       "            if (buttonGroup.hasChildNodes()) {\n",
       "                toolbar.appendChild(buttonGroup);\n",
       "            }\n",
       "            buttonGroup = document.createElement('div');\n",
       "            buttonGroup.classList = 'mpl-button-group';\n",
       "            continue;\n",
       "        }\n",
       "\n",
       "        var button = (fig.buttons[name] = document.createElement('button'));\n",
       "        button.classList = 'mpl-widget';\n",
       "        button.setAttribute('role', 'button');\n",
       "        button.setAttribute('aria-disabled', 'false');\n",
       "        button.addEventListener('click', on_click_closure(method_name));\n",
       "        button.addEventListener('mouseover', on_mouseover_closure(tooltip));\n",
       "\n",
       "        var icon_img = document.createElement('img');\n",
       "        icon_img.src = '_images/' + image + '.png';\n",
       "        icon_img.srcset = '_images/' + image + '_large.png 2x';\n",
       "        icon_img.alt = tooltip;\n",
       "        button.appendChild(icon_img);\n",
       "\n",
       "        buttonGroup.appendChild(button);\n",
       "    }\n",
       "\n",
       "    if (buttonGroup.hasChildNodes()) {\n",
       "        toolbar.appendChild(buttonGroup);\n",
       "    }\n",
       "\n",
       "    var fmt_picker = document.createElement('select');\n",
       "    fmt_picker.classList = 'mpl-widget';\n",
       "    toolbar.appendChild(fmt_picker);\n",
       "    this.format_dropdown = fmt_picker;\n",
       "\n",
       "    for (var ind in mpl.extensions) {\n",
       "        var fmt = mpl.extensions[ind];\n",
       "        var option = document.createElement('option');\n",
       "        option.selected = fmt === mpl.default_extension;\n",
       "        option.innerHTML = fmt;\n",
       "        fmt_picker.appendChild(option);\n",
       "    }\n",
       "\n",
       "    var status_bar = document.createElement('span');\n",
       "    status_bar.classList = 'mpl-message';\n",
       "    toolbar.appendChild(status_bar);\n",
       "    this.message = status_bar;\n",
       "};\n",
       "\n",
       "mpl.figure.prototype.request_resize = function (x_pixels, y_pixels) {\n",
       "    // Request matplotlib to resize the figure. Matplotlib will then trigger a resize in the client,\n",
       "    // which will in turn request a refresh of the image.\n",
       "    this.send_message('resize', { width: x_pixels, height: y_pixels });\n",
       "};\n",
       "\n",
       "mpl.figure.prototype.send_message = function (type, properties) {\n",
       "    properties['type'] = type;\n",
       "    properties['figure_id'] = this.id;\n",
       "    this.ws.send(JSON.stringify(properties));\n",
       "};\n",
       "\n",
       "mpl.figure.prototype.send_draw_message = function () {\n",
       "    if (!this.waiting) {\n",
       "        this.waiting = true;\n",
       "        this.ws.send(JSON.stringify({ type: 'draw', figure_id: this.id }));\n",
       "    }\n",
       "};\n",
       "\n",
       "mpl.figure.prototype.handle_save = function (fig, _msg) {\n",
       "    var format_dropdown = fig.format_dropdown;\n",
       "    var format = format_dropdown.options[format_dropdown.selectedIndex].value;\n",
       "    fig.ondownload(fig, format);\n",
       "};\n",
       "\n",
       "mpl.figure.prototype.handle_resize = function (fig, msg) {\n",
       "    var size = msg['size'];\n",
       "    if (size[0] !== fig.canvas.width || size[1] !== fig.canvas.height) {\n",
       "        fig._resize_canvas(size[0], size[1], msg['forward']);\n",
       "        fig.send_message('refresh', {});\n",
       "    }\n",
       "};\n",
       "\n",
       "mpl.figure.prototype.handle_rubberband = function (fig, msg) {\n",
       "    var x0 = msg['x0'] / fig.ratio;\n",
       "    var y0 = (fig.canvas.height - msg['y0']) / fig.ratio;\n",
       "    var x1 = msg['x1'] / fig.ratio;\n",
       "    var y1 = (fig.canvas.height - msg['y1']) / fig.ratio;\n",
       "    x0 = Math.floor(x0) + 0.5;\n",
       "    y0 = Math.floor(y0) + 0.5;\n",
       "    x1 = Math.floor(x1) + 0.5;\n",
       "    y1 = Math.floor(y1) + 0.5;\n",
       "    var min_x = Math.min(x0, x1);\n",
       "    var min_y = Math.min(y0, y1);\n",
       "    var width = Math.abs(x1 - x0);\n",
       "    var height = Math.abs(y1 - y0);\n",
       "\n",
       "    fig.rubberband_context.clearRect(\n",
       "        0,\n",
       "        0,\n",
       "        fig.canvas.width / fig.ratio,\n",
       "        fig.canvas.height / fig.ratio\n",
       "    );\n",
       "\n",
       "    fig.rubberband_context.strokeRect(min_x, min_y, width, height);\n",
       "};\n",
       "\n",
       "mpl.figure.prototype.handle_figure_label = function (fig, msg) {\n",
       "    // Updates the figure title.\n",
       "    fig.header.textContent = msg['label'];\n",
       "};\n",
       "\n",
       "mpl.figure.prototype.handle_cursor = function (fig, msg) {\n",
       "    var cursor = msg['cursor'];\n",
       "    switch (cursor) {\n",
       "        case 0:\n",
       "            cursor = 'pointer';\n",
       "            break;\n",
       "        case 1:\n",
       "            cursor = 'default';\n",
       "            break;\n",
       "        case 2:\n",
       "            cursor = 'crosshair';\n",
       "            break;\n",
       "        case 3:\n",
       "            cursor = 'move';\n",
       "            break;\n",
       "    }\n",
       "    fig.rubberband_canvas.style.cursor = cursor;\n",
       "};\n",
       "\n",
       "mpl.figure.prototype.handle_message = function (fig, msg) {\n",
       "    fig.message.textContent = msg['message'];\n",
       "};\n",
       "\n",
       "mpl.figure.prototype.handle_draw = function (fig, _msg) {\n",
       "    // Request the server to send over a new figure.\n",
       "    fig.send_draw_message();\n",
       "};\n",
       "\n",
       "mpl.figure.prototype.handle_image_mode = function (fig, msg) {\n",
       "    fig.image_mode = msg['mode'];\n",
       "};\n",
       "\n",
       "mpl.figure.prototype.handle_history_buttons = function (fig, msg) {\n",
       "    for (var key in msg) {\n",
       "        if (!(key in fig.buttons)) {\n",
       "            continue;\n",
       "        }\n",
       "        fig.buttons[key].disabled = !msg[key];\n",
       "        fig.buttons[key].setAttribute('aria-disabled', !msg[key]);\n",
       "    }\n",
       "};\n",
       "\n",
       "mpl.figure.prototype.handle_navigate_mode = function (fig, msg) {\n",
       "    if (msg['mode'] === 'PAN') {\n",
       "        fig.buttons['Pan'].classList.add('active');\n",
       "        fig.buttons['Zoom'].classList.remove('active');\n",
       "    } else if (msg['mode'] === 'ZOOM') {\n",
       "        fig.buttons['Pan'].classList.remove('active');\n",
       "        fig.buttons['Zoom'].classList.add('active');\n",
       "    } else {\n",
       "        fig.buttons['Pan'].classList.remove('active');\n",
       "        fig.buttons['Zoom'].classList.remove('active');\n",
       "    }\n",
       "};\n",
       "\n",
       "mpl.figure.prototype.updated_canvas_event = function () {\n",
       "    // Called whenever the canvas gets updated.\n",
       "    this.send_message('ack', {});\n",
       "};\n",
       "\n",
       "// A function to construct a web socket function for onmessage handling.\n",
       "// Called in the figure constructor.\n",
       "mpl.figure.prototype._make_on_message_function = function (fig) {\n",
       "    return function socket_on_message(evt) {\n",
       "        if (evt.data instanceof Blob) {\n",
       "            /* FIXME: We get \"Resource interpreted as Image but\n",
       "             * transferred with MIME type text/plain:\" errors on\n",
       "             * Chrome.  But how to set the MIME type?  It doesn't seem\n",
       "             * to be part of the websocket stream */\n",
       "            evt.data.type = 'image/png';\n",
       "\n",
       "            /* Free the memory for the previous frames */\n",
       "            if (fig.imageObj.src) {\n",
       "                (window.URL || window.webkitURL).revokeObjectURL(\n",
       "                    fig.imageObj.src\n",
       "                );\n",
       "            }\n",
       "\n",
       "            fig.imageObj.src = (window.URL || window.webkitURL).createObjectURL(\n",
       "                evt.data\n",
       "            );\n",
       "            fig.updated_canvas_event();\n",
       "            fig.waiting = false;\n",
       "            return;\n",
       "        } else if (\n",
       "            typeof evt.data === 'string' &&\n",
       "            evt.data.slice(0, 21) === 'data:image/png;base64'\n",
       "        ) {\n",
       "            fig.imageObj.src = evt.data;\n",
       "            fig.updated_canvas_event();\n",
       "            fig.waiting = false;\n",
       "            return;\n",
       "        }\n",
       "\n",
       "        var msg = JSON.parse(evt.data);\n",
       "        var msg_type = msg['type'];\n",
       "\n",
       "        // Call the  \"handle_{type}\" callback, which takes\n",
       "        // the figure and JSON message as its only arguments.\n",
       "        try {\n",
       "            var callback = fig['handle_' + msg_type];\n",
       "        } catch (e) {\n",
       "            console.log(\n",
       "                \"No handler for the '\" + msg_type + \"' message type: \",\n",
       "                msg\n",
       "            );\n",
       "            return;\n",
       "        }\n",
       "\n",
       "        if (callback) {\n",
       "            try {\n",
       "                // console.log(\"Handling '\" + msg_type + \"' message: \", msg);\n",
       "                callback(fig, msg);\n",
       "            } catch (e) {\n",
       "                console.log(\n",
       "                    \"Exception inside the 'handler_\" + msg_type + \"' callback:\",\n",
       "                    e,\n",
       "                    e.stack,\n",
       "                    msg\n",
       "                );\n",
       "            }\n",
       "        }\n",
       "    };\n",
       "};\n",
       "\n",
       "// from http://stackoverflow.com/questions/1114465/getting-mouse-location-in-canvas\n",
       "mpl.findpos = function (e) {\n",
       "    //this section is from http://www.quirksmode.org/js/events_properties.html\n",
       "    var targ;\n",
       "    if (!e) {\n",
       "        e = window.event;\n",
       "    }\n",
       "    if (e.target) {\n",
       "        targ = e.target;\n",
       "    } else if (e.srcElement) {\n",
       "        targ = e.srcElement;\n",
       "    }\n",
       "    if (targ.nodeType === 3) {\n",
       "        // defeat Safari bug\n",
       "        targ = targ.parentNode;\n",
       "    }\n",
       "\n",
       "    // pageX,Y are the mouse positions relative to the document\n",
       "    var boundingRect = targ.getBoundingClientRect();\n",
       "    var x = e.pageX - (boundingRect.left + document.body.scrollLeft);\n",
       "    var y = e.pageY - (boundingRect.top + document.body.scrollTop);\n",
       "\n",
       "    return { x: x, y: y };\n",
       "};\n",
       "\n",
       "/*\n",
       " * return a copy of an object with only non-object keys\n",
       " * we need this to avoid circular references\n",
       " * http://stackoverflow.com/a/24161582/3208463\n",
       " */\n",
       "function simpleKeys(original) {\n",
       "    return Object.keys(original).reduce(function (obj, key) {\n",
       "        if (typeof original[key] !== 'object') {\n",
       "            obj[key] = original[key];\n",
       "        }\n",
       "        return obj;\n",
       "    }, {});\n",
       "}\n",
       "\n",
       "mpl.figure.prototype.mouse_event = function (event, name) {\n",
       "    var canvas_pos = mpl.findpos(event);\n",
       "\n",
       "    if (name === 'button_press') {\n",
       "        this.canvas.focus();\n",
       "        this.canvas_div.focus();\n",
       "    }\n",
       "\n",
       "    var x = canvas_pos.x * this.ratio;\n",
       "    var y = canvas_pos.y * this.ratio;\n",
       "\n",
       "    this.send_message(name, {\n",
       "        x: x,\n",
       "        y: y,\n",
       "        button: event.button,\n",
       "        step: event.step,\n",
       "        guiEvent: simpleKeys(event),\n",
       "    });\n",
       "\n",
       "    /* This prevents the web browser from automatically changing to\n",
       "     * the text insertion cursor when the button is pressed.  We want\n",
       "     * to control all of the cursor setting manually through the\n",
       "     * 'cursor' event from matplotlib */\n",
       "    event.preventDefault();\n",
       "    return false;\n",
       "};\n",
       "\n",
       "mpl.figure.prototype._key_event_extra = function (_event, _name) {\n",
       "    // Handle any extra behaviour associated with a key event\n",
       "};\n",
       "\n",
       "mpl.figure.prototype.key_event = function (event, name) {\n",
       "    // Prevent repeat events\n",
       "    if (name === 'key_press') {\n",
       "        if (event.which === this._key) {\n",
       "            return;\n",
       "        } else {\n",
       "            this._key = event.which;\n",
       "        }\n",
       "    }\n",
       "    if (name === 'key_release') {\n",
       "        this._key = null;\n",
       "    }\n",
       "\n",
       "    var value = '';\n",
       "    if (event.ctrlKey && event.which !== 17) {\n",
       "        value += 'ctrl+';\n",
       "    }\n",
       "    if (event.altKey && event.which !== 18) {\n",
       "        value += 'alt+';\n",
       "    }\n",
       "    if (event.shiftKey && event.which !== 16) {\n",
       "        value += 'shift+';\n",
       "    }\n",
       "\n",
       "    value += 'k';\n",
       "    value += event.which.toString();\n",
       "\n",
       "    this._key_event_extra(event, name);\n",
       "\n",
       "    this.send_message(name, { key: value, guiEvent: simpleKeys(event) });\n",
       "    return false;\n",
       "};\n",
       "\n",
       "mpl.figure.prototype.toolbar_button_onclick = function (name) {\n",
       "    if (name === 'download') {\n",
       "        this.handle_save(this, null);\n",
       "    } else {\n",
       "        this.send_message('toolbar_button', { name: name });\n",
       "    }\n",
       "};\n",
       "\n",
       "mpl.figure.prototype.toolbar_button_onmouseover = function (tooltip) {\n",
       "    this.message.textContent = tooltip;\n",
       "};\n",
       "\n",
       "///////////////// REMAINING CONTENT GENERATED BY embed_js.py /////////////////\n",
       "// prettier-ignore\n",
       "var _JSXTOOLS_RESIZE_OBSERVER=function(A){var t,i=new WeakMap,n=new WeakMap,a=new WeakMap,r=new WeakMap,o=new Set;function s(e){if(!(this instanceof s))throw new TypeError(\"Constructor requires 'new' operator\");i.set(this,e)}function h(){throw new TypeError(\"Function is not a constructor\")}function c(e,t,i,n){e=0 in arguments?Number(arguments[0]):0,t=1 in arguments?Number(arguments[1]):0,i=2 in arguments?Number(arguments[2]):0,n=3 in arguments?Number(arguments[3]):0,this.right=(this.x=this.left=e)+(this.width=i),this.bottom=(this.y=this.top=t)+(this.height=n),Object.freeze(this)}function d(){t=requestAnimationFrame(d);var s=new WeakMap,p=new Set;o.forEach((function(t){r.get(t).forEach((function(i){var r=t instanceof window.SVGElement,o=a.get(t),d=r?0:parseFloat(o.paddingTop),f=r?0:parseFloat(o.paddingRight),l=r?0:parseFloat(o.paddingBottom),u=r?0:parseFloat(o.paddingLeft),g=r?0:parseFloat(o.borderTopWidth),m=r?0:parseFloat(o.borderRightWidth),w=r?0:parseFloat(o.borderBottomWidth),b=u+f,F=d+l,v=(r?0:parseFloat(o.borderLeftWidth))+m,W=g+w,y=r?0:t.offsetHeight-W-t.clientHeight,E=r?0:t.offsetWidth-v-t.clientWidth,R=b+v,z=F+W,M=r?t.width:parseFloat(o.width)-R-E,O=r?t.height:parseFloat(o.height)-z-y;if(n.has(t)){var k=n.get(t);if(k[0]===M&&k[1]===O)return}n.set(t,[M,O]);var S=Object.create(h.prototype);S.target=t,S.contentRect=new c(u,d,M,O),s.has(i)||(s.set(i,[]),p.add(i)),s.get(i).push(S)}))})),p.forEach((function(e){i.get(e).call(e,s.get(e),e)}))}return s.prototype.observe=function(i){if(i instanceof window.Element){r.has(i)||(r.set(i,new Set),o.add(i),a.set(i,window.getComputedStyle(i)));var n=r.get(i);n.has(this)||n.add(this),cancelAnimationFrame(t),t=requestAnimationFrame(d)}},s.prototype.unobserve=function(i){if(i instanceof window.Element&&r.has(i)){var n=r.get(i);n.has(this)&&(n.delete(this),n.size||(r.delete(i),o.delete(i))),n.size||r.delete(i),o.size||cancelAnimationFrame(t)}},A.DOMRectReadOnly=c,A.ResizeObserver=s,A.ResizeObserverEntry=h,A}; // eslint-disable-line\n",
       "mpl.toolbar_items = [[\"Home\", \"Reset original view\", \"fa fa-home icon-home\", \"home\"], [\"Back\", \"Back to previous view\", \"fa fa-arrow-left icon-arrow-left\", \"back\"], [\"Forward\", \"Forward to next view\", \"fa fa-arrow-right icon-arrow-right\", \"forward\"], [\"\", \"\", \"\", \"\"], [\"Pan\", \"Left button pans, Right button zooms\\nx/y fixes axis, CTRL fixes aspect\", \"fa fa-arrows icon-move\", \"pan\"], [\"Zoom\", \"Zoom to rectangle\\nx/y fixes axis, CTRL fixes aspect\", \"fa fa-square-o icon-check-empty\", \"zoom\"], [\"\", \"\", \"\", \"\"], [\"Download\", \"Download plot\", \"fa fa-floppy-o icon-save\", \"download\"]];\n",
       "\n",
       "mpl.extensions = [\"eps\", \"jpeg\", \"pdf\", \"png\", \"ps\", \"raw\", \"svg\", \"tif\"];\n",
       "\n",
       "mpl.default_extension = \"png\";/* global mpl */\n",
       "\n",
       "var comm_websocket_adapter = function (comm) {\n",
       "    // Create a \"websocket\"-like object which calls the given IPython comm\n",
       "    // object with the appropriate methods. Currently this is a non binary\n",
       "    // socket, so there is still some room for performance tuning.\n",
       "    var ws = {};\n",
       "\n",
       "    ws.close = function () {\n",
       "        comm.close();\n",
       "    };\n",
       "    ws.send = function (m) {\n",
       "        //console.log('sending', m);\n",
       "        comm.send(m);\n",
       "    };\n",
       "    // Register the callback with on_msg.\n",
       "    comm.on_msg(function (msg) {\n",
       "        //console.log('receiving', msg['content']['data'], msg);\n",
       "        // Pass the mpl event to the overridden (by mpl) onmessage function.\n",
       "        ws.onmessage(msg['content']['data']);\n",
       "    });\n",
       "    return ws;\n",
       "};\n",
       "\n",
       "mpl.mpl_figure_comm = function (comm, msg) {\n",
       "    // This is the function which gets called when the mpl process\n",
       "    // starts-up an IPython Comm through the \"matplotlib\" channel.\n",
       "\n",
       "    var id = msg.content.data.id;\n",
       "    // Get hold of the div created by the display call when the Comm\n",
       "    // socket was opened in Python.\n",
       "    var element = document.getElementById(id);\n",
       "    var ws_proxy = comm_websocket_adapter(comm);\n",
       "\n",
       "    function ondownload(figure, _format) {\n",
       "        window.open(figure.canvas.toDataURL());\n",
       "    }\n",
       "\n",
       "    var fig = new mpl.figure(id, ws_proxy, ondownload, element);\n",
       "\n",
       "    // Call onopen now - mpl needs it, as it is assuming we've passed it a real\n",
       "    // web socket which is closed, not our websocket->open comm proxy.\n",
       "    ws_proxy.onopen();\n",
       "\n",
       "    fig.parent_element = element;\n",
       "    fig.cell_info = mpl.find_output_cell(\"<div id='\" + id + \"'></div>\");\n",
       "    if (!fig.cell_info) {\n",
       "        console.error('Failed to find cell for figure', id, fig);\n",
       "        return;\n",
       "    }\n",
       "    fig.cell_info[0].output_area.element.on(\n",
       "        'cleared',\n",
       "        { fig: fig },\n",
       "        fig._remove_fig_handler\n",
       "    );\n",
       "};\n",
       "\n",
       "mpl.figure.prototype.handle_close = function (fig, msg) {\n",
       "    var width = fig.canvas.width / fig.ratio;\n",
       "    fig.cell_info[0].output_area.element.off(\n",
       "        'cleared',\n",
       "        fig._remove_fig_handler\n",
       "    );\n",
       "    fig.resizeObserverInstance.unobserve(fig.canvas_div);\n",
       "\n",
       "    // Update the output cell to use the data from the current canvas.\n",
       "    fig.push_to_output();\n",
       "    var dataURL = fig.canvas.toDataURL();\n",
       "    // Re-enable the keyboard manager in IPython - without this line, in FF,\n",
       "    // the notebook keyboard shortcuts fail.\n",
       "    IPython.keyboard_manager.enable();\n",
       "    fig.parent_element.innerHTML =\n",
       "        '<img src=\"' + dataURL + '\" width=\"' + width + '\">';\n",
       "    fig.close_ws(fig, msg);\n",
       "};\n",
       "\n",
       "mpl.figure.prototype.close_ws = function (fig, msg) {\n",
       "    fig.send_message('closing', msg);\n",
       "    // fig.ws.close()\n",
       "};\n",
       "\n",
       "mpl.figure.prototype.push_to_output = function (_remove_interactive) {\n",
       "    // Turn the data on the canvas into data in the output cell.\n",
       "    var width = this.canvas.width / this.ratio;\n",
       "    var dataURL = this.canvas.toDataURL();\n",
       "    this.cell_info[1]['text/html'] =\n",
       "        '<img src=\"' + dataURL + '\" width=\"' + width + '\">';\n",
       "};\n",
       "\n",
       "mpl.figure.prototype.updated_canvas_event = function () {\n",
       "    // Tell IPython that the notebook contents must change.\n",
       "    IPython.notebook.set_dirty(true);\n",
       "    this.send_message('ack', {});\n",
       "    var fig = this;\n",
       "    // Wait a second, then push the new image to the DOM so\n",
       "    // that it is saved nicely (might be nice to debounce this).\n",
       "    setTimeout(function () {\n",
       "        fig.push_to_output();\n",
       "    }, 1000);\n",
       "};\n",
       "\n",
       "mpl.figure.prototype._init_toolbar = function () {\n",
       "    var fig = this;\n",
       "\n",
       "    var toolbar = document.createElement('div');\n",
       "    toolbar.classList = 'btn-toolbar';\n",
       "    this.root.appendChild(toolbar);\n",
       "\n",
       "    function on_click_closure(name) {\n",
       "        return function (_event) {\n",
       "            return fig.toolbar_button_onclick(name);\n",
       "        };\n",
       "    }\n",
       "\n",
       "    function on_mouseover_closure(tooltip) {\n",
       "        return function (event) {\n",
       "            if (!event.currentTarget.disabled) {\n",
       "                return fig.toolbar_button_onmouseover(tooltip);\n",
       "            }\n",
       "        };\n",
       "    }\n",
       "\n",
       "    fig.buttons = {};\n",
       "    var buttonGroup = document.createElement('div');\n",
       "    buttonGroup.classList = 'btn-group';\n",
       "    var button;\n",
       "    for (var toolbar_ind in mpl.toolbar_items) {\n",
       "        var name = mpl.toolbar_items[toolbar_ind][0];\n",
       "        var tooltip = mpl.toolbar_items[toolbar_ind][1];\n",
       "        var image = mpl.toolbar_items[toolbar_ind][2];\n",
       "        var method_name = mpl.toolbar_items[toolbar_ind][3];\n",
       "\n",
       "        if (!name) {\n",
       "            /* Instead of a spacer, we start a new button group. */\n",
       "            if (buttonGroup.hasChildNodes()) {\n",
       "                toolbar.appendChild(buttonGroup);\n",
       "            }\n",
       "            buttonGroup = document.createElement('div');\n",
       "            buttonGroup.classList = 'btn-group';\n",
       "            continue;\n",
       "        }\n",
       "\n",
       "        button = fig.buttons[name] = document.createElement('button');\n",
       "        button.classList = 'btn btn-default';\n",
       "        button.href = '#';\n",
       "        button.title = name;\n",
       "        button.innerHTML = '<i class=\"fa ' + image + ' fa-lg\"></i>';\n",
       "        button.addEventListener('click', on_click_closure(method_name));\n",
       "        button.addEventListener('mouseover', on_mouseover_closure(tooltip));\n",
       "        buttonGroup.appendChild(button);\n",
       "    }\n",
       "\n",
       "    if (buttonGroup.hasChildNodes()) {\n",
       "        toolbar.appendChild(buttonGroup);\n",
       "    }\n",
       "\n",
       "    // Add the status bar.\n",
       "    var status_bar = document.createElement('span');\n",
       "    status_bar.classList = 'mpl-message pull-right';\n",
       "    toolbar.appendChild(status_bar);\n",
       "    this.message = status_bar;\n",
       "\n",
       "    // Add the close button to the window.\n",
       "    var buttongrp = document.createElement('div');\n",
       "    buttongrp.classList = 'btn-group inline pull-right';\n",
       "    button = document.createElement('button');\n",
       "    button.classList = 'btn btn-mini btn-primary';\n",
       "    button.href = '#';\n",
       "    button.title = 'Stop Interaction';\n",
       "    button.innerHTML = '<i class=\"fa fa-power-off icon-remove icon-large\"></i>';\n",
       "    button.addEventListener('click', function (_evt) {\n",
       "        fig.handle_close(fig, {});\n",
       "    });\n",
       "    button.addEventListener(\n",
       "        'mouseover',\n",
       "        on_mouseover_closure('Stop Interaction')\n",
       "    );\n",
       "    buttongrp.appendChild(button);\n",
       "    var titlebar = this.root.querySelector('.ui-dialog-titlebar');\n",
       "    titlebar.insertBefore(buttongrp, titlebar.firstChild);\n",
       "};\n",
       "\n",
       "mpl.figure.prototype._remove_fig_handler = function (event) {\n",
       "    var fig = event.data.fig;\n",
       "    if (event.target !== this) {\n",
       "        // Ignore bubbled events from children.\n",
       "        return;\n",
       "    }\n",
       "    fig.close_ws(fig, {});\n",
       "};\n",
       "\n",
       "mpl.figure.prototype._root_extra_style = function (el) {\n",
       "    el.style.boxSizing = 'content-box'; // override notebook setting of border-box.\n",
       "};\n",
       "\n",
       "mpl.figure.prototype._canvas_extra_style = function (el) {\n",
       "    // this is important to make the div 'focusable\n",
       "    el.setAttribute('tabindex', 0);\n",
       "    // reach out to IPython and tell the keyboard manager to turn it's self\n",
       "    // off when our div gets focus\n",
       "\n",
       "    // location in version 3\n",
       "    if (IPython.notebook.keyboard_manager) {\n",
       "        IPython.notebook.keyboard_manager.register_events(el);\n",
       "    } else {\n",
       "        // location in version 2\n",
       "        IPython.keyboard_manager.register_events(el);\n",
       "    }\n",
       "};\n",
       "\n",
       "mpl.figure.prototype._key_event_extra = function (event, _name) {\n",
       "    var manager = IPython.notebook.keyboard_manager;\n",
       "    if (!manager) {\n",
       "        manager = IPython.keyboard_manager;\n",
       "    }\n",
       "\n",
       "    // Check for shift+enter\n",
       "    if (event.shiftKey && event.which === 13) {\n",
       "        this.canvas_div.blur();\n",
       "        // select the cell after this one\n",
       "        var index = IPython.notebook.find_cell_index(this.cell_info[0]);\n",
       "        IPython.notebook.select(index + 1);\n",
       "    }\n",
       "};\n",
       "\n",
       "mpl.figure.prototype.handle_save = function (fig, _msg) {\n",
       "    fig.ondownload(fig, null);\n",
       "};\n",
       "\n",
       "mpl.find_output_cell = function (html_output) {\n",
       "    // Return the cell and output element which can be found *uniquely* in the notebook.\n",
       "    // Note - this is a bit hacky, but it is done because the \"notebook_saving.Notebook\"\n",
       "    // IPython event is triggered only after the cells have been serialised, which for\n",
       "    // our purposes (turning an active figure into a static one), is too late.\n",
       "    var cells = IPython.notebook.get_cells();\n",
       "    var ncells = cells.length;\n",
       "    for (var i = 0; i < ncells; i++) {\n",
       "        var cell = cells[i];\n",
       "        if (cell.cell_type === 'code') {\n",
       "            for (var j = 0; j < cell.output_area.outputs.length; j++) {\n",
       "                var data = cell.output_area.outputs[j];\n",
       "                if (data.data) {\n",
       "                    // IPython >= 3 moved mimebundle to data attribute of output\n",
       "                    data = data.data;\n",
       "                }\n",
       "                if (data['text/html'] === html_output) {\n",
       "                    return [cell, data, j];\n",
       "                }\n",
       "            }\n",
       "        }\n",
       "    }\n",
       "};\n",
       "\n",
       "// Register the function which deals with the matplotlib target/channel.\n",
       "// The kernel may be null if the page has been refreshed.\n",
       "if (IPython.notebook.kernel !== null) {\n",
       "    IPython.notebook.kernel.comm_manager.register_target(\n",
       "        'matplotlib',\n",
       "        mpl.mpl_figure_comm\n",
       "    );\n",
       "}\n"
      ],
      "text/plain": [
       "<IPython.core.display.Javascript object>"
      ]
     },
     "metadata": {},
     "output_type": "display_data"
    },
    {
     "data": {
      "text/html": [
       "<img src=\"data:image/png;base64,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\" width=\"640\">"
      ],
      "text/plain": [
       "<IPython.core.display.HTML object>"
      ]
     },
     "metadata": {},
     "output_type": "display_data"
    },
    {
     "data": {
      "text/plain": [
       "Text(0.5, 0, '$- \\\\frac{4 x y}{\\\\left(x^{2} + y^{2} + 1\\\\right)^{2}}$')"
      ]
     },
     "execution_count": 131,
     "metadata": {},
     "output_type": "execute_result"
    }
   ],
   "source": [
    "fig = plt.figure()\n",
    "ax = plt.axes(projection='3d')\n",
    "ax.plot_surface(xplot,yplot,zplot,cmap=plt.cm.coolwarm)\n",
    "ax.set_xlabel('x')\n",
    "ax.set_ylabel('y')\n",
    "ax.set_zlabel('$%s$'% latex(d2fdxdy))"
   ]
  },
  {
   "cell_type": "code",
   "execution_count": 132,
   "metadata": {},
   "outputs": [],
   "source": [
    "%matplotlib notebook"
   ]
  },
  {
   "cell_type": "markdown",
   "metadata": {},
   "source": [
    "The [**competitive Lotka–Volterra equations**](https://en.wikipedia.org/wiki/Competitive_Lotka–Volterra_equations) are a simple model of the population dynamics of species competing for some common resource. They are a system of differential equations that describe the dynamics of a pair of species that interact, one as a predator and the other as a prey.\n",
    "The coupled first-order non-linear differential equations are given by\n",
    "\n",
    "$$\\frac{dN_1}{dt}=\\frac{N_{1} r_{1} \\left(K_{1} - N_{1} - N_{2} \\alpha\\right)}{K_{1}}$$\n",
    "\n",
    "$$\\frac{dN_2}{dt}=\\frac{N_{2} r_{2} \\left(K_{2} - N_{1} \\beta - N_{2}\\right)}{K_{2}}$$\n",
    "\n",
    "where\n",
    "- $N_i$ = population size of species $i$\n",
    "- $t$ = time\n",
    "- $r_i$ = species $i$ growth rate\n",
    "- $K_i$ = environment carrying capacity\n",
    "- $\\alpha,\\beta$ = inter-species interaction parameters.\n",
    "\n",
    "If species 2 is the predator and species 1 is the prey, then $\\alpha$ must be positive (since the predator eats the prey reducing its population) and $\\beta$ must be negative since the predator needs the prey to get food.\n",
    "\n",
    "Define the variables:"
   ]
  },
  {
   "cell_type": "code",
   "execution_count": 133,
   "metadata": {},
   "outputs": [],
   "source": [
    "# We split it into two definitions to remind us that\n",
    "# a set of variables is for species 1 and the other one for species 2\n",
    "\n",
    "# Species 1\n",
    "r1, K1, N1, alpha = symbols('r_1 K_1 N_1 alpha')\n",
    "\n",
    "# Species 2\n",
    "r2, K2, N2, beta = symbols('r_2 K_2 N_2 beta')"
   ]
  },
  {
   "cell_type": "markdown",
   "metadata": {},
   "source": [
    "We can now define the differential equations in sympy"
   ]
  },
  {
   "cell_type": "code",
   "execution_count": 134,
   "metadata": {},
   "outputs": [
    {
     "data": {
      "text/latex": [
       "$\\displaystyle \\frac{N_{1} r_{1} \\left(K_{1} - N_{1} - N_{2} \\alpha\\right)}{K_{1}}$"
      ],
      "text/plain": [
       "N_1*r_1*(K_1 - N_1 - N_2*alpha)/K_1"
      ]
     },
     "execution_count": 134,
     "metadata": {},
     "output_type": "execute_result"
    }
   ],
   "source": [
    "dN1_dt = r1 * N1 * (K1 - N1 - alpha * N2) / K1\n",
    "dN1_dt"
   ]
  },
  {
   "cell_type": "code",
   "execution_count": 135,
   "metadata": {},
   "outputs": [
    {
     "data": {
      "text/latex": [
       "$\\displaystyle \\frac{N_{2} r_{2} \\left(K_{2} - N_{1} \\beta - N_{2}\\right)}{K_{2}}$"
      ],
      "text/plain": [
       "N_2*r_2*(K_2 - N_1*beta - N_2)/K_2"
      ]
     },
     "execution_count": 135,
     "metadata": {},
     "output_type": "execute_result"
    }
   ],
   "source": [
    "dN2_dt = r2 * N2 * (K2 - N2 - beta * N1) / K2\n",
    "dN2_dt"
   ]
  },
  {
   "cell_type": "markdown",
   "metadata": {},
   "source": [
    "Usually one of the first things we do when analyzing a dynamical system is to find the steady state, i.e. finding when the derivative with respect to time equals to zero.\n",
    "\n",
    "We define the equality using the `Eq`:"
   ]
  },
  {
   "cell_type": "code",
   "execution_count": 136,
   "metadata": {},
   "outputs": [
    {
     "data": {
      "text/latex": [
       "$\\displaystyle \\frac{N_{1} r_{1} \\left(K_{1} - N_{1} - N_{2} \\alpha\\right)}{K_{1}} = 0$"
      ],
      "text/plain": [
       "Eq(N_1*r_1*(K_1 - N_1 - N_2*alpha)/K_1, 0)"
      ]
     },
     "execution_count": 136,
     "metadata": {},
     "output_type": "execute_result"
    }
   ],
   "source": [
    "ss_N1 = Eq(dN1_dt, 0)\n",
    "ss_N1"
   ]
  },
  {
   "cell_type": "code",
   "execution_count": 137,
   "metadata": {},
   "outputs": [
    {
     "data": {
      "text/latex": [
       "$\\displaystyle \\frac{N_{2} r_{2} \\left(K_{2} - N_{1} \\beta - N_{2}\\right)}{K_{2}} = 0$"
      ],
      "text/plain": [
       "Eq(N_2*r_2*(K_2 - N_1*beta - N_2)/K_2, 0)"
      ]
     },
     "execution_count": 137,
     "metadata": {},
     "output_type": "execute_result"
    }
   ],
   "source": [
    "ss_N2 = Eq(dN2_dt, 0)\n",
    "ss_N2"
   ]
  },
  {
   "cell_type": "markdown",
   "metadata": {},
   "source": [
    "Solve for the species population:"
   ]
  },
  {
   "cell_type": "code",
   "execution_count": 138,
   "metadata": {},
   "outputs": [
    {
     "name": "stdout",
     "output_type": "stream",
     "text": [
      "The steady state solution for both species are:\n"
     ]
    },
    {
     "data": {
      "text/plain": [
       "([0, K_1 - N_2*alpha], [0, K_2 - N_1*beta])"
      ]
     },
     "execution_count": 138,
     "metadata": {},
     "output_type": "execute_result"
    }
   ],
   "source": [
    "ss_N1_sol = solve(ss_N1, N1)\n",
    "ss_N2_sol = solve(ss_N2, N2)\n",
    "\n",
    "print('The steady state solution for both species are:')\n",
    "ss_N1_sol, ss_N2_sol"
   ]
  },
  {
   "cell_type": "markdown",
   "metadata": {},
   "source": [
    "So we find that there are two steady state solutions:\n",
    "1. The trivial solutions in which both species are extinct $N_1=N_2=0$\n",
    "2. A solution in which both species maintain their non-zero populations.\n",
    "\n",
    "We can use sympy's solve function to solve simultaneously for both species. The solution is returned as a dictionary where each key is the name of the respective variable."
   ]
  },
  {
   "cell_type": "code",
   "execution_count": 139,
   "metadata": {},
   "outputs": [
    {
     "data": {
      "text/plain": [
       "{N_1: (-K_1 + K_2*alpha)/(alpha*beta - 1),\n",
       " N_2: (K_1*beta - K_2)/(alpha*beta - 1)}"
      ]
     },
     "execution_count": 139,
     "metadata": {},
     "output_type": "execute_result"
    }
   ],
   "source": [
    "ss_dict = solve((Eq(N1, ss_N1_sol[1]), Eq(N2, ss_N2_sol[1])),(N1, N2))\n",
    "ss_dict"
   ]
  },
  {
   "cell_type": "markdown",
   "metadata": {},
   "source": [
    "We can use scipy's numerical solver to run a simulation for this system of equations.\n",
    "\n",
    "**Note**: we use `lambdify` to numerically evaluate the diff. equations"
   ]
  },
  {
   "cell_type": "code",
   "execution_count": 140,
   "metadata": {},
   "outputs": [],
   "source": [
    "# Generate 'lambdify' functions to numerically evaluate the diff. equations\n",
    "dN1_dt_num = lambdify([N1, N2, r1, K1, alpha], dN1_dt)\n",
    "dN2_dt_num = lambdify([N2, N1, r2, K2, beta], dN2_dt)\n",
    "\n",
    "\n",
    "def lotka_voltera_rhs(n1_n2, t, *p):\n",
    "    '''\n",
    "    Set up the right hand side (rhs) function for the system \n",
    "    (necessary step to feed sympy's odeint function).\n",
    "    '''\n",
    "    # unpack the variables\n",
    "    n1, n2 = n1_n2\n",
    "    \n",
    "    # unpack the parameters\n",
    "    r_1, k1, a, r_2, k2, b = p\n",
    "    \n",
    "    # Define derivatices rom lambdified functions\n",
    "    n1dot = dN1_dt_num(n1, n2, r_1, k1, a)\n",
    "    n2dot = dN2_dt_num(n2, n1, r_2, k2, b)\n",
    "\n",
    "    return np.array([n1dot, n2dot])"
   ]
  },
  {
   "cell_type": "markdown",
   "metadata": {},
   "source": [
    "Now let's define the parameters and numerically solve the system"
   ]
  },
  {
   "cell_type": "code",
   "execution_count": 141,
   "metadata": {},
   "outputs": [],
   "source": [
    "from scipy.integrate import odeint\n",
    "# let's set the parameter values.\n",
    "r_1, r_2 = [0.5, 0.2]\n",
    "k1, k2 = [100, 50]\n",
    "a, b = [1.2, 0.2]\n",
    "args = (r_1, k1, a, r_2, k2, b)\n",
    "\n",
    "# Initial population size\n",
    "n1_n2_0 = [2, 2]\n",
    "\n",
    "# Time points we want to consider\n",
    "t = np.linspace(0, 100, 1000)\n",
    "\n",
    "# Now let's use odeint to solve the function\n",
    "n1_n2 = odeint(lotka_voltera_rhs, n1_n2_0, t, args=args)"
   ]
  },
  {
   "cell_type": "markdown",
   "metadata": {},
   "source": [
    "We will now plot the solution"
   ]
  },
  {
   "cell_type": "code",
   "execution_count": 142,
   "metadata": {
    "scrolled": true
   },
   "outputs": [
    {
     "data": {
      "application/javascript": [
       "/* Put everything inside the global mpl namespace */\n",
       "/* global mpl */\n",
       "window.mpl = {};\n",
       "\n",
       "mpl.get_websocket_type = function () {\n",
       "    if (typeof WebSocket !== 'undefined') {\n",
       "        return WebSocket;\n",
       "    } else if (typeof MozWebSocket !== 'undefined') {\n",
       "        return MozWebSocket;\n",
       "    } else {\n",
       "        alert(\n",
       "            'Your browser does not have WebSocket support. ' +\n",
       "                'Please try Chrome, Safari or Firefox ≥ 6. ' +\n",
       "                'Firefox 4 and 5 are also supported but you ' +\n",
       "                'have to enable WebSockets in about:config.'\n",
       "        );\n",
       "    }\n",
       "};\n",
       "\n",
       "mpl.figure = function (figure_id, websocket, ondownload, parent_element) {\n",
       "    this.id = figure_id;\n",
       "\n",
       "    this.ws = websocket;\n",
       "\n",
       "    this.supports_binary = this.ws.binaryType !== undefined;\n",
       "\n",
       "    if (!this.supports_binary) {\n",
       "        var warnings = document.getElementById('mpl-warnings');\n",
       "        if (warnings) {\n",
       "            warnings.style.display = 'block';\n",
       "            warnings.textContent =\n",
       "                'This browser does not support binary websocket messages. ' +\n",
       "                'Performance may be slow.';\n",
       "        }\n",
       "    }\n",
       "\n",
       "    this.imageObj = new Image();\n",
       "\n",
       "    this.context = undefined;\n",
       "    this.message = undefined;\n",
       "    this.canvas = undefined;\n",
       "    this.rubberband_canvas = undefined;\n",
       "    this.rubberband_context = undefined;\n",
       "    this.format_dropdown = undefined;\n",
       "\n",
       "    this.image_mode = 'full';\n",
       "\n",
       "    this.root = document.createElement('div');\n",
       "    this.root.setAttribute('style', 'display: inline-block');\n",
       "    this._root_extra_style(this.root);\n",
       "\n",
       "    parent_element.appendChild(this.root);\n",
       "\n",
       "    this._init_header(this);\n",
       "    this._init_canvas(this);\n",
       "    this._init_toolbar(this);\n",
       "\n",
       "    var fig = this;\n",
       "\n",
       "    this.waiting = false;\n",
       "\n",
       "    this.ws.onopen = function () {\n",
       "        fig.send_message('supports_binary', { value: fig.supports_binary });\n",
       "        fig.send_message('send_image_mode', {});\n",
       "        if (fig.ratio !== 1) {\n",
       "            fig.send_message('set_dpi_ratio', { dpi_ratio: fig.ratio });\n",
       "        }\n",
       "        fig.send_message('refresh', {});\n",
       "    };\n",
       "\n",
       "    this.imageObj.onload = function () {\n",
       "        if (fig.image_mode === 'full') {\n",
       "            // Full images could contain transparency (where diff images\n",
       "            // almost always do), so we need to clear the canvas so that\n",
       "            // there is no ghosting.\n",
       "            fig.context.clearRect(0, 0, fig.canvas.width, fig.canvas.height);\n",
       "        }\n",
       "        fig.context.drawImage(fig.imageObj, 0, 0);\n",
       "    };\n",
       "\n",
       "    this.imageObj.onunload = function () {\n",
       "        fig.ws.close();\n",
       "    };\n",
       "\n",
       "    this.ws.onmessage = this._make_on_message_function(this);\n",
       "\n",
       "    this.ondownload = ondownload;\n",
       "};\n",
       "\n",
       "mpl.figure.prototype._init_header = function () {\n",
       "    var titlebar = document.createElement('div');\n",
       "    titlebar.classList =\n",
       "        'ui-dialog-titlebar ui-widget-header ui-corner-all ui-helper-clearfix';\n",
       "    var titletext = document.createElement('div');\n",
       "    titletext.classList = 'ui-dialog-title';\n",
       "    titletext.setAttribute(\n",
       "        'style',\n",
       "        'width: 100%; text-align: center; padding: 3px;'\n",
       "    );\n",
       "    titlebar.appendChild(titletext);\n",
       "    this.root.appendChild(titlebar);\n",
       "    this.header = titletext;\n",
       "};\n",
       "\n",
       "mpl.figure.prototype._canvas_extra_style = function (_canvas_div) {};\n",
       "\n",
       "mpl.figure.prototype._root_extra_style = function (_canvas_div) {};\n",
       "\n",
       "mpl.figure.prototype._init_canvas = function () {\n",
       "    var fig = this;\n",
       "\n",
       "    var canvas_div = (this.canvas_div = document.createElement('div'));\n",
       "    canvas_div.setAttribute(\n",
       "        'style',\n",
       "        'border: 1px solid #ddd;' +\n",
       "            'box-sizing: content-box;' +\n",
       "            'clear: both;' +\n",
       "            'min-height: 1px;' +\n",
       "            'min-width: 1px;' +\n",
       "            'outline: 0;' +\n",
       "            'overflow: hidden;' +\n",
       "            'position: relative;' +\n",
       "            'resize: both;'\n",
       "    );\n",
       "\n",
       "    function on_keyboard_event_closure(name) {\n",
       "        return function (event) {\n",
       "            return fig.key_event(event, name);\n",
       "        };\n",
       "    }\n",
       "\n",
       "    canvas_div.addEventListener(\n",
       "        'keydown',\n",
       "        on_keyboard_event_closure('key_press')\n",
       "    );\n",
       "    canvas_div.addEventListener(\n",
       "        'keyup',\n",
       "        on_keyboard_event_closure('key_release')\n",
       "    );\n",
       "\n",
       "    this._canvas_extra_style(canvas_div);\n",
       "    this.root.appendChild(canvas_div);\n",
       "\n",
       "    var canvas = (this.canvas = document.createElement('canvas'));\n",
       "    canvas.classList.add('mpl-canvas');\n",
       "    canvas.setAttribute('style', 'box-sizing: content-box;');\n",
       "\n",
       "    this.context = canvas.getContext('2d');\n",
       "\n",
       "    var backingStore =\n",
       "        this.context.backingStorePixelRatio ||\n",
       "        this.context.webkitBackingStorePixelRatio ||\n",
       "        this.context.mozBackingStorePixelRatio ||\n",
       "        this.context.msBackingStorePixelRatio ||\n",
       "        this.context.oBackingStorePixelRatio ||\n",
       "        this.context.backingStorePixelRatio ||\n",
       "        1;\n",
       "\n",
       "    this.ratio = (window.devicePixelRatio || 1) / backingStore;\n",
       "    if (this.ratio !== 1) {\n",
       "        fig.send_message('set_dpi_ratio', { dpi_ratio: this.ratio });\n",
       "    }\n",
       "\n",
       "    var rubberband_canvas = (this.rubberband_canvas = document.createElement(\n",
       "        'canvas'\n",
       "    ));\n",
       "    rubberband_canvas.setAttribute(\n",
       "        'style',\n",
       "        'box-sizing: content-box; position: absolute; left: 0; top: 0; z-index: 1;'\n",
       "    );\n",
       "\n",
       "    // Apply a ponyfill if ResizeObserver is not implemented by browser.\n",
       "    if (this.ResizeObserver === undefined) {\n",
       "        if (window.ResizeObserver !== undefined) {\n",
       "            this.ResizeObserver = window.ResizeObserver;\n",
       "        } else {\n",
       "            var obs = _JSXTOOLS_RESIZE_OBSERVER({});\n",
       "            this.ResizeObserver = obs.ResizeObserver;\n",
       "        }\n",
       "    }\n",
       "\n",
       "    this.resizeObserverInstance = new this.ResizeObserver(function (entries) {\n",
       "        var nentries = entries.length;\n",
       "        for (var i = 0; i < nentries; i++) {\n",
       "            var entry = entries[i];\n",
       "            var width, height;\n",
       "            if (entry.contentBoxSize) {\n",
       "                if (entry.contentBoxSize instanceof Array) {\n",
       "                    // Chrome 84 implements new version of spec.\n",
       "                    width = entry.contentBoxSize[0].inlineSize;\n",
       "                    height = entry.contentBoxSize[0].blockSize;\n",
       "                } else {\n",
       "                    // Firefox implements old version of spec.\n",
       "                    width = entry.contentBoxSize.inlineSize;\n",
       "                    height = entry.contentBoxSize.blockSize;\n",
       "                }\n",
       "            } else {\n",
       "                // Chrome <84 implements even older version of spec.\n",
       "                width = entry.contentRect.width;\n",
       "                height = entry.contentRect.height;\n",
       "            }\n",
       "\n",
       "            // Keep the size of the canvas and rubber band canvas in sync with\n",
       "            // the canvas container.\n",
       "            if (entry.devicePixelContentBoxSize) {\n",
       "                // Chrome 84 implements new version of spec.\n",
       "                canvas.setAttribute(\n",
       "                    'width',\n",
       "                    entry.devicePixelContentBoxSize[0].inlineSize\n",
       "                );\n",
       "                canvas.setAttribute(\n",
       "                    'height',\n",
       "                    entry.devicePixelContentBoxSize[0].blockSize\n",
       "                );\n",
       "            } else {\n",
       "                canvas.setAttribute('width', width * fig.ratio);\n",
       "                canvas.setAttribute('height', height * fig.ratio);\n",
       "            }\n",
       "            canvas.setAttribute(\n",
       "                'style',\n",
       "                'width: ' + width + 'px; height: ' + height + 'px;'\n",
       "            );\n",
       "\n",
       "            rubberband_canvas.setAttribute('width', width);\n",
       "            rubberband_canvas.setAttribute('height', height);\n",
       "\n",
       "            // And update the size in Python. We ignore the initial 0/0 size\n",
       "            // that occurs as the element is placed into the DOM, which should\n",
       "            // otherwise not happen due to the minimum size styling.\n",
       "            if (width != 0 && height != 0) {\n",
       "                fig.request_resize(width, height);\n",
       "            }\n",
       "        }\n",
       "    });\n",
       "    this.resizeObserverInstance.observe(canvas_div);\n",
       "\n",
       "    function on_mouse_event_closure(name) {\n",
       "        return function (event) {\n",
       "            return fig.mouse_event(event, name);\n",
       "        };\n",
       "    }\n",
       "\n",
       "    rubberband_canvas.addEventListener(\n",
       "        'mousedown',\n",
       "        on_mouse_event_closure('button_press')\n",
       "    );\n",
       "    rubberband_canvas.addEventListener(\n",
       "        'mouseup',\n",
       "        on_mouse_event_closure('button_release')\n",
       "    );\n",
       "    // Throttle sequential mouse events to 1 every 20ms.\n",
       "    rubberband_canvas.addEventListener(\n",
       "        'mousemove',\n",
       "        on_mouse_event_closure('motion_notify')\n",
       "    );\n",
       "\n",
       "    rubberband_canvas.addEventListener(\n",
       "        'mouseenter',\n",
       "        on_mouse_event_closure('figure_enter')\n",
       "    );\n",
       "    rubberband_canvas.addEventListener(\n",
       "        'mouseleave',\n",
       "        on_mouse_event_closure('figure_leave')\n",
       "    );\n",
       "\n",
       "    canvas_div.addEventListener('wheel', function (event) {\n",
       "        if (event.deltaY < 0) {\n",
       "            event.step = 1;\n",
       "        } else {\n",
       "            event.step = -1;\n",
       "        }\n",
       "        on_mouse_event_closure('scroll')(event);\n",
       "    });\n",
       "\n",
       "    canvas_div.appendChild(canvas);\n",
       "    canvas_div.appendChild(rubberband_canvas);\n",
       "\n",
       "    this.rubberband_context = rubberband_canvas.getContext('2d');\n",
       "    this.rubberband_context.strokeStyle = '#000000';\n",
       "\n",
       "    this._resize_canvas = function (width, height, forward) {\n",
       "        if (forward) {\n",
       "            canvas_div.style.width = width + 'px';\n",
       "            canvas_div.style.height = height + 'px';\n",
       "        }\n",
       "    };\n",
       "\n",
       "    // Disable right mouse context menu.\n",
       "    this.rubberband_canvas.addEventListener('contextmenu', function (_e) {\n",
       "        event.preventDefault();\n",
       "        return false;\n",
       "    });\n",
       "\n",
       "    function set_focus() {\n",
       "        canvas.focus();\n",
       "        canvas_div.focus();\n",
       "    }\n",
       "\n",
       "    window.setTimeout(set_focus, 100);\n",
       "};\n",
       "\n",
       "mpl.figure.prototype._init_toolbar = function () {\n",
       "    var fig = this;\n",
       "\n",
       "    var toolbar = document.createElement('div');\n",
       "    toolbar.classList = 'mpl-toolbar';\n",
       "    this.root.appendChild(toolbar);\n",
       "\n",
       "    function on_click_closure(name) {\n",
       "        return function (_event) {\n",
       "            return fig.toolbar_button_onclick(name);\n",
       "        };\n",
       "    }\n",
       "\n",
       "    function on_mouseover_closure(tooltip) {\n",
       "        return function (event) {\n",
       "            if (!event.currentTarget.disabled) {\n",
       "                return fig.toolbar_button_onmouseover(tooltip);\n",
       "            }\n",
       "        };\n",
       "    }\n",
       "\n",
       "    fig.buttons = {};\n",
       "    var buttonGroup = document.createElement('div');\n",
       "    buttonGroup.classList = 'mpl-button-group';\n",
       "    for (var toolbar_ind in mpl.toolbar_items) {\n",
       "        var name = mpl.toolbar_items[toolbar_ind][0];\n",
       "        var tooltip = mpl.toolbar_items[toolbar_ind][1];\n",
       "        var image = mpl.toolbar_items[toolbar_ind][2];\n",
       "        var method_name = mpl.toolbar_items[toolbar_ind][3];\n",
       "\n",
       "        if (!name) {\n",
       "            /* Instead of a spacer, we start a new button group. */\n",
       "            if (buttonGroup.hasChildNodes()) {\n",
       "                toolbar.appendChild(buttonGroup);\n",
       "            }\n",
       "            buttonGroup = document.createElement('div');\n",
       "            buttonGroup.classList = 'mpl-button-group';\n",
       "            continue;\n",
       "        }\n",
       "\n",
       "        var button = (fig.buttons[name] = document.createElement('button'));\n",
       "        button.classList = 'mpl-widget';\n",
       "        button.setAttribute('role', 'button');\n",
       "        button.setAttribute('aria-disabled', 'false');\n",
       "        button.addEventListener('click', on_click_closure(method_name));\n",
       "        button.addEventListener('mouseover', on_mouseover_closure(tooltip));\n",
       "\n",
       "        var icon_img = document.createElement('img');\n",
       "        icon_img.src = '_images/' + image + '.png';\n",
       "        icon_img.srcset = '_images/' + image + '_large.png 2x';\n",
       "        icon_img.alt = tooltip;\n",
       "        button.appendChild(icon_img);\n",
       "\n",
       "        buttonGroup.appendChild(button);\n",
       "    }\n",
       "\n",
       "    if (buttonGroup.hasChildNodes()) {\n",
       "        toolbar.appendChild(buttonGroup);\n",
       "    }\n",
       "\n",
       "    var fmt_picker = document.createElement('select');\n",
       "    fmt_picker.classList = 'mpl-widget';\n",
       "    toolbar.appendChild(fmt_picker);\n",
       "    this.format_dropdown = fmt_picker;\n",
       "\n",
       "    for (var ind in mpl.extensions) {\n",
       "        var fmt = mpl.extensions[ind];\n",
       "        var option = document.createElement('option');\n",
       "        option.selected = fmt === mpl.default_extension;\n",
       "        option.innerHTML = fmt;\n",
       "        fmt_picker.appendChild(option);\n",
       "    }\n",
       "\n",
       "    var status_bar = document.createElement('span');\n",
       "    status_bar.classList = 'mpl-message';\n",
       "    toolbar.appendChild(status_bar);\n",
       "    this.message = status_bar;\n",
       "};\n",
       "\n",
       "mpl.figure.prototype.request_resize = function (x_pixels, y_pixels) {\n",
       "    // Request matplotlib to resize the figure. Matplotlib will then trigger a resize in the client,\n",
       "    // which will in turn request a refresh of the image.\n",
       "    this.send_message('resize', { width: x_pixels, height: y_pixels });\n",
       "};\n",
       "\n",
       "mpl.figure.prototype.send_message = function (type, properties) {\n",
       "    properties['type'] = type;\n",
       "    properties['figure_id'] = this.id;\n",
       "    this.ws.send(JSON.stringify(properties));\n",
       "};\n",
       "\n",
       "mpl.figure.prototype.send_draw_message = function () {\n",
       "    if (!this.waiting) {\n",
       "        this.waiting = true;\n",
       "        this.ws.send(JSON.stringify({ type: 'draw', figure_id: this.id }));\n",
       "    }\n",
       "};\n",
       "\n",
       "mpl.figure.prototype.handle_save = function (fig, _msg) {\n",
       "    var format_dropdown = fig.format_dropdown;\n",
       "    var format = format_dropdown.options[format_dropdown.selectedIndex].value;\n",
       "    fig.ondownload(fig, format);\n",
       "};\n",
       "\n",
       "mpl.figure.prototype.handle_resize = function (fig, msg) {\n",
       "    var size = msg['size'];\n",
       "    if (size[0] !== fig.canvas.width || size[1] !== fig.canvas.height) {\n",
       "        fig._resize_canvas(size[0], size[1], msg['forward']);\n",
       "        fig.send_message('refresh', {});\n",
       "    }\n",
       "};\n",
       "\n",
       "mpl.figure.prototype.handle_rubberband = function (fig, msg) {\n",
       "    var x0 = msg['x0'] / fig.ratio;\n",
       "    var y0 = (fig.canvas.height - msg['y0']) / fig.ratio;\n",
       "    var x1 = msg['x1'] / fig.ratio;\n",
       "    var y1 = (fig.canvas.height - msg['y1']) / fig.ratio;\n",
       "    x0 = Math.floor(x0) + 0.5;\n",
       "    y0 = Math.floor(y0) + 0.5;\n",
       "    x1 = Math.floor(x1) + 0.5;\n",
       "    y1 = Math.floor(y1) + 0.5;\n",
       "    var min_x = Math.min(x0, x1);\n",
       "    var min_y = Math.min(y0, y1);\n",
       "    var width = Math.abs(x1 - x0);\n",
       "    var height = Math.abs(y1 - y0);\n",
       "\n",
       "    fig.rubberband_context.clearRect(\n",
       "        0,\n",
       "        0,\n",
       "        fig.canvas.width / fig.ratio,\n",
       "        fig.canvas.height / fig.ratio\n",
       "    );\n",
       "\n",
       "    fig.rubberband_context.strokeRect(min_x, min_y, width, height);\n",
       "};\n",
       "\n",
       "mpl.figure.prototype.handle_figure_label = function (fig, msg) {\n",
       "    // Updates the figure title.\n",
       "    fig.header.textContent = msg['label'];\n",
       "};\n",
       "\n",
       "mpl.figure.prototype.handle_cursor = function (fig, msg) {\n",
       "    var cursor = msg['cursor'];\n",
       "    switch (cursor) {\n",
       "        case 0:\n",
       "            cursor = 'pointer';\n",
       "            break;\n",
       "        case 1:\n",
       "            cursor = 'default';\n",
       "            break;\n",
       "        case 2:\n",
       "            cursor = 'crosshair';\n",
       "            break;\n",
       "        case 3:\n",
       "            cursor = 'move';\n",
       "            break;\n",
       "    }\n",
       "    fig.rubberband_canvas.style.cursor = cursor;\n",
       "};\n",
       "\n",
       "mpl.figure.prototype.handle_message = function (fig, msg) {\n",
       "    fig.message.textContent = msg['message'];\n",
       "};\n",
       "\n",
       "mpl.figure.prototype.handle_draw = function (fig, _msg) {\n",
       "    // Request the server to send over a new figure.\n",
       "    fig.send_draw_message();\n",
       "};\n",
       "\n",
       "mpl.figure.prototype.handle_image_mode = function (fig, msg) {\n",
       "    fig.image_mode = msg['mode'];\n",
       "};\n",
       "\n",
       "mpl.figure.prototype.handle_history_buttons = function (fig, msg) {\n",
       "    for (var key in msg) {\n",
       "        if (!(key in fig.buttons)) {\n",
       "            continue;\n",
       "        }\n",
       "        fig.buttons[key].disabled = !msg[key];\n",
       "        fig.buttons[key].setAttribute('aria-disabled', !msg[key]);\n",
       "    }\n",
       "};\n",
       "\n",
       "mpl.figure.prototype.handle_navigate_mode = function (fig, msg) {\n",
       "    if (msg['mode'] === 'PAN') {\n",
       "        fig.buttons['Pan'].classList.add('active');\n",
       "        fig.buttons['Zoom'].classList.remove('active');\n",
       "    } else if (msg['mode'] === 'ZOOM') {\n",
       "        fig.buttons['Pan'].classList.remove('active');\n",
       "        fig.buttons['Zoom'].classList.add('active');\n",
       "    } else {\n",
       "        fig.buttons['Pan'].classList.remove('active');\n",
       "        fig.buttons['Zoom'].classList.remove('active');\n",
       "    }\n",
       "};\n",
       "\n",
       "mpl.figure.prototype.updated_canvas_event = function () {\n",
       "    // Called whenever the canvas gets updated.\n",
       "    this.send_message('ack', {});\n",
       "};\n",
       "\n",
       "// A function to construct a web socket function for onmessage handling.\n",
       "// Called in the figure constructor.\n",
       "mpl.figure.prototype._make_on_message_function = function (fig) {\n",
       "    return function socket_on_message(evt) {\n",
       "        if (evt.data instanceof Blob) {\n",
       "            /* FIXME: We get \"Resource interpreted as Image but\n",
       "             * transferred with MIME type text/plain:\" errors on\n",
       "             * Chrome.  But how to set the MIME type?  It doesn't seem\n",
       "             * to be part of the websocket stream */\n",
       "            evt.data.type = 'image/png';\n",
       "\n",
       "            /* Free the memory for the previous frames */\n",
       "            if (fig.imageObj.src) {\n",
       "                (window.URL || window.webkitURL).revokeObjectURL(\n",
       "                    fig.imageObj.src\n",
       "                );\n",
       "            }\n",
       "\n",
       "            fig.imageObj.src = (window.URL || window.webkitURL).createObjectURL(\n",
       "                evt.data\n",
       "            );\n",
       "            fig.updated_canvas_event();\n",
       "            fig.waiting = false;\n",
       "            return;\n",
       "        } else if (\n",
       "            typeof evt.data === 'string' &&\n",
       "            evt.data.slice(0, 21) === 'data:image/png;base64'\n",
       "        ) {\n",
       "            fig.imageObj.src = evt.data;\n",
       "            fig.updated_canvas_event();\n",
       "            fig.waiting = false;\n",
       "            return;\n",
       "        }\n",
       "\n",
       "        var msg = JSON.parse(evt.data);\n",
       "        var msg_type = msg['type'];\n",
       "\n",
       "        // Call the  \"handle_{type}\" callback, which takes\n",
       "        // the figure and JSON message as its only arguments.\n",
       "        try {\n",
       "            var callback = fig['handle_' + msg_type];\n",
       "        } catch (e) {\n",
       "            console.log(\n",
       "                \"No handler for the '\" + msg_type + \"' message type: \",\n",
       "                msg\n",
       "            );\n",
       "            return;\n",
       "        }\n",
       "\n",
       "        if (callback) {\n",
       "            try {\n",
       "                // console.log(\"Handling '\" + msg_type + \"' message: \", msg);\n",
       "                callback(fig, msg);\n",
       "            } catch (e) {\n",
       "                console.log(\n",
       "                    \"Exception inside the 'handler_\" + msg_type + \"' callback:\",\n",
       "                    e,\n",
       "                    e.stack,\n",
       "                    msg\n",
       "                );\n",
       "            }\n",
       "        }\n",
       "    };\n",
       "};\n",
       "\n",
       "// from http://stackoverflow.com/questions/1114465/getting-mouse-location-in-canvas\n",
       "mpl.findpos = function (e) {\n",
       "    //this section is from http://www.quirksmode.org/js/events_properties.html\n",
       "    var targ;\n",
       "    if (!e) {\n",
       "        e = window.event;\n",
       "    }\n",
       "    if (e.target) {\n",
       "        targ = e.target;\n",
       "    } else if (e.srcElement) {\n",
       "        targ = e.srcElement;\n",
       "    }\n",
       "    if (targ.nodeType === 3) {\n",
       "        // defeat Safari bug\n",
       "        targ = targ.parentNode;\n",
       "    }\n",
       "\n",
       "    // pageX,Y are the mouse positions relative to the document\n",
       "    var boundingRect = targ.getBoundingClientRect();\n",
       "    var x = e.pageX - (boundingRect.left + document.body.scrollLeft);\n",
       "    var y = e.pageY - (boundingRect.top + document.body.scrollTop);\n",
       "\n",
       "    return { x: x, y: y };\n",
       "};\n",
       "\n",
       "/*\n",
       " * return a copy of an object with only non-object keys\n",
       " * we need this to avoid circular references\n",
       " * http://stackoverflow.com/a/24161582/3208463\n",
       " */\n",
       "function simpleKeys(original) {\n",
       "    return Object.keys(original).reduce(function (obj, key) {\n",
       "        if (typeof original[key] !== 'object') {\n",
       "            obj[key] = original[key];\n",
       "        }\n",
       "        return obj;\n",
       "    }, {});\n",
       "}\n",
       "\n",
       "mpl.figure.prototype.mouse_event = function (event, name) {\n",
       "    var canvas_pos = mpl.findpos(event);\n",
       "\n",
       "    if (name === 'button_press') {\n",
       "        this.canvas.focus();\n",
       "        this.canvas_div.focus();\n",
       "    }\n",
       "\n",
       "    var x = canvas_pos.x * this.ratio;\n",
       "    var y = canvas_pos.y * this.ratio;\n",
       "\n",
       "    this.send_message(name, {\n",
       "        x: x,\n",
       "        y: y,\n",
       "        button: event.button,\n",
       "        step: event.step,\n",
       "        guiEvent: simpleKeys(event),\n",
       "    });\n",
       "\n",
       "    /* This prevents the web browser from automatically changing to\n",
       "     * the text insertion cursor when the button is pressed.  We want\n",
       "     * to control all of the cursor setting manually through the\n",
       "     * 'cursor' event from matplotlib */\n",
       "    event.preventDefault();\n",
       "    return false;\n",
       "};\n",
       "\n",
       "mpl.figure.prototype._key_event_extra = function (_event, _name) {\n",
       "    // Handle any extra behaviour associated with a key event\n",
       "};\n",
       "\n",
       "mpl.figure.prototype.key_event = function (event, name) {\n",
       "    // Prevent repeat events\n",
       "    if (name === 'key_press') {\n",
       "        if (event.which === this._key) {\n",
       "            return;\n",
       "        } else {\n",
       "            this._key = event.which;\n",
       "        }\n",
       "    }\n",
       "    if (name === 'key_release') {\n",
       "        this._key = null;\n",
       "    }\n",
       "\n",
       "    var value = '';\n",
       "    if (event.ctrlKey && event.which !== 17) {\n",
       "        value += 'ctrl+';\n",
       "    }\n",
       "    if (event.altKey && event.which !== 18) {\n",
       "        value += 'alt+';\n",
       "    }\n",
       "    if (event.shiftKey && event.which !== 16) {\n",
       "        value += 'shift+';\n",
       "    }\n",
       "\n",
       "    value += 'k';\n",
       "    value += event.which.toString();\n",
       "\n",
       "    this._key_event_extra(event, name);\n",
       "\n",
       "    this.send_message(name, { key: value, guiEvent: simpleKeys(event) });\n",
       "    return false;\n",
       "};\n",
       "\n",
       "mpl.figure.prototype.toolbar_button_onclick = function (name) {\n",
       "    if (name === 'download') {\n",
       "        this.handle_save(this, null);\n",
       "    } else {\n",
       "        this.send_message('toolbar_button', { name: name });\n",
       "    }\n",
       "};\n",
       "\n",
       "mpl.figure.prototype.toolbar_button_onmouseover = function (tooltip) {\n",
       "    this.message.textContent = tooltip;\n",
       "};\n",
       "\n",
       "///////////////// REMAINING CONTENT GENERATED BY embed_js.py /////////////////\n",
       "// prettier-ignore\n",
       "var _JSXTOOLS_RESIZE_OBSERVER=function(A){var t,i=new WeakMap,n=new WeakMap,a=new WeakMap,r=new WeakMap,o=new Set;function s(e){if(!(this instanceof s))throw new TypeError(\"Constructor requires 'new' operator\");i.set(this,e)}function h(){throw new TypeError(\"Function is not a constructor\")}function c(e,t,i,n){e=0 in arguments?Number(arguments[0]):0,t=1 in arguments?Number(arguments[1]):0,i=2 in arguments?Number(arguments[2]):0,n=3 in arguments?Number(arguments[3]):0,this.right=(this.x=this.left=e)+(this.width=i),this.bottom=(this.y=this.top=t)+(this.height=n),Object.freeze(this)}function d(){t=requestAnimationFrame(d);var s=new WeakMap,p=new Set;o.forEach((function(t){r.get(t).forEach((function(i){var r=t instanceof window.SVGElement,o=a.get(t),d=r?0:parseFloat(o.paddingTop),f=r?0:parseFloat(o.paddingRight),l=r?0:parseFloat(o.paddingBottom),u=r?0:parseFloat(o.paddingLeft),g=r?0:parseFloat(o.borderTopWidth),m=r?0:parseFloat(o.borderRightWidth),w=r?0:parseFloat(o.borderBottomWidth),b=u+f,F=d+l,v=(r?0:parseFloat(o.borderLeftWidth))+m,W=g+w,y=r?0:t.offsetHeight-W-t.clientHeight,E=r?0:t.offsetWidth-v-t.clientWidth,R=b+v,z=F+W,M=r?t.width:parseFloat(o.width)-R-E,O=r?t.height:parseFloat(o.height)-z-y;if(n.has(t)){var k=n.get(t);if(k[0]===M&&k[1]===O)return}n.set(t,[M,O]);var S=Object.create(h.prototype);S.target=t,S.contentRect=new c(u,d,M,O),s.has(i)||(s.set(i,[]),p.add(i)),s.get(i).push(S)}))})),p.forEach((function(e){i.get(e).call(e,s.get(e),e)}))}return s.prototype.observe=function(i){if(i instanceof window.Element){r.has(i)||(r.set(i,new Set),o.add(i),a.set(i,window.getComputedStyle(i)));var n=r.get(i);n.has(this)||n.add(this),cancelAnimationFrame(t),t=requestAnimationFrame(d)}},s.prototype.unobserve=function(i){if(i instanceof window.Element&&r.has(i)){var n=r.get(i);n.has(this)&&(n.delete(this),n.size||(r.delete(i),o.delete(i))),n.size||r.delete(i),o.size||cancelAnimationFrame(t)}},A.DOMRectReadOnly=c,A.ResizeObserver=s,A.ResizeObserverEntry=h,A}; // eslint-disable-line\n",
       "mpl.toolbar_items = [[\"Home\", \"Reset original view\", \"fa fa-home icon-home\", \"home\"], [\"Back\", \"Back to previous view\", \"fa fa-arrow-left icon-arrow-left\", \"back\"], [\"Forward\", \"Forward to next view\", \"fa fa-arrow-right icon-arrow-right\", \"forward\"], [\"\", \"\", \"\", \"\"], [\"Pan\", \"Left button pans, Right button zooms\\nx/y fixes axis, CTRL fixes aspect\", \"fa fa-arrows icon-move\", \"pan\"], [\"Zoom\", \"Zoom to rectangle\\nx/y fixes axis, CTRL fixes aspect\", \"fa fa-square-o icon-check-empty\", \"zoom\"], [\"\", \"\", \"\", \"\"], [\"Download\", \"Download plot\", \"fa fa-floppy-o icon-save\", \"download\"]];\n",
       "\n",
       "mpl.extensions = [\"eps\", \"jpeg\", \"pdf\", \"png\", \"ps\", \"raw\", \"svg\", \"tif\"];\n",
       "\n",
       "mpl.default_extension = \"png\";/* global mpl */\n",
       "\n",
       "var comm_websocket_adapter = function (comm) {\n",
       "    // Create a \"websocket\"-like object which calls the given IPython comm\n",
       "    // object with the appropriate methods. Currently this is a non binary\n",
       "    // socket, so there is still some room for performance tuning.\n",
       "    var ws = {};\n",
       "\n",
       "    ws.close = function () {\n",
       "        comm.close();\n",
       "    };\n",
       "    ws.send = function (m) {\n",
       "        //console.log('sending', m);\n",
       "        comm.send(m);\n",
       "    };\n",
       "    // Register the callback with on_msg.\n",
       "    comm.on_msg(function (msg) {\n",
       "        //console.log('receiving', msg['content']['data'], msg);\n",
       "        // Pass the mpl event to the overridden (by mpl) onmessage function.\n",
       "        ws.onmessage(msg['content']['data']);\n",
       "    });\n",
       "    return ws;\n",
       "};\n",
       "\n",
       "mpl.mpl_figure_comm = function (comm, msg) {\n",
       "    // This is the function which gets called when the mpl process\n",
       "    // starts-up an IPython Comm through the \"matplotlib\" channel.\n",
       "\n",
       "    var id = msg.content.data.id;\n",
       "    // Get hold of the div created by the display call when the Comm\n",
       "    // socket was opened in Python.\n",
       "    var element = document.getElementById(id);\n",
       "    var ws_proxy = comm_websocket_adapter(comm);\n",
       "\n",
       "    function ondownload(figure, _format) {\n",
       "        window.open(figure.canvas.toDataURL());\n",
       "    }\n",
       "\n",
       "    var fig = new mpl.figure(id, ws_proxy, ondownload, element);\n",
       "\n",
       "    // Call onopen now - mpl needs it, as it is assuming we've passed it a real\n",
       "    // web socket which is closed, not our websocket->open comm proxy.\n",
       "    ws_proxy.onopen();\n",
       "\n",
       "    fig.parent_element = element;\n",
       "    fig.cell_info = mpl.find_output_cell(\"<div id='\" + id + \"'></div>\");\n",
       "    if (!fig.cell_info) {\n",
       "        console.error('Failed to find cell for figure', id, fig);\n",
       "        return;\n",
       "    }\n",
       "    fig.cell_info[0].output_area.element.on(\n",
       "        'cleared',\n",
       "        { fig: fig },\n",
       "        fig._remove_fig_handler\n",
       "    );\n",
       "};\n",
       "\n",
       "mpl.figure.prototype.handle_close = function (fig, msg) {\n",
       "    var width = fig.canvas.width / fig.ratio;\n",
       "    fig.cell_info[0].output_area.element.off(\n",
       "        'cleared',\n",
       "        fig._remove_fig_handler\n",
       "    );\n",
       "    fig.resizeObserverInstance.unobserve(fig.canvas_div);\n",
       "\n",
       "    // Update the output cell to use the data from the current canvas.\n",
       "    fig.push_to_output();\n",
       "    var dataURL = fig.canvas.toDataURL();\n",
       "    // Re-enable the keyboard manager in IPython - without this line, in FF,\n",
       "    // the notebook keyboard shortcuts fail.\n",
       "    IPython.keyboard_manager.enable();\n",
       "    fig.parent_element.innerHTML =\n",
       "        '<img src=\"' + dataURL + '\" width=\"' + width + '\">';\n",
       "    fig.close_ws(fig, msg);\n",
       "};\n",
       "\n",
       "mpl.figure.prototype.close_ws = function (fig, msg) {\n",
       "    fig.send_message('closing', msg);\n",
       "    // fig.ws.close()\n",
       "};\n",
       "\n",
       "mpl.figure.prototype.push_to_output = function (_remove_interactive) {\n",
       "    // Turn the data on the canvas into data in the output cell.\n",
       "    var width = this.canvas.width / this.ratio;\n",
       "    var dataURL = this.canvas.toDataURL();\n",
       "    this.cell_info[1]['text/html'] =\n",
       "        '<img src=\"' + dataURL + '\" width=\"' + width + '\">';\n",
       "};\n",
       "\n",
       "mpl.figure.prototype.updated_canvas_event = function () {\n",
       "    // Tell IPython that the notebook contents must change.\n",
       "    IPython.notebook.set_dirty(true);\n",
       "    this.send_message('ack', {});\n",
       "    var fig = this;\n",
       "    // Wait a second, then push the new image to the DOM so\n",
       "    // that it is saved nicely (might be nice to debounce this).\n",
       "    setTimeout(function () {\n",
       "        fig.push_to_output();\n",
       "    }, 1000);\n",
       "};\n",
       "\n",
       "mpl.figure.prototype._init_toolbar = function () {\n",
       "    var fig = this;\n",
       "\n",
       "    var toolbar = document.createElement('div');\n",
       "    toolbar.classList = 'btn-toolbar';\n",
       "    this.root.appendChild(toolbar);\n",
       "\n",
       "    function on_click_closure(name) {\n",
       "        return function (_event) {\n",
       "            return fig.toolbar_button_onclick(name);\n",
       "        };\n",
       "    }\n",
       "\n",
       "    function on_mouseover_closure(tooltip) {\n",
       "        return function (event) {\n",
       "            if (!event.currentTarget.disabled) {\n",
       "                return fig.toolbar_button_onmouseover(tooltip);\n",
       "            }\n",
       "        };\n",
       "    }\n",
       "\n",
       "    fig.buttons = {};\n",
       "    var buttonGroup = document.createElement('div');\n",
       "    buttonGroup.classList = 'btn-group';\n",
       "    var button;\n",
       "    for (var toolbar_ind in mpl.toolbar_items) {\n",
       "        var name = mpl.toolbar_items[toolbar_ind][0];\n",
       "        var tooltip = mpl.toolbar_items[toolbar_ind][1];\n",
       "        var image = mpl.toolbar_items[toolbar_ind][2];\n",
       "        var method_name = mpl.toolbar_items[toolbar_ind][3];\n",
       "\n",
       "        if (!name) {\n",
       "            /* Instead of a spacer, we start a new button group. */\n",
       "            if (buttonGroup.hasChildNodes()) {\n",
       "                toolbar.appendChild(buttonGroup);\n",
       "            }\n",
       "            buttonGroup = document.createElement('div');\n",
       "            buttonGroup.classList = 'btn-group';\n",
       "            continue;\n",
       "        }\n",
       "\n",
       "        button = fig.buttons[name] = document.createElement('button');\n",
       "        button.classList = 'btn btn-default';\n",
       "        button.href = '#';\n",
       "        button.title = name;\n",
       "        button.innerHTML = '<i class=\"fa ' + image + ' fa-lg\"></i>';\n",
       "        button.addEventListener('click', on_click_closure(method_name));\n",
       "        button.addEventListener('mouseover', on_mouseover_closure(tooltip));\n",
       "        buttonGroup.appendChild(button);\n",
       "    }\n",
       "\n",
       "    if (buttonGroup.hasChildNodes()) {\n",
       "        toolbar.appendChild(buttonGroup);\n",
       "    }\n",
       "\n",
       "    // Add the status bar.\n",
       "    var status_bar = document.createElement('span');\n",
       "    status_bar.classList = 'mpl-message pull-right';\n",
       "    toolbar.appendChild(status_bar);\n",
       "    this.message = status_bar;\n",
       "\n",
       "    // Add the close button to the window.\n",
       "    var buttongrp = document.createElement('div');\n",
       "    buttongrp.classList = 'btn-group inline pull-right';\n",
       "    button = document.createElement('button');\n",
       "    button.classList = 'btn btn-mini btn-primary';\n",
       "    button.href = '#';\n",
       "    button.title = 'Stop Interaction';\n",
       "    button.innerHTML = '<i class=\"fa fa-power-off icon-remove icon-large\"></i>';\n",
       "    button.addEventListener('click', function (_evt) {\n",
       "        fig.handle_close(fig, {});\n",
       "    });\n",
       "    button.addEventListener(\n",
       "        'mouseover',\n",
       "        on_mouseover_closure('Stop Interaction')\n",
       "    );\n",
       "    buttongrp.appendChild(button);\n",
       "    var titlebar = this.root.querySelector('.ui-dialog-titlebar');\n",
       "    titlebar.insertBefore(buttongrp, titlebar.firstChild);\n",
       "};\n",
       "\n",
       "mpl.figure.prototype._remove_fig_handler = function (event) {\n",
       "    var fig = event.data.fig;\n",
       "    if (event.target !== this) {\n",
       "        // Ignore bubbled events from children.\n",
       "        return;\n",
       "    }\n",
       "    fig.close_ws(fig, {});\n",
       "};\n",
       "\n",
       "mpl.figure.prototype._root_extra_style = function (el) {\n",
       "    el.style.boxSizing = 'content-box'; // override notebook setting of border-box.\n",
       "};\n",
       "\n",
       "mpl.figure.prototype._canvas_extra_style = function (el) {\n",
       "    // this is important to make the div 'focusable\n",
       "    el.setAttribute('tabindex', 0);\n",
       "    // reach out to IPython and tell the keyboard manager to turn it's self\n",
       "    // off when our div gets focus\n",
       "\n",
       "    // location in version 3\n",
       "    if (IPython.notebook.keyboard_manager) {\n",
       "        IPython.notebook.keyboard_manager.register_events(el);\n",
       "    } else {\n",
       "        // location in version 2\n",
       "        IPython.keyboard_manager.register_events(el);\n",
       "    }\n",
       "};\n",
       "\n",
       "mpl.figure.prototype._key_event_extra = function (event, _name) {\n",
       "    var manager = IPython.notebook.keyboard_manager;\n",
       "    if (!manager) {\n",
       "        manager = IPython.keyboard_manager;\n",
       "    }\n",
       "\n",
       "    // Check for shift+enter\n",
       "    if (event.shiftKey && event.which === 13) {\n",
       "        this.canvas_div.blur();\n",
       "        // select the cell after this one\n",
       "        var index = IPython.notebook.find_cell_index(this.cell_info[0]);\n",
       "        IPython.notebook.select(index + 1);\n",
       "    }\n",
       "};\n",
       "\n",
       "mpl.figure.prototype.handle_save = function (fig, _msg) {\n",
       "    fig.ondownload(fig, null);\n",
       "};\n",
       "\n",
       "mpl.find_output_cell = function (html_output) {\n",
       "    // Return the cell and output element which can be found *uniquely* in the notebook.\n",
       "    // Note - this is a bit hacky, but it is done because the \"notebook_saving.Notebook\"\n",
       "    // IPython event is triggered only after the cells have been serialised, which for\n",
       "    // our purposes (turning an active figure into a static one), is too late.\n",
       "    var cells = IPython.notebook.get_cells();\n",
       "    var ncells = cells.length;\n",
       "    for (var i = 0; i < ncells; i++) {\n",
       "        var cell = cells[i];\n",
       "        if (cell.cell_type === 'code') {\n",
       "            for (var j = 0; j < cell.output_area.outputs.length; j++) {\n",
       "                var data = cell.output_area.outputs[j];\n",
       "                if (data.data) {\n",
       "                    // IPython >= 3 moved mimebundle to data attribute of output\n",
       "                    data = data.data;\n",
       "                }\n",
       "                if (data['text/html'] === html_output) {\n",
       "                    return [cell, data, j];\n",
       "                }\n",
       "            }\n",
       "        }\n",
       "    }\n",
       "};\n",
       "\n",
       "// Register the function which deals with the matplotlib target/channel.\n",
       "// The kernel may be null if the page has been refreshed.\n",
       "if (IPython.notebook.kernel !== null) {\n",
       "    IPython.notebook.kernel.comm_manager.register_target(\n",
       "        'matplotlib',\n",
       "        mpl.mpl_figure_comm\n",
       "    );\n",
       "}\n"
      ],
      "text/plain": [
       "<IPython.core.display.Javascript object>"
      ]
     },
     "metadata": {},
     "output_type": "display_data"
    },
    {
     "data": {
      "text/html": [
       "<img src=\"data:image/png;base64,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\" width=\"640\">"
      ],
      "text/plain": [
       "<IPython.core.display.HTML object>"
      ]
     },
     "metadata": {},
     "output_type": "display_data"
    },
    {
     "data": {
      "text/plain": [
       "Text(0, 0.5, 'Population size')"
      ]
     },
     "execution_count": 142,
     "metadata": {},
     "output_type": "execute_result"
    }
   ],
   "source": [
    "for i, N in enumerate([N1, N2]):\n",
    "    plt.plot(t, n1_n2[:, i], label=r'${0:s}$'.format(latex(N)))\n",
    "    plt.axhline(y=ss_dict[N].subs({K1: k1, K2: k2, alpha: a, beta: b}),\n",
    "                linestyle='--',\n",
    "                label=r'${0:s}$ steady state'.format(latex(N)))\n",
    "\n",
    "plt.legend(loc=0, fontsize=15)\n",
    "plt.xlabel('time (units consistent with $r_1$ and $r_2$)')\n",
    "plt.ylabel('Population size')"
   ]
  },
  {
   "cell_type": "markdown",
   "metadata": {},
   "source": [
    "The [**generalised Lotka-Volterra equations**](https://en.wikipedia.org/wiki/Generalized_Lotka–Volterra_equation) model the dynamics of the populations $x_1, x_2, \\dots, x_n$ of $n$ biological species ([lecture](https://stefanoallesina.github.io/Sao_Paulo_School/intro.html#basic-formulation)). Together, these populations can be considered as a vector $\\mathbf{x}$. They are a set of ordinary differential equations given by\n",
    "\n",
    "$$\\frac{dx_i}{dt}=x_i f_i(\\mathbf{x})$$\n",
    "\n",
    "where the vector $\\mathbf{f}$  is given by\n",
    "\n",
    "$$\\mathbf{f}=\\mathbf{r}+\\mathbf{A}\\mathbf{x}$$\n",
    "\n",
    "where $\\mathbf{r}$ is a vector and $\\mathbf{A}$ is a matrix known as the [community matrix](https://en.wikipedia.org/wiki/Community_matrix)."
   ]
  },
  {
   "cell_type": "code",
   "execution_count": 143,
   "metadata": {},
   "outputs": [
    {
     "data": {
      "text/plain": [
       "[Eq(y0(t), C1*exp(t)), Eq(y1(t), C2*exp(t)), Eq(y2(t), C3*exp(t))]"
      ]
     },
     "execution_count": 143,
     "metadata": {},
     "output_type": "execute_result"
    }
   ],
   "source": [
    "y0 = Function('y0')\n",
    "y1 = Function('y1')\n",
    "y2 = Function('y2')\n",
    "t = symbols('t')\n",
    "C1, C2, C3 = symbols('C1, C2, C3')\n",
    "b0,b1,b2 = symbols('b0:3')\n",
    "\n",
    "y = Matrix([y0(t), y1(t), y2(t)])\n",
    "B = Matrix([b0,b1,b2])\n",
    "\n",
    "ode = (y.diff(t) - y).T.tolist()[0]\n",
    "soln = dsolve(ode, y.T.tolist()[0])\n",
    "soln"
   ]
  },
  {
   "cell_type": "code",
   "execution_count": 144,
   "metadata": {},
   "outputs": [
    {
     "data": {
      "application/javascript": [
       "/* Put everything inside the global mpl namespace */\n",
       "/* global mpl */\n",
       "window.mpl = {};\n",
       "\n",
       "mpl.get_websocket_type = function () {\n",
       "    if (typeof WebSocket !== 'undefined') {\n",
       "        return WebSocket;\n",
       "    } else if (typeof MozWebSocket !== 'undefined') {\n",
       "        return MozWebSocket;\n",
       "    } else {\n",
       "        alert(\n",
       "            'Your browser does not have WebSocket support. ' +\n",
       "                'Please try Chrome, Safari or Firefox ≥ 6. ' +\n",
       "                'Firefox 4 and 5 are also supported but you ' +\n",
       "                'have to enable WebSockets in about:config.'\n",
       "        );\n",
       "    }\n",
       "};\n",
       "\n",
       "mpl.figure = function (figure_id, websocket, ondownload, parent_element) {\n",
       "    this.id = figure_id;\n",
       "\n",
       "    this.ws = websocket;\n",
       "\n",
       "    this.supports_binary = this.ws.binaryType !== undefined;\n",
       "\n",
       "    if (!this.supports_binary) {\n",
       "        var warnings = document.getElementById('mpl-warnings');\n",
       "        if (warnings) {\n",
       "            warnings.style.display = 'block';\n",
       "            warnings.textContent =\n",
       "                'This browser does not support binary websocket messages. ' +\n",
       "                'Performance may be slow.';\n",
       "        }\n",
       "    }\n",
       "\n",
       "    this.imageObj = new Image();\n",
       "\n",
       "    this.context = undefined;\n",
       "    this.message = undefined;\n",
       "    this.canvas = undefined;\n",
       "    this.rubberband_canvas = undefined;\n",
       "    this.rubberband_context = undefined;\n",
       "    this.format_dropdown = undefined;\n",
       "\n",
       "    this.image_mode = 'full';\n",
       "\n",
       "    this.root = document.createElement('div');\n",
       "    this.root.setAttribute('style', 'display: inline-block');\n",
       "    this._root_extra_style(this.root);\n",
       "\n",
       "    parent_element.appendChild(this.root);\n",
       "\n",
       "    this._init_header(this);\n",
       "    this._init_canvas(this);\n",
       "    this._init_toolbar(this);\n",
       "\n",
       "    var fig = this;\n",
       "\n",
       "    this.waiting = false;\n",
       "\n",
       "    this.ws.onopen = function () {\n",
       "        fig.send_message('supports_binary', { value: fig.supports_binary });\n",
       "        fig.send_message('send_image_mode', {});\n",
       "        if (fig.ratio !== 1) {\n",
       "            fig.send_message('set_dpi_ratio', { dpi_ratio: fig.ratio });\n",
       "        }\n",
       "        fig.send_message('refresh', {});\n",
       "    };\n",
       "\n",
       "    this.imageObj.onload = function () {\n",
       "        if (fig.image_mode === 'full') {\n",
       "            // Full images could contain transparency (where diff images\n",
       "            // almost always do), so we need to clear the canvas so that\n",
       "            // there is no ghosting.\n",
       "            fig.context.clearRect(0, 0, fig.canvas.width, fig.canvas.height);\n",
       "        }\n",
       "        fig.context.drawImage(fig.imageObj, 0, 0);\n",
       "    };\n",
       "\n",
       "    this.imageObj.onunload = function () {\n",
       "        fig.ws.close();\n",
       "    };\n",
       "\n",
       "    this.ws.onmessage = this._make_on_message_function(this);\n",
       "\n",
       "    this.ondownload = ondownload;\n",
       "};\n",
       "\n",
       "mpl.figure.prototype._init_header = function () {\n",
       "    var titlebar = document.createElement('div');\n",
       "    titlebar.classList =\n",
       "        'ui-dialog-titlebar ui-widget-header ui-corner-all ui-helper-clearfix';\n",
       "    var titletext = document.createElement('div');\n",
       "    titletext.classList = 'ui-dialog-title';\n",
       "    titletext.setAttribute(\n",
       "        'style',\n",
       "        'width: 100%; text-align: center; padding: 3px;'\n",
       "    );\n",
       "    titlebar.appendChild(titletext);\n",
       "    this.root.appendChild(titlebar);\n",
       "    this.header = titletext;\n",
       "};\n",
       "\n",
       "mpl.figure.prototype._canvas_extra_style = function (_canvas_div) {};\n",
       "\n",
       "mpl.figure.prototype._root_extra_style = function (_canvas_div) {};\n",
       "\n",
       "mpl.figure.prototype._init_canvas = function () {\n",
       "    var fig = this;\n",
       "\n",
       "    var canvas_div = (this.canvas_div = document.createElement('div'));\n",
       "    canvas_div.setAttribute(\n",
       "        'style',\n",
       "        'border: 1px solid #ddd;' +\n",
       "            'box-sizing: content-box;' +\n",
       "            'clear: both;' +\n",
       "            'min-height: 1px;' +\n",
       "            'min-width: 1px;' +\n",
       "            'outline: 0;' +\n",
       "            'overflow: hidden;' +\n",
       "            'position: relative;' +\n",
       "            'resize: both;'\n",
       "    );\n",
       "\n",
       "    function on_keyboard_event_closure(name) {\n",
       "        return function (event) {\n",
       "            return fig.key_event(event, name);\n",
       "        };\n",
       "    }\n",
       "\n",
       "    canvas_div.addEventListener(\n",
       "        'keydown',\n",
       "        on_keyboard_event_closure('key_press')\n",
       "    );\n",
       "    canvas_div.addEventListener(\n",
       "        'keyup',\n",
       "        on_keyboard_event_closure('key_release')\n",
       "    );\n",
       "\n",
       "    this._canvas_extra_style(canvas_div);\n",
       "    this.root.appendChild(canvas_div);\n",
       "\n",
       "    var canvas = (this.canvas = document.createElement('canvas'));\n",
       "    canvas.classList.add('mpl-canvas');\n",
       "    canvas.setAttribute('style', 'box-sizing: content-box;');\n",
       "\n",
       "    this.context = canvas.getContext('2d');\n",
       "\n",
       "    var backingStore =\n",
       "        this.context.backingStorePixelRatio ||\n",
       "        this.context.webkitBackingStorePixelRatio ||\n",
       "        this.context.mozBackingStorePixelRatio ||\n",
       "        this.context.msBackingStorePixelRatio ||\n",
       "        this.context.oBackingStorePixelRatio ||\n",
       "        this.context.backingStorePixelRatio ||\n",
       "        1;\n",
       "\n",
       "    this.ratio = (window.devicePixelRatio || 1) / backingStore;\n",
       "    if (this.ratio !== 1) {\n",
       "        fig.send_message('set_dpi_ratio', { dpi_ratio: this.ratio });\n",
       "    }\n",
       "\n",
       "    var rubberband_canvas = (this.rubberband_canvas = document.createElement(\n",
       "        'canvas'\n",
       "    ));\n",
       "    rubberband_canvas.setAttribute(\n",
       "        'style',\n",
       "        'box-sizing: content-box; position: absolute; left: 0; top: 0; z-index: 1;'\n",
       "    );\n",
       "\n",
       "    // Apply a ponyfill if ResizeObserver is not implemented by browser.\n",
       "    if (this.ResizeObserver === undefined) {\n",
       "        if (window.ResizeObserver !== undefined) {\n",
       "            this.ResizeObserver = window.ResizeObserver;\n",
       "        } else {\n",
       "            var obs = _JSXTOOLS_RESIZE_OBSERVER({});\n",
       "            this.ResizeObserver = obs.ResizeObserver;\n",
       "        }\n",
       "    }\n",
       "\n",
       "    this.resizeObserverInstance = new this.ResizeObserver(function (entries) {\n",
       "        var nentries = entries.length;\n",
       "        for (var i = 0; i < nentries; i++) {\n",
       "            var entry = entries[i];\n",
       "            var width, height;\n",
       "            if (entry.contentBoxSize) {\n",
       "                if (entry.contentBoxSize instanceof Array) {\n",
       "                    // Chrome 84 implements new version of spec.\n",
       "                    width = entry.contentBoxSize[0].inlineSize;\n",
       "                    height = entry.contentBoxSize[0].blockSize;\n",
       "                } else {\n",
       "                    // Firefox implements old version of spec.\n",
       "                    width = entry.contentBoxSize.inlineSize;\n",
       "                    height = entry.contentBoxSize.blockSize;\n",
       "                }\n",
       "            } else {\n",
       "                // Chrome <84 implements even older version of spec.\n",
       "                width = entry.contentRect.width;\n",
       "                height = entry.contentRect.height;\n",
       "            }\n",
       "\n",
       "            // Keep the size of the canvas and rubber band canvas in sync with\n",
       "            // the canvas container.\n",
       "            if (entry.devicePixelContentBoxSize) {\n",
       "                // Chrome 84 implements new version of spec.\n",
       "                canvas.setAttribute(\n",
       "                    'width',\n",
       "                    entry.devicePixelContentBoxSize[0].inlineSize\n",
       "                );\n",
       "                canvas.setAttribute(\n",
       "                    'height',\n",
       "                    entry.devicePixelContentBoxSize[0].blockSize\n",
       "                );\n",
       "            } else {\n",
       "                canvas.setAttribute('width', width * fig.ratio);\n",
       "                canvas.setAttribute('height', height * fig.ratio);\n",
       "            }\n",
       "            canvas.setAttribute(\n",
       "                'style',\n",
       "                'width: ' + width + 'px; height: ' + height + 'px;'\n",
       "            );\n",
       "\n",
       "            rubberband_canvas.setAttribute('width', width);\n",
       "            rubberband_canvas.setAttribute('height', height);\n",
       "\n",
       "            // And update the size in Python. We ignore the initial 0/0 size\n",
       "            // that occurs as the element is placed into the DOM, which should\n",
       "            // otherwise not happen due to the minimum size styling.\n",
       "            if (width != 0 && height != 0) {\n",
       "                fig.request_resize(width, height);\n",
       "            }\n",
       "        }\n",
       "    });\n",
       "    this.resizeObserverInstance.observe(canvas_div);\n",
       "\n",
       "    function on_mouse_event_closure(name) {\n",
       "        return function (event) {\n",
       "            return fig.mouse_event(event, name);\n",
       "        };\n",
       "    }\n",
       "\n",
       "    rubberband_canvas.addEventListener(\n",
       "        'mousedown',\n",
       "        on_mouse_event_closure('button_press')\n",
       "    );\n",
       "    rubberband_canvas.addEventListener(\n",
       "        'mouseup',\n",
       "        on_mouse_event_closure('button_release')\n",
       "    );\n",
       "    // Throttle sequential mouse events to 1 every 20ms.\n",
       "    rubberband_canvas.addEventListener(\n",
       "        'mousemove',\n",
       "        on_mouse_event_closure('motion_notify')\n",
       "    );\n",
       "\n",
       "    rubberband_canvas.addEventListener(\n",
       "        'mouseenter',\n",
       "        on_mouse_event_closure('figure_enter')\n",
       "    );\n",
       "    rubberband_canvas.addEventListener(\n",
       "        'mouseleave',\n",
       "        on_mouse_event_closure('figure_leave')\n",
       "    );\n",
       "\n",
       "    canvas_div.addEventListener('wheel', function (event) {\n",
       "        if (event.deltaY < 0) {\n",
       "            event.step = 1;\n",
       "        } else {\n",
       "            event.step = -1;\n",
       "        }\n",
       "        on_mouse_event_closure('scroll')(event);\n",
       "    });\n",
       "\n",
       "    canvas_div.appendChild(canvas);\n",
       "    canvas_div.appendChild(rubberband_canvas);\n",
       "\n",
       "    this.rubberband_context = rubberband_canvas.getContext('2d');\n",
       "    this.rubberband_context.strokeStyle = '#000000';\n",
       "\n",
       "    this._resize_canvas = function (width, height, forward) {\n",
       "        if (forward) {\n",
       "            canvas_div.style.width = width + 'px';\n",
       "            canvas_div.style.height = height + 'px';\n",
       "        }\n",
       "    };\n",
       "\n",
       "    // Disable right mouse context menu.\n",
       "    this.rubberband_canvas.addEventListener('contextmenu', function (_e) {\n",
       "        event.preventDefault();\n",
       "        return false;\n",
       "    });\n",
       "\n",
       "    function set_focus() {\n",
       "        canvas.focus();\n",
       "        canvas_div.focus();\n",
       "    }\n",
       "\n",
       "    window.setTimeout(set_focus, 100);\n",
       "};\n",
       "\n",
       "mpl.figure.prototype._init_toolbar = function () {\n",
       "    var fig = this;\n",
       "\n",
       "    var toolbar = document.createElement('div');\n",
       "    toolbar.classList = 'mpl-toolbar';\n",
       "    this.root.appendChild(toolbar);\n",
       "\n",
       "    function on_click_closure(name) {\n",
       "        return function (_event) {\n",
       "            return fig.toolbar_button_onclick(name);\n",
       "        };\n",
       "    }\n",
       "\n",
       "    function on_mouseover_closure(tooltip) {\n",
       "        return function (event) {\n",
       "            if (!event.currentTarget.disabled) {\n",
       "                return fig.toolbar_button_onmouseover(tooltip);\n",
       "            }\n",
       "        };\n",
       "    }\n",
       "\n",
       "    fig.buttons = {};\n",
       "    var buttonGroup = document.createElement('div');\n",
       "    buttonGroup.classList = 'mpl-button-group';\n",
       "    for (var toolbar_ind in mpl.toolbar_items) {\n",
       "        var name = mpl.toolbar_items[toolbar_ind][0];\n",
       "        var tooltip = mpl.toolbar_items[toolbar_ind][1];\n",
       "        var image = mpl.toolbar_items[toolbar_ind][2];\n",
       "        var method_name = mpl.toolbar_items[toolbar_ind][3];\n",
       "\n",
       "        if (!name) {\n",
       "            /* Instead of a spacer, we start a new button group. */\n",
       "            if (buttonGroup.hasChildNodes()) {\n",
       "                toolbar.appendChild(buttonGroup);\n",
       "            }\n",
       "            buttonGroup = document.createElement('div');\n",
       "            buttonGroup.classList = 'mpl-button-group';\n",
       "            continue;\n",
       "        }\n",
       "\n",
       "        var button = (fig.buttons[name] = document.createElement('button'));\n",
       "        button.classList = 'mpl-widget';\n",
       "        button.setAttribute('role', 'button');\n",
       "        button.setAttribute('aria-disabled', 'false');\n",
       "        button.addEventListener('click', on_click_closure(method_name));\n",
       "        button.addEventListener('mouseover', on_mouseover_closure(tooltip));\n",
       "\n",
       "        var icon_img = document.createElement('img');\n",
       "        icon_img.src = '_images/' + image + '.png';\n",
       "        icon_img.srcset = '_images/' + image + '_large.png 2x';\n",
       "        icon_img.alt = tooltip;\n",
       "        button.appendChild(icon_img);\n",
       "\n",
       "        buttonGroup.appendChild(button);\n",
       "    }\n",
       "\n",
       "    if (buttonGroup.hasChildNodes()) {\n",
       "        toolbar.appendChild(buttonGroup);\n",
       "    }\n",
       "\n",
       "    var fmt_picker = document.createElement('select');\n",
       "    fmt_picker.classList = 'mpl-widget';\n",
       "    toolbar.appendChild(fmt_picker);\n",
       "    this.format_dropdown = fmt_picker;\n",
       "\n",
       "    for (var ind in mpl.extensions) {\n",
       "        var fmt = mpl.extensions[ind];\n",
       "        var option = document.createElement('option');\n",
       "        option.selected = fmt === mpl.default_extension;\n",
       "        option.innerHTML = fmt;\n",
       "        fmt_picker.appendChild(option);\n",
       "    }\n",
       "\n",
       "    var status_bar = document.createElement('span');\n",
       "    status_bar.classList = 'mpl-message';\n",
       "    toolbar.appendChild(status_bar);\n",
       "    this.message = status_bar;\n",
       "};\n",
       "\n",
       "mpl.figure.prototype.request_resize = function (x_pixels, y_pixels) {\n",
       "    // Request matplotlib to resize the figure. Matplotlib will then trigger a resize in the client,\n",
       "    // which will in turn request a refresh of the image.\n",
       "    this.send_message('resize', { width: x_pixels, height: y_pixels });\n",
       "};\n",
       "\n",
       "mpl.figure.prototype.send_message = function (type, properties) {\n",
       "    properties['type'] = type;\n",
       "    properties['figure_id'] = this.id;\n",
       "    this.ws.send(JSON.stringify(properties));\n",
       "};\n",
       "\n",
       "mpl.figure.prototype.send_draw_message = function () {\n",
       "    if (!this.waiting) {\n",
       "        this.waiting = true;\n",
       "        this.ws.send(JSON.stringify({ type: 'draw', figure_id: this.id }));\n",
       "    }\n",
       "};\n",
       "\n",
       "mpl.figure.prototype.handle_save = function (fig, _msg) {\n",
       "    var format_dropdown = fig.format_dropdown;\n",
       "    var format = format_dropdown.options[format_dropdown.selectedIndex].value;\n",
       "    fig.ondownload(fig, format);\n",
       "};\n",
       "\n",
       "mpl.figure.prototype.handle_resize = function (fig, msg) {\n",
       "    var size = msg['size'];\n",
       "    if (size[0] !== fig.canvas.width || size[1] !== fig.canvas.height) {\n",
       "        fig._resize_canvas(size[0], size[1], msg['forward']);\n",
       "        fig.send_message('refresh', {});\n",
       "    }\n",
       "};\n",
       "\n",
       "mpl.figure.prototype.handle_rubberband = function (fig, msg) {\n",
       "    var x0 = msg['x0'] / fig.ratio;\n",
       "    var y0 = (fig.canvas.height - msg['y0']) / fig.ratio;\n",
       "    var x1 = msg['x1'] / fig.ratio;\n",
       "    var y1 = (fig.canvas.height - msg['y1']) / fig.ratio;\n",
       "    x0 = Math.floor(x0) + 0.5;\n",
       "    y0 = Math.floor(y0) + 0.5;\n",
       "    x1 = Math.floor(x1) + 0.5;\n",
       "    y1 = Math.floor(y1) + 0.5;\n",
       "    var min_x = Math.min(x0, x1);\n",
       "    var min_y = Math.min(y0, y1);\n",
       "    var width = Math.abs(x1 - x0);\n",
       "    var height = Math.abs(y1 - y0);\n",
       "\n",
       "    fig.rubberband_context.clearRect(\n",
       "        0,\n",
       "        0,\n",
       "        fig.canvas.width / fig.ratio,\n",
       "        fig.canvas.height / fig.ratio\n",
       "    );\n",
       "\n",
       "    fig.rubberband_context.strokeRect(min_x, min_y, width, height);\n",
       "};\n",
       "\n",
       "mpl.figure.prototype.handle_figure_label = function (fig, msg) {\n",
       "    // Updates the figure title.\n",
       "    fig.header.textContent = msg['label'];\n",
       "};\n",
       "\n",
       "mpl.figure.prototype.handle_cursor = function (fig, msg) {\n",
       "    var cursor = msg['cursor'];\n",
       "    switch (cursor) {\n",
       "        case 0:\n",
       "            cursor = 'pointer';\n",
       "            break;\n",
       "        case 1:\n",
       "            cursor = 'default';\n",
       "            break;\n",
       "        case 2:\n",
       "            cursor = 'crosshair';\n",
       "            break;\n",
       "        case 3:\n",
       "            cursor = 'move';\n",
       "            break;\n",
       "    }\n",
       "    fig.rubberband_canvas.style.cursor = cursor;\n",
       "};\n",
       "\n",
       "mpl.figure.prototype.handle_message = function (fig, msg) {\n",
       "    fig.message.textContent = msg['message'];\n",
       "};\n",
       "\n",
       "mpl.figure.prototype.handle_draw = function (fig, _msg) {\n",
       "    // Request the server to send over a new figure.\n",
       "    fig.send_draw_message();\n",
       "};\n",
       "\n",
       "mpl.figure.prototype.handle_image_mode = function (fig, msg) {\n",
       "    fig.image_mode = msg['mode'];\n",
       "};\n",
       "\n",
       "mpl.figure.prototype.handle_history_buttons = function (fig, msg) {\n",
       "    for (var key in msg) {\n",
       "        if (!(key in fig.buttons)) {\n",
       "            continue;\n",
       "        }\n",
       "        fig.buttons[key].disabled = !msg[key];\n",
       "        fig.buttons[key].setAttribute('aria-disabled', !msg[key]);\n",
       "    }\n",
       "};\n",
       "\n",
       "mpl.figure.prototype.handle_navigate_mode = function (fig, msg) {\n",
       "    if (msg['mode'] === 'PAN') {\n",
       "        fig.buttons['Pan'].classList.add('active');\n",
       "        fig.buttons['Zoom'].classList.remove('active');\n",
       "    } else if (msg['mode'] === 'ZOOM') {\n",
       "        fig.buttons['Pan'].classList.remove('active');\n",
       "        fig.buttons['Zoom'].classList.add('active');\n",
       "    } else {\n",
       "        fig.buttons['Pan'].classList.remove('active');\n",
       "        fig.buttons['Zoom'].classList.remove('active');\n",
       "    }\n",
       "};\n",
       "\n",
       "mpl.figure.prototype.updated_canvas_event = function () {\n",
       "    // Called whenever the canvas gets updated.\n",
       "    this.send_message('ack', {});\n",
       "};\n",
       "\n",
       "// A function to construct a web socket function for onmessage handling.\n",
       "// Called in the figure constructor.\n",
       "mpl.figure.prototype._make_on_message_function = function (fig) {\n",
       "    return function socket_on_message(evt) {\n",
       "        if (evt.data instanceof Blob) {\n",
       "            /* FIXME: We get \"Resource interpreted as Image but\n",
       "             * transferred with MIME type text/plain:\" errors on\n",
       "             * Chrome.  But how to set the MIME type?  It doesn't seem\n",
       "             * to be part of the websocket stream */\n",
       "            evt.data.type = 'image/png';\n",
       "\n",
       "            /* Free the memory for the previous frames */\n",
       "            if (fig.imageObj.src) {\n",
       "                (window.URL || window.webkitURL).revokeObjectURL(\n",
       "                    fig.imageObj.src\n",
       "                );\n",
       "            }\n",
       "\n",
       "            fig.imageObj.src = (window.URL || window.webkitURL).createObjectURL(\n",
       "                evt.data\n",
       "            );\n",
       "            fig.updated_canvas_event();\n",
       "            fig.waiting = false;\n",
       "            return;\n",
       "        } else if (\n",
       "            typeof evt.data === 'string' &&\n",
       "            evt.data.slice(0, 21) === 'data:image/png;base64'\n",
       "        ) {\n",
       "            fig.imageObj.src = evt.data;\n",
       "            fig.updated_canvas_event();\n",
       "            fig.waiting = false;\n",
       "            return;\n",
       "        }\n",
       "\n",
       "        var msg = JSON.parse(evt.data);\n",
       "        var msg_type = msg['type'];\n",
       "\n",
       "        // Call the  \"handle_{type}\" callback, which takes\n",
       "        // the figure and JSON message as its only arguments.\n",
       "        try {\n",
       "            var callback = fig['handle_' + msg_type];\n",
       "        } catch (e) {\n",
       "            console.log(\n",
       "                \"No handler for the '\" + msg_type + \"' message type: \",\n",
       "                msg\n",
       "            );\n",
       "            return;\n",
       "        }\n",
       "\n",
       "        if (callback) {\n",
       "            try {\n",
       "                // console.log(\"Handling '\" + msg_type + \"' message: \", msg);\n",
       "                callback(fig, msg);\n",
       "            } catch (e) {\n",
       "                console.log(\n",
       "                    \"Exception inside the 'handler_\" + msg_type + \"' callback:\",\n",
       "                    e,\n",
       "                    e.stack,\n",
       "                    msg\n",
       "                );\n",
       "            }\n",
       "        }\n",
       "    };\n",
       "};\n",
       "\n",
       "// from http://stackoverflow.com/questions/1114465/getting-mouse-location-in-canvas\n",
       "mpl.findpos = function (e) {\n",
       "    //this section is from http://www.quirksmode.org/js/events_properties.html\n",
       "    var targ;\n",
       "    if (!e) {\n",
       "        e = window.event;\n",
       "    }\n",
       "    if (e.target) {\n",
       "        targ = e.target;\n",
       "    } else if (e.srcElement) {\n",
       "        targ = e.srcElement;\n",
       "    }\n",
       "    if (targ.nodeType === 3) {\n",
       "        // defeat Safari bug\n",
       "        targ = targ.parentNode;\n",
       "    }\n",
       "\n",
       "    // pageX,Y are the mouse positions relative to the document\n",
       "    var boundingRect = targ.getBoundingClientRect();\n",
       "    var x = e.pageX - (boundingRect.left + document.body.scrollLeft);\n",
       "    var y = e.pageY - (boundingRect.top + document.body.scrollTop);\n",
       "\n",
       "    return { x: x, y: y };\n",
       "};\n",
       "\n",
       "/*\n",
       " * return a copy of an object with only non-object keys\n",
       " * we need this to avoid circular references\n",
       " * http://stackoverflow.com/a/24161582/3208463\n",
       " */\n",
       "function simpleKeys(original) {\n",
       "    return Object.keys(original).reduce(function (obj, key) {\n",
       "        if (typeof original[key] !== 'object') {\n",
       "            obj[key] = original[key];\n",
       "        }\n",
       "        return obj;\n",
       "    }, {});\n",
       "}\n",
       "\n",
       "mpl.figure.prototype.mouse_event = function (event, name) {\n",
       "    var canvas_pos = mpl.findpos(event);\n",
       "\n",
       "    if (name === 'button_press') {\n",
       "        this.canvas.focus();\n",
       "        this.canvas_div.focus();\n",
       "    }\n",
       "\n",
       "    var x = canvas_pos.x * this.ratio;\n",
       "    var y = canvas_pos.y * this.ratio;\n",
       "\n",
       "    this.send_message(name, {\n",
       "        x: x,\n",
       "        y: y,\n",
       "        button: event.button,\n",
       "        step: event.step,\n",
       "        guiEvent: simpleKeys(event),\n",
       "    });\n",
       "\n",
       "    /* This prevents the web browser from automatically changing to\n",
       "     * the text insertion cursor when the button is pressed.  We want\n",
       "     * to control all of the cursor setting manually through the\n",
       "     * 'cursor' event from matplotlib */\n",
       "    event.preventDefault();\n",
       "    return false;\n",
       "};\n",
       "\n",
       "mpl.figure.prototype._key_event_extra = function (_event, _name) {\n",
       "    // Handle any extra behaviour associated with a key event\n",
       "};\n",
       "\n",
       "mpl.figure.prototype.key_event = function (event, name) {\n",
       "    // Prevent repeat events\n",
       "    if (name === 'key_press') {\n",
       "        if (event.which === this._key) {\n",
       "            return;\n",
       "        } else {\n",
       "            this._key = event.which;\n",
       "        }\n",
       "    }\n",
       "    if (name === 'key_release') {\n",
       "        this._key = null;\n",
       "    }\n",
       "\n",
       "    var value = '';\n",
       "    if (event.ctrlKey && event.which !== 17) {\n",
       "        value += 'ctrl+';\n",
       "    }\n",
       "    if (event.altKey && event.which !== 18) {\n",
       "        value += 'alt+';\n",
       "    }\n",
       "    if (event.shiftKey && event.which !== 16) {\n",
       "        value += 'shift+';\n",
       "    }\n",
       "\n",
       "    value += 'k';\n",
       "    value += event.which.toString();\n",
       "\n",
       "    this._key_event_extra(event, name);\n",
       "\n",
       "    this.send_message(name, { key: value, guiEvent: simpleKeys(event) });\n",
       "    return false;\n",
       "};\n",
       "\n",
       "mpl.figure.prototype.toolbar_button_onclick = function (name) {\n",
       "    if (name === 'download') {\n",
       "        this.handle_save(this, null);\n",
       "    } else {\n",
       "        this.send_message('toolbar_button', { name: name });\n",
       "    }\n",
       "};\n",
       "\n",
       "mpl.figure.prototype.toolbar_button_onmouseover = function (tooltip) {\n",
       "    this.message.textContent = tooltip;\n",
       "};\n",
       "\n",
       "///////////////// REMAINING CONTENT GENERATED BY embed_js.py /////////////////\n",
       "// prettier-ignore\n",
       "var _JSXTOOLS_RESIZE_OBSERVER=function(A){var t,i=new WeakMap,n=new WeakMap,a=new WeakMap,r=new WeakMap,o=new Set;function s(e){if(!(this instanceof s))throw new TypeError(\"Constructor requires 'new' operator\");i.set(this,e)}function h(){throw new TypeError(\"Function is not a constructor\")}function c(e,t,i,n){e=0 in arguments?Number(arguments[0]):0,t=1 in arguments?Number(arguments[1]):0,i=2 in arguments?Number(arguments[2]):0,n=3 in arguments?Number(arguments[3]):0,this.right=(this.x=this.left=e)+(this.width=i),this.bottom=(this.y=this.top=t)+(this.height=n),Object.freeze(this)}function d(){t=requestAnimationFrame(d);var s=new WeakMap,p=new Set;o.forEach((function(t){r.get(t).forEach((function(i){var r=t instanceof window.SVGElement,o=a.get(t),d=r?0:parseFloat(o.paddingTop),f=r?0:parseFloat(o.paddingRight),l=r?0:parseFloat(o.paddingBottom),u=r?0:parseFloat(o.paddingLeft),g=r?0:parseFloat(o.borderTopWidth),m=r?0:parseFloat(o.borderRightWidth),w=r?0:parseFloat(o.borderBottomWidth),b=u+f,F=d+l,v=(r?0:parseFloat(o.borderLeftWidth))+m,W=g+w,y=r?0:t.offsetHeight-W-t.clientHeight,E=r?0:t.offsetWidth-v-t.clientWidth,R=b+v,z=F+W,M=r?t.width:parseFloat(o.width)-R-E,O=r?t.height:parseFloat(o.height)-z-y;if(n.has(t)){var k=n.get(t);if(k[0]===M&&k[1]===O)return}n.set(t,[M,O]);var S=Object.create(h.prototype);S.target=t,S.contentRect=new c(u,d,M,O),s.has(i)||(s.set(i,[]),p.add(i)),s.get(i).push(S)}))})),p.forEach((function(e){i.get(e).call(e,s.get(e),e)}))}return s.prototype.observe=function(i){if(i instanceof window.Element){r.has(i)||(r.set(i,new Set),o.add(i),a.set(i,window.getComputedStyle(i)));var n=r.get(i);n.has(this)||n.add(this),cancelAnimationFrame(t),t=requestAnimationFrame(d)}},s.prototype.unobserve=function(i){if(i instanceof window.Element&&r.has(i)){var n=r.get(i);n.has(this)&&(n.delete(this),n.size||(r.delete(i),o.delete(i))),n.size||r.delete(i),o.size||cancelAnimationFrame(t)}},A.DOMRectReadOnly=c,A.ResizeObserver=s,A.ResizeObserverEntry=h,A}; // eslint-disable-line\n",
       "mpl.toolbar_items = [[\"Home\", \"Reset original view\", \"fa fa-home icon-home\", \"home\"], [\"Back\", \"Back to previous view\", \"fa fa-arrow-left icon-arrow-left\", \"back\"], [\"Forward\", \"Forward to next view\", \"fa fa-arrow-right icon-arrow-right\", \"forward\"], [\"\", \"\", \"\", \"\"], [\"Pan\", \"Left button pans, Right button zooms\\nx/y fixes axis, CTRL fixes aspect\", \"fa fa-arrows icon-move\", \"pan\"], [\"Zoom\", \"Zoom to rectangle\\nx/y fixes axis, CTRL fixes aspect\", \"fa fa-square-o icon-check-empty\", \"zoom\"], [\"\", \"\", \"\", \"\"], [\"Download\", \"Download plot\", \"fa fa-floppy-o icon-save\", \"download\"]];\n",
       "\n",
       "mpl.extensions = [\"eps\", \"jpeg\", \"pdf\", \"png\", \"ps\", \"raw\", \"svg\", \"tif\"];\n",
       "\n",
       "mpl.default_extension = \"png\";/* global mpl */\n",
       "\n",
       "var comm_websocket_adapter = function (comm) {\n",
       "    // Create a \"websocket\"-like object which calls the given IPython comm\n",
       "    // object with the appropriate methods. Currently this is a non binary\n",
       "    // socket, so there is still some room for performance tuning.\n",
       "    var ws = {};\n",
       "\n",
       "    ws.close = function () {\n",
       "        comm.close();\n",
       "    };\n",
       "    ws.send = function (m) {\n",
       "        //console.log('sending', m);\n",
       "        comm.send(m);\n",
       "    };\n",
       "    // Register the callback with on_msg.\n",
       "    comm.on_msg(function (msg) {\n",
       "        //console.log('receiving', msg['content']['data'], msg);\n",
       "        // Pass the mpl event to the overridden (by mpl) onmessage function.\n",
       "        ws.onmessage(msg['content']['data']);\n",
       "    });\n",
       "    return ws;\n",
       "};\n",
       "\n",
       "mpl.mpl_figure_comm = function (comm, msg) {\n",
       "    // This is the function which gets called when the mpl process\n",
       "    // starts-up an IPython Comm through the \"matplotlib\" channel.\n",
       "\n",
       "    var id = msg.content.data.id;\n",
       "    // Get hold of the div created by the display call when the Comm\n",
       "    // socket was opened in Python.\n",
       "    var element = document.getElementById(id);\n",
       "    var ws_proxy = comm_websocket_adapter(comm);\n",
       "\n",
       "    function ondownload(figure, _format) {\n",
       "        window.open(figure.canvas.toDataURL());\n",
       "    }\n",
       "\n",
       "    var fig = new mpl.figure(id, ws_proxy, ondownload, element);\n",
       "\n",
       "    // Call onopen now - mpl needs it, as it is assuming we've passed it a real\n",
       "    // web socket which is closed, not our websocket->open comm proxy.\n",
       "    ws_proxy.onopen();\n",
       "\n",
       "    fig.parent_element = element;\n",
       "    fig.cell_info = mpl.find_output_cell(\"<div id='\" + id + \"'></div>\");\n",
       "    if (!fig.cell_info) {\n",
       "        console.error('Failed to find cell for figure', id, fig);\n",
       "        return;\n",
       "    }\n",
       "    fig.cell_info[0].output_area.element.on(\n",
       "        'cleared',\n",
       "        { fig: fig },\n",
       "        fig._remove_fig_handler\n",
       "    );\n",
       "};\n",
       "\n",
       "mpl.figure.prototype.handle_close = function (fig, msg) {\n",
       "    var width = fig.canvas.width / fig.ratio;\n",
       "    fig.cell_info[0].output_area.element.off(\n",
       "        'cleared',\n",
       "        fig._remove_fig_handler\n",
       "    );\n",
       "    fig.resizeObserverInstance.unobserve(fig.canvas_div);\n",
       "\n",
       "    // Update the output cell to use the data from the current canvas.\n",
       "    fig.push_to_output();\n",
       "    var dataURL = fig.canvas.toDataURL();\n",
       "    // Re-enable the keyboard manager in IPython - without this line, in FF,\n",
       "    // the notebook keyboard shortcuts fail.\n",
       "    IPython.keyboard_manager.enable();\n",
       "    fig.parent_element.innerHTML =\n",
       "        '<img src=\"' + dataURL + '\" width=\"' + width + '\">';\n",
       "    fig.close_ws(fig, msg);\n",
       "};\n",
       "\n",
       "mpl.figure.prototype.close_ws = function (fig, msg) {\n",
       "    fig.send_message('closing', msg);\n",
       "    // fig.ws.close()\n",
       "};\n",
       "\n",
       "mpl.figure.prototype.push_to_output = function (_remove_interactive) {\n",
       "    // Turn the data on the canvas into data in the output cell.\n",
       "    var width = this.canvas.width / this.ratio;\n",
       "    var dataURL = this.canvas.toDataURL();\n",
       "    this.cell_info[1]['text/html'] =\n",
       "        '<img src=\"' + dataURL + '\" width=\"' + width + '\">';\n",
       "};\n",
       "\n",
       "mpl.figure.prototype.updated_canvas_event = function () {\n",
       "    // Tell IPython that the notebook contents must change.\n",
       "    IPython.notebook.set_dirty(true);\n",
       "    this.send_message('ack', {});\n",
       "    var fig = this;\n",
       "    // Wait a second, then push the new image to the DOM so\n",
       "    // that it is saved nicely (might be nice to debounce this).\n",
       "    setTimeout(function () {\n",
       "        fig.push_to_output();\n",
       "    }, 1000);\n",
       "};\n",
       "\n",
       "mpl.figure.prototype._init_toolbar = function () {\n",
       "    var fig = this;\n",
       "\n",
       "    var toolbar = document.createElement('div');\n",
       "    toolbar.classList = 'btn-toolbar';\n",
       "    this.root.appendChild(toolbar);\n",
       "\n",
       "    function on_click_closure(name) {\n",
       "        return function (_event) {\n",
       "            return fig.toolbar_button_onclick(name);\n",
       "        };\n",
       "    }\n",
       "\n",
       "    function on_mouseover_closure(tooltip) {\n",
       "        return function (event) {\n",
       "            if (!event.currentTarget.disabled) {\n",
       "                return fig.toolbar_button_onmouseover(tooltip);\n",
       "            }\n",
       "        };\n",
       "    }\n",
       "\n",
       "    fig.buttons = {};\n",
       "    var buttonGroup = document.createElement('div');\n",
       "    buttonGroup.classList = 'btn-group';\n",
       "    var button;\n",
       "    for (var toolbar_ind in mpl.toolbar_items) {\n",
       "        var name = mpl.toolbar_items[toolbar_ind][0];\n",
       "        var tooltip = mpl.toolbar_items[toolbar_ind][1];\n",
       "        var image = mpl.toolbar_items[toolbar_ind][2];\n",
       "        var method_name = mpl.toolbar_items[toolbar_ind][3];\n",
       "\n",
       "        if (!name) {\n",
       "            /* Instead of a spacer, we start a new button group. */\n",
       "            if (buttonGroup.hasChildNodes()) {\n",
       "                toolbar.appendChild(buttonGroup);\n",
       "            }\n",
       "            buttonGroup = document.createElement('div');\n",
       "            buttonGroup.classList = 'btn-group';\n",
       "            continue;\n",
       "        }\n",
       "\n",
       "        button = fig.buttons[name] = document.createElement('button');\n",
       "        button.classList = 'btn btn-default';\n",
       "        button.href = '#';\n",
       "        button.title = name;\n",
       "        button.innerHTML = '<i class=\"fa ' + image + ' fa-lg\"></i>';\n",
       "        button.addEventListener('click', on_click_closure(method_name));\n",
       "        button.addEventListener('mouseover', on_mouseover_closure(tooltip));\n",
       "        buttonGroup.appendChild(button);\n",
       "    }\n",
       "\n",
       "    if (buttonGroup.hasChildNodes()) {\n",
       "        toolbar.appendChild(buttonGroup);\n",
       "    }\n",
       "\n",
       "    // Add the status bar.\n",
       "    var status_bar = document.createElement('span');\n",
       "    status_bar.classList = 'mpl-message pull-right';\n",
       "    toolbar.appendChild(status_bar);\n",
       "    this.message = status_bar;\n",
       "\n",
       "    // Add the close button to the window.\n",
       "    var buttongrp = document.createElement('div');\n",
       "    buttongrp.classList = 'btn-group inline pull-right';\n",
       "    button = document.createElement('button');\n",
       "    button.classList = 'btn btn-mini btn-primary';\n",
       "    button.href = '#';\n",
       "    button.title = 'Stop Interaction';\n",
       "    button.innerHTML = '<i class=\"fa fa-power-off icon-remove icon-large\"></i>';\n",
       "    button.addEventListener('click', function (_evt) {\n",
       "        fig.handle_close(fig, {});\n",
       "    });\n",
       "    button.addEventListener(\n",
       "        'mouseover',\n",
       "        on_mouseover_closure('Stop Interaction')\n",
       "    );\n",
       "    buttongrp.appendChild(button);\n",
       "    var titlebar = this.root.querySelector('.ui-dialog-titlebar');\n",
       "    titlebar.insertBefore(buttongrp, titlebar.firstChild);\n",
       "};\n",
       "\n",
       "mpl.figure.prototype._remove_fig_handler = function (event) {\n",
       "    var fig = event.data.fig;\n",
       "    if (event.target !== this) {\n",
       "        // Ignore bubbled events from children.\n",
       "        return;\n",
       "    }\n",
       "    fig.close_ws(fig, {});\n",
       "};\n",
       "\n",
       "mpl.figure.prototype._root_extra_style = function (el) {\n",
       "    el.style.boxSizing = 'content-box'; // override notebook setting of border-box.\n",
       "};\n",
       "\n",
       "mpl.figure.prototype._canvas_extra_style = function (el) {\n",
       "    // this is important to make the div 'focusable\n",
       "    el.setAttribute('tabindex', 0);\n",
       "    // reach out to IPython and tell the keyboard manager to turn it's self\n",
       "    // off when our div gets focus\n",
       "\n",
       "    // location in version 3\n",
       "    if (IPython.notebook.keyboard_manager) {\n",
       "        IPython.notebook.keyboard_manager.register_events(el);\n",
       "    } else {\n",
       "        // location in version 2\n",
       "        IPython.keyboard_manager.register_events(el);\n",
       "    }\n",
       "};\n",
       "\n",
       "mpl.figure.prototype._key_event_extra = function (event, _name) {\n",
       "    var manager = IPython.notebook.keyboard_manager;\n",
       "    if (!manager) {\n",
       "        manager = IPython.keyboard_manager;\n",
       "    }\n",
       "\n",
       "    // Check for shift+enter\n",
       "    if (event.shiftKey && event.which === 13) {\n",
       "        this.canvas_div.blur();\n",
       "        // select the cell after this one\n",
       "        var index = IPython.notebook.find_cell_index(this.cell_info[0]);\n",
       "        IPython.notebook.select(index + 1);\n",
       "    }\n",
       "};\n",
       "\n",
       "mpl.figure.prototype.handle_save = function (fig, _msg) {\n",
       "    fig.ondownload(fig, null);\n",
       "};\n",
       "\n",
       "mpl.find_output_cell = function (html_output) {\n",
       "    // Return the cell and output element which can be found *uniquely* in the notebook.\n",
       "    // Note - this is a bit hacky, but it is done because the \"notebook_saving.Notebook\"\n",
       "    // IPython event is triggered only after the cells have been serialised, which for\n",
       "    // our purposes (turning an active figure into a static one), is too late.\n",
       "    var cells = IPython.notebook.get_cells();\n",
       "    var ncells = cells.length;\n",
       "    for (var i = 0; i < ncells; i++) {\n",
       "        var cell = cells[i];\n",
       "        if (cell.cell_type === 'code') {\n",
       "            for (var j = 0; j < cell.output_area.outputs.length; j++) {\n",
       "                var data = cell.output_area.outputs[j];\n",
       "                if (data.data) {\n",
       "                    // IPython >= 3 moved mimebundle to data attribute of output\n",
       "                    data = data.data;\n",
       "                }\n",
       "                if (data['text/html'] === html_output) {\n",
       "                    return [cell, data, j];\n",
       "                }\n",
       "            }\n",
       "        }\n",
       "    }\n",
       "};\n",
       "\n",
       "// Register the function which deals with the matplotlib target/channel.\n",
       "// The kernel may be null if the page has been refreshed.\n",
       "if (IPython.notebook.kernel !== null) {\n",
       "    IPython.notebook.kernel.comm_manager.register_target(\n",
       "        'matplotlib',\n",
       "        mpl.mpl_figure_comm\n",
       "    );\n",
       "}\n"
      ],
      "text/plain": [
       "<IPython.core.display.Javascript object>"
      ]
     },
     "metadata": {},
     "output_type": "display_data"
    },
    {
     "data": {
      "text/html": [
       "<img src=\"data:image/png;base64,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\" width=\"640\">"
      ],
      "text/plain": [
       "<IPython.core.display.HTML object>"
      ]
     },
     "metadata": {},
     "output_type": "display_data"
    }
   ],
   "source": [
    "p1=plot(soln[0].subs({C1:1}).rhs,(t,0,10),show=False)\n",
    "p2=plot(soln[1].subs({C2:2}).rhs,(t,0,10),show=False)\n",
    "p3=plot(soln[2].subs({C3:3}).rhs,(t,0,10),show=False)\n",
    "p1.append(p2[0])\n",
    "p1.append(p3[0])\n",
    "p1.show()"
   ]
  },
  {
   "cell_type": "markdown",
   "metadata": {},
   "source": [
    "Can this be written more general for any $n$?"
   ]
  }
 ],
 "metadata": {
  "kernelspec": {
   "display_name": "Python 3",
   "language": "python",
   "name": "python3"
  },
  "language_info": {
   "codemirror_mode": {
    "name": "ipython",
    "version": 3
   },
   "file_extension": ".py",
   "mimetype": "text/x-python",
   "name": "python",
   "nbconvert_exporter": "python",
   "pygments_lexer": "ipython3",
   "version": "3.8.3"
  }
 },
 "nbformat": 4,
 "nbformat_minor": 4
}
