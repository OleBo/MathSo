{
 "cells": [
  {
   "cell_type": "markdown",
   "metadata": {},
   "source": [
    "[![Open In Binder](https://static.mybinder.org/badge_logo.svg)](https://mybinder.org/v2/gh/OleBo/MathSo/main?filepath=/notebooks/SymbolicMathematics.ipynb)"
   ]
  },
  {
   "cell_type": "markdown",
   "metadata": {},
   "source": [
    "[![Open In Colab](https://colab.research.google.com/assets/colab-badge.svg)](https://colab.research.google.com/github/OleBo/MathSo/blob/main/notebooks/SymbolicMathematics.ipynb)\n",
    "\n",
    "\n",
    "[browse](http://colab.research.google.com/github/OleBo/MathSo/)"
   ]
  },
  {
   "cell_type": "markdown",
   "metadata": {},
   "source": [
    "# Computer Algebra System (CAS)\n",
    "\n",
    "SymPy is a Python library for symbolic mathematics.\n",
    "- [tutorial](https://docs.sympy.org/latest/tutorial/index.html)\n",
    "- [documentation](https://docs.sympy.org/latest/tutorial/index.html)"
   ]
  },
  {
   "cell_type": "markdown",
   "metadata": {},
   "source": [
    "Symbolic calculations begin by defining symbolic variables:"
   ]
  },
  {
   "cell_type": "code",
   "execution_count": 1,
   "metadata": {},
   "outputs": [],
   "source": [
    "import numpy as np\n",
    "from sympy import *\n",
    "x,y=symbols('x y')"
   ]
  },
  {
   "cell_type": "markdown",
   "metadata": {},
   "source": [
    "Evaluate expressions containing symbolic variables:"
   ]
  },
  {
   "cell_type": "code",
   "execution_count": 2,
   "metadata": {
    "scrolled": true
   },
   "outputs": [
    {
     "data": {
      "text/latex": [
       "$\\displaystyle x + y$"
      ],
      "text/plain": [
       "x + y"
      ]
     },
     "execution_count": 2,
     "metadata": {},
     "output_type": "execute_result"
    }
   ],
   "source": [
    "x+y"
   ]
  },
  {
   "cell_type": "code",
   "execution_count": 3,
   "metadata": {},
   "outputs": [
    {
     "data": {
      "text/latex": [
       "$\\displaystyle \\left(x + y\\right)^{2}$"
      ],
      "text/plain": [
       "(x + y)**2"
      ]
     },
     "execution_count": 3,
     "metadata": {},
     "output_type": "execute_result"
    }
   ],
   "source": [
    "(x+y)**2"
   ]
  },
  {
   "cell_type": "code",
   "execution_count": 4,
   "metadata": {},
   "outputs": [
    {
     "data": {
      "text/latex": [
       "$\\displaystyle x^{2} + 2 x y + y^{2}$"
      ],
      "text/plain": [
       "x**2 + 2*x*y + y**2"
      ]
     },
     "execution_count": 4,
     "metadata": {},
     "output_type": "execute_result"
    }
   ],
   "source": [
    "expand((x + y)**2)"
   ]
  },
  {
   "cell_type": "code",
   "execution_count": 5,
   "metadata": {},
   "outputs": [
    {
     "data": {
      "text/latex": [
       "$\\displaystyle \\left(x + y\\right)^{2}$"
      ],
      "text/plain": [
       "(x + y)**2"
      ]
     },
     "execution_count": 5,
     "metadata": {},
     "output_type": "execute_result"
    }
   ],
   "source": [
    "factor((expand((x + y)**2)))"
   ]
  },
  {
   "cell_type": "markdown",
   "metadata": {},
   "source": [
    "Substitute variables in expressions: Substitution replaces all instances of something in an expression with something else. It is done using the `subs` method."
   ]
  },
  {
   "cell_type": "code",
   "execution_count": 6,
   "metadata": {},
   "outputs": [],
   "source": [
    "z = x**2 + y**2"
   ]
  },
  {
   "cell_type": "code",
   "execution_count": 7,
   "metadata": {},
   "outputs": [
    {
     "data": {
      "text/latex": [
       "$\\displaystyle x^{2} + y^{2}$"
      ],
      "text/plain": [
       "x**2 + y**2"
      ]
     },
     "execution_count": 7,
     "metadata": {},
     "output_type": "execute_result"
    }
   ],
   "source": [
    "z"
   ]
  },
  {
   "cell_type": "markdown",
   "metadata": {},
   "source": [
    "replace y with a + b in the expression for z"
   ]
  },
  {
   "cell_type": "code",
   "execution_count": 8,
   "metadata": {},
   "outputs": [
    {
     "data": {
      "text/latex": [
       "$\\displaystyle x^{2} + \\left(a + b\\right)^{2}$"
      ],
      "text/plain": [
       "x**2 + (a + b)**2"
      ]
     },
     "execution_count": 8,
     "metadata": {},
     "output_type": "execute_result"
    }
   ],
   "source": [
    "a,b=symbols('a b')\n",
    "z.subs(y,a+b)"
   ]
  },
  {
   "cell_type": "markdown",
   "metadata": {},
   "source": [
    "replace x with a + b in the expression for z"
   ]
  },
  {
   "cell_type": "code",
   "execution_count": 9,
   "metadata": {},
   "outputs": [
    {
     "data": {
      "text/latex": [
       "$\\displaystyle y^{2} + \\left(a + b\\right)^{2}$"
      ],
      "text/plain": [
       "y**2 + (a + b)**2"
      ]
     },
     "execution_count": 9,
     "metadata": {},
     "output_type": "execute_result"
    }
   ],
   "source": [
    "z.subs(x,a+b)"
   ]
  },
  {
   "cell_type": "markdown",
   "metadata": {},
   "source": [
    "Define and evaluate symbolic functions"
   ]
  },
  {
   "cell_type": "code",
   "execution_count": 10,
   "metadata": {},
   "outputs": [
    {
     "data": {
      "text/latex": [
       "$\\displaystyle f{\\left(x \\right)} + 1$"
      ],
      "text/plain": [
       "f(x) + 1"
      ]
     },
     "execution_count": 10,
     "metadata": {},
     "output_type": "execute_result"
    }
   ],
   "source": [
    "f = Function('f')\n",
    "f(x)+1"
   ]
  },
  {
   "cell_type": "code",
   "execution_count": 11,
   "metadata": {},
   "outputs": [
    {
     "data": {
      "text/latex": [
       "$\\displaystyle f{\\left(x,y \\right)} + 1$"
      ],
      "text/plain": [
       "f(x, y) + 1"
      ]
     },
     "execution_count": 11,
     "metadata": {},
     "output_type": "execute_result"
    }
   ],
   "source": [
    "f = Function('f')(x,y)\n",
    "f+1"
   ]
  },
  {
   "cell_type": "markdown",
   "metadata": {},
   "source": [
    "To treat numbers symbolically rather than numerically, sym must be inserted:"
   ]
  },
  {
   "cell_type": "code",
   "execution_count": 12,
   "metadata": {},
   "outputs": [
    {
     "data": {
      "text/latex": [
       "$\\displaystyle 1.22464679914735 \\cdot 10^{-16}$"
      ],
      "text/plain": [
       "1.22464679914735e-16"
      ]
     },
     "execution_count": 12,
     "metadata": {},
     "output_type": "execute_result"
    }
   ],
   "source": [
    "sin(np.pi)"
   ]
  },
  {
   "cell_type": "code",
   "execution_count": 13,
   "metadata": {},
   "outputs": [
    {
     "data": {
      "text/latex": [
       "$\\displaystyle 0$"
      ],
      "text/plain": [
       "0"
      ]
     },
     "execution_count": 13,
     "metadata": {},
     "output_type": "execute_result"
    }
   ],
   "source": [
    "sin(pi)"
   ]
  },
  {
   "cell_type": "markdown",
   "metadata": {},
   "source": [
    "Sometimes simplify needs to be called to simplify an expression:"
   ]
  },
  {
   "cell_type": "code",
   "execution_count": 14,
   "metadata": {},
   "outputs": [
    {
     "data": {
      "text/latex": [
       "$\\displaystyle \\frac{\\sqrt{5}}{2} + \\frac{1}{2}$"
      ],
      "text/plain": [
       "sqrt(5)/2 + 1/2"
      ]
     },
     "execution_count": 14,
     "metadata": {},
     "output_type": "execute_result"
    }
   ],
   "source": [
    "g = (1 + sqrt(Symbol('5')))/2  #golden ratio\n",
    "g"
   ]
  },
  {
   "cell_type": "code",
   "execution_count": 15,
   "metadata": {},
   "outputs": [
    {
     "data": {
      "text/latex": [
       "$\\displaystyle - \\frac{\\sqrt{5}}{2} + \\left(\\frac{\\sqrt{5}}{2} + \\frac{1}{2}\\right)^{2} - \\frac{3}{2}$"
      ],
      "text/plain": [
       "-sqrt(5)/2 + (sqrt(5)/2 + 1/2)**2 - 3/2"
      ]
     },
     "execution_count": 15,
     "metadata": {},
     "output_type": "execute_result"
    }
   ],
   "source": [
    "g**2-g-1 #should vanish"
   ]
  },
  {
   "cell_type": "code",
   "execution_count": 16,
   "metadata": {},
   "outputs": [
    {
     "data": {
      "text/latex": [
       "$\\displaystyle \\frac{5}{4} - \\frac{5}{4}$"
      ],
      "text/plain": [
       "5/4 - 5/4"
      ]
     },
     "execution_count": 16,
     "metadata": {},
     "output_type": "execute_result"
    }
   ],
   "source": [
    "simplify(g**2-g-1)"
   ]
  },
  {
   "cell_type": "markdown",
   "metadata": {},
   "source": [
    "Conversion between symbolic and numeric quantities:"
   ]
  },
  {
   "cell_type": "code",
   "execution_count": 17,
   "metadata": {},
   "outputs": [
    {
     "data": {
      "text/latex": [
       "$\\displaystyle \\frac{1}{4}$"
      ],
      "text/plain": [
       "1/4"
      ]
     },
     "execution_count": 17,
     "metadata": {},
     "output_type": "execute_result"
    }
   ],
   "source": [
    "nsimplify(0.25) #symbolic"
   ]
  },
  {
   "cell_type": "code",
   "execution_count": 18,
   "metadata": {},
   "outputs": [
    {
     "data": {
      "text/plain": [
       "0.3333333333333333"
      ]
     },
     "execution_count": 18,
     "metadata": {},
     "output_type": "execute_result"
    }
   ],
   "source": [
    "1/3  #numeric"
   ]
  },
  {
   "cell_type": "code",
   "execution_count": 19,
   "metadata": {},
   "outputs": [
    {
     "data": {
      "text/latex": [
       "$\\displaystyle \\frac{1}{3}$"
      ],
      "text/plain": [
       "1/3"
      ]
     },
     "execution_count": 19,
     "metadata": {},
     "output_type": "execute_result"
    }
   ],
   "source": [
    "S(1)/3         #symbolic"
   ]
  },
  {
   "cell_type": "code",
   "execution_count": 20,
   "metadata": {},
   "outputs": [
    {
     "data": {
      "text/latex": [
       "$\\displaystyle \\frac{1}{3}$"
      ],
      "text/plain": [
       "1/3"
      ]
     },
     "execution_count": 20,
     "metadata": {},
     "output_type": "execute_result"
    }
   ],
   "source": [
    "Rational(1,3)  #symbolic"
   ]
  },
  {
   "cell_type": "code",
   "execution_count": 21,
   "metadata": {},
   "outputs": [
    {
     "data": {
      "text/latex": [
       "$\\displaystyle 0.333333333333333$"
      ],
      "text/plain": [
       "0.333333333333333"
      ]
     },
     "execution_count": 21,
     "metadata": {},
     "output_type": "execute_result"
    }
   ],
   "source": [
    "Rational(1,3).evalf()"
   ]
  },
  {
   "cell_type": "markdown",
   "metadata": {},
   "source": [
    "**Matrices**: A matrix can contain any symbolic expression."
   ]
  },
  {
   "cell_type": "code",
   "execution_count": 22,
   "metadata": {},
   "outputs": [
    {
     "data": {
      "text/latex": [
       "$\\displaystyle \\left[\\begin{matrix}1 & 2\\\\3 & 4\\end{matrix}\\right]$"
      ],
      "text/plain": [
       "Matrix([\n",
       "[1, 2],\n",
       "[3, 4]])"
      ]
     },
     "execution_count": 22,
     "metadata": {},
     "output_type": "execute_result"
    }
   ],
   "source": [
    "Matrix([[1,2],[3,4]])"
   ]
  },
  {
   "cell_type": "code",
   "execution_count": 23,
   "metadata": {},
   "outputs": [
    {
     "data": {
      "text/latex": [
       "$\\displaystyle \\left[\\begin{matrix}1\\\\2\\\\3\\end{matrix}\\right]$"
      ],
      "text/plain": [
       "Matrix([\n",
       "[1],\n",
       "[2],\n",
       "[3]])"
      ]
     },
     "execution_count": 23,
     "metadata": {},
     "output_type": "execute_result"
    }
   ],
   "source": [
    "Matrix([1,2,3])"
   ]
  },
  {
   "cell_type": "code",
   "execution_count": 24,
   "metadata": {},
   "outputs": [
    {
     "data": {
      "text/latex": [
       "$\\displaystyle \\left[\\begin{matrix}1 & 2 & 3\\end{matrix}\\right]$"
      ],
      "text/plain": [
       "Matrix([[1, 2, 3]])"
      ]
     },
     "execution_count": 24,
     "metadata": {},
     "output_type": "execute_result"
    }
   ],
   "source": [
    "Matrix([1,2,3]).T"
   ]
  },
  {
   "cell_type": "code",
   "execution_count": 25,
   "metadata": {},
   "outputs": [
    {
     "data": {
      "text/latex": [
       "$\\displaystyle \\left[\\begin{matrix}1 & 2 & 3\\end{matrix}\\right]$"
      ],
      "text/plain": [
       "Matrix([[1, 2, 3]])"
      ]
     },
     "execution_count": 25,
     "metadata": {},
     "output_type": "execute_result"
    }
   ],
   "source": [
    "Matrix([[1,2,3]])"
   ]
  },
  {
   "cell_type": "code",
   "execution_count": 26,
   "metadata": {},
   "outputs": [
    {
     "data": {
      "text/latex": [
       "$\\displaystyle \\left[\\begin{matrix}a\\\\b\\\\c\\end{matrix}\\right]$"
      ],
      "text/plain": [
       "Matrix([\n",
       "[a],\n",
       "[b],\n",
       "[c]])"
      ]
     },
     "execution_count": 26,
     "metadata": {},
     "output_type": "execute_result"
    }
   ],
   "source": [
    "a,b,c=symbols('a b c')\n",
    "Matrix([a,b,c])"
   ]
  },
  {
   "cell_type": "code",
   "execution_count": 27,
   "metadata": {},
   "outputs": [
    {
     "data": {
      "text/latex": [
       "$\\displaystyle \\left[\\begin{matrix}a + 2 b\\\\3 a + 4 b\\end{matrix}\\right]$"
      ],
      "text/plain": [
       "Matrix([\n",
       "[  a + 2*b],\n",
       "[3*a + 4*b]])"
      ]
     },
     "execution_count": 27,
     "metadata": {},
     "output_type": "execute_result"
    }
   ],
   "source": [
    "Matrix([[1,2],[3,4]])@Matrix([a,b]) # Python 3.5+"
   ]
  },
  {
   "cell_type": "code",
   "execution_count": 28,
   "metadata": {},
   "outputs": [
    {
     "data": {
      "text/latex": [
       "$\\displaystyle \\left[\\begin{matrix}a + 2 b\\\\3 a + 4 b\\end{matrix}\\right]$"
      ],
      "text/plain": [
       "Matrix([\n",
       "[  a + 2*b],\n",
       "[3*a + 4*b]])"
      ]
     },
     "execution_count": 28,
     "metadata": {},
     "output_type": "execute_result"
    }
   ],
   "source": [
    "Matrix([[1,2],[3,4]])*Matrix([a,b])"
   ]
  },
  {
   "cell_type": "markdown",
   "metadata": {},
   "source": [
    "calculating the jacobian"
   ]
  },
  {
   "cell_type": "code",
   "execution_count": 29,
   "metadata": {},
   "outputs": [
    {
     "data": {
      "text/latex": [
       "$\\displaystyle \\left[\\begin{matrix}\\frac{d}{d x_{1}} \\operatorname{f_{1}}{\\left(x_{1} \\right)} & \\frac{d}{d x_{2}} \\operatorname{f_{1}}{\\left(x_{2} \\right)} & \\frac{d}{d x_{3}} \\operatorname{f_{1}}{\\left(x_{3} \\right)}\\\\\\frac{d}{d x_{1}} \\operatorname{f_{2}}{\\left(x_{1} \\right)} & \\frac{d}{d x_{2}} \\operatorname{f_{2}}{\\left(x_{2} \\right)} & \\frac{d}{d x_{3}} \\operatorname{f_{2}}{\\left(x_{3} \\right)}\\\\\\frac{d}{d x_{1}} \\operatorname{f_{3}}{\\left(x_{1} \\right)} & \\frac{d}{d x_{2}} \\operatorname{f_{3}}{\\left(x_{2} \\right)} & \\frac{d}{d x_{3}} \\operatorname{f_{3}}{\\left(x_{3} \\right)}\\end{matrix}\\right]$"
      ],
      "text/plain": [
       "Matrix([\n",
       "[Derivative(f1(x1), x1), Derivative(f1(x2), x2), Derivative(f1(x3), x3)],\n",
       "[Derivative(f2(x1), x1), Derivative(f2(x2), x2), Derivative(f2(x3), x3)],\n",
       "[Derivative(f3(x1), x1), Derivative(f3(x2), x2), Derivative(f3(x3), x3)]])"
      ]
     },
     "execution_count": 29,
     "metadata": {},
     "output_type": "execute_result"
    }
   ],
   "source": [
    "x1,x2,x3 = symbols('x1 x2 x3')\n",
    "f1,f2,f3 = symbols('f1 f2 f3', cls=Function)\n",
    "M = Matrix([f1(x1)+f1(x2)+f1(x3),f2(x1)+f2(x2)+f2(x3),f3(x1)+f3(x2)+f3(x3)])\n",
    "M.jacobian([x1,x2,x3])"
   ]
  },
  {
   "cell_type": "markdown",
   "metadata": {},
   "source": [
    "**Matrix Symbols**: operation on matrices of symbolic dimension $n\\times m$"
   ]
  },
  {
   "cell_type": "code",
   "execution_count": 30,
   "metadata": {},
   "outputs": [
    {
     "data": {
      "text/latex": [
       "$\\displaystyle M b$"
      ],
      "text/plain": [
       "M*b"
      ]
     },
     "execution_count": 30,
     "metadata": {},
     "output_type": "execute_result"
    }
   ],
   "source": [
    "n, m = symbols('n m', integer=True)\n",
    "M = MatrixSymbol('M', n, m)\n",
    "b = MatrixSymbol('b', m, 1)\n",
    "M@b"
   ]
  },
  {
   "cell_type": "code",
   "execution_count": 31,
   "metadata": {},
   "outputs": [
    {
     "data": {
      "text/plain": [
       "(n, 1)"
      ]
     },
     "execution_count": 31,
     "metadata": {},
     "output_type": "execute_result"
    }
   ],
   "source": [
    "(M@b).shape"
   ]
  },
  {
   "cell_type": "code",
   "execution_count": 32,
   "metadata": {},
   "outputs": [
    {
     "data": {
      "text/latex": [
       "$\\displaystyle \\left(M b\\right)^{T}$"
      ],
      "text/plain": [
       "(M*b).T"
      ]
     },
     "execution_count": 32,
     "metadata": {},
     "output_type": "execute_result"
    }
   ],
   "source": [
    "Transpose(M@b)"
   ]
  },
  {
   "cell_type": "code",
   "execution_count": 33,
   "metadata": {
    "lines_to_next_cell": 0
   },
   "outputs": [
    {
     "data": {
      "text/latex": [
       "$\\displaystyle b^{T} M^{T}$"
      ],
      "text/plain": [
       "b.T*M.T"
      ]
     },
     "execution_count": 33,
     "metadata": {},
     "output_type": "execute_result"
    }
   ],
   "source": [
    "Transpose(M@b).doit()\n",
    "#\n",
    "#\n",
    "# ## Algebraic equations\n",
    "#\n",
    "# solves the equation for y"
   ]
  },
  {
   "cell_type": "code",
   "execution_count": 34,
   "metadata": {},
   "outputs": [],
   "source": [
    "x = Symbol('x')\n",
    "y = Symbol('y')"
   ]
  },
  {
   "cell_type": "code",
   "execution_count": null,
   "metadata": {},
   "outputs": [],
   "source": []
  },
  {
   "cell_type": "code",
   "execution_count": 35,
   "metadata": {},
   "outputs": [
    {
     "data": {
      "text/latex": [
       "$\\displaystyle 0.333333333333333$"
      ],
      "text/plain": [
       "0.333333333333333"
      ]
     },
     "execution_count": 35,
     "metadata": {},
     "output_type": "execute_result"
    }
   ],
   "source": [
    "simplify(1/3)"
   ]
  },
  {
   "cell_type": "code",
   "execution_count": 36,
   "metadata": {},
   "outputs": [
    {
     "data": {
      "text/plain": [
       "[-sqrt(y), sqrt(y)]"
      ]
     },
     "execution_count": 36,
     "metadata": {},
     "output_type": "execute_result"
    }
   ],
   "source": [
    "solve(x**2-y, x)"
   ]
  },
  {
   "cell_type": "markdown",
   "metadata": {},
   "source": [
    "### Linear systems\n",
    "\n",
    "Example: $x +2y = u$, $4x + 5y = v$"
   ]
  },
  {
   "cell_type": "code",
   "execution_count": 37,
   "metadata": {},
   "outputs": [
    {
     "data": {
      "text/plain": [
       "{x: -5*u/3 + 2*v/3, y: 4*u/3 - v/3}"
      ]
     },
     "execution_count": 37,
     "metadata": {},
     "output_type": "execute_result"
    }
   ],
   "source": [
    "x, y, u, v = symbols('x y u v')\n",
    "system = Matrix(( (1, 2, u), (4, 5, v)))\n",
    "solve_linear_system(system, x, y)"
   ]
  },
  {
   "cell_type": "code",
   "execution_count": 38,
   "metadata": {},
   "outputs": [
    {
     "data": {
      "text/plain": [
       "{x: -5*u/3 + 2*v/3, y: 4*u/3 - v/3}"
      ]
     },
     "execution_count": 38,
     "metadata": {},
     "output_type": "execute_result"
    }
   ],
   "source": [
    "x, y, u, v = symbols('x y u v')\n",
    "solve((x+2*y-u,4*x+5*y-v), x, y)"
   ]
  },
  {
   "cell_type": "code",
   "execution_count": 39,
   "metadata": {},
   "outputs": [
    {
     "data": {
      "text/plain": [
       "{x_1: -5*u/3 + 2*v/3, x_2: 4*u/3 - v/3}"
      ]
     },
     "execution_count": 39,
     "metadata": {},
     "output_type": "execute_result"
    }
   ],
   "source": [
    "x_1, x_2, u, v = symbols('x_1 x_2 u v')\n",
    "A = Matrix(((1, 2), (4, 5)))\n",
    "b = Matrix(((u), (v)))\n",
    "x = Matrix(((x_1), (x_2)))\n",
    "solve(A*x-b, x_1, x_2)"
   ]
  },
  {
   "cell_type": "markdown",
   "metadata": {},
   "source": [
    "### Nonlinear systems\n",
    "\n",
    "Example: $x^2 + 3y = 0$, $y^2+2x=0$"
   ]
  },
  {
   "cell_type": "code",
   "execution_count": 40,
   "metadata": {},
   "outputs": [
    {
     "data": {
      "text/plain": [
       "[{x: 0, y: 0},\n",
       " {x: -(12**(1/3)/2 + 2**(2/3)*3**(5/6)*I/2)**2/2,\n",
       "  y: 12**(1/3)/2 + 2**(2/3)*3**(5/6)*I/2},\n",
       " {x: -(-3*2**(2/3)*3**(1/3)/4 - 12**(1/3)/4)**2/2,\n",
       "  y: -3*2**(2/3)*3**(1/3)/4 - 12**(1/3)/4},\n",
       " {x: -(-12**(1/3)/4 + 3*2**(2/3)*3**(1/3)/4 - 2**(2/3)*3**(5/6)*I/2)**2/2,\n",
       "  y: -12**(1/3)/4 + 3*2**(2/3)*3**(1/3)/4 - 2**(2/3)*3**(5/6)*I/2}]"
      ]
     },
     "execution_count": 40,
     "metadata": {},
     "output_type": "execute_result"
    }
   ],
   "source": [
    "x, y = symbols('x y')\n",
    "solve([x**2 + 3*y, y**2 + 2*x])"
   ]
  },
  {
   "cell_type": "markdown",
   "metadata": {},
   "source": [
    "### Exercise: \n",
    "\n",
    "Find all matrices of the form\n",
    "\n",
    "$$\n",
    "\\left( \\begin{array}{ccc} a&b&c\\\\c&a&b\\\\b&c&a \\end{array} \\right)\n",
    "$$\n",
    "\n",
    "with $a,b,c\\in\\mathbf{R}$ whose square is the unit matrix."
   ]
  },
  {
   "cell_type": "code",
   "execution_count": 41,
   "metadata": {},
   "outputs": [
    {
     "data": {
      "text/plain": [
       "[{a: -1, b: 0, c: 0},\n",
       " {a: -1/3, b: 2/3, c: 2/3},\n",
       " {a: -1/3, b: -1/3 - sqrt(3)*I/3, c: -1/3 + sqrt(3)*I/3},\n",
       " {a: -1/3, b: -1/3 + sqrt(3)*I/3, c: -1/3 - sqrt(3)*I/3},\n",
       " {a: 1/3, b: -2/3, c: -2/3},\n",
       " {a: 1/3, b: 1/3 - sqrt(3)*I/3, c: 1/3 + sqrt(3)*I/3},\n",
       " {a: 1/3, b: 1/3 + sqrt(3)*I/3, c: 1/3 - sqrt(3)*I/3},\n",
       " {a: 1, b: 0, c: 0}]"
      ]
     },
     "execution_count": 41,
     "metadata": {},
     "output_type": "execute_result"
    }
   ],
   "source": [
    "a, b, c = symbols('a b c')\n",
    "M = Matrix(((a, b, c), (c, a, b), (b, c, a)))\n",
    "solve(M**2-eye(3,3))"
   ]
  },
  {
   "cell_type": "markdown",
   "metadata": {},
   "source": [
    "### Assumptions on symbolic variables"
   ]
  },
  {
   "cell_type": "code",
   "execution_count": 42,
   "metadata": {},
   "outputs": [
    {
     "data": {
      "text/plain": [
       "[-1, 1/2 - sqrt(3)*I/2, 1/2 + sqrt(3)*I/2]"
      ]
     },
     "execution_count": 42,
     "metadata": {},
     "output_type": "execute_result"
    }
   ],
   "source": [
    "x = symbols('x')\n",
    "solve(x**3 + 1)"
   ]
  },
  {
   "cell_type": "code",
   "execution_count": 43,
   "metadata": {},
   "outputs": [
    {
     "data": {
      "text/plain": [
       "[-1]"
      ]
     },
     "execution_count": 43,
     "metadata": {},
     "output_type": "execute_result"
    }
   ],
   "source": [
    "x = symbols('x', real=True)\n",
    "solve(x**3 + 1)"
   ]
  },
  {
   "cell_type": "code",
   "execution_count": 44,
   "metadata": {},
   "outputs": [
    {
     "data": {
      "text/plain": [
       "[]"
      ]
     },
     "execution_count": 44,
     "metadata": {},
     "output_type": "execute_result"
    }
   ],
   "source": [
    "x = symbols('x', positive=True)\n",
    "solve(x**3 + 1)"
   ]
  },
  {
   "cell_type": "code",
   "execution_count": 45,
   "metadata": {},
   "outputs": [
    {
     "data": {
      "text/plain": [
       "True"
      ]
     },
     "execution_count": 45,
     "metadata": {},
     "output_type": "execute_result"
    }
   ],
   "source": [
    "x.is_real"
   ]
  },
  {
   "cell_type": "code",
   "execution_count": 46,
   "metadata": {},
   "outputs": [
    {
     "data": {
      "text/plain": [
       "True"
      ]
     },
     "execution_count": 46,
     "metadata": {},
     "output_type": "execute_result"
    }
   ],
   "source": [
    "x.is_positive"
   ]
  },
  {
   "cell_type": "markdown",
   "metadata": {},
   "source": [
    "reset assumptions"
   ]
  },
  {
   "cell_type": "code",
   "execution_count": 47,
   "metadata": {},
   "outputs": [
    {
     "data": {
      "text/plain": [
       "[-1, 1/2 - sqrt(3)*I/2, 1/2 + sqrt(3)*I/2]"
      ]
     },
     "execution_count": 47,
     "metadata": {},
     "output_type": "execute_result"
    }
   ],
   "source": [
    "x = symbols('x')\n",
    "solve(x**3 + 1)"
   ]
  },
  {
   "cell_type": "markdown",
   "metadata": {},
   "source": [
    "## Symbolic differentiation and integration\n",
    "\n",
    "Differentiate a symbolic function:"
   ]
  },
  {
   "cell_type": "code",
   "execution_count": 48,
   "metadata": {},
   "outputs": [
    {
     "data": {
      "text/latex": [
       "$\\displaystyle \\frac{d^{2}}{d x^{2}} f{\\left(x \\right)}$"
      ],
      "text/plain": [
       "Derivative(f(x), (x, 2))"
      ]
     },
     "execution_count": 48,
     "metadata": {},
     "output_type": "execute_result"
    }
   ],
   "source": [
    "f = Function('f')\n",
    "Derivative(f(x),x,x)"
   ]
  },
  {
   "cell_type": "code",
   "execution_count": 49,
   "metadata": {},
   "outputs": [
    {
     "data": {
      "text/latex": [
       "$\\displaystyle 2 x y$"
      ],
      "text/plain": [
       "2*x*y"
      ]
     },
     "execution_count": 49,
     "metadata": {},
     "output_type": "execute_result"
    }
   ],
   "source": [
    "diff(x**2*y,x)"
   ]
  },
  {
   "cell_type": "code",
   "execution_count": 50,
   "metadata": {},
   "outputs": [
    {
     "data": {
      "text/latex": [
       "$\\displaystyle x^{2}$"
      ],
      "text/plain": [
       "x**2"
      ]
     },
     "execution_count": 50,
     "metadata": {},
     "output_type": "execute_result"
    }
   ],
   "source": [
    "diff(x**2*y,y)"
   ]
  },
  {
   "cell_type": "markdown",
   "metadata": {},
   "source": [
    "Second order derivative"
   ]
  },
  {
   "cell_type": "code",
   "execution_count": 51,
   "metadata": {},
   "outputs": [
    {
     "data": {
      "text/latex": [
       "$\\displaystyle 2 y$"
      ],
      "text/plain": [
       "2*y"
      ]
     },
     "execution_count": 51,
     "metadata": {},
     "output_type": "execute_result"
    }
   ],
   "source": [
    "diff(x**2*y,x,x)"
   ]
  },
  {
   "cell_type": "code",
   "execution_count": 52,
   "metadata": {},
   "outputs": [
    {
     "data": {
      "text/latex": [
       "$\\displaystyle 2 y$"
      ],
      "text/plain": [
       "2*y"
      ]
     },
     "execution_count": 52,
     "metadata": {},
     "output_type": "execute_result"
    }
   ],
   "source": [
    "diff(x**2*y,x,2)"
   ]
  },
  {
   "cell_type": "markdown",
   "metadata": {},
   "source": [
    "### Exercise: \n",
    "\n",
    "Determine\n",
    "\n",
    "$$\n",
    "\\lim_{x\\to 0} \\frac{2\\tan(x) - \\tan(2x)}{x(1 - \\cos(3x))}\n",
    "$$\n",
    "\n",
    "Here we use derivatives to determine limits. This is in particular useful, if we obtain limits that end up in inteterminate or undefined forms such as $\\infty / \\infty$, $-\\infty / \\infty$, or $0/0$. The latter is the case here.\n",
    "\n",
    "#### L'Hopital's Rule:\n",
    "\n",
    "If $\\lim_{x\\to 0} f(x)=0$ and $\\lim_{x\\to 0} g(x)=0$ and $\\lim_{x\\to 0} \\frac{f'(x)}{g'(x)}=L$ then we can say that the limit $\\lim_{x\\to 0} \\frac{f(x)}{g(x)}=L$."
   ]
  },
  {
   "cell_type": "code",
   "execution_count": 53,
   "metadata": {},
   "outputs": [
    {
     "data": {
      "text/latex": [
       "$\\displaystyle \\frac{2 \\tan{\\left(x \\right)} - \\tan{\\left(2 x \\right)}}{x \\left(1 - \\cos{\\left(3 x \\right)}\\right)}$"
      ],
      "text/plain": [
       "(2*tan(x) - tan(2*x))/(x*(1 - cos(3*x)))"
      ]
     },
     "execution_count": 53,
     "metadata": {},
     "output_type": "execute_result"
    }
   ],
   "source": [
    "x = symbols('x')\n",
    "f=(2*tan(x) - tan(2*x))/(x*(1 - cos(3*x)))\n",
    "f"
   ]
  },
  {
   "cell_type": "code",
   "execution_count": 54,
   "metadata": {},
   "outputs": [
    {
     "data": {
      "text/latex": [
       "$\\displaystyle 0$"
      ],
      "text/plain": [
       "0"
      ]
     },
     "execution_count": 54,
     "metadata": {},
     "output_type": "execute_result"
    }
   ],
   "source": [
    "z = 2*tan(x) - tan(2*x)  #numerator\n",
    "z.subs(x, 0)"
   ]
  },
  {
   "cell_type": "code",
   "execution_count": 55,
   "metadata": {},
   "outputs": [
    {
     "data": {
      "text/latex": [
       "$\\displaystyle 0$"
      ],
      "text/plain": [
       "0"
      ]
     },
     "execution_count": 55,
     "metadata": {},
     "output_type": "execute_result"
    }
   ],
   "source": [
    "z1 = diff(z)\n",
    "z1.subs(x,0)"
   ]
  },
  {
   "cell_type": "code",
   "execution_count": 56,
   "metadata": {},
   "outputs": [
    {
     "data": {
      "text/latex": [
       "$\\displaystyle 0$"
      ],
      "text/plain": [
       "0"
      ]
     },
     "execution_count": 56,
     "metadata": {},
     "output_type": "execute_result"
    }
   ],
   "source": [
    "z2 = diff(z1)\n",
    "z2.subs(x,0)"
   ]
  },
  {
   "cell_type": "code",
   "execution_count": 57,
   "metadata": {},
   "outputs": [
    {
     "data": {
      "text/latex": [
       "$\\displaystyle -12$"
      ],
      "text/plain": [
       "-12"
      ]
     },
     "execution_count": 57,
     "metadata": {},
     "output_type": "execute_result"
    }
   ],
   "source": [
    "z3 = diff(z2)\n",
    "z3.subs(x,0)"
   ]
  },
  {
   "cell_type": "code",
   "execution_count": 58,
   "metadata": {},
   "outputs": [
    {
     "data": {
      "text/latex": [
       "$\\displaystyle 0$"
      ],
      "text/plain": [
       "0"
      ]
     },
     "execution_count": 58,
     "metadata": {},
     "output_type": "execute_result"
    }
   ],
   "source": [
    "n = x*(1 - cos(3*x))  #denominator\n",
    "n.subs(x, 0)"
   ]
  },
  {
   "cell_type": "code",
   "execution_count": 59,
   "metadata": {},
   "outputs": [
    {
     "data": {
      "text/latex": [
       "$\\displaystyle 0$"
      ],
      "text/plain": [
       "0"
      ]
     },
     "execution_count": 59,
     "metadata": {},
     "output_type": "execute_result"
    }
   ],
   "source": [
    "n1 = diff(n)\n",
    "n1.subs(x, 0)"
   ]
  },
  {
   "cell_type": "code",
   "execution_count": 60,
   "metadata": {},
   "outputs": [
    {
     "data": {
      "text/latex": [
       "$\\displaystyle 0$"
      ],
      "text/plain": [
       "0"
      ]
     },
     "execution_count": 60,
     "metadata": {},
     "output_type": "execute_result"
    }
   ],
   "source": [
    "n2 = diff(n1)\n",
    "n2.subs(x, 0)"
   ]
  },
  {
   "cell_type": "code",
   "execution_count": 61,
   "metadata": {},
   "outputs": [
    {
     "data": {
      "text/latex": [
       "$\\displaystyle 27$"
      ],
      "text/plain": [
       "27"
      ]
     },
     "execution_count": 61,
     "metadata": {},
     "output_type": "execute_result"
    }
   ],
   "source": [
    "n3 = diff(n2)\n",
    "n3.subs(x, 0)"
   ]
  },
  {
   "cell_type": "markdown",
   "metadata": {},
   "source": [
    "Applying [L'Hopital's rule](https://www.khanacademy.org/math/ap-calculus-ab/ab-diff-contextual-applications-new/ab-4-7/v/introduction-to-l-hopital-s-rule) three times yields the desired limit:"
   ]
  },
  {
   "cell_type": "code",
   "execution_count": 62,
   "metadata": {},
   "outputs": [
    {
     "data": {
      "text/latex": [
       "$\\displaystyle \\text{NaN}$"
      ],
      "text/plain": [
       "nan"
      ]
     },
     "execution_count": 62,
     "metadata": {},
     "output_type": "execute_result"
    }
   ],
   "source": [
    "(z1/n1).subs(x, 0)"
   ]
  },
  {
   "cell_type": "code",
   "execution_count": 63,
   "metadata": {},
   "outputs": [
    {
     "data": {
      "text/latex": [
       "$\\displaystyle \\text{NaN}$"
      ],
      "text/plain": [
       "nan"
      ]
     },
     "execution_count": 63,
     "metadata": {},
     "output_type": "execute_result"
    }
   ],
   "source": [
    "(z2/n2).subs(x, 0)"
   ]
  },
  {
   "cell_type": "code",
   "execution_count": 64,
   "metadata": {},
   "outputs": [
    {
     "data": {
      "text/latex": [
       "$\\displaystyle - \\frac{4}{9}$"
      ],
      "text/plain": [
       "-4/9"
      ]
     },
     "execution_count": 64,
     "metadata": {},
     "output_type": "execute_result"
    }
   ],
   "source": [
    "(z3/n3).subs(x, 0)"
   ]
  },
  {
   "cell_type": "markdown",
   "metadata": {},
   "source": [
    "## Taylor expansion\n",
    "\n",
    "A [Taylor series](https://mathworld.wolfram.com/TaylorSeries.html) is a series expansion of a function about a point. A one-dimensional Taylor series is an expansion of a real function $f(x)$ about a point $x=a$ is given by\n",
    "\n",
    "$$f(x)=f(a)+f'(a)(x-a)+\\frac{f''(a)}{2!}(x-a)^2+\\frac{f'''(a)}{3!}(x-a)^3+\\dots+\\frac{f^{(n)}(a)}{n!}(x-a)^n+\\dots$$\n",
    "\n",
    "The Taylor series of an unknown function $f(x)$ about a point $a$ up to order $n$ may be found using `series`."
   ]
  },
  {
   "cell_type": "code",
   "execution_count": 65,
   "metadata": {},
   "outputs": [
    {
     "data": {
      "text/latex": [
       "$\\displaystyle f{\\left(h \\right)} + \\left(- h + x\\right) \\left. \\frac{d}{d \\xi_{1}} f{\\left(\\xi_{1} \\right)} \\right|_{\\substack{ \\xi_{1}=h }} + \\frac{\\left(- h + x\\right)^{2} \\left. \\frac{d^{2}}{d \\xi_{1}^{2}} f{\\left(\\xi_{1} \\right)} \\right|_{\\substack{ \\xi_{1}=h }}}{2} + O\\left(\\left(- h + x\\right)^{3}; x\\rightarrow h\\right)$"
      ],
      "text/plain": [
       "f(h) + (-h + x)*Subs(Derivative(f(_xi_1), _xi_1), _xi_1, h) + (-h + x)**2*Subs(Derivative(f(_xi_1), (_xi_1, 2)), _xi_1, h)/2 + O((-h + x)**3, (x, h))"
      ]
     },
     "execution_count": 65,
     "metadata": {},
     "output_type": "execute_result"
    }
   ],
   "source": [
    "x, h = symbols(\"x,h\")\n",
    "f = Function(\"f\")\n",
    "f(x).series(x, x0=h, n=3)"
   ]
  },
  {
   "cell_type": "markdown",
   "metadata": {},
   "source": [
    "The Taylor series of the function $\\sin(x)$ about a point $x_0=0$ up to order $n=6$:"
   ]
  },
  {
   "cell_type": "code",
   "execution_count": 66,
   "metadata": {},
   "outputs": [
    {
     "data": {
      "text/latex": [
       "$\\displaystyle x - \\frac{x^{3}}{6} + \\frac{x^{5}}{120} + O\\left(x^{6}\\right)$"
      ],
      "text/plain": [
       "x - x**3/6 + x**5/120 + O(x**6)"
      ]
     },
     "execution_count": 66,
     "metadata": {},
     "output_type": "execute_result"
    }
   ],
   "source": [
    "x = symbols(\"x\")\n",
    "sin(x).series(x, x0=0, n=6)"
   ]
  },
  {
   "cell_type": "markdown",
   "metadata": {},
   "source": [
    "The Taylor series of the function $\\sin(x)$ about a point $x_0=0$ up to order $n=10$:"
   ]
  },
  {
   "cell_type": "code",
   "execution_count": 67,
   "metadata": {},
   "outputs": [
    {
     "data": {
      "text/latex": [
       "$\\displaystyle x - \\frac{x^{3}}{6} + \\frac{x^{5}}{120} - \\frac{x^{7}}{5040} + \\frac{x^{9}}{362880} + O\\left(x^{10}\\right)$"
      ],
      "text/plain": [
       "x - x**3/6 + x**5/120 - x**7/5040 + x**9/362880 + O(x**10)"
      ]
     },
     "execution_count": 67,
     "metadata": {},
     "output_type": "execute_result"
    }
   ],
   "source": [
    "x = symbols(\"x\")\n",
    "sin(x).series(x, x0=0, n=10)"
   ]
  },
  {
   "cell_type": "markdown",
   "metadata": {},
   "source": [
    "The Taylor series of the function $\\log(x)$ about a point $x_0=1$ up to order $n=6$:"
   ]
  },
  {
   "cell_type": "code",
   "execution_count": 68,
   "metadata": {},
   "outputs": [
    {
     "data": {
      "text/latex": [
       "$\\displaystyle -1 - \\frac{\\left(x - 1\\right)^{2}}{2} + \\frac{\\left(x - 1\\right)^{3}}{3} - \\frac{\\left(x - 1\\right)^{4}}{4} + \\frac{\\left(x - 1\\right)^{5}}{5} + x + O\\left(\\left(x - 1\\right)^{6}; x\\rightarrow 1\\right)$"
      ],
      "text/plain": [
       "-1 - (x - 1)**2/2 + (x - 1)**3/3 - (x - 1)**4/4 + (x - 1)**5/5 + x + O((x - 1)**6, (x, 1))"
      ]
     },
     "execution_count": 68,
     "metadata": {},
     "output_type": "execute_result"
    }
   ],
   "source": [
    "x = symbols(\"x\")\n",
    "log(x).series(x, x0=1, n=6)"
   ]
  },
  {
   "cell_type": "markdown",
   "metadata": {},
   "source": [
    "If you want a finite (forward) [difference approximation](https://docs.sympy.org/latest/special_topics/finite_diff_derivatives.html) to derivatives, you can for example write"
   ]
  },
  {
   "cell_type": "code",
   "execution_count": 69,
   "metadata": {},
   "outputs": [
    {
     "data": {
      "text/latex": [
       "$\\displaystyle f{\\left(2 h + x \\right)}$"
      ],
      "text/plain": [
       "f(2*h + x)"
      ]
     },
     "execution_count": 69,
     "metadata": {},
     "output_type": "execute_result"
    }
   ],
   "source": [
    "FW = f(x+h).series(x+h, x0=h, n=3)   #TODO\n",
    "FW.subs(x+h,0)"
   ]
  },
  {
   "cell_type": "markdown",
   "metadata": {},
   "source": [
    "## Integration\n",
    "\n",
    "SymPy implements methods to calculate definite and indefinite [integrals](https://docs.sympy.org/latest/modules/integrals/integrals.html) of expressions.\n",
    "- `integrate(f,x)` returns the indefinite integral\n",
    "- `integrate(f,(x,a))` returns the indefinite integral, with result given with $a$ replacing $x$\n",
    "- `integrate(f,(x,a,b))` returns the definite integral"
   ]
  },
  {
   "cell_type": "code",
   "execution_count": 70,
   "metadata": {},
   "outputs": [
    {
     "data": {
      "text/latex": [
       "$\\displaystyle \\int f{\\left(x \\right)}\\, dx$"
      ],
      "text/plain": [
       "Integral(f(x), x)"
      ]
     },
     "execution_count": 70,
     "metadata": {},
     "output_type": "execute_result"
    }
   ],
   "source": [
    "x = symbols(\"x\")\n",
    "f = Function(\"f\")\n",
    "f(x).integrate(x)"
   ]
  },
  {
   "cell_type": "code",
   "execution_count": 71,
   "metadata": {},
   "outputs": [
    {
     "data": {
      "text/latex": [
       "$\\displaystyle \\int\\limits^{a} f{\\left(x \\right)}\\, dx$"
      ],
      "text/plain": [
       "Integral(f(x), (x, a))"
      ]
     },
     "execution_count": 71,
     "metadata": {},
     "output_type": "execute_result"
    }
   ],
   "source": [
    "x, a = symbols(\"x,a\")\n",
    "f = Function(\"f\")\n",
    "f(x).integrate((x,a))"
   ]
  },
  {
   "cell_type": "code",
   "execution_count": 72,
   "metadata": {},
   "outputs": [
    {
     "data": {
      "text/latex": [
       "$\\displaystyle \\int\\limits_{a}^{b} f{\\left(x \\right)}\\, dx$"
      ],
      "text/plain": [
       "Integral(f(x), (x, a, b))"
      ]
     },
     "execution_count": 72,
     "metadata": {},
     "output_type": "execute_result"
    }
   ],
   "source": [
    "x, a, b = symbols(\"x,a,b\")\n",
    "f = Function(\"f\")\n",
    "f(x).integrate((x,a,b))"
   ]
  },
  {
   "cell_type": "markdown",
   "metadata": {},
   "source": [
    "We start with a quadratic polynomical and take a derivative:"
   ]
  },
  {
   "cell_type": "code",
   "execution_count": 73,
   "metadata": {},
   "outputs": [
    {
     "data": {
      "text/latex": [
       "$\\displaystyle 2 a x + b$"
      ],
      "text/plain": [
       "2*a*x + b"
      ]
     },
     "execution_count": 73,
     "metadata": {},
     "output_type": "execute_result"
    }
   ],
   "source": [
    "x, a, b, c = symbols(\"x,a,b,c\")\n",
    "p = a*x**2 + b*x + c\n",
    "dpdx = diff(p,x)\n",
    "dpdx"
   ]
  },
  {
   "cell_type": "markdown",
   "metadata": {},
   "source": [
    "Now we integrate to try and retrieve the function we started with:"
   ]
  },
  {
   "cell_type": "code",
   "execution_count": 74,
   "metadata": {},
   "outputs": [
    {
     "data": {
      "text/latex": [
       "$\\displaystyle a x^{2} + b x$"
      ],
      "text/plain": [
       "a*x**2 + b*x"
      ]
     },
     "execution_count": 74,
     "metadata": {},
     "output_type": "execute_result"
    }
   ],
   "source": [
    "p1 = integrate(dpdx,x)\n",
    "p1"
   ]
  },
  {
   "cell_type": "markdown",
   "metadata": {},
   "source": [
    "**Note**: the integration constant is zero by default and thus needs to be added in by hand"
   ]
  },
  {
   "cell_type": "code",
   "execution_count": 75,
   "metadata": {},
   "outputs": [
    {
     "data": {
      "text/latex": [
       "$\\displaystyle a x^{2} + b x + c$"
      ],
      "text/plain": [
       "a*x**2 + b*x + c"
      ]
     },
     "execution_count": 75,
     "metadata": {},
     "output_type": "execute_result"
    }
   ],
   "source": [
    "p1 = p1 + c\n",
    "p1"
   ]
  },
  {
   "cell_type": "markdown",
   "metadata": {},
   "source": [
    "#### Indefinite, definite and improper integrals\n",
    "\n",
    "$$f(x)=\\int \\frac{1}{x^2}$$"
   ]
  },
  {
   "cell_type": "code",
   "execution_count": 76,
   "metadata": {},
   "outputs": [
    {
     "data": {
      "text/latex": [
       "$\\displaystyle - \\frac{1}{x}$"
      ],
      "text/plain": [
       "-1/x"
      ]
     },
     "execution_count": 76,
     "metadata": {},
     "output_type": "execute_result"
    }
   ],
   "source": [
    "integrate(1/x**2,x)"
   ]
  },
  {
   "cell_type": "code",
   "execution_count": 77,
   "metadata": {},
   "outputs": [
    {
     "data": {
      "image/png": "[encoded data removed]",
      "text/plain": [
       "<Figure size 432x288 with 1 Axes>"
      ]
     },
     "metadata": {
      "needs_background": "light"
     },
     "output_type": "display_data"
    },
    {
     "data": {
      "text/plain": [
       "<sympy.plotting.plot.Plot at 0x11ad42940>"
      ]
     },
     "execution_count": 77,
     "metadata": {},
     "output_type": "execute_result"
    }
   ],
   "source": [
    "plot(1/x**2, (x, 1, 2))"
   ]
  },
  {
   "cell_type": "code",
   "execution_count": 78,
   "metadata": {},
   "outputs": [
    {
     "data": {
      "text/latex": [
       "$\\displaystyle \\frac{1}{2}$"
      ],
      "text/plain": [
       "1/2"
      ]
     },
     "execution_count": 78,
     "metadata": {},
     "output_type": "execute_result"
    }
   ],
   "source": [
    "integrate(1/x**2,(x,1,2))"
   ]
  },
  {
   "cell_type": "code",
   "execution_count": 79,
   "metadata": {},
   "outputs": [
    {
     "data": {
      "text/latex": [
       "$\\displaystyle 1$"
      ],
      "text/plain": [
       "1"
      ]
     },
     "execution_count": 79,
     "metadata": {},
     "output_type": "execute_result"
    }
   ],
   "source": [
    "integrate(1/x**2,(x, 1, oo))"
   ]
  },
  {
   "cell_type": "markdown",
   "metadata": {},
   "source": [
    "$$\\int_0^\\inf \\frac{1}{1 + x^4}$$"
   ]
  },
  {
   "cell_type": "code",
   "execution_count": 80,
   "metadata": {},
   "outputs": [
    {
     "data": {
      "image/png": "[encoded data removed]",
      "text/plain": [
       "<Figure size 432x288 with 1 Axes>"
      ]
     },
     "metadata": {
      "needs_background": "light"
     },
     "output_type": "display_data"
    },
    {
     "data": {
      "text/plain": [
       "<sympy.plotting.plot.Plot at 0x11e070040>"
      ]
     },
     "execution_count": 80,
     "metadata": {},
     "output_type": "execute_result"
    }
   ],
   "source": [
    "plot(1/(1 + x**4), (x, 0, 10))"
   ]
  },
  {
   "cell_type": "code",
   "execution_count": 81,
   "metadata": {},
   "outputs": [
    {
     "data": {
      "text/latex": [
       "$\\displaystyle \\frac{\\sqrt{2} \\pi}{4}$"
      ],
      "text/plain": [
       "sqrt(2)*pi/4"
      ]
     },
     "execution_count": 81,
     "metadata": {},
     "output_type": "execute_result"
    }
   ],
   "source": [
    "integrate(1/(1 + x**4), (x, 0, oo))"
   ]
  },
  {
   "cell_type": "markdown",
   "metadata": {},
   "source": [
    "Of course not all integrals can be computed symbolically:"
   ]
  },
  {
   "cell_type": "code",
   "execution_count": 82,
   "metadata": {},
   "outputs": [
    {
     "data": {
      "text/latex": [
       "$\\displaystyle \\int \\sin{\\left(\\sinh{\\left(x \\right)} \\right)}\\, dx$"
      ],
      "text/plain": [
       "Integral(sin(sinh(x)), x)"
      ]
     },
     "execution_count": 82,
     "metadata": {},
     "output_type": "execute_result"
    }
   ],
   "source": [
    "integrate(sin(sinh(x)), x)"
   ]
  },
  {
   "cell_type": "markdown",
   "metadata": {},
   "source": [
    "### Compute with Distributions\n",
    "#### Heaviside Distribution\n",
    "\n",
    "Heaviside function $\\theta(x)$ has the following properties:\n",
    "1. $\\frac{d}{dx}\\theta(x) = \\delta(x)$\n",
    "2. $\\theta(x) = \\begin{cases} 1 & x \\geq 0\\\\ 0 & x < 0 \\end{cases}$\n",
    "3. $\\frac{d}{dx}\\max(x,0)=\\theta(x)$"
   ]
  },
  {
   "cell_type": "code",
   "execution_count": 83,
   "metadata": {},
   "outputs": [
    {
     "data": {
      "text/latex": [
       "$\\displaystyle 1$"
      ],
      "text/plain": [
       "1"
      ]
     },
     "execution_count": 83,
     "metadata": {},
     "output_type": "execute_result"
    }
   ],
   "source": [
    "Heaviside(9)"
   ]
  },
  {
   "cell_type": "code",
   "execution_count": 84,
   "metadata": {},
   "outputs": [
    {
     "data": {
      "text/latex": [
       "$\\displaystyle 0$"
      ],
      "text/plain": [
       "0"
      ]
     },
     "execution_count": 84,
     "metadata": {},
     "output_type": "execute_result"
    }
   ],
   "source": [
    "Heaviside(-9)"
   ]
  },
  {
   "cell_type": "markdown",
   "metadata": {},
   "source": [
    "There is some controversy about the behavior at $x=0$, Mathematica defines $\\theta(0)=1$, but Maple uses $\\theta(0)=\\text{undefined}$. Different application areas may have specific conventions. For example, in control theory, it is common practice to assume $\\theta(0)=0$ to match the Laplace transform of a DiracDelta distribution."
   ]
  },
  {
   "cell_type": "code",
   "execution_count": 85,
   "metadata": {},
   "outputs": [
    {
     "data": {
      "text/latex": [
       "$\\displaystyle \\frac{1}{2}$"
      ],
      "text/plain": [
       "1/2"
      ]
     },
     "execution_count": 85,
     "metadata": {},
     "output_type": "execute_result"
    }
   ],
   "source": [
    "Heaviside(0,)"
   ]
  },
  {
   "cell_type": "markdown",
   "metadata": {},
   "source": [
    "To specify the value of Heaviside at $x=0$, a second argument can be given. Omit this 2nd argument or pass None to recover the default behavior."
   ]
  },
  {
   "cell_type": "code",
   "execution_count": 86,
   "metadata": {},
   "outputs": [
    {
     "data": {
      "text/latex": [
       "$\\displaystyle \\frac{1}{2}$"
      ],
      "text/plain": [
       "1/2"
      ]
     },
     "execution_count": 86,
     "metadata": {},
     "output_type": "execute_result"
    }
   ],
   "source": [
    "Heaviside(0, S.Half)"
   ]
  },
  {
   "cell_type": "code",
   "execution_count": 87,
   "metadata": {},
   "outputs": [
    {
     "data": {
      "image/png": "[encoded data removed]",
      "text/plain": [
       "<Figure size 432x288 with 1 Axes>"
      ]
     },
     "metadata": {
      "needs_background": "light"
     },
     "output_type": "display_data"
    },
    {
     "data": {
      "text/plain": [
       "<sympy.plotting.plot.Plot at 0x11e24d190>"
      ]
     },
     "execution_count": 87,
     "metadata": {},
     "output_type": "execute_result"
    }
   ],
   "source": [
    "x = symbols(\"x \")\n",
    "y = Heaviside(x)\n",
    "plot(y, (x, -1, 1))"
   ]
  },
  {
   "cell_type": "markdown",
   "metadata": {},
   "source": [
    "#### Dirac Distribution\n",
    "\n",
    "DiracDelta function $\\delta(x)$ has the following properties:\n",
    "\n",
    "1. $\\frac{d}{dx}\\theta(x)=\\delta(x)$\n",
    "2. $\\int_{a-\\epsilon}^{a+\\epsilon}\\delta(x-a)f(x)=f(a)$\n",
    "3. $\\dots$"
   ]
  },
  {
   "cell_type": "code",
   "execution_count": 88,
   "metadata": {},
   "outputs": [
    {
     "data": {
      "text/latex": [
       "$\\displaystyle \\delta\\left(x\\right)$"
      ],
      "text/plain": [
       "DiracDelta(x)"
      ]
     },
     "execution_count": 88,
     "metadata": {},
     "output_type": "execute_result"
    }
   ],
   "source": [
    "dydx = diff(y)\n",
    "dydx"
   ]
  },
  {
   "cell_type": "code",
   "execution_count": 89,
   "metadata": {},
   "outputs": [
    {
     "data": {
      "text/latex": [
       "$\\displaystyle 1$"
      ],
      "text/plain": [
       "1"
      ]
     },
     "execution_count": 89,
     "metadata": {},
     "output_type": "execute_result"
    }
   ],
   "source": [
    "integrate(dydx,(x,-.1,.1))"
   ]
  },
  {
   "cell_type": "code",
   "execution_count": 90,
   "metadata": {},
   "outputs": [
    {
     "data": {
      "text/latex": [
       "$\\displaystyle 0$"
      ],
      "text/plain": [
       "0"
      ]
     },
     "execution_count": 90,
     "metadata": {},
     "output_type": "execute_result"
    }
   ],
   "source": [
    "integrate(dydx,(x,.1,.2))"
   ]
  },
  {
   "cell_type": "code",
   "execution_count": 91,
   "metadata": {},
   "outputs": [
    {
     "data": {
      "image/png": "[encoded data removed]",
      "text/plain": [
       "<Figure size 432x288 with 1 Axes>"
      ]
     },
     "metadata": {
      "needs_background": "light"
     },
     "output_type": "display_data"
    },
    {
     "data": {
      "text/plain": [
       "<sympy.plotting.plot.Plot at 0x11e2cecd0>"
      ]
     },
     "execution_count": 91,
     "metadata": {},
     "output_type": "execute_result"
    }
   ],
   "source": [
    "x = symbols(\"x \")\n",
    "y = DiracDelta(x)\n",
    "plot(y, (x, -1, 1))"
   ]
  },
  {
   "cell_type": "code",
   "execution_count": 92,
   "metadata": {},
   "outputs": [
    {
     "data": {
      "text/latex": [
       "$\\displaystyle \\delta\\left(0\\right)$"
      ],
      "text/plain": [
       "DiracDelta(0)"
      ]
     },
     "execution_count": 92,
     "metadata": {},
     "output_type": "execute_result"
    }
   ],
   "source": [
    "DiracDelta(0)"
   ]
  },
  {
   "cell_type": "markdown",
   "metadata": {},
   "source": [
    "## Ordinary differential equations (ODEs)\n",
    "\n",
    "Example: $y''+4y=e^x$"
   ]
  },
  {
   "cell_type": "code",
   "execution_count": 93,
   "metadata": {},
   "outputs": [
    {
     "data": {
      "text/latex": [
       "$\\displaystyle f{\\left(x \\right)} = C_{1} \\sin{\\left(2 x \\right)} + C_{2} \\cos{\\left(2 x \\right)} + \\frac{e^{x}}{5}$"
      ],
      "text/plain": [
       "Eq(f(x), C1*sin(2*x) + C2*cos(2*x) + exp(x)/5)"
      ]
     },
     "execution_count": 93,
     "metadata": {},
     "output_type": "execute_result"
    }
   ],
   "source": [
    "x = symbols(\"x \")\n",
    "f = Function('f')\n",
    "dsolve(Derivative(f(x), x, x) + 4*f(x) - exp(x), f(x))"
   ]
  },
  {
   "cell_type": "markdown",
   "metadata": {},
   "source": [
    "We can also add initial conditions, e.g. $y(0)=1$, $y'(0)=0$:"
   ]
  },
  {
   "cell_type": "code",
   "execution_count": 94,
   "metadata": {},
   "outputs": [
    {
     "data": {
      "text/latex": [
       "$\\displaystyle f{\\left(x \\right)} = \\frac{e^{x}}{5} - \\frac{\\sin{\\left(2 x \\right)}}{10} + \\frac{4 \\cos{\\left(2 x \\right)}}{5}$"
      ],
      "text/plain": [
       "Eq(f(x), exp(x)/5 - sin(2*x)/10 + 4*cos(2*x)/5)"
      ]
     },
     "execution_count": 94,
     "metadata": {},
     "output_type": "execute_result"
    }
   ],
   "source": [
    "dsolve(Derivative(f(x), x, x) + 4*f(x) - exp(x), f(x), ics={f(0): 1, f(x).diff(x).subs(x, 0): 0})"
   ]
  },
  {
   "cell_type": "markdown",
   "metadata": {},
   "source": [
    "**Exercise**: Solve the ODE of [Bernoulli type](https://en.wikipedia.org/wiki/Bernoulli_differential_equation) $y^3 - x^2 + x y^2 y' = 0$ with initial condition $y(1)=1$."
   ]
  },
  {
   "cell_type": "code",
   "execution_count": 96,
   "metadata": {},
   "outputs": [],
   "source": [
    "x = Symbol('x')\n",
    "f = Function('f')\n",
    "#dsolve(f(x)**4-x**2+x*f(x)**2*Derivative(f(x), x), f(x), ics={f(1): 1})"
   ]
  },
  {
   "cell_type": "markdown",
   "metadata": {},
   "source": [
    "### Systems of ODEs\n",
    "\n",
    "Example: $f'=3f + 4g$, $g'=-4f+3g$"
   ]
  },
  {
   "cell_type": "code",
   "execution_count": 98,
   "metadata": {},
   "outputs": [
    {
     "data": {
      "text/plain": [
       "[Eq(f(x), C1*exp(3*x)*sin(4*x) + C2*exp(3*x)*cos(4*x)),\n",
       " Eq(g(x), C1*exp(3*x)*cos(4*x) - C2*exp(3*x)*sin(4*x))]"
      ]
     },
     "execution_count": 98,
     "metadata": {},
     "output_type": "execute_result"
    }
   ],
   "source": [
    "x = Symbol('x')\n",
    "f = Function('f')\n",
    "g = Function('g')\n",
    "eq = (Eq(Derivative(f(x),x),3*f(x)+4*g(x)),Eq(Derivative(g(x),x),-4*f(x)+3*g(x)))\n",
    "dsolve(eq)"
   ]
  },
  {
   "cell_type": "markdown",
   "metadata": {},
   "source": [
    "Again we can add initial conditions, e.g. $f(0)=0$, $g(0)=1$:"
   ]
  },
  {
   "cell_type": "code",
   "execution_count": 99,
   "metadata": {},
   "outputs": [],
   "source": [
    "S = dsolve(eq, ics={f(0): 0, g(0): 1})"
   ]
  },
  {
   "cell_type": "code",
   "execution_count": 100,
   "metadata": {},
   "outputs": [
    {
     "data": {
      "text/latex": [
       "$\\displaystyle e^{3 x} \\sin{\\left(4 x \\right)}$"
      ],
      "text/plain": [
       "exp(3*x)*sin(4*x)"
      ]
     },
     "execution_count": 100,
     "metadata": {},
     "output_type": "execute_result"
    }
   ],
   "source": [
    "S[0].rhs"
   ]
  },
  {
   "cell_type": "code",
   "execution_count": 101,
   "metadata": {},
   "outputs": [
    {
     "data": {
      "text/latex": [
       "$\\displaystyle e^{3 x} \\cos{\\left(4 x \\right)}$"
      ],
      "text/plain": [
       "exp(3*x)*cos(4*x)"
      ]
     },
     "execution_count": 101,
     "metadata": {},
     "output_type": "execute_result"
    }
   ],
   "source": [
    "S[1].rhs"
   ]
  },
  {
   "cell_type": "markdown",
   "metadata": {},
   "source": [
    "## Code generation\n",
    "\n",
    "SymPy allows one to [generate directly compilable and executable code](https://docs.sympy.org/latest/modules/codegen.html) in a variety of different programming languages from SymPy expressions. In addition, there are functions that generate Python importable objects that can evaluate SymPy expressions very efficiently.\n",
    "\n",
    "- [tutorial: https://www.sympy.org/scipy-2017-codegen-tutorial/](https://www.sympy.org/scipy-2017-codegen-tutorial/)"
   ]
  },
  {
   "cell_type": "markdown",
   "metadata": {},
   "source": [
    "### Code Printer\n",
    "\n",
    "Code printer convert SymPy expressions into the target language. A list of supported languages is [here](https://docs.sympy.org/latest/modules/printing.html). "
   ]
  },
  {
   "cell_type": "code",
   "execution_count": 102,
   "metadata": {},
   "outputs": [
    {
     "name": "stdout",
     "output_type": "stream",
     "text": [
      " 3⋅x         \n",
      "ℯ   ⋅cos(4⋅x)\n"
     ]
    }
   ],
   "source": [
    "pretty_print(S[1].rhs)"
   ]
  },
  {
   "cell_type": "code",
   "execution_count": 103,
   "metadata": {},
   "outputs": [
    {
     "name": "stdout",
     "output_type": "stream",
     "text": [
      " 3⋅x         \n",
      "ℯ   ⋅cos(4⋅x)\n"
     ]
    }
   ],
   "source": [
    "pprint(S[1].rhs)"
   ]
  },
  {
   "cell_type": "code",
   "execution_count": 104,
   "metadata": {},
   "outputs": [
    {
     "name": "stdout",
     "output_type": "stream",
     "text": [
      "f{\\left(x \\right)} = e^{3 x} \\sin{\\left(4 x \\right)}\n"
     ]
    }
   ],
   "source": [
    "print_latex(S[0])"
   ]
  },
  {
   "cell_type": "code",
   "execution_count": 105,
   "metadata": {},
   "outputs": [
    {
     "data": {
      "text/plain": [
       "'f{\\\\left(x \\\\right)} = e^{3 x} \\\\sin{\\\\left(4 x \\\\right)}'"
      ]
     },
     "execution_count": 105,
     "metadata": {},
     "output_type": "execute_result"
    }
   ],
   "source": [
    "latex(S[0])"
   ]
  },
  {
   "cell_type": "code",
   "execution_count": 106,
   "metadata": {},
   "outputs": [
    {
     "name": "stdout",
     "output_type": "stream",
     "text": [
      "exp(3*x)*cos(4*x)\n"
     ]
    }
   ],
   "source": [
    "print_ccode(S[1].rhs)"
   ]
  },
  {
   "cell_type": "code",
   "execution_count": 107,
   "metadata": {},
   "outputs": [
    {
     "data": {
      "text/plain": [
       "'exp(3*x)*cos(4*x)'"
      ]
     },
     "execution_count": 107,
     "metadata": {},
     "output_type": "execute_result"
    }
   ],
   "source": [
    "ccode(S[1].rhs)"
   ]
  },
  {
   "cell_type": "code",
   "execution_count": 108,
   "metadata": {},
   "outputs": [
    {
     "data": {
      "text/plain": [
       "'Exp[3*x]*Cos[4*x]'"
      ]
     },
     "execution_count": 108,
     "metadata": {},
     "output_type": "execute_result"
    }
   ],
   "source": [
    "mathematica_code(S[1].rhs)"
   ]
  },
  {
   "cell_type": "code",
   "execution_count": 109,
   "metadata": {},
   "outputs": [
    {
     "data": {
      "text/plain": [
       "'Math.exp(3*x)*Math.cos(4*x)'"
      ]
     },
     "execution_count": 109,
     "metadata": {},
     "output_type": "execute_result"
    }
   ],
   "source": [
    "jscode(S[1].rhs)"
   ]
  },
  {
   "cell_type": "code",
   "execution_count": 110,
   "metadata": {},
   "outputs": [
    {
     "data": {
      "text/plain": [
       "'      exp(3.0d0*x)*cos(4.0d0*x)'"
      ]
     },
     "execution_count": 110,
     "metadata": {},
     "output_type": "execute_result"
    }
   ],
   "source": [
    "fcode(S[1].rhs)"
   ]
  },
  {
   "cell_type": "code",
   "execution_count": 111,
   "metadata": {},
   "outputs": [
    {
     "data": {
      "text/plain": [
       "'exp(3*x).*cos(4*x)'"
      ]
     },
     "execution_count": 111,
     "metadata": {},
     "output_type": "execute_result"
    }
   ],
   "source": [
    "julia_code(S[1].rhs)"
   ]
  },
  {
   "cell_type": "code",
   "execution_count": 112,
   "metadata": {},
   "outputs": [
    {
     "data": {
      "text/plain": [
       "'exp(3*x).*cos(4*x)'"
      ]
     },
     "execution_count": 112,
     "metadata": {},
     "output_type": "execute_result"
    }
   ],
   "source": [
    "octave_code(S[1].rhs)"
   ]
  },
  {
   "cell_type": "code",
   "execution_count": 113,
   "metadata": {},
   "outputs": [
    {
     "data": {
      "text/plain": [
       "'(3*x).exp()*(4*x).cos()'"
      ]
     },
     "execution_count": 113,
     "metadata": {},
     "output_type": "execute_result"
    }
   ],
   "source": [
    "rust_code(S[1].rhs)"
   ]
  },
  {
   "cell_type": "code",
   "execution_count": 114,
   "metadata": {},
   "outputs": [
    {
     "data": {
      "text/plain": [
       "'math.exp(3*x)*math.cos(4*x)'"
      ]
     },
     "execution_count": 114,
     "metadata": {},
     "output_type": "execute_result"
    }
   ],
   "source": [
    "pycode(S[1].rhs)"
   ]
  },
  {
   "cell_type": "code",
   "execution_count": 115,
   "metadata": {},
   "outputs": [
    {
     "name": "stdout",
     "output_type": "stream",
     "text": [
      "x = Symbol('x')\n",
      "e = exp(3*x)*cos(4*x)\n"
     ]
    }
   ],
   "source": [
    "print_python(S[1].rhs)"
   ]
  },
  {
   "cell_type": "markdown",
   "metadata": {},
   "source": [
    "**Exercise**: Plotting SymPy functions with JavaScript\n",
    "\n",
    "In this call we load the [Chart.js library](https://www.chartjs.org):"
   ]
  },
  {
   "cell_type": "markdown",
   "metadata": {},
   "source": [
    "%%javascript\n",
    "# # require.config({\n",
    "# #     paths: {\n",
    "# #         'chartjs': '//cdnjs.cloudflare.com/ajax/libs/Chart.js/2.6.0/Chart'\n",
    "# #     }\n",
    "# # });"
   ]
  },
  {
   "cell_type": "markdown",
   "metadata": {},
   "source": [
    "Here is some JavaScript to do the plotting. The code will take two mathematical expressions in JavaScript and plot the functions:"
   ]
  },
  {
   "cell_type": "code",
   "execution_count": 116,
   "metadata": {},
   "outputs": [],
   "source": [
    "js_template = \"\"\"\\\n",
    "require(['chartjs'], function(chartjs){{\n",
    "function f(x) {{\n",
    "    return {top_function}\n",
    "}};\n",
    "function g(x) {{\n",
    "    return {bottom_function}\n",
    "}};\n",
    "function linspace(a,b,n) {{\n",
    "    // From: https://gist.github.com/joates/6584908\n",
    "    if(typeof n === \"undefined\") n = Math.max(Math.round(b-a)+1,1);\n",
    "    if(n<2) {{ return n===1?[a]:[]; }}\n",
    "    var i,ret = Array(n);\n",
    "    n--;\n",
    "    for(i=n;i>=0;i--) {{ ret[i] = (i*b+(n-i)*a)/n; }}\n",
    "    return ret;\n",
    "}}\n",
    "var ctx = document.getElementById(\"{chart_id}\");\n",
    "var data = {{\n",
    "    labels: linspace(-7.5, 7.5, 500),\n",
    "    datasets: [{{\n",
    "        label: \"top\",\n",
    "        function: f,\n",
    "        borderColor: \"rgba(75, 192, 192, 1)\",\n",
    "        data: [],\n",
    "        fill: false,\n",
    "        lineTension: 0,\n",
    "    }},\n",
    "    {{\n",
    "        label: \"bottom\",\n",
    "        function: g,\n",
    "        borderColor: \"rgba(153, 102, 255, 1)\",\n",
    "        data: [],\n",
    "        fill: false,\n",
    "        lineTension: 0,\n",
    "    }}]\n",
    "}};\n",
    "chartjs.Chart.pluginService.register({{\n",
    "    beforeInit: function(chart) {{\n",
    "        var data = chart.config.data;\n",
    "        for (var i = 0; i < data.datasets.length; i++) {{\n",
    "            for (var j = 0; j < data.labels.length; j++) {{\n",
    "                var fct = data.datasets[i].function,\n",
    "                    x = data.labels[j],\n",
    "                    y = fct(x);\n",
    "                data.datasets[i].data.push(y);\n",
    "            }}\n",
    "        }}\n",
    "    }}\n",
    "}});\n",
    "var myBarChart = new chartjs.Chart(ctx, {{\n",
    "    type: 'line',\n",
    "    data: data,\n",
    "    options: {{\n",
    "        scales: {{\n",
    "            yAxes: [{{\n",
    "                ticks: {{\n",
    "                    beginAtZero:true\n",
    "                }}\n",
    "            }}]\n",
    "        }}\n",
    "    }}\n",
    "}});\n",
    "}});\n",
    "element.append(\"<canvas id='{chart_id}' width='400'></canvas>\");\\\n",
    "\"\"\""
   ]
  },
  {
   "cell_type": "code",
   "execution_count": 117,
   "metadata": {},
   "outputs": [
    {
     "name": "stdout",
     "output_type": "stream",
     "text": [
      "require(['chartjs'], function(chartjs){\n",
      "function f(x) {\n",
      "    return *** TODO ***\n",
      "};\n",
      "function g(x) {\n",
      "    return *** TODO ***\n",
      "};\n",
      "function linspace(a,b,n) {\n",
      "    // From: https://gist.github.com/joates/6584908\n",
      "    if(typeof n === \"undefined\") n = Math.max(Math.round(b-a)+1,1);\n",
      "    if(n<2) { return n===1?[a]:[]; }\n",
      "    var i,ret = Array(n);\n",
      "    n--;\n",
      "    for(i=n;i>=0;i--) { ret[i] = (i*b+(n-i)*a)/n; }\n",
      "    return ret;\n",
      "}\n",
      "var ctx = document.getElementById(\"*** TODO ***\");\n",
      "var data = {\n",
      "    labels: linspace(-7.5, 7.5, 500),\n",
      "    datasets: [{\n",
      "        label: \"top\",\n",
      "        function: f,\n",
      "        borderColor: \"rgba(75, 192, 192, 1)\",\n",
      "        data: [],\n",
      "        fill: false,\n",
      "        lineTension: 0,\n",
      "    },\n",
      "    {\n",
      "        label: \"bottom\",\n",
      "        function: g,\n",
      "        borderColor: \"rgba(153, 102, 255, 1)\",\n",
      "        data: [],\n",
      "        fill: false,\n",
      "        lineTension: 0,\n",
      "    }]\n",
      "};\n",
      "chartjs.Chart.pluginService.register({\n",
      "    beforeInit: function(chart) {\n",
      "        var data = chart.config.data;\n",
      "        for (var i = 0; i < data.datasets.length; i++) {\n",
      "            for (var j = 0; j < data.labels.length; j++) {\n",
      "                var fct = data.datasets[i].function,\n",
      "                    x = data.labels[j],\n",
      "                    y = fct(x);\n",
      "                data.datasets[i].data.push(y);\n",
      "            }\n",
      "        }\n",
      "    }\n",
      "});\n",
      "var myBarChart = new chartjs.Chart(ctx, {\n",
      "    type: 'line',\n",
      "    data: data,\n",
      "    options: {\n",
      "        scales: {\n",
      "            yAxes: [{\n",
      "                ticks: {\n",
      "                    beginAtZero:true\n",
      "                }\n",
      "            }]\n",
      "        }\n",
      "    }\n",
      "});\n",
      "});\n",
      "element.append(\"<canvas id='*** TODO ***' width='400'></canvas>\");\n"
     ]
    }
   ],
   "source": [
    "print(js_template.format(top_function='*** TODO ***', \n",
    "                         bottom_function='*** TODO ***', \n",
    "                         chart_id='*** TODO ***'))"
   ]
  },
  {
   "cell_type": "markdown",
   "metadata": {},
   "source": [
    "SymPy functions now can be plotted by filling in the two missing expressions and the id in the above boilerplate code. Then call the JavaScript display function on that code: "
   ]
  },
  {
   "cell_type": "code",
   "execution_count": 118,
   "metadata": {},
   "outputs": [],
   "source": [
    "from IPython.display import Javascript"
   ]
  },
  {
   "cell_type": "code",
   "execution_count": 119,
   "metadata": {},
   "outputs": [
    {
     "data": {
      "application/javascript": [
       "require(['chartjs'], function(chartjs){\n",
       "function f(x) {\n",
       "    return Math.sin(x)\n",
       "};\n",
       "function g(x) {\n",
       "    return Math.cos(x)\n",
       "};\n",
       "function linspace(a,b,n) {\n",
       "    // From: https://gist.github.com/joates/6584908\n",
       "    if(typeof n === \"undefined\") n = Math.max(Math.round(b-a)+1,1);\n",
       "    if(n<2) { return n===1?[a]:[]; }\n",
       "    var i,ret = Array(n);\n",
       "    n--;\n",
       "    for(i=n;i>=0;i--) { ret[i] = (i*b+(n-i)*a)/n; }\n",
       "    return ret;\n",
       "}\n",
       "var ctx = document.getElementById(\"sincos\");\n",
       "var data = {\n",
       "    labels: linspace(-7.5, 7.5, 500),\n",
       "    datasets: [{\n",
       "        label: \"top\",\n",
       "        function: f,\n",
       "        borderColor: \"rgba(75, 192, 192, 1)\",\n",
       "        data: [],\n",
       "        fill: false,\n",
       "        lineTension: 0,\n",
       "    },\n",
       "    {\n",
       "        label: \"bottom\",\n",
       "        function: g,\n",
       "        borderColor: \"rgba(153, 102, 255, 1)\",\n",
       "        data: [],\n",
       "        fill: false,\n",
       "        lineTension: 0,\n",
       "    }]\n",
       "};\n",
       "chartjs.Chart.pluginService.register({\n",
       "    beforeInit: function(chart) {\n",
       "        var data = chart.config.data;\n",
       "        for (var i = 0; i < data.datasets.length; i++) {\n",
       "            for (var j = 0; j < data.labels.length; j++) {\n",
       "                var fct = data.datasets[i].function,\n",
       "                    x = data.labels[j],\n",
       "                    y = fct(x);\n",
       "                data.datasets[i].data.push(y);\n",
       "            }\n",
       "        }\n",
       "    }\n",
       "});\n",
       "var myBarChart = new chartjs.Chart(ctx, {\n",
       "    type: 'line',\n",
       "    data: data,\n",
       "    options: {\n",
       "        scales: {\n",
       "            yAxes: [{\n",
       "                ticks: {\n",
       "                    beginAtZero:true\n",
       "                }\n",
       "            }]\n",
       "        }\n",
       "    }\n",
       "});\n",
       "});\n",
       "element.append(\"<canvas id='sincos' width='400'></canvas>\");"
      ],
      "text/plain": [
       "<IPython.core.display.Javascript object>"
      ]
     },
     "execution_count": 119,
     "metadata": {},
     "output_type": "execute_result"
    }
   ],
   "source": [
    "x=symbols('x')\n",
    "f1=sin(x)\n",
    "f2=cos(x)\n",
    "Javascript(js_template.format(top_function=jscode(f1), \n",
    "                              bottom_function=jscode(f2), \n",
    "                              chart_id='sincos'))"
   ]
  },
  {
   "cell_type": "markdown",
   "metadata": {},
   "source": [
    "### Lamdify SymPy expressions\n",
    "\n",
    "Here we convert SymPy expression evaluation to Python Lambda functions. SymPy evaluation is arbitrary precision and therefore very slow. In many cases it may be usefull to first create a Lambda function and then evaluate the function numerically.\n",
    "\n",
    "Lets create a SymPy expression an record the time for the symbolic evaluation:"
   ]
  },
  {
   "cell_type": "code",
   "execution_count": 120,
   "metadata": {},
   "outputs": [
    {
     "data": {
      "text/latex": [
       "$\\displaystyle 3 x^{2} + \\log{\\left(x^{2} + y^{2} + 1 \\right)}$"
      ],
      "text/plain": [
       "3*x**2 + log(x**2 + y**2 + 1)"
      ]
     },
     "execution_count": 120,
     "metadata": {},
     "output_type": "execute_result"
    }
   ],
   "source": [
    "y, y = symbols('x y')\n",
    "expr = 3*x**2 + log(x**2 + y**2 + 1)\n",
    "expr"
   ]
  },
  {
   "cell_type": "code",
   "execution_count": 121,
   "metadata": {},
   "outputs": [
    {
     "data": {
      "text/latex": [
       "$\\displaystyle 874.627544390489$"
      ],
      "text/plain": [
       "874.627544390489"
      ]
     },
     "execution_count": 121,
     "metadata": {},
     "output_type": "execute_result"
    }
   ],
   "source": [
    "expr.subs({x: 17, y: 42}).evalf()"
   ]
  },
  {
   "cell_type": "code",
   "execution_count": 122,
   "metadata": {},
   "outputs": [
    {
     "name": "stdout",
     "output_type": "stream",
     "text": [
      "161 µs ± 1.91 µs per loop (mean ± std. dev. of 7 runs, 10000 loops each)\n"
     ]
    }
   ],
   "source": [
    "%timeit expr.subs({x: 17, y: 42}).evalf()"
   ]
  },
  {
   "cell_type": "markdown",
   "metadata": {},
   "source": [
    "Now we create a python lambda function and compare the time for numeric evaluation."
   ]
  },
  {
   "cell_type": "code",
   "execution_count": 123,
   "metadata": {},
   "outputs": [
    {
     "data": {
      "text/plain": [
       "874.6275443904885"
      ]
     },
     "execution_count": 123,
     "metadata": {},
     "output_type": "execute_result"
    }
   ],
   "source": [
    "import math\n",
    "f = lambda x, y: 3*x**2 + math.log(x**2 + y**2 + 1)\n",
    "f(17,42)"
   ]
  },
  {
   "cell_type": "code",
   "execution_count": 124,
   "metadata": {},
   "outputs": [
    {
     "name": "stdout",
     "output_type": "stream",
     "text": [
      "1.57 µs ± 231 ns per loop (mean ± std. dev. of 7 runs, 1000000 loops each)\n"
     ]
    }
   ],
   "source": [
    "%timeit f(17,42)"
   ]
  },
  {
   "cell_type": "markdown",
   "metadata": {},
   "source": [
    "Unsuprisingly, the numeric evaluation is much faster. However, the advantave is deminished by the time we spend coding the python lambda function. Here comes in `lambdify`, that generates python code and execute `eval` on it.  "
   ]
  },
  {
   "cell_type": "code",
   "execution_count": 125,
   "metadata": {},
   "outputs": [
    {
     "name": "stdout",
     "output_type": "stream",
     "text": [
      "1.47 ms ± 23 µs per loop (mean ± std. dev. of 7 runs, 1000 loops each)\n"
     ]
    }
   ],
   "source": [
    "%timeit lambdify([x,y], expr, modules=['math'])(17,42)"
   ]
  },
  {
   "cell_type": "code",
   "execution_count": 126,
   "metadata": {},
   "outputs": [
    {
     "data": {
      "text/plain": [
       "874.6275443904885"
      ]
     },
     "execution_count": 126,
     "metadata": {},
     "output_type": "execute_result"
    }
   ],
   "source": [
    "g=lambdify([x,y], expr, modules=['math'])\n",
    "g(17,42)"
   ]
  },
  {
   "cell_type": "code",
   "execution_count": 127,
   "metadata": {},
   "outputs": [
    {
     "name": "stdout",
     "output_type": "stream",
     "text": [
      "1.37 µs ± 100 ns per loop (mean ± std. dev. of 7 runs, 1000000 loops each)\n"
     ]
    }
   ],
   "source": [
    "%timeit g(17,42)"
   ]
  },
  {
   "cell_type": "markdown",
   "metadata": {},
   "source": [
    "The code generation uses numpy by default (without `modules` parameter). "
   ]
  },
  {
   "cell_type": "code",
   "execution_count": 128,
   "metadata": {},
   "outputs": [
    {
     "data": {
      "text/plain": [
       "array([874.62754439, 900.31920442, 926.38590757, 952.82765322,\n",
       "       979.64444076])"
      ]
     },
     "execution_count": 128,
     "metadata": {},
     "output_type": "execute_result"
    }
   ],
   "source": [
    "g=lambdify([x,y], expr)\n",
    "g(np.linspace(17,18,5),42)"
   ]
  },
  {
   "cell_type": "markdown",
   "metadata": {},
   "source": [
    "We can get a specific function signature from `lambdify`. In the following example, the function expects a tripple as third argument."
   ]
  },
  {
   "cell_type": "code",
   "execution_count": 129,
   "metadata": {},
   "outputs": [
    {
     "data": {
      "text/latex": [
       "$\\displaystyle x y \\left(z_{0} + z_{1} + z_{2}\\right)$"
      ],
      "text/plain": [
       "x*y*(z0 + z1 + z2)"
      ]
     },
     "execution_count": 129,
     "metadata": {},
     "output_type": "execute_result"
    }
   ],
   "source": [
    "z = z1, z2, z3 = symbols('z:3')\n",
    "expr = x*y*(z1+z2+z3)\n",
    "expr"
   ]
  },
  {
   "cell_type": "code",
   "execution_count": 130,
   "metadata": {},
   "outputs": [
    {
     "data": {
      "text/plain": [
       "24"
      ]
     },
     "execution_count": 130,
     "metadata": {},
     "output_type": "execute_result"
    }
   ],
   "source": [
    "lambdify([x,y,z],expr)(1,2,[3,4,5])"
   ]
  },
  {
   "cell_type": "markdown",
   "metadata": {},
   "source": [
    "**Exercise**: Plot $z(x,y)=\\frac{df(x,y)}{dxdy}$ from $f(x,y)=3 x^{2} + \\log{\\left(x^{2} + y^{2} + 1 \\right)}$ "
   ]
  },
  {
   "cell_type": "code",
   "execution_count": 131,
   "metadata": {},
   "outputs": [
    {
     "data": {
      "text/latex": [
       "$\\displaystyle 3 x^{2} + \\log{\\left(x^{2} + y^{2} + 1 \\right)}$"
      ],
      "text/plain": [
       "3*x**2 + log(x**2 + y**2 + 1)"
      ]
     },
     "execution_count": 131,
     "metadata": {},
     "output_type": "execute_result"
    }
   ],
   "source": [
    "y, y = symbols('x y')\n",
    "expr = 3*x**2 + log(x**2 + y**2 + 1)\n",
    "expr"
   ]
  },
  {
   "cell_type": "code",
   "execution_count": 132,
   "metadata": {},
   "outputs": [],
   "source": [
    "d2fdxdy = expr.diff(x,y)\n",
    "xplot = np.outer(np.linspace(-5,5,100),np.ones(100))\n",
    "yplot = xplot.T\n",
    "zplot = lambdify([x, y],d2fdxdy)(xplot,yplot)"
   ]
  },
  {
   "cell_type": "code",
   "execution_count": 133,
   "metadata": {},
   "outputs": [],
   "source": [
    "from mpl_toolkits.mplot3d import Axes3D\n",
    "import matplotlib.pyplot as plt\n",
    "%matplotlib notebook"
   ]
  },
  {
   "cell_type": "code",
   "execution_count": 134,
   "metadata": {},
   "outputs": [
    {
     "data": {
      "application/javascript": [
       "/* Put everything inside the global mpl namespace */\n",
       "/* global mpl */\n",
       "window.mpl = {};\n",
       "\n",
       "mpl.get_websocket_type = function () {\n",
       "    if (typeof WebSocket !== 'undefined') {\n",
       "        return WebSocket;\n",
       "    } else if (typeof MozWebSocket !== 'undefined') {\n",
       "        return MozWebSocket;\n",
       "    } else {\n",
       "        alert(\n",
       "            'Your browser does not have WebSocket support. ' +\n",
       "                'Please try Chrome, Safari or Firefox ≥ 6. ' +\n",
       "                'Firefox 4 and 5 are also supported but you ' +\n",
       "                'have to enable WebSockets in about:config.'\n",
       "        );\n",
       "    }\n",
       "};\n",
       "\n",
       "mpl.figure = function (figure_id, websocket, ondownload, parent_element) {\n",
       "    this.id = figure_id;\n",
       "\n",
       "    this.ws = websocket;\n",
       "\n",
       "    this.supports_binary = this.ws.binaryType !== undefined;\n",
       "\n",
       "    if (!this.supports_binary) {\n",
       "        var warnings = document.getElementById('mpl-warnings');\n",
       "        if (warnings) {\n",
       "            warnings.style.display = 'block';\n",
       "            warnings.textContent =\n",
       "                'This browser does not support binary websocket messages. ' +\n",
       "                'Performance may be slow.';\n",
       "        }\n",
       "    }\n",
       "\n",
       "    this.imageObj = new Image();\n",
       "\n",
       "    this.context = undefined;\n",
       "    this.message = undefined;\n",
       "    this.canvas = undefined;\n",
       "    this.rubberband_canvas = undefined;\n",
       "    this.rubberband_context = undefined;\n",
       "    this.format_dropdown = undefined;\n",
       "\n",
       "    this.image_mode = 'full';\n",
       "\n",
       "    this.root = document.createElement('div');\n",
       "    this.root.setAttribute('style', 'display: inline-block');\n",
       "    this._root_extra_style(this.root);\n",
       "\n",
       "    parent_element.appendChild(this.root);\n",
       "\n",
       "    this._init_header(this);\n",
       "    this._init_canvas(this);\n",
       "    this._init_toolbar(this);\n",
       "\n",
       "    var fig = this;\n",
       "\n",
       "    this.waiting = false;\n",
       "\n",
       "    this.ws.onopen = function () {\n",
       "        fig.send_message('supports_binary', { value: fig.supports_binary });\n",
       "        fig.send_message('send_image_mode', {});\n",
       "        if (fig.ratio !== 1) {\n",
       "            fig.send_message('set_device_pixel_ratio', {\n",
       "                device_pixel_ratio: fig.ratio,\n",
       "            });\n",
       "        }\n",
       "        fig.send_message('refresh', {});\n",
       "    };\n",
       "\n",
       "    this.imageObj.onload = function () {\n",
       "        if (fig.image_mode === 'full') {\n",
       "            // Full images could contain transparency (where diff images\n",
       "            // almost always do), so we need to clear the canvas so that\n",
       "            // there is no ghosting.\n",
       "            fig.context.clearRect(0, 0, fig.canvas.width, fig.canvas.height);\n",
       "        }\n",
       "        fig.context.drawImage(fig.imageObj, 0, 0);\n",
       "    };\n",
       "\n",
       "    this.imageObj.onunload = function () {\n",
       "        fig.ws.close();\n",
       "    };\n",
       "\n",
       "    this.ws.onmessage = this._make_on_message_function(this);\n",
       "\n",
       "    this.ondownload = ondownload;\n",
       "};\n",
       "\n",
       "mpl.figure.prototype._init_header = function () {\n",
       "    var titlebar = document.createElement('div');\n",
       "    titlebar.classList =\n",
       "        'ui-dialog-titlebar ui-widget-header ui-corner-all ui-helper-clearfix';\n",
       "    var titletext = document.createElement('div');\n",
       "    titletext.classList = 'ui-dialog-title';\n",
       "    titletext.setAttribute(\n",
       "        'style',\n",
       "        'width: 100%; text-align: center; padding: 3px;'\n",
       "    );\n",
       "    titlebar.appendChild(titletext);\n",
       "    this.root.appendChild(titlebar);\n",
       "    this.header = titletext;\n",
       "};\n",
       "\n",
       "mpl.figure.prototype._canvas_extra_style = function (_canvas_div) {};\n",
       "\n",
       "mpl.figure.prototype._root_extra_style = function (_canvas_div) {};\n",
       "\n",
       "mpl.figure.prototype._init_canvas = function () {\n",
       "    var fig = this;\n",
       "\n",
       "    var canvas_div = (this.canvas_div = document.createElement('div'));\n",
       "    canvas_div.setAttribute(\n",
       "        'style',\n",
       "        'border: 1px solid #ddd;' +\n",
       "            'box-sizing: content-box;' +\n",
       "            'clear: both;' +\n",
       "            'min-height: 1px;' +\n",
       "            'min-width: 1px;' +\n",
       "            'outline: 0;' +\n",
       "            'overflow: hidden;' +\n",
       "            'position: relative;' +\n",
       "            'resize: both;'\n",
       "    );\n",
       "\n",
       "    function on_keyboard_event_closure(name) {\n",
       "        return function (event) {\n",
       "            return fig.key_event(event, name);\n",
       "        };\n",
       "    }\n",
       "\n",
       "    canvas_div.addEventListener(\n",
       "        'keydown',\n",
       "        on_keyboard_event_closure('key_press')\n",
       "    );\n",
       "    canvas_div.addEventListener(\n",
       "        'keyup',\n",
       "        on_keyboard_event_closure('key_release')\n",
       "    );\n",
       "\n",
       "    this._canvas_extra_style(canvas_div);\n",
       "    this.root.appendChild(canvas_div);\n",
       "\n",
       "    var canvas = (this.canvas = document.createElement('canvas'));\n",
       "    canvas.classList.add('mpl-canvas');\n",
       "    canvas.setAttribute('style', 'box-sizing: content-box;');\n",
       "\n",
       "    this.context = canvas.getContext('2d');\n",
       "\n",
       "    var backingStore =\n",
       "        this.context.backingStorePixelRatio ||\n",
       "        this.context.webkitBackingStorePixelRatio ||\n",
       "        this.context.mozBackingStorePixelRatio ||\n",
       "        this.context.msBackingStorePixelRatio ||\n",
       "        this.context.oBackingStorePixelRatio ||\n",
       "        this.context.backingStorePixelRatio ||\n",
       "        1;\n",
       "\n",
       "    this.ratio = (window.devicePixelRatio || 1) / backingStore;\n",
       "\n",
       "    var rubberband_canvas = (this.rubberband_canvas = document.createElement(\n",
       "        'canvas'\n",
       "    ));\n",
       "    rubberband_canvas.setAttribute(\n",
       "        'style',\n",
       "        'box-sizing: content-box; position: absolute; left: 0; top: 0; z-index: 1;'\n",
       "    );\n",
       "\n",
       "    // Apply a ponyfill if ResizeObserver is not implemented by browser.\n",
       "    if (this.ResizeObserver === undefined) {\n",
       "        if (window.ResizeObserver !== undefined) {\n",
       "            this.ResizeObserver = window.ResizeObserver;\n",
       "        } else {\n",
       "            var obs = _JSXTOOLS_RESIZE_OBSERVER({});\n",
       "            this.ResizeObserver = obs.ResizeObserver;\n",
       "        }\n",
       "    }\n",
       "\n",
       "    this.resizeObserverInstance = new this.ResizeObserver(function (entries) {\n",
       "        var nentries = entries.length;\n",
       "        for (var i = 0; i < nentries; i++) {\n",
       "            var entry = entries[i];\n",
       "            var width, height;\n",
       "            if (entry.contentBoxSize) {\n",
       "                if (entry.contentBoxSize instanceof Array) {\n",
       "                    // Chrome 84 implements new version of spec.\n",
       "                    width = entry.contentBoxSize[0].inlineSize;\n",
       "                    height = entry.contentBoxSize[0].blockSize;\n",
       "                } else {\n",
       "                    // Firefox implements old version of spec.\n",
       "                    width = entry.contentBoxSize.inlineSize;\n",
       "                    height = entry.contentBoxSize.blockSize;\n",
       "                }\n",
       "            } else {\n",
       "                // Chrome <84 implements even older version of spec.\n",
       "                width = entry.contentRect.width;\n",
       "                height = entry.contentRect.height;\n",
       "            }\n",
       "\n",
       "            // Keep the size of the canvas and rubber band canvas in sync with\n",
       "            // the canvas container.\n",
       "            if (entry.devicePixelContentBoxSize) {\n",
       "                // Chrome 84 implements new version of spec.\n",
       "                canvas.setAttribute(\n",
       "                    'width',\n",
       "                    entry.devicePixelContentBoxSize[0].inlineSize\n",
       "                );\n",
       "                canvas.setAttribute(\n",
       "                    'height',\n",
       "                    entry.devicePixelContentBoxSize[0].blockSize\n",
       "                );\n",
       "            } else {\n",
       "                canvas.setAttribute('width', width * fig.ratio);\n",
       "                canvas.setAttribute('height', height * fig.ratio);\n",
       "            }\n",
       "            canvas.setAttribute(\n",
       "                'style',\n",
       "                'width: ' + width + 'px; height: ' + height + 'px;'\n",
       "            );\n",
       "\n",
       "            rubberband_canvas.setAttribute('width', width);\n",
       "            rubberband_canvas.setAttribute('height', height);\n",
       "\n",
       "            // And update the size in Python. We ignore the initial 0/0 size\n",
       "            // that occurs as the element is placed into the DOM, which should\n",
       "            // otherwise not happen due to the minimum size styling.\n",
       "            if (fig.ws.readyState == 1 && width != 0 && height != 0) {\n",
       "                fig.request_resize(width, height);\n",
       "            }\n",
       "        }\n",
       "    });\n",
       "    this.resizeObserverInstance.observe(canvas_div);\n",
       "\n",
       "    function on_mouse_event_closure(name) {\n",
       "        return function (event) {\n",
       "            return fig.mouse_event(event, name);\n",
       "        };\n",
       "    }\n",
       "\n",
       "    rubberband_canvas.addEventListener(\n",
       "        'mousedown',\n",
       "        on_mouse_event_closure('button_press')\n",
       "    );\n",
       "    rubberband_canvas.addEventListener(\n",
       "        'mouseup',\n",
       "        on_mouse_event_closure('button_release')\n",
       "    );\n",
       "    rubberband_canvas.addEventListener(\n",
       "        'dblclick',\n",
       "        on_mouse_event_closure('dblclick')\n",
       "    );\n",
       "    // Throttle sequential mouse events to 1 every 20ms.\n",
       "    rubberband_canvas.addEventListener(\n",
       "        'mousemove',\n",
       "        on_mouse_event_closure('motion_notify')\n",
       "    );\n",
       "\n",
       "    rubberband_canvas.addEventListener(\n",
       "        'mouseenter',\n",
       "        on_mouse_event_closure('figure_enter')\n",
       "    );\n",
       "    rubberband_canvas.addEventListener(\n",
       "        'mouseleave',\n",
       "        on_mouse_event_closure('figure_leave')\n",
       "    );\n",
       "\n",
       "    canvas_div.addEventListener('wheel', function (event) {\n",
       "        if (event.deltaY < 0) {\n",
       "            event.step = 1;\n",
       "        } else {\n",
       "            event.step = -1;\n",
       "        }\n",
       "        on_mouse_event_closure('scroll')(event);\n",
       "    });\n",
       "\n",
       "    canvas_div.appendChild(canvas);\n",
       "    canvas_div.appendChild(rubberband_canvas);\n",
       "\n",
       "    this.rubberband_context = rubberband_canvas.getContext('2d');\n",
       "    this.rubberband_context.strokeStyle = '#000000';\n",
       "\n",
       "    this._resize_canvas = function (width, height, forward) {\n",
       "        if (forward) {\n",
       "            canvas_div.style.width = width + 'px';\n",
       "            canvas_div.style.height = height + 'px';\n",
       "        }\n",
       "    };\n",
       "\n",
       "    // Disable right mouse context menu.\n",
       "    this.rubberband_canvas.addEventListener('contextmenu', function (_e) {\n",
       "        event.preventDefault();\n",
       "        return false;\n",
       "    });\n",
       "\n",
       "    function set_focus() {\n",
       "        canvas.focus();\n",
       "        canvas_div.focus();\n",
       "    }\n",
       "\n",
       "    window.setTimeout(set_focus, 100);\n",
       "};\n",
       "\n",
       "mpl.figure.prototype._init_toolbar = function () {\n",
       "    var fig = this;\n",
       "\n",
       "    var toolbar = document.createElement('div');\n",
       "    toolbar.classList = 'mpl-toolbar';\n",
       "    this.root.appendChild(toolbar);\n",
       "\n",
       "    function on_click_closure(name) {\n",
       "        return function (_event) {\n",
       "            return fig.toolbar_button_onclick(name);\n",
       "        };\n",
       "    }\n",
       "\n",
       "    function on_mouseover_closure(tooltip) {\n",
       "        return function (event) {\n",
       "            if (!event.currentTarget.disabled) {\n",
       "                return fig.toolbar_button_onmouseover(tooltip);\n",
       "            }\n",
       "        };\n",
       "    }\n",
       "\n",
       "    fig.buttons = {};\n",
       "    var buttonGroup = document.createElement('div');\n",
       "    buttonGroup.classList = 'mpl-button-group';\n",
       "    for (var toolbar_ind in mpl.toolbar_items) {\n",
       "        var name = mpl.toolbar_items[toolbar_ind][0];\n",
       "        var tooltip = mpl.toolbar_items[toolbar_ind][1];\n",
       "        var image = mpl.toolbar_items[toolbar_ind][2];\n",
       "        var method_name = mpl.toolbar_items[toolbar_ind][3];\n",
       "\n",
       "        if (!name) {\n",
       "            /* Instead of a spacer, we start a new button group. */\n",
       "            if (buttonGroup.hasChildNodes()) {\n",
       "                toolbar.appendChild(buttonGroup);\n",
       "            }\n",
       "            buttonGroup = document.createElement('div');\n",
       "            buttonGroup.classList = 'mpl-button-group';\n",
       "            continue;\n",
       "        }\n",
       "\n",
       "        var button = (fig.buttons[name] = document.createElement('button'));\n",
       "        button.classList = 'mpl-widget';\n",
       "        button.setAttribute('role', 'button');\n",
       "        button.setAttribute('aria-disabled', 'false');\n",
       "        button.addEventListener('click', on_click_closure(method_name));\n",
       "        button.addEventListener('mouseover', on_mouseover_closure(tooltip));\n",
       "\n",
       "        var icon_img = document.createElement('img');\n",
       "        icon_img.src = '_images/' + image + '.png';\n",
       "        icon_img.srcset = '_images/' + image + '_large.png 2x';\n",
       "        icon_img.alt = tooltip;\n",
       "        button.appendChild(icon_img);\n",
       "\n",
       "        buttonGroup.appendChild(button);\n",
       "    }\n",
       "\n",
       "    if (buttonGroup.hasChildNodes()) {\n",
       "        toolbar.appendChild(buttonGroup);\n",
       "    }\n",
       "\n",
       "    var fmt_picker = document.createElement('select');\n",
       "    fmt_picker.classList = 'mpl-widget';\n",
       "    toolbar.appendChild(fmt_picker);\n",
       "    this.format_dropdown = fmt_picker;\n",
       "\n",
       "    for (var ind in mpl.extensions) {\n",
       "        var fmt = mpl.extensions[ind];\n",
       "        var option = document.createElement('option');\n",
       "        option.selected = fmt === mpl.default_extension;\n",
       "        option.innerHTML = fmt;\n",
       "        fmt_picker.appendChild(option);\n",
       "    }\n",
       "\n",
       "    var status_bar = document.createElement('span');\n",
       "    status_bar.classList = 'mpl-message';\n",
       "    toolbar.appendChild(status_bar);\n",
       "    this.message = status_bar;\n",
       "};\n",
       "\n",
       "mpl.figure.prototype.request_resize = function (x_pixels, y_pixels) {\n",
       "    // Request matplotlib to resize the figure. Matplotlib will then trigger a resize in the client,\n",
       "    // which will in turn request a refresh of the image.\n",
       "    this.send_message('resize', { width: x_pixels, height: y_pixels });\n",
       "};\n",
       "\n",
       "mpl.figure.prototype.send_message = function (type, properties) {\n",
       "    properties['type'] = type;\n",
       "    properties['figure_id'] = this.id;\n",
       "    this.ws.send(JSON.stringify(properties));\n",
       "};\n",
       "\n",
       "mpl.figure.prototype.send_draw_message = function () {\n",
       "    if (!this.waiting) {\n",
       "        this.waiting = true;\n",
       "        this.ws.send(JSON.stringify({ type: 'draw', figure_id: this.id }));\n",
       "    }\n",
       "};\n",
       "\n",
       "mpl.figure.prototype.handle_save = function (fig, _msg) {\n",
       "    var format_dropdown = fig.format_dropdown;\n",
       "    var format = format_dropdown.options[format_dropdown.selectedIndex].value;\n",
       "    fig.ondownload(fig, format);\n",
       "};\n",
       "\n",
       "mpl.figure.prototype.handle_resize = function (fig, msg) {\n",
       "    var size = msg['size'];\n",
       "    if (size[0] !== fig.canvas.width || size[1] !== fig.canvas.height) {\n",
       "        fig._resize_canvas(size[0], size[1], msg['forward']);\n",
       "        fig.send_message('refresh', {});\n",
       "    }\n",
       "};\n",
       "\n",
       "mpl.figure.prototype.handle_rubberband = function (fig, msg) {\n",
       "    var x0 = msg['x0'] / fig.ratio;\n",
       "    var y0 = (fig.canvas.height - msg['y0']) / fig.ratio;\n",
       "    var x1 = msg['x1'] / fig.ratio;\n",
       "    var y1 = (fig.canvas.height - msg['y1']) / fig.ratio;\n",
       "    x0 = Math.floor(x0) + 0.5;\n",
       "    y0 = Math.floor(y0) + 0.5;\n",
       "    x1 = Math.floor(x1) + 0.5;\n",
       "    y1 = Math.floor(y1) + 0.5;\n",
       "    var min_x = Math.min(x0, x1);\n",
       "    var min_y = Math.min(y0, y1);\n",
       "    var width = Math.abs(x1 - x0);\n",
       "    var height = Math.abs(y1 - y0);\n",
       "\n",
       "    fig.rubberband_context.clearRect(\n",
       "        0,\n",
       "        0,\n",
       "        fig.canvas.width / fig.ratio,\n",
       "        fig.canvas.height / fig.ratio\n",
       "    );\n",
       "\n",
       "    fig.rubberband_context.strokeRect(min_x, min_y, width, height);\n",
       "};\n",
       "\n",
       "mpl.figure.prototype.handle_figure_label = function (fig, msg) {\n",
       "    // Updates the figure title.\n",
       "    fig.header.textContent = msg['label'];\n",
       "};\n",
       "\n",
       "mpl.figure.prototype.handle_cursor = function (fig, msg) {\n",
       "    fig.rubberband_canvas.style.cursor = msg['cursor'];\n",
       "};\n",
       "\n",
       "mpl.figure.prototype.handle_message = function (fig, msg) {\n",
       "    fig.message.textContent = msg['message'];\n",
       "};\n",
       "\n",
       "mpl.figure.prototype.handle_draw = function (fig, _msg) {\n",
       "    // Request the server to send over a new figure.\n",
       "    fig.send_draw_message();\n",
       "};\n",
       "\n",
       "mpl.figure.prototype.handle_image_mode = function (fig, msg) {\n",
       "    fig.image_mode = msg['mode'];\n",
       "};\n",
       "\n",
       "mpl.figure.prototype.handle_history_buttons = function (fig, msg) {\n",
       "    for (var key in msg) {\n",
       "        if (!(key in fig.buttons)) {\n",
       "            continue;\n",
       "        }\n",
       "        fig.buttons[key].disabled = !msg[key];\n",
       "        fig.buttons[key].setAttribute('aria-disabled', !msg[key]);\n",
       "    }\n",
       "};\n",
       "\n",
       "mpl.figure.prototype.handle_navigate_mode = function (fig, msg) {\n",
       "    if (msg['mode'] === 'PAN') {\n",
       "        fig.buttons['Pan'].classList.add('active');\n",
       "        fig.buttons['Zoom'].classList.remove('active');\n",
       "    } else if (msg['mode'] === 'ZOOM') {\n",
       "        fig.buttons['Pan'].classList.remove('active');\n",
       "        fig.buttons['Zoom'].classList.add('active');\n",
       "    } else {\n",
       "        fig.buttons['Pan'].classList.remove('active');\n",
       "        fig.buttons['Zoom'].classList.remove('active');\n",
       "    }\n",
       "};\n",
       "\n",
       "mpl.figure.prototype.updated_canvas_event = function () {\n",
       "    // Called whenever the canvas gets updated.\n",
       "    this.send_message('ack', {});\n",
       "};\n",
       "\n",
       "// A function to construct a web socket function for onmessage handling.\n",
       "// Called in the figure constructor.\n",
       "mpl.figure.prototype._make_on_message_function = function (fig) {\n",
       "    return function socket_on_message(evt) {\n",
       "        if (evt.data instanceof Blob) {\n",
       "            var img = evt.data;\n",
       "            if (img.type !== 'image/png') {\n",
       "                /* FIXME: We get \"Resource interpreted as Image but\n",
       "                 * transferred with MIME type text/plain:\" errors on\n",
       "                 * Chrome.  But how to set the MIME type?  It doesn't seem\n",
       "                 * to be part of the websocket stream */\n",
       "                img.type = 'image/png';\n",
       "            }\n",
       "\n",
       "            /* Free the memory for the previous frames */\n",
       "            if (fig.imageObj.src) {\n",
       "                (window.URL || window.webkitURL).revokeObjectURL(\n",
       "                    fig.imageObj.src\n",
       "                );\n",
       "            }\n",
       "\n",
       "            fig.imageObj.src = (window.URL || window.webkitURL).createObjectURL(\n",
       "                img\n",
       "            );\n",
       "            fig.updated_canvas_event();\n",
       "            fig.waiting = false;\n",
       "            return;\n",
       "        } else if (\n",
       "            typeof evt.data === 'string' &&\n",
       "            evt.data.slice(0, 21) === 'data:image/png;base64'\n",
       "        ) {\n",
       "            fig.imageObj.src = evt.data;\n",
       "            fig.updated_canvas_event();\n",
       "            fig.waiting = false;\n",
       "            return;\n",
       "        }\n",
       "\n",
       "        var msg = JSON.parse(evt.data);\n",
       "        var msg_type = msg['type'];\n",
       "\n",
       "        // Call the  \"handle_{type}\" callback, which takes\n",
       "        // the figure and JSON message as its only arguments.\n",
       "        try {\n",
       "            var callback = fig['handle_' + msg_type];\n",
       "        } catch (e) {\n",
       "            console.log(\n",
       "                \"No handler for the '\" + msg_type + \"' message type: \",\n",
       "                msg\n",
       "            );\n",
       "            return;\n",
       "        }\n",
       "\n",
       "        if (callback) {\n",
       "            try {\n",
       "                // console.log(\"Handling '\" + msg_type + \"' message: \", msg);\n",
       "                callback(fig, msg);\n",
       "            } catch (e) {\n",
       "                console.log(\n",
       "                    \"Exception inside the 'handler_\" + msg_type + \"' callback:\",\n",
       "                    e,\n",
       "                    e.stack,\n",
       "                    msg\n",
       "                );\n",
       "            }\n",
       "        }\n",
       "    };\n",
       "};\n",
       "\n",
       "// from https://stackoverflow.com/questions/1114465/getting-mouse-location-in-canvas\n",
       "mpl.findpos = function (e) {\n",
       "    //this section is from http://www.quirksmode.org/js/events_properties.html\n",
       "    var targ;\n",
       "    if (!e) {\n",
       "        e = window.event;\n",
       "    }\n",
       "    if (e.target) {\n",
       "        targ = e.target;\n",
       "    } else if (e.srcElement) {\n",
       "        targ = e.srcElement;\n",
       "    }\n",
       "    if (targ.nodeType === 3) {\n",
       "        // defeat Safari bug\n",
       "        targ = targ.parentNode;\n",
       "    }\n",
       "\n",
       "    // pageX,Y are the mouse positions relative to the document\n",
       "    var boundingRect = targ.getBoundingClientRect();\n",
       "    var x = e.pageX - (boundingRect.left + document.body.scrollLeft);\n",
       "    var y = e.pageY - (boundingRect.top + document.body.scrollTop);\n",
       "\n",
       "    return { x: x, y: y };\n",
       "};\n",
       "\n",
       "/*\n",
       " * return a copy of an object with only non-object keys\n",
       " * we need this to avoid circular references\n",
       " * https://stackoverflow.com/a/24161582/3208463\n",
       " */\n",
       "function simpleKeys(original) {\n",
       "    return Object.keys(original).reduce(function (obj, key) {\n",
       "        if (typeof original[key] !== 'object') {\n",
       "            obj[key] = original[key];\n",
       "        }\n",
       "        return obj;\n",
       "    }, {});\n",
       "}\n",
       "\n",
       "mpl.figure.prototype.mouse_event = function (event, name) {\n",
       "    var canvas_pos = mpl.findpos(event);\n",
       "\n",
       "    if (name === 'button_press') {\n",
       "        this.canvas.focus();\n",
       "        this.canvas_div.focus();\n",
       "    }\n",
       "\n",
       "    var x = canvas_pos.x * this.ratio;\n",
       "    var y = canvas_pos.y * this.ratio;\n",
       "\n",
       "    this.send_message(name, {\n",
       "        x: x,\n",
       "        y: y,\n",
       "        button: event.button,\n",
       "        step: event.step,\n",
       "        guiEvent: simpleKeys(event),\n",
       "    });\n",
       "\n",
       "    /* This prevents the web browser from automatically changing to\n",
       "     * the text insertion cursor when the button is pressed.  We want\n",
       "     * to control all of the cursor setting manually through the\n",
       "     * 'cursor' event from matplotlib */\n",
       "    event.preventDefault();\n",
       "    return false;\n",
       "};\n",
       "\n",
       "mpl.figure.prototype._key_event_extra = function (_event, _name) {\n",
       "    // Handle any extra behaviour associated with a key event\n",
       "};\n",
       "\n",
       "mpl.figure.prototype.key_event = function (event, name) {\n",
       "    // Prevent repeat events\n",
       "    if (name === 'key_press') {\n",
       "        if (event.key === this._key) {\n",
       "            return;\n",
       "        } else {\n",
       "            this._key = event.key;\n",
       "        }\n",
       "    }\n",
       "    if (name === 'key_release') {\n",
       "        this._key = null;\n",
       "    }\n",
       "\n",
       "    var value = '';\n",
       "    if (event.ctrlKey && event.key !== 'Control') {\n",
       "        value += 'ctrl+';\n",
       "    }\n",
       "    else if (event.altKey && event.key !== 'Alt') {\n",
       "        value += 'alt+';\n",
       "    }\n",
       "    else if (event.shiftKey && event.key !== 'Shift') {\n",
       "        value += 'shift+';\n",
       "    }\n",
       "\n",
       "    value += 'k' + event.key;\n",
       "\n",
       "    this._key_event_extra(event, name);\n",
       "\n",
       "    this.send_message(name, { key: value, guiEvent: simpleKeys(event) });\n",
       "    return false;\n",
       "};\n",
       "\n",
       "mpl.figure.prototype.toolbar_button_onclick = function (name) {\n",
       "    if (name === 'download') {\n",
       "        this.handle_save(this, null);\n",
       "    } else {\n",
       "        this.send_message('toolbar_button', { name: name });\n",
       "    }\n",
       "};\n",
       "\n",
       "mpl.figure.prototype.toolbar_button_onmouseover = function (tooltip) {\n",
       "    this.message.textContent = tooltip;\n",
       "};\n",
       "\n",
       "///////////////// REMAINING CONTENT GENERATED BY embed_js.py /////////////////\n",
       "// prettier-ignore\n",
       "var _JSXTOOLS_RESIZE_OBSERVER=function(A){var t,i=new WeakMap,n=new WeakMap,a=new WeakMap,r=new WeakMap,o=new Set;function s(e){if(!(this instanceof s))throw new TypeError(\"Constructor requires 'new' operator\");i.set(this,e)}function h(){throw new TypeError(\"Function is not a constructor\")}function c(e,t,i,n){e=0 in arguments?Number(arguments[0]):0,t=1 in arguments?Number(arguments[1]):0,i=2 in arguments?Number(arguments[2]):0,n=3 in arguments?Number(arguments[3]):0,this.right=(this.x=this.left=e)+(this.width=i),this.bottom=(this.y=this.top=t)+(this.height=n),Object.freeze(this)}function d(){t=requestAnimationFrame(d);var s=new WeakMap,p=new Set;o.forEach((function(t){r.get(t).forEach((function(i){var r=t instanceof window.SVGElement,o=a.get(t),d=r?0:parseFloat(o.paddingTop),f=r?0:parseFloat(o.paddingRight),l=r?0:parseFloat(o.paddingBottom),u=r?0:parseFloat(o.paddingLeft),g=r?0:parseFloat(o.borderTopWidth),m=r?0:parseFloat(o.borderRightWidth),w=r?0:parseFloat(o.borderBottomWidth),b=u+f,F=d+l,v=(r?0:parseFloat(o.borderLeftWidth))+m,W=g+w,y=r?0:t.offsetHeight-W-t.clientHeight,E=r?0:t.offsetWidth-v-t.clientWidth,R=b+v,z=F+W,M=r?t.width:parseFloat(o.width)-R-E,O=r?t.height:parseFloat(o.height)-z-y;if(n.has(t)){var k=n.get(t);if(k[0]===M&&k[1]===O)return}n.set(t,[M,O]);var S=Object.create(h.prototype);S.target=t,S.contentRect=new c(u,d,M,O),s.has(i)||(s.set(i,[]),p.add(i)),s.get(i).push(S)}))})),p.forEach((function(e){i.get(e).call(e,s.get(e),e)}))}return s.prototype.observe=function(i){if(i instanceof window.Element){r.has(i)||(r.set(i,new Set),o.add(i),a.set(i,window.getComputedStyle(i)));var n=r.get(i);n.has(this)||n.add(this),cancelAnimationFrame(t),t=requestAnimationFrame(d)}},s.prototype.unobserve=function(i){if(i instanceof window.Element&&r.has(i)){var n=r.get(i);n.has(this)&&(n.delete(this),n.size||(r.delete(i),o.delete(i))),n.size||r.delete(i),o.size||cancelAnimationFrame(t)}},A.DOMRectReadOnly=c,A.ResizeObserver=s,A.ResizeObserverEntry=h,A}; // eslint-disable-line\n",
       "mpl.toolbar_items = [[\"Home\", \"Reset original view\", \"fa fa-home icon-home\", \"home\"], [\"Back\", \"Back to previous view\", \"fa fa-arrow-left icon-arrow-left\", \"back\"], [\"Forward\", \"Forward to next view\", \"fa fa-arrow-right icon-arrow-right\", \"forward\"], [\"\", \"\", \"\", \"\"], [\"Pan\", \"Left button pans, Right button zooms\\nx/y fixes axis, CTRL fixes aspect\", \"fa fa-arrows icon-move\", \"pan\"], [\"Zoom\", \"Zoom to rectangle\\nx/y fixes axis\", \"fa fa-square-o icon-check-empty\", \"zoom\"], [\"\", \"\", \"\", \"\"], [\"Download\", \"Download plot\", \"fa fa-floppy-o icon-save\", \"download\"]];\n",
       "\n",
       "mpl.extensions = [\"eps\", \"jpeg\", \"pgf\", \"pdf\", \"png\", \"ps\", \"raw\", \"svg\", \"tif\"];\n",
       "\n",
       "mpl.default_extension = \"png\";/* global mpl */\n",
       "\n",
       "var comm_websocket_adapter = function (comm) {\n",
       "    // Create a \"websocket\"-like object which calls the given IPython comm\n",
       "    // object with the appropriate methods. Currently this is a non binary\n",
       "    // socket, so there is still some room for performance tuning.\n",
       "    var ws = {};\n",
       "\n",
       "    ws.binaryType = comm.kernel.ws.binaryType;\n",
       "    ws.readyState = comm.kernel.ws.readyState;\n",
       "    function updateReadyState(_event) {\n",
       "        if (comm.kernel.ws) {\n",
       "            ws.readyState = comm.kernel.ws.readyState;\n",
       "        } else {\n",
       "            ws.readyState = 3; // Closed state.\n",
       "        }\n",
       "    }\n",
       "    comm.kernel.ws.addEventListener('open', updateReadyState);\n",
       "    comm.kernel.ws.addEventListener('close', updateReadyState);\n",
       "    comm.kernel.ws.addEventListener('error', updateReadyState);\n",
       "\n",
       "    ws.close = function () {\n",
       "        comm.close();\n",
       "    };\n",
       "    ws.send = function (m) {\n",
       "        //console.log('sending', m);\n",
       "        comm.send(m);\n",
       "    };\n",
       "    // Register the callback with on_msg.\n",
       "    comm.on_msg(function (msg) {\n",
       "        //console.log('receiving', msg['content']['data'], msg);\n",
       "        var data = msg['content']['data'];\n",
       "        if (data['blob'] !== undefined) {\n",
       "            data = {\n",
       "                data: new Blob(msg['buffers'], { type: data['blob'] }),\n",
       "            };\n",
       "        }\n",
       "        // Pass the mpl event to the overridden (by mpl) onmessage function.\n",
       "        ws.onmessage(data);\n",
       "    });\n",
       "    return ws;\n",
       "};\n",
       "\n",
       "mpl.mpl_figure_comm = function (comm, msg) {\n",
       "    // This is the function which gets called when the mpl process\n",
       "    // starts-up an IPython Comm through the \"matplotlib\" channel.\n",
       "\n",
       "    var id = msg.content.data.id;\n",
       "    // Get hold of the div created by the display call when the Comm\n",
       "    // socket was opened in Python.\n",
       "    var element = document.getElementById(id);\n",
       "    var ws_proxy = comm_websocket_adapter(comm);\n",
       "\n",
       "    function ondownload(figure, _format) {\n",
       "        window.open(figure.canvas.toDataURL());\n",
       "    }\n",
       "\n",
       "    var fig = new mpl.figure(id, ws_proxy, ondownload, element);\n",
       "\n",
       "    // Call onopen now - mpl needs it, as it is assuming we've passed it a real\n",
       "    // web socket which is closed, not our websocket->open comm proxy.\n",
       "    ws_proxy.onopen();\n",
       "\n",
       "    fig.parent_element = element;\n",
       "    fig.cell_info = mpl.find_output_cell(\"<div id='\" + id + \"'></div>\");\n",
       "    if (!fig.cell_info) {\n",
       "        console.error('Failed to find cell for figure', id, fig);\n",
       "        return;\n",
       "    }\n",
       "    fig.cell_info[0].output_area.element.on(\n",
       "        'cleared',\n",
       "        { fig: fig },\n",
       "        fig._remove_fig_handler\n",
       "    );\n",
       "};\n",
       "\n",
       "mpl.figure.prototype.handle_close = function (fig, msg) {\n",
       "    var width = fig.canvas.width / fig.ratio;\n",
       "    fig.cell_info[0].output_area.element.off(\n",
       "        'cleared',\n",
       "        fig._remove_fig_handler\n",
       "    );\n",
       "    fig.resizeObserverInstance.unobserve(fig.canvas_div);\n",
       "\n",
       "    // Update the output cell to use the data from the current canvas.\n",
       "    fig.push_to_output();\n",
       "    var dataURL = fig.canvas.toDataURL();\n",
       "    // Re-enable the keyboard manager in IPython - without this line, in FF,\n",
       "    // the notebook keyboard shortcuts fail.\n",
       "    IPython.keyboard_manager.enable();\n",
       "    fig.parent_element.innerHTML =\n",
       "        '<img src=\"' + dataURL + '\" width=\"' + width + '\">';\n",
       "    fig.close_ws(fig, msg);\n",
       "};\n",
       "\n",
       "mpl.figure.prototype.close_ws = function (fig, msg) {\n",
       "    fig.send_message('closing', msg);\n",
       "    // fig.ws.close()\n",
       "};\n",
       "\n",
       "mpl.figure.prototype.push_to_output = function (_remove_interactive) {\n",
       "    // Turn the data on the canvas into data in the output cell.\n",
       "    var width = this.canvas.width / this.ratio;\n",
       "    var dataURL = this.canvas.toDataURL();\n",
       "    this.cell_info[1]['text/html'] =\n",
       "        '<img src=\"' + dataURL + '\" width=\"' + width + '\">';\n",
       "};\n",
       "\n",
       "mpl.figure.prototype.updated_canvas_event = function () {\n",
       "    // Tell IPython that the notebook contents must change.\n",
       "    IPython.notebook.set_dirty(true);\n",
       "    this.send_message('ack', {});\n",
       "    var fig = this;\n",
       "    // Wait a second, then push the new image to the DOM so\n",
       "    // that it is saved nicely (might be nice to debounce this).\n",
       "    setTimeout(function () {\n",
       "        fig.push_to_output();\n",
       "    }, 1000);\n",
       "};\n",
       "\n",
       "mpl.figure.prototype._init_toolbar = function () {\n",
       "    var fig = this;\n",
       "\n",
       "    var toolbar = document.createElement('div');\n",
       "    toolbar.classList = 'btn-toolbar';\n",
       "    this.root.appendChild(toolbar);\n",
       "\n",
       "    function on_click_closure(name) {\n",
       "        return function (_event) {\n",
       "            return fig.toolbar_button_onclick(name);\n",
       "        };\n",
       "    }\n",
       "\n",
       "    function on_mouseover_closure(tooltip) {\n",
       "        return function (event) {\n",
       "            if (!event.currentTarget.disabled) {\n",
       "                return fig.toolbar_button_onmouseover(tooltip);\n",
       "            }\n",
       "        };\n",
       "    }\n",
       "\n",
       "    fig.buttons = {};\n",
       "    var buttonGroup = document.createElement('div');\n",
       "    buttonGroup.classList = 'btn-group';\n",
       "    var button;\n",
       "    for (var toolbar_ind in mpl.toolbar_items) {\n",
       "        var name = mpl.toolbar_items[toolbar_ind][0];\n",
       "        var tooltip = mpl.toolbar_items[toolbar_ind][1];\n",
       "        var image = mpl.toolbar_items[toolbar_ind][2];\n",
       "        var method_name = mpl.toolbar_items[toolbar_ind][3];\n",
       "\n",
       "        if (!name) {\n",
       "            /* Instead of a spacer, we start a new button group. */\n",
       "            if (buttonGroup.hasChildNodes()) {\n",
       "                toolbar.appendChild(buttonGroup);\n",
       "            }\n",
       "            buttonGroup = document.createElement('div');\n",
       "            buttonGroup.classList = 'btn-group';\n",
       "            continue;\n",
       "        }\n",
       "\n",
       "        button = fig.buttons[name] = document.createElement('button');\n",
       "        button.classList = 'btn btn-default';\n",
       "        button.href = '#';\n",
       "        button.title = name;\n",
       "        button.innerHTML = '<i class=\"fa ' + image + ' fa-lg\"></i>';\n",
       "        button.addEventListener('click', on_click_closure(method_name));\n",
       "        button.addEventListener('mouseover', on_mouseover_closure(tooltip));\n",
       "        buttonGroup.appendChild(button);\n",
       "    }\n",
       "\n",
       "    if (buttonGroup.hasChildNodes()) {\n",
       "        toolbar.appendChild(buttonGroup);\n",
       "    }\n",
       "\n",
       "    // Add the status bar.\n",
       "    var status_bar = document.createElement('span');\n",
       "    status_bar.classList = 'mpl-message pull-right';\n",
       "    toolbar.appendChild(status_bar);\n",
       "    this.message = status_bar;\n",
       "\n",
       "    // Add the close button to the window.\n",
       "    var buttongrp = document.createElement('div');\n",
       "    buttongrp.classList = 'btn-group inline pull-right';\n",
       "    button = document.createElement('button');\n",
       "    button.classList = 'btn btn-mini btn-primary';\n",
       "    button.href = '#';\n",
       "    button.title = 'Stop Interaction';\n",
       "    button.innerHTML = '<i class=\"fa fa-power-off icon-remove icon-large\"></i>';\n",
       "    button.addEventListener('click', function (_evt) {\n",
       "        fig.handle_close(fig, {});\n",
       "    });\n",
       "    button.addEventListener(\n",
       "        'mouseover',\n",
       "        on_mouseover_closure('Stop Interaction')\n",
       "    );\n",
       "    buttongrp.appendChild(button);\n",
       "    var titlebar = this.root.querySelector('.ui-dialog-titlebar');\n",
       "    titlebar.insertBefore(buttongrp, titlebar.firstChild);\n",
       "};\n",
       "\n",
       "mpl.figure.prototype._remove_fig_handler = function (event) {\n",
       "    var fig = event.data.fig;\n",
       "    if (event.target !== this) {\n",
       "        // Ignore bubbled events from children.\n",
       "        return;\n",
       "    }\n",
       "    fig.close_ws(fig, {});\n",
       "};\n",
       "\n",
       "mpl.figure.prototype._root_extra_style = function (el) {\n",
       "    el.style.boxSizing = 'content-box'; // override notebook setting of border-box.\n",
       "};\n",
       "\n",
       "mpl.figure.prototype._canvas_extra_style = function (el) {\n",
       "    // this is important to make the div 'focusable\n",
       "    el.setAttribute('tabindex', 0);\n",
       "    // reach out to IPython and tell the keyboard manager to turn it's self\n",
       "    // off when our div gets focus\n",
       "\n",
       "    // location in version 3\n",
       "    if (IPython.notebook.keyboard_manager) {\n",
       "        IPython.notebook.keyboard_manager.register_events(el);\n",
       "    } else {\n",
       "        // location in version 2\n",
       "        IPython.keyboard_manager.register_events(el);\n",
       "    }\n",
       "};\n",
       "\n",
       "mpl.figure.prototype._key_event_extra = function (event, _name) {\n",
       "    // Check for shift+enter\n",
       "    if (event.shiftKey && event.which === 13) {\n",
       "        this.canvas_div.blur();\n",
       "        // select the cell after this one\n",
       "        var index = IPython.notebook.find_cell_index(this.cell_info[0]);\n",
       "        IPython.notebook.select(index + 1);\n",
       "    }\n",
       "};\n",
       "\n",
       "mpl.figure.prototype.handle_save = function (fig, _msg) {\n",
       "    fig.ondownload(fig, null);\n",
       "};\n",
       "\n",
       "mpl.find_output_cell = function (html_output) {\n",
       "    // Return the cell and output element which can be found *uniquely* in the notebook.\n",
       "    // Note - this is a bit hacky, but it is done because the \"notebook_saving.Notebook\"\n",
       "    // IPython event is triggered only after the cells have been serialised, which for\n",
       "    // our purposes (turning an active figure into a static one), is too late.\n",
       "    var cells = IPython.notebook.get_cells();\n",
       "    var ncells = cells.length;\n",
       "    for (var i = 0; i < ncells; i++) {\n",
       "        var cell = cells[i];\n",
       "        if (cell.cell_type === 'code') {\n",
       "            for (var j = 0; j < cell.output_area.outputs.length; j++) {\n",
       "                var data = cell.output_area.outputs[j];\n",
       "                if (data.data) {\n",
       "                    // IPython >= 3 moved mimebundle to data attribute of output\n",
       "                    data = data.data;\n",
       "                }\n",
       "                if (data['text/html'] === html_output) {\n",
       "                    return [cell, data, j];\n",
       "                }\n",
       "            }\n",
       "        }\n",
       "    }\n",
       "};\n",
       "\n",
       "// Register the function which deals with the matplotlib target/channel.\n",
       "// The kernel may be null if the page has been refreshed.\n",
       "if (IPython.notebook.kernel !== null) {\n",
       "    IPython.notebook.kernel.comm_manager.register_target(\n",
       "        'matplotlib',\n",
       "        mpl.mpl_figure_comm\n",
       "    );\n",
       "}\n"
      ],
      "text/plain": [
       "<IPython.core.display.Javascript object>"
      ]
     },
     "metadata": {},
     "output_type": "display_data"
    },
    {
     "data": {
      "text/html": [
       "<img src=\"data:image/png;base64,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\" width=\"640\">"
      ],
      "text/plain": [
       "<IPython.core.display.HTML object>"
      ]
     },
     "metadata": {},
     "output_type": "display_data"
    },
    {
     "data": {
      "text/plain": [
       "Text(0.5, 0, '$- \\\\frac{4 x y}{\\\\left(x^{2} + y^{2} + 1\\\\right)^{2}}$')"
      ]
     },
     "execution_count": 134,
     "metadata": {},
     "output_type": "execute_result"
    }
   ],
   "source": [
    "fig = plt.figure()\n",
    "ax = plt.axes(projection='3d')\n",
    "ax.plot_surface(xplot,yplot,zplot,cmap=plt.cm.coolwarm)\n",
    "ax.set_xlabel('x')\n",
    "ax.set_ylabel('y')\n",
    "ax.set_zlabel('$%s$'% latex(d2fdxdy))"
   ]
  },
  {
   "cell_type": "code",
   "execution_count": 135,
   "metadata": {},
   "outputs": [],
   "source": [
    "%matplotlib notebook"
   ]
  },
  {
   "cell_type": "markdown",
   "metadata": {},
   "source": [
    "The [**competitive Lotka–Volterra equations**](https://en.wikipedia.org/wiki/Competitive_Lotka–Volterra_equations) are a simple model of the population dynamics of species competing for some common resource. They are a system of differential equations that describe the dynamics of a pair of species that interact, one as a predator and the other as a prey.\n",
    "The coupled first-order non-linear differential equations are given by\n",
    "\n",
    "$$\\frac{dN_1}{dt}=\\frac{N_{1} r_{1} \\left(K_{1} - N_{1} - N_{2} \\alpha\\right)}{K_{1}}$$\n",
    "\n",
    "$$\\frac{dN_2}{dt}=\\frac{N_{2} r_{2} \\left(K_{2} - N_{1} \\beta - N_{2}\\right)}{K_{2}}$$\n",
    "\n",
    "where\n",
    "- $N_i$ = population size of species $i$\n",
    "- $t$ = time\n",
    "- $r_i$ = species $i$ growth rate\n",
    "- $K_i$ = environment carrying capacity\n",
    "- $\\alpha,\\beta$ = inter-species interaction parameters.\n",
    "\n",
    "If species 2 is the predator and species 1 is the prey, then $\\alpha$ must be positive (since the predator eats the prey reducing its population) and $\\beta$ must be negative since the predator needs the prey to get food.\n",
    "\n",
    "Define the variables:"
   ]
  },
  {
   "cell_type": "code",
   "execution_count": 136,
   "metadata": {},
   "outputs": [],
   "source": [
    "# We split it into two definitions to remind us that\n",
    "# a set of variables is for species 1 and the other one for species 2\n",
    "\n",
    "# Species 1\n",
    "r1, K1, N1, alpha = symbols('r_1 K_1 N_1 alpha')\n",
    "\n",
    "# Species 2\n",
    "r2, K2, N2, beta = symbols('r_2 K_2 N_2 beta')"
   ]
  },
  {
   "cell_type": "markdown",
   "metadata": {},
   "source": [
    "We can now define the differential equations in sympy"
   ]
  },
  {
   "cell_type": "code",
   "execution_count": 137,
   "metadata": {},
   "outputs": [
    {
     "data": {
      "text/latex": [
       "$\\displaystyle \\frac{N_{1} r_{1} \\left(K_{1} - N_{1} - N_{2} \\alpha\\right)}{K_{1}}$"
      ],
      "text/plain": [
       "N_1*r_1*(K_1 - N_1 - N_2*alpha)/K_1"
      ]
     },
     "execution_count": 137,
     "metadata": {},
     "output_type": "execute_result"
    }
   ],
   "source": [
    "dN1_dt = r1 * N1 * (K1 - N1 - alpha * N2) / K1\n",
    "dN1_dt"
   ]
  },
  {
   "cell_type": "code",
   "execution_count": 138,
   "metadata": {},
   "outputs": [
    {
     "data": {
      "text/latex": [
       "$\\displaystyle \\frac{N_{2} r_{2} \\left(K_{2} - N_{1} \\beta - N_{2}\\right)}{K_{2}}$"
      ],
      "text/plain": [
       "N_2*r_2*(K_2 - N_1*beta - N_2)/K_2"
      ]
     },
     "execution_count": 138,
     "metadata": {},
     "output_type": "execute_result"
    }
   ],
   "source": [
    "dN2_dt = r2 * N2 * (K2 - N2 - beta * N1) / K2\n",
    "dN2_dt"
   ]
  },
  {
   "cell_type": "markdown",
   "metadata": {},
   "source": [
    "Usually one of the first things we do when analyzing a dynamical system is to find the steady state, i.e. finding when the derivative with respect to time equals to zero.\n",
    "\n",
    "We define the equality using the `Eq`:"
   ]
  },
  {
   "cell_type": "code",
   "execution_count": 139,
   "metadata": {},
   "outputs": [
    {
     "data": {
      "text/latex": [
       "$\\displaystyle \\frac{N_{1} r_{1} \\left(K_{1} - N_{1} - N_{2} \\alpha\\right)}{K_{1}} = 0$"
      ],
      "text/plain": [
       "Eq(N_1*r_1*(K_1 - N_1 - N_2*alpha)/K_1, 0)"
      ]
     },
     "execution_count": 139,
     "metadata": {},
     "output_type": "execute_result"
    }
   ],
   "source": [
    "ss_N1 = Eq(dN1_dt, 0)\n",
    "ss_N1"
   ]
  },
  {
   "cell_type": "code",
   "execution_count": 140,
   "metadata": {},
   "outputs": [
    {
     "data": {
      "text/latex": [
       "$\\displaystyle \\frac{N_{2} r_{2} \\left(K_{2} - N_{1} \\beta - N_{2}\\right)}{K_{2}} = 0$"
      ],
      "text/plain": [
       "Eq(N_2*r_2*(K_2 - N_1*beta - N_2)/K_2, 0)"
      ]
     },
     "execution_count": 140,
     "metadata": {},
     "output_type": "execute_result"
    }
   ],
   "source": [
    "ss_N2 = Eq(dN2_dt, 0)\n",
    "ss_N2"
   ]
  },
  {
   "cell_type": "markdown",
   "metadata": {},
   "source": [
    "Solve for the species population:"
   ]
  },
  {
   "cell_type": "code",
   "execution_count": 141,
   "metadata": {},
   "outputs": [
    {
     "name": "stdout",
     "output_type": "stream",
     "text": [
      "The steady state solution for both species are:\n"
     ]
    },
    {
     "data": {
      "text/plain": [
       "([0, K_1 - N_2*alpha], [0, K_2 - N_1*beta])"
      ]
     },
     "execution_count": 141,
     "metadata": {},
     "output_type": "execute_result"
    }
   ],
   "source": [
    "ss_N1_sol = solve(ss_N1, N1)\n",
    "ss_N2_sol = solve(ss_N2, N2)\n",
    "\n",
    "print('The steady state solution for both species are:')\n",
    "ss_N1_sol, ss_N2_sol"
   ]
  },
  {
   "cell_type": "markdown",
   "metadata": {},
   "source": [
    "So we find that there are two steady state solutions:\n",
    "1. The trivial solutions in which both species are extinct $N_1=N_2=0$\n",
    "2. A solution in which both species maintain their non-zero populations.\n",
    "\n",
    "We can use sympy's solve function to solve simultaneously for both species. The solution is returned as a dictionary where each key is the name of the respective variable."
   ]
  },
  {
   "cell_type": "code",
   "execution_count": 142,
   "metadata": {},
   "outputs": [
    {
     "data": {
      "text/plain": [
       "{N_1: (-K_1 + K_2*alpha)/(alpha*beta - 1),\n",
       " N_2: (K_1*beta - K_2)/(alpha*beta - 1)}"
      ]
     },
     "execution_count": 142,
     "metadata": {},
     "output_type": "execute_result"
    }
   ],
   "source": [
    "ss_dict = solve((Eq(N1, ss_N1_sol[1]), Eq(N2, ss_N2_sol[1])),(N1, N2))\n",
    "ss_dict"
   ]
  },
  {
   "cell_type": "markdown",
   "metadata": {},
   "source": [
    "We can use scipy's numerical solver to run a simulation for this system of equations.\n",
    "\n",
    "**Note**: we use `lambdify` to numerically evaluate the diff. equations"
   ]
  },
  {
   "cell_type": "code",
   "execution_count": 143,
   "metadata": {},
   "outputs": [],
   "source": [
    "# Generate 'lambdify' functions to numerically evaluate the diff. equations\n",
    "dN1_dt_num = lambdify([N1, N2, r1, K1, alpha], dN1_dt)\n",
    "dN2_dt_num = lambdify([N2, N1, r2, K2, beta], dN2_dt)\n",
    "\n",
    "\n",
    "def lotka_voltera_rhs(n1_n2, t, *p):\n",
    "    '''\n",
    "    Set up the right hand side (rhs) function for the system \n",
    "    (necessary step to feed sympy's odeint function).\n",
    "    '''\n",
    "    # unpack the variables\n",
    "    n1, n2 = n1_n2\n",
    "    \n",
    "    # unpack the parameters\n",
    "    r_1, k1, a, r_2, k2, b = p\n",
    "    \n",
    "    # Define derivatices rom lambdified functions\n",
    "    n1dot = dN1_dt_num(n1, n2, r_1, k1, a)\n",
    "    n2dot = dN2_dt_num(n2, n1, r_2, k2, b)\n",
    "\n",
    "    return np.array([n1dot, n2dot])"
   ]
  },
  {
   "cell_type": "markdown",
   "metadata": {},
   "source": [
    "Now let's define the parameters and numerically solve the system"
   ]
  },
  {
   "cell_type": "code",
   "execution_count": 144,
   "metadata": {},
   "outputs": [],
   "source": [
    "from scipy.integrate import odeint\n",
    "# let's set the parameter values.\n",
    "r_1, r_2 = [0.5, 0.2]\n",
    "k1, k2 = [100, 50]\n",
    "a, b = [1.2, 0.2]\n",
    "args = (r_1, k1, a, r_2, k2, b)\n",
    "\n",
    "# Initial population size\n",
    "n1_n2_0 = [2, 2]\n",
    "\n",
    "# Time points we want to consider\n",
    "t = np.linspace(0, 100, 1000)\n",
    "\n",
    "# Now let's use odeint to solve the function\n",
    "n1_n2 = odeint(lotka_voltera_rhs, n1_n2_0, t, args=args)"
   ]
  },
  {
   "cell_type": "markdown",
   "metadata": {},
   "source": [
    "We will now plot the solution"
   ]
  },
  {
   "cell_type": "code",
   "execution_count": 145,
   "metadata": {
    "scrolled": true
   },
   "outputs": [
    {
     "data": {
      "application/javascript": [
       "/* Put everything inside the global mpl namespace */\n",
       "/* global mpl */\n",
       "window.mpl = {};\n",
       "\n",
       "mpl.get_websocket_type = function () {\n",
       "    if (typeof WebSocket !== 'undefined') {\n",
       "        return WebSocket;\n",
       "    } else if (typeof MozWebSocket !== 'undefined') {\n",
       "        return MozWebSocket;\n",
       "    } else {\n",
       "        alert(\n",
       "            'Your browser does not have WebSocket support. ' +\n",
       "                'Please try Chrome, Safari or Firefox ≥ 6. ' +\n",
       "                'Firefox 4 and 5 are also supported but you ' +\n",
       "                'have to enable WebSockets in about:config.'\n",
       "        );\n",
       "    }\n",
       "};\n",
       "\n",
       "mpl.figure = function (figure_id, websocket, ondownload, parent_element) {\n",
       "    this.id = figure_id;\n",
       "\n",
       "    this.ws = websocket;\n",
       "\n",
       "    this.supports_binary = this.ws.binaryType !== undefined;\n",
       "\n",
       "    if (!this.supports_binary) {\n",
       "        var warnings = document.getElementById('mpl-warnings');\n",
       "        if (warnings) {\n",
       "            warnings.style.display = 'block';\n",
       "            warnings.textContent =\n",
       "                'This browser does not support binary websocket messages. ' +\n",
       "                'Performance may be slow.';\n",
       "        }\n",
       "    }\n",
       "\n",
       "    this.imageObj = new Image();\n",
       "\n",
       "    this.context = undefined;\n",
       "    this.message = undefined;\n",
       "    this.canvas = undefined;\n",
       "    this.rubberband_canvas = undefined;\n",
       "    this.rubberband_context = undefined;\n",
       "    this.format_dropdown = undefined;\n",
       "\n",
       "    this.image_mode = 'full';\n",
       "\n",
       "    this.root = document.createElement('div');\n",
       "    this.root.setAttribute('style', 'display: inline-block');\n",
       "    this._root_extra_style(this.root);\n",
       "\n",
       "    parent_element.appendChild(this.root);\n",
       "\n",
       "    this._init_header(this);\n",
       "    this._init_canvas(this);\n",
       "    this._init_toolbar(this);\n",
       "\n",
       "    var fig = this;\n",
       "\n",
       "    this.waiting = false;\n",
       "\n",
       "    this.ws.onopen = function () {\n",
       "        fig.send_message('supports_binary', { value: fig.supports_binary });\n",
       "        fig.send_message('send_image_mode', {});\n",
       "        if (fig.ratio !== 1) {\n",
       "            fig.send_message('set_device_pixel_ratio', {\n",
       "                device_pixel_ratio: fig.ratio,\n",
       "            });\n",
       "        }\n",
       "        fig.send_message('refresh', {});\n",
       "    };\n",
       "\n",
       "    this.imageObj.onload = function () {\n",
       "        if (fig.image_mode === 'full') {\n",
       "            // Full images could contain transparency (where diff images\n",
       "            // almost always do), so we need to clear the canvas so that\n",
       "            // there is no ghosting.\n",
       "            fig.context.clearRect(0, 0, fig.canvas.width, fig.canvas.height);\n",
       "        }\n",
       "        fig.context.drawImage(fig.imageObj, 0, 0);\n",
       "    };\n",
       "\n",
       "    this.imageObj.onunload = function () {\n",
       "        fig.ws.close();\n",
       "    };\n",
       "\n",
       "    this.ws.onmessage = this._make_on_message_function(this);\n",
       "\n",
       "    this.ondownload = ondownload;\n",
       "};\n",
       "\n",
       "mpl.figure.prototype._init_header = function () {\n",
       "    var titlebar = document.createElement('div');\n",
       "    titlebar.classList =\n",
       "        'ui-dialog-titlebar ui-widget-header ui-corner-all ui-helper-clearfix';\n",
       "    var titletext = document.createElement('div');\n",
       "    titletext.classList = 'ui-dialog-title';\n",
       "    titletext.setAttribute(\n",
       "        'style',\n",
       "        'width: 100%; text-align: center; padding: 3px;'\n",
       "    );\n",
       "    titlebar.appendChild(titletext);\n",
       "    this.root.appendChild(titlebar);\n",
       "    this.header = titletext;\n",
       "};\n",
       "\n",
       "mpl.figure.prototype._canvas_extra_style = function (_canvas_div) {};\n",
       "\n",
       "mpl.figure.prototype._root_extra_style = function (_canvas_div) {};\n",
       "\n",
       "mpl.figure.prototype._init_canvas = function () {\n",
       "    var fig = this;\n",
       "\n",
       "    var canvas_div = (this.canvas_div = document.createElement('div'));\n",
       "    canvas_div.setAttribute(\n",
       "        'style',\n",
       "        'border: 1px solid #ddd;' +\n",
       "            'box-sizing: content-box;' +\n",
       "            'clear: both;' +\n",
       "            'min-height: 1px;' +\n",
       "            'min-width: 1px;' +\n",
       "            'outline: 0;' +\n",
       "            'overflow: hidden;' +\n",
       "            'position: relative;' +\n",
       "            'resize: both;'\n",
       "    );\n",
       "\n",
       "    function on_keyboard_event_closure(name) {\n",
       "        return function (event) {\n",
       "            return fig.key_event(event, name);\n",
       "        };\n",
       "    }\n",
       "\n",
       "    canvas_div.addEventListener(\n",
       "        'keydown',\n",
       "        on_keyboard_event_closure('key_press')\n",
       "    );\n",
       "    canvas_div.addEventListener(\n",
       "        'keyup',\n",
       "        on_keyboard_event_closure('key_release')\n",
       "    );\n",
       "\n",
       "    this._canvas_extra_style(canvas_div);\n",
       "    this.root.appendChild(canvas_div);\n",
       "\n",
       "    var canvas = (this.canvas = document.createElement('canvas'));\n",
       "    canvas.classList.add('mpl-canvas');\n",
       "    canvas.setAttribute('style', 'box-sizing: content-box;');\n",
       "\n",
       "    this.context = canvas.getContext('2d');\n",
       "\n",
       "    var backingStore =\n",
       "        this.context.backingStorePixelRatio ||\n",
       "        this.context.webkitBackingStorePixelRatio ||\n",
       "        this.context.mozBackingStorePixelRatio ||\n",
       "        this.context.msBackingStorePixelRatio ||\n",
       "        this.context.oBackingStorePixelRatio ||\n",
       "        this.context.backingStorePixelRatio ||\n",
       "        1;\n",
       "\n",
       "    this.ratio = (window.devicePixelRatio || 1) / backingStore;\n",
       "\n",
       "    var rubberband_canvas = (this.rubberband_canvas = document.createElement(\n",
       "        'canvas'\n",
       "    ));\n",
       "    rubberband_canvas.setAttribute(\n",
       "        'style',\n",
       "        'box-sizing: content-box; position: absolute; left: 0; top: 0; z-index: 1;'\n",
       "    );\n",
       "\n",
       "    // Apply a ponyfill if ResizeObserver is not implemented by browser.\n",
       "    if (this.ResizeObserver === undefined) {\n",
       "        if (window.ResizeObserver !== undefined) {\n",
       "            this.ResizeObserver = window.ResizeObserver;\n",
       "        } else {\n",
       "            var obs = _JSXTOOLS_RESIZE_OBSERVER({});\n",
       "            this.ResizeObserver = obs.ResizeObserver;\n",
       "        }\n",
       "    }\n",
       "\n",
       "    this.resizeObserverInstance = new this.ResizeObserver(function (entries) {\n",
       "        var nentries = entries.length;\n",
       "        for (var i = 0; i < nentries; i++) {\n",
       "            var entry = entries[i];\n",
       "            var width, height;\n",
       "            if (entry.contentBoxSize) {\n",
       "                if (entry.contentBoxSize instanceof Array) {\n",
       "                    // Chrome 84 implements new version of spec.\n",
       "                    width = entry.contentBoxSize[0].inlineSize;\n",
       "                    height = entry.contentBoxSize[0].blockSize;\n",
       "                } else {\n",
       "                    // Firefox implements old version of spec.\n",
       "                    width = entry.contentBoxSize.inlineSize;\n",
       "                    height = entry.contentBoxSize.blockSize;\n",
       "                }\n",
       "            } else {\n",
       "                // Chrome <84 implements even older version of spec.\n",
       "                width = entry.contentRect.width;\n",
       "                height = entry.contentRect.height;\n",
       "            }\n",
       "\n",
       "            // Keep the size of the canvas and rubber band canvas in sync with\n",
       "            // the canvas container.\n",
       "            if (entry.devicePixelContentBoxSize) {\n",
       "                // Chrome 84 implements new version of spec.\n",
       "                canvas.setAttribute(\n",
       "                    'width',\n",
       "                    entry.devicePixelContentBoxSize[0].inlineSize\n",
       "                );\n",
       "                canvas.setAttribute(\n",
       "                    'height',\n",
       "                    entry.devicePixelContentBoxSize[0].blockSize\n",
       "                );\n",
       "            } else {\n",
       "                canvas.setAttribute('width', width * fig.ratio);\n",
       "                canvas.setAttribute('height', height * fig.ratio);\n",
       "            }\n",
       "            canvas.setAttribute(\n",
       "                'style',\n",
       "                'width: ' + width + 'px; height: ' + height + 'px;'\n",
       "            );\n",
       "\n",
       "            rubberband_canvas.setAttribute('width', width);\n",
       "            rubberband_canvas.setAttribute('height', height);\n",
       "\n",
       "            // And update the size in Python. We ignore the initial 0/0 size\n",
       "            // that occurs as the element is placed into the DOM, which should\n",
       "            // otherwise not happen due to the minimum size styling.\n",
       "            if (fig.ws.readyState == 1 && width != 0 && height != 0) {\n",
       "                fig.request_resize(width, height);\n",
       "            }\n",
       "        }\n",
       "    });\n",
       "    this.resizeObserverInstance.observe(canvas_div);\n",
       "\n",
       "    function on_mouse_event_closure(name) {\n",
       "        return function (event) {\n",
       "            return fig.mouse_event(event, name);\n",
       "        };\n",
       "    }\n",
       "\n",
       "    rubberband_canvas.addEventListener(\n",
       "        'mousedown',\n",
       "        on_mouse_event_closure('button_press')\n",
       "    );\n",
       "    rubberband_canvas.addEventListener(\n",
       "        'mouseup',\n",
       "        on_mouse_event_closure('button_release')\n",
       "    );\n",
       "    rubberband_canvas.addEventListener(\n",
       "        'dblclick',\n",
       "        on_mouse_event_closure('dblclick')\n",
       "    );\n",
       "    // Throttle sequential mouse events to 1 every 20ms.\n",
       "    rubberband_canvas.addEventListener(\n",
       "        'mousemove',\n",
       "        on_mouse_event_closure('motion_notify')\n",
       "    );\n",
       "\n",
       "    rubberband_canvas.addEventListener(\n",
       "        'mouseenter',\n",
       "        on_mouse_event_closure('figure_enter')\n",
       "    );\n",
       "    rubberband_canvas.addEventListener(\n",
       "        'mouseleave',\n",
       "        on_mouse_event_closure('figure_leave')\n",
       "    );\n",
       "\n",
       "    canvas_div.addEventListener('wheel', function (event) {\n",
       "        if (event.deltaY < 0) {\n",
       "            event.step = 1;\n",
       "        } else {\n",
       "            event.step = -1;\n",
       "        }\n",
       "        on_mouse_event_closure('scroll')(event);\n",
       "    });\n",
       "\n",
       "    canvas_div.appendChild(canvas);\n",
       "    canvas_div.appendChild(rubberband_canvas);\n",
       "\n",
       "    this.rubberband_context = rubberband_canvas.getContext('2d');\n",
       "    this.rubberband_context.strokeStyle = '#000000';\n",
       "\n",
       "    this._resize_canvas = function (width, height, forward) {\n",
       "        if (forward) {\n",
       "            canvas_div.style.width = width + 'px';\n",
       "            canvas_div.style.height = height + 'px';\n",
       "        }\n",
       "    };\n",
       "\n",
       "    // Disable right mouse context menu.\n",
       "    this.rubberband_canvas.addEventListener('contextmenu', function (_e) {\n",
       "        event.preventDefault();\n",
       "        return false;\n",
       "    });\n",
       "\n",
       "    function set_focus() {\n",
       "        canvas.focus();\n",
       "        canvas_div.focus();\n",
       "    }\n",
       "\n",
       "    window.setTimeout(set_focus, 100);\n",
       "};\n",
       "\n",
       "mpl.figure.prototype._init_toolbar = function () {\n",
       "    var fig = this;\n",
       "\n",
       "    var toolbar = document.createElement('div');\n",
       "    toolbar.classList = 'mpl-toolbar';\n",
       "    this.root.appendChild(toolbar);\n",
       "\n",
       "    function on_click_closure(name) {\n",
       "        return function (_event) {\n",
       "            return fig.toolbar_button_onclick(name);\n",
       "        };\n",
       "    }\n",
       "\n",
       "    function on_mouseover_closure(tooltip) {\n",
       "        return function (event) {\n",
       "            if (!event.currentTarget.disabled) {\n",
       "                return fig.toolbar_button_onmouseover(tooltip);\n",
       "            }\n",
       "        };\n",
       "    }\n",
       "\n",
       "    fig.buttons = {};\n",
       "    var buttonGroup = document.createElement('div');\n",
       "    buttonGroup.classList = 'mpl-button-group';\n",
       "    for (var toolbar_ind in mpl.toolbar_items) {\n",
       "        var name = mpl.toolbar_items[toolbar_ind][0];\n",
       "        var tooltip = mpl.toolbar_items[toolbar_ind][1];\n",
       "        var image = mpl.toolbar_items[toolbar_ind][2];\n",
       "        var method_name = mpl.toolbar_items[toolbar_ind][3];\n",
       "\n",
       "        if (!name) {\n",
       "            /* Instead of a spacer, we start a new button group. */\n",
       "            if (buttonGroup.hasChildNodes()) {\n",
       "                toolbar.appendChild(buttonGroup);\n",
       "            }\n",
       "            buttonGroup = document.createElement('div');\n",
       "            buttonGroup.classList = 'mpl-button-group';\n",
       "            continue;\n",
       "        }\n",
       "\n",
       "        var button = (fig.buttons[name] = document.createElement('button'));\n",
       "        button.classList = 'mpl-widget';\n",
       "        button.setAttribute('role', 'button');\n",
       "        button.setAttribute('aria-disabled', 'false');\n",
       "        button.addEventListener('click', on_click_closure(method_name));\n",
       "        button.addEventListener('mouseover', on_mouseover_closure(tooltip));\n",
       "\n",
       "        var icon_img = document.createElement('img');\n",
       "        icon_img.src = '_images/' + image + '.png';\n",
       "        icon_img.srcset = '_images/' + image + '_large.png 2x';\n",
       "        icon_img.alt = tooltip;\n",
       "        button.appendChild(icon_img);\n",
       "\n",
       "        buttonGroup.appendChild(button);\n",
       "    }\n",
       "\n",
       "    if (buttonGroup.hasChildNodes()) {\n",
       "        toolbar.appendChild(buttonGroup);\n",
       "    }\n",
       "\n",
       "    var fmt_picker = document.createElement('select');\n",
       "    fmt_picker.classList = 'mpl-widget';\n",
       "    toolbar.appendChild(fmt_picker);\n",
       "    this.format_dropdown = fmt_picker;\n",
       "\n",
       "    for (var ind in mpl.extensions) {\n",
       "        var fmt = mpl.extensions[ind];\n",
       "        var option = document.createElement('option');\n",
       "        option.selected = fmt === mpl.default_extension;\n",
       "        option.innerHTML = fmt;\n",
       "        fmt_picker.appendChild(option);\n",
       "    }\n",
       "\n",
       "    var status_bar = document.createElement('span');\n",
       "    status_bar.classList = 'mpl-message';\n",
       "    toolbar.appendChild(status_bar);\n",
       "    this.message = status_bar;\n",
       "};\n",
       "\n",
       "mpl.figure.prototype.request_resize = function (x_pixels, y_pixels) {\n",
       "    // Request matplotlib to resize the figure. Matplotlib will then trigger a resize in the client,\n",
       "    // which will in turn request a refresh of the image.\n",
       "    this.send_message('resize', { width: x_pixels, height: y_pixels });\n",
       "};\n",
       "\n",
       "mpl.figure.prototype.send_message = function (type, properties) {\n",
       "    properties['type'] = type;\n",
       "    properties['figure_id'] = this.id;\n",
       "    this.ws.send(JSON.stringify(properties));\n",
       "};\n",
       "\n",
       "mpl.figure.prototype.send_draw_message = function () {\n",
       "    if (!this.waiting) {\n",
       "        this.waiting = true;\n",
       "        this.ws.send(JSON.stringify({ type: 'draw', figure_id: this.id }));\n",
       "    }\n",
       "};\n",
       "\n",
       "mpl.figure.prototype.handle_save = function (fig, _msg) {\n",
       "    var format_dropdown = fig.format_dropdown;\n",
       "    var format = format_dropdown.options[format_dropdown.selectedIndex].value;\n",
       "    fig.ondownload(fig, format);\n",
       "};\n",
       "\n",
       "mpl.figure.prototype.handle_resize = function (fig, msg) {\n",
       "    var size = msg['size'];\n",
       "    if (size[0] !== fig.canvas.width || size[1] !== fig.canvas.height) {\n",
       "        fig._resize_canvas(size[0], size[1], msg['forward']);\n",
       "        fig.send_message('refresh', {});\n",
       "    }\n",
       "};\n",
       "\n",
       "mpl.figure.prototype.handle_rubberband = function (fig, msg) {\n",
       "    var x0 = msg['x0'] / fig.ratio;\n",
       "    var y0 = (fig.canvas.height - msg['y0']) / fig.ratio;\n",
       "    var x1 = msg['x1'] / fig.ratio;\n",
       "    var y1 = (fig.canvas.height - msg['y1']) / fig.ratio;\n",
       "    x0 = Math.floor(x0) + 0.5;\n",
       "    y0 = Math.floor(y0) + 0.5;\n",
       "    x1 = Math.floor(x1) + 0.5;\n",
       "    y1 = Math.floor(y1) + 0.5;\n",
       "    var min_x = Math.min(x0, x1);\n",
       "    var min_y = Math.min(y0, y1);\n",
       "    var width = Math.abs(x1 - x0);\n",
       "    var height = Math.abs(y1 - y0);\n",
       "\n",
       "    fig.rubberband_context.clearRect(\n",
       "        0,\n",
       "        0,\n",
       "        fig.canvas.width / fig.ratio,\n",
       "        fig.canvas.height / fig.ratio\n",
       "    );\n",
       "\n",
       "    fig.rubberband_context.strokeRect(min_x, min_y, width, height);\n",
       "};\n",
       "\n",
       "mpl.figure.prototype.handle_figure_label = function (fig, msg) {\n",
       "    // Updates the figure title.\n",
       "    fig.header.textContent = msg['label'];\n",
       "};\n",
       "\n",
       "mpl.figure.prototype.handle_cursor = function (fig, msg) {\n",
       "    fig.rubberband_canvas.style.cursor = msg['cursor'];\n",
       "};\n",
       "\n",
       "mpl.figure.prototype.handle_message = function (fig, msg) {\n",
       "    fig.message.textContent = msg['message'];\n",
       "};\n",
       "\n",
       "mpl.figure.prototype.handle_draw = function (fig, _msg) {\n",
       "    // Request the server to send over a new figure.\n",
       "    fig.send_draw_message();\n",
       "};\n",
       "\n",
       "mpl.figure.prototype.handle_image_mode = function (fig, msg) {\n",
       "    fig.image_mode = msg['mode'];\n",
       "};\n",
       "\n",
       "mpl.figure.prototype.handle_history_buttons = function (fig, msg) {\n",
       "    for (var key in msg) {\n",
       "        if (!(key in fig.buttons)) {\n",
       "            continue;\n",
       "        }\n",
       "        fig.buttons[key].disabled = !msg[key];\n",
       "        fig.buttons[key].setAttribute('aria-disabled', !msg[key]);\n",
       "    }\n",
       "};\n",
       "\n",
       "mpl.figure.prototype.handle_navigate_mode = function (fig, msg) {\n",
       "    if (msg['mode'] === 'PAN') {\n",
       "        fig.buttons['Pan'].classList.add('active');\n",
       "        fig.buttons['Zoom'].classList.remove('active');\n",
       "    } else if (msg['mode'] === 'ZOOM') {\n",
       "        fig.buttons['Pan'].classList.remove('active');\n",
       "        fig.buttons['Zoom'].classList.add('active');\n",
       "    } else {\n",
       "        fig.buttons['Pan'].classList.remove('active');\n",
       "        fig.buttons['Zoom'].classList.remove('active');\n",
       "    }\n",
       "};\n",
       "\n",
       "mpl.figure.prototype.updated_canvas_event = function () {\n",
       "    // Called whenever the canvas gets updated.\n",
       "    this.send_message('ack', {});\n",
       "};\n",
       "\n",
       "// A function to construct a web socket function for onmessage handling.\n",
       "// Called in the figure constructor.\n",
       "mpl.figure.prototype._make_on_message_function = function (fig) {\n",
       "    return function socket_on_message(evt) {\n",
       "        if (evt.data instanceof Blob) {\n",
       "            var img = evt.data;\n",
       "            if (img.type !== 'image/png') {\n",
       "                /* FIXME: We get \"Resource interpreted as Image but\n",
       "                 * transferred with MIME type text/plain:\" errors on\n",
       "                 * Chrome.  But how to set the MIME type?  It doesn't seem\n",
       "                 * to be part of the websocket stream */\n",
       "                img.type = 'image/png';\n",
       "            }\n",
       "\n",
       "            /* Free the memory for the previous frames */\n",
       "            if (fig.imageObj.src) {\n",
       "                (window.URL || window.webkitURL).revokeObjectURL(\n",
       "                    fig.imageObj.src\n",
       "                );\n",
       "            }\n",
       "\n",
       "            fig.imageObj.src = (window.URL || window.webkitURL).createObjectURL(\n",
       "                img\n",
       "            );\n",
       "            fig.updated_canvas_event();\n",
       "            fig.waiting = false;\n",
       "            return;\n",
       "        } else if (\n",
       "            typeof evt.data === 'string' &&\n",
       "            evt.data.slice(0, 21) === 'data:image/png;base64'\n",
       "        ) {\n",
       "            fig.imageObj.src = evt.data;\n",
       "            fig.updated_canvas_event();\n",
       "            fig.waiting = false;\n",
       "            return;\n",
       "        }\n",
       "\n",
       "        var msg = JSON.parse(evt.data);\n",
       "        var msg_type = msg['type'];\n",
       "\n",
       "        // Call the  \"handle_{type}\" callback, which takes\n",
       "        // the figure and JSON message as its only arguments.\n",
       "        try {\n",
       "            var callback = fig['handle_' + msg_type];\n",
       "        } catch (e) {\n",
       "            console.log(\n",
       "                \"No handler for the '\" + msg_type + \"' message type: \",\n",
       "                msg\n",
       "            );\n",
       "            return;\n",
       "        }\n",
       "\n",
       "        if (callback) {\n",
       "            try {\n",
       "                // console.log(\"Handling '\" + msg_type + \"' message: \", msg);\n",
       "                callback(fig, msg);\n",
       "            } catch (e) {\n",
       "                console.log(\n",
       "                    \"Exception inside the 'handler_\" + msg_type + \"' callback:\",\n",
       "                    e,\n",
       "                    e.stack,\n",
       "                    msg\n",
       "                );\n",
       "            }\n",
       "        }\n",
       "    };\n",
       "};\n",
       "\n",
       "// from https://stackoverflow.com/questions/1114465/getting-mouse-location-in-canvas\n",
       "mpl.findpos = function (e) {\n",
       "    //this section is from http://www.quirksmode.org/js/events_properties.html\n",
       "    var targ;\n",
       "    if (!e) {\n",
       "        e = window.event;\n",
       "    }\n",
       "    if (e.target) {\n",
       "        targ = e.target;\n",
       "    } else if (e.srcElement) {\n",
       "        targ = e.srcElement;\n",
       "    }\n",
       "    if (targ.nodeType === 3) {\n",
       "        // defeat Safari bug\n",
       "        targ = targ.parentNode;\n",
       "    }\n",
       "\n",
       "    // pageX,Y are the mouse positions relative to the document\n",
       "    var boundingRect = targ.getBoundingClientRect();\n",
       "    var x = e.pageX - (boundingRect.left + document.body.scrollLeft);\n",
       "    var y = e.pageY - (boundingRect.top + document.body.scrollTop);\n",
       "\n",
       "    return { x: x, y: y };\n",
       "};\n",
       "\n",
       "/*\n",
       " * return a copy of an object with only non-object keys\n",
       " * we need this to avoid circular references\n",
       " * https://stackoverflow.com/a/24161582/3208463\n",
       " */\n",
       "function simpleKeys(original) {\n",
       "    return Object.keys(original).reduce(function (obj, key) {\n",
       "        if (typeof original[key] !== 'object') {\n",
       "            obj[key] = original[key];\n",
       "        }\n",
       "        return obj;\n",
       "    }, {});\n",
       "}\n",
       "\n",
       "mpl.figure.prototype.mouse_event = function (event, name) {\n",
       "    var canvas_pos = mpl.findpos(event);\n",
       "\n",
       "    if (name === 'button_press') {\n",
       "        this.canvas.focus();\n",
       "        this.canvas_div.focus();\n",
       "    }\n",
       "\n",
       "    var x = canvas_pos.x * this.ratio;\n",
       "    var y = canvas_pos.y * this.ratio;\n",
       "\n",
       "    this.send_message(name, {\n",
       "        x: x,\n",
       "        y: y,\n",
       "        button: event.button,\n",
       "        step: event.step,\n",
       "        guiEvent: simpleKeys(event),\n",
       "    });\n",
       "\n",
       "    /* This prevents the web browser from automatically changing to\n",
       "     * the text insertion cursor when the button is pressed.  We want\n",
       "     * to control all of the cursor setting manually through the\n",
       "     * 'cursor' event from matplotlib */\n",
       "    event.preventDefault();\n",
       "    return false;\n",
       "};\n",
       "\n",
       "mpl.figure.prototype._key_event_extra = function (_event, _name) {\n",
       "    // Handle any extra behaviour associated with a key event\n",
       "};\n",
       "\n",
       "mpl.figure.prototype.key_event = function (event, name) {\n",
       "    // Prevent repeat events\n",
       "    if (name === 'key_press') {\n",
       "        if (event.key === this._key) {\n",
       "            return;\n",
       "        } else {\n",
       "            this._key = event.key;\n",
       "        }\n",
       "    }\n",
       "    if (name === 'key_release') {\n",
       "        this._key = null;\n",
       "    }\n",
       "\n",
       "    var value = '';\n",
       "    if (event.ctrlKey && event.key !== 'Control') {\n",
       "        value += 'ctrl+';\n",
       "    }\n",
       "    else if (event.altKey && event.key !== 'Alt') {\n",
       "        value += 'alt+';\n",
       "    }\n",
       "    else if (event.shiftKey && event.key !== 'Shift') {\n",
       "        value += 'shift+';\n",
       "    }\n",
       "\n",
       "    value += 'k' + event.key;\n",
       "\n",
       "    this._key_event_extra(event, name);\n",
       "\n",
       "    this.send_message(name, { key: value, guiEvent: simpleKeys(event) });\n",
       "    return false;\n",
       "};\n",
       "\n",
       "mpl.figure.prototype.toolbar_button_onclick = function (name) {\n",
       "    if (name === 'download') {\n",
       "        this.handle_save(this, null);\n",
       "    } else {\n",
       "        this.send_message('toolbar_button', { name: name });\n",
       "    }\n",
       "};\n",
       "\n",
       "mpl.figure.prototype.toolbar_button_onmouseover = function (tooltip) {\n",
       "    this.message.textContent = tooltip;\n",
       "};\n",
       "\n",
       "///////////////// REMAINING CONTENT GENERATED BY embed_js.py /////////////////\n",
       "// prettier-ignore\n",
       "var _JSXTOOLS_RESIZE_OBSERVER=function(A){var t,i=new WeakMap,n=new WeakMap,a=new WeakMap,r=new WeakMap,o=new Set;function s(e){if(!(this instanceof s))throw new TypeError(\"Constructor requires 'new' operator\");i.set(this,e)}function h(){throw new TypeError(\"Function is not a constructor\")}function c(e,t,i,n){e=0 in arguments?Number(arguments[0]):0,t=1 in arguments?Number(arguments[1]):0,i=2 in arguments?Number(arguments[2]):0,n=3 in arguments?Number(arguments[3]):0,this.right=(this.x=this.left=e)+(this.width=i),this.bottom=(this.y=this.top=t)+(this.height=n),Object.freeze(this)}function d(){t=requestAnimationFrame(d);var s=new WeakMap,p=new Set;o.forEach((function(t){r.get(t).forEach((function(i){var r=t instanceof window.SVGElement,o=a.get(t),d=r?0:parseFloat(o.paddingTop),f=r?0:parseFloat(o.paddingRight),l=r?0:parseFloat(o.paddingBottom),u=r?0:parseFloat(o.paddingLeft),g=r?0:parseFloat(o.borderTopWidth),m=r?0:parseFloat(o.borderRightWidth),w=r?0:parseFloat(o.borderBottomWidth),b=u+f,F=d+l,v=(r?0:parseFloat(o.borderLeftWidth))+m,W=g+w,y=r?0:t.offsetHeight-W-t.clientHeight,E=r?0:t.offsetWidth-v-t.clientWidth,R=b+v,z=F+W,M=r?t.width:parseFloat(o.width)-R-E,O=r?t.height:parseFloat(o.height)-z-y;if(n.has(t)){var k=n.get(t);if(k[0]===M&&k[1]===O)return}n.set(t,[M,O]);var S=Object.create(h.prototype);S.target=t,S.contentRect=new c(u,d,M,O),s.has(i)||(s.set(i,[]),p.add(i)),s.get(i).push(S)}))})),p.forEach((function(e){i.get(e).call(e,s.get(e),e)}))}return s.prototype.observe=function(i){if(i instanceof window.Element){r.has(i)||(r.set(i,new Set),o.add(i),a.set(i,window.getComputedStyle(i)));var n=r.get(i);n.has(this)||n.add(this),cancelAnimationFrame(t),t=requestAnimationFrame(d)}},s.prototype.unobserve=function(i){if(i instanceof window.Element&&r.has(i)){var n=r.get(i);n.has(this)&&(n.delete(this),n.size||(r.delete(i),o.delete(i))),n.size||r.delete(i),o.size||cancelAnimationFrame(t)}},A.DOMRectReadOnly=c,A.ResizeObserver=s,A.ResizeObserverEntry=h,A}; // eslint-disable-line\n",
       "mpl.toolbar_items = [[\"Home\", \"Reset original view\", \"fa fa-home icon-home\", \"home\"], [\"Back\", \"Back to previous view\", \"fa fa-arrow-left icon-arrow-left\", \"back\"], [\"Forward\", \"Forward to next view\", \"fa fa-arrow-right icon-arrow-right\", \"forward\"], [\"\", \"\", \"\", \"\"], [\"Pan\", \"Left button pans, Right button zooms\\nx/y fixes axis, CTRL fixes aspect\", \"fa fa-arrows icon-move\", \"pan\"], [\"Zoom\", \"Zoom to rectangle\\nx/y fixes axis\", \"fa fa-square-o icon-check-empty\", \"zoom\"], [\"\", \"\", \"\", \"\"], [\"Download\", \"Download plot\", \"fa fa-floppy-o icon-save\", \"download\"]];\n",
       "\n",
       "mpl.extensions = [\"eps\", \"jpeg\", \"pgf\", \"pdf\", \"png\", \"ps\", \"raw\", \"svg\", \"tif\"];\n",
       "\n",
       "mpl.default_extension = \"png\";/* global mpl */\n",
       "\n",
       "var comm_websocket_adapter = function (comm) {\n",
       "    // Create a \"websocket\"-like object which calls the given IPython comm\n",
       "    // object with the appropriate methods. Currently this is a non binary\n",
       "    // socket, so there is still some room for performance tuning.\n",
       "    var ws = {};\n",
       "\n",
       "    ws.binaryType = comm.kernel.ws.binaryType;\n",
       "    ws.readyState = comm.kernel.ws.readyState;\n",
       "    function updateReadyState(_event) {\n",
       "        if (comm.kernel.ws) {\n",
       "            ws.readyState = comm.kernel.ws.readyState;\n",
       "        } else {\n",
       "            ws.readyState = 3; // Closed state.\n",
       "        }\n",
       "    }\n",
       "    comm.kernel.ws.addEventListener('open', updateReadyState);\n",
       "    comm.kernel.ws.addEventListener('close', updateReadyState);\n",
       "    comm.kernel.ws.addEventListener('error', updateReadyState);\n",
       "\n",
       "    ws.close = function () {\n",
       "        comm.close();\n",
       "    };\n",
       "    ws.send = function (m) {\n",
       "        //console.log('sending', m);\n",
       "        comm.send(m);\n",
       "    };\n",
       "    // Register the callback with on_msg.\n",
       "    comm.on_msg(function (msg) {\n",
       "        //console.log('receiving', msg['content']['data'], msg);\n",
       "        var data = msg['content']['data'];\n",
       "        if (data['blob'] !== undefined) {\n",
       "            data = {\n",
       "                data: new Blob(msg['buffers'], { type: data['blob'] }),\n",
       "            };\n",
       "        }\n",
       "        // Pass the mpl event to the overridden (by mpl) onmessage function.\n",
       "        ws.onmessage(data);\n",
       "    });\n",
       "    return ws;\n",
       "};\n",
       "\n",
       "mpl.mpl_figure_comm = function (comm, msg) {\n",
       "    // This is the function which gets called when the mpl process\n",
       "    // starts-up an IPython Comm through the \"matplotlib\" channel.\n",
       "\n",
       "    var id = msg.content.data.id;\n",
       "    // Get hold of the div created by the display call when the Comm\n",
       "    // socket was opened in Python.\n",
       "    var element = document.getElementById(id);\n",
       "    var ws_proxy = comm_websocket_adapter(comm);\n",
       "\n",
       "    function ondownload(figure, _format) {\n",
       "        window.open(figure.canvas.toDataURL());\n",
       "    }\n",
       "\n",
       "    var fig = new mpl.figure(id, ws_proxy, ondownload, element);\n",
       "\n",
       "    // Call onopen now - mpl needs it, as it is assuming we've passed it a real\n",
       "    // web socket which is closed, not our websocket->open comm proxy.\n",
       "    ws_proxy.onopen();\n",
       "\n",
       "    fig.parent_element = element;\n",
       "    fig.cell_info = mpl.find_output_cell(\"<div id='\" + id + \"'></div>\");\n",
       "    if (!fig.cell_info) {\n",
       "        console.error('Failed to find cell for figure', id, fig);\n",
       "        return;\n",
       "    }\n",
       "    fig.cell_info[0].output_area.element.on(\n",
       "        'cleared',\n",
       "        { fig: fig },\n",
       "        fig._remove_fig_handler\n",
       "    );\n",
       "};\n",
       "\n",
       "mpl.figure.prototype.handle_close = function (fig, msg) {\n",
       "    var width = fig.canvas.width / fig.ratio;\n",
       "    fig.cell_info[0].output_area.element.off(\n",
       "        'cleared',\n",
       "        fig._remove_fig_handler\n",
       "    );\n",
       "    fig.resizeObserverInstance.unobserve(fig.canvas_div);\n",
       "\n",
       "    // Update the output cell to use the data from the current canvas.\n",
       "    fig.push_to_output();\n",
       "    var dataURL = fig.canvas.toDataURL();\n",
       "    // Re-enable the keyboard manager in IPython - without this line, in FF,\n",
       "    // the notebook keyboard shortcuts fail.\n",
       "    IPython.keyboard_manager.enable();\n",
       "    fig.parent_element.innerHTML =\n",
       "        '<img src=\"' + dataURL + '\" width=\"' + width + '\">';\n",
       "    fig.close_ws(fig, msg);\n",
       "};\n",
       "\n",
       "mpl.figure.prototype.close_ws = function (fig, msg) {\n",
       "    fig.send_message('closing', msg);\n",
       "    // fig.ws.close()\n",
       "};\n",
       "\n",
       "mpl.figure.prototype.push_to_output = function (_remove_interactive) {\n",
       "    // Turn the data on the canvas into data in the output cell.\n",
       "    var width = this.canvas.width / this.ratio;\n",
       "    var dataURL = this.canvas.toDataURL();\n",
       "    this.cell_info[1]['text/html'] =\n",
       "        '<img src=\"' + dataURL + '\" width=\"' + width + '\">';\n",
       "};\n",
       "\n",
       "mpl.figure.prototype.updated_canvas_event = function () {\n",
       "    // Tell IPython that the notebook contents must change.\n",
       "    IPython.notebook.set_dirty(true);\n",
       "    this.send_message('ack', {});\n",
       "    var fig = this;\n",
       "    // Wait a second, then push the new image to the DOM so\n",
       "    // that it is saved nicely (might be nice to debounce this).\n",
       "    setTimeout(function () {\n",
       "        fig.push_to_output();\n",
       "    }, 1000);\n",
       "};\n",
       "\n",
       "mpl.figure.prototype._init_toolbar = function () {\n",
       "    var fig = this;\n",
       "\n",
       "    var toolbar = document.createElement('div');\n",
       "    toolbar.classList = 'btn-toolbar';\n",
       "    this.root.appendChild(toolbar);\n",
       "\n",
       "    function on_click_closure(name) {\n",
       "        return function (_event) {\n",
       "            return fig.toolbar_button_onclick(name);\n",
       "        };\n",
       "    }\n",
       "\n",
       "    function on_mouseover_closure(tooltip) {\n",
       "        return function (event) {\n",
       "            if (!event.currentTarget.disabled) {\n",
       "                return fig.toolbar_button_onmouseover(tooltip);\n",
       "            }\n",
       "        };\n",
       "    }\n",
       "\n",
       "    fig.buttons = {};\n",
       "    var buttonGroup = document.createElement('div');\n",
       "    buttonGroup.classList = 'btn-group';\n",
       "    var button;\n",
       "    for (var toolbar_ind in mpl.toolbar_items) {\n",
       "        var name = mpl.toolbar_items[toolbar_ind][0];\n",
       "        var tooltip = mpl.toolbar_items[toolbar_ind][1];\n",
       "        var image = mpl.toolbar_items[toolbar_ind][2];\n",
       "        var method_name = mpl.toolbar_items[toolbar_ind][3];\n",
       "\n",
       "        if (!name) {\n",
       "            /* Instead of a spacer, we start a new button group. */\n",
       "            if (buttonGroup.hasChildNodes()) {\n",
       "                toolbar.appendChild(buttonGroup);\n",
       "            }\n",
       "            buttonGroup = document.createElement('div');\n",
       "            buttonGroup.classList = 'btn-group';\n",
       "            continue;\n",
       "        }\n",
       "\n",
       "        button = fig.buttons[name] = document.createElement('button');\n",
       "        button.classList = 'btn btn-default';\n",
       "        button.href = '#';\n",
       "        button.title = name;\n",
       "        button.innerHTML = '<i class=\"fa ' + image + ' fa-lg\"></i>';\n",
       "        button.addEventListener('click', on_click_closure(method_name));\n",
       "        button.addEventListener('mouseover', on_mouseover_closure(tooltip));\n",
       "        buttonGroup.appendChild(button);\n",
       "    }\n",
       "\n",
       "    if (buttonGroup.hasChildNodes()) {\n",
       "        toolbar.appendChild(buttonGroup);\n",
       "    }\n",
       "\n",
       "    // Add the status bar.\n",
       "    var status_bar = document.createElement('span');\n",
       "    status_bar.classList = 'mpl-message pull-right';\n",
       "    toolbar.appendChild(status_bar);\n",
       "    this.message = status_bar;\n",
       "\n",
       "    // Add the close button to the window.\n",
       "    var buttongrp = document.createElement('div');\n",
       "    buttongrp.classList = 'btn-group inline pull-right';\n",
       "    button = document.createElement('button');\n",
       "    button.classList = 'btn btn-mini btn-primary';\n",
       "    button.href = '#';\n",
       "    button.title = 'Stop Interaction';\n",
       "    button.innerHTML = '<i class=\"fa fa-power-off icon-remove icon-large\"></i>';\n",
       "    button.addEventListener('click', function (_evt) {\n",
       "        fig.handle_close(fig, {});\n",
       "    });\n",
       "    button.addEventListener(\n",
       "        'mouseover',\n",
       "        on_mouseover_closure('Stop Interaction')\n",
       "    );\n",
       "    buttongrp.appendChild(button);\n",
       "    var titlebar = this.root.querySelector('.ui-dialog-titlebar');\n",
       "    titlebar.insertBefore(buttongrp, titlebar.firstChild);\n",
       "};\n",
       "\n",
       "mpl.figure.prototype._remove_fig_handler = function (event) {\n",
       "    var fig = event.data.fig;\n",
       "    if (event.target !== this) {\n",
       "        // Ignore bubbled events from children.\n",
       "        return;\n",
       "    }\n",
       "    fig.close_ws(fig, {});\n",
       "};\n",
       "\n",
       "mpl.figure.prototype._root_extra_style = function (el) {\n",
       "    el.style.boxSizing = 'content-box'; // override notebook setting of border-box.\n",
       "};\n",
       "\n",
       "mpl.figure.prototype._canvas_extra_style = function (el) {\n",
       "    // this is important to make the div 'focusable\n",
       "    el.setAttribute('tabindex', 0);\n",
       "    // reach out to IPython and tell the keyboard manager to turn it's self\n",
       "    // off when our div gets focus\n",
       "\n",
       "    // location in version 3\n",
       "    if (IPython.notebook.keyboard_manager) {\n",
       "        IPython.notebook.keyboard_manager.register_events(el);\n",
       "    } else {\n",
       "        // location in version 2\n",
       "        IPython.keyboard_manager.register_events(el);\n",
       "    }\n",
       "};\n",
       "\n",
       "mpl.figure.prototype._key_event_extra = function (event, _name) {\n",
       "    // Check for shift+enter\n",
       "    if (event.shiftKey && event.which === 13) {\n",
       "        this.canvas_div.blur();\n",
       "        // select the cell after this one\n",
       "        var index = IPython.notebook.find_cell_index(this.cell_info[0]);\n",
       "        IPython.notebook.select(index + 1);\n",
       "    }\n",
       "};\n",
       "\n",
       "mpl.figure.prototype.handle_save = function (fig, _msg) {\n",
       "    fig.ondownload(fig, null);\n",
       "};\n",
       "\n",
       "mpl.find_output_cell = function (html_output) {\n",
       "    // Return the cell and output element which can be found *uniquely* in the notebook.\n",
       "    // Note - this is a bit hacky, but it is done because the \"notebook_saving.Notebook\"\n",
       "    // IPython event is triggered only after the cells have been serialised, which for\n",
       "    // our purposes (turning an active figure into a static one), is too late.\n",
       "    var cells = IPython.notebook.get_cells();\n",
       "    var ncells = cells.length;\n",
       "    for (var i = 0; i < ncells; i++) {\n",
       "        var cell = cells[i];\n",
       "        if (cell.cell_type === 'code') {\n",
       "            for (var j = 0; j < cell.output_area.outputs.length; j++) {\n",
       "                var data = cell.output_area.outputs[j];\n",
       "                if (data.data) {\n",
       "                    // IPython >= 3 moved mimebundle to data attribute of output\n",
       "                    data = data.data;\n",
       "                }\n",
       "                if (data['text/html'] === html_output) {\n",
       "                    return [cell, data, j];\n",
       "                }\n",
       "            }\n",
       "        }\n",
       "    }\n",
       "};\n",
       "\n",
       "// Register the function which deals with the matplotlib target/channel.\n",
       "// The kernel may be null if the page has been refreshed.\n",
       "if (IPython.notebook.kernel !== null) {\n",
       "    IPython.notebook.kernel.comm_manager.register_target(\n",
       "        'matplotlib',\n",
       "        mpl.mpl_figure_comm\n",
       "    );\n",
       "}\n"
      ],
      "text/plain": [
       "<IPython.core.display.Javascript object>"
      ]
     },
     "metadata": {},
     "output_type": "display_data"
    },
    {
     "data": {
      "text/html": [
       "<img src=\"data:image/png;base64,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\" width=\"640\">"
      ],
      "text/plain": [
       "<IPython.core.display.HTML object>"
      ]
     },
     "metadata": {},
     "output_type": "display_data"
    },
    {
     "data": {
      "text/plain": [
       "Text(0, 0.5, 'Population size')"
      ]
     },
     "execution_count": 145,
     "metadata": {},
     "output_type": "execute_result"
    }
   ],
   "source": [
    "for i, N in enumerate([N1, N2]):\n",
    "    plt.plot(t, n1_n2[:, i], label=r'${0:s}$'.format(latex(N)))\n",
    "    plt.axhline(y=ss_dict[N].subs({K1: k1, K2: k2, alpha: a, beta: b}),\n",
    "                linestyle='--',\n",
    "                label=r'${0:s}$ steady state'.format(latex(N)))\n",
    "\n",
    "plt.legend(loc=0, fontsize=15)\n",
    "plt.xlabel('time (units consistent with $r_1$ and $r_2$)')\n",
    "plt.ylabel('Population size')"
   ]
  },
  {
   "cell_type": "markdown",
   "metadata": {},
   "source": [
    "The [**generalised Lotka-Volterra equations**](https://en.wikipedia.org/wiki/Generalized_Lotka–Volterra_equation) model the dynamics of the populations $x_1, x_2, \\dots, x_n$ of $n$ biological species ([lecture](https://stefanoallesina.github.io/Sao_Paulo_School/intro.html#basic-formulation)). Together, these populations can be considered as a vector $\\mathbf{x}$. They are a set of ordinary differential equations given by\n",
    "\n",
    "$$\\frac{dx_i}{dt}=x_i f_i(\\mathbf{x})$$\n",
    "\n",
    "where the vector $\\mathbf{f}$  is given by\n",
    "\n",
    "$$\\mathbf{f}=\\mathbf{r}+\\mathbf{A}\\mathbf{x}$$\n",
    "\n",
    "where $\\mathbf{r}$ is a vector and $\\mathbf{A}$ is a matrix known as the [community matrix](https://en.wikipedia.org/wiki/Community_matrix)."
   ]
  },
  {
   "cell_type": "code",
   "execution_count": 146,
   "metadata": {},
   "outputs": [
    {
     "data": {
      "text/plain": [
       "[Eq(y0(t), C1*exp(t)), Eq(y1(t), C2*exp(t)), Eq(y2(t), C3*exp(t))]"
      ]
     },
     "execution_count": 146,
     "metadata": {},
     "output_type": "execute_result"
    }
   ],
   "source": [
    "y0 = Function('y0')\n",
    "y1 = Function('y1')\n",
    "y2 = Function('y2')\n",
    "t = symbols('t')\n",
    "C1, C2, C3 = symbols('C1, C2, C3')\n",
    "b0,b1,b2 = symbols('b0:3')\n",
    "\n",
    "y = Matrix([y0(t), y1(t), y2(t)])\n",
    "B = Matrix([b0,b1,b2])\n",
    "\n",
    "ode = (y.diff(t) - y).T.tolist()[0]\n",
    "soln = dsolve(ode, y.T.tolist()[0])\n",
    "soln"
   ]
  },
  {
   "cell_type": "code",
   "execution_count": 147,
   "metadata": {},
   "outputs": [
    {
     "data": {
      "application/javascript": [
       "/* Put everything inside the global mpl namespace */\n",
       "/* global mpl */\n",
       "window.mpl = {};\n",
       "\n",
       "mpl.get_websocket_type = function () {\n",
       "    if (typeof WebSocket !== 'undefined') {\n",
       "        return WebSocket;\n",
       "    } else if (typeof MozWebSocket !== 'undefined') {\n",
       "        return MozWebSocket;\n",
       "    } else {\n",
       "        alert(\n",
       "            'Your browser does not have WebSocket support. ' +\n",
       "                'Please try Chrome, Safari or Firefox ≥ 6. ' +\n",
       "                'Firefox 4 and 5 are also supported but you ' +\n",
       "                'have to enable WebSockets in about:config.'\n",
       "        );\n",
       "    }\n",
       "};\n",
       "\n",
       "mpl.figure = function (figure_id, websocket, ondownload, parent_element) {\n",
       "    this.id = figure_id;\n",
       "\n",
       "    this.ws = websocket;\n",
       "\n",
       "    this.supports_binary = this.ws.binaryType !== undefined;\n",
       "\n",
       "    if (!this.supports_binary) {\n",
       "        var warnings = document.getElementById('mpl-warnings');\n",
       "        if (warnings) {\n",
       "            warnings.style.display = 'block';\n",
       "            warnings.textContent =\n",
       "                'This browser does not support binary websocket messages. ' +\n",
       "                'Performance may be slow.';\n",
       "        }\n",
       "    }\n",
       "\n",
       "    this.imageObj = new Image();\n",
       "\n",
       "    this.context = undefined;\n",
       "    this.message = undefined;\n",
       "    this.canvas = undefined;\n",
       "    this.rubberband_canvas = undefined;\n",
       "    this.rubberband_context = undefined;\n",
       "    this.format_dropdown = undefined;\n",
       "\n",
       "    this.image_mode = 'full';\n",
       "\n",
       "    this.root = document.createElement('div');\n",
       "    this.root.setAttribute('style', 'display: inline-block');\n",
       "    this._root_extra_style(this.root);\n",
       "\n",
       "    parent_element.appendChild(this.root);\n",
       "\n",
       "    this._init_header(this);\n",
       "    this._init_canvas(this);\n",
       "    this._init_toolbar(this);\n",
       "\n",
       "    var fig = this;\n",
       "\n",
       "    this.waiting = false;\n",
       "\n",
       "    this.ws.onopen = function () {\n",
       "        fig.send_message('supports_binary', { value: fig.supports_binary });\n",
       "        fig.send_message('send_image_mode', {});\n",
       "        if (fig.ratio !== 1) {\n",
       "            fig.send_message('set_device_pixel_ratio', {\n",
       "                device_pixel_ratio: fig.ratio,\n",
       "            });\n",
       "        }\n",
       "        fig.send_message('refresh', {});\n",
       "    };\n",
       "\n",
       "    this.imageObj.onload = function () {\n",
       "        if (fig.image_mode === 'full') {\n",
       "            // Full images could contain transparency (where diff images\n",
       "            // almost always do), so we need to clear the canvas so that\n",
       "            // there is no ghosting.\n",
       "            fig.context.clearRect(0, 0, fig.canvas.width, fig.canvas.height);\n",
       "        }\n",
       "        fig.context.drawImage(fig.imageObj, 0, 0);\n",
       "    };\n",
       "\n",
       "    this.imageObj.onunload = function () {\n",
       "        fig.ws.close();\n",
       "    };\n",
       "\n",
       "    this.ws.onmessage = this._make_on_message_function(this);\n",
       "\n",
       "    this.ondownload = ondownload;\n",
       "};\n",
       "\n",
       "mpl.figure.prototype._init_header = function () {\n",
       "    var titlebar = document.createElement('div');\n",
       "    titlebar.classList =\n",
       "        'ui-dialog-titlebar ui-widget-header ui-corner-all ui-helper-clearfix';\n",
       "    var titletext = document.createElement('div');\n",
       "    titletext.classList = 'ui-dialog-title';\n",
       "    titletext.setAttribute(\n",
       "        'style',\n",
       "        'width: 100%; text-align: center; padding: 3px;'\n",
       "    );\n",
       "    titlebar.appendChild(titletext);\n",
       "    this.root.appendChild(titlebar);\n",
       "    this.header = titletext;\n",
       "};\n",
       "\n",
       "mpl.figure.prototype._canvas_extra_style = function (_canvas_div) {};\n",
       "\n",
       "mpl.figure.prototype._root_extra_style = function (_canvas_div) {};\n",
       "\n",
       "mpl.figure.prototype._init_canvas = function () {\n",
       "    var fig = this;\n",
       "\n",
       "    var canvas_div = (this.canvas_div = document.createElement('div'));\n",
       "    canvas_div.setAttribute(\n",
       "        'style',\n",
       "        'border: 1px solid #ddd;' +\n",
       "            'box-sizing: content-box;' +\n",
       "            'clear: both;' +\n",
       "            'min-height: 1px;' +\n",
       "            'min-width: 1px;' +\n",
       "            'outline: 0;' +\n",
       "            'overflow: hidden;' +\n",
       "            'position: relative;' +\n",
       "            'resize: both;'\n",
       "    );\n",
       "\n",
       "    function on_keyboard_event_closure(name) {\n",
       "        return function (event) {\n",
       "            return fig.key_event(event, name);\n",
       "        };\n",
       "    }\n",
       "\n",
       "    canvas_div.addEventListener(\n",
       "        'keydown',\n",
       "        on_keyboard_event_closure('key_press')\n",
       "    );\n",
       "    canvas_div.addEventListener(\n",
       "        'keyup',\n",
       "        on_keyboard_event_closure('key_release')\n",
       "    );\n",
       "\n",
       "    this._canvas_extra_style(canvas_div);\n",
       "    this.root.appendChild(canvas_div);\n",
       "\n",
       "    var canvas = (this.canvas = document.createElement('canvas'));\n",
       "    canvas.classList.add('mpl-canvas');\n",
       "    canvas.setAttribute('style', 'box-sizing: content-box;');\n",
       "\n",
       "    this.context = canvas.getContext('2d');\n",
       "\n",
       "    var backingStore =\n",
       "        this.context.backingStorePixelRatio ||\n",
       "        this.context.webkitBackingStorePixelRatio ||\n",
       "        this.context.mozBackingStorePixelRatio ||\n",
       "        this.context.msBackingStorePixelRatio ||\n",
       "        this.context.oBackingStorePixelRatio ||\n",
       "        this.context.backingStorePixelRatio ||\n",
       "        1;\n",
       "\n",
       "    this.ratio = (window.devicePixelRatio || 1) / backingStore;\n",
       "\n",
       "    var rubberband_canvas = (this.rubberband_canvas = document.createElement(\n",
       "        'canvas'\n",
       "    ));\n",
       "    rubberband_canvas.setAttribute(\n",
       "        'style',\n",
       "        'box-sizing: content-box; position: absolute; left: 0; top: 0; z-index: 1;'\n",
       "    );\n",
       "\n",
       "    // Apply a ponyfill if ResizeObserver is not implemented by browser.\n",
       "    if (this.ResizeObserver === undefined) {\n",
       "        if (window.ResizeObserver !== undefined) {\n",
       "            this.ResizeObserver = window.ResizeObserver;\n",
       "        } else {\n",
       "            var obs = _JSXTOOLS_RESIZE_OBSERVER({});\n",
       "            this.ResizeObserver = obs.ResizeObserver;\n",
       "        }\n",
       "    }\n",
       "\n",
       "    this.resizeObserverInstance = new this.ResizeObserver(function (entries) {\n",
       "        var nentries = entries.length;\n",
       "        for (var i = 0; i < nentries; i++) {\n",
       "            var entry = entries[i];\n",
       "            var width, height;\n",
       "            if (entry.contentBoxSize) {\n",
       "                if (entry.contentBoxSize instanceof Array) {\n",
       "                    // Chrome 84 implements new version of spec.\n",
       "                    width = entry.contentBoxSize[0].inlineSize;\n",
       "                    height = entry.contentBoxSize[0].blockSize;\n",
       "                } else {\n",
       "                    // Firefox implements old version of spec.\n",
       "                    width = entry.contentBoxSize.inlineSize;\n",
       "                    height = entry.contentBoxSize.blockSize;\n",
       "                }\n",
       "            } else {\n",
       "                // Chrome <84 implements even older version of spec.\n",
       "                width = entry.contentRect.width;\n",
       "                height = entry.contentRect.height;\n",
       "            }\n",
       "\n",
       "            // Keep the size of the canvas and rubber band canvas in sync with\n",
       "            // the canvas container.\n",
       "            if (entry.devicePixelContentBoxSize) {\n",
       "                // Chrome 84 implements new version of spec.\n",
       "                canvas.setAttribute(\n",
       "                    'width',\n",
       "                    entry.devicePixelContentBoxSize[0].inlineSize\n",
       "                );\n",
       "                canvas.setAttribute(\n",
       "                    'height',\n",
       "                    entry.devicePixelContentBoxSize[0].blockSize\n",
       "                );\n",
       "            } else {\n",
       "                canvas.setAttribute('width', width * fig.ratio);\n",
       "                canvas.setAttribute('height', height * fig.ratio);\n",
       "            }\n",
       "            canvas.setAttribute(\n",
       "                'style',\n",
       "                'width: ' + width + 'px; height: ' + height + 'px;'\n",
       "            );\n",
       "\n",
       "            rubberband_canvas.setAttribute('width', width);\n",
       "            rubberband_canvas.setAttribute('height', height);\n",
       "\n",
       "            // And update the size in Python. We ignore the initial 0/0 size\n",
       "            // that occurs as the element is placed into the DOM, which should\n",
       "            // otherwise not happen due to the minimum size styling.\n",
       "            if (fig.ws.readyState == 1 && width != 0 && height != 0) {\n",
       "                fig.request_resize(width, height);\n",
       "            }\n",
       "        }\n",
       "    });\n",
       "    this.resizeObserverInstance.observe(canvas_div);\n",
       "\n",
       "    function on_mouse_event_closure(name) {\n",
       "        return function (event) {\n",
       "            return fig.mouse_event(event, name);\n",
       "        };\n",
       "    }\n",
       "\n",
       "    rubberband_canvas.addEventListener(\n",
       "        'mousedown',\n",
       "        on_mouse_event_closure('button_press')\n",
       "    );\n",
       "    rubberband_canvas.addEventListener(\n",
       "        'mouseup',\n",
       "        on_mouse_event_closure('button_release')\n",
       "    );\n",
       "    rubberband_canvas.addEventListener(\n",
       "        'dblclick',\n",
       "        on_mouse_event_closure('dblclick')\n",
       "    );\n",
       "    // Throttle sequential mouse events to 1 every 20ms.\n",
       "    rubberband_canvas.addEventListener(\n",
       "        'mousemove',\n",
       "        on_mouse_event_closure('motion_notify')\n",
       "    );\n",
       "\n",
       "    rubberband_canvas.addEventListener(\n",
       "        'mouseenter',\n",
       "        on_mouse_event_closure('figure_enter')\n",
       "    );\n",
       "    rubberband_canvas.addEventListener(\n",
       "        'mouseleave',\n",
       "        on_mouse_event_closure('figure_leave')\n",
       "    );\n",
       "\n",
       "    canvas_div.addEventListener('wheel', function (event) {\n",
       "        if (event.deltaY < 0) {\n",
       "            event.step = 1;\n",
       "        } else {\n",
       "            event.step = -1;\n",
       "        }\n",
       "        on_mouse_event_closure('scroll')(event);\n",
       "    });\n",
       "\n",
       "    canvas_div.appendChild(canvas);\n",
       "    canvas_div.appendChild(rubberband_canvas);\n",
       "\n",
       "    this.rubberband_context = rubberband_canvas.getContext('2d');\n",
       "    this.rubberband_context.strokeStyle = '#000000';\n",
       "\n",
       "    this._resize_canvas = function (width, height, forward) {\n",
       "        if (forward) {\n",
       "            canvas_div.style.width = width + 'px';\n",
       "            canvas_div.style.height = height + 'px';\n",
       "        }\n",
       "    };\n",
       "\n",
       "    // Disable right mouse context menu.\n",
       "    this.rubberband_canvas.addEventListener('contextmenu', function (_e) {\n",
       "        event.preventDefault();\n",
       "        return false;\n",
       "    });\n",
       "\n",
       "    function set_focus() {\n",
       "        canvas.focus();\n",
       "        canvas_div.focus();\n",
       "    }\n",
       "\n",
       "    window.setTimeout(set_focus, 100);\n",
       "};\n",
       "\n",
       "mpl.figure.prototype._init_toolbar = function () {\n",
       "    var fig = this;\n",
       "\n",
       "    var toolbar = document.createElement('div');\n",
       "    toolbar.classList = 'mpl-toolbar';\n",
       "    this.root.appendChild(toolbar);\n",
       "\n",
       "    function on_click_closure(name) {\n",
       "        return function (_event) {\n",
       "            return fig.toolbar_button_onclick(name);\n",
       "        };\n",
       "    }\n",
       "\n",
       "    function on_mouseover_closure(tooltip) {\n",
       "        return function (event) {\n",
       "            if (!event.currentTarget.disabled) {\n",
       "                return fig.toolbar_button_onmouseover(tooltip);\n",
       "            }\n",
       "        };\n",
       "    }\n",
       "\n",
       "    fig.buttons = {};\n",
       "    var buttonGroup = document.createElement('div');\n",
       "    buttonGroup.classList = 'mpl-button-group';\n",
       "    for (var toolbar_ind in mpl.toolbar_items) {\n",
       "        var name = mpl.toolbar_items[toolbar_ind][0];\n",
       "        var tooltip = mpl.toolbar_items[toolbar_ind][1];\n",
       "        var image = mpl.toolbar_items[toolbar_ind][2];\n",
       "        var method_name = mpl.toolbar_items[toolbar_ind][3];\n",
       "\n",
       "        if (!name) {\n",
       "            /* Instead of a spacer, we start a new button group. */\n",
       "            if (buttonGroup.hasChildNodes()) {\n",
       "                toolbar.appendChild(buttonGroup);\n",
       "            }\n",
       "            buttonGroup = document.createElement('div');\n",
       "            buttonGroup.classList = 'mpl-button-group';\n",
       "            continue;\n",
       "        }\n",
       "\n",
       "        var button = (fig.buttons[name] = document.createElement('button'));\n",
       "        button.classList = 'mpl-widget';\n",
       "        button.setAttribute('role', 'button');\n",
       "        button.setAttribute('aria-disabled', 'false');\n",
       "        button.addEventListener('click', on_click_closure(method_name));\n",
       "        button.addEventListener('mouseover', on_mouseover_closure(tooltip));\n",
       "\n",
       "        var icon_img = document.createElement('img');\n",
       "        icon_img.src = '_images/' + image + '.png';\n",
       "        icon_img.srcset = '_images/' + image + '_large.png 2x';\n",
       "        icon_img.alt = tooltip;\n",
       "        button.appendChild(icon_img);\n",
       "\n",
       "        buttonGroup.appendChild(button);\n",
       "    }\n",
       "\n",
       "    if (buttonGroup.hasChildNodes()) {\n",
       "        toolbar.appendChild(buttonGroup);\n",
       "    }\n",
       "\n",
       "    var fmt_picker = document.createElement('select');\n",
       "    fmt_picker.classList = 'mpl-widget';\n",
       "    toolbar.appendChild(fmt_picker);\n",
       "    this.format_dropdown = fmt_picker;\n",
       "\n",
       "    for (var ind in mpl.extensions) {\n",
       "        var fmt = mpl.extensions[ind];\n",
       "        var option = document.createElement('option');\n",
       "        option.selected = fmt === mpl.default_extension;\n",
       "        option.innerHTML = fmt;\n",
       "        fmt_picker.appendChild(option);\n",
       "    }\n",
       "\n",
       "    var status_bar = document.createElement('span');\n",
       "    status_bar.classList = 'mpl-message';\n",
       "    toolbar.appendChild(status_bar);\n",
       "    this.message = status_bar;\n",
       "};\n",
       "\n",
       "mpl.figure.prototype.request_resize = function (x_pixels, y_pixels) {\n",
       "    // Request matplotlib to resize the figure. Matplotlib will then trigger a resize in the client,\n",
       "    // which will in turn request a refresh of the image.\n",
       "    this.send_message('resize', { width: x_pixels, height: y_pixels });\n",
       "};\n",
       "\n",
       "mpl.figure.prototype.send_message = function (type, properties) {\n",
       "    properties['type'] = type;\n",
       "    properties['figure_id'] = this.id;\n",
       "    this.ws.send(JSON.stringify(properties));\n",
       "};\n",
       "\n",
       "mpl.figure.prototype.send_draw_message = function () {\n",
       "    if (!this.waiting) {\n",
       "        this.waiting = true;\n",
       "        this.ws.send(JSON.stringify({ type: 'draw', figure_id: this.id }));\n",
       "    }\n",
       "};\n",
       "\n",
       "mpl.figure.prototype.handle_save = function (fig, _msg) {\n",
       "    var format_dropdown = fig.format_dropdown;\n",
       "    var format = format_dropdown.options[format_dropdown.selectedIndex].value;\n",
       "    fig.ondownload(fig, format);\n",
       "};\n",
       "\n",
       "mpl.figure.prototype.handle_resize = function (fig, msg) {\n",
       "    var size = msg['size'];\n",
       "    if (size[0] !== fig.canvas.width || size[1] !== fig.canvas.height) {\n",
       "        fig._resize_canvas(size[0], size[1], msg['forward']);\n",
       "        fig.send_message('refresh', {});\n",
       "    }\n",
       "};\n",
       "\n",
       "mpl.figure.prototype.handle_rubberband = function (fig, msg) {\n",
       "    var x0 = msg['x0'] / fig.ratio;\n",
       "    var y0 = (fig.canvas.height - msg['y0']) / fig.ratio;\n",
       "    var x1 = msg['x1'] / fig.ratio;\n",
       "    var y1 = (fig.canvas.height - msg['y1']) / fig.ratio;\n",
       "    x0 = Math.floor(x0) + 0.5;\n",
       "    y0 = Math.floor(y0) + 0.5;\n",
       "    x1 = Math.floor(x1) + 0.5;\n",
       "    y1 = Math.floor(y1) + 0.5;\n",
       "    var min_x = Math.min(x0, x1);\n",
       "    var min_y = Math.min(y0, y1);\n",
       "    var width = Math.abs(x1 - x0);\n",
       "    var height = Math.abs(y1 - y0);\n",
       "\n",
       "    fig.rubberband_context.clearRect(\n",
       "        0,\n",
       "        0,\n",
       "        fig.canvas.width / fig.ratio,\n",
       "        fig.canvas.height / fig.ratio\n",
       "    );\n",
       "\n",
       "    fig.rubberband_context.strokeRect(min_x, min_y, width, height);\n",
       "};\n",
       "\n",
       "mpl.figure.prototype.handle_figure_label = function (fig, msg) {\n",
       "    // Updates the figure title.\n",
       "    fig.header.textContent = msg['label'];\n",
       "};\n",
       "\n",
       "mpl.figure.prototype.handle_cursor = function (fig, msg) {\n",
       "    fig.rubberband_canvas.style.cursor = msg['cursor'];\n",
       "};\n",
       "\n",
       "mpl.figure.prototype.handle_message = function (fig, msg) {\n",
       "    fig.message.textContent = msg['message'];\n",
       "};\n",
       "\n",
       "mpl.figure.prototype.handle_draw = function (fig, _msg) {\n",
       "    // Request the server to send over a new figure.\n",
       "    fig.send_draw_message();\n",
       "};\n",
       "\n",
       "mpl.figure.prototype.handle_image_mode = function (fig, msg) {\n",
       "    fig.image_mode = msg['mode'];\n",
       "};\n",
       "\n",
       "mpl.figure.prototype.handle_history_buttons = function (fig, msg) {\n",
       "    for (var key in msg) {\n",
       "        if (!(key in fig.buttons)) {\n",
       "            continue;\n",
       "        }\n",
       "        fig.buttons[key].disabled = !msg[key];\n",
       "        fig.buttons[key].setAttribute('aria-disabled', !msg[key]);\n",
       "    }\n",
       "};\n",
       "\n",
       "mpl.figure.prototype.handle_navigate_mode = function (fig, msg) {\n",
       "    if (msg['mode'] === 'PAN') {\n",
       "        fig.buttons['Pan'].classList.add('active');\n",
       "        fig.buttons['Zoom'].classList.remove('active');\n",
       "    } else if (msg['mode'] === 'ZOOM') {\n",
       "        fig.buttons['Pan'].classList.remove('active');\n",
       "        fig.buttons['Zoom'].classList.add('active');\n",
       "    } else {\n",
       "        fig.buttons['Pan'].classList.remove('active');\n",
       "        fig.buttons['Zoom'].classList.remove('active');\n",
       "    }\n",
       "};\n",
       "\n",
       "mpl.figure.prototype.updated_canvas_event = function () {\n",
       "    // Called whenever the canvas gets updated.\n",
       "    this.send_message('ack', {});\n",
       "};\n",
       "\n",
       "// A function to construct a web socket function for onmessage handling.\n",
       "// Called in the figure constructor.\n",
       "mpl.figure.prototype._make_on_message_function = function (fig) {\n",
       "    return function socket_on_message(evt) {\n",
       "        if (evt.data instanceof Blob) {\n",
       "            var img = evt.data;\n",
       "            if (img.type !== 'image/png') {\n",
       "                /* FIXME: We get \"Resource interpreted as Image but\n",
       "                 * transferred with MIME type text/plain:\" errors on\n",
       "                 * Chrome.  But how to set the MIME type?  It doesn't seem\n",
       "                 * to be part of the websocket stream */\n",
       "                img.type = 'image/png';\n",
       "            }\n",
       "\n",
       "            /* Free the memory for the previous frames */\n",
       "            if (fig.imageObj.src) {\n",
       "                (window.URL || window.webkitURL).revokeObjectURL(\n",
       "                    fig.imageObj.src\n",
       "                );\n",
       "            }\n",
       "\n",
       "            fig.imageObj.src = (window.URL || window.webkitURL).createObjectURL(\n",
       "                img\n",
       "            );\n",
       "            fig.updated_canvas_event();\n",
       "            fig.waiting = false;\n",
       "            return;\n",
       "        } else if (\n",
       "            typeof evt.data === 'string' &&\n",
       "            evt.data.slice(0, 21) === 'data:image/png;base64'\n",
       "        ) {\n",
       "            fig.imageObj.src = evt.data;\n",
       "            fig.updated_canvas_event();\n",
       "            fig.waiting = false;\n",
       "            return;\n",
       "        }\n",
       "\n",
       "        var msg = JSON.parse(evt.data);\n",
       "        var msg_type = msg['type'];\n",
       "\n",
       "        // Call the  \"handle_{type}\" callback, which takes\n",
       "        // the figure and JSON message as its only arguments.\n",
       "        try {\n",
       "            var callback = fig['handle_' + msg_type];\n",
       "        } catch (e) {\n",
       "            console.log(\n",
       "                \"No handler for the '\" + msg_type + \"' message type: \",\n",
       "                msg\n",
       "            );\n",
       "            return;\n",
       "        }\n",
       "\n",
       "        if (callback) {\n",
       "            try {\n",
       "                // console.log(\"Handling '\" + msg_type + \"' message: \", msg);\n",
       "                callback(fig, msg);\n",
       "            } catch (e) {\n",
       "                console.log(\n",
       "                    \"Exception inside the 'handler_\" + msg_type + \"' callback:\",\n",
       "                    e,\n",
       "                    e.stack,\n",
       "                    msg\n",
       "                );\n",
       "            }\n",
       "        }\n",
       "    };\n",
       "};\n",
       "\n",
       "// from https://stackoverflow.com/questions/1114465/getting-mouse-location-in-canvas\n",
       "mpl.findpos = function (e) {\n",
       "    //this section is from http://www.quirksmode.org/js/events_properties.html\n",
       "    var targ;\n",
       "    if (!e) {\n",
       "        e = window.event;\n",
       "    }\n",
       "    if (e.target) {\n",
       "        targ = e.target;\n",
       "    } else if (e.srcElement) {\n",
       "        targ = e.srcElement;\n",
       "    }\n",
       "    if (targ.nodeType === 3) {\n",
       "        // defeat Safari bug\n",
       "        targ = targ.parentNode;\n",
       "    }\n",
       "\n",
       "    // pageX,Y are the mouse positions relative to the document\n",
       "    var boundingRect = targ.getBoundingClientRect();\n",
       "    var x = e.pageX - (boundingRect.left + document.body.scrollLeft);\n",
       "    var y = e.pageY - (boundingRect.top + document.body.scrollTop);\n",
       "\n",
       "    return { x: x, y: y };\n",
       "};\n",
       "\n",
       "/*\n",
       " * return a copy of an object with only non-object keys\n",
       " * we need this to avoid circular references\n",
       " * https://stackoverflow.com/a/24161582/3208463\n",
       " */\n",
       "function simpleKeys(original) {\n",
       "    return Object.keys(original).reduce(function (obj, key) {\n",
       "        if (typeof original[key] !== 'object') {\n",
       "            obj[key] = original[key];\n",
       "        }\n",
       "        return obj;\n",
       "    }, {});\n",
       "}\n",
       "\n",
       "mpl.figure.prototype.mouse_event = function (event, name) {\n",
       "    var canvas_pos = mpl.findpos(event);\n",
       "\n",
       "    if (name === 'button_press') {\n",
       "        this.canvas.focus();\n",
       "        this.canvas_div.focus();\n",
       "    }\n",
       "\n",
       "    var x = canvas_pos.x * this.ratio;\n",
       "    var y = canvas_pos.y * this.ratio;\n",
       "\n",
       "    this.send_message(name, {\n",
       "        x: x,\n",
       "        y: y,\n",
       "        button: event.button,\n",
       "        step: event.step,\n",
       "        guiEvent: simpleKeys(event),\n",
       "    });\n",
       "\n",
       "    /* This prevents the web browser from automatically changing to\n",
       "     * the text insertion cursor when the button is pressed.  We want\n",
       "     * to control all of the cursor setting manually through the\n",
       "     * 'cursor' event from matplotlib */\n",
       "    event.preventDefault();\n",
       "    return false;\n",
       "};\n",
       "\n",
       "mpl.figure.prototype._key_event_extra = function (_event, _name) {\n",
       "    // Handle any extra behaviour associated with a key event\n",
       "};\n",
       "\n",
       "mpl.figure.prototype.key_event = function (event, name) {\n",
       "    // Prevent repeat events\n",
       "    if (name === 'key_press') {\n",
       "        if (event.key === this._key) {\n",
       "            return;\n",
       "        } else {\n",
       "            this._key = event.key;\n",
       "        }\n",
       "    }\n",
       "    if (name === 'key_release') {\n",
       "        this._key = null;\n",
       "    }\n",
       "\n",
       "    var value = '';\n",
       "    if (event.ctrlKey && event.key !== 'Control') {\n",
       "        value += 'ctrl+';\n",
       "    }\n",
       "    else if (event.altKey && event.key !== 'Alt') {\n",
       "        value += 'alt+';\n",
       "    }\n",
       "    else if (event.shiftKey && event.key !== 'Shift') {\n",
       "        value += 'shift+';\n",
       "    }\n",
       "\n",
       "    value += 'k' + event.key;\n",
       "\n",
       "    this._key_event_extra(event, name);\n",
       "\n",
       "    this.send_message(name, { key: value, guiEvent: simpleKeys(event) });\n",
       "    return false;\n",
       "};\n",
       "\n",
       "mpl.figure.prototype.toolbar_button_onclick = function (name) {\n",
       "    if (name === 'download') {\n",
       "        this.handle_save(this, null);\n",
       "    } else {\n",
       "        this.send_message('toolbar_button', { name: name });\n",
       "    }\n",
       "};\n",
       "\n",
       "mpl.figure.prototype.toolbar_button_onmouseover = function (tooltip) {\n",
       "    this.message.textContent = tooltip;\n",
       "};\n",
       "\n",
       "///////////////// REMAINING CONTENT GENERATED BY embed_js.py /////////////////\n",
       "// prettier-ignore\n",
       "var _JSXTOOLS_RESIZE_OBSERVER=function(A){var t,i=new WeakMap,n=new WeakMap,a=new WeakMap,r=new WeakMap,o=new Set;function s(e){if(!(this instanceof s))throw new TypeError(\"Constructor requires 'new' operator\");i.set(this,e)}function h(){throw new TypeError(\"Function is not a constructor\")}function c(e,t,i,n){e=0 in arguments?Number(arguments[0]):0,t=1 in arguments?Number(arguments[1]):0,i=2 in arguments?Number(arguments[2]):0,n=3 in arguments?Number(arguments[3]):0,this.right=(this.x=this.left=e)+(this.width=i),this.bottom=(this.y=this.top=t)+(this.height=n),Object.freeze(this)}function d(){t=requestAnimationFrame(d);var s=new WeakMap,p=new Set;o.forEach((function(t){r.get(t).forEach((function(i){var r=t instanceof window.SVGElement,o=a.get(t),d=r?0:parseFloat(o.paddingTop),f=r?0:parseFloat(o.paddingRight),l=r?0:parseFloat(o.paddingBottom),u=r?0:parseFloat(o.paddingLeft),g=r?0:parseFloat(o.borderTopWidth),m=r?0:parseFloat(o.borderRightWidth),w=r?0:parseFloat(o.borderBottomWidth),b=u+f,F=d+l,v=(r?0:parseFloat(o.borderLeftWidth))+m,W=g+w,y=r?0:t.offsetHeight-W-t.clientHeight,E=r?0:t.offsetWidth-v-t.clientWidth,R=b+v,z=F+W,M=r?t.width:parseFloat(o.width)-R-E,O=r?t.height:parseFloat(o.height)-z-y;if(n.has(t)){var k=n.get(t);if(k[0]===M&&k[1]===O)return}n.set(t,[M,O]);var S=Object.create(h.prototype);S.target=t,S.contentRect=new c(u,d,M,O),s.has(i)||(s.set(i,[]),p.add(i)),s.get(i).push(S)}))})),p.forEach((function(e){i.get(e).call(e,s.get(e),e)}))}return s.prototype.observe=function(i){if(i instanceof window.Element){r.has(i)||(r.set(i,new Set),o.add(i),a.set(i,window.getComputedStyle(i)));var n=r.get(i);n.has(this)||n.add(this),cancelAnimationFrame(t),t=requestAnimationFrame(d)}},s.prototype.unobserve=function(i){if(i instanceof window.Element&&r.has(i)){var n=r.get(i);n.has(this)&&(n.delete(this),n.size||(r.delete(i),o.delete(i))),n.size||r.delete(i),o.size||cancelAnimationFrame(t)}},A.DOMRectReadOnly=c,A.ResizeObserver=s,A.ResizeObserverEntry=h,A}; // eslint-disable-line\n",
       "mpl.toolbar_items = [[\"Home\", \"Reset original view\", \"fa fa-home icon-home\", \"home\"], [\"Back\", \"Back to previous view\", \"fa fa-arrow-left icon-arrow-left\", \"back\"], [\"Forward\", \"Forward to next view\", \"fa fa-arrow-right icon-arrow-right\", \"forward\"], [\"\", \"\", \"\", \"\"], [\"Pan\", \"Left button pans, Right button zooms\\nx/y fixes axis, CTRL fixes aspect\", \"fa fa-arrows icon-move\", \"pan\"], [\"Zoom\", \"Zoom to rectangle\\nx/y fixes axis\", \"fa fa-square-o icon-check-empty\", \"zoom\"], [\"\", \"\", \"\", \"\"], [\"Download\", \"Download plot\", \"fa fa-floppy-o icon-save\", \"download\"]];\n",
       "\n",
       "mpl.extensions = [\"eps\", \"jpeg\", \"pgf\", \"pdf\", \"png\", \"ps\", \"raw\", \"svg\", \"tif\"];\n",
       "\n",
       "mpl.default_extension = \"png\";/* global mpl */\n",
       "\n",
       "var comm_websocket_adapter = function (comm) {\n",
       "    // Create a \"websocket\"-like object which calls the given IPython comm\n",
       "    // object with the appropriate methods. Currently this is a non binary\n",
       "    // socket, so there is still some room for performance tuning.\n",
       "    var ws = {};\n",
       "\n",
       "    ws.binaryType = comm.kernel.ws.binaryType;\n",
       "    ws.readyState = comm.kernel.ws.readyState;\n",
       "    function updateReadyState(_event) {\n",
       "        if (comm.kernel.ws) {\n",
       "            ws.readyState = comm.kernel.ws.readyState;\n",
       "        } else {\n",
       "            ws.readyState = 3; // Closed state.\n",
       "        }\n",
       "    }\n",
       "    comm.kernel.ws.addEventListener('open', updateReadyState);\n",
       "    comm.kernel.ws.addEventListener('close', updateReadyState);\n",
       "    comm.kernel.ws.addEventListener('error', updateReadyState);\n",
       "\n",
       "    ws.close = function () {\n",
       "        comm.close();\n",
       "    };\n",
       "    ws.send = function (m) {\n",
       "        //console.log('sending', m);\n",
       "        comm.send(m);\n",
       "    };\n",
       "    // Register the callback with on_msg.\n",
       "    comm.on_msg(function (msg) {\n",
       "        //console.log('receiving', msg['content']['data'], msg);\n",
       "        var data = msg['content']['data'];\n",
       "        if (data['blob'] !== undefined) {\n",
       "            data = {\n",
       "                data: new Blob(msg['buffers'], { type: data['blob'] }),\n",
       "            };\n",
       "        }\n",
       "        // Pass the mpl event to the overridden (by mpl) onmessage function.\n",
       "        ws.onmessage(data);\n",
       "    });\n",
       "    return ws;\n",
       "};\n",
       "\n",
       "mpl.mpl_figure_comm = function (comm, msg) {\n",
       "    // This is the function which gets called when the mpl process\n",
       "    // starts-up an IPython Comm through the \"matplotlib\" channel.\n",
       "\n",
       "    var id = msg.content.data.id;\n",
       "    // Get hold of the div created by the display call when the Comm\n",
       "    // socket was opened in Python.\n",
       "    var element = document.getElementById(id);\n",
       "    var ws_proxy = comm_websocket_adapter(comm);\n",
       "\n",
       "    function ondownload(figure, _format) {\n",
       "        window.open(figure.canvas.toDataURL());\n",
       "    }\n",
       "\n",
       "    var fig = new mpl.figure(id, ws_proxy, ondownload, element);\n",
       "\n",
       "    // Call onopen now - mpl needs it, as it is assuming we've passed it a real\n",
       "    // web socket which is closed, not our websocket->open comm proxy.\n",
       "    ws_proxy.onopen();\n",
       "\n",
       "    fig.parent_element = element;\n",
       "    fig.cell_info = mpl.find_output_cell(\"<div id='\" + id + \"'></div>\");\n",
       "    if (!fig.cell_info) {\n",
       "        console.error('Failed to find cell for figure', id, fig);\n",
       "        return;\n",
       "    }\n",
       "    fig.cell_info[0].output_area.element.on(\n",
       "        'cleared',\n",
       "        { fig: fig },\n",
       "        fig._remove_fig_handler\n",
       "    );\n",
       "};\n",
       "\n",
       "mpl.figure.prototype.handle_close = function (fig, msg) {\n",
       "    var width = fig.canvas.width / fig.ratio;\n",
       "    fig.cell_info[0].output_area.element.off(\n",
       "        'cleared',\n",
       "        fig._remove_fig_handler\n",
       "    );\n",
       "    fig.resizeObserverInstance.unobserve(fig.canvas_div);\n",
       "\n",
       "    // Update the output cell to use the data from the current canvas.\n",
       "    fig.push_to_output();\n",
       "    var dataURL = fig.canvas.toDataURL();\n",
       "    // Re-enable the keyboard manager in IPython - without this line, in FF,\n",
       "    // the notebook keyboard shortcuts fail.\n",
       "    IPython.keyboard_manager.enable();\n",
       "    fig.parent_element.innerHTML =\n",
       "        '<img src=\"' + dataURL + '\" width=\"' + width + '\">';\n",
       "    fig.close_ws(fig, msg);\n",
       "};\n",
       "\n",
       "mpl.figure.prototype.close_ws = function (fig, msg) {\n",
       "    fig.send_message('closing', msg);\n",
       "    // fig.ws.close()\n",
       "};\n",
       "\n",
       "mpl.figure.prototype.push_to_output = function (_remove_interactive) {\n",
       "    // Turn the data on the canvas into data in the output cell.\n",
       "    var width = this.canvas.width / this.ratio;\n",
       "    var dataURL = this.canvas.toDataURL();\n",
       "    this.cell_info[1]['text/html'] =\n",
       "        '<img src=\"' + dataURL + '\" width=\"' + width + '\">';\n",
       "};\n",
       "\n",
       "mpl.figure.prototype.updated_canvas_event = function () {\n",
       "    // Tell IPython that the notebook contents must change.\n",
       "    IPython.notebook.set_dirty(true);\n",
       "    this.send_message('ack', {});\n",
       "    var fig = this;\n",
       "    // Wait a second, then push the new image to the DOM so\n",
       "    // that it is saved nicely (might be nice to debounce this).\n",
       "    setTimeout(function () {\n",
       "        fig.push_to_output();\n",
       "    }, 1000);\n",
       "};\n",
       "\n",
       "mpl.figure.prototype._init_toolbar = function () {\n",
       "    var fig = this;\n",
       "\n",
       "    var toolbar = document.createElement('div');\n",
       "    toolbar.classList = 'btn-toolbar';\n",
       "    this.root.appendChild(toolbar);\n",
       "\n",
       "    function on_click_closure(name) {\n",
       "        return function (_event) {\n",
       "            return fig.toolbar_button_onclick(name);\n",
       "        };\n",
       "    }\n",
       "\n",
       "    function on_mouseover_closure(tooltip) {\n",
       "        return function (event) {\n",
       "            if (!event.currentTarget.disabled) {\n",
       "                return fig.toolbar_button_onmouseover(tooltip);\n",
       "            }\n",
       "        };\n",
       "    }\n",
       "\n",
       "    fig.buttons = {};\n",
       "    var buttonGroup = document.createElement('div');\n",
       "    buttonGroup.classList = 'btn-group';\n",
       "    var button;\n",
       "    for (var toolbar_ind in mpl.toolbar_items) {\n",
       "        var name = mpl.toolbar_items[toolbar_ind][0];\n",
       "        var tooltip = mpl.toolbar_items[toolbar_ind][1];\n",
       "        var image = mpl.toolbar_items[toolbar_ind][2];\n",
       "        var method_name = mpl.toolbar_items[toolbar_ind][3];\n",
       "\n",
       "        if (!name) {\n",
       "            /* Instead of a spacer, we start a new button group. */\n",
       "            if (buttonGroup.hasChildNodes()) {\n",
       "                toolbar.appendChild(buttonGroup);\n",
       "            }\n",
       "            buttonGroup = document.createElement('div');\n",
       "            buttonGroup.classList = 'btn-group';\n",
       "            continue;\n",
       "        }\n",
       "\n",
       "        button = fig.buttons[name] = document.createElement('button');\n",
       "        button.classList = 'btn btn-default';\n",
       "        button.href = '#';\n",
       "        button.title = name;\n",
       "        button.innerHTML = '<i class=\"fa ' + image + ' fa-lg\"></i>';\n",
       "        button.addEventListener('click', on_click_closure(method_name));\n",
       "        button.addEventListener('mouseover', on_mouseover_closure(tooltip));\n",
       "        buttonGroup.appendChild(button);\n",
       "    }\n",
       "\n",
       "    if (buttonGroup.hasChildNodes()) {\n",
       "        toolbar.appendChild(buttonGroup);\n",
       "    }\n",
       "\n",
       "    // Add the status bar.\n",
       "    var status_bar = document.createElement('span');\n",
       "    status_bar.classList = 'mpl-message pull-right';\n",
       "    toolbar.appendChild(status_bar);\n",
       "    this.message = status_bar;\n",
       "\n",
       "    // Add the close button to the window.\n",
       "    var buttongrp = document.createElement('div');\n",
       "    buttongrp.classList = 'btn-group inline pull-right';\n",
       "    button = document.createElement('button');\n",
       "    button.classList = 'btn btn-mini btn-primary';\n",
       "    button.href = '#';\n",
       "    button.title = 'Stop Interaction';\n",
       "    button.innerHTML = '<i class=\"fa fa-power-off icon-remove icon-large\"></i>';\n",
       "    button.addEventListener('click', function (_evt) {\n",
       "        fig.handle_close(fig, {});\n",
       "    });\n",
       "    button.addEventListener(\n",
       "        'mouseover',\n",
       "        on_mouseover_closure('Stop Interaction')\n",
       "    );\n",
       "    buttongrp.appendChild(button);\n",
       "    var titlebar = this.root.querySelector('.ui-dialog-titlebar');\n",
       "    titlebar.insertBefore(buttongrp, titlebar.firstChild);\n",
       "};\n",
       "\n",
       "mpl.figure.prototype._remove_fig_handler = function (event) {\n",
       "    var fig = event.data.fig;\n",
       "    if (event.target !== this) {\n",
       "        // Ignore bubbled events from children.\n",
       "        return;\n",
       "    }\n",
       "    fig.close_ws(fig, {});\n",
       "};\n",
       "\n",
       "mpl.figure.prototype._root_extra_style = function (el) {\n",
       "    el.style.boxSizing = 'content-box'; // override notebook setting of border-box.\n",
       "};\n",
       "\n",
       "mpl.figure.prototype._canvas_extra_style = function (el) {\n",
       "    // this is important to make the div 'focusable\n",
       "    el.setAttribute('tabindex', 0);\n",
       "    // reach out to IPython and tell the keyboard manager to turn it's self\n",
       "    // off when our div gets focus\n",
       "\n",
       "    // location in version 3\n",
       "    if (IPython.notebook.keyboard_manager) {\n",
       "        IPython.notebook.keyboard_manager.register_events(el);\n",
       "    } else {\n",
       "        // location in version 2\n",
       "        IPython.keyboard_manager.register_events(el);\n",
       "    }\n",
       "};\n",
       "\n",
       "mpl.figure.prototype._key_event_extra = function (event, _name) {\n",
       "    // Check for shift+enter\n",
       "    if (event.shiftKey && event.which === 13) {\n",
       "        this.canvas_div.blur();\n",
       "        // select the cell after this one\n",
       "        var index = IPython.notebook.find_cell_index(this.cell_info[0]);\n",
       "        IPython.notebook.select(index + 1);\n",
       "    }\n",
       "};\n",
       "\n",
       "mpl.figure.prototype.handle_save = function (fig, _msg) {\n",
       "    fig.ondownload(fig, null);\n",
       "};\n",
       "\n",
       "mpl.find_output_cell = function (html_output) {\n",
       "    // Return the cell and output element which can be found *uniquely* in the notebook.\n",
       "    // Note - this is a bit hacky, but it is done because the \"notebook_saving.Notebook\"\n",
       "    // IPython event is triggered only after the cells have been serialised, which for\n",
       "    // our purposes (turning an active figure into a static one), is too late.\n",
       "    var cells = IPython.notebook.get_cells();\n",
       "    var ncells = cells.length;\n",
       "    for (var i = 0; i < ncells; i++) {\n",
       "        var cell = cells[i];\n",
       "        if (cell.cell_type === 'code') {\n",
       "            for (var j = 0; j < cell.output_area.outputs.length; j++) {\n",
       "                var data = cell.output_area.outputs[j];\n",
       "                if (data.data) {\n",
       "                    // IPython >= 3 moved mimebundle to data attribute of output\n",
       "                    data = data.data;\n",
       "                }\n",
       "                if (data['text/html'] === html_output) {\n",
       "                    return [cell, data, j];\n",
       "                }\n",
       "            }\n",
       "        }\n",
       "    }\n",
       "};\n",
       "\n",
       "// Register the function which deals with the matplotlib target/channel.\n",
       "// The kernel may be null if the page has been refreshed.\n",
       "if (IPython.notebook.kernel !== null) {\n",
       "    IPython.notebook.kernel.comm_manager.register_target(\n",
       "        'matplotlib',\n",
       "        mpl.mpl_figure_comm\n",
       "    );\n",
       "}\n"
      ],
      "text/plain": [
       "<IPython.core.display.Javascript object>"
      ]
     },
     "metadata": {},
     "output_type": "display_data"
    },
    {
     "data": {
      "text/html": [
       "<img src=\"data:image/png;base64,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\" width=\"640\">"
      ],
      "text/plain": [
       "<IPython.core.display.HTML object>"
      ]
     },
     "metadata": {},
     "output_type": "display_data"
    }
   ],
   "source": [
    "p1=plot(soln[0].subs({C1:1}).rhs,(t,0,10),show=False)\n",
    "p2=plot(soln[1].subs({C2:2}).rhs,(t,0,10),show=False)\n",
    "p3=plot(soln[2].subs({C3:3}).rhs,(t,0,10),show=False)\n",
    "p1.append(p2[0])\n",
    "p1.append(p3[0])\n",
    "p1.show()"
   ]
  },
  {
   "cell_type": "markdown",
   "metadata": {},
   "source": [
    "Can this be written more general for any $n$?"
   ]
  }
 ],
 "metadata": {
  "jupytext": {
   "encoding": "# -*- coding: utf-8 -*-"
  },
  "kernelspec": {
   "display_name": "Python 3 (ipykernel)",
   "language": "python",
   "name": "python3"
  },
  "language_info": {
   "codemirror_mode": {
    "name": "ipython",
    "version": 3
   },
   "file_extension": ".py",
   "mimetype": "text/x-python",
   "name": "python",
   "nbconvert_exporter": "python",
   "pygments_lexer": "ipython3",
   "version": "3.9.7"
  },
  "latex_envs": {
   "LaTeX_envs_menu_present": true,
   "autoclose": false,
   "autocomplete": true,
   "bibliofile": "biblio.bib",
   "cite_by": "apalike",
   "current_citInitial": 1,
   "eqLabelWithNumbers": true,
   "eqNumInitial": 1,
   "hotkeys": {
    "equation": "Ctrl-E",
    "itemize": "Ctrl-I"
   },
   "labels_anchors": false,
   "latex_user_defs": false,
   "report_style_numbering": true,
   "user_envs_cfg": false
  }
 },
 "nbformat": 4,
 "nbformat_minor": 4
}
