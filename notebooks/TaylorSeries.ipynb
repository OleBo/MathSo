{
 "cells": [
  {
   "cell_type": "code",
   "execution_count": 1,
   "id": "23d9d062",
   "metadata": {},
   "outputs": [],
   "source": [
    "import sympy as sp\n",
    "from sympy.interactive import printing\n",
    "printing.init_printing(use_latex=True)"
   ]
  },
  {
   "cell_type": "code",
   "execution_count": 2,
   "id": "06e15022",
   "metadata": {},
   "outputs": [],
   "source": [
    "x0, x1s, dx, x = sp.symbols('x0 x1 Delta_x x', real=True)\n",
    "b, c, d, k, h, m = sp.symbols('b, c, d, k, h, m', real=True)"
   ]
  },
  {
   "cell_type": "code",
   "execution_count": 3,
   "id": "bad6ae11",
   "metadata": {},
   "outputs": [
    {
     "data": {
      "image/png": "[encoded data removed]",
      "text/latex": [
       "$\\displaystyle x_{1} = d \\left(- e^{h k} + e^{h m}\\right) + x_{0} \\left(b e^{h k} - c e^{h m}\\right)$"
      ],
      "text/plain": [
       "       ⎛   h⋅k    h⋅m⎞      ⎛   h⋅k      h⋅m⎞\n",
       "x₁ = d⋅⎝- ℯ    + ℯ   ⎠ + x₀⋅⎝b⋅ℯ    - c⋅ℯ   ⎠"
      ]
     },
     "execution_count": 3,
     "metadata": {},
     "output_type": "execute_result"
    }
   ],
   "source": [
    "x1_rhs = (b*sp.exp(k*h) - c*sp.exp(m*h))*x0 + d*(sp.exp(m*h) - sp.exp(k*h))\n",
    "sp.Eq(x1s, x1_rhs)"
   ]
  },
  {
   "cell_type": "code",
   "execution_count": 4,
   "id": "d653441f",
   "metadata": {},
   "outputs": [
    {
     "data": {
      "image/png": "[encoded data removed]",
      "text/latex": [
       "$\\displaystyle x_{1} = \\Delta_{x} + x_{0}$"
      ],
      "text/plain": [
       "x₁ = Δₓ + x₀"
      ]
     },
     "execution_count": 4,
     "metadata": {},
     "output_type": "execute_result"
    }
   ],
   "source": [
    "x1_lhs = x0 + dx\n",
    "sp.Eq(x1s, x1_lhs)"
   ]
  },
  {
   "cell_type": "code",
   "execution_count": 5,
   "id": "31460331",
   "metadata": {},
   "outputs": [
    {
     "data": {
      "image/png": "[encoded data removed]",
      "text/latex": [
       "$\\displaystyle \\Delta_{x} = b x_{0} e^{h k} - c x_{0} e^{h m} - d e^{h k} + d e^{h m} - x_{0}$"
      ],
      "text/plain": [
       "           h⋅k         h⋅m      h⋅k      h⋅m     \n",
       "Δₓ = b⋅x₀⋅ℯ    - c⋅x₀⋅ℯ    - d⋅ℯ    + d⋅ℯ    - x₀"
      ]
     },
     "execution_count": 5,
     "metadata": {},
     "output_type": "execute_result"
    }
   ],
   "source": [
    "sol = sp.solve(x1_lhs - x1_rhs, dx)[0]\n",
    "sp.Eq(dx, sol)"
   ]
  },
  {
   "cell_type": "code",
   "execution_count": 6,
   "id": "1c250e0c",
   "metadata": {},
   "outputs": [
    {
     "data": {
      "image/png": "[encoded data removed]",
      "text/latex": [
       "$\\displaystyle h \\left(b k x_{0} - c m x_{0} - d k + d m\\right) - c x_{0} + b x_{0} + O\\left(h^{2}\\right)$"
      ],
      "text/plain": [
       "                                                 ⎛ 2⎞\n",
       "h⋅(b⋅k⋅x₀ - c⋅m⋅x₀ - d⋅k + d⋅m) - c⋅x₀ + b⋅x₀ + O⎝h ⎠"
      ]
     },
     "execution_count": 6,
     "metadata": {},
     "output_type": "execute_result"
    }
   ],
   "source": [
    "# First order approximation in h\n",
    "sp.series(x1_rhs, h, n=2)"
   ]
  },
  {
   "cell_type": "code",
   "execution_count": 7,
   "id": "011647cb",
   "metadata": {
    "scrolled": true
   },
   "outputs": [
    {
     "data": {
      "image/png": "[encoded data removed]",
      "text/latex": [
       "$\\displaystyle b x_{0} - c x_{0} + h \\left(b k x_{0} - c m x_{0} - d k + d m\\right)$"
      ],
      "text/plain": [
       "b⋅x₀ - c⋅x₀ + h⋅(b⋅k⋅x₀ - c⋅m⋅x₀ - d⋅k + d⋅m)"
      ]
     },
     "execution_count": 7,
     "metadata": {},
     "output_type": "execute_result"
    }
   ],
   "source": [
    "sp.series(x1_rhs, h, n=2).removeO()"
   ]
  },
  {
   "cell_type": "code",
   "execution_count": 8,
   "id": "a21e7c1b",
   "metadata": {},
   "outputs": [
    {
     "data": {
      "image/png": "[encoded data removed]",
      "text/latex": [
       "$\\displaystyle \\frac{b x_{0} - c x_{0} + h \\left(b k x_{0} - c m x_{0} - d k + d m\\right)}{h}$"
      ],
      "text/plain": [
       "b⋅x₀ - c⋅x₀ + h⋅(b⋅k⋅x₀ - c⋅m⋅x₀ - d⋅k + d⋅m)\n",
       "─────────────────────────────────────────────\n",
       "                      h                      "
      ]
     },
     "execution_count": 8,
     "metadata": {},
     "output_type": "execute_result"
    }
   ],
   "source": [
    "sp.series(x1_rhs, h, n=2).removeO()/h"
   ]
  },
  {
   "cell_type": "code",
   "execution_count": 9,
   "id": "840fd1fe",
   "metadata": {},
   "outputs": [
    {
     "data": {
      "image/png": "[encoded data removed]",
      "text/latex": [
       "$\\displaystyle \\frac{x_{0} \\left(- 2 d h \\left(k - m\\right) + x_{0} \\left(b h k + b - c h m - c\\right)\\right)}{2 h}$"
      ],
      "text/plain": [
       "x₀⋅(-2⋅d⋅h⋅(k - m) + x₀⋅(b⋅h⋅k + b - c⋅h⋅m - c))\n",
       "────────────────────────────────────────────────\n",
       "                      2⋅h                       "
      ]
     },
     "execution_count": 9,
     "metadata": {},
     "output_type": "execute_result"
    }
   ],
   "source": [
    "# x' = lim h-> (x(h) - x(0))/h\n",
    "# x = integrate(x)\n",
    "sp.integrate(sp.series(x1_rhs, h, n=2).removeO()/h, x0).simplify()"
   ]
  },
  {
   "cell_type": "markdown",
   "id": "56dac39d",
   "metadata": {},
   "source": [
    "# Taylor Series in SymPy\n",
    "\n",
    "SymPy exports Taylor series in a more Pythonic way with generators. The tenth order Taylor series for $sin(x)$ at zero is"
   ]
  },
  {
   "cell_type": "code",
   "execution_count": 10,
   "id": "4e901c0f",
   "metadata": {},
   "outputs": [
    {
     "data": {
      "image/png": "[encoded data removed]",
      "text/latex": [
       "$\\displaystyle x - \\frac{x^{3}}{6} + \\frac{x^{5}}{120} - \\frac{x^{7}}{5040} + \\frac{x^{9}}{362880} + O\\left(x^{10}\\right)$"
      ],
      "text/plain": [
       "     3     5     7       9           \n",
       "    x     x     x       x       ⎛ 10⎞\n",
       "x - ── + ─── - ──── + ────── + O⎝x  ⎠\n",
       "    6    120   5040   362880         "
      ]
     },
     "execution_count": 10,
     "metadata": {},
     "output_type": "execute_result"
    }
   ],
   "source": [
    "sp.series(sp.sin(x), x0=0, n=10)"
   ]
  },
  {
   "cell_type": "markdown",
   "id": "8d7c03e9",
   "metadata": {},
   "source": [
    "If instead of n=10 for the order, we give None as argument, we obtain a generator:"
   ]
  },
  {
   "cell_type": "code",
   "execution_count": 11,
   "id": "fb1a8119",
   "metadata": {},
   "outputs": [
    {
     "name": "stdout",
     "output_type": "stream",
     "text": [
      "<generator object Expr.series.<locals>.<genexpr> at 0x114d80a50> <class 'generator'>\n"
     ]
    }
   ],
   "source": [
    "g = sp.series(sp.sin(x), x0=0, n=None)\n",
    "print (g, type(g))"
   ]
  },
  {
   "cell_type": "markdown",
   "id": "263fb692",
   "metadata": {},
   "source": [
    "We can use a generator with the built-in free function next to get the next term in the series."
   ]
  },
  {
   "cell_type": "code",
   "execution_count": 13,
   "id": "596d5c48",
   "metadata": {},
   "outputs": [
    {
     "name": "stdout",
     "output_type": "stream",
     "text": [
      "x\n",
      "-x**3/6\n"
     ]
    }
   ],
   "source": [
    "print(next(g))\n",
    "print(next(g))"
   ]
  },
  {
   "cell_type": "markdown",
   "id": "f2758cf6",
   "metadata": {},
   "source": [
    "# Limit"
   ]
  },
  {
   "cell_type": "code",
   "execution_count": null,
   "id": "4c5246c8",
   "metadata": {},
   "outputs": [],
   "source": []
  }
 ],
 "metadata": {
  "kernelspec": {
   "display_name": "Python 3 (ipykernel)",
   "language": "python",
   "name": "python3"
  },
  "language_info": {
   "codemirror_mode": {
    "name": "ipython",
    "version": 3
   },
   "file_extension": ".py",
   "mimetype": "text/x-python",
   "name": "python",
   "nbconvert_exporter": "python",
   "pygments_lexer": "ipython3",
   "version": "3.9.7"
  },
  "latex_envs": {
   "LaTeX_envs_menu_present": true,
   "autoclose": false,
   "autocomplete": true,
   "bibliofile": "biblio.bib",
   "cite_by": "apalike",
   "current_citInitial": 1,
   "eqLabelWithNumbers": true,
   "eqNumInitial": 1,
   "hotkeys": {
    "equation": "Ctrl-E",
    "itemize": "Ctrl-I"
   },
   "labels_anchors": false,
   "latex_user_defs": false,
   "report_style_numbering": true,
   "user_envs_cfg": false
  }
 },
 "nbformat": 4,
 "nbformat_minor": 5
}
