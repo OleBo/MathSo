{
 "cells": [
  {
   "cell_type": "markdown",
   "id": "20a90914",
   "metadata": {},
   "source": [
    "# Visualization (cont.)\n",
    "## Multiple plots, figure, subplot"
   ]
  },
  {
   "cell_type": "code",
   "execution_count": null,
   "id": "d60f8db3",
   "metadata": {},
   "outputs": [],
   "source": []
  },
  {
   "cell_type": "markdown",
   "id": "ca757951",
   "metadata": {},
   "source": [
    "## plotting functions using fplot"
   ]
  },
  {
   "cell_type": "code",
   "execution_count": null,
   "id": "3ee2a865",
   "metadata": {},
   "outputs": [],
   "source": []
  },
  {
   "cell_type": "markdown",
   "id": "fff3c4fd",
   "metadata": {},
   "source": [
    "## discrete data plots, scatter, stairs, stem"
   ]
  },
  {
   "cell_type": "code",
   "execution_count": null,
   "id": "0ef6be88",
   "metadata": {},
   "outputs": [],
   "source": []
  },
  {
   "cell_type": "markdown",
   "id": "70b19ca4",
   "metadata": {},
   "source": [
    "## log plots, error bar plots"
   ]
  },
  {
   "cell_type": "code",
   "execution_count": null,
   "id": "17a049a2",
   "metadata": {},
   "outputs": [],
   "source": []
  },
  {
   "cell_type": "markdown",
   "id": "fdfc2ec3",
   "metadata": {},
   "source": [
    "## pie and bar plots, histograms"
   ]
  },
  {
   "cell_type": "code",
   "execution_count": null,
   "id": "28ebe85d",
   "metadata": {},
   "outputs": [],
   "source": []
  },
  {
   "cell_type": "markdown",
   "id": "5916fb2e",
   "metadata": {},
   "source": [
    "## editing plots, saving, printing and exporting"
   ]
  },
  {
   "cell_type": "code",
   "execution_count": null,
   "id": "9ef12413",
   "metadata": {},
   "outputs": [],
   "source": []
  }
 ],
 "metadata": {
  "kernelspec": {
   "display_name": "math-so-rqA8CpC9-py3.9",
   "language": "python",
   "name": "math-so-rqa8cpc9-py3.9"
  },
  "language_info": {
   "codemirror_mode": {
    "name": "ipython",
    "version": 3
   },
   "file_extension": ".py",
   "mimetype": "text/x-python",
   "name": "python",
   "nbconvert_exporter": "python",
   "pygments_lexer": "ipython3",
   "version": "3.9.7"
  }
 },
 "nbformat": 4,
 "nbformat_minor": 5
}
