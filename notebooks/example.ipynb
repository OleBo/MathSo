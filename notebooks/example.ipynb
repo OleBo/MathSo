{
 "cells": [
  {
   "cell_type": "markdown",
   "metadata": {},
   "source": [
    "# Notebook Template \n",
    "_______________"
   ]
  },
  {
   "cell_type": "markdown",
   "metadata": {},
   "source": [
    "### Ipython Autoreload Magic\n",
    "`autoreload` is a handy [Ipython magic command](https://ipython.readthedocs.io/en/stable/interactive/magics.html) you will want to include in each code cell in order to automatically reload the latest code before execution."
   ]
  },
  {
   "cell_type": "code",
   "execution_count": 1,
   "metadata": {},
   "outputs": [],
   "source": [
    "%load_ext autoreload"
   ]
  },
  {
   "cell_type": "markdown",
   "metadata": {},
   "source": [
    "### Run Python Module from Standalone Script\n",
    "To avoid modifying the system path when importing libraries, Python lets you run modules as scripts by simply passing -m. Python will then execute the code under the `if __name__ == __main__` constructor when the .py file is invoked.\n",
    "\n",
    "To execute `scripts/say-hello-world.py`, we can run the following command to test which prints out “Hello World!”. Note the file extension .py is not included, rather just the absolute module name:\n",
    "\n",
    "`python -m scripts.say-hello-world`"
   ]
  },
  {
   "cell_type": "code",
   "execution_count": 2,
   "metadata": {},
   "outputs": [
    {
     "name": "stdout",
     "output_type": "stream",
     "text": [
      "Hello World!\n"
     ]
    }
   ],
   "source": [
    "%autoreload\n",
    "%run -m scripts.say-hello-world"
   ]
  },
  {
   "cell_type": "markdown",
   "metadata": {},
   "source": [
    "### Importing Python Module\n",
    "The approach presented in this project structure still allows notebooks to be leveraged in the development phase by simply importing the Python modules."
   ]
  },
  {
   "cell_type": "code",
   "execution_count": 3,
   "metadata": {},
   "outputs": [
    {
     "name": "stdout",
     "output_type": "stream",
     "text": [
      "Hello World!\n"
     ]
    }
   ],
   "source": [
    "%autoreload\n",
    "from math_so.utils import hello_world\n",
    "output = hello_world.say_hello_world()"
   ]
  },
  {
   "cell_type": "code",
   "execution_count": null,
   "metadata": {},
   "outputs": [],
   "source": []
  }
 ],
 "metadata": {
  "kernelspec": {
   "display_name": "Python 3",
   "language": "python",
   "name": "python3"
  },
  "language_info": {
   "codemirror_mode": {
    "name": "ipython",
    "version": 3
   },
   "file_extension": ".py",
   "mimetype": "text/x-python",
   "name": "python",
   "nbconvert_exporter": "python",
   "pygments_lexer": "ipython3",
   "version": "3.9.0"
  }
 },
 "nbformat": 4,
 "nbformat_minor": 4
}
