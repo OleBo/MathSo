{
 "cells": [
  {
   "cell_type": "markdown",
   "metadata": {},
   "source": [
    "# Lösungen 5"
   ]
  },
  {
   "cell_type": "code",
   "execution_count": 1,
   "metadata": {},
   "outputs": [],
   "source": [
    "from math import *\n",
    "import numpy as np"
   ]
  },
  {
   "cell_type": "markdown",
   "metadata": {},
   "source": [
    "## Aufgabe 1\n",
    "### c)\n",
    "Aus notebook05.ipynb übernommen:"
   ]
  },
  {
   "cell_type": "code",
   "execution_count": 2,
   "metadata": {},
   "outputs": [],
   "source": [
    "def bisection(f, a, b, tol, termination_criterion='x', print_info=False):\n",
    "\n",
    "    #check if a or b is an exact zero\n",
    "    if f(a) == 0:\n",
    "        return a\n",
    "    elif f(b) == 0:\n",
    "        return b\n",
    "\n",
    "    if f(a)*f(b) > 0:\n",
    "        raise Exception('f(a) and f(b) must have opposite signs')\n",
    "\n",
    "    def check_termination_criterion(x, a, b, tol):\n",
    "        if termination_criterion == 'x':\n",
    "            return abs(b - a) < tol\n",
    "        elif termination_criterion == 'y':\n",
    "            return abs(f(x)) < tol\n",
    "        else:\n",
    "            raise Exception('Unknown termination criterion: {}'.format(termination_criterion))\n",
    "\n",
    "    x = .5*(a + b)\n",
    "    k = 0\n",
    "    terminate = check_termination_criterion(x, a, b, tol)\n",
    "    while not terminate:\n",
    "        if f(x) == 0: #found exact zero\n",
    "            break\n",
    "        elif f(a)*f(x) > 0:\n",
    "            a = x\n",
    "        else:\n",
    "            b = x\n",
    "        x = .5*(a + b)\n",
    "        k += 1\n",
    "        if print_info:\n",
    "            print('k = {:2d}, a = {:15.8e}, b = {:15.8e}, x = {:15.8e}, f(x) = {:15.8e}'.format(k, a, b, x, f(x)))\n",
    "        terminate = check_termination_criterion(x, a, b, tol)\n",
    "\n",
    "    if print_info:\n",
    "        print('terminated after {} iterations'.format(k))\n",
    "        print('x = {}, f(x) = {}'.format(x, f(x)))\n",
    "    return x"
   ]
  },
  {
   "cell_type": "code",
   "execution_count": 3,
   "metadata": {},
   "outputs": [
    {
     "name": "stdout",
     "output_type": "stream",
     "text": [
      "k =  1, a =  1.00000000e+00, b =  2.00000000e+00, x =  1.50000000e+00, f(x) =  4.16290732e-01\n",
      "k =  2, a =  1.00000000e+00, b =  1.50000000e+00, x =  1.25000000e+00, f(x) =  6.09302162e-02\n",
      "k =  3, a =  1.00000000e+00, b =  1.25000000e+00, x =  1.12500000e+00, f(x) = -1.21228198e-01\n",
      "k =  4, a =  1.12500000e+00, b =  1.25000000e+00, x =  1.18750000e+00, f(x) = -2.97406608e-02\n",
      "k =  5, a =  1.18750000e+00, b =  1.25000000e+00, x =  1.21875000e+00, f(x) =  1.56939742e-02\n",
      "k =  6, a =  1.18750000e+00, b =  1.21875000e+00, x =  1.20312500e+00, f(x) = -6.99819298e-03\n",
      "k =  7, a =  1.20312500e+00, b =  1.21875000e+00, x =  1.21093750e+00, f(x) =  4.35413372e-03\n",
      "k =  8, a =  1.20312500e+00, b =  1.21093750e+00, x =  1.20703125e+00, f(x) = -1.32046333e-03\n",
      "k =  9, a =  1.20703125e+00, b =  1.21093750e+00, x =  1.20898438e+00, f(x) =  1.51722608e-03\n",
      "k = 10, a =  1.20703125e+00, b =  1.20898438e+00, x =  1.20800781e+00, f(x) =  9.84791785e-05\n",
      "k = 11, a =  1.20703125e+00, b =  1.20800781e+00, x =  1.20751953e+00, f(x) = -6.10967615e-04\n",
      "k = 12, a =  1.20751953e+00, b =  1.20800781e+00, x =  1.20776367e+00, f(x) = -2.56238104e-04\n",
      "k = 13, a =  1.20776367e+00, b =  1.20800781e+00, x =  1.20788574e+00, f(x) = -7.88779343e-05\n",
      "k = 14, a =  1.20788574e+00, b =  1.20800781e+00, x =  1.20794678e+00, f(x) =  9.80100420e-06\n",
      "k = 15, a =  1.20788574e+00, b =  1.20794678e+00, x =  1.20791626e+00, f(x) = -3.45383695e-05\n",
      "k = 16, a =  1.20791626e+00, b =  1.20794678e+00, x =  1.20793152e+00, f(x) = -1.23686588e-05\n",
      "k = 17, a =  1.20793152e+00, b =  1.20794678e+00, x =  1.20793915e+00, f(x) = -1.28382132e-06\n",
      "k = 18, a =  1.20793915e+00, b =  1.20794678e+00, x =  1.20794296e+00, f(x) =  4.25859293e-06\n",
      "k = 19, a =  1.20793915e+00, b =  1.20794296e+00, x =  1.20794106e+00, f(x) =  1.48738618e-06\n",
      "k = 20, a =  1.20793915e+00, b =  1.20794106e+00, x =  1.20794010e+00, f(x) =  1.01782525e-07\n",
      "k = 21, a =  1.20793915e+00, b =  1.20794010e+00, x =  1.20793962e+00, f(x) = -5.91019373e-07\n",
      "terminated after 21 iterations\n",
      "x = 1.207939624786377, f(x) = -5.910193734415259e-07\n"
     ]
    }
   ],
   "source": [
    "def f(x):\n",
    "    return log(x + 1) + x - 2\n",
    "a = 0\n",
    "b = 2.\n",
    "tol = 1e-6\n",
    "x_bisection = bisection(f, a, b, tol, print_info=True)"
   ]
  },
  {
   "cell_type": "markdown",
   "metadata": {},
   "source": [
    "Das Verfahren benötigt eine Iteration mehr als vorhergesagt, weil sich das Abbruchkriterium auf die Intervallänge $b_k-a_k$ bezieht, und wegen $x_k = \\tfrac{1}{2} (a_k + b_k)$ gilt $|x_k - x_*| < \\tfrac{1}{2} (b_k - a_k)$."
   ]
  },
  {
   "cell_type": "markdown",
   "metadata": {},
   "source": [
    "## Aufgabe 2"
   ]
  },
  {
   "cell_type": "code",
   "execution_count": 4,
   "metadata": {},
   "outputs": [],
   "source": [
    "def cubic_root_newton(a, tol, x0=None, print_info=False):\n",
    "    if x0 == None:\n",
    "        x0 = a\n",
    "    x = x0\n",
    "    dx = np.inf\n",
    "    k = 0\n",
    "    \n",
    "    while abs(dx) > tol:\n",
    "        dx = -x/3. + a/(3.*x**2)\n",
    "        x += dx\n",
    "        k += 1\n",
    "        if print_info:\n",
    "            print('k = {:2d}, x = {:15.8e}, f(x) = {:15.8e}, dx = {:15.8e}'.format(k, x, f(x), dx))\n",
    "\n",
    "    if print_info:\n",
    "        print('terminated after {} iterations'.format(k))\n",
    "        print('x = {}, f(x) = {}'.format(x, f(x)))\n",
    "    return x"
   ]
  },
  {
   "cell_type": "markdown",
   "metadata": {},
   "source": [
    "Direkte Anwendung der Funktion newton aus notebook05.ipynb ist natürlich auch möglich."
   ]
  },
  {
   "cell_type": "code",
   "execution_count": 5,
   "metadata": {},
   "outputs": [
    {
     "name": "stdout",
     "output_type": "stream",
     "text": [
      "k =  1, x =  1.50000000e+00, f(x) =  4.16290732e-01, dx = -5.00000000e-01\n",
      "k =  2, x =  1.29629630e+00, f(x) =  1.27593815e-01, dx = -2.03703704e-01\n",
      "k =  3, x =  1.26093222e+00, f(x) =  7.67094418e-02, dx = -3.53640716e-02\n",
      "k =  4, x =  1.25992186e+00, f(x) =  7.52520983e-02, dx = -1.01036418e-03\n",
      "k =  5, x =  1.25992105e+00, f(x) =  7.52509289e-02, dx = -8.10670532e-07\n",
      "k =  6, x =  1.25992105e+00, f(x) =  7.52509289e-02, dx = -5.21582777e-13\n",
      "terminated after 6 iterations\n",
      "x = 1.2599210498948732, f(x) = 0.07525092889403773\n"
     ]
    }
   ],
   "source": [
    "x = cubic_root_newton(2., 1e-7, print_info=True)"
   ]
  },
  {
   "cell_type": "code",
   "execution_count": 6,
   "metadata": {},
   "outputs": [
    {
     "name": "stdout",
     "output_type": "stream",
     "text": [
      "Check: x^3 = 2.0\n"
     ]
    }
   ],
   "source": [
    "print(\"Check: x^3 = {}\".format(x**3))"
   ]
  },
  {
   "cell_type": "markdown",
   "metadata": {},
   "source": [
    "## Aufgabe 3\n",
    "Auf notebook05.ipynb übernommen:"
   ]
  },
  {
   "cell_type": "code",
   "execution_count": 19,
   "metadata": {},
   "outputs": [],
   "source": [
    "def newton(f, df, x0, tol, maxits=100, termination_criterion='x', print_info=False):\n",
    "\n",
    "    if df(x0) == 0:\n",
    "        raise Exception('df(x0) = 0 is not allowed')\n",
    "\n",
    "    def check_termination_criterion(x, dx, tol):\n",
    "        if termination_criterion == 'x':\n",
    "            return abs(dx) < tol\n",
    "        elif termination_criterion == 'y':\n",
    "            return abs(f(x)) < tol\n",
    "        else:\n",
    "            raise Exception('Unknown termination criterion: {}'.format(termination_criterion))\n",
    "\n",
    "    x = x0\n",
    "    k = 0\n",
    "    terminate=False\n",
    "    while k < maxits and not terminate:\n",
    "        dx = f(x)/df(x)\n",
    "        x -= dx\n",
    "        k += 1\n",
    "        if print_info:\n",
    "            print('k = {:2d}, x = {:15.8e}, f(x) = {:15.8e}, dx = {:15.8e}'.format(k, x, f(x), dx))\n",
    "        terminate = check_termination_criterion(x, dx, tol)\n",
    "\n",
    "    if print_info:\n",
    "        print('terminated after {} iterations'.format(k))\n",
    "        print('x = {}, f(x) = {}'.format(x, f(x)))\n",
    "    return x"
   ]
  },
  {
   "cell_type": "markdown",
   "metadata": {},
   "source": [
    "### a)"
   ]
  },
  {
   "cell_type": "code",
   "execution_count": 23,
   "metadata": {},
   "outputs": [
    {
     "name": "stdout",
     "output_type": "stream",
     "text": [
      "k =  1, x =  1.50000000e+00, f(x) =  2.50000000e-01, dx = -5.00000000e-01\n",
      "k =  2, x =  1.41666667e+00, f(x) =  6.94444444e-03, dx =  8.33333333e-02\n",
      "k =  3, x =  1.41421569e+00, f(x) =  6.00730488e-06, dx =  2.45098039e-03\n",
      "k =  4, x =  1.41421356e+00, f(x) =  4.51061410e-12, dx =  2.12389982e-06\n",
      "k =  5, x =  1.41421356e+00, f(x) =  4.44089210e-16, dx =  1.59474291e-12\n",
      "terminated after 5 iterations\n",
      "x = 1.4142135623730951, f(x) = 4.440892098500626e-16\n"
     ]
    }
   ],
   "source": [
    "def fa(x):\n",
    "    return x**2 - 2\n",
    "def dfa(x):\n",
    "    return 2.*x\n",
    "\n",
    "tol=1e-6\n",
    "x0a = 1.\n",
    "xa = newton(fa, dfa, x0a, tol, print_info=True)"
   ]
  },
  {
   "cell_type": "markdown",
   "metadata": {},
   "source": [
    "### b)"
   ]
  },
  {
   "cell_type": "code",
   "execution_count": 30,
   "metadata": {},
   "outputs": [
    {
     "name": "stdout",
     "output_type": "stream",
     "text": [
      "k =  1, x =  4.00000000e+00, f(x) =  7.32625556e-02, dx = -2.00000000e+00\n",
      "k =  2, x =  5.33333333e+00, f(x) =  2.57490666e-02, dx = -1.33333333e+00\n",
      "k =  3, x =  6.56410256e+00, f(x) =  9.25596782e-03, dx = -1.23076923e+00\n",
      "k =  4, x =  7.74382607e+00, f(x) =  3.35625276e-03, dx = -1.17972350e+00\n",
      "k =  5, x =  8.89210984e+00, f(x) =  1.22239223e-03, dx = -1.14828378e+00\n",
      "k =  6, x =  1.00188187e+01, f(x) =  4.46373960e-04, dx = -1.12670883e+00\n",
      "k =  7, x =  1.11296979e+01, f(x) =  1.63273979e-04, dx = -1.11087927e+00\n",
      "k =  8, x =  1.22284176e+01, f(x) =  5.97910237e-05, dx = -1.09871963e+00\n",
      "k =  9, x =  1.33174773e+01, f(x) =  2.19136669e-05, dx = -1.08905974e+00\n",
      "k = 10, x =  1.43986628e+01, f(x) =  8.03641534e-06, dx = -1.08118546e+00\n",
      "k = 11, x =  1.54732971e+01, f(x) =  2.94859636e-06, dx = -1.07463431e+00\n",
      "k = 12, x =  1.65423898e+01, f(x) =  1.08225507e-06, dx = -1.06909276e+00\n",
      "k = 13, x =  1.76067300e+01, f(x) =  3.97349818e-07, dx = -1.06434017e+00\n",
      "k = 14, x =  1.86669466e+01, f(x) =  1.45922211e-07, dx = -1.06021655e+00\n",
      "k = 15, x =  1.97235494e+01, f(x) =  5.35989634e-08, dx = -1.05660288e+00\n",
      "k = 16, x =  2.07769581e+01, f(x) =  1.96908156e-08, dx = -1.05340868e+00\n",
      "k = 17, x =  2.18275220e+01, f(x) =  7.23489237e-09, dx = -1.05056389e+00\n",
      "k = 18, x =  2.28755354e+01, f(x) =  2.65859678e-09, dx = -1.04801339e+00\n",
      "k = 19, x =  2.39212486e+01, f(x) =  9.77051807e-10, dx = -1.04571317e+00\n",
      "k = 20, x =  2.49648762e+01, f(x) =  3.59104990e-10, dx = -1.04362764e+00\n",
      "k = 21, x =  2.60066039e+01, f(x) =  1.31995480e-10, dx = -1.04172773e+00\n",
      "k = 22, x =  2.70465934e+01, f(x) =  4.85206169e-11, dx = -1.03998944e+00\n",
      "k = 23, x =  2.80849861e+01, f(x) =  1.78369141e-11, dx = -1.03839274e+00\n",
      "k = 24, x =  2.91219069e+01, f(x) =  6.55747019e-12, dx = -1.03692082e+00\n",
      "k = 25, x =  3.01574664e+01, f(x) =  2.41086896e-12, dx = -1.03555947e+00\n",
      "k = 26, x =  3.11917629e+01, f(x) =  8.86399286e-13, dx = -1.03429653e+00\n",
      "k = 27, x =  3.22248846e+01, f(x) =  3.25913109e-13, dx = -1.03312162e+00\n",
      "k = 28, x =  3.32569103e+01, f(x) =  1.19836544e-13, dx = -1.03202574e+00\n",
      "k = 29, x =  3.42879114e+01, f(x) =  4.40646489e-14, dx = -1.03100111e+00\n",
      "k = 30, x =  3.53179523e+01, f(x) =  1.62033086e-14, dx = -1.03004094e+00\n",
      "k = 31, x =  3.63470916e+01, f(x) =  5.95838208e-15, dx = -1.02913927e+00\n",
      "k = 32, x =  3.73753825e+01, f(x) =  2.19110544e-15, dx = -1.02829087e+00\n",
      "k = 33, x =  3.84028736e+01, f(x) =  8.05763576e-16, dx = -1.02749112e+00\n",
      "k = 34, x =  3.94296095e+01, f(x) =  2.96319780e-16, dx = -1.02673591e+00\n",
      "k = 35, x =  4.04556311e+01, f(x) =  1.08973683e-16, dx = -1.02602160e+00\n",
      "k = 36, x =  4.14809760e+01, f(x) =  4.00765170e-17, dx = -1.02534492e+00\n",
      "k = 37, x =  4.25056790e+01, f(x) =  1.47389016e-17, dx = -1.02470296e+00\n",
      "k = 38, x =  4.35297721e+01, f(x) =  5.42059023e-18, dx = -1.02409309e+00\n",
      "k = 39, x =  4.45532850e+01, f(x) =  1.99358104e-18, dx = -1.02351294e+00\n",
      "k = 40, x =  4.55762454e+01, f(x) =  7.33207096e-19, dx = -1.02296038e+00\n",
      "k = 41, x =  4.65986789e+01, f(x) =  2.69664951e-19, dx = -1.02243347e+00\n",
      "k = 42, x =  4.76206093e+01, f(x) =  9.91806814e-20, dx = -1.02193046e+00\n",
      "k = 43, x =  4.86420591e+01, f(x) =  3.64782591e-20, dx = -1.02144974e+00\n",
      "k = 44, x =  4.96630489e+01, f(x) =  1.34166865e-20, dx = -1.02098986e+00\n",
      "k = 45, x =  5.06835984e+01, f(x) =  4.93469515e-21, dx = -1.02054947e+00\n",
      "k = 46, x =  5.17037258e+01, f(x) =  1.81501008e-21, dx = -1.02012737e+00\n",
      "k = 47, x =  5.27234482e+01, f(x) =  6.67576729e-22, dx = -1.01972242e+00\n",
      "k = 48, x =  5.37427818e+01, f(x) =  2.45542442e-22, dx = -1.01933359e+00\n",
      "k = 49, x =  5.47617417e+01, f(x) =  9.03139844e-23, dx = -1.01895994e+00\n",
      "k = 50, x =  5.57803423e+01, f(x) =  3.32189813e-23, dx = -1.01860059e+00\n",
      "k = 51, x =  5.67985970e+01, f(x) =  1.22185687e-23, dx = -1.01825472e+00\n",
      "k = 52, x =  5.78165186e+01, f(x) =  4.49424695e-24, dx = -1.01792160e+00\n",
      "k = 53, x =  5.88341191e+01, f(x) =  1.65308796e-24, dx = -1.01760052e+00\n",
      "k = 54, x =  5.98514100e+01, f(x) =  6.08047207e-25, dx = -1.01729083e+00\n",
      "k = 55, x =  6.08684019e+01, f(x) =  2.23656138e-25, dx = -1.01699195e+00\n",
      "k = 56, x =  6.18851052e+01, f(x) =  8.22671441e-26, dx = -1.01670330e+00\n",
      "k = 57, x =  6.29015296e+01, f(x) =  3.02603534e-26, dx = -1.01642438e+00\n",
      "k = 58, x =  6.39176843e+01, f(x) =  1.11307248e-26, dx = -1.01615469e+00\n",
      "k = 59, x =  6.49335781e+01, f(x) =  4.09425309e-27, dx = -1.01589378e+00\n",
      "k = 60, x =  6.59492193e+01, f(x) =  1.50600920e-27, dx = -1.01564123e+00\n",
      "k = 61, x =  6.69646160e+01, f(x) =  5.53964826e-28, dx = -1.01539664e+00\n",
      "k = 62, x =  6.79797756e+01, f(x) =  2.03769089e-28, dx = -1.01515964e+00\n",
      "k = 63, x =  6.89947055e+01, f(x) =  7.49541866e-29, dx = -1.01492988e+00\n",
      "k = 64, x =  7.00094125e+01, f(x) =  2.75711513e-29, dx = -1.01470703e+00\n",
      "k = 65, x =  7.10239033e+01, f(x) =  1.01418050e-29, dx = -1.01449078e+00\n",
      "k = 66, x =  7.20381841e+01, f(x) =  3.73058472e-30, dx = -1.01428084e+00\n",
      "k = 67, x =  7.30522611e+01, f(x) =  1.37227071e-30, dx = -1.01407694e+00\n",
      "k = 68, x =  7.40661399e+01, f(x) =  5.04782010e-31, dx = -1.01387881e+00\n",
      "k = 69, x =  7.50798261e+01, f(x) =  1.85681690e-31, dx = -1.01368623e+00\n",
      "k = 70, x =  7.60933251e+01, f(x) =  6.83023084e-32, dx = -1.01349895e+00\n",
      "k = 71, x =  7.71066418e+01, f(x) =  2.51248068e-32, dx = -1.01331676e+00\n",
      "k = 72, x =  7.81197813e+01, f(x) =  9.24210895e-33, dx = -1.01313946e+00\n",
      "k = 73, x =  7.91327481e+01, f(x) =  3.39969850e-33, dx = -1.01296684e+00\n",
      "k = 74, x =  8.01455468e+01, f(x) =  1.25057762e-33, dx = -1.01279873e+00\n",
      "k = 75, x =  8.11581818e+01, f(x) =  4.60025381e-34, dx = -1.01263495e+00\n",
      "k = 76, x =  8.21706571e+01, f(x) =  1.69220820e-34, dx = -1.01247533e+00\n",
      "k = 77, x =  8.31829769e+01, f(x) =  6.22481750e-35, dx = -1.01231972e+00\n",
      "k = 78, x =  8.41951448e+01, f(x) =  2.28981423e-35, dx = -1.01216797e+00\n",
      "k = 79, x =  8.52071648e+01, f(x) =  8.42315211e-36, dx = -1.01201993e+00\n",
      "k = 80, x =  8.62190402e+01, f(x) =  3.09848771e-36, dx = -1.01187547e+00\n",
      "k = 81, x =  8.72307747e+01, f(x) =  1.13979206e-36, dx = -1.01173447e+00\n",
      "k = 82, x =  8.82423715e+01, f(x) =  4.19278088e-37, dx = -1.01159679e+00\n",
      "k = 83, x =  8.92538338e+01, f(x) =  1.54233733e-37, dx = -1.01146232e+00\n",
      "k = 84, x =  9.02651648e+01, f(x) =  5.67358046e-38, dx = -1.01133095e+00\n",
      "k = 85, x =  9.12763673e+01, f(x) =  2.08706361e-38, dx = -1.01120258e+00\n",
      "k = 86, x =  9.22874444e+01, f(x) =  7.67741037e-39, dx = -1.01107710e+00\n",
      "k = 87, x =  9.32983988e+01, f(x) =  2.82419321e-39, dx = -1.01095441e+00\n",
      "k = 88, x =  9.43092333e+01, f(x) =  1.03890208e-39, dx = -1.01083442e+00\n",
      "k = 89, x =  9.53199503e+01, f(x) =  3.82168924e-40, dx = -1.01071705e+00\n",
      "k = 90, x =  9.63305525e+01, f(x) =  1.40584244e-40, dx = -1.01060221e+00\n",
      "k = 91, x =  9.73410423e+01, f(x) =  5.17152276e-41, dx = -1.01048982e+00\n",
      "k = 92, x =  9.83514221e+01, f(x) =  1.90239512e-41, dx = -1.01037979e+00\n",
      "k = 93, x =  9.93616942e+01, f(x) =  6.99815383e-42, dx = -1.01027206e+00\n",
      "k = 94, x =  1.00371861e+02, f(x) =  2.57434477e-42, dx = -1.01016656e+00\n",
      "k = 95, x =  1.01381924e+02, f(x) =  9.47000883e-43, dx = -1.01006321e+00\n",
      "k = 96, x =  1.02391886e+02, f(x) =  3.48364983e-43, dx = -1.00996195e+00\n",
      "k = 97, x =  1.03401749e+02, f(x) =  1.28150123e-43, dx = -1.00986272e+00\n",
      "k = 98, x =  1.04411514e+02, f(x) =  4.71415624e-44, dx = -1.00976546e+00\n",
      "k = 99, x =  1.05421184e+02, f(x) =  1.73416060e-44, dx = -1.00967010e+00\n",
      "k = 100, x =  1.06430761e+02, f(x) =  6.37932963e-45, dx = -1.00957660e+00\n",
      "terminated after 100 iterations\n",
      "x = 106.43076080650903, f(x) = 6.379329633212958e-45\n"
     ]
    }
   ],
   "source": [
    "def fb(x):\n",
    "    return x*np.exp(-x)   #verwende numpy-Funktion, damit Feldoperation für Plot möglich\n",
    "def dfb(x):\n",
    "    return (1. - x)*np.exp(-x)\n",
    "    \n",
    "x0b = 2.\n",
    "xb = newton(fb, dfb, x0b, tol, print_info=True)"
   ]
  },
  {
   "cell_type": "code",
   "execution_count": 39,
   "metadata": {},
   "outputs": [
    {
     "data": {
      "image/png": "[encoded data removed]",
      "text/plain": [
       "<Figure size 432x288 with 1 Axes>"
      ]
     },
     "metadata": {
      "needs_background": "light"
     },
     "output_type": "display_data"
    }
   ],
   "source": [
    "x = np.linspace(-.25,4,100)\n",
    "y = fb(x)\n",
    "plt.plot(x,y)\n",
    "plt.grid()\n",
    "plt.xlabel('x')\n",
    "plt.ylabel('fb(x)')\n",
    "plt.show()"
   ]
  },
  {
   "cell_type": "code",
   "execution_count": 40,
   "metadata": {},
   "outputs": [
    {
     "name": "stdout",
     "output_type": "stream",
     "text": [
      "k =  1, x = -5.00000000e-01, f(x) = -8.24360635e-01, dx =  1.00000000e+00\n",
      "k =  2, x = -1.66666667e-01, f(x) = -1.96893402e-01, dx = -3.33333333e-01\n",
      "k =  3, x = -2.38095238e-02, f(x) = -2.43832198e-02, dx = -1.42857143e-01\n",
      "k =  4, x = -5.53709856e-04, f(x) = -5.54016536e-04, dx = -2.32558140e-02\n",
      "k =  5, x = -3.06424934e-07, f(x) = -3.06425028e-07, dx = -5.53403431e-04\n",
      "k =  6, x = -9.38962115e-14, f(x) = -9.38962115e-14, dx = -3.06424840e-07\n",
      "terminated after 6 iterations\n",
      "x = -9.389621148813321e-14, f(x) = -9.389621148814203e-14\n"
     ]
    }
   ],
   "source": [
    "x0b = .5\n",
    "xb = newton(fb, dfb, x0b, tol, print_info=True)"
   ]
  },
  {
   "cell_type": "markdown",
   "metadata": {},
   "source": [
    "### c)"
   ]
  },
  {
   "cell_type": "code",
   "execution_count": 41,
   "metadata": {},
   "outputs": [
    {
     "ename": "ValueError",
     "evalue": "math domain error",
     "output_type": "error",
     "traceback": [
      "\u001b[0;31m---------------------------------------------------------------------------\u001b[0m",
      "\u001b[0;31mValueError\u001b[0m                                Traceback (most recent call last)",
      "\u001b[0;32m<ipython-input-41-a11fe78c3b95>\u001b[0m in \u001b[0;36m<module>\u001b[0;34m()\u001b[0m\n\u001b[1;32m      5\u001b[0m \u001b[0;34m\u001b[0m\u001b[0m\n\u001b[1;32m      6\u001b[0m \u001b[0mx0c\u001b[0m \u001b[0;34m=\u001b[0m \u001b[0;36m3.\u001b[0m\u001b[0;34m\u001b[0m\u001b[0;34m\u001b[0m\u001b[0m\n\u001b[0;32m----> 7\u001b[0;31m \u001b[0mxc\u001b[0m \u001b[0;34m=\u001b[0m \u001b[0mnewton\u001b[0m\u001b[0;34m(\u001b[0m\u001b[0mfc\u001b[0m\u001b[0;34m,\u001b[0m \u001b[0mdfc\u001b[0m\u001b[0;34m,\u001b[0m \u001b[0mx0c\u001b[0m\u001b[0;34m,\u001b[0m \u001b[0mtol\u001b[0m\u001b[0;34m,\u001b[0m \u001b[0mprint_info\u001b[0m\u001b[0;34m=\u001b[0m\u001b[0;32mTrue\u001b[0m\u001b[0;34m)\u001b[0m\u001b[0;34m\u001b[0m\u001b[0;34m\u001b[0m\u001b[0m\n\u001b[0m",
      "\u001b[0;32m<ipython-input-19-4d201f7b54d8>\u001b[0m in \u001b[0;36mnewton\u001b[0;34m(f, df, x0, tol, maxits, termination_criterion, print_info)\u001b[0m\n\u001b[1;32m     20\u001b[0m         \u001b[0mk\u001b[0m \u001b[0;34m+=\u001b[0m \u001b[0;36m1\u001b[0m\u001b[0;34m\u001b[0m\u001b[0;34m\u001b[0m\u001b[0m\n\u001b[1;32m     21\u001b[0m         \u001b[0;32mif\u001b[0m \u001b[0mprint_info\u001b[0m\u001b[0;34m:\u001b[0m\u001b[0;34m\u001b[0m\u001b[0;34m\u001b[0m\u001b[0m\n\u001b[0;32m---> 22\u001b[0;31m             \u001b[0mprint\u001b[0m\u001b[0;34m(\u001b[0m\u001b[0;34m'k = {:2d}, x = {:15.8e}, f(x) = {:15.8e}, dx = {:15.8e}'\u001b[0m\u001b[0;34m.\u001b[0m\u001b[0mformat\u001b[0m\u001b[0;34m(\u001b[0m\u001b[0mk\u001b[0m\u001b[0;34m,\u001b[0m \u001b[0mx\u001b[0m\u001b[0;34m,\u001b[0m \u001b[0mf\u001b[0m\u001b[0;34m(\u001b[0m\u001b[0mx\u001b[0m\u001b[0;34m)\u001b[0m\u001b[0;34m,\u001b[0m \u001b[0mdx\u001b[0m\u001b[0;34m)\u001b[0m\u001b[0;34m)\u001b[0m\u001b[0;34m\u001b[0m\u001b[0;34m\u001b[0m\u001b[0m\n\u001b[0m\u001b[1;32m     23\u001b[0m         \u001b[0mterminate\u001b[0m \u001b[0;34m=\u001b[0m \u001b[0mcheck_termination_criterion\u001b[0m\u001b[0;34m(\u001b[0m\u001b[0mx\u001b[0m\u001b[0;34m,\u001b[0m \u001b[0mdx\u001b[0m\u001b[0;34m,\u001b[0m \u001b[0mtol\u001b[0m\u001b[0;34m)\u001b[0m\u001b[0;34m\u001b[0m\u001b[0;34m\u001b[0m\u001b[0m\n\u001b[1;32m     24\u001b[0m \u001b[0;34m\u001b[0m\u001b[0m\n",
      "\u001b[0;32m<ipython-input-41-a11fe78c3b95>\u001b[0m in \u001b[0;36mfc\u001b[0;34m(x)\u001b[0m\n\u001b[1;32m      1\u001b[0m \u001b[0;32mdef\u001b[0m \u001b[0mfc\u001b[0m\u001b[0;34m(\u001b[0m\u001b[0mx\u001b[0m\u001b[0;34m)\u001b[0m\u001b[0;34m:\u001b[0m\u001b[0;34m\u001b[0m\u001b[0;34m\u001b[0m\u001b[0m\n\u001b[0;32m----> 2\u001b[0;31m     \u001b[0;32mreturn\u001b[0m \u001b[0mlog\u001b[0m\u001b[0;34m(\u001b[0m\u001b[0mx\u001b[0m\u001b[0;34m)\u001b[0m\u001b[0;34m\u001b[0m\u001b[0;34m\u001b[0m\u001b[0m\n\u001b[0m\u001b[1;32m      3\u001b[0m \u001b[0;32mdef\u001b[0m \u001b[0mdfc\u001b[0m\u001b[0;34m(\u001b[0m\u001b[0mx\u001b[0m\u001b[0;34m)\u001b[0m\u001b[0;34m:\u001b[0m\u001b[0;34m\u001b[0m\u001b[0;34m\u001b[0m\u001b[0m\n\u001b[1;32m      4\u001b[0m     \u001b[0;32mreturn\u001b[0m \u001b[0;36m1.\u001b[0m\u001b[0;34m/\u001b[0m\u001b[0mx\u001b[0m\u001b[0;34m\u001b[0m\u001b[0;34m\u001b[0m\u001b[0m\n\u001b[1;32m      5\u001b[0m \u001b[0;34m\u001b[0m\u001b[0m\n",
      "\u001b[0;31mValueError\u001b[0m: math domain error"
     ]
    }
   ],
   "source": [
    "def fc(x):\n",
    "    return log(x)  \n",
    "def dfc(x):\n",
    "    return 1./x\n",
    "    \n",
    "x0c = 3.\n",
    "xc = newton(fc, dfc, x0c, tol, print_info=True)"
   ]
  },
  {
   "cell_type": "code",
   "execution_count": 42,
   "metadata": {},
   "outputs": [
    {
     "name": "stdout",
     "output_type": "stream",
     "text": [
      "k =  1, x =  6.13705639e-01, f(x) = -4.88239881e-01, dx =  1.38629436e+00\n",
      "k =  2, x =  9.13341207e-01, f(x) = -9.06457473e-02, dx = -2.99635568e-01\n",
      "k =  3, x =  9.96131703e-01, f(x) = -3.87579776e-03, dx = -8.27904963e-02\n",
      "k =  4, x =  9.99992508e-01, f(x) = -7.49155322e-06, dx = -3.86080503e-03\n",
      "k =  5, x =  1.00000000e+00, f(x) = -2.80615531e-11, dx = -7.49149710e-06\n",
      "k =  6, x =  1.00000000e+00, f(x) =  0.00000000e+00, dx = -2.80615531e-11\n",
      "terminated after 6 iterations\n",
      "x = 1.0, f(x) = 0.0\n"
     ]
    }
   ],
   "source": [
    "x0c = 2.\n",
    "xc = newton(fc, dfc, x0c, tol, print_info=True)"
   ]
  },
  {
   "cell_type": "markdown",
   "metadata": {},
   "source": [
    "### d)"
   ]
  },
  {
   "cell_type": "code",
   "execution_count": 47,
   "metadata": {},
   "outputs": [
    {
     "name": "stdout",
     "output_type": "stream",
     "text": [
      "-1.4129651365067377\n",
      "k =  1, x =  4.87022017e+00, f(x) = -9.87570492e-01, dx = -6.28318531e+00\n",
      "k =  2, x =  1.11534055e+01, f(x) = -9.87570492e-01, dx = -6.28318531e+00\n",
      "k =  3, x =  1.74365908e+01, f(x) = -9.87570492e-01, dx = -6.28318531e+00\n",
      "k =  4, x =  2.37197761e+01, f(x) = -9.87570492e-01, dx = -6.28318531e+00\n",
      "k =  5, x =  3.00029614e+01, f(x) = -9.87570492e-01, dx = -6.28318531e+00\n",
      "k =  6, x =  3.62861468e+01, f(x) = -9.87570482e-01, dx = -6.28318537e+00\n",
      "k =  7, x =  4.25693295e+01, f(x) = -9.87570881e-01, dx = -6.28318277e+00\n",
      "k =  8, x =  4.88526149e+01, f(x) = -9.87555155e-01, dx = -6.28328533e+00\n",
      "k =  9, x =  5.51318540e+01, f(x) = -9.88168097e-01, dx = -6.27923910e+00\n",
      "k = 10, x =  6.15746884e+01, f(x) = -9.51219419e-01, dx = -6.44283445e+00\n",
      "k = 11, x =  6.46579060e+01, f(x) =  9.67598548e-01, dx = -3.08321754e+00\n",
      "k = 12, x =  6.84900756e+01, f(x) = -5.85067090e-01, dx = -3.83216964e+00\n",
      "k = 13, x =  6.92115034e+01, f(x) =  9.63155291e-02, dx = -7.21427851e-01\n",
      "k = 14, x =  6.91147380e+01, f(x) = -3.00336833e-04, dx =  9.67654058e-02\n",
      "k = 15, x =  6.91150384e+01, f(x) =  9.02830395e-12, dx = -3.00336846e-04\n",
      "k = 16, x =  6.91150384e+01, f(x) =  4.41120440e-15, dx =  9.02830395e-12\n",
      "terminated after 16 iterations\n",
      "x = 69.11503837897546, f(x) = 4.411204399476825e-15\n"
     ]
    }
   ],
   "source": [
    "def fd(x):\n",
    "    return sin(x)\n",
    "def dfd(x):\n",
    "    return cos(x)\n",
    "    \n",
    "x0d = atan(-2.*pi)\n",
    "xd = newton(fd, dfd, x0d, tol, print_info=True)"
   ]
  },
  {
   "cell_type": "code",
   "execution_count": 46,
   "metadata": {},
   "outputs": [
    {
     "data": {
      "text/plain": [
       "22.000000000000004"
      ]
     },
     "execution_count": 46,
     "metadata": {},
     "output_type": "execute_result"
    }
   ],
   "source": [
    "#Das ist x = 22*pi:\n",
    "xd/pi  "
   ]
  },
  {
   "cell_type": "code",
   "execution_count": 53,
   "metadata": {},
   "outputs": [
    {
     "name": "stdout",
     "output_type": "stream",
     "text": [
      "k =  1, x =  4.99030019e+00, f(x) = -9.61630590e-01, dx = -6.40624855e+00\n",
      "k =  2, x =  8.49545413e+00, f(x) =  8.01215520e-01, dx = -3.50515394e+00\n",
      "k =  3, x =  9.83443779e+00, f(x) = -3.98297326e-01, dx = -1.33898366e+00\n",
      "k =  4, x =  9.40021096e+00, f(x) =  2.45645333e-02, dx =  4.34226832e-01\n",
      "k =  5, x =  9.42478290e+00, f(x) = -4.94356459e-06, dx = -2.45719479e-02\n",
      "k =  6, x =  9.42477796e+00, f(x) =  3.67394040e-16, dx =  4.94356459e-06\n",
      "k =  7, x =  9.42477796e+00, f(x) =  3.67394040e-16, dx = -3.67394040e-16\n",
      "terminated after 7 iterations\n",
      "x = 9.42477796076938, f(x) = 3.6739403974420594e-16\n"
     ]
    }
   ],
   "source": [
    "x0d *= 1.001  #kleine Änderung\n",
    "xd = newton(fd, dfd, x0d, tol, print_info=True)"
   ]
  },
  {
   "cell_type": "code",
   "execution_count": 54,
   "metadata": {},
   "outputs": [
    {
     "data": {
      "text/plain": [
       "3.0"
      ]
     },
     "execution_count": 54,
     "metadata": {},
     "output_type": "execute_result"
    }
   ],
   "source": [
    "#Das ist x = 3*pi:\n",
    "xd/pi"
   ]
  },
  {
   "cell_type": "markdown",
   "metadata": {},
   "source": [
    "### e)"
   ]
  },
  {
   "cell_type": "code",
   "execution_count": 56,
   "metadata": {},
   "outputs": [
    {
     "name": "stdout",
     "output_type": "stream",
     "text": [
      "k =  1, x =  1.00000000e+00, f(x) =  1.00000000e+00, dx = -1.00000000e+00\n",
      "k =  2, x =  0.00000000e+00, f(x) =  2.00000000e+00, dx =  1.00000000e+00\n",
      "k =  3, x =  1.00000000e+00, f(x) =  1.00000000e+00, dx = -1.00000000e+00\n",
      "k =  4, x =  0.00000000e+00, f(x) =  2.00000000e+00, dx =  1.00000000e+00\n",
      "k =  5, x =  1.00000000e+00, f(x) =  1.00000000e+00, dx = -1.00000000e+00\n",
      "k =  6, x =  0.00000000e+00, f(x) =  2.00000000e+00, dx =  1.00000000e+00\n",
      "k =  7, x =  1.00000000e+00, f(x) =  1.00000000e+00, dx = -1.00000000e+00\n",
      "k =  8, x =  0.00000000e+00, f(x) =  2.00000000e+00, dx =  1.00000000e+00\n",
      "k =  9, x =  1.00000000e+00, f(x) =  1.00000000e+00, dx = -1.00000000e+00\n",
      "k = 10, x =  0.00000000e+00, f(x) =  2.00000000e+00, dx =  1.00000000e+00\n",
      "k = 11, x =  1.00000000e+00, f(x) =  1.00000000e+00, dx = -1.00000000e+00\n",
      "k = 12, x =  0.00000000e+00, f(x) =  2.00000000e+00, dx =  1.00000000e+00\n",
      "k = 13, x =  1.00000000e+00, f(x) =  1.00000000e+00, dx = -1.00000000e+00\n",
      "k = 14, x =  0.00000000e+00, f(x) =  2.00000000e+00, dx =  1.00000000e+00\n",
      "k = 15, x =  1.00000000e+00, f(x) =  1.00000000e+00, dx = -1.00000000e+00\n",
      "k = 16, x =  0.00000000e+00, f(x) =  2.00000000e+00, dx =  1.00000000e+00\n",
      "k = 17, x =  1.00000000e+00, f(x) =  1.00000000e+00, dx = -1.00000000e+00\n",
      "k = 18, x =  0.00000000e+00, f(x) =  2.00000000e+00, dx =  1.00000000e+00\n",
      "k = 19, x =  1.00000000e+00, f(x) =  1.00000000e+00, dx = -1.00000000e+00\n",
      "k = 20, x =  0.00000000e+00, f(x) =  2.00000000e+00, dx =  1.00000000e+00\n",
      "k = 21, x =  1.00000000e+00, f(x) =  1.00000000e+00, dx = -1.00000000e+00\n",
      "k = 22, x =  0.00000000e+00, f(x) =  2.00000000e+00, dx =  1.00000000e+00\n",
      "k = 23, x =  1.00000000e+00, f(x) =  1.00000000e+00, dx = -1.00000000e+00\n",
      "k = 24, x =  0.00000000e+00, f(x) =  2.00000000e+00, dx =  1.00000000e+00\n",
      "k = 25, x =  1.00000000e+00, f(x) =  1.00000000e+00, dx = -1.00000000e+00\n",
      "k = 26, x =  0.00000000e+00, f(x) =  2.00000000e+00, dx =  1.00000000e+00\n",
      "k = 27, x =  1.00000000e+00, f(x) =  1.00000000e+00, dx = -1.00000000e+00\n",
      "k = 28, x =  0.00000000e+00, f(x) =  2.00000000e+00, dx =  1.00000000e+00\n",
      "k = 29, x =  1.00000000e+00, f(x) =  1.00000000e+00, dx = -1.00000000e+00\n",
      "k = 30, x =  0.00000000e+00, f(x) =  2.00000000e+00, dx =  1.00000000e+00\n",
      "k = 31, x =  1.00000000e+00, f(x) =  1.00000000e+00, dx = -1.00000000e+00\n",
      "k = 32, x =  0.00000000e+00, f(x) =  2.00000000e+00, dx =  1.00000000e+00\n",
      "k = 33, x =  1.00000000e+00, f(x) =  1.00000000e+00, dx = -1.00000000e+00\n",
      "k = 34, x =  0.00000000e+00, f(x) =  2.00000000e+00, dx =  1.00000000e+00\n",
      "k = 35, x =  1.00000000e+00, f(x) =  1.00000000e+00, dx = -1.00000000e+00\n",
      "k = 36, x =  0.00000000e+00, f(x) =  2.00000000e+00, dx =  1.00000000e+00\n",
      "k = 37, x =  1.00000000e+00, f(x) =  1.00000000e+00, dx = -1.00000000e+00\n",
      "k = 38, x =  0.00000000e+00, f(x) =  2.00000000e+00, dx =  1.00000000e+00\n",
      "k = 39, x =  1.00000000e+00, f(x) =  1.00000000e+00, dx = -1.00000000e+00\n",
      "k = 40, x =  0.00000000e+00, f(x) =  2.00000000e+00, dx =  1.00000000e+00\n",
      "k = 41, x =  1.00000000e+00, f(x) =  1.00000000e+00, dx = -1.00000000e+00\n",
      "k = 42, x =  0.00000000e+00, f(x) =  2.00000000e+00, dx =  1.00000000e+00\n",
      "k = 43, x =  1.00000000e+00, f(x) =  1.00000000e+00, dx = -1.00000000e+00\n",
      "k = 44, x =  0.00000000e+00, f(x) =  2.00000000e+00, dx =  1.00000000e+00\n",
      "k = 45, x =  1.00000000e+00, f(x) =  1.00000000e+00, dx = -1.00000000e+00\n",
      "k = 46, x =  0.00000000e+00, f(x) =  2.00000000e+00, dx =  1.00000000e+00\n",
      "k = 47, x =  1.00000000e+00, f(x) =  1.00000000e+00, dx = -1.00000000e+00\n",
      "k = 48, x =  0.00000000e+00, f(x) =  2.00000000e+00, dx =  1.00000000e+00\n",
      "k = 49, x =  1.00000000e+00, f(x) =  1.00000000e+00, dx = -1.00000000e+00\n",
      "k = 50, x =  0.00000000e+00, f(x) =  2.00000000e+00, dx =  1.00000000e+00\n",
      "k = 51, x =  1.00000000e+00, f(x) =  1.00000000e+00, dx = -1.00000000e+00\n",
      "k = 52, x =  0.00000000e+00, f(x) =  2.00000000e+00, dx =  1.00000000e+00\n",
      "k = 53, x =  1.00000000e+00, f(x) =  1.00000000e+00, dx = -1.00000000e+00\n",
      "k = 54, x =  0.00000000e+00, f(x) =  2.00000000e+00, dx =  1.00000000e+00\n",
      "k = 55, x =  1.00000000e+00, f(x) =  1.00000000e+00, dx = -1.00000000e+00\n",
      "k = 56, x =  0.00000000e+00, f(x) =  2.00000000e+00, dx =  1.00000000e+00\n",
      "k = 57, x =  1.00000000e+00, f(x) =  1.00000000e+00, dx = -1.00000000e+00\n",
      "k = 58, x =  0.00000000e+00, f(x) =  2.00000000e+00, dx =  1.00000000e+00\n",
      "k = 59, x =  1.00000000e+00, f(x) =  1.00000000e+00, dx = -1.00000000e+00\n",
      "k = 60, x =  0.00000000e+00, f(x) =  2.00000000e+00, dx =  1.00000000e+00\n",
      "k = 61, x =  1.00000000e+00, f(x) =  1.00000000e+00, dx = -1.00000000e+00\n",
      "k = 62, x =  0.00000000e+00, f(x) =  2.00000000e+00, dx =  1.00000000e+00\n",
      "k = 63, x =  1.00000000e+00, f(x) =  1.00000000e+00, dx = -1.00000000e+00\n",
      "k = 64, x =  0.00000000e+00, f(x) =  2.00000000e+00, dx =  1.00000000e+00\n",
      "k = 65, x =  1.00000000e+00, f(x) =  1.00000000e+00, dx = -1.00000000e+00\n",
      "k = 66, x =  0.00000000e+00, f(x) =  2.00000000e+00, dx =  1.00000000e+00\n",
      "k = 67, x =  1.00000000e+00, f(x) =  1.00000000e+00, dx = -1.00000000e+00\n",
      "k = 68, x =  0.00000000e+00, f(x) =  2.00000000e+00, dx =  1.00000000e+00\n",
      "k = 69, x =  1.00000000e+00, f(x) =  1.00000000e+00, dx = -1.00000000e+00\n",
      "k = 70, x =  0.00000000e+00, f(x) =  2.00000000e+00, dx =  1.00000000e+00\n",
      "k = 71, x =  1.00000000e+00, f(x) =  1.00000000e+00, dx = -1.00000000e+00\n",
      "k = 72, x =  0.00000000e+00, f(x) =  2.00000000e+00, dx =  1.00000000e+00\n",
      "k = 73, x =  1.00000000e+00, f(x) =  1.00000000e+00, dx = -1.00000000e+00\n",
      "k = 74, x =  0.00000000e+00, f(x) =  2.00000000e+00, dx =  1.00000000e+00\n",
      "k = 75, x =  1.00000000e+00, f(x) =  1.00000000e+00, dx = -1.00000000e+00\n",
      "k = 76, x =  0.00000000e+00, f(x) =  2.00000000e+00, dx =  1.00000000e+00\n",
      "k = 77, x =  1.00000000e+00, f(x) =  1.00000000e+00, dx = -1.00000000e+00\n",
      "k = 78, x =  0.00000000e+00, f(x) =  2.00000000e+00, dx =  1.00000000e+00\n",
      "k = 79, x =  1.00000000e+00, f(x) =  1.00000000e+00, dx = -1.00000000e+00\n",
      "k = 80, x =  0.00000000e+00, f(x) =  2.00000000e+00, dx =  1.00000000e+00\n",
      "k = 81, x =  1.00000000e+00, f(x) =  1.00000000e+00, dx = -1.00000000e+00\n",
      "k = 82, x =  0.00000000e+00, f(x) =  2.00000000e+00, dx =  1.00000000e+00\n",
      "k = 83, x =  1.00000000e+00, f(x) =  1.00000000e+00, dx = -1.00000000e+00\n",
      "k = 84, x =  0.00000000e+00, f(x) =  2.00000000e+00, dx =  1.00000000e+00\n",
      "k = 85, x =  1.00000000e+00, f(x) =  1.00000000e+00, dx = -1.00000000e+00\n",
      "k = 86, x =  0.00000000e+00, f(x) =  2.00000000e+00, dx =  1.00000000e+00\n",
      "k = 87, x =  1.00000000e+00, f(x) =  1.00000000e+00, dx = -1.00000000e+00\n",
      "k = 88, x =  0.00000000e+00, f(x) =  2.00000000e+00, dx =  1.00000000e+00\n",
      "k = 89, x =  1.00000000e+00, f(x) =  1.00000000e+00, dx = -1.00000000e+00\n",
      "k = 90, x =  0.00000000e+00, f(x) =  2.00000000e+00, dx =  1.00000000e+00\n",
      "k = 91, x =  1.00000000e+00, f(x) =  1.00000000e+00, dx = -1.00000000e+00\n",
      "k = 92, x =  0.00000000e+00, f(x) =  2.00000000e+00, dx =  1.00000000e+00\n",
      "k = 93, x =  1.00000000e+00, f(x) =  1.00000000e+00, dx = -1.00000000e+00\n",
      "k = 94, x =  0.00000000e+00, f(x) =  2.00000000e+00, dx =  1.00000000e+00\n",
      "k = 95, x =  1.00000000e+00, f(x) =  1.00000000e+00, dx = -1.00000000e+00\n",
      "k = 96, x =  0.00000000e+00, f(x) =  2.00000000e+00, dx =  1.00000000e+00\n",
      "k = 97, x =  1.00000000e+00, f(x) =  1.00000000e+00, dx = -1.00000000e+00\n",
      "k = 98, x =  0.00000000e+00, f(x) =  2.00000000e+00, dx =  1.00000000e+00\n",
      "k = 99, x =  1.00000000e+00, f(x) =  1.00000000e+00, dx = -1.00000000e+00\n",
      "k = 100, x =  0.00000000e+00, f(x) =  2.00000000e+00, dx =  1.00000000e+00\n",
      "terminated after 100 iterations\n",
      "x = 0.0, f(x) = 2.0\n"
     ]
    }
   ],
   "source": [
    "def fe(x):\n",
    "    return x**3 - 2.*x + 2.\n",
    "def dfe(x):\n",
    "    return 3.*x**2 - 2.\n",
    "    \n",
    "x0e = 0  #Divergenz (periodisch)\n",
    "xe = newton(fe, dfe, x0e, tol, print_info=True)"
   ]
  },
  {
   "cell_type": "code",
   "execution_count": 67,
   "metadata": {},
   "outputs": [
    {
     "name": "stdout",
     "output_type": "stream",
     "text": [
      "k =  1, x =  1.40000000e+00, f(x) =  1.94400000e+00, dx =  6.00000000e-01\n",
      "k =  2, x =  8.98969072e-01, f(x) =  9.28559570e-01, dx =  5.01030928e-01\n",
      "k =  3, x = -1.28877933e+00, f(x) =  2.43695785e+00, dx =  2.18774840e+00\n",
      "k =  4, x = -2.10576730e+00, f(x) = -3.12597651e+00, dx =  8.16987971e-01\n",
      "k =  5, x = -1.82919995e+00, f(x) = -4.62052755e-01, dx = -2.76567349e-01\n",
      "k =  6, x = -1.77171581e+00, f(x) = -1.79434165e-02, dx = -5.74841384e-02\n",
      "k =  7, x = -1.76929656e+00, f(x) = -3.10942024e-05, dx = -2.41925091e-03\n",
      "k =  8, x = -1.76929235e+00, f(x) = -9.39386346e-11, dx = -4.20690445e-06\n",
      "k =  9, x = -1.76929235e+00, f(x) =  0.00000000e+00, dx = -1.27095477e-11\n",
      "terminated after 9 iterations\n",
      "x = -1.7692923542386314, f(x) = 0.0\n"
     ]
    }
   ],
   "source": [
    "x0e = 2  #Konvergenz\n",
    "xe = newton(fe, dfe, x0e, tol, print_info=True)"
   ]
  },
  {
   "cell_type": "code",
   "execution_count": 73,
   "metadata": {},
   "outputs": [
    {
     "name": "stdout",
     "output_type": "stream",
     "text": [
      "k =  1, x =  6.70469799e+00, f(x) =  2.89986726e+02, dx =  3.29530201e+00\n",
      "k =  2, x =  4.52203149e+00, f(x) =  8.54259132e+01, dx =  2.18266650e+00\n",
      "k =  3, x =  3.08258363e+00, f(x) =  2.51265345e+01, dx =  1.43944785e+00\n",
      "k =  4, x =  2.13466168e+00, f(x) =  7.45786132e+00, dx =  9.47921952e-01\n",
      "k =  5, x =  1.49561771e+00, f(x) =  2.35427046e+00, dx =  6.39043969e-01\n",
      "k =  6, x =  9.95838073e-01, f(x) =  9.95889966e-01, dx =  4.99779638e-01\n",
      "k =  7, x = -2.55033104e-02, f(x) =  2.05099003e+00, dx =  1.02134138e+00\n",
      "k =  8, x =  1.00099319e+00, f(x) =  1.00099615e+00, dx = -1.02649650e+00\n",
      "k =  9, x =  5.92967774e-03, f(x) =  1.98814085e+00, dx =  9.95063507e-01\n",
      "k = 10, x =  1.00005254e+00, f(x) =  1.00005254e+00, dx = -9.94122858e-01\n",
      "k = 11, x =  3.15132587e-04, f(x) =  1.99936973e+00, dx =  9.99737403e-01\n",
      "k = 12, x =  1.00000015e+00, f(x) =  1.00000015e+00, dx = -9.99685016e-01\n",
      "k = 13, x =  8.93588625e-07, f(x) =  1.99999821e+00, dx =  9.99999255e-01\n",
      "k = 14, x =  1.00000000e+00, f(x) =  1.00000000e+00, dx = -9.99999106e-01\n",
      "k = 15, x =  7.18625159e-12, f(x) =  2.00000000e+00, dx =  1.00000000e+00\n",
      "k = 16, x =  1.00000000e+00, f(x) =  1.00000000e+00, dx = -1.00000000e+00\n",
      "k = 17, x =  0.00000000e+00, f(x) =  2.00000000e+00, dx =  1.00000000e+00\n",
      "k = 18, x =  1.00000000e+00, f(x) =  1.00000000e+00, dx = -1.00000000e+00\n",
      "k = 19, x =  0.00000000e+00, f(x) =  2.00000000e+00, dx =  1.00000000e+00\n",
      "k = 20, x =  1.00000000e+00, f(x) =  1.00000000e+00, dx = -1.00000000e+00\n",
      "k = 21, x =  0.00000000e+00, f(x) =  2.00000000e+00, dx =  1.00000000e+00\n",
      "k = 22, x =  1.00000000e+00, f(x) =  1.00000000e+00, dx = -1.00000000e+00\n",
      "k = 23, x =  0.00000000e+00, f(x) =  2.00000000e+00, dx =  1.00000000e+00\n",
      "k = 24, x =  1.00000000e+00, f(x) =  1.00000000e+00, dx = -1.00000000e+00\n",
      "k = 25, x =  0.00000000e+00, f(x) =  2.00000000e+00, dx =  1.00000000e+00\n",
      "k = 26, x =  1.00000000e+00, f(x) =  1.00000000e+00, dx = -1.00000000e+00\n",
      "k = 27, x =  0.00000000e+00, f(x) =  2.00000000e+00, dx =  1.00000000e+00\n",
      "k = 28, x =  1.00000000e+00, f(x) =  1.00000000e+00, dx = -1.00000000e+00\n",
      "k = 29, x =  0.00000000e+00, f(x) =  2.00000000e+00, dx =  1.00000000e+00\n",
      "k = 30, x =  1.00000000e+00, f(x) =  1.00000000e+00, dx = -1.00000000e+00\n",
      "k = 31, x =  0.00000000e+00, f(x) =  2.00000000e+00, dx =  1.00000000e+00\n",
      "k = 32, x =  1.00000000e+00, f(x) =  1.00000000e+00, dx = -1.00000000e+00\n",
      "k = 33, x =  0.00000000e+00, f(x) =  2.00000000e+00, dx =  1.00000000e+00\n",
      "k = 34, x =  1.00000000e+00, f(x) =  1.00000000e+00, dx = -1.00000000e+00\n",
      "k = 35, x =  0.00000000e+00, f(x) =  2.00000000e+00, dx =  1.00000000e+00\n",
      "k = 36, x =  1.00000000e+00, f(x) =  1.00000000e+00, dx = -1.00000000e+00\n",
      "k = 37, x =  0.00000000e+00, f(x) =  2.00000000e+00, dx =  1.00000000e+00\n",
      "k = 38, x =  1.00000000e+00, f(x) =  1.00000000e+00, dx = -1.00000000e+00\n",
      "k = 39, x =  0.00000000e+00, f(x) =  2.00000000e+00, dx =  1.00000000e+00\n",
      "k = 40, x =  1.00000000e+00, f(x) =  1.00000000e+00, dx = -1.00000000e+00\n",
      "k = 41, x =  0.00000000e+00, f(x) =  2.00000000e+00, dx =  1.00000000e+00\n",
      "k = 42, x =  1.00000000e+00, f(x) =  1.00000000e+00, dx = -1.00000000e+00\n",
      "k = 43, x =  0.00000000e+00, f(x) =  2.00000000e+00, dx =  1.00000000e+00\n",
      "k = 44, x =  1.00000000e+00, f(x) =  1.00000000e+00, dx = -1.00000000e+00\n",
      "k = 45, x =  0.00000000e+00, f(x) =  2.00000000e+00, dx =  1.00000000e+00\n",
      "k = 46, x =  1.00000000e+00, f(x) =  1.00000000e+00, dx = -1.00000000e+00\n",
      "k = 47, x =  0.00000000e+00, f(x) =  2.00000000e+00, dx =  1.00000000e+00\n",
      "k = 48, x =  1.00000000e+00, f(x) =  1.00000000e+00, dx = -1.00000000e+00\n",
      "k = 49, x =  0.00000000e+00, f(x) =  2.00000000e+00, dx =  1.00000000e+00\n",
      "k = 50, x =  1.00000000e+00, f(x) =  1.00000000e+00, dx = -1.00000000e+00\n",
      "k = 51, x =  0.00000000e+00, f(x) =  2.00000000e+00, dx =  1.00000000e+00\n",
      "k = 52, x =  1.00000000e+00, f(x) =  1.00000000e+00, dx = -1.00000000e+00\n",
      "k = 53, x =  0.00000000e+00, f(x) =  2.00000000e+00, dx =  1.00000000e+00\n",
      "k = 54, x =  1.00000000e+00, f(x) =  1.00000000e+00, dx = -1.00000000e+00\n",
      "k = 55, x =  0.00000000e+00, f(x) =  2.00000000e+00, dx =  1.00000000e+00\n",
      "k = 56, x =  1.00000000e+00, f(x) =  1.00000000e+00, dx = -1.00000000e+00\n",
      "k = 57, x =  0.00000000e+00, f(x) =  2.00000000e+00, dx =  1.00000000e+00\n",
      "k = 58, x =  1.00000000e+00, f(x) =  1.00000000e+00, dx = -1.00000000e+00\n",
      "k = 59, x =  0.00000000e+00, f(x) =  2.00000000e+00, dx =  1.00000000e+00\n",
      "k = 60, x =  1.00000000e+00, f(x) =  1.00000000e+00, dx = -1.00000000e+00\n",
      "k = 61, x =  0.00000000e+00, f(x) =  2.00000000e+00, dx =  1.00000000e+00\n",
      "k = 62, x =  1.00000000e+00, f(x) =  1.00000000e+00, dx = -1.00000000e+00\n",
      "k = 63, x =  0.00000000e+00, f(x) =  2.00000000e+00, dx =  1.00000000e+00\n",
      "k = 64, x =  1.00000000e+00, f(x) =  1.00000000e+00, dx = -1.00000000e+00\n",
      "k = 65, x =  0.00000000e+00, f(x) =  2.00000000e+00, dx =  1.00000000e+00\n",
      "k = 66, x =  1.00000000e+00, f(x) =  1.00000000e+00, dx = -1.00000000e+00\n",
      "k = 67, x =  0.00000000e+00, f(x) =  2.00000000e+00, dx =  1.00000000e+00\n",
      "k = 68, x =  1.00000000e+00, f(x) =  1.00000000e+00, dx = -1.00000000e+00\n",
      "k = 69, x =  0.00000000e+00, f(x) =  2.00000000e+00, dx =  1.00000000e+00\n",
      "k = 70, x =  1.00000000e+00, f(x) =  1.00000000e+00, dx = -1.00000000e+00\n",
      "k = 71, x =  0.00000000e+00, f(x) =  2.00000000e+00, dx =  1.00000000e+00\n",
      "k = 72, x =  1.00000000e+00, f(x) =  1.00000000e+00, dx = -1.00000000e+00\n",
      "k = 73, x =  0.00000000e+00, f(x) =  2.00000000e+00, dx =  1.00000000e+00\n",
      "k = 74, x =  1.00000000e+00, f(x) =  1.00000000e+00, dx = -1.00000000e+00\n",
      "k = 75, x =  0.00000000e+00, f(x) =  2.00000000e+00, dx =  1.00000000e+00\n",
      "k = 76, x =  1.00000000e+00, f(x) =  1.00000000e+00, dx = -1.00000000e+00\n",
      "k = 77, x =  0.00000000e+00, f(x) =  2.00000000e+00, dx =  1.00000000e+00\n",
      "k = 78, x =  1.00000000e+00, f(x) =  1.00000000e+00, dx = -1.00000000e+00\n",
      "k = 79, x =  0.00000000e+00, f(x) =  2.00000000e+00, dx =  1.00000000e+00\n",
      "k = 80, x =  1.00000000e+00, f(x) =  1.00000000e+00, dx = -1.00000000e+00\n",
      "k = 81, x =  0.00000000e+00, f(x) =  2.00000000e+00, dx =  1.00000000e+00\n",
      "k = 82, x =  1.00000000e+00, f(x) =  1.00000000e+00, dx = -1.00000000e+00\n",
      "k = 83, x =  0.00000000e+00, f(x) =  2.00000000e+00, dx =  1.00000000e+00\n",
      "k = 84, x =  1.00000000e+00, f(x) =  1.00000000e+00, dx = -1.00000000e+00\n",
      "k = 85, x =  0.00000000e+00, f(x) =  2.00000000e+00, dx =  1.00000000e+00\n",
      "k = 86, x =  1.00000000e+00, f(x) =  1.00000000e+00, dx = -1.00000000e+00\n",
      "k = 87, x =  0.00000000e+00, f(x) =  2.00000000e+00, dx =  1.00000000e+00\n",
      "k = 88, x =  1.00000000e+00, f(x) =  1.00000000e+00, dx = -1.00000000e+00\n",
      "k = 89, x =  0.00000000e+00, f(x) =  2.00000000e+00, dx =  1.00000000e+00\n",
      "k = 90, x =  1.00000000e+00, f(x) =  1.00000000e+00, dx = -1.00000000e+00\n",
      "k = 91, x =  0.00000000e+00, f(x) =  2.00000000e+00, dx =  1.00000000e+00\n",
      "k = 92, x =  1.00000000e+00, f(x) =  1.00000000e+00, dx = -1.00000000e+00\n",
      "k = 93, x =  0.00000000e+00, f(x) =  2.00000000e+00, dx =  1.00000000e+00\n",
      "k = 94, x =  1.00000000e+00, f(x) =  1.00000000e+00, dx = -1.00000000e+00\n",
      "k = 95, x =  0.00000000e+00, f(x) =  2.00000000e+00, dx =  1.00000000e+00\n",
      "k = 96, x =  1.00000000e+00, f(x) =  1.00000000e+00, dx = -1.00000000e+00\n",
      "k = 97, x =  0.00000000e+00, f(x) =  2.00000000e+00, dx =  1.00000000e+00\n",
      "k = 98, x =  1.00000000e+00, f(x) =  1.00000000e+00, dx = -1.00000000e+00\n",
      "k = 99, x =  0.00000000e+00, f(x) =  2.00000000e+00, dx =  1.00000000e+00\n",
      "k = 100, x =  1.00000000e+00, f(x) =  1.00000000e+00, dx = -1.00000000e+00\n",
      "terminated after 100 iterations\n",
      "x = 1.0, f(x) = 1.0\n"
     ]
    }
   ],
   "source": [
    "x0e = 10   #Divergenz (periodischer Attraktor)\n",
    "xe = newton(fe, dfe, x0e, tol, print_info=True)"
   ]
  },
  {
   "cell_type": "markdown",
   "metadata": {},
   "source": [
    "## Aufgabe 4"
   ]
  },
  {
   "cell_type": "code",
   "execution_count": 74,
   "metadata": {},
   "outputs": [],
   "source": [
    "def newton_simplified(f, df, x0, tol, maxits=100, termination_criterion='x', print_info=False):\n",
    "\n",
    "    if df(x0) == 0:\n",
    "        raise Exception('df(x0) = 0 is not allowed')\n",
    "        \n",
    "    df0 = df(x0)\n",
    "\n",
    "    def check_termination_criterion(x, dx, tol):\n",
    "        if termination_criterion == 'x':\n",
    "            return abs(dx) < tol\n",
    "        elif termination_criterion == 'y':\n",
    "            return abs(f(x)) < tol\n",
    "        else:\n",
    "            raise Exception('Unknown termination criterion: {}'.format(termination_criterion))\n",
    "\n",
    "    x = x0\n",
    "    k = 0\n",
    "    terminate=False\n",
    "    while k < maxits and not terminate:\n",
    "        dx = f(x)/df0   #Hier die Änderung ggü. dem ursprünglichen Newton-Verfahren\n",
    "        x -= dx\n",
    "        k += 1\n",
    "        if print_info:\n",
    "            print('k = {:2d}, x = {:15.8e}, f(x) = {:15.8e}, dx = {:15.8e}'.format(k, x, f(x), dx))\n",
    "        terminate = check_termination_criterion(x, dx, tol)\n",
    "\n",
    "    if print_info:\n",
    "        print('terminated after {} iterations'.format(k))\n",
    "        print('x = {}, f(x) = {}'.format(x, f(x)))\n",
    "    return x"
   ]
  },
  {
   "cell_type": "code",
   "execution_count": 75,
   "metadata": {},
   "outputs": [
    {
     "name": "stdout",
     "output_type": "stream",
     "text": [
      "k =  1, x =  4.78527789e-01, f(x) =  1.59222211e-01, dx =  5.21472211e-01\n",
      "k =  2, x =  5.84157019e-01, f(x) =  6.07930613e-03, dx = -1.05629230e-01\n",
      "k =  3, x =  5.88525112e-01, f(x) =  1.05845200e-05, dx = -4.36809280e-03\n",
      "k =  4, x =  5.88532744e-01, f(x) =  3.23333582e-11, dx = -7.63175116e-06\n",
      "k =  5, x =  5.88532744e-01, f(x) =  0.00000000e+00, dx = -2.33134476e-11\n",
      "terminated after 5 iterations\n",
      "x = 0.5885327439818611, f(x) = 0.0\n"
     ]
    }
   ],
   "source": [
    "def f(x):\n",
    "    return np.exp(-x) - np.sin(x)\n",
    "def df(x):\n",
    "    return -np.exp(-x) - np.cos(x)\n",
    "x0 = 1.\n",
    "tol = 1e-6\n",
    "x_newton = newton(f, df, x0, tol, print_info=True)"
   ]
  },
  {
   "cell_type": "code",
   "execution_count": 76,
   "metadata": {},
   "outputs": [
    {
     "name": "stdout",
     "output_type": "stream",
     "text": [
      "k =  1, x =  4.78527789e-01, f(x) =  1.59222211e-01, dx =  5.21472211e-01\n",
      "k =  2, x =  6.53847554e-01, f(x) = -8.82038576e-02, dx = -1.75319765e-01\n",
      "k =  3, x =  5.56726182e-01, f(x) =  4.46725659e-02, dx =  9.71213723e-02\n",
      "k =  4, x =  6.05915197e-01, f(x) = -2.39397000e-02, dx = -4.91890154e-02\n",
      "k =  5, x =  5.79555165e-01, f(x) =  1.24956896e-02, dx =  2.63600321e-02\n",
      "k =  6, x =  5.93314184e-01, f(x) = -6.61866918e-03, dx = -1.37590186e-02\n",
      "k =  7, x =  5.86026359e-01, f(x) =  3.47958503e-03, dx =  7.28782449e-03\n",
      "k =  8, x =  5.89857734e-01, f(x) = -1.83665096e-03, dx = -3.83137521e-03\n",
      "k =  9, x =  5.87835396e-01, f(x) =  9.67420211e-04, dx =  2.02233855e-03\n",
      "k = 10, x =  5.88900623e-01, f(x) = -5.10135838e-04, dx = -1.06522754e-03\n",
      "k = 11, x =  5.88338912e-01, f(x) =  2.68845618e-04, dx =  5.61711177e-04\n",
      "k = 12, x =  5.88634938e-01, f(x) = -1.41727428e-04, dx = -2.96026229e-04\n",
      "k = 13, x =  5.88478882e-01, f(x) =  7.47023663e-05, dx =  1.56056239e-04\n",
      "k = 14, x =  5.88561137e-01, f(x) = -3.93778483e-05, dx = -8.22548642e-05\n",
      "k = 15, x =  5.88517778e-01, f(x) =  2.07563036e-05, dx =  4.33589955e-05\n",
      "k = 16, x =  5.88540633e-01, f(x) = -1.09410342e-05, dx = -2.28547905e-05\n",
      "k = 17, x =  5.88528586e-01, f(x) =  5.76715059e-06, dx =  1.20471857e-05\n",
      "k = 18, x =  5.88534936e-01, f(x) = -3.03995446e-06, dx = -6.35021636e-06\n",
      "k = 19, x =  5.88531589e-01, f(x) =  1.60240153e-06, dx =  3.34729746e-06\n",
      "k = 20, x =  5.88533353e-01, f(x) = -8.44649292e-07, dx = -1.76440623e-06\n",
      "k = 21, x =  5.88532423e-01, f(x) =  4.45226569e-07, dx =  9.30044338e-07\n",
      "terminated after 21 iterations\n",
      "x = 0.5885324229584499, f(x) = 4.4522656916790027e-07\n"
     ]
    }
   ],
   "source": [
    "x_newton = newton_simplified(f, df, x0, tol, print_info=True)"
   ]
  },
  {
   "cell_type": "markdown",
   "metadata": {},
   "source": [
    "Konvergenz, aber langsamer (nur linear)."
   ]
  },
  {
   "cell_type": "code",
   "execution_count": null,
   "metadata": {},
   "outputs": [],
   "source": []
  }
 ],
 "metadata": {
  "kernelspec": {
   "display_name": "Python 3 (ipykernel)",
   "language": "python",
   "name": "python3"
  },
  "language_info": {
   "codemirror_mode": {
    "name": "ipython",
    "version": 3
   },
   "file_extension": ".py",
   "mimetype": "text/x-python",
   "name": "python",
   "nbconvert_exporter": "python",
   "pygments_lexer": "ipython3",
   "version": "3.9.7"
  },
  "latex_envs": {
   "LaTeX_envs_menu_present": true,
   "autoclose": false,
   "autocomplete": true,
   "bibliofile": "biblio.bib",
   "cite_by": "apalike",
   "current_citInitial": 1,
   "eqLabelWithNumbers": true,
   "eqNumInitial": 1,
   "hotkeys": {
    "equation": "Ctrl-E",
    "itemize": "Ctrl-I"
   },
   "labels_anchors": false,
   "latex_user_defs": false,
   "report_style_numbering": true,
   "user_envs_cfg": false
  }
 },
 "nbformat": 4,
 "nbformat_minor": 4
}
