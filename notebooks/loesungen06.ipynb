{
 "cells": [
  {
   "cell_type": "markdown",
   "metadata": {},
   "source": [
    "# Lösungen 6"
   ]
  },
  {
   "cell_type": "code",
   "execution_count": 41,
   "metadata": {},
   "outputs": [],
   "source": [
    "from math import *\n",
    "import numpy as np\n",
    "from matplotlib import pyplot as plt"
   ]
  },
  {
   "cell_type": "markdown",
   "metadata": {},
   "source": [
    "## Aufgabe 1\n",
    "### c)\n",
    "Aus notebook05.ipynb übernommen:"
   ]
  },
  {
   "cell_type": "code",
   "execution_count": 5,
   "metadata": {},
   "outputs": [],
   "source": [
    "def bisection(f, a, b, tol, termination_criterion='x', print_info=False):\n",
    "\n",
    "    #check if a or b is an exact zero\n",
    "    if f(a) == 0:\n",
    "        return a\n",
    "    elif f(b) == 0:\n",
    "        return b\n",
    "\n",
    "    if f(a)*f(b) > 0:\n",
    "        raise Exception('f(a) and f(b) must have opposite signs')\n",
    "\n",
    "    def check_termination_criterion(x, a, b, tol):\n",
    "        if termination_criterion == 'x':\n",
    "            return abs(b - a) < tol\n",
    "        elif termination_criterion == 'y':\n",
    "            return abs(f(x)) < tol\n",
    "        else:\n",
    "            raise Exception('Unknown termination criterion: {}'.format(termination_criterion))\n",
    "\n",
    "    x = .5*(a + b)\n",
    "    k = 0\n",
    "    terminate = check_termination_criterion(x, a, b, tol)\n",
    "    while not terminate:\n",
    "        if f(x) == 0: #found exact zero\n",
    "            break\n",
    "        elif f(a)*f(x) > 0:\n",
    "            a = x\n",
    "        else:\n",
    "            b = x\n",
    "        x = .5*(a + b)\n",
    "        k += 1\n",
    "        if print_info:\n",
    "            print('k = {:2d}, a = {:15.8e}, b = {:15.8e}, x = {:15.8e}, f(x) = {:15.8e}'.format(k, a, b, x, f(x)))\n",
    "        terminate = check_termination_criterion(x, a, b, tol)\n",
    "\n",
    "    if print_info:\n",
    "        print('terminated after {} iterations'.format(k))\n",
    "        print('x = {}, f(x) = {}'.format(x, f(x)))\n",
    "    return x"
   ]
  },
  {
   "cell_type": "code",
   "execution_count": 16,
   "metadata": {},
   "outputs": [
    {
     "name": "stdout",
     "output_type": "stream",
     "text": [
      "k =  1, a =  1.00000000e+00, b =  1.50000000e+00, x =  1.25000000e+00, f(x) =  6.09302162e-02\n",
      "k =  2, a =  1.00000000e+00, b =  1.25000000e+00, x =  1.12500000e+00, f(x) = -1.21228198e-01\n",
      "k =  3, a =  1.12500000e+00, b =  1.25000000e+00, x =  1.18750000e+00, f(x) = -2.97406608e-02\n",
      "k =  4, a =  1.18750000e+00, b =  1.25000000e+00, x =  1.21875000e+00, f(x) =  1.56939742e-02\n",
      "k =  5, a =  1.18750000e+00, b =  1.21875000e+00, x =  1.20312500e+00, f(x) = -6.99819298e-03\n",
      "k =  6, a =  1.20312500e+00, b =  1.21875000e+00, x =  1.21093750e+00, f(x) =  4.35413372e-03\n",
      "k =  7, a =  1.20312500e+00, b =  1.21093750e+00, x =  1.20703125e+00, f(x) = -1.32046333e-03\n",
      "k =  8, a =  1.20703125e+00, b =  1.21093750e+00, x =  1.20898438e+00, f(x) =  1.51722608e-03\n",
      "k =  9, a =  1.20703125e+00, b =  1.20898438e+00, x =  1.20800781e+00, f(x) =  9.84791785e-05\n",
      "k = 10, a =  1.20703125e+00, b =  1.20800781e+00, x =  1.20751953e+00, f(x) = -6.10967615e-04\n",
      "k = 11, a =  1.20751953e+00, b =  1.20800781e+00, x =  1.20776367e+00, f(x) = -2.56238104e-04\n",
      "k = 12, a =  1.20776367e+00, b =  1.20800781e+00, x =  1.20788574e+00, f(x) = -7.88779343e-05\n",
      "k = 13, a =  1.20788574e+00, b =  1.20800781e+00, x =  1.20794678e+00, f(x) =  9.80100420e-06\n",
      "k = 14, a =  1.20788574e+00, b =  1.20794678e+00, x =  1.20791626e+00, f(x) = -3.45383695e-05\n",
      "terminated after 14 iterations\n",
      "x = 1.207916259765625, f(x) = -3.453836951439193e-05\n"
     ]
    }
   ],
   "source": [
    "def f(x):\n",
    "    return log(x + 1.) + x - 2.\n",
    "    \n",
    "tol = 1e-4\n",
    "a, b = 1., 2.\n",
    "x_bisection = bisection(f, a, b, tol, print_info=True)"
   ]
  },
  {
   "cell_type": "markdown",
   "metadata": {},
   "source": [
    "Das Verfahren benötigt eine Iteration mehr als vorhergesagt, weil sich das Abbruchkriterium auf die Intervallänge $b_k-a_k$ bezieht, und wegen $x_k = \\tfrac{1}{2} (a_k + b_k)$ gilt $|x_k - x_*| < \\tfrac{1}{2} (b_k - a_k)$."
   ]
  },
  {
   "cell_type": "markdown",
   "metadata": {},
   "source": [
    "### d)\n",
    "Aus notebook05.ipynb übernommen:"
   ]
  },
  {
   "cell_type": "code",
   "execution_count": 17,
   "metadata": {},
   "outputs": [],
   "source": [
    "def newton(f, df, x0, tol, maxits=100, termination_criterion='x', print_info=False):\n",
    "\n",
    "    if df(x0) == 0:\n",
    "        raise Exception('df(x0) = 0 is not allowed')\n",
    "\n",
    "    def check_termination_criterion(x, dx, tol):\n",
    "        if termination_criterion == 'x':\n",
    "            return abs(dx) < tol\n",
    "        elif termination_criterion == 'y':\n",
    "            return abs(f(x)) < tol\n",
    "        else:\n",
    "            raise Exception('Unknown termination criterion: {}'.format(termination_criterion))\n",
    "\n",
    "    x = x0\n",
    "    k = 0\n",
    "    terminate=False\n",
    "    while k < maxits and not terminate:\n",
    "        dx = f(x)/df(x)\n",
    "        x -= dx\n",
    "        k += 1\n",
    "        if print_info:\n",
    "            print('k = {:2d}, x = {:15.8e}, f(x) = {:15.8e}, dx = {:15.8e}'.format(k, x, f(x), dx))\n",
    "        terminate = check_termination_criterion(x, dx, tol)\n",
    "\n",
    "    if print_info:\n",
    "        print('terminated after {} iterations'.format(k))\n",
    "        print('x = {}, f(x) = {}'.format(x, f(x)))\n",
    "    return x"
   ]
  },
  {
   "cell_type": "code",
   "execution_count": 18,
   "metadata": {},
   "outputs": [
    {
     "name": "stdout",
     "output_type": "stream",
     "text": [
      "k =  1, x =  1.20456855e+00, f(x) = -4.89963457e-03, dx = -2.04568546e-01\n",
      "k =  2, x =  1.20793923e+00, f(x) = -1.16765853e-06, dx = -3.37068161e-03\n",
      "k =  3, x =  1.20794003e+00, f(x) = -6.61692923e-14, dx = -8.03668305e-07\n",
      "terminated after 3 iterations\n",
      "x = 1.2079400315692774, f(x) = -6.616929226765933e-14\n"
     ]
    }
   ],
   "source": [
    "def df(x):\n",
    "    return 1. + 1./(x + 1.)\n",
    "\n",
    "x0 = 1.\n",
    "x_newton = newton(f, df, x0, tol, print_info=True)"
   ]
  },
  {
   "cell_type": "markdown",
   "metadata": {},
   "source": [
    "### e)\n",
    "Aus notebook06.ipynb übernommen:"
   ]
  },
  {
   "cell_type": "code",
   "execution_count": 19,
   "metadata": {},
   "outputs": [],
   "source": [
    "def regula_falsi(f, a, b, tol, termination_criterion='x', print_info=False):\n",
    "\n",
    "    #check if a or b is an exact zero\n",
    "    if f(a) == 0:\n",
    "        return a\n",
    "    elif f(b) == 0:\n",
    "        return b\n",
    "\n",
    "    if f(a)*f(b) > 0:\n",
    "        raise Exception('f(a) and f(b) must have opposite signs')\n",
    "\n",
    "    def check_termination_criterion(x, a, b, tol):\n",
    "        if termination_criterion == 'x':\n",
    "            dx = min(abs(x - a), abs(b - x))\n",
    "            return dx < tol\n",
    "        elif termination_criterion == 'y':\n",
    "            return abs(f(x)) < tol\n",
    "        else:\n",
    "            raise Exception('Unknown termination criterion: {}'.format(termination_criterion))\n",
    "\n",
    "    k = 0\n",
    "    x = a - f(a)*(b - a)/(f(b) - f(a))\n",
    "    terminate = check_termination_criterion(x, a, b, tol)\n",
    "    while not terminate:\n",
    "        if f(x) == 0: #found exact zero\n",
    "            break\n",
    "        elif f(a)*f(x) > 0:\n",
    "            a = x\n",
    "        else:\n",
    "            b = x\n",
    "        x = a - f(a)*(b - a)/(f(b) - f(a))\n",
    "        \n",
    "        k += 1\n",
    "        if print_info:\n",
    "            print('k = {:2d}, a = {:15.8e}, b = {:15.8e}, x = {:15.8e}, f(x) = {:15.8e}'.format(k, a, b, x, f(x)))\n",
    "        terminate = check_termination_criterion(x, a, b, tol)\n",
    "\n",
    "    if print_info:\n",
    "        print('terminated after {} iterations'.format(k))\n",
    "        print('x = {}, f(x) = {}'.format(x, f(x)))\n",
    "    return x"
   ]
  },
  {
   "cell_type": "code",
   "execution_count": 20,
   "metadata": {},
   "outputs": [
    {
     "name": "stdout",
     "output_type": "stream",
     "text": [
      "k =  1, a =  1.00000000e+00, b =  1.21832831e+00, x =  1.20809993e+00, f(x) =  2.32318501e-04\n",
      "k =  2, a =  1.00000000e+00, b =  1.20809993e+00, x =  1.20794250e+00, f(x) =  3.58439465e-06\n",
      "k =  3, a =  1.00000000e+00, b =  1.20794250e+00, x =  1.20794007e+00, f(x) =  5.53042914e-08\n",
      "terminated after 3 iterations\n",
      "x = 1.2079400696337999, f(x) = 5.53042913686852e-08\n"
     ]
    }
   ],
   "source": [
    "x_regula_falsi = regula_falsi(f, a, b, tol, print_info=True)"
   ]
  },
  {
   "cell_type": "markdown",
   "metadata": {},
   "source": [
    "## Aufgabe 2\n",
    "### d)\n",
    "Aus notebook06.ipynb übernommen:"
   ]
  },
  {
   "cell_type": "code",
   "execution_count": 25,
   "metadata": {},
   "outputs": [],
   "source": [
    "def fpiterate(F, x0, tol, maxits=100, print_info=False):\n",
    "    x = x0\n",
    "    k = 0\n",
    "    terminate = False\n",
    "    while k < maxits and (k == 0 or abs(x - xp) > tol):\n",
    "        xp = x\n",
    "        x = F(x)\n",
    "        k += 1\n",
    "        if print_info:\n",
    "            print('k = {:2d}, x = {:15.8e}'.format(k, x))\n",
    "    if print_info:\n",
    "        print('terminated after {} iterations'.format(k))\n",
    "        print('x = {}'.format(x, f(x)))\n",
    "    return x"
   ]
  },
  {
   "cell_type": "code",
   "execution_count": 31,
   "metadata": {},
   "outputs": [
    {
     "name": "stdout",
     "output_type": "stream",
     "text": [
      "k =  1, x =  1.30685282e+00\n",
      "k =  2, x =  1.16411582e+00\n",
      "k =  3, x =  1.22798812e+00\n",
      "k =  4, x =  1.19890101e+00\n",
      "k =  5, x =  1.21204231e+00\n",
      "k =  6, x =  1.20608379e+00\n",
      "k =  7, x =  1.20878110e+00\n",
      "k =  8, x =  1.20755918e+00\n",
      "k =  9, x =  1.20811254e+00\n",
      "k = 10, x =  1.20786190e+00\n",
      "k = 11, x =  1.20797542e+00\n",
      "k = 12, x =  1.20792401e+00\n",
      "terminated after 12 iterations\n",
      "x = 1.2079240051988291\n"
     ]
    }
   ],
   "source": [
    "def F1(x):\n",
    "    return 2. - log(x + 1.)\n",
    "\n",
    "x0 = 1.\n",
    "tol = 1e-4\n",
    "x_fp = fpiterate(F1, x0, tol, print_info=True)"
   ]
  },
  {
   "cell_type": "code",
   "execution_count": 30,
   "metadata": {},
   "outputs": [
    {
     "name": "stdout",
     "output_type": "stream",
     "text": [
      "k =  1, x =  1.71828183e+00\n",
      "k =  2, x =  3.25405130e-01\n",
      "k =  3, x =  4.33663268e+00\n",
      "k =  4, x = -9.03347449e-01\n",
      "k =  5, x =  1.72350843e+01\n",
      "k =  6, x = -9.99999758e-01\n",
      "k =  7, x =  1.90855321e+01\n",
      "k =  8, x = -9.99999962e-01\n",
      "k =  9, x =  1.90855362e+01\n",
      "k = 10, x = -9.99999962e-01\n",
      "k = 11, x =  1.90855362e+01\n",
      "k = 12, x = -9.99999962e-01\n",
      "k = 13, x =  1.90855362e+01\n",
      "k = 14, x = -9.99999962e-01\n",
      "k = 15, x =  1.90855362e+01\n",
      "k = 16, x = -9.99999962e-01\n",
      "k = 17, x =  1.90855362e+01\n",
      "k = 18, x = -9.99999962e-01\n",
      "k = 19, x =  1.90855362e+01\n",
      "k = 20, x = -9.99999962e-01\n",
      "k = 21, x =  1.90855362e+01\n",
      "k = 22, x = -9.99999962e-01\n",
      "k = 23, x =  1.90855362e+01\n",
      "k = 24, x = -9.99999962e-01\n",
      "k = 25, x =  1.90855362e+01\n",
      "k = 26, x = -9.99999962e-01\n",
      "k = 27, x =  1.90855362e+01\n",
      "k = 28, x = -9.99999962e-01\n",
      "k = 29, x =  1.90855362e+01\n",
      "k = 30, x = -9.99999962e-01\n",
      "k = 31, x =  1.90855362e+01\n",
      "k = 32, x = -9.99999962e-01\n",
      "k = 33, x =  1.90855362e+01\n",
      "k = 34, x = -9.99999962e-01\n",
      "k = 35, x =  1.90855362e+01\n",
      "k = 36, x = -9.99999962e-01\n",
      "k = 37, x =  1.90855362e+01\n",
      "k = 38, x = -9.99999962e-01\n",
      "k = 39, x =  1.90855362e+01\n",
      "k = 40, x = -9.99999962e-01\n",
      "k = 41, x =  1.90855362e+01\n",
      "k = 42, x = -9.99999962e-01\n",
      "k = 43, x =  1.90855362e+01\n",
      "k = 44, x = -9.99999962e-01\n",
      "k = 45, x =  1.90855362e+01\n",
      "k = 46, x = -9.99999962e-01\n",
      "k = 47, x =  1.90855362e+01\n",
      "k = 48, x = -9.99999962e-01\n",
      "k = 49, x =  1.90855362e+01\n",
      "k = 50, x = -9.99999962e-01\n",
      "k = 51, x =  1.90855362e+01\n",
      "k = 52, x = -9.99999962e-01\n",
      "k = 53, x =  1.90855362e+01\n",
      "k = 54, x = -9.99999962e-01\n",
      "k = 55, x =  1.90855362e+01\n",
      "k = 56, x = -9.99999962e-01\n",
      "k = 57, x =  1.90855362e+01\n",
      "k = 58, x = -9.99999962e-01\n",
      "k = 59, x =  1.90855362e+01\n",
      "k = 60, x = -9.99999962e-01\n",
      "k = 61, x =  1.90855362e+01\n",
      "k = 62, x = -9.99999962e-01\n",
      "k = 63, x =  1.90855362e+01\n",
      "k = 64, x = -9.99999962e-01\n",
      "k = 65, x =  1.90855362e+01\n",
      "k = 66, x = -9.99999962e-01\n",
      "k = 67, x =  1.90855362e+01\n",
      "k = 68, x = -9.99999962e-01\n",
      "k = 69, x =  1.90855362e+01\n",
      "k = 70, x = -9.99999962e-01\n",
      "k = 71, x =  1.90855362e+01\n",
      "k = 72, x = -9.99999962e-01\n",
      "k = 73, x =  1.90855362e+01\n",
      "k = 74, x = -9.99999962e-01\n",
      "k = 75, x =  1.90855362e+01\n",
      "k = 76, x = -9.99999962e-01\n",
      "k = 77, x =  1.90855362e+01\n",
      "k = 78, x = -9.99999962e-01\n",
      "k = 79, x =  1.90855362e+01\n",
      "k = 80, x = -9.99999962e-01\n",
      "k = 81, x =  1.90855362e+01\n",
      "k = 82, x = -9.99999962e-01\n",
      "k = 83, x =  1.90855362e+01\n",
      "k = 84, x = -9.99999962e-01\n",
      "k = 85, x =  1.90855362e+01\n",
      "k = 86, x = -9.99999962e-01\n",
      "k = 87, x =  1.90855362e+01\n",
      "k = 88, x = -9.99999962e-01\n",
      "k = 89, x =  1.90855362e+01\n",
      "k = 90, x = -9.99999962e-01\n",
      "k = 91, x =  1.90855362e+01\n",
      "k = 92, x = -9.99999962e-01\n",
      "k = 93, x =  1.90855362e+01\n",
      "k = 94, x = -9.99999962e-01\n",
      "k = 95, x =  1.90855362e+01\n",
      "k = 96, x = -9.99999962e-01\n",
      "k = 97, x =  1.90855362e+01\n",
      "k = 98, x = -9.99999962e-01\n",
      "k = 99, x =  1.90855362e+01\n",
      "k = 100, x = -9.99999962e-01\n",
      "terminated after 100 iterations\n",
      "x = -0.999999961994546\n"
     ]
    }
   ],
   "source": [
    "def F2(x):\n",
    "    return exp(2. - x) - 1.\n",
    "\n",
    "x_fp = fpiterate(F2, x0, tol, print_info=True)"
   ]
  },
  {
   "cell_type": "markdown",
   "metadata": {},
   "source": [
    "Divergenz, wie erwartet."
   ]
  },
  {
   "cell_type": "markdown",
   "metadata": {},
   "source": [
    "## Aufgabe 3\n",
    "### c)\n",
    "(mehr in den handschriftlichen Lösungen)"
   ]
  },
  {
   "cell_type": "code",
   "execution_count": 50,
   "metadata": {},
   "outputs": [
    {
     "data": {
      "image/png": "[encoded data removed]",
      "text/plain": [
       "<Figure size 432x288 with 1 Axes>"
      ]
     },
     "metadata": {
      "needs_background": "light"
     },
     "output_type": "display_data"
    }
   ],
   "source": [
    "x = np.linspace(0, 1, 100)\n",
    "plt.plot(x, F1(x))\n",
    "plt.plot(x, x)  #Winkelhalbierende\n",
    "plt.grid()"
   ]
  },
  {
   "cell_type": "code",
   "execution_count": 51,
   "metadata": {},
   "outputs": [
    {
     "data": {
      "image/png": "[encoded data removed]",
      "text/plain": [
       "<Figure size 432x288 with 1 Axes>"
      ]
     },
     "metadata": {
      "needs_background": "light"
     },
     "output_type": "display_data"
    }
   ],
   "source": [
    "x = np.linspace(.5, 1, 100)\n",
    "plt.plot(x, F2(x))\n",
    "plt.plot(x, x)  #Winkelhalbierende\n",
    "plt.grid()"
   ]
  },
  {
   "cell_type": "markdown",
   "metadata": {},
   "source": [
    "### d)"
   ]
  },
  {
   "cell_type": "code",
   "execution_count": 32,
   "metadata": {},
   "outputs": [
    {
     "name": "stdout",
     "output_type": "stream",
     "text": [
      "k =  1, x =  7.50000000e-01\n",
      "k =  2, x =  6.40625000e-01\n",
      "k =  3, x =  6.02600098e-01\n",
      "k =  4, x =  5.90781719e-01\n",
      "k =  5, x =  5.87255760e-01\n",
      "k =  6, x =  5.86217332e-01\n",
      "k =  7, x =  5.85912690e-01\n",
      "k =  8, x =  5.85823420e-01\n",
      "terminated after 8 iterations\n",
      "x = 0.5858234200930438\n"
     ]
    }
   ],
   "source": [
    "def F1(x):\n",
    "    return .25*(x**2 + 2.)\n",
    "\n",
    "x0 = 1.\n",
    "tol = 1e-4\n",
    "x_fp = fpiterate(F1, x0, tol, print_info=True)"
   ]
  },
  {
   "cell_type": "markdown",
   "metadata": {},
   "source": [
    "Konvergenz gegen die gesuchte Nullstelle $x_* = 2 - \\sqrt{2}$"
   ]
  },
  {
   "cell_type": "code",
   "execution_count": 46,
   "metadata": {},
   "outputs": [
    {
     "name": "stdout",
     "output_type": "stream",
     "text": [
      "k =  1, x =  6.00000000e-01\n",
      "k =  2, x =  6.32455532e-01\n",
      "k =  3, x =  7.27888816e-01\n",
      "k =  4, x =  9.54754033e-01\n",
      "k =  5, x =  1.34870906e+00\n",
      "k =  6, x =  1.84250814e+00\n",
      "k =  7, x =  2.31733307e+00\n",
      "k =  8, x =  2.69616993e+00\n",
      "k =  9, x =  2.96389604e+00\n",
      "k = 10, x =  3.13936047e+00\n",
      "k = 11, x =  3.24922173e+00\n",
      "k = 12, x =  3.31615544e+00\n",
      "k = 13, x =  3.35628094e+00\n",
      "k = 14, x =  3.38010707e+00\n",
      "k = 15, x =  3.39417564e+00\n",
      "k = 16, x =  3.40245537e+00\n",
      "k = 17, x =  3.40731881e+00\n",
      "k = 18, x =  3.41017232e+00\n",
      "k = 19, x =  3.41184544e+00\n",
      "k = 20, x =  3.41282606e+00\n",
      "k = 21, x =  3.41340069e+00\n",
      "k = 22, x =  3.41373736e+00\n",
      "k = 23, x =  3.41393460e+00\n",
      "k = 24, x =  3.41405014e+00\n",
      "k = 25, x =  3.41411783e+00\n",
      "terminated after 25 iterations\n",
      "x = 3.414117832986327\n"
     ]
    }
   ],
   "source": [
    "def F2(x):\n",
    "    return np.sqrt(4.*x - 2.)\n",
    "\n",
    "x0 = .59\n",
    "tol = 1e-4\n",
    "x_fp = fpiterate(F2, x0, tol, print_info=True)"
   ]
  },
  {
   "cell_type": "markdown",
   "metadata": {},
   "source": [
    "Konvergenz gegen die andere Nullstelle $2 + \\sqrt{2}$, egal wie nah man den Startwert $x_0$ an $x_* = 2 - \\sqrt{2}$ wählt (abstoßender Fixpunkt)!"
   ]
  },
  {
   "cell_type": "code",
   "execution_count": null,
   "metadata": {},
   "outputs": [],
   "source": []
  }
 ],
 "metadata": {
  "kernelspec": {
   "display_name": "Python 3 (ipykernel)",
   "language": "python",
   "name": "python3"
  },
  "language_info": {
   "codemirror_mode": {
    "name": "ipython",
    "version": 3
   },
   "file_extension": ".py",
   "mimetype": "text/x-python",
   "name": "python",
   "nbconvert_exporter": "python",
   "pygments_lexer": "ipython3",
   "version": "3.9.7"
  },
  "latex_envs": {
   "LaTeX_envs_menu_present": true,
   "autoclose": false,
   "autocomplete": true,
   "bibliofile": "biblio.bib",
   "cite_by": "apalike",
   "current_citInitial": 1,
   "eqLabelWithNumbers": true,
   "eqNumInitial": 1,
   "hotkeys": {
    "equation": "Ctrl-E",
    "itemize": "Ctrl-I"
   },
   "labels_anchors": false,
   "latex_user_defs": false,
   "report_style_numbering": true,
   "user_envs_cfg": false
  }
 },
 "nbformat": 4,
 "nbformat_minor": 4
}
