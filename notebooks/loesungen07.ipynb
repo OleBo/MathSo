{
 "cells": [
  {
   "cell_type": "markdown",
   "metadata": {},
   "source": [
    "# Lösungen 7"
   ]
  },
  {
   "cell_type": "code",
   "execution_count": 1,
   "metadata": {},
   "outputs": [],
   "source": [
    "from math import *\n",
    "import numpy as np\n",
    "from matplotlib import pyplot as plt"
   ]
  },
  {
   "cell_type": "markdown",
   "metadata": {},
   "source": [
    "## Aufgabe 1\n",
    "### d)\n",
    "Aus notebook07.ipynb übernommen:"
   ]
  },
  {
   "cell_type": "code",
   "execution_count": 3,
   "metadata": {},
   "outputs": [],
   "source": [
    "def horner(x, xs, c):\n",
    "    \"\"\"Berechnet den Wert des Interpolationspolynoms P_n an der Stelle x \n",
    "    für die Stützstellen xs und die Koeffizienten der Newton-Darstellung c.\"\"\"\n",
    "    n = len(c) - 1\n",
    "    if len(xs) < n:\n",
    "        raise Exception(\"Zu wenige Stützstellen!\")\n",
    "    p = c[n]\n",
    "    for k in range(n-1, -1, -1):\n",
    "        p = c[k] + (x - xs[k])*p\n",
    "    return p "
   ]
  },
  {
   "cell_type": "code",
   "execution_count": 4,
   "metadata": {},
   "outputs": [],
   "source": [
    "def newton_coeffs(xs, ys):\n",
    "    \"\"\"Berechnet die Koeffizienten c des Interpolationspolynoms in \n",
    "    Newton-Darstellung für die Stützstellen xs und Werte ys.\"\"\"\n",
    "    n = len(xs) - 1\n",
    "    if not len(ys) == n+1:\n",
    "        raise Exception(\"\"\"Brauche genauso viele Stützstellen wie Werte!\"\"\")\n",
    "    c = 1.*ys\n",
    "    for k in range(1, n+1):\n",
    "        for i in range(n, k-1, -1):\n",
    "            c[i] = (c[i] - c[i-1])/(xs[i] - xs[i-k])\n",
    "    return c"
   ]
  },
  {
   "cell_type": "code",
   "execution_count": 5,
   "metadata": {},
   "outputs": [
    {
     "data": {
      "image/png": "[encoded data removed]",
      "text/plain": [
       "<Figure size 432x288 with 1 Axes>"
      ]
     },
     "metadata": {
      "needs_background": "light"
     },
     "output_type": "display_data"
    }
   ],
   "source": [
    "xs = np.array([2, -2, 4, 0])\n",
    "ys = np.array([4, -6, 9, -5])\n",
    "#Bestimme Koeffizienten des Interpolationspolynoms in Newton-Darstellung\n",
    "c = newton_coeffs(xs, ys)\n",
    "#Werte Interpolationspolynom auf x mithilfe von Horner-Schema aus\n",
    "x = np.linspace(-2, 4, 100)\n",
    "y = horner(x, xs, c)\n",
    "#Plotte Daten und Interpolationspolynom\n",
    "plt.plot(xs, ys, 'ro')\n",
    "plt.plot(x, y)\n",
    "plt.grid()\n",
    "plt.xlabel('x')\n",
    "plt.ylabel('y')\n",
    "plt.show()"
   ]
  }
 ],
 "metadata": {
  "kernelspec": {
   "display_name": "Python 3 (ipykernel)",
   "language": "python",
   "name": "python3"
  },
  "language_info": {
   "codemirror_mode": {
    "name": "ipython",
    "version": 3
   },
   "file_extension": ".py",
   "mimetype": "text/x-python",
   "name": "python",
   "nbconvert_exporter": "python",
   "pygments_lexer": "ipython3",
   "version": "3.9.7"
  },
  "latex_envs": {
   "LaTeX_envs_menu_present": true,
   "autoclose": false,
   "autocomplete": true,
   "bibliofile": "biblio.bib",
   "cite_by": "apalike",
   "current_citInitial": 1,
   "eqLabelWithNumbers": true,
   "eqNumInitial": 1,
   "hotkeys": {
    "equation": "Ctrl-E",
    "itemize": "Ctrl-I"
   },
   "labels_anchors": false,
   "latex_user_defs": false,
   "report_style_numbering": true,
   "user_envs_cfg": false
  }
 },
 "nbformat": 4,
 "nbformat_minor": 4
}
