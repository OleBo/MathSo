{
 "cells": [
  {
   "cell_type": "markdown",
   "metadata": {},
   "source": [
    "# Lösungen 8"
   ]
  },
  {
   "cell_type": "code",
   "execution_count": 68,
   "metadata": {},
   "outputs": [],
   "source": [
    "from math import *\n",
    "import numpy as np\n",
    "from matplotlib import pyplot as plt"
   ]
  },
  {
   "cell_type": "markdown",
   "metadata": {},
   "source": [
    "## Aufgabe 1\n",
    "### a) Polynominterpolation\n",
    "Aus notebook07.ipynb übernommen:"
   ]
  },
  {
   "cell_type": "code",
   "execution_count": 69,
   "metadata": {},
   "outputs": [],
   "source": [
    "def horner(x, xs, c):\n",
    "    \"\"\"Berechnet den Wert des Interpolationspolynoms P_n an der Stelle x \n",
    "    für die Stützstellen xs und die Koeffizienten der Newton-Darstellung c.\"\"\"\n",
    "    n = len(c) - 1\n",
    "    if len(xs) < n:\n",
    "        raise Exception(\"Zu wenige Stützstellen!\")\n",
    "    p = c[n]\n",
    "    for k in range(n-1, -1, -1):\n",
    "        p = c[k] + (x - xs[k])*p\n",
    "    return p "
   ]
  },
  {
   "cell_type": "code",
   "execution_count": 70,
   "metadata": {},
   "outputs": [],
   "source": [
    "def newton_coeffs(xs, ys):\n",
    "    \"\"\"Berechnet die Koeffizienten c des Interpolationspolynoms in \n",
    "    Newton-Darstellung für die Stützstellen xs und Werte ys.\"\"\"\n",
    "    n = len(xs) - 1\n",
    "    if not len(ys) == n+1:\n",
    "        raise Exception(\"\"\"Brauche genauso viele Stützstellen wie Werte!\"\"\")\n",
    "    c = 1.*ys\n",
    "    for k in range(1, n+1):\n",
    "        for i in range(n, k-1, -1):\n",
    "            c[i] = (c[i] - c[i-1])/(xs[i] - xs[i-k])\n",
    "    return c"
   ]
  },
  {
   "cell_type": "code",
   "execution_count": 71,
   "metadata": {},
   "outputs": [
    {
     "data": {
      "image/png": "[encoded data removed]",
      "text/plain": [
       "<Figure size 432x288 with 1 Axes>"
      ]
     },
     "metadata": {
      "needs_background": "light"
     },
     "output_type": "display_data"
    }
   ],
   "source": [
    "def f(x):\n",
    "    return 1./(1. + x**2)\n",
    "xs = np.linspace(-5., 5., 11)\n",
    "ys = f(xs)\n",
    "c = newton_coeffs(xs, ys)\n",
    "x = np.linspace(-5., 5., 200)\n",
    "y = horner(x, xs, c)\n",
    "plt.plot(x, f(x), 'b', label='f')\n",
    "plt.plot(x, y, 'r', label='P')\n",
    "plt.plot(xs, ys, 'ro')\n",
    "plt.grid()\n",
    "plt.xlabel('x')\n",
    "plt.legend()\n",
    "plt.show()"
   ]
  },
  {
   "cell_type": "code",
   "execution_count": 72,
   "metadata": {},
   "outputs": [
    {
     "name": "stdout",
     "output_type": "stream",
     "text": [
      "Fehler an der Stelle x = 4.5: 1.5787209903492139\n"
     ]
    }
   ],
   "source": [
    "x0 = 4.5\n",
    "print(\"Fehler an der Stelle x = 4.5: {}\".format(horner(x0, xs, c)))"
   ]
  },
  {
   "cell_type": "markdown",
   "metadata": {},
   "source": [
    "Vergleich mit der Fehlerabschätzung aus Satz 5.8:"
   ]
  },
  {
   "cell_type": "code",
   "execution_count": 73,
   "metadata": {},
   "outputs": [
    {
     "name": "stdout",
     "output_type": "stream",
     "text": [
      "omega an der Stelle x = 4.5: -319691.93115234375\n"
     ]
    }
   ],
   "source": [
    "omega = 1.\n",
    "for xk in xs:\n",
    "    omega *= (x0 - xk)\n",
    "print(\"omega an der Stelle x = 4.5: {}\".format(omega))"
   ]
  },
  {
   "cell_type": "code",
   "execution_count": 102,
   "metadata": {},
   "outputs": [
    {
     "name": "stdout",
     "output_type": "stream",
     "text": [
      "Maximum des Betrags der 11-ten Ableitung von f auf [-5, 5]: 36256380.05099993\n"
     ]
    }
   ],
   "source": [
    "def f11(x):  #mit Computeralgebra berechnet\n",
    "    return (1.596672e+8*x*(-3.0*x**10+55.0*x**8-198.0*x**6+198.0*x**4-55.0*x**2+3.0))/(x**24+12.0*x**22+66.0*x**20+220.0*x**18+495.0*x**16+792.0*x**14+924.0*x**12+792.0*x**10+495.0*x**8+220.0*x**6+66.0*x**4+12.0*x**2+1.0)\n",
    "xfine = np.linspace(-5, 5, 1000)\n",
    "f11absmax = np.max(abs(f11(xfine)))  \n",
    "print(\"Maximum des Betrags der 11-ten Ableitung von f auf [-5, 5]: {}\".format(f11absmax))"
   ]
  },
  {
   "cell_type": "code",
   "execution_count": 99,
   "metadata": {},
   "outputs": [
    {
     "name": "stdout",
     "output_type": "stream",
     "text": [
      "Geschätzter Fehler an der Stelle x = 4.5: 290375.7855113005\n"
     ]
    }
   ],
   "source": [
    "print(\"Geschätzter Fehler an der Stelle x = 4.5: {}\".format(abs(omega)*f11absmax/factorial(11)))"
   ]
  },
  {
   "cell_type": "markdown",
   "metadata": {},
   "source": [
    "### b) Kubischer Spline\n",
    "Aus Kapitel 3 übernommen:"
   ]
  },
  {
   "cell_type": "code",
   "execution_count": 76,
   "metadata": {},
   "outputs": [],
   "source": [
    "def thomas(a, b, c, d):\n",
    "    \"\"\"Löst das tridiagonale lineare Gleichungssystem mit Hauptdiagonale a, rechter Nebendiagonale b, linker Nebendiagonale c und rechter Seite d. Eingabeargumente alles Zeilenvektoren.\"\"\"\n",
    "    n = len(d) - 1  #Indizes 0,1,...,n\n",
    "    l = np.zeros(n)     #Nebendiagonale von L\n",
    "    m = np.zeros(n+1)   #Hauptdiagonale von U\n",
    "    y = np.zeros(n+1)   #Zwischenlösung\n",
    "    x = np.zeros(n+1)   #Lösung\n",
    "    #LU-Zerlegung\n",
    "    m[0] = a[0]\n",
    "    for i in range(n):\n",
    "        l[i] = c[i+1]/m[i]\n",
    "        m[i+1] = a[i+1] - l[i]*b[i]\n",
    "    #Vorwärtssubstitution Ly = d\n",
    "    y[0] = d[0]\n",
    "    for i in range(1,n+1):\n",
    "        y[i] = d[i] - l[i-1]*y[i-1]\n",
    "    #Rückwärtssubstitution Ux = y\n",
    "    x[n] = y[n]/m[n]\n",
    "    for i in range(n-1,-1,-1):\n",
    "        x[i] = (y[i] - b[i]*x[i+1])/m[i]\n",
    "    return x"
   ]
  },
  {
   "cell_type": "markdown",
   "metadata": {},
   "source": [
    "Aus notebook08.ipynb übernommen:"
   ]
  },
  {
   "cell_type": "code",
   "execution_count": 77,
   "metadata": {},
   "outputs": [],
   "source": [
    "def cubic_spline_coeffs(xs, ys):\n",
    "    \"\"\"Berechnet aus den Stützstellen xs und Stützstellen ys die Koeffizienten a, b, c des kubischen Splines mit natürlichen Randbedingungen.\"\"\"\n",
    "    n = len(xs) - 1\n",
    "    if not len(ys) == n+1:\n",
    "        raise Exception(\"xs und ys müssen gleiche Länge haben\")\n",
    "    h = xs[1:n+1] - xs[0:n]\n",
    "    #Koeffizienten des tridiagonalen LGS\n",
    "    alpha = np.zeros(n+1)\n",
    "    beta = np.zeros(n+1)\n",
    "    gamma = np.zeros(n+1)\n",
    "    delta = np.zeros(n+1)\n",
    "    gamma[1:n] = h[0:n-1]/6.\n",
    "    alpha[1:n] = (h[0:n-1] + h[1:n])/3.\n",
    "    beta[1:n] = h[1:n]/6.\n",
    "    delta[1:n] = (ys[2:n+1] - ys[1:n])/h[1:n] - (ys[1:n] - ys[0:n-1])/h[0:n-1]\n",
    "    #natürliche Randbedingungen\n",
    "    alpha[0] = 1\n",
    "    alpha[n] = 1\n",
    "    #Löse tridiagonales LGS mit Thomas-Algorithmus\n",
    "    c = thomas(alpha, beta, gamma, delta)\n",
    "    #Setze übrige Koeffizienten\n",
    "    a = ys[0:n] - h[0:n]**2*c[0:n]/6. \n",
    "    b = (ys[1:n+1] - ys[0:n])/h[0:n] - h[0:n]*(c[1:n+1] - c[0:n])/6. \n",
    "    return a, b, c  "
   ]
  },
  {
   "cell_type": "code",
   "execution_count": 78,
   "metadata": {},
   "outputs": [],
   "source": [
    "def evaluate_cubic_spline(x, xs, a, b, c):\n",
    "    \"\"\"Wertet den kubischen Spline mit den Stützstellen xs und Koeffizienten a, b, c auf x aus.\"\"\"\n",
    "    n = len(xs) - 1\n",
    "    if not (len(a)==n and len(b)==n and len(c)==n+1):\n",
    "        raise Exception(\"Koeffizientenvektoren haben nicht die passende Länge\")\n",
    "    h = xs[1:n+1] - xs[0:n]\n",
    "    s = np.zeros_like(x)\n",
    "    for i in range(n):\n",
    "        #konstruiere logischen Vektor Ii für das Teilintervall [xs[i], xs[i+1]]\n",
    "        if i==n-1:            \n",
    "            Ii = np.logical_and(x >= xs[i], x <= xs[i+1])\n",
    "        else:\n",
    "            Ii = np.logical_and(x >= xs[i], x < xs[i+1])\n",
    "        x_ = x[Ii]  #der Teil von x im Intervall [xs[i], xs[i+1]]\n",
    "        #Spline-Ansatz\n",
    "        si = a[i] + b[i]*(x_ - xs[i]) + (c[i]*(xs[i+1] - x_)**3 + c[i+1]*(x_ - xs[i])**3)/(6*h[i])\n",
    "        s[Ii] = si\n",
    "    return s"
   ]
  },
  {
   "cell_type": "code",
   "execution_count": 79,
   "metadata": {},
   "outputs": [
    {
     "data": {
      "image/png": "[encoded data removed]",
      "text/plain": [
       "<Figure size 432x288 with 1 Axes>"
      ]
     },
     "metadata": {
      "needs_background": "light"
     },
     "output_type": "display_data"
    }
   ],
   "source": [
    "a, b, c = cubic_spline_coeffs(xs, ys)\n",
    "s = evaluate_cubic_spline(x, xs, a, b, c)\n",
    "plt.plot(x, f(x), 'b', label='f')\n",
    "plt.plot(x, s, 'r', label='s')\n",
    "plt.plot(xs, ys, 'ro')\n",
    "plt.grid()\n",
    "plt.xlabel('x')\n",
    "plt.legend()\n",
    "plt.show()"
   ]
  },
  {
   "cell_type": "code",
   "execution_count": 31,
   "metadata": {},
   "outputs": [
    {
     "name": "stdout",
     "output_type": "stream",
     "text": [
      "Fehler an der Stelle x = 4.5: 5.59e-04\n"
     ]
    }
   ],
   "source": [
    "x0 = np.array([4.5])\n",
    "print(\"Fehler an der Stelle x = 4.5: {:.2e}\".format(abs(evaluate_cubic_spline(x0, xs, a, b, c)[0] - f(4.5))))"
   ]
  }
 ],
 "metadata": {
  "kernelspec": {
   "display_name": "Python 3",
   "language": "python",
   "name": "python3"
  },
  "language_info": {
   "codemirror_mode": {
    "name": "ipython",
    "version": 3
   },
   "file_extension": ".py",
   "mimetype": "text/x-python",
   "name": "python",
   "nbconvert_exporter": "python",
   "pygments_lexer": "ipython3",
   "version": "3.8.3"
  },
  "latex_envs": {
   "LaTeX_envs_menu_present": true,
   "autoclose": false,
   "autocomplete": true,
   "bibliofile": "biblio.bib",
   "cite_by": "apalike",
   "current_citInitial": 1,
   "eqLabelWithNumbers": true,
   "eqNumInitial": 1,
   "hotkeys": {
    "equation": "Ctrl-E",
    "itemize": "Ctrl-I"
   },
   "labels_anchors": false,
   "latex_user_defs": false,
   "report_style_numbering": true,
   "user_envs_cfg": false
  }
 },
 "nbformat": 4,
 "nbformat_minor": 4
}
