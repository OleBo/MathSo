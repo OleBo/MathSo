{
 "cells": [
  {
   "cell_type": "markdown",
   "metadata": {},
   "source": [
    "# Lösungen 10"
   ]
  },
  {
   "cell_type": "code",
   "execution_count": 6,
   "metadata": {},
   "outputs": [],
   "source": [
    "from math import *\n",
    "import numpy as np"
   ]
  },
  {
   "cell_type": "markdown",
   "metadata": {},
   "source": [
    "## Aufgabe 3"
   ]
  },
  {
   "cell_type": "code",
   "execution_count": 7,
   "metadata": {},
   "outputs": [],
   "source": [
    "def f(x):\n",
    "    return np.exp(x)*np.sin(x)\n",
    "a = 0\n",
    "b = .5*pi\n",
    "I = .5*(exp(.5*pi) + 1.)"
   ]
  },
  {
   "cell_type": "markdown",
   "metadata": {},
   "source": [
    "### b) Summierte Mittelpunktsregel"
   ]
  },
  {
   "cell_type": "code",
   "execution_count": 8,
   "metadata": {},
   "outputs": [],
   "source": [
    "def midpoint(f, a, b, n):\n",
    "    \"\"\"Approximiert das Integral von f auf [a,b] nach der summierten Mittelpunktsregel mit n Teilintervallen.\"\"\"\n",
    "    h = (b - a)/n \n",
    "    x = np.linspace(a + .5*h, b - .5*h, n)\n",
    "    y = f(x)\n",
    "    return h*np.sum(y)"
   ]
  },
  {
   "cell_type": "code",
   "execution_count": 9,
   "metadata": {},
   "outputs": [
    {
     "name": "stdout",
     "output_type": "stream",
     "text": [
      "h          Approximation         Fehler       Konvergenzfaktor\n",
      "7.85e-01   2.8020477046324959    1.0319e-01   0.0000e+00  \n",
      "3.93e-01   2.8804203310064689    2.4818e-02   4.1578e+00  \n",
      "1.96e-01   2.8990966491846399    6.1420e-03   4.0407e+00  \n",
      "9.82e-02   2.9037071094265627    1.5316e-03   4.0103e+00  \n",
      "4.91e-02   2.9048560411065338    3.8265e-04   4.0026e+00  \n",
      "2.45e-02   2.9051430435114405    9.5647e-05   4.0006e+00  \n",
      "1.23e-02   2.9052147797007417    2.3911e-05   4.0002e+00  \n",
      "6.14e-03   2.9052327128472473    5.9776e-06   4.0000e+00  \n",
      "3.07e-03   2.9052371960775729    1.4944e-06   4.0000e+00  \n",
      "1.53e-03   2.9052383168816336    3.7360e-07   4.0000e+00  \n",
      "7.67e-04   2.9052385970824299    9.3400e-08   4.0000e+00  \n",
      "3.83e-04   2.9052386671326151    2.3350e-08   4.0000e+00  \n",
      "1.92e-04   2.9052386846451599    5.8375e-09   4.0000e+00  \n",
      "9.59e-05   2.9052386890232973    1.4594e-09   4.0000e+00  \n",
      "4.79e-05   2.9052386901178306    3.6485e-10   4.0000e+00  \n",
      "2.40e-05   2.9052386903914642    9.1211e-11   4.0000e+00  \n",
      "1.20e-05   2.9052386904598730    2.2803e-11   4.0000e+00  \n",
      "5.99e-06   2.9052386904769749    5.7008e-12   3.9999e+00  \n",
      "3.00e-06   2.9052386904812506    1.4251e-12   4.0003e+00  \n",
      "1.50e-06   2.9052386904823191    3.5660e-13   3.9963e+00  \n",
      "7.49e-07   2.9052386904825855    9.0150e-14   3.9557e+00  \n",
      "3.75e-07   2.9052386904826553    2.0428e-14   4.4130e+00  \n",
      "1.87e-07   2.9052386904826681    7.5495e-15   2.7059e+00  \n",
      "9.36e-08   2.9052386904826721    3.5527e-15   2.1250e+00  \n",
      "4.68e-08   2.9052386904826770    1.3323e-15   2.6667e+00  \n",
      "2.34e-08   2.9052386904826792    3.5527e-15   3.7500e-01  \n"
     ]
    }
   ],
   "source": [
    "n = 2\n",
    "print(\"{:10} {:21} {:12} {:12}\".format(\"h\", \"Approximation\", \"Fehler\", \"Konvergenzfaktor\"))\n",
    "Err_old = 0\n",
    "while n < 1e8:\n",
    "    T = midpoint(f, a, b, n)\n",
    "    Err = abs(T - I)\n",
    "    print(\"{:<10.2e} {:<21.16f} {:<12.4e} {:<12.4e}\".format((b-a)/n, T, Err, Err_old/Err))\n",
    "    Err_old = Err\n",
    "    n *= 2"
   ]
  },
  {
   "cell_type": "markdown",
   "metadata": {},
   "source": [
    "### c) Summierte Milne-Regel"
   ]
  },
  {
   "cell_type": "code",
   "execution_count": 13,
   "metadata": {},
   "outputs": [],
   "source": [
    "def milne(f, a, b, n):\n",
    "    \"\"\"Approximiert das Integral von f auf [a,b] nach der summierten Milne-Regel mit n Teilintervallen.\"\"\"\n",
    "    if not (n % 4) == 0:\n",
    "        raise Exception(\"n muss durch 4 teilbar sein.\")\n",
    "    h = (b - a)/n \n",
    "    x = np.linspace(a, b, n+1)\n",
    "    y = f(x)\n",
    "    return 2.*h/45.*(7.*y[0] + 32.*np.sum(y[1:n:2]) + 12.*np.sum(y[2:n-1:4]) + 14.*np.sum(y[4:n-3:4]) + 7.*y[n]) "
   ]
  },
  {
   "cell_type": "code",
   "execution_count": 19,
   "metadata": {},
   "outputs": [
    {
     "name": "stdout",
     "output_type": "stream",
     "text": [
      "h          Approximation         Fehler       Konvergenzfaktor\n",
      "3.93e-01   2.9050941560623667    1.4453e-04   0.0000e+00  \n",
      "9.82e-02   2.9052386611567647    2.9326e-08   4.9286e+03  \n",
      "2.45e-02   2.9052386904756173    7.0584e-12   4.1548e+03  \n",
      "6.14e-03   2.9052386904826735    2.2204e-15   3.1788e+03  \n"
     ]
    }
   ],
   "source": [
    "n = 4\n",
    "print(\"{:10} {:21} {:12} {:12}\".format(\"h\", \"Approximation\", \"Fehler\", \"Konvergenzfaktor\"))\n",
    "Err_old = 0\n",
    "while n < 1e3:\n",
    "    T = milne(f, a, b, n)\n",
    "    Err = abs(T - I)\n",
    "    print(\"{:<10.2e} {:<21.16f} {:<12.4e} {:<12.4e}\".format((b-a)/n, T, Err, Err_old/Err))\n",
    "    Err_old = Err\n",
    "    n *= 4"
   ]
  },
  {
   "cell_type": "markdown",
   "metadata": {},
   "source": [
    "Der Fehler der summierten Milne-Regel ist $\\mathcal{O}(h^6)$, d.h. wenn wir $n$ mit $4$ multiplizieren, sollte der Fehler um den Faktor $4^6 = 4096$ abnehmen. Das stimmt recht gut mit dem beobachteten Konvergenzfaktor überein, wobei bereits für $n=4^4=256$ die Maschinengenauigkeit erreicht wird."
   ]
  },
  {
   "cell_type": "markdown",
   "metadata": {},
   "source": [
    "## Aufgabe 4\n",
    "### b)"
   ]
  },
  {
   "cell_type": "code",
   "execution_count": 22,
   "metadata": {},
   "outputs": [
    {
     "name": "stdout",
     "output_type": "stream",
     "text": [
      "I = erf(1) = 0.842700792949715\n"
     ]
    }
   ],
   "source": [
    "I = erf(1.)\n",
    "print(\"I = erf(1) = {}\".format(I))"
   ]
  },
  {
   "cell_type": "markdown",
   "metadata": {},
   "source": [
    "Aus notebook10.ipynb übernommen:"
   ]
  },
  {
   "cell_type": "code",
   "execution_count": 29,
   "metadata": {},
   "outputs": [],
   "source": [
    "def simpson(f, a, b, n):\n",
    "    \"\"\"Approximiert das Integral von f auf [a,b] nach der summierten Simpson-Regel mit n Teilintervallen.\"\"\"\n",
    "    if not (n % 2) == 0:\n",
    "        raise Exception(\"n muss gerade sein.\")\n",
    "    h = (b-a)/n \n",
    "    x = np.linspace(a, b, n+1)\n",
    "    y = f(x)\n",
    "    return h/3.*(y[0] + 4.*np.sum(y[1:n:2]) + 2.*np.sum(y[2:n-1:2]) + y[n])"
   ]
  },
  {
   "cell_type": "code",
   "execution_count": 35,
   "metadata": {},
   "outputs": [],
   "source": [
    "def f(x):\n",
    "    return 2./sqrt(pi)*np.exp(-x**2)\n",
    "a = 0.\n",
    "b = 1.\n",
    "h = .25\n",
    "n = 4"
   ]
  },
  {
   "cell_type": "code",
   "execution_count": 46,
   "metadata": {},
   "outputs": [
    {
     "name": "stdout",
     "output_type": "stream",
     "text": [
      "S(h) = 0.8427360513893569\n",
      "Tatsächlicher Fehler |S(h) - I| = 3.525843964191644e-05\n",
      "Geschätzter Fehler 16/15 |S(h) - S(h/2)| = 3.5216579627928014e-05\n"
     ]
    }
   ],
   "source": [
    "S = simpson(f, a, b, n)\n",
    "S2 = simpson(f, a, b, 2*n)\n",
    "print(\"S(h) = {}\".format(S))\n",
    "print(\"Tatsächlicher Fehler |S(h) - I| = {}\".format(abs(S - I)))\n",
    "print(\"Geschätzter Fehler 16/15 |S(h) - S(h/2)| = {}\".format(16./15.*abs(S - S2)))"
   ]
  },
  {
   "cell_type": "code",
   "execution_count": null,
   "metadata": {},
   "outputs": [],
   "source": []
  }
 ],
 "metadata": {
  "kernelspec": {
   "display_name": "Python 3 (ipykernel)",
   "language": "python",
   "name": "python3"
  },
  "language_info": {
   "codemirror_mode": {
    "name": "ipython",
    "version": 3
   },
   "file_extension": ".py",
   "mimetype": "text/x-python",
   "name": "python",
   "nbconvert_exporter": "python",
   "pygments_lexer": "ipython3",
   "version": "3.9.7"
  },
  "latex_envs": {
   "LaTeX_envs_menu_present": true,
   "autoclose": false,
   "autocomplete": true,
   "bibliofile": "biblio.bib",
   "cite_by": "apalike",
   "current_citInitial": 1,
   "eqLabelWithNumbers": true,
   "eqNumInitial": 1,
   "hotkeys": {
    "equation": "Ctrl-E",
    "itemize": "Ctrl-I"
   },
   "labels_anchors": false,
   "latex_user_defs": false,
   "report_style_numbering": true,
   "user_envs_cfg": false
  }
 },
 "nbformat": 4,
 "nbformat_minor": 4
}
