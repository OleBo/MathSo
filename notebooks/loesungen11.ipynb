{
 "cells": [
  {
   "cell_type": "markdown",
   "metadata": {},
   "source": [
    "[![Open In Binder](https://static.mybinder.org/badge_logo.svg)](https://mybinder.org/v2/gh/OleBo/MathSo/main?filepath=/notebooks/loesungen11.ipynb)"
   ]
  },
  {
   "cell_type": "markdown",
   "metadata": {},
   "source": [
    "[![Open In Colab](https://colab.research.google.com/assets/colab-badge.svg)](https://colab.research.google.com/github/OleBo/MathSo/blob/main/notebooks/loesungen11.ipynb)\n",
    "\n",
    "\n",
    "[browse](http://colab.research.google.com/github/OleBo/MathSo/)"
   ]
  },
  {
   "cell_type": "markdown",
   "metadata": {},
   "source": [
    "# Lösungen 11"
   ]
  },
  {
   "cell_type": "code",
   "execution_count": 1,
   "metadata": {},
   "outputs": [],
   "source": [
    "from math import *\n",
    "import numpy as np"
   ]
  },
  {
   "cell_type": "markdown",
   "metadata": {},
   "source": [
    "## Aufgabe 1"
   ]
  },
  {
   "cell_type": "markdown",
   "metadata": {},
   "source": [
    "$$I = \\int_0^1 \\frac{1}{1 + x^2} \\,dx = \\arctan(1)$$"
   ]
  },
  {
   "cell_type": "code",
   "execution_count": 2,
   "metadata": {},
   "outputs": [
    {
     "name": "stdout",
     "output_type": "stream",
     "text": [
      "I = 0.7853981633974483\n"
     ]
    }
   ],
   "source": [
    "def f(x):\n",
    "    return 1./(1. + x**2)\n",
    "a = 0\n",
    "b = 1\n",
    "I = atan(1.)\n",
    "print(\"I = {}\".format(I))"
   ]
  },
  {
   "cell_type": "markdown",
   "metadata": {},
   "source": [
    "### a) Summierte Trapezregel\n",
    "Aus notebook10.ipynb übernommen:"
   ]
  },
  {
   "cell_type": "code",
   "execution_count": 3,
   "metadata": {},
   "outputs": [],
   "source": [
    "def trapezoidal(f, a, b, n):\n",
    "    \"\"\"Approximiert das Integral von f auf [a,b] nach der summierten Trapezregel mit n Teilintervallen.\"\"\"\n",
    "    h = (b-a)/n \n",
    "    x = np.linspace(a, b, n+1)\n",
    "    y = f(x)\n",
    "    return .5*h*(y[0] + 2.*np.sum(y[1:n]) + y[n])"
   ]
  },
  {
   "cell_type": "code",
   "execution_count": 4,
   "metadata": {},
   "outputs": [
    {
     "name": "stdout",
     "output_type": "stream",
     "text": [
      "n = 646, T(n) = 0.78539806, |T(n) - I| = 9.98e-08\n"
     ]
    }
   ],
   "source": [
    "n = 0\n",
    "err = np.inf\n",
    "tol = 1e-7\n",
    "while err > tol:  \n",
    "    n += 1\n",
    "    T = trapezoidal(f, a, b, n)\n",
    "    err = abs(T - I)\n",
    "print(\"n = {}, T(n) = {:.8f}, |T(n) - I| = {:.2e}\".format(n, T, err))"
   ]
  },
  {
   "cell_type": "markdown",
   "metadata": {},
   "source": [
    "Es werden $n+1=647$ Funktionsauswertungen benötigt."
   ]
  },
  {
   "cell_type": "markdown",
   "metadata": {},
   "source": [
    "### b) Summierte Simpson-Regel\n",
    "Aus notebook10.ipynb übernommen:"
   ]
  },
  {
   "cell_type": "code",
   "execution_count": 5,
   "metadata": {},
   "outputs": [],
   "source": [
    "def simpson(f, a, b, n):\n",
    "    \"\"\"Approximiert das Integral von f auf [a,b] nach der summierten Simpson-Regel mit n Teilintervallen.\"\"\"\n",
    "    if not (n % 2) == 0:\n",
    "        raise Exception(\"n muss gerade sein.\")\n",
    "    h = (b-a)/n \n",
    "    x = np.linspace(a, b, n+1)\n",
    "    y = f(x)\n",
    "    return h/3.*(y[0] + 4.*np.sum(y[1:n:2]) + 2.*np.sum(y[2:n-1:2]) + y[n])"
   ]
  },
  {
   "cell_type": "code",
   "execution_count": 6,
   "metadata": {},
   "outputs": [
    {
     "name": "stdout",
     "output_type": "stream",
     "text": [
      "n = 8, S(n) = 0.78539813, |S(n) - I| = 3.78e-08\n"
     ]
    }
   ],
   "source": [
    "n = 0\n",
    "err = np.inf\n",
    "while err > tol:  \n",
    "    n += 2\n",
    "    S = simpson(f, a, b, n)\n",
    "    err = abs(S - I)\n",
    "print(\"n = {}, S(n) = {:.8f}, |S(n) - I| = {:.2e}\".format(n, S, err))"
   ]
  },
  {
   "cell_type": "markdown",
   "metadata": {},
   "source": [
    "Es werden  $n+1=9$ Funktionsauswertungen benötigt."
   ]
  },
  {
   "cell_type": "markdown",
   "metadata": {},
   "source": [
    "### c) Romberg-Verfahren\n",
    "Aus notebook11.ipynb übernommen:"
   ]
  },
  {
   "cell_type": "code",
   "execution_count": 7,
   "metadata": {},
   "outputs": [],
   "source": [
    "def romberg(f, a, b, m):\n",
    "    \"\"\"Approximiert das Integral von f auf [a,b] nach dem Romberg-Verfahren mit m Schritten und gibt den letzten Eintrag T_mm des Neville-Aitken-Schemas zurück.\"\"\"\n",
    "    T = np.zeros((m+1,m+1))     #Neville-Aitken-Matrix\n",
    "    h = b - a               #aktuelle Schrittweite\n",
    "    n = 1                   #aktuelle Zahl der Stützstellen\n",
    "    s = .5*(f(a) + f(b))    #aktuelle Trapezregel\n",
    "    T[0,0] = h*s\n",
    "    for k in range(1, m+1):\n",
    "        n *= 2\n",
    "        h *= .5\n",
    "        s += np.sum([f(a + i*h) for i in range(1, n, 2)])  #addiere nur neue Stützwerte\n",
    "        T[k,0] = h*s\n",
    "        p4 = 1  #Viererpotenz in Neville-Aitken-Rekursion\n",
    "        for j in range(1, k+1):\n",
    "            p4 *= 4\n",
    "            T[k,j] = (p4*T[k,j-1] - T[k-1,j-1])/(p4 - 1)\n",
    "    return T[m,m]"
   ]
  },
  {
   "cell_type": "code",
   "execution_count": 8,
   "metadata": {},
   "outputs": [
    {
     "name": "stdout",
     "output_type": "stream",
     "text": [
      "m = 8, T_mm = 0.78539817, |T_mm - I| = 2.92e-09\n"
     ]
    }
   ],
   "source": [
    "err = np.inf\n",
    "m = 0\n",
    "while err > tol:  \n",
    "    m += 1\n",
    "    R = romberg(f, a, b, m)\n",
    "    err = abs(R - I)\n",
    "print(\"m = {}, T_mm = {:.8f}, |T_mm - I| = {:.2e}\".format(n, R, err))"
   ]
  },
  {
   "cell_type": "markdown",
   "metadata": {},
   "source": [
    "Hierfür werden insgesamt $m+1 = 9$ Funktionsauswertungen benötigt, wenn man bereits berechnete Trapezapproximationen nutzt (siehe Skizze zu Algorithmus 7.5)."
   ]
  },
  {
   "cell_type": "markdown",
   "metadata": {},
   "source": [
    "Simpson und Romberg liegen also gleichauf, die Trapezregel ist weit abgeschlagen. Wegen der Einfachheit der Implementierung würde man hier vermutlich das Simpson-Verfahren wählen. Für noch kleinere Fehlertoleranzen wird aber das Romberg-Verfahren gewinnen."
   ]
  },
  {
   "cell_type": "code",
   "execution_count": null,
   "metadata": {},
   "outputs": [],
   "source": []
  }
 ],
 "metadata": {
  "kernelspec": {
   "display_name": "Python 3 (ipykernel)",
   "language": "python",
   "name": "python3"
  },
  "language_info": {
   "codemirror_mode": {
    "name": "ipython",
    "version": 3
   },
   "file_extension": ".py",
   "mimetype": "text/x-python",
   "name": "python",
   "nbconvert_exporter": "python",
   "pygments_lexer": "ipython3",
   "version": "3.9.7"
  },
  "latex_envs": {
   "LaTeX_envs_menu_present": true,
   "autoclose": false,
   "autocomplete": true,
   "bibliofile": "biblio.bib",
   "cite_by": "apalike",
   "current_citInitial": 1,
   "eqLabelWithNumbers": true,
   "eqNumInitial": 1,
   "hotkeys": {
    "equation": "Ctrl-E",
    "itemize": "Ctrl-I"
   },
   "labels_anchors": false,
   "latex_user_defs": false,
   "report_style_numbering": true,
   "user_envs_cfg": false
  }
 },
 "nbformat": 4,
 "nbformat_minor": 4
}
