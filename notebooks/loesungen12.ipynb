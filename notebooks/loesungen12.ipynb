{
 "cells": [
  {
   "cell_type": "markdown",
   "metadata": {},
   "source": [
    "[![Open In Binder](https://static.mybinder.org/badge_logo.svg)](https://mybinder.org/v2/gh/OleBo/MathSo/main?filepath=/notebooks/loesungen12.ipynb)"
   ]
  },
  {
   "cell_type": "markdown",
   "metadata": {},
   "source": [
    "[![Open In Colab](https://colab.research.google.com/assets/colab-badge.svg)](https://colab.research.google.com/github/OleBo/MathSo/blob/main/notebooks/loesungen12.ipynb)\n",
    "\n",
    "\n",
    "[browse](http://colab.research.google.com/github/OleBo/MathSo/)"
   ]
  },
  {
   "cell_type": "markdown",
   "metadata": {},
   "source": [
    "# Lösungen 12\n",
    "## Aufgabe 2\n",
    "### a)"
   ]
  },
  {
   "cell_type": "code",
   "execution_count": 1,
   "metadata": {},
   "outputs": [],
   "source": [
    "from math import *\n",
    "import numpy as np"
   ]
  },
  {
   "cell_type": "markdown",
   "metadata": {},
   "source": [
    "$A = D - L - U$ mit"
   ]
  },
  {
   "cell_type": "code",
   "execution_count": 2,
   "metadata": {},
   "outputs": [],
   "source": [
    "D = np.diag(np.array([5., 6., 4., 7.]))\n",
    "L = np.array([[0, 0, 0, 0], [-2., 0, 0, 0], [1., -2., 0, 0], [2., 3., -2., 0]])\n",
    "U = np.array([[0, 3., 0, -2.], [0, 0, 3., 0], [0, 0, 0, 1.], [0, 0, 0, 0]])"
   ]
  },
  {
   "cell_type": "code",
   "execution_count": 3,
   "metadata": {},
   "outputs": [
    {
     "name": "stdout",
     "output_type": "stream",
     "text": [
      "T_J = \n",
      " [[ 0.          0.6         0.         -0.4       ]\n",
      " [-0.33333333  0.          0.5         0.        ]\n",
      " [ 0.25       -0.5         0.          0.25      ]\n",
      " [ 0.28571429  0.42857143 -0.28571429  0.        ]]\n",
      "sigma(T_J) = 0.8391079803591782\n"
     ]
    }
   ],
   "source": [
    "#Jacobi\n",
    "TJ = np.linalg.inv(D).dot(L + U)\n",
    "print(\"T_J = \\n {}\".format(TJ))\n",
    "lamJ, vJ = np.linalg.eig(TJ)\n",
    "sigmaJ = max(abs(lamJ))\n",
    "print(\"sigma(T_J) = {}\".format(sigmaJ))"
   ]
  },
  {
   "cell_type": "code",
   "execution_count": 4,
   "metadata": {},
   "outputs": [
    {
     "name": "stdout",
     "output_type": "stream",
     "text": [
      "T_GS = \n",
      " [[ 0.          0.6         0.         -0.4       ]\n",
      " [ 0.         -0.2         0.5         0.13333333]\n",
      " [ 0.          0.25       -0.25        0.08333333]\n",
      " [ 0.          0.01428571  0.28571429 -0.08095238]]\n",
      "sigma(T_GS) = 0.5780330470002053\n"
     ]
    }
   ],
   "source": [
    "#Gauss-Seidel\n",
    "TGS = np.linalg.inv(D - L).dot(U)\n",
    "print(\"T_GS = \\n {}\".format(TGS))\n",
    "lamGS, vGS = np.linalg.eig(TGS)\n",
    "sigmaGS = max(abs(lamGS))\n",
    "print(\"sigma(T_GS) = {}\".format(sigmaGS))"
   ]
  },
  {
   "cell_type": "markdown",
   "metadata": {},
   "source": [
    "$\\sigma(T_J), \\sigma(T_{GS}) < 1$, daher konvergieren beide Verfahren."
   ]
  },
  {
   "cell_type": "markdown",
   "metadata": {},
   "source": [
    "### b)\n",
    "Nach der Bemerkung zu Satz 8.5 soll nach $K$ Iterationen gelten:\n",
    "$$ \\sigma(T)^K < 0.1 \\Leftrightarrow K > -\\frac{1}{\\log_{10} \\sigma(T)}. $$ "
   ]
  },
  {
   "cell_type": "code",
   "execution_count": 5,
   "metadata": {},
   "outputs": [
    {
     "name": "stdout",
     "output_type": "stream",
     "text": [
      "K_J = 14\n"
     ]
    }
   ],
   "source": [
    "#Jacobi: \n",
    "KJ = -1./log10(sigmaJ)\n",
    "print(\"K_J = {}\".format(ceil(KJ)))"
   ]
  },
  {
   "cell_type": "code",
   "execution_count": 6,
   "metadata": {},
   "outputs": [
    {
     "name": "stdout",
     "output_type": "stream",
     "text": [
      "K_GS = 5\n"
     ]
    }
   ],
   "source": [
    "#Gauss-Seidel:\n",
    "KGS = -1./log10(sigmaGS)\n",
    "print(\"K_GS = {}\".format(ceil(KGS)))"
   ]
  },
  {
   "cell_type": "markdown",
   "metadata": {},
   "source": [
    "### c)\n",
    "Aus notebook12.ipynb übernommen:"
   ]
  },
  {
   "cell_type": "code",
   "execution_count": 7,
   "metadata": {},
   "outputs": [],
   "source": [
    "def jor(A, b, omega, x0, tol, maxits=1000, verbose=False, exact=None):\n",
    "    \"\"\"Löst das LGS Ax=b mithilfe der JOR-Iteration mit Startvektor x0 und Relaxationsparameter omega. \n",
    "    Bricht ab, wenn die 2-Norm des Residuums kleiner als tol ist. Optional kann die exakte Lösung übergeben\n",
    "    werden, dann wird bei verbose=True auch die 2-Norm des Fehlers ausgegeben.\n",
    "    Vektoren werden hier als Zeilenvektoren behandelt.\"\"\"\n",
    "    n = len(x0)\n",
    "    x = x0.copy()\n",
    "    res = np.infty\n",
    "    k = 1\n",
    "    while k <= maxits and res > tol:\n",
    "        xnew = (1. - omega)*x\n",
    "        for i in range(n):\n",
    "            xnew[i] += omega*b[i]/A[i,i]\n",
    "            noti = [j for j in range(i)] + [j for j in range(i+1, n)]\n",
    "            for j in noti:\n",
    "                xnew[i] -= omega*A[i,j]*x[j]/A[i,i]\n",
    "        x = xnew\n",
    "        res = np.linalg.norm(x.dot(A.T) - b)  #beachte x, b sind Zeilenvektoren, (A x^T)^T = x A^T \n",
    "        if verbose:\n",
    "            if exact is not None:\n",
    "                err = np.linalg.norm(x - exact)\n",
    "            else:\n",
    "                err = 0.\n",
    "            print(\"k = {:3d}, res = {:.2e}, err = {:.2e}\".format(k, res, err))\n",
    "        k += 1\n",
    "    return x"
   ]
  },
  {
   "cell_type": "code",
   "execution_count": 8,
   "metadata": {},
   "outputs": [],
   "source": [
    "def sor(A, b, omega, x0, tol, maxits=1000, verbose=False, exact=None):\n",
    "    \"\"\"Löst das LGS Ax=b mithilfe der SOR-Iteration mit Startvektor x0 und Relaxationsparameter omega. \n",
    "    Bricht ab, wenn die 2-Norm des Residuums kleiner als tol ist. Optional kann die exakte Lösung übergeben\n",
    "    werden, dann wird bei verbose=True auch die 2-Norm des Fehlers ausgegeben.\n",
    "    Vektoren werden hier als Zeilenvektoren behandelt.\"\"\"\n",
    "    n = len(x0)\n",
    "    x = x0.copy()\n",
    "    res = np.infty\n",
    "    k = 1\n",
    "    while k <= maxits and res > tol:\n",
    "        for i in range(n):\n",
    "            xnewi = (1. - omega)*x[i] + omega*b[i]/A[i,i]\n",
    "            noti = [j for j in range(i)] + [j for j in range(i+1, n)]\n",
    "            for j in noti:\n",
    "                xnewi -= omega*A[i,j]*x[j]/A[i,i]  #verwendet für j<i bereits die aktualisierten x[j]\n",
    "            x[i] = xnewi\n",
    "        res = np.linalg.norm(x.dot(A.T) - b)  #beachte x, b sind Zeilenvektoren, (A x^T)^T = x A^T \n",
    "        if verbose:\n",
    "            if exact is not None:\n",
    "                err = np.linalg.norm(x - exact)\n",
    "            else:\n",
    "                err = 0.\n",
    "            print(\"k = {:3d}, res = {:.2e}, err = {:.2e}\".format(k, res, err))\n",
    "        k += 1\n",
    "    return x"
   ]
  },
  {
   "cell_type": "code",
   "execution_count": 9,
   "metadata": {},
   "outputs": [
    {
     "name": "stdout",
     "output_type": "stream",
     "text": [
      "k =   1, res = 2.26e+01, err = 2.42e+00\n",
      "k =   2, res = 1.57e+01, err = 2.31e+00\n",
      "k =   3, res = 1.50e+01, err = 1.75e+00\n",
      "k =   4, res = 1.21e+01, err = 1.55e+00\n",
      "k =   5, res = 9.65e+00, err = 1.30e+00\n",
      "k =   6, res = 9.19e+00, err = 1.03e+00\n",
      "k =   7, res = 6.28e+00, err = 9.55e-01\n",
      "k =   8, res = 6.67e+00, err = 7.01e-01\n",
      "k =   9, res = 4.40e+00, err = 6.80e-01\n",
      "k =  10, res = 4.58e+00, err = 4.99e-01\n",
      "k =  11, res = 3.34e+00, err = 4.67e-01\n",
      "k =  12, res = 2.99e+00, err = 3.68e-01\n",
      "k =  13, res = 2.58e+00, err = 3.12e-01\n",
      "k =  14, res = 1.92e+00, err = 2.74e-01\n",
      "k =  15, res = 1.93e+00, err = 2.09e-01\n",
      "k =  16, res = 1.28e+00, err = 1.99e-01\n",
      "k =  17, res = 1.37e+00, err = 1.44e-01\n",
      "k =  18, res = 9.29e-01, err = 1.39e-01\n",
      "k =  19, res = 9.21e-01, err = 1.05e-01\n",
      "k =  20, res = 7.15e-01, err = 9.45e-02\n",
      "k =  21, res = 5.94e-01, err = 7.77e-02\n",
      "k =  22, res = 5.48e-01, err = 6.29e-02\n",
      "k =  23, res = 3.84e-01, err = 5.74e-02\n",
      "k =  24, res = 4.02e-01, err = 4.25e-02\n",
      "k =  25, res = 2.64e-01, err = 4.11e-02\n",
      "k =  26, res = 2.79e-01, err = 2.99e-02\n",
      "k =  27, res = 1.98e-01, err = 2.84e-02\n",
      "k =  28, res = 1.84e-01, err = 2.20e-02\n",
      "k =  29, res = 1.53e-01, err = 1.91e-02\n",
      "k =  30, res = 1.18e-01, err = 1.64e-02\n",
      "k =  31, res = 1.16e-01, err = 1.27e-02\n",
      "k =  32, res = 7.76e-02, err = 1.20e-02\n",
      "k =  33, res = 8.31e-02, err = 8.71e-03\n",
      "k =  34, res = 5.54e-02, err = 8.45e-03\n",
      "k =  35, res = 5.64e-02, err = 6.26e-03\n",
      "k =  36, res = 4.24e-02, err = 5.76e-03\n",
      "k =  37, res = 3.66e-02, err = 4.64e-03\n",
      "k =  38, res = 3.27e-02, err = 3.84e-03\n",
      "k =  39, res = 2.35e-02, err = 3.44e-03\n",
      "k =  40, res = 2.42e-02, err = 2.58e-03\n",
      "k =  41, res = 1.59e-02, err = 2.48e-03\n",
      "k =  42, res = 1.70e-02, err = 1.80e-03\n",
      "k =  43, res = 1.18e-02, err = 1.73e-03\n",
      "k =  44, res = 1.13e-02, err = 1.32e-03\n",
      "k =  45, res = 9.09e-03, err = 1.16e-03\n",
      "k =  46, res = 7.26e-03, err = 9.79e-04\n",
      "k =  47, res = 6.92e-03, err = 7.75e-04\n",
      "k =  48, res = 4.73e-03, err = 7.19e-04\n",
      "k =  49, res = 5.02e-03, err = 5.27e-04\n",
      "k =  50, res = 3.31e-03, err = 5.12e-04\n",
      "k =  51, res = 3.44e-03, err = 3.75e-04\n",
      "k =  52, res = 2.51e-03, err = 3.51e-04\n",
      "k =  53, res = 2.25e-03, err = 2.77e-04\n",
      "k =  54, res = 1.94e-03, err = 2.35e-04\n",
      "k =  55, res = 1.44e-03, err = 2.06e-04\n",
      "k =  56, res = 1.45e-03, err = 1.57e-04\n",
      "k =  57, res = 9.62e-04, err = 1.50e-04\n",
      "k =  58, res = 1.03e-03, err = 1.09e-04\n",
      "k =  59, res = 7.00e-04, err = 1.05e-04\n",
      "k =  60, res = 6.93e-04, err = 7.87e-05\n",
      "k =  61, res = 5.39e-04, err = 7.10e-05\n",
      "k =  62, res = 4.47e-04, err = 5.85e-05\n",
      "k =  63, res = 4.13e-04, err = 4.73e-05\n",
      "k =  64, res = 2.89e-04, err = 4.32e-05\n",
      "k =  65, res = 3.03e-04, err = 3.20e-05\n",
      "k =  66, res = 1.99e-04, err = 3.09e-05\n",
      "k =  67, res = 2.10e-04, err = 2.25e-05\n",
      "k =  68, res = 1.49e-04, err = 2.14e-05\n",
      "k =  69, res = 1.38e-04, err = 1.66e-05\n",
      "k =  70, res = 1.15e-04, err = 1.43e-05\n",
      "k =  71, res = 8.87e-05, err = 1.23e-05\n",
      "k =  72, res = 8.71e-05, err = 9.56e-06\n",
      "k =  73, res = 5.84e-05, err = 9.01e-06\n",
      "k =  74, res = 6.25e-05, err = 6.56e-06\n",
      "k =  75, res = 4.17e-05, err = 6.36e-06\n",
      "k =  76, res = 4.24e-05, err = 4.71e-06\n",
      "k =  77, res = 3.19e-05, err = 4.33e-06\n",
      "k =  78, res = 2.75e-05, err = 3.50e-06\n",
      "k =  79, res = 2.46e-05, err = 2.89e-06\n",
      "k =  80, res = 1.77e-05, err = 2.59e-06\n",
      "k =  81, res = 1.82e-05, err = 1.94e-06\n",
      "k =  82, res = 1.20e-05, err = 1.87e-06\n",
      "k =  83, res = 1.28e-05, err = 1.36e-06\n",
      "k =  84, res = 8.85e-06, err = 1.30e-06\n",
      "k =  85, res = 8.49e-06, err = 9.90e-07\n",
      "k =  86, res = 6.84e-06, err = 8.75e-07\n",
      "k =  87, res = 5.45e-06, err = 7.37e-07\n",
      "k =  88, res = 5.21e-06, err = 5.83e-07\n",
      "k =  89, res = 3.55e-06, err = 5.41e-07\n",
      "k =  90, res = 3.78e-06, err = 3.97e-07\n",
      "k =  91, res = 2.50e-06, err = 3.85e-07\n",
      "k =  92, res = 2.59e-06, err = 2.83e-07\n",
      "k =  93, res = 1.89e-06, err = 2.64e-07\n",
      "k =  94, res = 1.69e-06, err = 2.09e-07\n",
      "k =  95, res = 1.46e-06, err = 1.77e-07\n",
      "k =  96, res = 1.08e-06, err = 1.55e-07\n",
      "k =  97, res = 1.09e-06, err = 1.18e-07\n",
      "k =  98, res = 7.24e-07, err = 1.13e-07\n"
     ]
    }
   ],
   "source": [
    "A = np.array([[5., -3., 0., 2.], [2., 6., -3., 0.], [-1, 2., 4., -1.], [-2., -3., 2., 7.]])\n",
    "b = np.array([13., 16., -11., 10.])\n",
    "x_ex = np.array([2., 1., -2., 3.])\n",
    "x0 = np.array([1., 1., 1., 1.])\n",
    "tol = 1e-6\n",
    "#Jacobi-Verfahren\n",
    "x = jor(A, b, 1., x0, tol, verbose=True, exact=x_ex)"
   ]
  },
  {
   "cell_type": "code",
   "execution_count": 10,
   "metadata": {},
   "outputs": [
    {
     "name": "stdout",
     "output_type": "stream",
     "text": [
      "k =   1, res = 1.24e+01, err = 2.01e+00\n",
      "k =   2, res = 5.52e+00, err = 9.64e-01\n",
      "k =   3, res = 3.41e+00, err = 5.78e-01\n",
      "k =   4, res = 1.98e+00, err = 3.40e-01\n",
      "k =   5, res = 1.15e+00, err = 1.97e-01\n",
      "k =   6, res = 6.65e-01, err = 1.14e-01\n",
      "k =   7, res = 3.85e-01, err = 6.61e-02\n",
      "k =   8, res = 2.22e-01, err = 3.82e-02\n",
      "k =   9, res = 1.29e-01, err = 2.21e-02\n",
      "k =  10, res = 7.43e-02, err = 1.28e-02\n",
      "k =  11, res = 4.30e-02, err = 7.38e-03\n",
      "k =  12, res = 2.48e-02, err = 4.26e-03\n",
      "k =  13, res = 1.44e-02, err = 2.46e-03\n",
      "k =  14, res = 8.30e-03, err = 1.42e-03\n",
      "k =  15, res = 4.80e-03, err = 8.23e-04\n",
      "k =  16, res = 2.77e-03, err = 4.76e-04\n",
      "k =  17, res = 1.60e-03, err = 2.75e-04\n",
      "k =  18, res = 9.26e-04, err = 1.59e-04\n",
      "k =  19, res = 5.35e-04, err = 9.19e-05\n",
      "k =  20, res = 3.10e-04, err = 5.31e-05\n",
      "k =  21, res = 1.79e-04, err = 3.07e-05\n",
      "k =  22, res = 1.03e-04, err = 1.78e-05\n",
      "k =  23, res = 5.98e-05, err = 1.03e-05\n",
      "k =  24, res = 3.46e-05, err = 5.93e-06\n",
      "k =  25, res = 2.00e-05, err = 3.43e-06\n",
      "k =  26, res = 1.15e-05, err = 1.98e-06\n",
      "k =  27, res = 6.67e-06, err = 1.15e-06\n",
      "k =  28, res = 3.86e-06, err = 6.62e-07\n",
      "k =  29, res = 2.23e-06, err = 3.83e-07\n",
      "k =  30, res = 1.29e-06, err = 2.21e-07\n",
      "k =  31, res = 7.45e-07, err = 1.28e-07\n"
     ]
    }
   ],
   "source": [
    "#Gauss-Seidel-Verfahren\n",
    "x = sor(A, b, 1., x0, tol, verbose=True, exact=x_ex)"
   ]
  },
  {
   "cell_type": "markdown",
   "metadata": {},
   "source": [
    "Die Zahl der Iterationen, die für die Abnahme des Fehlers um eine Zehnerpotenz benötigt werden, passen sehr gut zu den Vorhersagen in b)."
   ]
  }
 ],
 "metadata": {
  "kernelspec": {
   "display_name": "Python 3 (ipykernel)",
   "language": "python",
   "name": "python3"
  },
  "language_info": {
   "codemirror_mode": {
    "name": "ipython",
    "version": 3
   },
   "file_extension": ".py",
   "mimetype": "text/x-python",
   "name": "python",
   "nbconvert_exporter": "python",
   "pygments_lexer": "ipython3",
   "version": "3.9.7"
  },
  "latex_envs": {
   "LaTeX_envs_menu_present": true,
   "autoclose": false,
   "autocomplete": true,
   "bibliofile": "biblio.bib",
   "cite_by": "apalike",
   "current_citInitial": 1,
   "eqLabelWithNumbers": true,
   "eqNumInitial": 1,
   "hotkeys": {
    "equation": "Ctrl-E",
    "itemize": "Ctrl-I"
   },
   "labels_anchors": false,
   "latex_user_defs": false,
   "report_style_numbering": true,
   "user_envs_cfg": false
  }
 },
 "nbformat": 4,
 "nbformat_minor": 4
}
