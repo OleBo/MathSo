{
 "cells": [
  {
   "cell_type": "markdown",
   "metadata": {},
   "source": [
    "# 4. Nichtlineare Gleichungen"
   ]
  },
  {
   "cell_type": "code",
   "execution_count": 2,
   "metadata": {},
   "outputs": [],
   "source": [
    "import math\n",
    "import numpy as np\n",
    "from matplotlib import pyplot as plt"
   ]
  },
  {
   "cell_type": "markdown",
   "metadata": {},
   "source": [
    "## 4.1 Bisektionsverfahren"
   ]
  },
  {
   "cell_type": "code",
   "execution_count": 3,
   "metadata": {},
   "outputs": [],
   "source": [
    "def bisection(f, a, b, tol, termination_criterion='x', print_info=False):\n",
    "\n",
    "    #check if a or b is an exact zero\n",
    "    if f(a) == 0:\n",
    "        return a\n",
    "    elif f(b) == 0:\n",
    "        return b\n",
    "\n",
    "    if f(a)*f(b) > 0:\n",
    "        raise Exception('f(a) and f(b) must have opposite signs')\n",
    "\n",
    "    def check_termination_criterion(x, a, b, tol):\n",
    "        if termination_criterion == 'x':\n",
    "            return abs(b - a) < tol\n",
    "        elif termination_criterion == 'y':\n",
    "            return abs(f(x)) < tol\n",
    "        else:\n",
    "            raise Exception('Unknown termination criterion: {}'.format(termination_criterion))\n",
    "\n",
    "    x = .5*(a + b)\n",
    "    k = 0\n",
    "    terminate = check_termination_criterion(x, a, b, tol)\n",
    "    while not terminate:\n",
    "        if f(x) == 0: #found exact zero\n",
    "            break\n",
    "        elif f(a)*f(x) > 0:\n",
    "            a = x\n",
    "        else:\n",
    "            b = x\n",
    "        x = .5*(a + b)\n",
    "        k += 1\n",
    "        if print_info:\n",
    "            print('k = {:2d}, a = {:15.8e}, b = {:15.8e}, x = {:15.8e}, f(x) = {:15.8e}'.format(k, a, b, x, f(x)))\n",
    "        terminate = check_termination_criterion(x, a, b, tol)\n",
    "\n",
    "    if print_info:\n",
    "        print('terminated after {} iterations'.format(k))\n",
    "        print('x = {}, f(x) = {}'.format(x, f(x)))\n",
    "    return x"
   ]
  },
  {
   "cell_type": "markdown",
   "metadata": {},
   "source": [
    "### Testproblem\n",
    "Finde Nullstelle von $f(x) := e^{-x} - \\sin x$\n",
    "\n",
    "$f(0) = 1 > 0$, $f(\\pi/2) = e^{-\\pi/2} - 1 < 0$"
   ]
  },
  {
   "cell_type": "code",
   "execution_count": 4,
   "metadata": {},
   "outputs": [],
   "source": [
    "def f(x):\n",
    "    return np.exp(-x) - np.sin(x)"
   ]
  },
  {
   "cell_type": "code",
   "execution_count": 5,
   "metadata": {
    "tags": []
   },
   "outputs": [
    {
     "name": "stdout",
     "output_type": "stream",
     "text": [
      "k =  1, a =  0.00000000e+00, b =  7.85398163e-01, x =  3.92699082e-01, f(x) =  2.92548474e-01\n",
      "k =  2, a =  3.92699082e-01, b =  7.85398163e-01, x =  5.89048623e-01, f(x) = -7.15322860e-04\n",
      "k =  3, a =  3.92699082e-01, b =  5.89048623e-01, x =  4.90873852e-01, f(x) =  1.40694546e-01\n",
      "k =  4, a =  4.90873852e-01, b =  5.89048623e-01, x =  5.39961237e-01, f(x) =  6.86680975e-02\n",
      "k =  5, a =  5.39961237e-01, b =  5.89048623e-01, x =  5.64504930e-01, f(x) =  3.36439746e-02\n",
      "k =  6, a =  5.64504930e-01, b =  5.89048623e-01, x =  5.76776776e-01, f(x) =  1.63809674e-02\n",
      "k =  7, a =  5.76776776e-01, b =  5.89048623e-01, x =  5.82912699e-01, f(x) =  7.81195073e-03\n",
      "k =  8, a =  5.82912699e-01, b =  5.89048623e-01, x =  5.85980661e-01, f(x) =  3.54309205e-03\n",
      "k =  9, a =  5.85980661e-01, b =  5.89048623e-01, x =  5.87514642e-01, f(x) =  1.41257863e-03\n",
      "k = 10, a =  5.87514642e-01, b =  5.89048623e-01, x =  5.88281632e-01, f(x) =  3.48301328e-04\n",
      "k = 11, a =  5.88281632e-01, b =  5.89048623e-01, x =  5.88665127e-01, f(x) = -1.83592412e-04\n",
      "k = 12, a =  5.88281632e-01, b =  5.88665127e-01, x =  5.88473380e-01, f(x) =  8.23340474e-05\n",
      "k = 13, a =  5.88473380e-01, b =  5.88665127e-01, x =  5.88569254e-01, f(x) = -5.06342852e-05\n",
      "k = 14, a =  5.88473380e-01, b =  5.88569254e-01, x =  5.88521317e-01, f(x) =  1.58486054e-05\n",
      "k = 15, a =  5.88521317e-01, b =  5.88569254e-01, x =  5.88545285e-01, f(x) = -1.73931588e-05\n",
      "k = 16, a =  5.88521317e-01, b =  5.88545285e-01, x =  5.88533301e-01, f(x) = -7.72356425e-07\n",
      "k = 17, a =  5.88521317e-01, b =  5.88533301e-01, x =  5.88527309e-01, f(x) =  7.53810457e-06\n",
      "k = 18, a =  5.88527309e-01, b =  5.88533301e-01, x =  5.88530305e-01, f(x) =  3.38286909e-06\n",
      "k = 19, a =  5.88530305e-01, b =  5.88533301e-01, x =  5.88531803e-01, f(x) =  1.30525508e-06\n",
      "k = 20, a =  5.88531803e-01, b =  5.88533301e-01, x =  5.88532552e-01, f(x) =  2.66449018e-07\n",
      "k = 21, a =  5.88532552e-01, b =  5.88533301e-01, x =  5.88532926e-01, f(x) = -2.52953781e-07\n",
      "terminated after 21 iterations\n",
      "x = 0.5885329263701276, f(x) = -2.5295378136558355e-07\n"
     ]
    }
   ],
   "source": [
    "a = 0\n",
    "b = .5*math.pi\n",
    "tol = 1e-6\n",
    "x_bisection = bisection(f, a, b, tol, print_info=True)"
   ]
  },
  {
   "cell_type": "code",
   "execution_count": 6,
   "metadata": {
    "tags": []
   },
   "outputs": [
    {
     "data": {
      "image/png": "[encoded data removed]",
      "text/plain": [
       "<Figure size 432x288 with 1 Axes>"
      ]
     },
     "metadata": {
      "needs_background": "light"
     },
     "output_type": "display_data"
    }
   ],
   "source": [
    "x = np.linspace(0, .5*math.pi, 100)\n",
    "plt.plot(x, f(x))\n",
    "plt.plot(x_bisection, f(x_bisection), 'ro')\n",
    "plt.xlabel('x')\n",
    "plt.ylabel('f(x)')\n",
    "plt.grid()"
   ]
  },
  {
   "cell_type": "markdown",
   "metadata": {},
   "source": [
    "## 4.2 Newton-Verfahren"
   ]
  },
  {
   "cell_type": "code",
   "execution_count": 7,
   "metadata": {},
   "outputs": [],
   "source": [
    "def newton(f, df, x0, tol, maxits=100, termination_criterion='x', print_info=False):\n",
    "\n",
    "    if df(x0) == 0:\n",
    "        raise Exception('df(x0) = 0 is not allowed')\n",
    "\n",
    "    def check_termination_criterion(x, dx, tol):\n",
    "        if termination_criterion == 'x':\n",
    "            return abs(dx) < tol\n",
    "        elif termination_criterion == 'y':\n",
    "            return abs(f(x)) < tol\n",
    "        else:\n",
    "            raise Exception('Unknown termination criterion: {}'.format(termination_criterion))\n",
    "\n",
    "    x = x0\n",
    "    k = 0\n",
    "    terminate=False\n",
    "    while k < maxits and not terminate:\n",
    "        dx = f(x)/df(x)\n",
    "        x -= dx\n",
    "        k += 1\n",
    "        if print_info:\n",
    "            print('k = {:2d}, x = {:15.8e}, f(x) = {:15.8e}, dx = {:15.8e}'.format(k, x, f(x), dx))\n",
    "        terminate = check_termination_criterion(x, dx, tol)\n",
    "\n",
    "    if print_info:\n",
    "        print('terminated after {} iterations'.format(k))\n",
    "        print('x = {}, f(x) = {}'.format(x, f(x)))\n",
    "    return x"
   ]
  },
  {
   "cell_type": "markdown",
   "metadata": {},
   "source": [
    "### Gleiches Testproblem wie oben\n",
    "$f(x) = e^{-x} - \\sin x$\n",
    "\n",
    "$f'(x) = -e^{-x} - \\cos x$"
   ]
  },
  {
   "cell_type": "code",
   "execution_count": 8,
   "metadata": {},
   "outputs": [],
   "source": [
    "def df(x):\n",
    "    return -np.exp(-x) - np.cos(x)"
   ]
  },
  {
   "cell_type": "code",
   "execution_count": 9,
   "metadata": {
    "tags": []
   },
   "outputs": [
    {
     "name": "stdout",
     "output_type": "stream",
     "text": [
      "k =  1, x =  4.78527789e-01, f(x) =  1.59222211e-01, dx =  5.21472211e-01\n",
      "k =  2, x =  5.84157019e-01, f(x) =  6.07930613e-03, dx = -1.05629230e-01\n",
      "k =  3, x =  5.88525112e-01, f(x) =  1.05845200e-05, dx = -4.36809280e-03\n",
      "k =  4, x =  5.88532744e-01, f(x) =  3.23333582e-11, dx = -7.63175116e-06\n",
      "k =  5, x =  5.88532744e-01, f(x) =  0.00000000e+00, dx = -2.33134476e-11\n",
      "terminated after 5 iterations\n",
      "x = 0.5885327439818611, f(x) = 0.0\n"
     ]
    }
   ],
   "source": [
    "x0 = 1.\n",
    "tol = 1e-6\n",
    "x_newton = newton(f, df, x0, tol, print_info=True)"
   ]
  },
  {
   "cell_type": "markdown",
   "metadata": {},
   "source": [
    "### Anwendung: Heron-Verfahren zur Berechnung der Quadratwurzel"
   ]
  },
  {
   "cell_type": "code",
   "execution_count": 10,
   "metadata": {},
   "outputs": [],
   "source": [
    "def heron(a, tol, x0=None, termination_criterion='x', print_info=False):\n",
    "    def f(x):\n",
    "        return x**2 - a \n",
    "    def df(x):\n",
    "        return 2*x\n",
    "    if x0==None:\n",
    "        x0 = a\n",
    "    return newton(f, df, x0, tol, termination_criterion=termination_criterion, print_info=print_info)"
   ]
  },
  {
   "cell_type": "code",
   "execution_count": 11,
   "metadata": {
    "tags": []
   },
   "outputs": [
    {
     "name": "stdout",
     "output_type": "stream",
     "text": [
      "k =  1, x =  2.50000000e+00, f(x) =  2.25000000e+00, dx =  1.50000000e+00\n",
      "k =  2, x =  2.05000000e+00, f(x) =  2.02500000e-01, dx =  4.50000000e-01\n",
      "k =  3, x =  2.00060976e+00, f(x) =  2.43939619e-03, dx =  4.93902439e-02\n",
      "k =  4, x =  2.00000009e+00, f(x) =  3.71689188e-07, dx =  6.09663175e-04\n",
      "k =  5, x =  2.00000000e+00, f(x) =  8.88178420e-15, dx =  9.29222927e-08\n",
      "terminated after 5 iterations\n",
      "x = 2.000000000000002, f(x) = 8.881784197001252e-15\n"
     ]
    }
   ],
   "source": [
    "x = heron(4, 1e-6, print_info=True)"
   ]
  },
  {
   "cell_type": "code",
   "execution_count": 12,
   "metadata": {
    "tags": []
   },
   "outputs": [
    {
     "name": "stdout",
     "output_type": "stream",
     "text": [
      "k =  1, x =  1.50000000e+00, f(x) =  2.50000000e-01, dx =  5.00000000e-01\n",
      "k =  2, x =  1.41666667e+00, f(x) =  6.94444444e-03, dx =  8.33333333e-02\n",
      "k =  3, x =  1.41421569e+00, f(x) =  6.00730488e-06, dx =  2.45098039e-03\n",
      "k =  4, x =  1.41421356e+00, f(x) =  4.51061410e-12, dx =  2.12389982e-06\n",
      "k =  5, x =  1.41421356e+00, f(x) =  4.44089210e-16, dx =  1.59474291e-12\n",
      "terminated after 5 iterations\n",
      "x = 1.4142135623730951, f(x) = 4.440892098500626e-16\n"
     ]
    }
   ],
   "source": [
    "x = heron(2, 1e-6, print_info=True)"
   ]
  }
 ],
 "metadata": {
  "kernelspec": {
   "display_name": "Python 3 (ipykernel)",
   "language": "python",
   "name": "python3"
  },
  "language_info": {
   "codemirror_mode": {
    "name": "ipython",
    "version": 3
   },
   "file_extension": ".py",
   "mimetype": "text/x-python",
   "name": "python",
   "nbconvert_exporter": "python",
   "pygments_lexer": "ipython3",
   "version": "3.9.7"
  },
  "latex_envs": {
   "LaTeX_envs_menu_present": true,
   "autoclose": false,
   "autocomplete": true,
   "bibliofile": "biblio.bib",
   "cite_by": "apalike",
   "current_citInitial": 1,
   "eqLabelWithNumbers": true,
   "eqNumInitial": 1,
   "hotkeys": {
    "equation": "Ctrl-E",
    "itemize": "Ctrl-I"
   },
   "labels_anchors": false,
   "latex_user_defs": false,
   "report_style_numbering": true,
   "user_envs_cfg": false
  }
 },
 "nbformat": 4,
 "nbformat_minor": 4
}
