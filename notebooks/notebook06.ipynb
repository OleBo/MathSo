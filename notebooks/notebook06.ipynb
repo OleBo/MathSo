{
 "cells": [
  {
   "cell_type": "code",
   "execution_count": 1,
   "metadata": {},
   "outputs": [],
   "source": [
    "import math\n",
    "import numpy as np"
   ]
  },
  {
   "cell_type": "markdown",
   "metadata": {},
   "source": [
    "## 4.3 Sekantenverfahren, Regula falsi\n",
    "### Sekantenverfahren"
   ]
  },
  {
   "cell_type": "code",
   "execution_count": 2,
   "metadata": {},
   "outputs": [],
   "source": [
    "def secant_method(f, x0, x1, tol, maxits=100, termination_criterion='x', print_info=False):\n",
    "\n",
    "    def check_termination_criterion(x, dx, tol):\n",
    "        if termination_criterion == 'x':\n",
    "            return abs(dx) < tol\n",
    "        elif termination_criterion == 'y':\n",
    "            return abs(f(x)) < tol\n",
    "        else:\n",
    "            raise Exception('Unknown termination criterion: {}'.format(termination_criterion))\n",
    "\n",
    "    xp = x0  #xp = previous approximation\n",
    "    x = x1\n",
    "    k = 0\n",
    "    terminate=False\n",
    "    while k < maxits and not terminate:\n",
    "        dx = f(x)*(x - xp)/(f(x) - f(xp))\n",
    "        x -= dx\n",
    "        k += 1\n",
    "        if print_info:\n",
    "            print('k = {:2d}, x = {:15.8e}, f(x) = {:15.8e}, dx = {:15.8e}'.format(k, x, f(x), dx))\n",
    "        terminate = check_termination_criterion(x, dx, tol)\n",
    "\n",
    "    if print_info:\n",
    "        print('terminated after {} iterations'.format(k))\n",
    "        print('x = {}, f(x) = {}'.format(x, f(x)))\n",
    "    return x"
   ]
  },
  {
   "cell_type": "code",
   "execution_count": 12,
   "metadata": {},
   "outputs": [],
   "source": [
    "#Gleiches Testproblem wie beim Bisektions- und Newton-Verfahren\n",
    "def f(x):\n",
    "    return np.exp(-x) - np.sin(x)"
   ]
  },
  {
   "cell_type": "code",
   "execution_count": 5,
   "metadata": {
    "tags": []
   },
   "outputs": [
    {
     "name": "stdout",
     "output_type": "stream",
     "text": [
      "k =  1, x =  5.64124957e-01, f(x) =  3.41811448e-02, dx =  4.35875043e-01\n",
      "k =  2, x =  5.89669615e-01, f(x) = -1.57600625e-03, dx = -2.55446587e-02\n",
      "k =  3, x =  5.88479107e-01, f(x) =  7.43909968e-05, dx =  1.19050862e-03\n",
      "k =  4, x =  5.88535273e-01, f(x) = -3.50755786e-06, dx = -5.61663502e-05\n",
      "k =  5, x =  5.88532625e-01, f(x) =  1.65390993e-07, dx =  2.64832322e-06\n",
      "k =  6, x =  5.88532750e-01, f(x) = -7.79862086e-09, dx = -1.24875578e-07\n",
      "terminated after 6 iterations\n",
      "x = 0.5885327496049312, f(x) = -7.79862086019989e-09\n"
     ]
    }
   ],
   "source": [
    "x0 = .7\n",
    "x1 = 1.\n",
    "tol = 1e-6\n",
    "x_secant = secant_method(f, x0, x1, tol, print_info=True)"
   ]
  },
  {
   "cell_type": "markdown",
   "metadata": {},
   "source": [
    "### Regula falsi"
   ]
  },
  {
   "cell_type": "code",
   "execution_count": 6,
   "metadata": {},
   "outputs": [],
   "source": [
    "def regula_falsi(f, a, b, tol, termination_criterion='x', print_info=False):\n",
    "\n",
    "    #check if a or b is an exact zero\n",
    "    if f(a) == 0:\n",
    "        return a\n",
    "    elif f(b) == 0:\n",
    "        return b\n",
    "\n",
    "    if f(a)*f(b) > 0:\n",
    "        raise Exception('f(a) and f(b) must have opposite signs')\n",
    "\n",
    "    def check_termination_criterion(x, a, b, tol):\n",
    "        if termination_criterion == 'x':\n",
    "            dx = min(abs(x - a), abs(b - x))\n",
    "            return dx < tol\n",
    "        elif termination_criterion == 'y':\n",
    "            return abs(f(x)) < tol\n",
    "        else:\n",
    "            raise Exception('Unknown termination criterion: {}'.format(termination_criterion))\n",
    "\n",
    "    k = 0\n",
    "    x = a - f(a)*(b - a)/(f(b) - f(a))\n",
    "    terminate = check_termination_criterion(x, a, b, tol)\n",
    "    while not terminate:\n",
    "        if f(x) == 0: #found exact zero\n",
    "            break\n",
    "        elif f(a)*f(x) > 0:\n",
    "            a = x\n",
    "        else:\n",
    "            b = x\n",
    "        x = a - f(a)*(b - a)/(f(b) - f(a))\n",
    "        \n",
    "        k += 1\n",
    "        if print_info:\n",
    "            print('k = {:2d}, a = {:15.8e}, b = {:15.8e}, x = {:15.8e}, f(x) = {:15.8e}'.format(k, a, b, x, f(x)))\n",
    "        terminate = check_termination_criterion(x, a, b, tol)\n",
    "\n",
    "    if print_info:\n",
    "        print('terminated after {} iterations'.format(k))\n",
    "        print('x = {}, f(x) = {}'.format(x, f(x)))\n",
    "    return x"
   ]
  },
  {
   "cell_type": "code",
   "execution_count": 7,
   "metadata": {
    "tags": []
   },
   "outputs": [
    {
     "name": "stdout",
     "output_type": "stream",
     "text": [
      "k =  1, a =  0.00000000e+00, b =  8.76501549e-01, x =  6.48171203e-01, f(x) = -8.07281532e-02\n",
      "k =  2, a =  0.00000000e+00, b =  6.48171203e-01, x =  5.99754158e-01, f(x) = -1.54929802e-02\n",
      "k =  3, a =  0.00000000e+00, b =  5.99754158e-01, x =  5.90603943e-01, f(x) = -2.87015789e-03\n",
      "k =  4, a =  0.00000000e+00, b =  5.90603943e-01, x =  5.88913667e-01, f(x) = -5.28221050e-04\n",
      "k =  5, a =  0.00000000e+00, b =  5.88913667e-01, x =  5.88602755e-01, f(x) = -9.70953547e-05\n",
      "k =  6, a =  0.00000000e+00, b =  5.88602755e-01, x =  5.88545610e-01, f(x) = -1.78436739e-05\n",
      "k =  7, a =  0.00000000e+00, b =  5.88545610e-01, x =  5.88535108e-01, f(x) = -3.27908208e-06\n",
      "k =  8, a =  0.00000000e+00, b =  5.88535108e-01, x =  5.88533178e-01, f(x) = -6.02583210e-07\n",
      "k =  9, a =  0.00000000e+00, b =  5.88533178e-01, x =  5.88532824e-01, f(x) = -1.10734045e-07\n",
      "terminated after 9 iterations\n",
      "x = 0.5885328238248644, f(x) = -1.1073404460049119e-07\n"
     ]
    }
   ],
   "source": [
    "a = 0\n",
    "b = .5*math.pi\n",
    "tol = 1e-6\n",
    "x_regula_falsi = regula_falsi(f, a, b, tol, print_info=True)"
   ]
  },
  {
   "cell_type": "markdown",
   "metadata": {},
   "source": [
    "## 4.4 Fixpunktverfahren"
   ]
  },
  {
   "cell_type": "code",
   "execution_count": 8,
   "metadata": {},
   "outputs": [],
   "source": [
    "def fpiterate(F, x0, tol, maxits=100, print_info=False):\n",
    "    x = x0\n",
    "    k = 0\n",
    "    terminate = False\n",
    "    while k < maxits and (k == 0 or abs(x - xp) > tol):\n",
    "        xp = x\n",
    "        x = F(x)\n",
    "        k += 1\n",
    "        if print_info:\n",
    "            print('k = {:2d}, x = {:15.8e}'.format(k, x))\n",
    "    if print_info:\n",
    "        print('terminated after {} iterations'.format(k))\n",
    "        print('x = {}'.format(x, f(x)))\n",
    "    return x\n"
   ]
  },
  {
   "cell_type": "markdown",
   "metadata": {},
   "source": [
    "### Testproblem\n",
    "$f(x) = e^{-x} - \\sin(x) = 0 \\; \\Leftrightarrow \\; x = -\\ln\\sin x =: F_1(x) \\; \\Leftrightarrow \\; x = \\arcsin(e^{-x}) =: F_2(x)$"
   ]
  },
  {
   "cell_type": "code",
   "execution_count": 9,
   "metadata": {},
   "outputs": [],
   "source": [
    "def F1(x):\n",
    "    return -np.log(np.sin(x))\n",
    "def F2(x):\n",
    "    return np.arcsin(np.exp(-x))"
   ]
  },
  {
   "cell_type": "code",
   "execution_count": 10,
   "metadata": {
    "tags": []
   },
   "outputs": [
    {
     "name": "stdout",
     "output_type": "stream",
     "text": [
      "k =  1, x =  1.72603746e-01\n",
      "k =  2, x =  1.76172708e+00\n",
      "k =  3, x =  1.83391091e-02\n",
      "k =  4, x =  3.99877545e+00\n",
      "k =  5, x =             nan\n",
      "terminated after 5 iterations\n",
      "x = nan\n"
     ]
    },
    {
     "name": "stderr",
     "output_type": "stream",
     "text": [
      "/Users/rinne/.edm/envs/evaxi3.6/lib/python3.6/site-packages/ipykernel_launcher.py:2: RuntimeWarning: invalid value encountered in log\n",
      "  \n"
     ]
    }
   ],
   "source": [
    "x0 = 1.\n",
    "tol = 1e-6\n",
    "x_fpiterate1 = fpiterate(F1, x0, tol, print_info=True)"
   ]
  },
  {
   "cell_type": "code",
   "execution_count": 11,
   "metadata": {
    "tags": []
   },
   "outputs": [
    {
     "name": "stdout",
     "output_type": "stream",
     "text": [
      "k =  1, x =  3.76727508e-01\n",
      "k =  2, x =  7.56118767e-01\n",
      "k =  3, x =  4.88707496e-01\n",
      "k =  4, x =  6.60382183e-01\n",
      "k =  5, x =  5.42938144e-01\n",
      "k =  6, x =  6.20004185e-01\n",
      "k =  7, x =  5.67994089e-01\n",
      "k =  8, x =  6.02447720e-01\n",
      "k =  9, x =  5.79337836e-01\n",
      "k = 10, x =  5.94710804e-01\n",
      "k = 11, x =  5.84427628e-01\n",
      "k = 12, x =  5.91280788e-01\n",
      "k = 13, x =  5.86702245e-01\n",
      "k = 14, x =  5.89756098e-01\n",
      "k = 15, x =  5.87716959e-01\n",
      "k = 16, x =  5.89077547e-01\n",
      "k = 17, x =  5.88169268e-01\n",
      "k = 18, x =  5.88775404e-01\n",
      "k = 19, x =  5.88370813e-01\n",
      "k = 20, x =  5.88640834e-01\n",
      "k = 21, x =  5.88460607e-01\n",
      "k = 22, x =  5.88580893e-01\n",
      "k = 23, x =  5.88500609e-01\n",
      "k = 24, x =  5.88554193e-01\n",
      "k = 25, x =  5.88518429e-01\n",
      "k = 26, x =  5.88542299e-01\n",
      "k = 27, x =  5.88526367e-01\n",
      "k = 28, x =  5.88537000e-01\n",
      "k = 29, x =  5.88529903e-01\n",
      "k = 30, x =  5.88534640e-01\n",
      "k = 31, x =  5.88531479e-01\n",
      "k = 32, x =  5.88533589e-01\n",
      "k = 33, x =  5.88532180e-01\n",
      "k = 34, x =  5.88533120e-01\n",
      "terminated after 34 iterations\n",
      "x = 0.588533120227473\n"
     ]
    }
   ],
   "source": [
    "x_fpiterate2 = fpiterate(F2, x0, tol, print_info=True)"
   ]
  }
 ],
 "metadata": {
  "kernelspec": {
   "display_name": "Python 3",
   "language": "python",
   "name": "python3"
  },
  "language_info": {
   "codemirror_mode": {
    "name": "ipython",
    "version": 3
   },
   "file_extension": ".py",
   "mimetype": "text/x-python",
   "name": "python",
   "nbconvert_exporter": "python",
   "pygments_lexer": "ipython3",
   "version": "3.8.3"
  },
  "latex_envs": {
   "LaTeX_envs_menu_present": true,
   "autoclose": false,
   "autocomplete": true,
   "bibliofile": "biblio.bib",
   "cite_by": "apalike",
   "current_citInitial": 1,
   "eqLabelWithNumbers": true,
   "eqNumInitial": 1,
   "hotkeys": {
    "equation": "Ctrl-E",
    "itemize": "Ctrl-I"
   },
   "labels_anchors": false,
   "latex_user_defs": false,
   "report_style_numbering": true,
   "user_envs_cfg": false
  }
 },
 "nbformat": 4,
 "nbformat_minor": 4
}
