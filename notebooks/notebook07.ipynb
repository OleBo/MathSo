{
 "cells": [
  {
   "cell_type": "markdown",
   "metadata": {},
   "source": [
    "# 5. Interpolation"
   ]
  },
  {
   "cell_type": "code",
   "execution_count": 5,
   "metadata": {},
   "outputs": [],
   "source": [
    "from math import *\n",
    "import numpy as np\n",
    "from matplotlib import pyplot as plt"
   ]
  },
  {
   "cell_type": "markdown",
   "metadata": {},
   "source": [
    "## 5.1 Polynominterpolation"
   ]
  },
  {
   "cell_type": "markdown",
   "metadata": {},
   "source": [
    "### Algorithmus 5.2: Horner-Schema"
   ]
  },
  {
   "cell_type": "code",
   "execution_count": 6,
   "metadata": {},
   "outputs": [],
   "source": [
    "def horner(x, xs, c):\n",
    "    \"\"\"Berechnet den Wert des Interpolationspolynoms P_n an der Stelle x \n",
    "    für die Stützstellen xs und die Koeffizienten der Newton-Darstellung c.\"\"\"\n",
    "    n = len(c) - 1\n",
    "    if len(xs) < n:\n",
    "        raise Exception(\"Zu wenige Stützstellen!\")\n",
    "    p = c[n]\n",
    "    for k in range(n-1, -1, -1):\n",
    "        p = c[k] + (x - xs[k])*p\n",
    "    return p "
   ]
  },
  {
   "cell_type": "markdown",
   "metadata": {},
   "source": [
    "Beispiel: \n",
    "\n",
    "$P_n(x) = 1 + 2x + 3x(x-1) + 4x(x-1)(x-3) = 4x^3 - 13x^2 + 11x + 1$\n",
    "\n",
    "Faktoren: $c=[1,2,3,4]$\n",
    "\n",
    "Stützstellen: $x_s=[0,1,3]$\n",
    "\n",
    "Berechne $P_n(2)$:"
   ]
  },
  {
   "cell_type": "code",
   "execution_count": 7,
   "metadata": {
    "tags": []
   },
   "outputs": [
    {
     "name": "stdout",
     "output_type": "stream",
     "text": [
      "Direkt eingesetzt: 3\n",
      "Ausmultipliziert: 3\n",
      "Horner per Hand: 3\n",
      "Horner mit Funktion: 3\n"
     ]
    }
   ],
   "source": [
    "x = 2\n",
    "P1 = 1 + 2*x + 3*x*(x-1) + 4*x*(x-1)*(x-3)\n",
    "print(\"Direkt eingesetzt: {}\".format(P1))\n",
    "P2 = 4*x**3 - 13*x**2 + 11*x + 1\n",
    "print(\"Ausmultipliziert: {}\".format(P2))\n",
    "P3 = 1 + x*(2 + (x-1)*(3 + (x-3)*4))\n",
    "print(\"Horner per Hand: {}\".format(P3))\n",
    "P4 = horner(x, [0, 1, 3], [1, 2, 3, 4])\n",
    "print(\"Horner mit Funktion: {}\".format(P4))"
   ]
  },
  {
   "cell_type": "markdown",
   "metadata": {},
   "source": [
    "### Algorithmus 5.6: Koeffizienten der Newton-Interpolation"
   ]
  },
  {
   "cell_type": "code",
   "execution_count": 8,
   "metadata": {},
   "outputs": [],
   "source": [
    "def newton_coeffs(xs, ys):\n",
    "    \"\"\"Berechnet die Koeffizienten c des Interpolationspolynoms in \n",
    "    Newton-Darstellung für die Stützstellen xs und Werte ys.\"\"\"\n",
    "    n = len(xs) - 1\n",
    "    if not len(ys) == n+1:\n",
    "        raise Exception(\"\"\"Brauche genauso viele Stützstellen wie Werte!\"\"\")\n",
    "    c = 1.*ys\n",
    "    for k in range(1, n+1):\n",
    "        for i in range(n, k-1, -1):\n",
    "            c[i] = (c[i] - c[i-1])/(xs[i] - xs[i-k])\n",
    "    return c"
   ]
  },
  {
   "cell_type": "markdown",
   "metadata": {},
   "source": [
    "Beispiel"
   ]
  },
  {
   "cell_type": "code",
   "execution_count": 9,
   "metadata": {
    "tags": []
   },
   "outputs": [
    {
     "data": {
      "image/png": "[encoded data removed]",
      "text/plain": [
       "<Figure size 432x288 with 1 Axes>"
      ]
     },
     "metadata": {
      "needs_background": "light"
     },
     "output_type": "display_data"
    }
   ],
   "source": [
    "#Wähle Daten\n",
    "xs = np.array([0, 1, 3, 4])\n",
    "ys = np.array([3, -1, 2, 0])\n",
    "#Bestimme Koeffizienten des Interpolationspolynoms in Newton-Darstellung\n",
    "c = newton_coeffs(xs, ys)\n",
    "#Werte Interpolationspolynom auf x mithilfe von Horner-Schema aus\n",
    "x = np.linspace(0, 4, 100)\n",
    "y = horner(x, xs, c)\n",
    "#Plotte Daten und Interpolationspolynom\n",
    "plt.plot(xs, ys, 'ro')\n",
    "plt.plot(x, y)\n",
    "plt.grid()\n",
    "plt.xlabel('x')\n",
    "plt.ylabel('y')\n",
    "plt.show()"
   ]
  }
 ],
 "metadata": {
  "kernelspec": {
   "display_name": "Python 3 (ipykernel)",
   "language": "python",
   "name": "python3"
  },
  "language_info": {
   "codemirror_mode": {
    "name": "ipython",
    "version": 3
   },
   "file_extension": ".py",
   "mimetype": "text/x-python",
   "name": "python",
   "nbconvert_exporter": "python",
   "pygments_lexer": "ipython3",
   "version": "3.9.7"
  },
  "latex_envs": {
   "LaTeX_envs_menu_present": true,
   "autoclose": false,
   "autocomplete": true,
   "bibliofile": "biblio.bib",
   "cite_by": "apalike",
   "current_citInitial": 1,
   "eqLabelWithNumbers": true,
   "eqNumInitial": 1,
   "hotkeys": {
    "equation": "Ctrl-E",
    "itemize": "Ctrl-I"
   },
   "labels_anchors": false,
   "latex_user_defs": false,
   "report_style_numbering": true,
   "user_envs_cfg": false
  }
 },
 "nbformat": 4,
 "nbformat_minor": 4
}
