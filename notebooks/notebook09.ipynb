{
 "cells": [
  {
   "cell_type": "markdown",
   "metadata": {},
   "source": [
    "[![Open In Binder](https://static.mybinder.org/badge_logo.svg)](https://mybinder.org/v2/gh/OleBo/MathSo/main?filepath=/notebooks/notebook09.ipynb)"
   ]
  },
  {
   "cell_type": "markdown",
   "metadata": {},
   "source": [
    "[![Open In Colab](https://colab.research.google.com/assets/colab-badge.svg)](https://colab.research.google.com/github/OleBo/MathSo/blob/main/notebooks/notebook09.ipynb)\n",
    "\n",
    "\n",
    "[browse](http://colab.research.google.com/github/OleBo/MathSo/)"
   ]
  },
  {
   "cell_type": "markdown",
   "metadata": {},
   "source": [
    "# 6. Numerische Differentiation"
   ]
  },
  {
   "cell_type": "code",
   "execution_count": 1,
   "metadata": {},
   "outputs": [],
   "source": [
    "from math import *"
   ]
  },
  {
   "cell_type": "code",
   "execution_count": 2,
   "metadata": {},
   "outputs": [],
   "source": [
    "def d1_forward(f, x, h):  \n",
    "    \"\"\"Vorwärts-Differenzenquotient für die erste Ableitung von f an der Stelle x mit Schrittweite h\"\"\"\n",
    "    return (f(x+h) - f(x))/h"
   ]
  },
  {
   "cell_type": "code",
   "execution_count": 3,
   "metadata": {},
   "outputs": [],
   "source": [
    "def d1_central(f, x, h):\n",
    "    \"\"\"Zentraler Differenzenquotient für die erste Ableitung von f an der Stelle x mit Schrittweite h\"\"\"\n",
    "    return (f(x+h) - f(x-h))/(2.*h)"
   ]
  },
  {
   "cell_type": "markdown",
   "metadata": {},
   "source": [
    "### Beispiel"
   ]
  },
  {
   "cell_type": "code",
   "execution_count": 4,
   "metadata": {},
   "outputs": [],
   "source": [
    "def f(x):\n",
    "    return exp(x)"
   ]
  },
  {
   "cell_type": "code",
   "execution_count": 5,
   "metadata": {},
   "outputs": [],
   "source": [
    "def f1(x):  #f'(x)\n",
    "    return exp(x)"
   ]
  },
  {
   "cell_type": "markdown",
   "metadata": {},
   "source": [
    "Vorwärts-Differenzenquotient"
   ]
  },
  {
   "cell_type": "code",
   "execution_count": 6,
   "metadata": {
    "tags": []
   },
   "outputs": [
    {
     "name": "stdout",
     "output_type": "stream",
     "text": [
      "h          Fehler     Faktor    \n",
      "1.000e-01  1.406e-01  0.000e+00 \n",
      "5.000e-02  6.910e-02  2.034e+00 \n",
      "2.500e-02  3.426e-02  2.017e+00 \n",
      "1.250e-02  1.706e-02  2.008e+00 \n",
      "6.250e-03  8.512e-03  2.004e+00 \n",
      "3.125e-03  4.252e-03  2.002e+00 \n",
      "1.563e-03  2.125e-03  2.001e+00 \n",
      "7.813e-04  1.062e-03  2.001e+00 \n",
      "3.906e-04  5.310e-04  2.000e+00 \n",
      "1.953e-04  2.655e-04  2.000e+00 \n",
      "9.766e-05  1.327e-04  2.000e+00 \n",
      "4.883e-05  6.637e-05  2.000e+00 \n",
      "2.441e-05  3.318e-05  2.000e+00 \n",
      "1.221e-05  1.659e-05  2.000e+00 \n",
      "6.104e-06  8.296e-06  2.000e+00 \n",
      "3.052e-06  4.148e-06  2.000e+00 \n",
      "1.526e-06  2.074e-06  2.000e+00 \n",
      "7.629e-07  1.037e-06  1.999e+00 \n",
      "3.815e-07  5.182e-07  2.002e+00 \n",
      "1.907e-07  2.597e-07  1.995e+00 \n",
      "9.537e-08  1.317e-07  1.973e+00 \n",
      "4.768e-08  6.646e-08  1.981e+00 \n",
      "2.384e-08  2.921e-08  2.275e+00 \n",
      "1.192e-08  2.921e-08  1.000e+00 \n",
      "5.960e-09  6.646e-08  4.395e-01 \n",
      "2.980e-09  6.646e-08  1.000e+00 \n",
      "1.490e-09  8.255e-08  8.051e-01 \n",
      "7.451e-10  8.255e-08  1.000e+00 \n",
      "3.725e-10  1.110e-06  7.440e-02 \n",
      "1.863e-10  2.302e-06  4.821e-01 \n",
      "9.313e-11  8.255e-08  2.788e+01 \n",
      "4.657e-11  4.686e-06  1.762e-02 \n",
      "2.328e-11  1.422e-05  3.295e-01 \n",
      "1.164e-11  3.330e-05  4.272e-01 \n",
      "5.821e-12  4.851e-06  6.864e+00 \n",
      "2.910e-12  7.144e-05  6.790e-02 \n",
      "1.455e-12  2.240e-04  3.189e-01 \n",
      "7.276e-13  2.240e-04  1.000e+00 \n",
      "3.638e-13  2.240e-04  1.000e+00 \n",
      "1.819e-13  9.967e-04  2.248e-01 \n",
      "9.095e-14  6.328e-03  1.575e-01 \n",
      "4.547e-14  6.328e-03  1.000e+00 \n",
      "2.274e-14  3.438e-03  1.840e+00 \n",
      "1.137e-14  1.609e-02  2.136e-01 \n",
      "5.684e-15  9.422e-02  1.708e-01 \n",
      "2.842e-15  9.422e-02  1.000e+00 \n",
      "1.421e-15  2.183e-01  4.316e-01 \n",
      "7.105e-16  2.183e-01  1.000e+00 \n",
      "3.553e-16  1.032e+00  2.116e-01 \n",
      "1.776e-16  2.282e+00  4.522e-01 \n"
     ]
    }
   ],
   "source": [
    "x = 1.0\n",
    "h = 0.1\n",
    "Err_old = 0\n",
    "print(\"{:10} {:10} {:10}\".format(\"h\", \"Fehler\", \"Faktor\"))\n",
    "while h > 1e-16:\n",
    "    d1 = f1(x)\n",
    "    d1f = d1_forward(f, x, h)\n",
    "    Err = abs(d1f - d1)\n",
    "    print(\"{:<10.3e} {:<10.3e} {:<10.3e}\".format(h, Err, Err_old/Err))\n",
    "    Err_old = Err\n",
    "    h *= 0.5"
   ]
  },
  {
   "cell_type": "markdown",
   "metadata": {},
   "source": [
    "Zentraler Differenzenquotient"
   ]
  },
  {
   "cell_type": "code",
   "execution_count": 7,
   "metadata": {
    "tags": []
   },
   "outputs": [
    {
     "name": "stdout",
     "output_type": "stream",
     "text": [
      "h          Fehler     Faktor    \n",
      "1.000e-01  4.533e-03  0.000e+00 \n",
      "5.000e-02  1.133e-03  4.002e+00 \n",
      "2.500e-02  2.832e-04  4.000e+00 \n",
      "1.250e-02  7.079e-05  4.000e+00 \n",
      "6.250e-03  1.770e-05  4.000e+00 \n",
      "3.125e-03  4.424e-06  4.000e+00 \n",
      "1.563e-03  1.106e-06  4.000e+00 \n",
      "7.813e-04  2.765e-07  4.000e+00 \n",
      "3.906e-04  6.913e-08  4.000e+00 \n",
      "1.953e-04  1.728e-08  4.000e+00 \n",
      "9.766e-05  4.320e-09  4.001e+00 \n",
      "4.883e-05  1.075e-09  4.018e+00 \n",
      "2.441e-05  2.702e-10  3.979e+00 \n",
      "1.221e-05  8.829e-11  3.060e+00 \n",
      "6.104e-06  3.372e-11  2.618e+00 \n",
      "3.052e-06  3.904e-11  8.637e-01 \n",
      "1.526e-06  3.904e-11  1.000e+00 \n",
      "7.629e-07  1.065e-10  3.667e-01 \n",
      "3.815e-07  4.756e-10  2.239e-01 \n",
      "1.907e-07  1.065e-10  4.467e+00 \n",
      "9.537e-08  1.058e-09  1.007e-01 \n",
      "4.768e-08  1.271e-09  8.324e-01 \n",
      "2.384e-08  1.271e-09  1.000e+00 \n",
      "1.192e-08  8.043e-09  1.580e-01 \n",
      "5.960e-09  2.921e-08  2.753e-01 \n",
      "2.980e-09  8.043e-09  3.632e+00 \n",
      "1.490e-09  8.255e-08  9.743e-02 \n",
      "7.451e-10  8.255e-08  1.000e+00 \n",
      "3.725e-10  5.135e-07  1.608e-01 \n",
      "1.863e-10  1.110e-06  4.628e-01 \n",
      "9.313e-11  8.255e-08  1.344e+01 \n",
      "4.657e-11  8.255e-08  1.000e+00 \n",
      "2.328e-11  4.686e-06  1.762e-02 \n",
      "1.164e-11  1.422e-05  3.295e-01 \n",
      "5.821e-12  4.851e-06  2.932e+00 \n",
      "2.910e-12  4.851e-06  1.000e+00 \n",
      "1.455e-12  7.144e-05  6.790e-02 \n",
      "7.276e-13  2.240e-04  3.189e-01 \n",
      "3.638e-13  2.240e-04  1.000e+00 \n",
      "1.819e-13  9.967e-04  2.248e-01 \n",
      "9.095e-14  1.445e-03  6.899e-01 \n",
      "4.547e-14  1.445e-03  1.000e+00 \n",
      "2.274e-14  3.438e-03  4.202e-01 \n",
      "1.137e-14  3.438e-03  1.000e+00 \n",
      "5.684e-15  1.609e-02  2.136e-01 \n",
      "2.842e-15  1.609e-02  1.000e+00 \n",
      "1.421e-15  6.203e-02  2.594e-01 \n",
      "7.105e-16  2.183e-01  2.842e-01 \n",
      "3.553e-16  4.067e-01  5.367e-01 \n",
      "1.776e-16  1.032e+00  3.942e-01 \n"
     ]
    }
   ],
   "source": [
    "x = 1.0\n",
    "h = 0.1\n",
    "Err_old = 0\n",
    "print(\"{:10} {:10} {:10}\".format(\"h\", \"Fehler\", \"Faktor\"))\n",
    "while h > 1e-16:\n",
    "    d1 = f1(x)\n",
    "    d1c = d1_central(f, x, h)\n",
    "    Err = abs(d1c - d1)\n",
    "    print(\"{:<10.3e} {:<10.3e} {:<10.3e}\".format(h, Err, Err_old/Err))\n",
    "    Err_old = Err\n",
    "    h *= 0.5"
   ]
  },
  {
   "cell_type": "code",
   "execution_count": null,
   "metadata": {},
   "outputs": [],
   "source": []
  }
 ],
 "metadata": {
  "kernelspec": {
   "display_name": "Python 3 (ipykernel)",
   "language": "python",
   "name": "python3"
  },
  "language_info": {
   "codemirror_mode": {
    "name": "ipython",
    "version": 3
   },
   "file_extension": ".py",
   "mimetype": "text/x-python",
   "name": "python",
   "nbconvert_exporter": "python",
   "pygments_lexer": "ipython3",
   "version": "3.9.7"
  },
  "latex_envs": {
   "LaTeX_envs_menu_present": true,
   "autoclose": false,
   "autocomplete": true,
   "bibliofile": "biblio.bib",
   "cite_by": "apalike",
   "current_citInitial": 1,
   "eqLabelWithNumbers": true,
   "eqNumInitial": 1,
   "hotkeys": {
    "equation": "Ctrl-E",
    "itemize": "Ctrl-I"
   },
   "labels_anchors": false,
   "latex_user_defs": false,
   "report_style_numbering": true,
   "user_envs_cfg": false
  }
 },
 "nbformat": 4,
 "nbformat_minor": 4
}
