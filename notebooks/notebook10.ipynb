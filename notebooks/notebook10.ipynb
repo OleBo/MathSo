{
 "cells": [
  {
   "cell_type": "markdown",
   "metadata": {},
   "source": [
    "[![Open In Binder](https://static.mybinder.org/badge_logo.svg)](https://mybinder.org/v2/gh/OleBo/MathSo/main?filepath=/notebooks/notebook10.ipynb)"
   ]
  },
  {
   "cell_type": "markdown",
   "metadata": {},
   "source": [
    "[![Open In Colab](https://colab.research.google.com/assets/colab-badge.svg)](https://colab.research.google.com/github/OleBo/MathSo/blob/main/notebooks/notebook10.ipynb)\n",
    "\n",
    "\n",
    "[browse](http://colab.research.google.com/github/OleBo/MathSo/)"
   ]
  },
  {
   "cell_type": "markdown",
   "metadata": {},
   "source": [
    "# 7. Numerische Integration"
   ]
  },
  {
   "cell_type": "code",
   "execution_count": 1,
   "metadata": {},
   "outputs": [],
   "source": [
    "from math import *\n",
    "import numpy as np\n",
    "from matplotlib import pyplot as plt"
   ]
  },
  {
   "cell_type": "markdown",
   "metadata": {},
   "source": [
    "## 7.2 Summierte Newton-Cotes-Formeln"
   ]
  },
  {
   "cell_type": "code",
   "execution_count": 2,
   "metadata": {},
   "outputs": [],
   "source": [
    "def trapezoidal(f, a, b, n):\n",
    "    \"\"\"Approximiert das Integral von f auf [a,b] nach der summierten Trapezregel mit n Teilintervallen.\"\"\"\n",
    "    h = (b-a)/n \n",
    "    x = np.linspace(a, b, n+1)\n",
    "    y = f(x)\n",
    "    return .5*h*(y[0] + 2.*np.sum(y[1:n]) + y[n])"
   ]
  },
  {
   "cell_type": "code",
   "execution_count": 3,
   "metadata": {},
   "outputs": [],
   "source": [
    "def simpson(f, a, b, n):\n",
    "    \"\"\"Approximiert das Integral von f auf [a,b] nach der summierten Simpson-Regel mit n Teilintervallen.\"\"\"\n",
    "    if not (n % 2) == 0:\n",
    "        raise Exception(\"n muss gerade sein.\")\n",
    "    h = (b-a)/n \n",
    "    x = np.linspace(a, b, n+1)\n",
    "    y = f(x)\n",
    "    return h/3.*(y[0] + 4.*np.sum(y[1:n:2]) + 2.*np.sum(y[2:n-1:2]) + y[n])"
   ]
  },
  {
   "cell_type": "markdown",
   "metadata": {},
   "source": [
    "### Beispiel"
   ]
  },
  {
   "cell_type": "markdown",
   "metadata": {},
   "source": [
    "$$I := \\int_0^{\\pi/2} e^x \\sin x \\, d x = \\frac{e^{\\pi/2} + 1}{2}$$"
   ]
  },
  {
   "cell_type": "code",
   "execution_count": 4,
   "metadata": {},
   "outputs": [],
   "source": [
    "def f(x):\n",
    "    return np.exp(x)*np.sin(x)"
   ]
  },
  {
   "cell_type": "code",
   "execution_count": 5,
   "metadata": {
    "tags": []
   },
   "outputs": [
    {
     "name": "stdout",
     "output_type": "stream",
     "text": [
      "I = 2.9052386904826757\n"
     ]
    },
    {
     "data": {
      "image/png": "[encoded data removed]",
      "text/plain": [
       "<Figure size 432x288 with 1 Axes>"
      ]
     },
     "metadata": {
      "needs_background": "light"
     },
     "output_type": "display_data"
    }
   ],
   "source": [
    "a = 0\n",
    "b = pi/2\n",
    "I = .5*(exp(.5*pi) + 1)\n",
    "x = np.linspace(a,b,100)\n",
    "plt.plot(x, f(x))\n",
    "plt.grid()\n",
    "plt.xlabel('x')\n",
    "plt.ylabel('f(x)')\n",
    "print(\"I = {}\".format(I))"
   ]
  },
  {
   "cell_type": "markdown",
   "metadata": {},
   "source": [
    "Trapezregel"
   ]
  },
  {
   "cell_type": "code",
   "execution_count": 6,
   "metadata": {
    "tags": []
   },
   "outputs": [
    {
     "name": "stdout",
     "output_type": "stream",
     "text": [
      "h          Approximation         Fehler       Konvergenzfaktor\n",
      "7.85e-01   3.1071308645409572    2.0189e-01   0.0000e+00  \n",
      "3.93e-01   2.9545892845867265    4.9351e-02   4.0910e+00  \n",
      "1.96e-01   2.9175048077965977    1.2266e-02   4.0233e+00  \n",
      "9.82e-02   2.9083007284906195    3.0620e-03   4.0059e+00  \n",
      "4.91e-02   2.9060039189585916    7.6523e-04   4.0015e+00  \n",
      "2.45e-02   2.9054299800325620    1.9129e-04   4.0004e+00  \n",
      "1.23e-02   2.9052865117720010    4.7821e-05   4.0001e+00  \n",
      "6.14e-03   2.9052506457363716    1.1955e-05   4.0000e+00  \n",
      "3.07e-03   2.9052416792918092    2.9888e-06   4.0000e+00  \n",
      "1.53e-03   2.9052394376846911    7.4720e-07   4.0000e+00  \n",
      "7.67e-04   2.9052388772831628    1.8680e-07   4.0000e+00  \n",
      "3.83e-04   2.9052387371827959    4.6700e-08   4.0000e+00  \n",
      "1.92e-04   2.9052387021577055    1.1675e-08   4.0000e+00  \n",
      "9.59e-05   2.9052386934014329    2.9188e-09   4.0000e+00  \n",
      "4.79e-05   2.9052386912123649    7.2969e-10   4.0000e+00  \n",
      "2.40e-05   2.9052386906650978    1.8242e-10   4.0000e+00  \n",
      "1.20e-05   2.9052386905282814    4.5606e-11   4.0000e+00  \n",
      "5.99e-06   2.9052386904940768    1.1401e-11   4.0001e+00  \n",
      "3.00e-06   2.9052386904855263    2.8506e-12   3.9995e+00  \n",
      "1.50e-06   2.9052386904833889    7.1321e-13   3.9969e+00  \n",
      "7.49e-07   2.9052386904828529    1.7719e-13   4.0251e+00  \n",
      "3.75e-07   2.9052386904827210    4.5297e-14   3.9118e+00  \n",
      "1.87e-07   2.9052386904826868    1.1102e-14   4.0800e+00  \n",
      "9.36e-08   2.9052386904826788    3.1086e-15   3.5714e+00  \n",
      "4.68e-08   2.9052386904826775    1.7764e-15   1.7500e+00  \n",
      "2.34e-08   2.9052386904826752    4.4409e-16   4.0000e+00  \n"
     ]
    }
   ],
   "source": [
    "n = 2\n",
    "print(\"{:10} {:21} {:12} {:12}\".format(\"h\", \"Approximation\", \"Fehler\", \"Konvergenzfaktor\"))\n",
    "Err_old = 0\n",
    "while n < 1e8:\n",
    "    T = trapezoidal(f, a, b, n)\n",
    "    Err = abs(T - I)\n",
    "    print(\"{:<10.2e} {:<21.16f} {:<12.4e} {:<12.4e}\".format((b-a)/n, T, Err, Err_old/Err))\n",
    "    Err_old = Err\n",
    "    n *= 2"
   ]
  },
  {
   "cell_type": "markdown",
   "metadata": {},
   "source": [
    "Simpson-Regel"
   ]
  },
  {
   "cell_type": "code",
   "execution_count": 7,
   "metadata": {
    "tags": []
   },
   "outputs": [
    {
     "name": "stdout",
     "output_type": "stream",
     "text": [
      "h          Approximation         Fehler       Konvergenzfaktor\n",
      "7.85e-01   2.8834611193628916    2.1778e-02   0.0000e+00  \n",
      "3.93e-01   2.9037420912686494    1.4966e-03   1.4551e+01  \n",
      "1.96e-01   2.9051433155332211    9.5375e-05   1.5692e+01  \n",
      "9.82e-02   2.9052327020552928    5.9884e-06   1.5927e+01  \n",
      "4.91e-02   2.9052383157812485    3.7470e-07   1.5982e+01  \n",
      "2.45e-02   2.9052386670572186    2.3425e-08   1.5995e+01  \n",
      "1.23e-02   2.9052386890184807    1.4642e-09   1.5999e+01  \n",
      "6.14e-03   2.9052386903911613    9.1514e-11   1.6000e+01  \n",
      "3.07e-03   2.9052386904769558    5.7199e-12   1.5999e+01  \n",
      "1.53e-03   2.9052386904823178    3.5794e-13   1.5980e+01  \n",
      "7.67e-04   2.9052386904826526    2.3093e-14   1.5500e+01  \n",
      "3.83e-04   2.9052386904826735    2.2204e-15   1.0400e+01  \n",
      "1.92e-04   2.9052386904826757    0.0000e+00   inf         \n"
     ]
    },
    {
     "name": "stderr",
     "output_type": "stream",
     "text": [
      "/var/folders/q3/x4m21yzx5zg2bqzxxrmym06m0000gn/T/ipykernel_19670/2838051654.py:7: RuntimeWarning: divide by zero encountered in double_scalars\n",
      "  print(\"{:<10.2e} {:<21.16f} {:<12.4e} {:<12.4e}\".format((b-a)/n, S, Err, Err_old/Err))\n"
     ]
    }
   ],
   "source": [
    "n = 2\n",
    "print(\"{:10} {:21} {:12} {:12}\".format(\"h\", \"Approximation\", \"Fehler\", \"Konvergenzfaktor\"))\n",
    "Err_old = 0\n",
    "while n < 1e4:\n",
    "    S = simpson(f, a, b, n)\n",
    "    Err = abs(S - I)\n",
    "    print(\"{:<10.2e} {:<21.16f} {:<12.4e} {:<12.4e}\".format((b-a)/n, S, Err, Err_old/Err))\n",
    "    Err_old = Err\n",
    "    n *= 2"
   ]
  }
 ],
 "metadata": {
  "kernelspec": {
   "display_name": "Python 3 (ipykernel)",
   "language": "python",
   "name": "python3"
  },
  "language_info": {
   "codemirror_mode": {
    "name": "ipython",
    "version": 3
   },
   "file_extension": ".py",
   "mimetype": "text/x-python",
   "name": "python",
   "nbconvert_exporter": "python",
   "pygments_lexer": "ipython3",
   "version": "3.9.7"
  },
  "latex_envs": {
   "LaTeX_envs_menu_present": true,
   "autoclose": false,
   "autocomplete": true,
   "bibliofile": "biblio.bib",
   "cite_by": "apalike",
   "current_citInitial": 1,
   "eqLabelWithNumbers": true,
   "eqNumInitial": 1,
   "hotkeys": {
    "equation": "Ctrl-E",
    "itemize": "Ctrl-I"
   },
   "labels_anchors": false,
   "latex_user_defs": false,
   "report_style_numbering": true,
   "user_envs_cfg": false
  }
 },
 "nbformat": 4,
 "nbformat_minor": 4
}
