{
 "cells": [
  {
   "cell_type": "markdown",
   "metadata": {},
   "source": [
    "[![Open In Binder](https://static.mybinder.org/badge_logo.svg)](https://mybinder.org/v2/gh/OleBo/MathSo/main?filepath=/notebooks/notebook11.ipynb)"
   ]
  },
  {
   "cell_type": "markdown",
   "metadata": {},
   "source": [
    "[![Open In Colab](https://colab.research.google.com/assets/colab-badge.svg)](https://colab.research.google.com/github/OleBo/MathSo/blob/main/notebooks/notebook11.ipynb)\n",
    "\n",
    "\n",
    "[browse](http://colab.research.google.com/github/OleBo/MathSo/)"
   ]
  },
  {
   "cell_type": "code",
   "execution_count": 1,
   "metadata": {},
   "outputs": [],
   "source": [
    "from math import *\n",
    "import numpy as np"
   ]
  },
  {
   "cell_type": "markdown",
   "metadata": {},
   "source": [
    "## 7.3 Romberg-Verfahren"
   ]
  },
  {
   "cell_type": "code",
   "execution_count": 2,
   "metadata": {},
   "outputs": [],
   "source": [
    "def romberg(f, a, b, m):\n",
    "    \"\"\"Approximiert das Integral von f auf [a,b] nach dem Romberg-Verfahren mit m Schritten und gibt den letzten Eintrag T_mm des Neville-Aitken-Schemas zurück.\"\"\"\n",
    "    T = np.zeros((m+1,m+1))     #Neville-Aitken-Matrix\n",
    "    h = b - a               #aktuelle Schrittweite\n",
    "    n = 1                   #aktuelle Zahl der Stützstellen\n",
    "    s = .5*(f(a) + f(b))    #aktuelle Trapezregel\n",
    "    T[0,0] = h*s\n",
    "    for k in range(1, m+1):\n",
    "        n *= 2\n",
    "        h *= .5\n",
    "        s += np.sum([f(a + i*h) for i in range(1, n, 2)])  #addiere nur neue Stützwerte\n",
    "        T[k,0] = h*s\n",
    "        p4 = 1  #Viererpotenz in Neville-Aitken-Rekursion\n",
    "        for j in range(1, k+1):\n",
    "            p4 *= 4\n",
    "            T[k,j] = (p4*T[k,j-1] - T[k-1,j-1])/(p4 - 1)\n",
    "    return T[m,m]"
   ]
  },
  {
   "cell_type": "markdown",
   "metadata": {},
   "source": [
    "### Beispiel"
   ]
  },
  {
   "cell_type": "markdown",
   "metadata": {},
   "source": [
    "$$I := \\int_0^{\\pi/2} e^x \\sin x \\, d x = \\frac{e^{\\pi/2} + 1}{2}$$"
   ]
  },
  {
   "cell_type": "code",
   "execution_count": 3,
   "metadata": {
    "tags": []
   },
   "outputs": [],
   "source": [
    "def f(x):\n",
    "    return np.exp(x)*np.sin(x)\n",
    "\n",
    "a = 0\n",
    "b = pi/2\n",
    "I = .5*(exp(.5*pi) + 1)"
   ]
  },
  {
   "cell_type": "markdown",
   "metadata": {},
   "source": [
    "Aus notebook10.ipynb:"
   ]
  },
  {
   "cell_type": "code",
   "execution_count": 4,
   "metadata": {},
   "outputs": [],
   "source": [
    "def simpson(f, a, b, n):\n",
    "    \"\"\"Approximiert das Integral von f auf [a,b] nach der summierten Simpson-Regel mit n Teilintervallen.\"\"\"\n",
    "    if not (n % 2) == 0:\n",
    "        raise Exception(\"n muss gerade sein.\")\n",
    "    h = (b-a)/n \n",
    "    x = np.linspace(a, b, n+1)\n",
    "    y = f(x)\n",
    "    return h/3.*(y[0] + 4.*np.sum(y[1:n:2]) + 2.*np.sum(y[2:n-1:2]) + y[n])"
   ]
  },
  {
   "cell_type": "markdown",
   "metadata": {},
   "source": [
    "Romberg $T_{11}$ und Simpson mit $n=2$ sind identisch:"
   ]
  },
  {
   "cell_type": "code",
   "execution_count": 5,
   "metadata": {
    "tags": []
   },
   "outputs": [
    {
     "name": "stdout",
     "output_type": "stream",
     "text": [
      "Romberg T_11:  2.8834611193628916\n",
      "Simpson n=2:   2.8834611193628916\n"
     ]
    }
   ],
   "source": [
    "print(\"Romberg T_11: \", romberg(f, a, b, 1))\n",
    "print(\"Simpson n=2:  \", simpson(f, a, b, 2))"
   ]
  },
  {
   "cell_type": "markdown",
   "metadata": {},
   "source": [
    "Konvergenztest"
   ]
  },
  {
   "cell_type": "code",
   "execution_count": 6,
   "metadata": {
    "tags": []
   },
   "outputs": [
    {
     "name": "stdout",
     "output_type": "stream",
     "text": [
      "m    |T_mm - I|\n",
      "0    8.7290e-01\n",
      "1    2.1778e-02\n",
      "2    1.4453e-04\n",
      "3    3.0309e-07\n",
      "4    1.3628e-10\n",
      "5    1.8208e-14\n",
      "6    4.4409e-16\n"
     ]
    }
   ],
   "source": [
    "print(\"{:4} {}\".format(\"m\", \"|T_mm - I|\"))\n",
    "for m in range(0,7):\n",
    "    Err = abs(romberg(f, a, b, m) - I)\n",
    "    print(\"{:<4} {:<.4e}\".format(m, Err))"
   ]
  }
 ],
 "metadata": {
  "kernelspec": {
   "display_name": "Python 3 (ipykernel)",
   "language": "python",
   "name": "python3"
  },
  "language_info": {
   "codemirror_mode": {
    "name": "ipython",
    "version": 3
   },
   "file_extension": ".py",
   "mimetype": "text/x-python",
   "name": "python",
   "nbconvert_exporter": "python",
   "pygments_lexer": "ipython3",
   "version": "3.9.7"
  },
  "latex_envs": {
   "LaTeX_envs_menu_present": true,
   "autoclose": false,
   "autocomplete": true,
   "bibliofile": "biblio.bib",
   "cite_by": "apalike",
   "current_citInitial": 1,
   "eqLabelWithNumbers": true,
   "eqNumInitial": 1,
   "hotkeys": {
    "equation": "Ctrl-E",
    "itemize": "Ctrl-I"
   },
   "labels_anchors": false,
   "latex_user_defs": false,
   "report_style_numbering": true,
   "user_envs_cfg": false
  }
 },
 "nbformat": 4,
 "nbformat_minor": 4
}
