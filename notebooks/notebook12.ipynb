{
 "cells": [
  {
   "cell_type": "markdown",
   "metadata": {},
   "source": [
    "[![Open In Binder](https://static.mybinder.org/badge_logo.svg)](https://mybinder.org/v2/gh/OleBo/MathSo/main?filepath=/notebooks/notebook12.ipynb)"
   ]
  },
  {
   "cell_type": "markdown",
   "metadata": {},
   "source": [
    "[![Open In Colab](https://colab.research.google.com/assets/colab-badge.svg)](https://colab.research.google.com/github/OleBo/MathSo/blob/main/notebooks/notebook12.ipynb)\n",
    "\n",
    "\n",
    "[browse](http://colab.research.google.com/github/OleBo/MathSo/)"
   ]
  },
  {
   "cell_type": "markdown",
   "metadata": {},
   "source": [
    "# 8. Lineare Gleichungssysteme: Iterative Verfahren\n",
    "## 8.1 Relaxationsverfahren"
   ]
  },
  {
   "cell_type": "code",
   "execution_count": 1,
   "metadata": {},
   "outputs": [],
   "source": [
    "import numpy as np"
   ]
  },
  {
   "cell_type": "code",
   "execution_count": 2,
   "metadata": {},
   "outputs": [],
   "source": [
    "def jor(A, b, omega, x0, tol, maxits=1000, verbose=False, exact=None):\n",
    "    \"\"\"Löst das LGS Ax=b mithilfe der JOR-Iteration mit Startvektor x0 und Relaxationsparameter omega. \n",
    "    Bricht ab, wenn die 2-Norm des Residuums kleiner als tol ist. Optional kann die exakte Lösung übergeben\n",
    "    werden, dann wird bei verbose=True auch die 2-Norm des Fehlers ausgegeben.\n",
    "    Vektoren werden hier als Zeilenvektoren behandelt.\"\"\"\n",
    "    n = len(x0)\n",
    "    x = x0.copy()\n",
    "    res = np.infty\n",
    "    k = 1\n",
    "    while k <= maxits and res > tol:\n",
    "        xnew = (1. - omega)*x\n",
    "        for i in range(n):\n",
    "            xnew[i] += omega*b[i]/A[i,i]\n",
    "            noti = [j for j in range(i)] + [j for j in range(i+1, n)]\n",
    "            for j in noti:\n",
    "                xnew[i] -= omega*A[i,j]*x[j]/A[i,i]\n",
    "        x = xnew\n",
    "        res = np.linalg.norm(x.dot(A.T) - b)  #beachte x, b sind Zeilenvektoren, (A x^T)^T = x A^T \n",
    "        if verbose:\n",
    "            if exact is not None:\n",
    "                err = np.linalg.norm(x - exact)\n",
    "            else:\n",
    "                err = 0.\n",
    "            print(\"k = {:3d}, res = {:.2e}, err = {:.2e}\".format(k, res, err))\n",
    "        k += 1\n",
    "    return x"
   ]
  },
  {
   "cell_type": "code",
   "execution_count": 3,
   "metadata": {},
   "outputs": [],
   "source": [
    "def sor(A, b, omega, x0, tol, maxits=1000, verbose=False, exact=None):\n",
    "    \"\"\"Löst das LGS Ax=b mithilfe der SOR-Iteration mit Startvektor x0 und Relaxationsparameter omega. \n",
    "    Bricht ab, wenn die 2-Norm des Residuums kleiner als tol ist. Optional kann die exakte Lösung übergeben\n",
    "    werden, dann wird bei verbose=True auch die 2-Norm des Fehlers ausgegeben.\n",
    "    Vektoren werden hier als Zeilenvektoren behandelt.\"\"\"\n",
    "    n = len(x0)\n",
    "    x = x0.copy()\n",
    "    res = np.infty\n",
    "    k = 1\n",
    "    while k <= maxits and res > tol:\n",
    "        for i in range(n):\n",
    "            xnewi = (1. - omega)*x[i] + omega*b[i]/A[i,i]\n",
    "            noti = [j for j in range(i)] + [j for j in range(i+1, n)]\n",
    "            for j in noti:\n",
    "                xnewi -= omega*A[i,j]*x[j]/A[i,i]  #verwendet für j<i bereits die aktualisierten x[j]\n",
    "            x[i] = xnewi\n",
    "        res = np.linalg.norm(x.dot(A.T) - b)  #beachte x, b sind Zeilenvektoren, (A x^T)^T = x A^T \n",
    "        if verbose:\n",
    "            if exact is not None:\n",
    "                err = np.linalg.norm(x - exact)\n",
    "            else:\n",
    "                err = 0.\n",
    "            print(\"k = {:3d}, res = {:.2e}, err = {:.2e}\".format(k, res, err))\n",
    "        k += 1\n",
    "    return x"
   ]
  },
  {
   "cell_type": "markdown",
   "metadata": {},
   "source": [
    "### Beispiel"
   ]
  },
  {
   "cell_type": "code",
   "execution_count": 4,
   "metadata": {},
   "outputs": [
    {
     "name": "stdout",
     "output_type": "stream",
     "text": [
      "k =   1, res = 4.49e+00, err = 0.00e+00\n",
      "k =   2, res = 3.02e+00, err = 0.00e+00\n",
      "k =   3, res = 2.08e+00, err = 0.00e+00\n",
      "k =   4, res = 1.43e+00, err = 0.00e+00\n",
      "k =   5, res = 9.88e-01, err = 0.00e+00\n",
      "k =   6, res = 6.81e-01, err = 0.00e+00\n",
      "k =   7, res = 4.70e-01, err = 0.00e+00\n",
      "k =   8, res = 3.24e-01, err = 0.00e+00\n",
      "k =   9, res = 2.23e-01, err = 0.00e+00\n",
      "k =  10, res = 1.54e-01, err = 0.00e+00\n",
      "k =  11, res = 1.06e-01, err = 0.00e+00\n",
      "k =  12, res = 7.32e-02, err = 0.00e+00\n",
      "k =  13, res = 5.05e-02, err = 0.00e+00\n",
      "k =  14, res = 3.48e-02, err = 0.00e+00\n",
      "k =  15, res = 2.40e-02, err = 0.00e+00\n",
      "k =  16, res = 1.65e-02, err = 0.00e+00\n",
      "k =  17, res = 1.14e-02, err = 0.00e+00\n",
      "k =  18, res = 7.86e-03, err = 0.00e+00\n",
      "k =  19, res = 5.42e-03, err = 0.00e+00\n",
      "k =  20, res = 3.74e-03, err = 0.00e+00\n",
      "k =  21, res = 2.58e-03, err = 0.00e+00\n",
      "k =  22, res = 1.78e-03, err = 0.00e+00\n",
      "k =  23, res = 1.22e-03, err = 0.00e+00\n",
      "k =  24, res = 8.44e-04, err = 0.00e+00\n",
      "k =  25, res = 5.82e-04, err = 0.00e+00\n",
      "k =  26, res = 4.01e-04, err = 0.00e+00\n",
      "k =  27, res = 2.77e-04, err = 0.00e+00\n",
      "k =  28, res = 1.91e-04, err = 0.00e+00\n",
      "k =  29, res = 1.32e-04, err = 0.00e+00\n",
      "k =  30, res = 9.07e-05, err = 0.00e+00\n",
      "k =  31, res = 6.25e-05, err = 0.00e+00\n",
      "k =  32, res = 4.31e-05, err = 0.00e+00\n",
      "k =  33, res = 2.97e-05, err = 0.00e+00\n",
      "k =  34, res = 2.05e-05, err = 0.00e+00\n",
      "k =  35, res = 1.41e-05, err = 0.00e+00\n",
      "k =  36, res = 9.74e-06, err = 0.00e+00\n",
      "k =  37, res = 6.72e-06, err = 0.00e+00\n",
      "k =  38, res = 4.63e-06, err = 0.00e+00\n",
      "k =  39, res = 3.19e-06, err = 0.00e+00\n",
      "k =  40, res = 2.20e-06, err = 0.00e+00\n",
      "k =  41, res = 1.52e-06, err = 0.00e+00\n",
      "k =  42, res = 1.05e-06, err = 0.00e+00\n",
      "k =  43, res = 7.21e-07, err = 0.00e+00\n",
      "x = [2.56488539 4.12595413 0.13358775 0.96946545 0.49236639]\n"
     ]
    }
   ],
   "source": [
    "A = np.array([[4., -1., -1., 0, 0], [-1., 4., 0, -2., 0], [-1., 0, 4., -1., 0], [0, -2., -1., 4., -1.], [0, 0, 0, -1., 4.]])\n",
    "b = np.array([6., 12., -3., -5., 1.])\n",
    "x0 = np.array([1., 1., 1., 1., 1.])\n",
    "tol = 1e-6\n",
    "#Jacobi-Verfahren\n",
    "omega = 1\n",
    "x = jor(A, b, omega, x0, tol, verbose=True)\n",
    "print(\"x = {}\".format(x))"
   ]
  },
  {
   "cell_type": "code",
   "execution_count": 5,
   "metadata": {},
   "outputs": [
    {
     "name": "stdout",
     "output_type": "stream",
     "text": [
      "k =   1, res = 2.06e+00, err = 0.00e+00\n",
      "k =   2, res = 2.60e-01, err = 0.00e+00\n",
      "k =   3, res = 7.81e-03, err = 0.00e+00\n",
      "k =   4, res = 1.28e-03, err = 0.00e+00\n",
      "k =   5, res = 5.72e-04, err = 0.00e+00\n",
      "k =   6, res = 2.71e-04, err = 0.00e+00\n",
      "k =   7, res = 1.29e-04, err = 0.00e+00\n",
      "k =   8, res = 6.12e-05, err = 0.00e+00\n",
      "k =   9, res = 2.91e-05, err = 0.00e+00\n",
      "k =  10, res = 1.38e-05, err = 0.00e+00\n",
      "k =  11, res = 6.58e-06, err = 0.00e+00\n",
      "k =  12, res = 3.13e-06, err = 0.00e+00\n",
      "k =  13, res = 1.49e-06, err = 0.00e+00\n",
      "k =  14, res = 7.07e-07, err = 0.00e+00\n",
      "x = [2.56488526 4.12595392 0.13358762 0.96946544 0.49236636]\n"
     ]
    }
   ],
   "source": [
    "#Gauss-Seidel-Verfahren\n",
    "omega = 1.\n",
    "x = sor(A, b, omega, x0, tol, verbose=True)\n",
    "print(\"x = {}\".format(x))"
   ]
  },
  {
   "cell_type": "code",
   "execution_count": null,
   "metadata": {},
   "outputs": [],
   "source": []
  }
 ],
 "metadata": {
  "kernelspec": {
   "display_name": "Python 3 (ipykernel)",
   "language": "python",
   "name": "python3"
  },
  "language_info": {
   "codemirror_mode": {
    "name": "ipython",
    "version": 3
   },
   "file_extension": ".py",
   "mimetype": "text/x-python",
   "name": "python",
   "nbconvert_exporter": "python",
   "pygments_lexer": "ipython3",
   "version": "3.9.7"
  },
  "latex_envs": {
   "LaTeX_envs_menu_present": true,
   "autoclose": false,
   "autocomplete": true,
   "bibliofile": "biblio.bib",
   "cite_by": "apalike",
   "current_citInitial": 1,
   "eqLabelWithNumbers": true,
   "eqNumInitial": 1,
   "hotkeys": {
    "equation": "Ctrl-E",
    "itemize": "Ctrl-I"
   },
   "labels_anchors": false,
   "latex_user_defs": false,
   "report_style_numbering": true,
   "user_envs_cfg": false
  }
 },
 "nbformat": 4,
 "nbformat_minor": 4
}
