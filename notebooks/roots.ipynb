{
 "cells": [
  {
   "cell_type": "markdown",
   "id": "376dd517",
   "metadata": {},
   "source": [
    "[![Open In Binder](https://static.mybinder.org/badge_logo.svg)](https://mybinder.org/v2/gh/OleBo/MathSo/main?filepath=/notebooks/roots.ipynb)"
   ]
  },
  {
   "cell_type": "markdown",
   "id": "1e0aab6b",
   "metadata": {},
   "source": [
    "[![Open In Colab](https://colab.research.google.com/assets/colab-badge.svg)](https://colab.research.google.com/github/OleBo/MathSo/blob/main/notebooks/roots.ipynb)\n",
    "\n",
    "\n",
    "[browse](http://colab.research.google.com/github/OleBo/MathSo/)"
   ]
  },
  {
   "cell_type": "markdown",
   "id": "f29b3e89",
   "metadata": {},
   "source": [
    "# Root finding"
   ]
  },
  {
   "cell_type": "code",
   "execution_count": 1,
   "id": "6d2c0067",
   "metadata": {},
   "outputs": [],
   "source": [
    "import matplotlib.pyplot as plt\n",
    "import numpy as np\n",
    "from scipy import optimize"
   ]
  },
  {
   "cell_type": "markdown",
   "id": "6d13543d",
   "metadata": {},
   "source": [
    "## Bisection Method\n",
    "\n",
    "The first step is always to lay out a structure plan of the algorithm.\n",
    "\n",
    "**Input arguments:** function $f$ (handle), initial interval $[a, b]$, precision tol, maximum number of iterations nmax (optional).\n",
    "\n",
    "**Termination criterion:** $|a_n - b_n| < tol$"
   ]
  },
  {
   "cell_type": "code",
   "execution_count": 2,
   "id": "99451c05",
   "metadata": {},
   "outputs": [],
   "source": [
    "def bisection(f, a, b, tol, nmax=1000):\n",
    "    \"\"\"\n",
    "    Implements the bisection method to find a root of the function f\n",
    "    in the interval [a, b] with precision tol.\n",
    "    Optionally, the number of iterations may be limited to nmax.\n",
    "    Returns the root approximation and the number of iterations needed.\n",
    "    \"\"\"\n",
    "    if f(a)*f(b) > 0:\n",
    "        raise Exception('Not a suitable initial interval')\n",
    "    n = 0\n",
    "    while (abs(a - b) > tol) & (n < nmax):\n",
    "        n = n + 1\n",
    "        c = (a + b)/2\n",
    "        if f(c)*f(a) > 0:\n",
    "            a = c\n",
    "        else:\n",
    "            b = c\n",
    "    return (a + b)/2, n  # Return the midpoint of the last interval"
   ]
  },
  {
   "cell_type": "markdown",
   "id": "f0010f1e",
   "metadata": {},
   "source": [
    "Here's a test case:"
   ]
  },
  {
   "cell_type": "code",
   "execution_count": 3,
   "id": "dd0aa68f",
   "metadata": {},
   "outputs": [],
   "source": [
    "f1 = lambda x: 2*x - np.tan(x)"
   ]
  },
  {
   "cell_type": "code",
   "execution_count": 4,
   "id": "3e1c5f1e",
   "metadata": {},
   "outputs": [
    {
     "data": {
      "image/png": "[encoded data removed]",
      "text/plain": [
       "<Figure size 432x288 with 1 Axes>"
      ]
     },
     "metadata": {
      "needs_background": "light"
     },
     "output_type": "display_data"
    }
   ],
   "source": [
    "x = np.linspace(1, 1.3, 200)\n",
    "x0, _ = bisection(f1, .5, 1.5, 1e-6)\n",
    "fig, ax = plt.subplots()\n",
    "ax.plot(x, f1(x))\n",
    "ax.scatter(x0,0)\n",
    "plt.show()"
   ]
  },
  {
   "cell_type": "markdown",
   "id": "c20b5785",
   "metadata": {},
   "source": [
    "The bisection method does not always work, e.g. for a function with  $f(x) \\geq 0 \\;\\forall \\;x\\in\\mathbf{R}$ and $f(0) = 0,$ e.g. $f(x) = x^2$."
   ]
  },
  {
   "cell_type": "markdown",
   "id": "f2be241e",
   "metadata": {},
   "source": [
    "## Newton's method\n",
    "\n",
    "**Input arguments:** function $f$ (handle), initial value $x_0$, precision tol, derivative df (handle, optional), maximum number of iterations nmax (optional). \n",
    "\n",
    "If not supplied, the derivative should be approximated numerically using a difference quotient.\n",
    "\n",
    "**Termination criterion:** $|x_n - x_{n-1}| < tol$. Other criteria are possible, e.g. the relative error $\\frac{|x_n - x_{n-1}|}{|x_n|}$ or the size of the function value $|f(x_n)|$.\n"
   ]
  },
  {
   "cell_type": "code",
   "execution_count": 5,
   "id": "2b70bba6",
   "metadata": {},
   "outputs": [],
   "source": [
    "def newton(f, x0, tol, df=None, nmax=100):\n",
    "    \"\"\"\n",
    "    Implements Newton's method to find a root of the real function f\n",
    "    with initial guess x0 and (absolute) error tolerance tol.\n",
    "    \n",
    "    Optionally, the derivative df of f may be passed, otherwise this will\n",
    "    be approximated using a difference quotient.\n",
    "    A further optional parameter is the maximum number of iterations, nmax\n",
    "    \n",
    "    Returns the approximation to the root and the number of iterations needed.\n",
    "    \"\"\"\n",
    "    x = x0\n",
    "    dx = np.inf \n",
    "    n = 0\n",
    "    while (abs(dx) > tol) & (n <= nmax): \n",
    "        n = n + 1\n",
    "        if df is None:\n",
    "            h = x*1e-8\n",
    "            dfx = (f(x + h) - f(x))/h\n",
    "        else:\n",
    "            dfx = df(x);\n",
    "        dx = -f(x)/dfx;\n",
    "        x = x + dx;\n",
    "        print(f'n={n}, x={x}, f(x)={f(x)}')\n",
    "    return x, n"
   ]
  },
  {
   "cell_type": "code",
   "execution_count": 6,
   "id": "32eb5ca3",
   "metadata": {},
   "outputs": [],
   "source": [
    "f1 = lambda x: 2*x - np.tan(x)\n",
    "df1 = lambda x: 1 - np.tan(x)**2 # df1/dx"
   ]
  },
  {
   "cell_type": "code",
   "execution_count": 7,
   "id": "2dcbf007",
   "metadata": {},
   "outputs": [
    {
     "name": "stdout",
     "output_type": "stream",
     "text": [
      "n=1, x=1.3104780300916217, f(x)=-1.133327685248926\n",
      "n=2, x=1.2239290964998213, f(x)=-0.31852867701817456\n",
      "n=3, x=1.1760509000038353, f(x)=-0.0482071179322201\n",
      "n=4, x=1.1659265083113626, f(x)=-0.0016218942442924877\n",
      "n=5, x=1.1655616363485986, f(x)=-2.000423291459441e-06\n",
      "n=6, x=1.1655611852078998, f(x)=-3.0526692285093304e-12\n"
     ]
    },
    {
     "data": {
      "image/png": "[encoded data removed]",
      "text/plain": [
       "<Figure size 432x288 with 1 Axes>"
      ]
     },
     "metadata": {
      "needs_background": "light"
     },
     "output_type": "display_data"
    }
   ],
   "source": [
    "x = np.linspace(0, 1.3, 200)\n",
    "x0, _ = newton(f1, 1, 1e-6, df1)\n",
    "fig, ax = plt.subplots()\n",
    "ax.plot(x, f1(x))\n",
    "ax.scatter(x0,0)\n",
    "plt.show()"
   ]
  },
  {
   "cell_type": "markdown",
   "id": "e2fe262b",
   "metadata": {},
   "source": [
    "### Convergence of Newton's method\n",
    "\n",
    "The convergence of Newton's method depends on the initial value:"
   ]
  },
  {
   "cell_type": "code",
   "execution_count": 8,
   "id": "a1832390",
   "metadata": {},
   "outputs": [
    {
     "name": "stdout",
     "output_type": "stream",
     "text": [
      "n=1, x=1.3104780300916217, f(x)=-1.133327685248926\n",
      "n=2, x=1.2239290964998213, f(x)=-0.31852867701817456\n",
      "n=3, x=1.1760509000038353, f(x)=-0.0482071179322201\n",
      "n=4, x=1.1659265083113626, f(x)=-0.0016218942442924877\n",
      "n=5, x=1.1655616363485986, f(x)=-2.000423291459441e-06\n",
      "n=6, x=1.1655611852078998, f(x)=-3.0526692285093304e-12\n"
     ]
    },
    {
     "data": {
      "text/plain": [
       "(1.1655611852078998, 6)"
      ]
     },
     "execution_count": 8,
     "metadata": {},
     "output_type": "execute_result"
    }
   ],
   "source": [
    "newton(f1, 1, 1e-6, df1)     # convergence to the desired root"
   ]
  },
  {
   "cell_type": "code",
   "execution_count": 9,
   "id": "76d1d9a4",
   "metadata": {},
   "outputs": [
    {
     "name": "stdout",
     "output_type": "stream",
     "text": [
      "n=1, x=-0.1467039965130117, f(x)=-0.14564239893582218\n",
      "n=2, x=0.0021894416284372054, f(x)=0.00218943812995482\n",
      "n=3, x=-6.997011727828684e-09, f(x)=-6.997011727828684e-09\n",
      "n=4, x=0.0, f(x)=0.0\n"
     ]
    },
    {
     "data": {
      "text/plain": [
       "(0.0, 4)"
      ]
     },
     "execution_count": 9,
     "metadata": {},
     "output_type": "execute_result"
    }
   ],
   "source": [
    "newton(f1, 0.5, 1e-6, df1)   # convergence to the other root x=0"
   ]
  },
  {
   "cell_type": "code",
   "execution_count": 10,
   "id": "2d5fe457",
   "metadata": {},
   "outputs": [
    {
     "name": "stdout",
     "output_type": "stream",
     "text": [
      "n=1, x=10.281442120236282, f(x)=19.409134760545374\n",
      "n=2, x=68.89489881764426, f(x)=138.01356360156728\n",
      "n=3, x=-76.39342670228335, f(x)=-151.2457561106143\n",
      "n=4, x=-186.39187066143634, f(x)=-371.0882764607345\n",
      "n=5, x=-384.3477326894354, f(x)=-766.8534684463111\n",
      "n=6, x=-704.8110116282344, f(x)=-1407.6848639843618\n",
      "n=7, x=-1216.2155020638934, f(x)=-2431.985456551073\n",
      "n=8, x=1818.1248847936622, f(x)=3637.404912825623\n",
      "n=9, x=12696.966568440681, f(x)=25398.40798381774\n",
      "n=10, x=14032.020574232858, f(x)=28074.31946213341\n",
      "n=11, x=14300.305343567756, f(x)=28600.838947546305\n",
      "n=12, x=-15872.628392500696, f(x)=-31741.622177856683\n",
      "n=13, x=-18472.191266267128, f(x)=-36944.7744702179\n",
      "n=14, x=25177.89814263472, f(x)=50353.40563996421\n",
      "n=15, x=35856.886539094165, f(x)=71716.80297613061\n",
      "n=16, x=44623.92012096489, f(x)=89246.93068641995\n",
      "n=17, x=-472124.17751712113, f(x)=-944249.1146859836\n",
      "n=18, x=1760516.7549991217, f(x)=3521033.877460665\n",
      "n=19, x=-2310177.3800738826, f(x)=-4620353.393579664\n",
      "n=20, x=-7636181.73885769, f(x)=-15272363.006481204\n",
      "n=21, x=11995660.51216954, f(x)=23991319.304851998\n",
      "n=22, x=24257175.384470616, f(x)=48514351.86259285\n",
      "n=23, x=271686115.8773567, f(x)=543372234.2205316\n",
      "n=24, x=378643696.8464029, f(x)=757287393.5428215\n",
      "n=25, x=-396071120.8636265, f(x)=-792142238.5553257\n",
      "n=26, x=-483493212.09762573, f(x)=-966986422.6891321\n",
      "n=27, x=-1245862975.9083705, f(x)=-2491725951.619487\n",
      "n=28, x=1346739219.6075368, f(x)=2693478440.4833865\n",
      "n=29, x=5772309365.428492, f(x)=11544618730.434752\n",
      "n=30, x=-8277008459.442186, f(x)=-16554016920.608307\n",
      "n=31, x=-16671768394.988056, f(x)=-33343536788.677116\n",
      "n=32, x=-65179322163.06088, f(x)=-130358644325.05328\n",
      "n=33, x=-985462537069.4696, f(x)=-1970925074139.026\n",
      "n=34, x=1000396585982.142, f(x)=2000793171966.6277\n",
      "n=35, x=1445690489941.2107, f(x)=2891380979881.807\n",
      "n=36, x=-3198158188217.46, f(x)=-6396316376433.869\n",
      "n=37, x=-64748133157260.07, f(x)=-129496266314517.7\n",
      "n=38, x=-91038800363280.56, f(x)=-182077600726562.75\n",
      "n=39, x=-204810314049641.38, f(x)=-409620628099283.6\n",
      "n=40, x=1669490068239072.5, f(x)=3338980136478144.5\n",
      "n=41, x=-1969393571846791.5, f(x)=-3938787143693582.5\n",
      "n=42, x=4559895885120542.0, f(x)=9119791770241084.0\n",
      "n=43, x=-7572146169824590.0, f(x)=-1.5144292339649182e+16\n",
      "n=44, x=-3.237796092296464e+16, f(x)=-6.47559218459293e+16\n",
      "n=45, x=-3.267527316422639e+16, f(x)=-6.535054632845281e+16\n",
      "n=46, x=-3.27887411409252e+16, f(x)=-6.55774822818504e+16\n",
      "n=47, x=4.047299572228642e+16, f(x)=8.094599144457283e+16\n",
      "n=48, x=-1.3289506523040565e+17, f(x)=-2.657901304608113e+17\n",
      "n=49, x=2.7155996651999923e+17, f(x)=5.4311993303999846e+17\n",
      "n=50, x=-4.035217675204828e+17, f(x)=-8.070435350409656e+17\n",
      "n=51, x=-4.175588243378893e+17, f(x)=-8.351176486757786e+17\n",
      "n=52, x=4.62851976140149e+17, f(x)=9.25703952280298e+17\n",
      "n=53, x=-1.1474015308325688e+18, f(x)=-2.2948030616651377e+18\n",
      "n=54, x=1.610040741109547e+18, f(x)=3.220081482219094e+18\n",
      "n=55, x=2.5222105512765763e+18, f(x)=5.044421102553153e+18\n",
      "n=56, x=2.5228446376833833e+18, f(x)=5.045689275366767e+18\n",
      "n=57, x=-6.783224088412478e+18, f(x)=-1.3566448176824957e+19\n",
      "n=58, x=-2.8521704755499493e+20, f(x)=-5.7043409510998986e+20\n",
      "n=59, x=3.230005575458047e+20, f(x)=6.460011150916095e+20\n",
      "n=60, x=7.762767803970929e+20, f(x)=1.5525535607941859e+21\n",
      "n=61, x=1.149527129461084e+21, f(x)=2.299054258922168e+21\n",
      "n=62, x=1.937229134032089e+21, f(x)=3.874458268064178e+21\n",
      "n=63, x=-8.227892939357824e+21, f(x)=-1.6455785878715648e+22\n",
      "n=64, x=-8.621617466129651e+21, f(x)=-1.7243234932259302e+22\n",
      "n=65, x=-8.899081030946553e+22, f(x)=-1.7798162061893107e+23\n",
      "n=66, x=-8.979841806096355e+22, f(x)=-1.795968361219271e+23\n",
      "n=67, x=9.032321397729329e+22, f(x)=1.8064642795458658e+23\n",
      "n=68, x=-9.807563964880093e+22, f(x)=-1.9615127929760186e+23\n",
      "n=69, x=8.319294508606548e+23, f(x)=1.6638589017213096e+24\n",
      "n=70, x=-8.499053653128586e+23, f(x)=-1.6998107306257171e+24\n",
      "n=71, x=8.661729667697924e+24, f(x)=1.7323459335395849e+25\n",
      "n=72, x=2.0268562375526436e+25, f(x)=4.053712475105287e+25\n",
      "n=73, x=2.8557883959381725e+25, f(x)=5.711576791876345e+25\n",
      "n=74, x=9.373588862927034e+25, f(x)=1.8747177725854067e+26\n",
      "n=75, x=-1.0174123719140458e+26, f(x)=-2.0348247438280916e+26\n",
      "n=76, x=-1.987862531385951e+26, f(x)=-3.975725062771902e+26\n",
      "n=77, x=4.279880540050635e+26, f(x)=8.55976108010127e+26\n",
      "n=78, x=1.601057602905584e+27, f(x)=3.202115205811168e+27\n",
      "n=79, x=-1.0159852817373704e+28, f(x)=-2.031970563474741e+28\n",
      "n=80, x=-1.2748274134110744e+28, f(x)=-2.549654826822149e+28\n",
      "n=81, x=-2.3243317020681157e+28, f(x)=-4.6486634041362315e+28\n",
      "n=82, x=2.4062323605777255e+28, f(x)=4.812464721155451e+28\n",
      "n=83, x=-6.641401712027109e+28, f(x)=-1.3282803424054218e+29\n",
      "n=84, x=2.3551299948701755e+29, f(x)=4.710259989740351e+29\n",
      "n=85, x=2.0570951155312845e+31, f(x)=4.114190231062569e+31\n",
      "n=86, x=3.1401604329830406e+31, f(x)=6.280320865966081e+31\n",
      "n=87, x=-4.5930767352366325e+33, f(x)=-9.186153470473265e+33\n",
      "n=88, x=4.7143308900151456e+33, f(x)=9.428661780030291e+33\n",
      "n=89, x=5.463130147809569e+33, f(x)=1.0926260295619139e+34\n",
      "n=90, x=-6.075053239435417e+33, f(x)=-1.2150106478870833e+34\n",
      "n=91, x=-6.099282567155733e+33, f(x)=-1.2198565134311465e+34\n",
      "n=92, x=6.87147093593126e+33, f(x)=1.374294187186252e+34\n",
      "n=93, x=1.507176325996176e+34, f(x)=3.014352651992352e+34\n",
      "n=94, x=-1.6635795923952922e+34, f(x)=-3.3271591847905844e+34\n",
      "n=95, x=1.933859534095373e+34, f(x)=3.867719068190746e+34\n",
      "n=96, x=-1.2648918704436803e+35, f(x)=-2.5297837408873606e+35\n",
      "n=97, x=2.651933185535982e+36, f(x)=5.303866371071964e+36\n",
      "n=98, x=-1.209782351784626e+37, f(x)=-2.419564703569252e+37\n",
      "n=99, x=-1.2835933277131195e+37, f(x)=-2.567186655426239e+37\n",
      "n=100, x=4.302866007120727e+37, f(x)=8.605732014241454e+37\n",
      "n=101, x=4.5879391520565e+37, f(x)=9.175878304113e+37\n"
     ]
    },
    {
     "data": {
      "text/plain": [
       "(4.5879391520565e+37, 101)"
      ]
     },
     "execution_count": 10,
     "metadata": {},
     "output_type": "execute_result"
    }
   ],
   "source": [
    "newton(f1, 0.8, 1e-6, df1)   # divergence"
   ]
  },
  {
   "cell_type": "markdown",
   "id": "2676c433",
   "metadata": {},
   "source": [
    "We see that one should not use an initial guess close to a local extremum of the function."
   ]
  },
  {
   "cell_type": "markdown",
   "id": "cad6a16a",
   "metadata": {},
   "source": [
    "### [Root finding in SciPy](https://docs.scipy.org/doc/scipy/reference/optimize.html)\n",
    "\n",
    "Basic [bisection routine](https://docs.scipy.org/doc/scipy/reference/generated/scipy.optimize.bisect.html#scipy.optimize.bisect) to find a zero of the function $f$ between the arguments $a$ and $b$. $f(a)$ and $f(b)$ cannot have the same signs."
   ]
  },
  {
   "cell_type": "code",
   "execution_count": 11,
   "id": "85a5a826",
   "metadata": {},
   "outputs": [
    {
     "data": {
      "text/plain": [
       "1.0"
      ]
     },
     "execution_count": 11,
     "metadata": {},
     "output_type": "execute_result"
    }
   ],
   "source": [
    "f = lambda x: x**2 - 1\n",
    "optimize.bisect(f, 0, 2)"
   ]
  },
  {
   "cell_type": "markdown",
   "id": "69fbba2b",
   "metadata": {},
   "source": [
    "Find a zero of the function func given a nearby starting point x0. The [Newton](https://docs.scipy.org/doc/scipy/reference/generated/scipy.optimize.newton.html#scipy.optimize.newton)-Raphson method is used if the derivative fprime of func is provided, otherwise the secant method is used."
   ]
  },
  {
   "cell_type": "code",
   "execution_count": 12,
   "id": "d386c41d",
   "metadata": {},
   "outputs": [
    {
     "data": {
      "text/plain": [
       "1.0000000000000016"
      ]
     },
     "execution_count": 12,
     "metadata": {},
     "output_type": "execute_result"
    }
   ],
   "source": [
    "f = lambda x: x**3 - 1  # only one real root at x = 1\n",
    "optimize.newton(f, 1.5)"
   ]
  },
  {
   "cell_type": "code",
   "execution_count": 13,
   "id": "5f59c826",
   "metadata": {},
   "outputs": [
    {
     "data": {
      "text/plain": [
       "1.0000000000000016"
      ]
     },
     "execution_count": 13,
     "metadata": {},
     "output_type": "execute_result"
    }
   ],
   "source": [
    "optimize.newton(f, 1.5, fprime2=lambda x: 6 * x)"
   ]
  },
  {
   "cell_type": "markdown",
   "id": "4043b854",
   "metadata": {},
   "source": [
    "Let's try our example from above: "
   ]
  },
  {
   "cell_type": "code",
   "execution_count": 14,
   "id": "33d037bb",
   "metadata": {},
   "outputs": [
    {
     "data": {
      "text/plain": [
       "1.1655611852072112"
      ]
     },
     "execution_count": 14,
     "metadata": {},
     "output_type": "execute_result"
    }
   ],
   "source": [
    "optimize.newton(f1, 1, fprime2=df1)"
   ]
  },
  {
   "cell_type": "code",
   "execution_count": 15,
   "id": "b095a58d",
   "metadata": {},
   "outputs": [
    {
     "data": {
      "text/plain": [
       "-4.301335946388084e-18"
      ]
     },
     "execution_count": 15,
     "metadata": {},
     "output_type": "execute_result"
    }
   ],
   "source": [
    "optimize.newton(f1, 0.5, fprime2=df1)"
   ]
  },
  {
   "cell_type": "markdown",
   "id": "3d815e56",
   "metadata": {},
   "source": [
    "This even works for $x_0 = 0.8$, for which our Newton's method failed:"
   ]
  },
  {
   "cell_type": "code",
   "execution_count": 16,
   "id": "90bfb13c",
   "metadata": {},
   "outputs": [
    {
     "data": {
      "text/plain": [
       "-1.917499110939307e-25"
      ]
     },
     "execution_count": 16,
     "metadata": {},
     "output_type": "execute_result"
    }
   ],
   "source": [
    "optimize.newton(f1, 0.8, fprime2=df1)"
   ]
  },
  {
   "cell_type": "markdown",
   "id": "ae01987b",
   "metadata": {},
   "source": [
    "To find the roots of a polynomial, the function roots from numpy can be used. It takes as an argument the vector of coefficients of the polynomial:\n",
    "\n",
    "$p(x)=xˆ2+2x+3$"
   ]
  },
  {
   "cell_type": "code",
   "execution_count": 17,
   "id": "47733bfd",
   "metadata": {},
   "outputs": [
    {
     "data": {
      "text/plain": [
       "array([-1.+1.41421356j, -1.-1.41421356j])"
      ]
     },
     "execution_count": 17,
     "metadata": {},
     "output_type": "execute_result"
    }
   ],
   "source": [
    "np.roots([1, 2, 3])"
   ]
  },
  {
   "cell_type": "markdown",
   "id": "1d0005e3",
   "metadata": {},
   "source": [
    "$p(x)=4x^4+2x+1$"
   ]
  },
  {
   "cell_type": "code",
   "execution_count": 18,
   "id": "de023417",
   "metadata": {},
   "outputs": [
    {
     "data": {
      "text/plain": [
       "array([ 0.52610832+0.71720543j,  0.52610832-0.71720543j,\n",
       "       -0.52610832+0.19798058j, -0.52610832-0.19798058j])"
      ]
     },
     "execution_count": 18,
     "metadata": {},
     "output_type": "execute_result"
    }
   ],
   "source": [
    "np.roots([4, 0, 0, 2, 1])"
   ]
  },
  {
   "cell_type": "markdown",
   "id": "4b5458d0",
   "metadata": {},
   "source": [
    "## Systems of (nonlinear) equations: the Newton-Raphson method\n",
    "\n",
    "We want to find a zero $x_0$ of a function $f:\\mathbf{R}^n \\to \\mathbf{R}^n$. As in Newton's method, we replace $f$ by its linear approximation close to the zero $x_0$:\n",
    "\n",
    "$$f(x) \\approx f(x_0) + J(x_0) (x-x_0),$$\n",
    "\n",
    "where $J$ is the Jacobi matrix of $f$. Using $f(x_0) = 0$, solving for $x$ and iterating this yields\n",
    "\n",
    "$$x_{k+1} = x_k + \\delta x_k, \\qquad J(x_k) \\delta x_k = f(x_k).$$\n",
    "\n",
    "This linear system needs to be solved at each step of the Newton-Raphson iteration. "
   ]
  },
  {
   "cell_type": "code",
   "execution_count": 19,
   "id": "bf6c414b",
   "metadata": {},
   "outputs": [],
   "source": [
    "def newtonr(f, x0, tol, J, nmax=100):\n",
    "    \"\"\"\n",
    "    Implements the Newton-Raphson method to find a zero of a function\n",
    "    f:R^n->R^n with initial guess x0, error tolerance tol and maximum number\n",
    "    of iterations nmax is (optional). Requires the Jacobi matrix J of f.\n",
    "    \"\"\"\n",
    "    x = x0\n",
    "    dx = np.full_like(x0, 1)  # only for initialisation\n",
    "    n = 0\n",
    "    while (np.linalg.norm(dx) > tol) & (n <= nmax):\n",
    "        n = n + 1\n",
    "        Jx = J(x)\n",
    "        dx = np.linalg.solve(-Jx, f(x))\n",
    "        #dx = np.linalg.lstsq(-Jx, f(x))\n",
    "        x = x + dx\n",
    "    return x"
   ]
  },
  {
   "cell_type": "markdown",
   "id": "d291b714",
   "metadata": {},
   "source": [
    "**Example:** Intersection of a circle with radius $r=2$ around the origin and an ellipse with semi-major axes $a=3,b=2$ centred at the point (3,1). The coordinates of the circle (c) and the ellipse (e) are given in terms of the polar angle by"
   ]
  },
  {
   "cell_type": "code",
   "execution_count": 20,
   "id": "512159c9",
   "metadata": {},
   "outputs": [],
   "source": [
    "xc = lambda t: 2*np.cos(t)\n",
    "yc = lambda t: 2*np.sin(t)\n",
    "xe = lambda s: 3 + 3*np.cos(s)\n",
    "ye = lambda s: 1 + 2*np.sin(s)"
   ]
  },
  {
   "cell_type": "code",
   "execution_count": 21,
   "id": "88bc99da",
   "metadata": {},
   "outputs": [
    {
     "data": {
      "image/png": "[encoded data removed]",
      "text/plain": [
       "<Figure size 432x288 with 1 Axes>"
      ]
     },
     "metadata": {
      "needs_background": "light"
     },
     "output_type": "display_data"
    }
   ],
   "source": [
    "k=np.linspace(0, 2*np.pi, 200)\n",
    "\n",
    "fig, ax = plt.subplots()\n",
    "ax.axis('equal')\n",
    "ax.plot(xc(k), yc(k))\n",
    "ax.plot(xe(k), ye(k))\n",
    "plt.show()"
   ]
  },
  {
   "cell_type": "markdown",
   "id": "482166e9",
   "metadata": {},
   "source": [
    "The following system of equations needs to be solved for $t$ and $s$:\n",
    "\n",
    "$$x_c = x_e \\Leftrightarrow 2 \\cos t - 3 - 3 \\cos s = 0\\\\\n",
    "y_c = y_e \\Leftrightarrow 2 \\sin t - 1 - 2 \\sin s = 0$$"
   ]
  },
  {
   "cell_type": "markdown",
   "id": "8755ef10",
   "metadata": {},
   "source": [
    "We write this as as $f(T) = 0$ with $f:\\mathbf{R}^2\\to \\mathbf{R}^2$ and $T = (t,s)^T.$ The components of $f$ and the Jacobi matrix $J$ are"
   ]
  },
  {
   "cell_type": "code",
   "execution_count": 22,
   "id": "a91e5ab2",
   "metadata": {},
   "outputs": [],
   "source": [
    "f = lambda T: np.array([2*np.cos(T[0]) - 3 - 3*np.cos(T[1]), 2*np.sin(T[0]) - 1 - 2*np.sin(T[1])])\n",
    "J = lambda T: np.array([[-2*np.sin(T[0]), 3*np.sin(T[1])], [2*np.cos(T[1]), -2*np.cos(T[1])]])"
   ]
  },
  {
   "cell_type": "markdown",
   "id": "e59c956d",
   "metadata": {},
   "source": [
    "We invoke the Newton-Raphson method to find one of the intersections, using an initial guess $x_0 = (1,3)^T:$"
   ]
  },
  {
   "cell_type": "code",
   "execution_count": 23,
   "id": "5092e965",
   "metadata": {},
   "outputs": [
    {
     "data": {
      "text/plain": [
       "array([51.68737843, 64.8110887 ])"
      ]
     },
     "execution_count": 23,
     "metadata": {},
     "output_type": "execute_result"
    }
   ],
   "source": [
    "Ta = newtonr(f, np.array([1, 3]), 1e-9, J)\n",
    "Ta"
   ]
  },
  {
   "cell_type": "markdown",
   "id": "9ae9e0fe",
   "metadata": {},
   "source": [
    "Finally we determine the Cartesian coordinates of the intersection by inserting $t=T$ into the equation for the circle (or equivalently, the ellipse):"
   ]
  },
  {
   "cell_type": "code",
   "execution_count": 24,
   "id": "a12aba2a",
   "metadata": {},
   "outputs": [],
   "source": [
    "xa = xc(Ta[0])\n",
    "ya = yc(Ta[0])"
   ]
  },
  {
   "cell_type": "code",
   "execution_count": 25,
   "id": "20d749d7",
   "metadata": {},
   "outputs": [
    {
     "data": {
      "image/png": "[encoded data removed]",
      "text/plain": [
       "<Figure size 432x288 with 1 Axes>"
      ]
     },
     "metadata": {
      "needs_background": "light"
     },
     "output_type": "display_data"
    }
   ],
   "source": [
    "fig, ax = plt.subplots()\n",
    "ax.axis('equal')\n",
    "ax.plot(xc(k), yc(k))\n",
    "ax.plot(xe(k), ye(k))\n",
    "ax.scatter(xa, ya)\n",
    "plt.show()"
   ]
  },
  {
   "cell_type": "markdown",
   "id": "89bc984d",
   "metadata": {},
   "source": [
    "For a different initial guess $x_0 = (0,4)^T$ we obtain the other intersection as well:"
   ]
  },
  {
   "cell_type": "code",
   "execution_count": 40,
   "id": "f3c9f88c",
   "metadata": {},
   "outputs": [
    {
     "data": {
      "text/plain": [
       "array([81.50530821, 50.75235833])"
      ]
     },
     "execution_count": 40,
     "metadata": {},
     "output_type": "execute_result"
    }
   ],
   "source": [
    "Tb = newtonr(f, [5, 4], 1e-9, J)\n",
    "Tb"
   ]
  },
  {
   "cell_type": "code",
   "execution_count": 38,
   "id": "445c7a5b",
   "metadata": {},
   "outputs": [],
   "source": [
    "xb = xc(Tb[0])\n",
    "yb = yc(Tb[0])"
   ]
  },
  {
   "cell_type": "code",
   "execution_count": 39,
   "id": "b93fc77a",
   "metadata": {},
   "outputs": [
    {
     "data": {
      "image/png": "[encoded data removed]",
      "text/plain": [
       "<Figure size 432x288 with 1 Axes>"
      ]
     },
     "metadata": {
      "needs_background": "light"
     },
     "output_type": "display_data"
    }
   ],
   "source": [
    "k=np.linspace(0, 2*np.pi-.5, 200)\n",
    "fig, ax = plt.subplots()\n",
    "ax.axis('equal')\n",
    "ax.plot(xc(k), yc(k))\n",
    "ax.plot(xe(k), ye(k))\n",
    "ax.scatter(xa, ya)\n",
    "ax.scatter(xb, yb)\n",
    "plt.show()"
   ]
  },
  {
   "cell_type": "code",
   "execution_count": null,
   "id": "c7da151a",
   "metadata": {},
   "outputs": [],
   "source": []
  }
 ],
 "metadata": {
  "kernelspec": {
   "display_name": "Python 3.9.7 (math-so)",
   "language": "python",
   "name": "math-so"
  },
  "language_info": {
   "codemirror_mode": {
    "name": "ipython",
    "version": 3
   },
   "file_extension": ".py",
   "mimetype": "text/x-python",
   "name": "python",
   "nbconvert_exporter": "python",
   "pygments_lexer": "ipython3",
   "version": "3.9.7"
  },
  "latex_envs": {
   "LaTeX_envs_menu_present": true,
   "autoclose": false,
   "autocomplete": true,
   "bibliofile": "biblio.bib",
   "cite_by": "apalike",
   "current_citInitial": 1,
   "eqLabelWithNumbers": true,
   "eqNumInitial": 1,
   "hotkeys": {
    "equation": "Ctrl-E",
    "itemize": "Ctrl-I"
   },
   "labels_anchors": false,
   "latex_user_defs": false,
   "report_style_numbering": true,
   "user_envs_cfg": false
  }
 },
 "nbformat": 4,
 "nbformat_minor": 5
}
